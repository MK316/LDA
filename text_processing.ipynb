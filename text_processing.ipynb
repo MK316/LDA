{
  "nbformat": 4,
  "nbformat_minor": 0,
  "metadata": {
    "colab": {
      "name": "text processing.ipynb",
      "provenance": [],
      "authorship_tag": "ABX9TyPvt2hbDSf90HN4db5rZIJp",
      "include_colab_link": true
    },
    "kernelspec": {
      "name": "python3",
      "display_name": "Python 3"
    },
    "language_info": {
      "name": "python"
    }
  },
  "cells": [
    {
      "cell_type": "markdown",
      "metadata": {
        "id": "view-in-github",
        "colab_type": "text"
      },
      "source": [
        "<a href=\"https://colab.research.google.com/github/hsnam95/my/blob/main/text_processing.ipynb\" target=\"_parent\"><img src=\"https://colab.research.google.com/assets/colab-badge.svg\" alt=\"Open In Colab\"/></a>"
      ]
    },
    {
      "cell_type": "code",
      "metadata": {
        "id": "gwovXhdLsM1M"
      },
      "source": [
        "from google.colab import files\n",
        "uploaded = files.upload()"
      ],
      "execution_count": null,
      "outputs": []
    },
    {
      "cell_type": "code",
      "metadata": {
        "id": "JA8yoJk8sWdt"
      },
      "source": [
        "file_name = '프렌즈(미국드라마) 전시즈 Season01_Script.txt'\n",
        "\n",
        "text = uploaded[file_name].decode(\"iso-8859-1\").split('\\r')\n",
        "\n",
        "import re\n",
        "sent_tok = []\n",
        "for r in text:\n",
        "  pattern = '(?<=: ).+(?=[\\.|\\?|\\!])'\n",
        "  x = re.search(pattern, r)\n",
        "  if x != None:\n",
        "    sent_tok.append(x.group())\n",
        "\n",
        "str = '\\r'\n",
        "paragraph = str.join(sent_tok)\n",
        "\n",
        "with open(\"example.txt\", \"w\") as text_file:\n",
        "    print(paragraph, file=text_file)\n",
        "\n",
        "files.download('example.txt')"
      ],
      "execution_count": null,
      "outputs": []
    }
  ]
}