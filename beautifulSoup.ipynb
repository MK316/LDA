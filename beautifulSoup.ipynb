{
  "nbformat": 4,
  "nbformat_minor": 0,
  "metadata": {
    "colab": {
      "provenance": [],
      "authorship_tag": "ABX9TyM+EzFzriGMm5t51kgWMMyx",
      "include_colab_link": true
    },
    "kernelspec": {
      "name": "python3",
      "display_name": "Python 3"
    },
    "language_info": {
      "name": "python"
    }
  },
  "cells": [
    {
      "cell_type": "markdown",
      "metadata": {
        "id": "view-in-github",
        "colab_type": "text"
      },
      "source": [
        "<a href=\"https://colab.research.google.com/github/hsnam95/my/blob/main/beautifulSoup.ipynb\" target=\"_parent\"><img src=\"https://colab.research.google.com/assets/colab-badge.svg\" alt=\"Open In Colab\"/></a>"
      ]
    },
    {
      "cell_type": "code",
      "source": [
        "from bs4 import BeautifulSoup"
      ],
      "metadata": {
        "id": "v4iQWi-OS0RT"
      },
      "execution_count": 1,
      "outputs": []
    },
    {
      "cell_type": "code",
      "execution_count": 5,
      "metadata": {
        "colab": {
          "base_uri": "https://localhost:8080/"
        },
        "id": "-5xixWrqSlMY",
        "outputId": "317b58cf-b2d8-493f-b5d3-0e9776d3d9e1"
      },
      "outputs": [
        {
          "output_type": "execute_result",
          "data": {
            "text/plain": [
              "<p class=\"youngone\" id=\"junu\"> Hello World! </p>"
            ]
          },
          "metadata": {},
          "execution_count": 5
        }
      ],
      "source": [
        "tag = \"<p class='youngone' id='junu'> Hello World! </p>\"\n",
        "soup = BeautifulSoup(tag) \n",
        "\n",
        "# 태그 이름만 특정\n",
        "soup.find('p')\n",
        "# 태그 속성만 특정\n",
        "soup.find(class_='youngone')\n",
        "soup.find(attrs = {'class':'youngone'})\n",
        "# 태그 이름과 속성 모두 특정\n",
        "soup.find('p', class_='youngone')"
      ]
    },
    {
      "cell_type": "code",
      "source": [
        "tag = \"<p class='youngone' id='junu'> Hello World! </p>\"\n",
        "soup = BeautifulSoup(tag) \n",
        "object_tag = soup.find('p')\n",
        "\n",
        "#태그의 이름\n",
        "object_tag.name\n",
        "#결과: 'p'\n",
        "\n",
        "#태그에 담긴 텍스트\n",
        "object_tag.text\n",
        "#결과: ' Hello World! '\n",
        "\n",
        "#태그의 속성과 속성값\n",
        "object_tag.attrs\n",
        "#결과: {'class': ['youngone'], 'id': 'junu'}"
      ],
      "metadata": {
        "colab": {
          "base_uri": "https://localhost:8080/"
        },
        "id": "6XrDZlQfSpKR",
        "outputId": "46682296-55ac-49ac-e8cd-de1a49df4859"
      },
      "execution_count": 6,
      "outputs": [
        {
          "output_type": "execute_result",
          "data": {
            "text/plain": [
              "{'class': ['youngone'], 'id': 'junu'}"
            ]
          },
          "metadata": {},
          "execution_count": 6
        }
      ]
    },
    {
      "cell_type": "code",
      "source": [
        "# 태그 이름만 특정\n",
        "soup.select_one('p')\n",
        "# 태그 class 특정\n",
        "soup.select_one('.youngone')\n",
        "# 태그 이름과 class 모두 특정\n",
        "soup.select_one('p.youngone')\n",
        "# 태그 id 특정\n",
        "soup.select_one('#junu')\n",
        "# 태그 이름과 id 모두 특정\n",
        "soup.select_one('p#junu')\n",
        "# 태그 이름과 class, id 모두 특정\n",
        "soup.select_one('p.youngone#junu')"
      ],
      "metadata": {
        "id": "JjNYASPTSpxI"
      },
      "execution_count": 4,
      "outputs": []
    },
    {
      "cell_type": "code",
      "source": [
        "#find\n",
        "soup.find('div').find('p')\n",
        "#select\n",
        "soup.select_one('div > p')"
      ],
      "metadata": {
        "id": "E7I9wfisSuWJ"
      },
      "execution_count": null,
      "outputs": []
    }
  ]
}