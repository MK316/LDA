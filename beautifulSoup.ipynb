{
  "nbformat": 4,
  "nbformat_minor": 0,
  "metadata": {
    "colab": {
      "provenance": [],
      "authorship_tag": "ABX9TyOxXuiGI7RWfm1y6unevxi1",
      "include_colab_link": true
    },
    "kernelspec": {
      "name": "python3",
      "display_name": "Python 3"
    },
    "language_info": {
      "name": "python"
    }
  },
  "cells": [
    {
      "cell_type": "markdown",
      "metadata": {
        "id": "view-in-github",
        "colab_type": "text"
      },
      "source": [
        "<a href=\"https://colab.research.google.com/github/hsnam95/my/blob/main/beautifulSoup.ipynb\" target=\"_parent\"><img src=\"https://colab.research.google.com/assets/colab-badge.svg\" alt=\"Open In Colab\"/></a>"
      ]
    },
    {
      "cell_type": "code",
      "source": [
        "from bs4 import BeautifulSoup"
      ],
      "metadata": {
        "id": "v4iQWi-OS0RT"
      },
      "execution_count": 8,
      "outputs": []
    },
    {
      "cell_type": "code",
      "execution_count": null,
      "metadata": {
        "colab": {
          "base_uri": "https://localhost:8080/"
        },
        "id": "-5xixWrqSlMY",
        "outputId": "317b58cf-b2d8-493f-b5d3-0e9776d3d9e1"
      },
      "outputs": [
        {
          "output_type": "execute_result",
          "data": {
            "text/plain": [
              "<p class=\"youngone\" id=\"junu\"> Hello World! </p>"
            ]
          },
          "metadata": {},
          "execution_count": 5
        }
      ],
      "source": [
        "tag = \"<p class='youngone' id='junu'> Hello World! </p>\"\n",
        "soup = BeautifulSoup(tag) \n",
        "\n",
        "# 태그 이름만 특정\n",
        "soup.find('p')\n",
        "# 태그 속성만 특정\n",
        "soup.find(class_='youngone')\n",
        "soup.find(attrs = {'class':'youngone'})\n",
        "# 태그 이름과 속성 모두 특정\n",
        "soup.find('p', class_='youngone')"
      ]
    },
    {
      "cell_type": "code",
      "source": [
        "tag = \"<p class='youngone' id='junu'> Hello World! </p>\"\n",
        "soup = BeautifulSoup(tag) \n",
        "object_tag = soup.find('p')\n",
        "\n",
        "#태그의 이름\n",
        "object_tag.name\n",
        "#결과: 'p'\n",
        "\n",
        "#태그에 담긴 텍스트\n",
        "object_tag.text\n",
        "#결과: ' Hello World! '\n",
        "\n",
        "#태그의 속성과 속성값\n",
        "object_tag.attrs\n",
        "#결과: {'class': ['youngone'], 'id': 'junu'}"
      ],
      "metadata": {
        "colab": {
          "base_uri": "https://localhost:8080/"
        },
        "id": "6XrDZlQfSpKR",
        "outputId": "46682296-55ac-49ac-e8cd-de1a49df4859"
      },
      "execution_count": null,
      "outputs": [
        {
          "output_type": "execute_result",
          "data": {
            "text/plain": [
              "{'class': ['youngone'], 'id': 'junu'}"
            ]
          },
          "metadata": {},
          "execution_count": 6
        }
      ]
    },
    {
      "cell_type": "code",
      "source": [
        "# 태그 이름만 특정\n",
        "soup.select_one('p')\n",
        "# 태그 class 특정\n",
        "soup.select_one('.youngone')\n",
        "# 태그 이름과 class 모두 특정\n",
        "soup.select_one('p.youngone')\n",
        "# 태그 id 특정\n",
        "soup.select_one('#junu')\n",
        "# 태그 이름과 id 모두 특정\n",
        "soup.select_one('p#junu')\n",
        "# 태그 이름과 class, id 모두 특정\n",
        "soup.select_one('p.youngone#junu')"
      ],
      "metadata": {
        "id": "JjNYASPTSpxI"
      },
      "execution_count": null,
      "outputs": []
    },
    {
      "cell_type": "code",
      "source": [
        "#find\n",
        "soup.find('div').find('p')\n",
        "#select\n",
        "soup.select_one('div > p')"
      ],
      "metadata": {
        "id": "E7I9wfisSuWJ"
      },
      "execution_count": null,
      "outputs": []
    },
    {
      "cell_type": "markdown",
      "source": [
        "## 예제"
      ],
      "metadata": {
        "id": "ou3s--MrPzPv"
      }
    },
    {
      "cell_type": "markdown",
      "source": [
        "페이지 불러오기\n",
        "실습에 필요한 HTML 문서와 soup 객체를 준비합니다."
      ],
      "metadata": {
        "id": "lUsUsoV5QUNI"
      }
    },
    {
      "cell_type": "code",
      "source": [
        "# 라이브러리를 불러옵니다.\n",
        "import requests\n",
        "from bs4 import BeautifulSoup\n",
        "# 페이지를 받아와 soup 객체로 만듭니다.\n",
        "url = \"https://en.wikipedia.org/wiki/Benedict_Cumberbatch\"\n",
        "html = requests.get(url)\n",
        "soup = BeautifulSoup(html.text, 'html.parser')\n",
        "soup"
      ],
      "metadata": {
        "id": "DriIMokBPyuK"
      },
      "execution_count": null,
      "outputs": []
    },
    {
      "cell_type": "markdown",
      "source": [
        "1. select()와 CSS selectors"
      ],
      "metadata": {
        "id": "-FLc8K-wQXt1"
      }
    },
    {
      "cell_type": "code",
      "source": [
        "soup.select('h1')"
      ],
      "metadata": {
        "id": "Kyw76Ed_P_D5",
        "outputId": "589635c9-39a2-4c54-8c5f-6d4e8915f230",
        "colab": {
          "base_uri": "https://localhost:8080/"
        }
      },
      "execution_count": 16,
      "outputs": [
        {
          "output_type": "execute_result",
          "data": {
            "text/plain": [
              "[<h1 class=\"firstHeading mw-first-heading\" id=\"firstHeading\"><span class=\"mw-page-title-main\">Benedict Cumberbatch</span></h1>]"
            ]
          },
          "metadata": {},
          "execution_count": 16
        }
      ]
    },
    {
      "cell_type": "code",
      "source": [
        "soup.select('title')"
      ],
      "metadata": {
        "id": "Nn8-Bep5QqhP",
        "outputId": "616d21d1-f854-49ac-8e37-5aeaa4a6f6e2",
        "colab": {
          "base_uri": "https://localhost:8080/"
        }
      },
      "execution_count": 17,
      "outputs": [
        {
          "output_type": "execute_result",
          "data": {
            "text/plain": [
              "[<title>Benedict Cumberbatch - Wikipedia</title>]"
            ]
          },
          "metadata": {},
          "execution_count": 17
        }
      ]
    },
    {
      "cell_type": "markdown",
      "source": [
        "2. 자손 태그 찾기"
      ],
      "metadata": {
        "id": "-A83L35iRadv"
      }
    },
    {
      "cell_type": "code",
      "source": [
        "soup.select('body a')"
      ],
      "metadata": {
        "id": "gfDJHmoUQsof"
      },
      "execution_count": null,
      "outputs": []
    },
    {
      "cell_type": "code",
      "source": [
        "soup.select('html head title')"
      ],
      "metadata": {
        "id": "iQ9RL8dIQ3aA",
        "outputId": "c15c7f5f-c737-4d53-ad57-bfc6f7827e31",
        "colab": {
          "base_uri": "https://localhost:8080/"
        }
      },
      "execution_count": 20,
      "outputs": [
        {
          "output_type": "execute_result",
          "data": {
            "text/plain": [
              "[<title>Benedict Cumberbatch - Wikipedia</title>]"
            ]
          },
          "metadata": {},
          "execution_count": 20
        }
      ]
    },
    {
      "cell_type": "markdown",
      "source": [
        "3. 자식 태그 찾기"
      ],
      "metadata": {
        "id": "JDKrvEcHRbQg"
      }
    },
    {
      "cell_type": "code",
      "source": [
        "soup.select('body p > a')"
      ],
      "metadata": {
        "id": "LRFHKCBtQ4ds"
      },
      "execution_count": null,
      "outputs": []
    },
    {
      "cell_type": "code",
      "source": [
        "soup.select('head > title')"
      ],
      "metadata": {
        "id": "T1LJ-oiTQ5rE",
        "outputId": "58301115-2e25-441c-b9e2-0f295dae235f",
        "colab": {
          "base_uri": "https://localhost:8080/"
        }
      },
      "execution_count": 24,
      "outputs": [
        {
          "output_type": "execute_result",
          "data": {
            "text/plain": [
              "[<title>Benedict Cumberbatch - Wikipedia</title>]"
            ]
          },
          "metadata": {},
          "execution_count": 24
        }
      ]
    },
    {
      "cell_type": "markdown",
      "source": [
        "4. css 클래스(class)로 태그 찾기"
      ],
      "metadata": {
        "id": "2vCz6GnYRgNb"
      }
    },
    {
      "cell_type": "code",
      "source": [
        "soup.select('.infobox')"
      ],
      "metadata": {
        "id": "4mlnPe9BRAcR"
      },
      "execution_count": null,
      "outputs": []
    },
    {
      "cell_type": "code",
      "source": [
        "soup.select('.infobox.biography.vcard')"
      ],
      "metadata": {
        "id": "eWJEl_xZRe5-"
      },
      "execution_count": null,
      "outputs": []
    },
    {
      "cell_type": "markdown",
      "source": [
        "5. css 아이디(id)로 태그 찾기\n"
      ],
      "metadata": {
        "id": "-mni945BRhM8"
      }
    },
    {
      "cell_type": "code",
      "source": [
        "soup.select('#bodyContent')"
      ],
      "metadata": {
        "id": "-QV6XkMGRGRL"
      },
      "execution_count": null,
      "outputs": []
    },
    {
      "cell_type": "code",
      "source": [
        "soup.select('div#bodyContent')"
      ],
      "metadata": {
        "id": "jiiVG0_sRriJ"
      },
      "execution_count": null,
      "outputs": []
    },
    {
      "cell_type": "markdown",
      "source": [
        "6. 속성(attribute) 값을 이용해서 태그 찾기"
      ],
      "metadata": {
        "id": "zhvI8nfARh3q"
      }
    },
    {
      "cell_type": "code",
      "source": [
        "soup.select('a[href]')"
      ],
      "metadata": {
        "id": "TJOdAKjCRG9b"
      },
      "execution_count": null,
      "outputs": []
    },
    {
      "cell_type": "code",
      "source": [
        "soup.select('#bodyContent a[href]')"
      ],
      "metadata": {
        "id": "LVc6XmaCRsg4"
      },
      "execution_count": null,
      "outputs": []
    }
  ]
}