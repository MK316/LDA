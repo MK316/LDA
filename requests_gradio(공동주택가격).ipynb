{
  "nbformat": 4,
  "nbformat_minor": 0,
  "metadata": {
    "colab": {
      "name": "requests_gradio.ipynb",
      "provenance": [],
      "authorship_tag": "ABX9TyPWgnN+Elzdxtr6PLjLjdOy",
      "include_colab_link": true
    },
    "kernelspec": {
      "name": "python3",
      "display_name": "Python 3"
    },
    "language_info": {
      "name": "python"
    }
  },
  "cells": [
    {
      "cell_type": "markdown",
      "metadata": {
        "id": "view-in-github",
        "colab_type": "text"
      },
      "source": [
        "<a href=\"https://colab.research.google.com/github/hsnam95/my/blob/main/requests_gradio(%EA%B3%B5%EB%8F%99%EC%A3%BC%ED%83%9D%EA%B0%80%EA%B2%A9).ipynb\" target=\"_parent\"><img src=\"https://colab.research.google.com/assets/colab-badge.svg\" alt=\"Open In Colab\"/></a>"
      ]
    },
    {
      "cell_type": "code",
      "source": [
        "!pip install gradio\n",
        "import gradio as gr\n",
        "import requests\n",
        "import pandas as pd\n",
        "\n",
        "# !pip install xmltodict\n",
        "import json\n",
        "import xmltodict"
      ],
      "metadata": {
        "id": "8eZHGJhmqd9a"
      },
      "execution_count": null,
      "outputs": []
    },
    {
      "cell_type": "code",
      "source": [
        "URL = ('http://openapi.molit.go.kr:8081/OpenAPI_ToolInstallPackage/service/rest/RTMSOBJSvc/getRTMSDataSvcAptTrade?LAWD_CD=11290&DEAL_YMD=202209&serviceKey=miH%2BZXg85lQy4%2FkmhffvygXDIFiTwisriSLxtyECSzw6hxTVK7yI8QKIOc7mP7LEqCnhBGuj6iW1gZW65dum7A%3D%3D')\n",
        "response = requests.get(URL)"
      ],
      "metadata": {
        "id": "lHHEwqpyJF7r"
      },
      "execution_count": null,
      "outputs": []
    },
    {
      "cell_type": "code",
      "source": [
        "data_dict = xmltodict.parse(response.content)\n",
        "json_txt = json.dumps(data_dict)\n",
        "r = json.loads(json_txt)\n",
        "r"
      ],
      "metadata": {
        "id": "tV6YoUcsdN8c"
      },
      "execution_count": null,
      "outputs": []
    },
    {
      "cell_type": "code",
      "source": [
        "item = r['response']['body']['items']['item']\n",
        "item[0]"
      ],
      "metadata": {
        "id": "AXxaFHiM-vUU"
      },
      "execution_count": null,
      "outputs": []
    },
    {
      "cell_type": "code",
      "source": [
        "price = [x['거래금액'] for x in item]\n",
        "kind = [x['거래유형'] for x in item]\n",
        "old = [x['건축년도'] for x in item]\n",
        "year= [x['년'] for x in item]\n",
        "dong = [x['법정동'] for x in item]\n",
        "name = [x['아파트'] for x in item]\n",
        "month = [x['월'] for x in item]\n",
        "day = [x['일'] for x in item]\n",
        "area = [x['전용면적'] for x in item]\n",
        "gu = [x['중개사소재지'] for x in item]\n",
        "gibun = [x['지번'] for x in item]\n",
        "postal = [x['지역코드'] for x in item]\n",
        "floor = [x['층'] for x in item]\n",
        "clearday = [x['해제사유발생일'] for x in item]\n",
        "clearYN= [x['해제여부'] for x in item]\n",
        "\n",
        "price = pd.Series(price)\n",
        "kind = pd.Series(kind)\n",
        "old = pd.Series(old)\n",
        "year = pd.Series(year)\n",
        "dong = pd.Series(dong)\n",
        "name = pd.Series(name)\n",
        "month = pd.Series(month)\n",
        "day = pd.Series(day)\n",
        "area = pd.Series(area)\n",
        "gu = pd.Series(gu)\n",
        "gibun = pd.Series(gibun)\n",
        "postal = pd.Series(postal)\n",
        "floor = pd.Series(floor)\n",
        "clearday = pd.Series(clearday)\n",
        "clearYN = pd.Series(clearYN)\n",
        "\n",
        "df = pd.DataFrame({ '거래금액': price, '거래유형': kind, '건축년도': old, '년': year, '법정동': dong, '아파트': name, '월': month, '일': day, '전용면적': area, '중개사소재지': gu, '지번': gibun, '지역코드': postal, '층': floor, '해제사유발생일': clearday, '해제여부': clearYN})"
      ],
      "metadata": {
        "id": "yXcd9DGPCxHu"
      },
      "execution_count": 86,
      "outputs": []
    },
    {
      "cell_type": "code",
      "source": [
        "df"
      ],
      "metadata": {
        "id": "U29JlEyvHw9y"
      },
      "execution_count": null,
      "outputs": []
    },
    {
      "cell_type": "code",
      "source": [
        "def test(input1, input2):\n",
        "  URL = ('http://openapi.molit.go.kr:8081/OpenAPI_ToolInstallPackage/service/rest/RTMSOBJSvc/getRTMSDataSvcAptTrade?LAWD_CD=' + input1 + '&DEAL_YMD=' + input2 + '&serviceKey=miH%2BZXg85lQy4%2FkmhffvygXDIFiTwisriSLxtyECSzw6hxTVK7yI8QKIOc7mP7LEqCnhBGuj6iW1gZW65dum7A%3D%3D')\n",
        "\n",
        "  response = requests.get(URL)  \n",
        "  data_dict = xmltodict.parse(response.content)\n",
        "  json_txt = json.dumps(data_dict)\n",
        "  r = json.loads(json_txt)\n",
        "  item = r['response']['body']['items']['item']\n",
        "\n",
        "  price = [x['거래금액'] for x in item]\n",
        "  kind = [x['거래유형'] for x in item]\n",
        "  old = [x['건축년도'] for x in item]\n",
        "  year= [x['년'] for x in item]\n",
        "  dong = [x['법정동'] for x in item]\n",
        "  name = [x['아파트'] for x in item]\n",
        "  month = [x['월'] for x in item]\n",
        "  day = [x['일'] for x in item]\n",
        "  area = [x['전용면적'] for x in item]\n",
        "  gu = [x['중개사소재지'] for x in item]\n",
        "  gibun = [x['지번'] for x in item]\n",
        "  postal = [x['지역코드'] for x in item]\n",
        "  floor = [x['층'] for x in item]\n",
        "  clearday = [x['해제사유발생일'] for x in item]\n",
        "  clearYN= [x['해제여부'] for x in item]\n",
        "\n",
        "  price = pd.Series(price)\n",
        "  kind = pd.Series(kind)\n",
        "  old = pd.Series(old)\n",
        "  year = pd.Series(year)\n",
        "  dong = pd.Series(dong)\n",
        "  name = pd.Series(name)\n",
        "  month = pd.Series(month)\n",
        "  day = pd.Series(day)\n",
        "  area = pd.Series(area)\n",
        "  gu = pd.Series(gu)\n",
        "  gibun = pd.Series(gibun)\n",
        "  postal = pd.Series(postal)\n",
        "  floor = pd.Series(floor)\n",
        "  clearday = pd.Series(clearday)\n",
        "  clearYN = pd.Series(clearYN)\n",
        "\n",
        "  df = pd.DataFrame({ '거래금액': price, '거래유형': kind, '건축년도': old, '년': year, '법정동': dong, '아파트': name, '월': month, '일': day, '전용면적': area, '중개사소재지': gu, '지번': gibun, '지역코드': postal, '층': floor, '해제사유발생일': clearday, '해제여부': clearYN})\n",
        "\n",
        "  return df"
      ],
      "metadata": {
        "id": "Us2EzLwiH9uV"
      },
      "execution_count": 88,
      "outputs": []
    },
    {
      "cell_type": "code",
      "source": [
        "iface = gr.Interface(test, inputs = ['text', 'text'], outputs='dataframe')\n",
        "iface.launch(debug=True)"
      ],
      "metadata": {
        "id": "26mN5joLIq6y",
        "outputId": "47e31a09-30d8-4f6d-bc0f-fb8fb9e911f1",
        "colab": {
          "base_uri": "https://localhost:8080/",
          "height": 1000
        }
      },
      "execution_count": null,
      "outputs": [
        {
          "metadata": {
            "tags": null
          },
          "name": "stdout",
          "output_type": "stream",
          "text": [
            "Colab notebook detected. This cell will run indefinitely so that you can see errors and logs. To turn off, set debug=False in launch().\n",
            "Running on public URL: https://c2f9ce50b6bbb639.gradio.app\n",
            "\n",
            "This share link expires in 72 hours. For free permanent hosting and GPU upgrades (NEW!), check out Spaces: https://huggingface.co/spaces\n"
          ]
        },
        {
          "data": {
            "text/html": [
              "<div><iframe src=\"https://c2f9ce50b6bbb639.gradio.app\" width=\"900\" height=\"500\" allow=\"autoplay; camera; microphone; clipboard-read; clipboard-write;\" frameborder=\"0\" allowfullscreen></iframe></div>"
            ],
            "text/plain": [
              "<IPython.core.display.HTML object>"
            ]
          },
          "metadata": {},
          "output_type": "display_data"
        },
        {
          "metadata": {
            "tags": null
          },
          "name": "stderr",
          "output_type": "stream",
          "text": [
            "Traceback (most recent call last):\n",
            "  File \"/usr/local/lib/python3.7/dist-packages/gradio/routes.py\", line 299, in run_predict\n",
            "    fn_index, raw_input, username, session_state, iterators\n",
            "  File \"/usr/local/lib/python3.7/dist-packages/gradio/blocks.py\", line 790, in process_api\n",
            "    result = await self.call_function(fn_index, inputs, iterator)\n",
            "  File \"/usr/local/lib/python3.7/dist-packages/gradio/blocks.py\", line 698, in call_function\n",
            "    block_fn.fn, *processed_input, limiter=self.limiter\n",
            "  File \"/usr/local/lib/python3.7/dist-packages/anyio/to_thread.py\", line 32, in run_sync\n",
            "    func, *args, cancellable=cancellable, limiter=limiter\n",
            "  File \"/usr/local/lib/python3.7/dist-packages/anyio/_backends/_asyncio.py\", line 937, in run_sync_in_worker_thread\n",
            "    return await future\n",
            "  File \"/usr/local/lib/python3.7/dist-packages/anyio/_backends/_asyncio.py\", line 867, in run\n",
            "    result = context.run(func, *args)\n",
            "  File \"<ipython-input-88-3641d09b0cae>\", line 8, in test\n",
            "    item = r['response']['body']['items']['item']\n",
            "TypeError: 'NoneType' object is not subscriptable\n",
            "Traceback (most recent call last):\n",
            "  File \"/usr/local/lib/python3.7/dist-packages/gradio/routes.py\", line 299, in run_predict\n",
            "    fn_index, raw_input, username, session_state, iterators\n",
            "  File \"/usr/local/lib/python3.7/dist-packages/gradio/blocks.py\", line 790, in process_api\n",
            "    result = await self.call_function(fn_index, inputs, iterator)\n",
            "  File \"/usr/local/lib/python3.7/dist-packages/gradio/blocks.py\", line 698, in call_function\n",
            "    block_fn.fn, *processed_input, limiter=self.limiter\n",
            "  File \"/usr/local/lib/python3.7/dist-packages/anyio/to_thread.py\", line 32, in run_sync\n",
            "    func, *args, cancellable=cancellable, limiter=limiter\n",
            "  File \"/usr/local/lib/python3.7/dist-packages/anyio/_backends/_asyncio.py\", line 937, in run_sync_in_worker_thread\n",
            "    return await future\n",
            "  File \"/usr/local/lib/python3.7/dist-packages/anyio/_backends/_asyncio.py\", line 867, in run\n",
            "    result = context.run(func, *args)\n",
            "  File \"<ipython-input-88-3641d09b0cae>\", line 8, in test\n",
            "    item = r['response']['body']['items']['item']\n",
            "TypeError: 'NoneType' object is not subscriptable\n",
            "Traceback (most recent call last):\n",
            "  File \"/usr/local/lib/python3.7/dist-packages/gradio/routes.py\", line 299, in run_predict\n",
            "    fn_index, raw_input, username, session_state, iterators\n",
            "  File \"/usr/local/lib/python3.7/dist-packages/gradio/blocks.py\", line 790, in process_api\n",
            "    result = await self.call_function(fn_index, inputs, iterator)\n",
            "  File \"/usr/local/lib/python3.7/dist-packages/gradio/blocks.py\", line 698, in call_function\n",
            "    block_fn.fn, *processed_input, limiter=self.limiter\n",
            "  File \"/usr/local/lib/python3.7/dist-packages/anyio/to_thread.py\", line 32, in run_sync\n",
            "    func, *args, cancellable=cancellable, limiter=limiter\n",
            "  File \"/usr/local/lib/python3.7/dist-packages/anyio/_backends/_asyncio.py\", line 937, in run_sync_in_worker_thread\n",
            "    return await future\n",
            "  File \"/usr/local/lib/python3.7/dist-packages/anyio/_backends/_asyncio.py\", line 867, in run\n",
            "    result = context.run(func, *args)\n",
            "  File \"<ipython-input-88-3641d09b0cae>\", line 8, in test\n",
            "    item = r['response']['body']['items']['item']\n",
            "TypeError: 'NoneType' object is not subscriptable\n",
            "Traceback (most recent call last):\n",
            "  File \"/usr/local/lib/python3.7/dist-packages/gradio/routes.py\", line 299, in run_predict\n",
            "    fn_index, raw_input, username, session_state, iterators\n",
            "  File \"/usr/local/lib/python3.7/dist-packages/gradio/blocks.py\", line 790, in process_api\n",
            "    result = await self.call_function(fn_index, inputs, iterator)\n",
            "  File \"/usr/local/lib/python3.7/dist-packages/gradio/blocks.py\", line 698, in call_function\n",
            "    block_fn.fn, *processed_input, limiter=self.limiter\n",
            "  File \"/usr/local/lib/python3.7/dist-packages/anyio/to_thread.py\", line 32, in run_sync\n",
            "    func, *args, cancellable=cancellable, limiter=limiter\n",
            "  File \"/usr/local/lib/python3.7/dist-packages/anyio/_backends/_asyncio.py\", line 937, in run_sync_in_worker_thread\n",
            "    return await future\n",
            "  File \"/usr/local/lib/python3.7/dist-packages/anyio/_backends/_asyncio.py\", line 867, in run\n",
            "    result = context.run(func, *args)\n",
            "  File \"<ipython-input-88-3641d09b0cae>\", line 8, in test\n",
            "    item = r['response']['body']['items']['item']\n",
            "TypeError: 'NoneType' object is not subscriptable\n",
            "Traceback (most recent call last):\n",
            "  File \"/usr/local/lib/python3.7/dist-packages/gradio/routes.py\", line 299, in run_predict\n",
            "    fn_index, raw_input, username, session_state, iterators\n",
            "  File \"/usr/local/lib/python3.7/dist-packages/gradio/blocks.py\", line 790, in process_api\n",
            "    result = await self.call_function(fn_index, inputs, iterator)\n",
            "  File \"/usr/local/lib/python3.7/dist-packages/gradio/blocks.py\", line 698, in call_function\n",
            "    block_fn.fn, *processed_input, limiter=self.limiter\n",
            "  File \"/usr/local/lib/python3.7/dist-packages/anyio/to_thread.py\", line 32, in run_sync\n",
            "    func, *args, cancellable=cancellable, limiter=limiter\n",
            "  File \"/usr/local/lib/python3.7/dist-packages/anyio/_backends/_asyncio.py\", line 937, in run_sync_in_worker_thread\n",
            "    return await future\n",
            "  File \"/usr/local/lib/python3.7/dist-packages/anyio/_backends/_asyncio.py\", line 867, in run\n",
            "    result = context.run(func, *args)\n",
            "  File \"<ipython-input-88-3641d09b0cae>\", line 8, in test\n",
            "    item = r['response']['body']['items']['item']\n",
            "TypeError: 'NoneType' object is not subscriptable\n"
          ]
        }
      ]
    }
  ]
}