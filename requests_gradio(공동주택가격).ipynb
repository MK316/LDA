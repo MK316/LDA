{
  "nbformat": 4,
  "nbformat_minor": 0,
  "metadata": {
    "colab": {
      "name": "requests_gradio.ipynb",
      "provenance": [],
      "authorship_tag": "ABX9TyOX3cVRII2ts7kJC/FbqdPu",
      "include_colab_link": true
    },
    "kernelspec": {
      "name": "python3",
      "display_name": "Python 3"
    },
    "language_info": {
      "name": "python"
    }
  },
  "cells": [
    {
      "cell_type": "markdown",
      "metadata": {
        "id": "view-in-github",
        "colab_type": "text"
      },
      "source": [
        "<a href=\"https://colab.research.google.com/github/hsnam95/my/blob/main/requests_gradio(%EA%B3%B5%EB%8F%99%EC%A3%BC%ED%83%9D%EA%B0%80%EA%B2%A9).ipynb\" target=\"_parent\"><img src=\"https://colab.research.google.com/assets/colab-badge.svg\" alt=\"Open In Colab\"/></a>"
      ]
    },
    {
      "cell_type": "code",
      "source": [
        "!pip install gradio\n",
        "import gradio as gr\n",
        "import requests\n",
        "import pandas as pd"
      ],
      "metadata": {
        "id": "8eZHGJhmqd9a"
      },
      "execution_count": null,
      "outputs": []
    },
    {
      "cell_type": "code",
      "source": [
        "!pip install xmltodict\n",
        "import json\n",
        "import xmltodict"
      ],
      "metadata": {
        "id": "lzV1P_bRwPuq"
      },
      "execution_count": null,
      "outputs": []
    },
    {
      "cell_type": "code",
      "source": [
        "URL = ('http://openapi.molit.go.kr:8081/OpenAPI_ToolInstallPackage/service/rest/RTMSOBJSvc/getRTMSDataSvcAptTrade?LAWD_CD=11290&DEAL_YMD=202209&serviceKey=miH%2BZXg85lQy4%2FkmhffvygXDIFiTwisriSLxtyECSzw6hxTVK7yI8QKIOc7mP7LEqCnhBGuj6iW1gZW65dum7A%3D%3D')\n",
        "response = requests.get(URL)"
      ],
      "metadata": {
        "id": "lHHEwqpyJF7r"
      },
      "execution_count": 10,
      "outputs": []
    },
    {
      "cell_type": "code",
      "source": [
        "data_dict = xmltodict.parse(response.content)\n",
        "json_txt = json.dumps(data_dict)\n",
        "r = json.loads(json_txt)\n",
        "r"
      ],
      "metadata": {
        "id": "tV6YoUcsdN8c"
      },
      "execution_count": null,
      "outputs": []
    },
    {
      "cell_type": "code",
      "source": [
        "item = r['response']['body']['items']['item']\n",
        "item[0]"
      ],
      "metadata": {
        "id": "AXxaFHiM-vUU"
      },
      "execution_count": null,
      "outputs": []
    },
    {
      "cell_type": "code",
      "source": [
        "df = pd.DataFrame(r['response']['body']['items']['item'])\n",
        "df"
      ],
      "metadata": {
        "id": "8ll_27m1x35t"
      },
      "execution_count": null,
      "outputs": []
    },
    {
      "cell_type": "code",
      "source": [
        "def test(input1, input2):\n",
        "  URL = ('http://openapi.molit.go.kr:8081/OpenAPI_ToolInstallPackage/service/rest/RTMSOBJSvc/getRTMSDataSvcAptTrade?LAWD_CD=' + input1 + '&DEAL_YMD=' + input2 + '&serviceKey=miH%2BZXg85lQy4%2FkmhffvygXDIFiTwisriSLxtyECSzw6hxTVK7yI8QKIOc7mP7LEqCnhBGuj6iW1gZW65dum7A%3D%3D')\n",
        "\n",
        "  response = requests.get(URL)  \n",
        "  data_dict = xmltodict.parse(response.content)\n",
        "  json_txt = json.dumps(data_dict)\n",
        "  r = json.loads(json_txt)\n",
        "  item = r['response']['body']['items']['item']\n",
        "\n",
        "  df = pd.DataFrame(item)\n",
        "  return df"
      ],
      "metadata": {
        "id": "Us2EzLwiH9uV"
      },
      "execution_count": 23,
      "outputs": []
    },
    {
      "cell_type": "code",
      "source": [
        "def mtest(input1, input2):\n",
        "\n",
        "  input2s = input2.split()\n",
        "\n",
        "  df = []\n",
        "  for x in input2s:\n",
        "\n",
        "    URL = ('http://openapi.molit.go.kr:8081/OpenAPI_ToolInstallPackage/service/rest/RTMSOBJSvc/getRTMSDataSvcAptTrade?LAWD_CD=' + input1 + '&DEAL_YMD=' + x + '&serviceKey=miH%2BZXg85lQy4%2FkmhffvygXDIFiTwisriSLxtyECSzw6hxTVK7yI8QKIOc7mP7LEqCnhBGuj6iW1gZW65dum7A%3D%3D')\n",
        "\n",
        "    response = requests.get(URL)  \n",
        "    data_dict = xmltodict.parse(response.content)\n",
        "    json_txt = json.dumps(data_dict)\n",
        "    r = json.loads(json_txt)\n",
        "    item = r['response']['body']['items']['item']\n",
        "\n",
        "    if len(df)==0:\n",
        "      df = pd.DataFrame(item)\n",
        "    else:\n",
        "      df = pd.concat([df, pd.DataFrame(item)], axis=0) \n",
        "\n",
        "  return df"
      ],
      "metadata": {
        "id": "hokbgksi-pJ_"
      },
      "execution_count": 49,
      "outputs": []
    },
    {
      "cell_type": "code",
      "source": [
        "df1 = test('11110', '202201')\n",
        "df2 = test('11110', '202208')\n",
        "df3 = pd.concat([df1, df2], axis=0)         # Concat DataFrames\n",
        "df3"
      ],
      "metadata": {
        "id": "LY7BHQJM1CEe"
      },
      "execution_count": null,
      "outputs": []
    },
    {
      "cell_type": "code",
      "source": [
        "iface = gr.Interface(mtest, inputs=[gr.inputs.Textbox(placeholder=\"법정구코드 e.g. 11110\"), gr.inputs.Textbox(placeholder=\"거래연월 e.g 202209\")], outputs='dataframe')\n",
        "iface.launch(debug=True)"
      ],
      "metadata": {
        "id": "26mN5joLIq6y",
        "outputId": "2c129cdc-cd5d-40d1-cef4-6e987a122817",
        "colab": {
          "base_uri": "https://localhost:8080/",
          "height": 755
        }
      },
      "execution_count": null,
      "outputs": [
        {
          "output_type": "stream",
          "name": "stderr",
          "text": [
            "/usr/local/lib/python3.7/dist-packages/gradio/inputs.py:27: UserWarning: Usage of gradio.inputs is deprecated, and will not be supported in the future, please import your component from gradio.components\n",
            "  \"Usage of gradio.inputs is deprecated, and will not be supported in the future, please import your component from gradio.components\",\n",
            "/usr/local/lib/python3.7/dist-packages/gradio/deprecation.py:40: UserWarning: `optional` parameter is deprecated, and it has no effect\n",
            "  warnings.warn(value)\n",
            "/usr/local/lib/python3.7/dist-packages/gradio/deprecation.py:40: UserWarning: `numeric` parameter is deprecated, and it has no effect\n",
            "  warnings.warn(value)\n",
            "/usr/local/lib/python3.7/dist-packages/gradio/deprecation.py:40: UserWarning: The 'type' parameter has been deprecated. Use the Number component instead.\n",
            "  warnings.warn(value)\n"
          ]
        },
        {
          "output_type": "stream",
          "name": "stdout",
          "text": [
            "Colab notebook detected. This cell will run indefinitely so that you can see errors and logs. To turn off, set debug=False in launch().\n",
            "Running on public URL: https://5a1a90576cc3f32a.gradio.app\n",
            "\n",
            "This share link expires in 72 hours. For free permanent hosting and GPU upgrades (NEW!), check out Spaces: https://huggingface.co/spaces\n"
          ]
        },
        {
          "output_type": "display_data",
          "data": {
            "text/plain": [
              "<IPython.core.display.HTML object>"
            ],
            "text/html": [
              "<div><iframe src=\"https://5a1a90576cc3f32a.gradio.app\" width=\"900\" height=\"500\" allow=\"autoplay; camera; microphone; clipboard-read; clipboard-write;\" frameborder=\"0\" allowfullscreen></iframe></div>"
            ]
          },
          "metadata": {}
        }
      ]
    },
    {
      "cell_type": "markdown",
      "source": [
        "## obsolete"
      ],
      "metadata": {
        "id": "TaLxBkkm0XUT"
      }
    },
    {
      "cell_type": "code",
      "source": [
        "price = [x['거래금액'] for x in item]\n",
        "kind = [x['거래유형'] for x in item]\n",
        "old = [x['건축년도'] for x in item]\n",
        "year= [x['년'] for x in item]\n",
        "dong = [x['법정동'] for x in item]\n",
        "name = [x['아파트'] for x in item]\n",
        "month = [x['월'] for x in item]\n",
        "day = [x['일'] for x in item]\n",
        "area = [x['전용면적'] for x in item]\n",
        "gu = [x['중개사소재지'] for x in item]\n",
        "gibun = [x['지번'] for x in item]\n",
        "postal = [x['지역코드'] for x in item]\n",
        "floor = [x['층'] for x in item]\n",
        "clearday = [x['해제사유발생일'] for x in item]\n",
        "clearYN= [x['해제여부'] for x in item]\n",
        "\n",
        "price = pd.Series(price)\n",
        "kind = pd.Series(kind)\n",
        "old = pd.Series(old)\n",
        "year = pd.Series(year)\n",
        "dong = pd.Series(dong)\n",
        "name = pd.Series(name)\n",
        "month = pd.Series(month)\n",
        "day = pd.Series(day)\n",
        "area = pd.Series(area)\n",
        "gu = pd.Series(gu)\n",
        "gibun = pd.Series(gibun)\n",
        "postal = pd.Series(postal)\n",
        "floor = pd.Series(floor)\n",
        "clearday = pd.Series(clearday)\n",
        "clearYN = pd.Series(clearYN)\n",
        "\n",
        "df = pd.DataFrame({ '거래금액': price, '거래유형': kind, '건축년도': old, '년': year, '법정동': dong, '아파트': name, '월': month, '일': day, '전용면적': area, '중개사소재지': gu, '지번': gibun, '지역코드': postal, '층': floor, '해제사유발생일': clearday, '해제여부': clearYN})"
      ],
      "metadata": {
        "id": "bebPP6Tm0Sab"
      },
      "execution_count": null,
      "outputs": []
    }
  ]
}