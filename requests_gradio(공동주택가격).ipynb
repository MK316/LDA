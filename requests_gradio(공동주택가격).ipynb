{
  "nbformat": 4,
  "nbformat_minor": 0,
  "metadata": {
    "colab": {
      "name": "requests_gradio.ipynb",
      "provenance": [],
      "include_colab_link": true
    },
    "kernelspec": {
      "name": "python3",
      "display_name": "Python 3"
    },
    "language_info": {
      "name": "python"
    }
  },
  "cells": [
    {
      "cell_type": "markdown",
      "metadata": {
        "id": "view-in-github",
        "colab_type": "text"
      },
      "source": [
        "<a href=\"https://colab.research.google.com/github/hsnam95/my/blob/main/requests_gradio(%EA%B3%B5%EB%8F%99%EC%A3%BC%ED%83%9D%EA%B0%80%EA%B2%A9).ipynb\" target=\"_parent\"><img src=\"https://colab.research.google.com/assets/colab-badge.svg\" alt=\"Open In Colab\"/></a>"
      ]
    },
    {
      "cell_type": "markdown",
      "source": [
        "## blocks 예제"
      ],
      "metadata": {
        "id": "sYdaf0RdWd7s"
      }
    },
    {
      "cell_type": "code",
      "source": [
        "with gr.Blocks() as demo:\n",
        "\n",
        "    animal = gr.Dropdown(label=\"Animal\", choices=[])\n",
        "    banimal = gr.Dropdown(label=\"bAnimal\", choices=[])\n",
        "\n",
        "\n",
        "    species_map = {\n",
        "        \"Mammal\": [\"Elephant\", \"Giraffe\", \"Hamster\"],\n",
        "        \"Fish\": [\"Shark\", \"Salmon\", \"Tuna\"],\n",
        "        \"Bird\": [\"Chicken\", \"Eagle\", \"Hawk\"],\n",
        "    }\n",
        "\n",
        "    def filter_species(species):\n",
        "        return gr.Dropdown.update(\n",
        "            choices=species_map[species], value=species_map[species][1]\n",
        "        ), gr.update(visible=True)\n",
        "\n",
        "    species.change(filter_species, species, [animal, details_col])\n",
        "\n",
        "    def filter_weight(animal):\n",
        "        if animal in (\"Elephant\", \"Shark\", \"Giraffe\"):\n",
        "            return gr.update(maximum=100)\n",
        "        else:\n",
        "            return gr.update(maximum=20)\n",
        "\n",
        "    animal.change(filter_weight, animal, weight)\n",
        "    weight.change(lambda w: gr.update(lines=int(w / 10) + 1), weight, details)\n",
        "\n",
        "    generate_btn.click(lambda x: x, details, output)\n",
        "\n",
        "\n",
        "if __name__ == \"__main__\":\n",
        "    demo.launch()"
      ],
      "metadata": {
        "id": "QW-qz4kWnphX"
      },
      "execution_count": null,
      "outputs": []
    },
    {
      "cell_type": "code",
      "source": [
        "import gradio as gr\n",
        "\n",
        "with gr.Blocks() as demo:\n",
        "  dd1 = gr.Dropdown(label='abc', choices=['a', 'b', 'c']) \n",
        "  dd2 = gr.Dropdown(label='def', choices=['k'], interactive=True)\n",
        "\n",
        "  def ddchange(inp):\n",
        "    if inp == 'a':\n",
        "      out = 'd'\n",
        "    else:\n",
        "      out = 'e'\n",
        "    return gr.Dropdown.update(choices=['d', 'e', 'f'])\n",
        "    \n",
        "  dd1.change(ddchange, dd1, dd2)\n",
        "\n",
        "\n",
        "    \n",
        "if __name__ == \"__main__\":\n",
        "  demo.launch('debug=True')"
      ],
      "metadata": {
        "id": "tXjY8deqkmTq"
      },
      "execution_count": null,
      "outputs": []
    },
    {
      "cell_type": "markdown",
      "source": [
        "## create code data "
      ],
      "metadata": {
        "id": "JrDiOigTMc8L"
      }
    },
    {
      "cell_type": "code",
      "source": [
        "n = ['서울특별시', '부산직할시', '대구직할시', '인천직할시', '광주직할시', '대전직할시', '부산광역시', '대구광역시', '인천광역시', '광주광역시', '대전광역시', '울산광역시', '세종특별자치시', '경기도', '강원도', '충청북도', '충청남도', '전라북도', '전라남도', '경상북도', '경상남도', '제주도', '제주특별자치도']\n",
        "c = ['11', '21', '22', '23', '24', '25', '26', '27', '28', '29', '30', '31', '36', '41', '42', '43', '44', '45', '46', '47', '48', '49', '50']\n",
        "\n",
        "n11 = ['전체', '종로구', '중구', '용산구', '성동구', '광진구', '동대문구', '중랑구', '성북구', '강북구', '도봉구', '노원구', '은평구', '서대문구', '마포구', '양천구', '강서구', '구로구', '금천구', '영등포구', '동작구', '관악구', '서초구', '강남구', '송파구', '강동구']\n",
        "c11 = ['000', '110', '140', '170', '200', '215', '230', '260', '290', '305', '320', '350', '380', '410', '440', '470', '500', '530', '545', '560', '590', '620', '650', '680', '710', '740']\n",
        "\n",
        "n21 = ['전체', '중구', '서구', '동구', '영도구', '부산진구', '동래구', '남구', '북구', '해운대구', '사하구', '금정구', '강서구']\n",
        "c21 = ['000', '110', '140', '170', '200', '230', '260', '290', '320', '350', '380', '410', '440']\n",
        "\n",
        "n22 = ['전체', '중구', '동구', '서구', '남구', '북구', '수성구', '달서구']\n",
        "c22 = ['000', '110', '140', '170', '200', '230', '260', '290']\n",
        "\n",
        "n23 = ['전체', '중구', '동구', '남구', '남동구', '북구', '서구']\n",
        "c23 = ['000', '110', '140', '170', '200', '230', '260']\n",
        "\n",
        "n24 = ['전체', '동구', '서구', '북구', '광산구']\n",
        "c24 = ['000', '110', '140', '170', '200']\n",
        "\n",
        "n25 = ['전체', '동구', '중구', '서구', '유성구', '대덕구']\n",
        "c25 = ['000', '110', '140', '170', '200', '230']\n",
        "\n",
        "n26 = ['전체', '중구', '서구', '동구', '영도구', '부산진구', '동래구', '남구', '북구', '해운대구', '사하구', '금정구', '강서구', '연제구', '수영구', '사상구', '기장군']\n",
        "c26 = ['000', '110', '140', '170', '200', '230', '260', '290', '320', '350', '380', '410', '440', '470', '500', '530', '710']\n",
        "\n",
        "n27 = ['전체', '중구', '동구', '서구', '남구', '북구', '수성구', '달서구', '달성군']\n",
        "c27 = ['000', '110', '140', '170', '200', '230', '260', '290', '710']\n",
        "\n",
        "n28 = ['전체', '중구', '동구', '남구', '미추홀구', '연수구', '남동구', '북구', '부평구', '계양구', '서구', '강화군', '옹진군']\n",
        "c28 = ['000', '110', '140', '170', '177', '185', '200', '230', '237', '245', '260', '710', '720']\n",
        "\n",
        "n29 = ['전체', '동구', '서구', '남구', '북구', '광산구']\n",
        "c29 = ['000', '110', '140', '155', '170', '200']\n",
        "\n",
        "n30 = ['전체', '동구', '중구', '서구', '유성구', '대덕구']\n",
        "c30 = ['000', '110', '140', '170', '200', '230']\n",
        "\n",
        "n31 = ['전체', '중구', '남구', '동구', '북구', '울주군']\n",
        "c31 = ['000', '110', '140', '170', '200', '710']\n",
        "\n",
        "n36 = ['전체']\n",
        "c36 = ['110']\n",
        "\n",
        "n41 = ['전체', '인천시', '인천시 중구', '인천시 동구', '인천시 남구', '인천시 북구', '부천군', '수원시', '수원시 장안구', '수원시 권선구', '수원시 팔달구', '수원시 영통구', '성남시', '성남시 수정구', '성남시 중원구', '성남시 분당구', '의정부시', '안양시', '안양시 만안구', '안양시 동안구', '부천시', '부천시 중구', '부천시 남구', '부천시 원미구', '부천시 소사구', '부천시 오정구', '광명시', '평택시', '송탄시', '동두천시', '안산시', '안산시 상록구', '안산시 단원구', '고양시', '고양시 덕양구', '고양시 일산구', '고양시 일산동구', '고양시 일산서구', '과천시', '구리시', '평택시', '미금시', '남양주시', '오산시', '시흥시', '군포시', '의왕시', '하남시', '용인시', '용인시 처인구', '용인시 기흥구', '용인시 수지구', '파주시', '이천시', '안성시', '김포시', '화성시', '광주시', '양주시', '포천시', '여주시', '양주군', '남양주군', '여주군', '평택군', '화성군', '시흥군', '파주군', '고양군', '광주군', '연천군', '포천군', '가평군', '양평군', '이천군', '용인군', '안성군', '김포군', '강화군', '옹진군']\n",
        "c41 = ['000', '전체', '010', '011', '012', '013', '014', '050', '110', '111', '113', '115', '117', '130', '131', '133', '135', '150', '170', '171', '173', '190', '191', '193', '195', '197', '199', '210', '220', '230', '250', '270', '271', '273', '280', '281', '283', '285', '287', '290', '310', '330', '350', '360', '370', '390', '410', '430', '450', '460', '461', '463', '465', '480', '500', '550', '570', '590', '610', '630', '650', '670', '710', '720', '730', '740', '750', '760', '770', '780', '790', '800', '810', '820', '830', '840', '850', '860', '870', '880', '890']\n",
        "\n",
        "n42 = ['전체', '울진군', '춘천시', '원주시', '강릉시', '동해시', '태백시', '속초시', '삼척시', '춘성군', '춘천군', '홍천군', '횡성군', '원성군', '원주군', '영월군', '평창군', '정선군', '철원군', '화천군', '양구군', '인제군', '고성군', '양양군', '명주군', '삼척군']\n",
        "c42 = ['000', '050', '110', '130', '150', '170', '190', '210', '230', '710', '715', '720', '730', '740', '745', '750', '760', '770', '780', '790', '800', '810', '820', '830', '840', '850']\n",
        "\n",
        "n43 = ['전체', '제천군', '청주시', '청주시 상당구', '청주시 서원구', '청주시 흥덕구', '청주시 청원구', '충주시', '제천시', '청원군', '보은군', '옥천군', '영동군', '증평군', '진천군', '괴산군', '음성군', '중원군', '제원군', '제천군', '단양군']\n",
        "c43 = ['000', '050', '110', '111', '112', '113', '114', '130', '150', '710', '720', '730', '740', '745', '750', '760', '770', '780', '790', '795', '800']\n",
        "\n",
        "n44 = ['전체', '천안군', '대전시', '대전시 동구', '대전시 중구', '대전시 서구', '천안시', '천안시 동남구', '천안시 서북구', '공주시', '대천시', '보령시', '온양시', '아산시', '서산시', '논산시', '계룡시', '당진시', '금산군', '대덕군', '연기군', '공주군', '논산군', '부여군', '서천군', '보령군', '청양군', '홍성군', '예산군', '서산군', '태안군', '당진군', '아산군', '천원군', '천안군']\n",
        "c44 = ['000', '050', '110', '111', '113', '115', '130', '131', '133', '150', '170', '180', '190', '200', '210', '230', '250', '270', '710', '720', '730', '740', '750', '760', '770', '780', '790', '800', '810', '820', '825', '830', '840', '850', '860']\n",
        "\n",
        "n45 = ['전체', '금산군', '전주시', '전주시 완산구', '전주시 덕진구', '군산시', '익산시', '이리시', '정주시', '정읍시', '남원시', '김제시', '완주군', '진안군', '무주군', '장수군', '임실군', '남원군', '순창군', '정읍군', '고창군', '부안군', '김제군', '옥구군', '익산군']\n",
        "c45 = ['000', '050', '110', '111', '113', '130', '140', '150', '170', '180', '190', '210', '710', '720', '730', '740', '750', '760', '770', '780', '790', '800', '810', '820', '830']\n",
        "\n",
        "n46 = ['전체', '광주시', '광주시 동구', '광주시 서구', '광주시 북구', '금성시', '송정시', '광산군', '목포시', '여수시', '순천시', '나주시', '여천시', '동광양시', '광양시', '담양군', '곡성군', '구례군', '광양군', '여천군', '승주군', '고흥군', '보성군', '화순군', '장흥군', '강진군', '해남군', '영암군', '무안군', '나주군', '함평군', '영광군', '장성군', '완도군', '진도군', '신안군']\n",
        "c46 = ['000', '010', '011', '012', '013', '020', '030', '050', '110', '130', '150', '170', '190', '210', '230', '710', '720', '730', '740', '750', '760', '770', '780', '790', '800', '810', '820', '830', '840', '850', '860', '870', '880', '890', '900', '910']\n",
        "\n",
        "n47 = ['전체', '대구시', '대구시 중구', '대구시 동구', '대구시 서구', '대구시 남구', '대구시 북구', '대구시 수성구', '신안동시', '영주군', '포항시', '포항시 남구', '포항시 북구', '경주시', '김천시', '안동시', '구미시', '영주시', '영천시', '상주시', '점촌시', '문경시', '경산시', '달성군', '군위군', '의성군', '안동군', '청송군', '영양군', '영덕군', '영일군', '월성군', '경주군', '영천군', '경산군', '청도군', '고령군', '성주군', '칠곡군', '금릉군', '선산군', '상주군', '문경군', '예천군', '영풍군', '봉화군', '울진군', '울릉군']\n",
        "c47 = ['000', '010', '011', '012', '013', '014', '015', '016', '020', '050', '110', '111', '113', '130', '150', '170', '190', '210', '230', '250', '270', '280', '290', '710', '720', '730', '740', '750', '760', '770', '780', '790', '795', '800', '810', '820', '830', '840', '850', '860', '870', '880', '890', '900', '910', '920', '930', '940']\n",
        "\n",
        "n48 = ['전체', '부산시', '부산시 중구', '부산시 서구', '부산시 동구', '부산시 영도구', '부산시 부산진구', '부산시 동래구', '창원군', '울산군', '동래군', '창원시(구)', '창원시', '창원시 의창구', '창원시 성산구', '창원시 마산합포구', '창원시 마산회원구', '창원시 진해구', '울산시', '울산시', '울산시', '울산시', '울산시', '마산시', '마산시', '마산시', '마산시', '진주시', '진해시', '충무시', '통영시', '삼천포시', '사천시', '김해시', '밀양시', '장승포시', '거제시', '양산시', '진양군', '의령군', '함안군', '창녕군', '밀양군', '양산군', '울주군', '울산군', '김해군', '의창군', '창원군', '통영군', '거제군', '고성군', '사천군', '남해군', '하동군', '산청군', '함양군', '거창군', '합천군']\n",
        "c48 = ['000', '010', '011', '012', '013', '014', '015', '016', '050', '060', '070', '110', '120', '121', '123', '125', '127', '129', '130', '131', '133', '135', '137', '150', '151', '153', '160', '170', '190', '210', '220', '230', '240', '250', '270', '290', '310', '330', '710', '720', '730', '740', '750', '760', '770', '775', '780', '790', '795', '800', '810', '820', '830', '840', '850', '860', '870', '880', '890']\n",
        "\n",
        "n49 = ['전체', '제주시', '서귀포시', '북제주군', '남제주군']\n",
        "c49 = ['000', '110', '130', '710', '720']\n",
        "\n",
        "n50 = ['전체', '제주시', '서귀포시']\n",
        "c50 = ['000', '110', '130']\n",
        "\n",
        "ns = [n11, n21, n22, n23, n24, n25, n26, n27, n28, n29, n30, n31, n36, n41, n42, n43, n44, n45, n46, n47, n48, n49, n50]\n",
        "cs = [c11, c21, c22, c23, c24, c25, c26, c27, c28, c29, c30, c31, c36, c41, c42, c43, c44, c45, c46, c47, c48, c49, c50]\n",
        "\n",
        "nList = {x: y for x, y in zip(n, ns)}\n",
        "cList = {w: z for w, z in zip(c, cs)}\n",
        "\n",
        "data = [nList, cList]"
      ],
      "metadata": {
        "id": "oxqllD9TMb23"
      },
      "execution_count": 119,
      "outputs": []
    },
    {
      "cell_type": "markdown",
      "source": [
        "## import libraries"
      ],
      "metadata": {
        "id": "n4d_TfR3M4_7"
      }
    },
    {
      "cell_type": "code",
      "source": [
        "!pip install gradio\n",
        "import gradio as gr\n",
        "import requests\n",
        "import pandas as pd\n",
        "\n",
        "!pip install xmltodict\n",
        "import json\n",
        "import xmltodict"
      ],
      "metadata": {
        "id": "8eZHGJhmqd9a",
        "outputId": "eacce04b-007c-4455-c1c3-ea2e50842c9f",
        "colab": {
          "base_uri": "https://localhost:8080/"
        }
      },
      "execution_count": 120,
      "outputs": [
        {
          "output_type": "stream",
          "name": "stdout",
          "text": [
            "Looking in indexes: https://pypi.org/simple, https://us-python.pkg.dev/colab-wheels/public/simple/\n",
            "Requirement already satisfied: xmltodict in /usr/local/lib/python3.7/dist-packages (0.13.0)\n"
          ]
        }
      ]
    },
    {
      "cell_type": "markdown",
      "source": [
        "## test a demo"
      ],
      "metadata": {
        "id": "LDOeErLXgJUu"
      }
    },
    {
      "cell_type": "code",
      "source": [
        "URL = ('http://openapi.molit.go.kr:8081/OpenAPI_ToolInstallPackage/service/rest/RTMSOBJSvc/getRTMSDataSvcAptTrade?LAWD_CD=36110&DEAL_YMD=202209&serviceKey=miH%2BZXg85lQy4%2FkmhffvygXDIFiTwisriSLxtyECSzw6hxTVK7yI8QKIOc7mP7LEqCnhBGuj6iW1gZW65dum7A%3D%3D')\n",
        "response = requests.get(URL)\n",
        "response"
      ],
      "metadata": {
        "id": "lHHEwqpyJF7r",
        "outputId": "ba0e044b-3061-4dde-fac9-fe403a09d327",
        "colab": {
          "base_uri": "https://localhost:8080/"
        }
      },
      "execution_count": null,
      "outputs": [
        {
          "output_type": "execute_result",
          "data": {
            "text/plain": [
              "<Response [200]>"
            ]
          },
          "metadata": {},
          "execution_count": 117
        }
      ]
    },
    {
      "cell_type": "code",
      "source": [
        "data_dict = xmltodict.parse(response.content)\n",
        "json_txt = json.dumps(data_dict)\n",
        "r = json.loads(json_txt)\n",
        "r"
      ],
      "metadata": {
        "id": "tV6YoUcsdN8c",
        "outputId": "3ebd27a1-da16-4257-fc02-d7996d39f0f0",
        "colab": {
          "base_uri": "https://localhost:8080/"
        }
      },
      "execution_count": null,
      "outputs": [
        {
          "output_type": "execute_result",
          "data": {
            "text/plain": [
              "{'response': {'header': {'resultCode': '99',\n",
              "   'resultMsg': 'LIMITED NUMBER OF SERVICE REQUESTS EXCEEDS ERROR.'}}}"
            ]
          },
          "metadata": {},
          "execution_count": 118
        }
      ]
    },
    {
      "cell_type": "code",
      "source": [
        "item = r['response']['body']['items']['item']\n",
        "item[0]"
      ],
      "metadata": {
        "id": "AXxaFHiM-vUU"
      },
      "execution_count": null,
      "outputs": []
    },
    {
      "cell_type": "code",
      "source": [
        "df = pd.DataFrame(r['response']['body']['items']['item'])\n",
        "df"
      ],
      "metadata": {
        "id": "8ll_27m1x35t"
      },
      "execution_count": null,
      "outputs": []
    },
    {
      "cell_type": "code",
      "source": [
        "convert_dict = {'거래금액': str, '거래유형': str, '건축년도': int, '년': int, '법정동': str, '아파트': str, '월': int, '일': int, '전용면적': float, '중개사소재지': str, '지번': str, '지역코드': int, '층': int, '해제사유발생일': str, '해제여부': str}\n",
        "df = df.astype(convert_dict)\n",
        "print(df.dtypes)"
      ],
      "metadata": {
        "id": "444D_h0Caf7S"
      },
      "execution_count": null,
      "outputs": []
    },
    {
      "cell_type": "markdown",
      "source": [
        "## Build a demo"
      ],
      "metadata": {
        "id": "7Ij1aHSygY-A"
      }
    },
    {
      "cell_type": "code",
      "source": [
        "def range2list(beg, end):\n",
        "  out = [str(beg)]\n",
        "  beg = int(beg)\n",
        "  end = int(end)\n",
        "  while beg < end:\n",
        "    if int(str(beg)[-2:]) < 12:\n",
        "      beg = beg + 1\n",
        "      out.append(str(beg))\n",
        "    else:\n",
        "      beg = beg + 100 -11\n",
        "      out.append(str(beg))\n",
        "  return out\n",
        "\n",
        "def test(dd1, dd2, input2):\n",
        "  \n",
        "  if input2[6] == '-':\n",
        "    input2s = input2.split('-')\n",
        "    print(input2s)\n",
        "    input2s = range2list(input2s[0], input2s[1])\n",
        "  else:\n",
        "    input2s = input2.split()\n",
        "\n",
        "  n = list(data[0].keys())\n",
        "  n_id = n.index(dd1)\n",
        "  nc = list(data[1].keys())[n_id]\n",
        "\n",
        "  s = list(data[0][n[n_id]])\n",
        "  s_id = s.index(dd2)\n",
        "  sc = data[1][nc][s_id]\n",
        "  input1s = [nc+sc]\n",
        "\n",
        "  if sc == '000':\n",
        "    input1s = [nc+scs for scs in list(data[1][nc][1:])]\n",
        "\n",
        "  print(input1s)\n",
        "  print(input2s)\n",
        "  \n",
        "  df = []\n",
        "  for x in input1s:\n",
        "    for y in input2s:\n",
        "\n",
        "      URL = ('http://openapi.molit.go.kr:8081/OpenAPI_ToolInstallPackage/service/rest/RTMSOBJSvc/getRTMSDataSvcAptTrade?LAWD_CD=' + x + '&DEAL_YMD=' + y + '&serviceKey=miH%2BZXg85lQy4%2FkmhffvygXDIFiTwisriSLxtyECSzw6hxTVK7yI8QKIOc7mP7LEqCnhBGuj6iW1gZW65dum7A%3D%3D')\n",
        "\n",
        "      response = requests.get(URL)  \n",
        "      data_dict = xmltodict.parse(response.content)\n",
        "      json_txt = json.dumps(data_dict)\n",
        "      r = json.loads(json_txt)\n",
        "      item = r['response']['body']['items']['item']\n",
        "\n",
        "      if len(df)==0:\n",
        "        df = pd.DataFrame(item)\n",
        "      else:\n",
        "        df = pd.concat([df, pd.DataFrame(item)], axis=0) \n",
        "\n",
        "  df.loc[:,'거래금액'] = df.loc[:,'거래금액'].replace(',', '', regex=True)\n",
        "  convert_dict = {'거래금액': int, '거래유형': str, '건축년도': int, '년': int, '법정동': str, '아파트': str, '월': int, '일': int, '전용면적': float, '중개사소재지': str, '지번': str, '지역코드': int, '층': int, '해제사유발생일': str, '해제여부': str}\n",
        "  df = df.astype(convert_dict)\n",
        "\n",
        "  from google.colab import files\n",
        "  df.to_csv('out.csv') \n",
        "\n",
        "  return df"
      ],
      "metadata": {
        "id": "Us2EzLwiH9uV"
      },
      "execution_count": 123,
      "outputs": []
    },
    {
      "cell_type": "markdown",
      "source": [
        "## Run a demo"
      ],
      "metadata": {
        "id": "Ca8G_kDVgp3x"
      }
    },
    {
      "cell_type": "code",
      "source": [
        "with gr.Blocks() as demo:\n",
        "  dd1 = gr.Dropdown(list(data[0].keys())) \n",
        "  dd2 = gr.Dropdown(choices = [], interactive = True)\n",
        "  tb = gr.Text()\n",
        "  df = gr.DataFrame()\n",
        "  b1 = gr.Button(\"Run\")\n",
        "\n",
        "  def ddchange(inp):\n",
        "    return gr.Dropdown.update(choices=data[0][inp], value = 0)\n",
        "  dd1.change(ddchange, dd1, dd2)\n",
        "\n",
        "\n",
        "  # b1.click(test, inputs=[dd1, dd2, tb], outputs=df)\n",
        "  b1.click(test, inputs=[dd1, dd2, tb], outputs=[])\n",
        "\n",
        "if __name__ == \"__main__\":\n",
        "  demo.launch(debug=True)"
      ],
      "metadata": {
        "colab": {
          "base_uri": "https://localhost:8080/",
          "height": 952
        },
        "id": "nopFEK52GSuz",
        "outputId": "2e5b47e3-0bff-44a7-ef08-dc0d7f4d0cc9"
      },
      "execution_count": null,
      "outputs": [
        {
          "output_type": "stream",
          "name": "stdout",
          "text": [
            "Colab notebook detected. This cell will run indefinitely so that you can see errors and logs. To turn off, set debug=False in launch().\n",
            "Running on public URL: https://e95b93fe1026d2b1.gradio.app\n",
            "\n",
            "This share link expires in 72 hours. For free permanent hosting and GPU upgrades (NEW!), check out Spaces: https://huggingface.co/spaces\n"
          ]
        },
        {
          "output_type": "display_data",
          "data": {
            "text/plain": [
              "<IPython.core.display.HTML object>"
            ],
            "text/html": [
              "<div><iframe src=\"https://e95b93fe1026d2b1.gradio.app\" width=\"900\" height=\"500\" allow=\"autoplay; camera; microphone; clipboard-read; clipboard-write;\" frameborder=\"0\" allowfullscreen></iframe></div>"
            ]
          },
          "metadata": {}
        },
        {
          "output_type": "stream",
          "name": "stdout",
          "text": [
            "['201701', '202209']\n",
            "['11110', '11140', '11170', '11200', '11215', '11230', '11260', '11290', '11305', '11320', '11350', '11380', '11410', '11440', '11470', '11500', '11530', '11545', '11560', '11590', '11620', '11650', '11680', '11710', '11740']\n",
            "['201701', '201702', '201703', '201704', '201705', '201706', '201707', '201708', '201709', '201710', '201711', '201712', '201801', '201802', '201803', '201804', '201805', '201806', '201807', '201808', '201809', '201810', '201811', '201812', '201901', '201902', '201903', '201904', '201905', '201906', '201907', '201908', '201909', '201910', '201911', '201912', '202001', '202002', '202003', '202004', '202005', '202006', '202007', '202008', '202009', '202010', '202011', '202012', '202101', '202102', '202103', '202104', '202105', '202106', '202107', '202108', '202109', '202110', '202111', '202112', '202201', '202202', '202203', '202204', '202205', '202206', '202207', '202208', '202209']\n"
          ]
        },
        {
          "output_type": "stream",
          "name": "stderr",
          "text": [
            "Traceback (most recent call last):\n",
            "  File \"/usr/local/lib/python3.7/dist-packages/gradio/routes.py\", line 299, in run_predict\n",
            "    fn_index, raw_input, username, session_state, iterators\n",
            "  File \"/usr/local/lib/python3.7/dist-packages/gradio/blocks.py\", line 790, in process_api\n",
            "    result = await self.call_function(fn_index, inputs, iterator)\n",
            "  File \"/usr/local/lib/python3.7/dist-packages/gradio/blocks.py\", line 698, in call_function\n",
            "    block_fn.fn, *processed_input, limiter=self.limiter\n",
            "  File \"/usr/local/lib/python3.7/dist-packages/anyio/to_thread.py\", line 32, in run_sync\n",
            "    func, *args, cancellable=cancellable, limiter=limiter\n",
            "  File \"/usr/local/lib/python3.7/dist-packages/anyio/_backends/_asyncio.py\", line 937, in run_sync_in_worker_thread\n",
            "    return await future\n",
            "  File \"/usr/local/lib/python3.7/dist-packages/anyio/_backends/_asyncio.py\", line 867, in run\n",
            "    result = context.run(func, *args)\n",
            "  File \"<ipython-input-123-65cfba2d0caf>\", line 48, in test\n",
            "    item = r['response']['body']['items']['item']\n",
            "KeyError: 'body'\n"
          ]
        }
      ]
    }
  ]
}