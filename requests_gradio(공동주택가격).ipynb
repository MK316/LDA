{
  "nbformat": 4,
  "nbformat_minor": 0,
  "metadata": {
    "colab": {
      "name": "requests_gradio.ipynb",
      "provenance": [],
      "authorship_tag": "ABX9TyPXmDwD+3lK1Vo4cKFZ6KgT",
      "include_colab_link": true
    },
    "kernelspec": {
      "name": "python3",
      "display_name": "Python 3"
    },
    "language_info": {
      "name": "python"
    }
  },
  "cells": [
    {
      "cell_type": "markdown",
      "metadata": {
        "id": "view-in-github",
        "colab_type": "text"
      },
      "source": [
        "<a href=\"https://colab.research.google.com/github/hsnam95/my/blob/main/requests_gradio(%EA%B3%B5%EB%8F%99%EC%A3%BC%ED%83%9D%EA%B0%80%EA%B2%A9).ipynb\" target=\"_parent\"><img src=\"https://colab.research.google.com/assets/colab-badge.svg\" alt=\"Open In Colab\"/></a>"
      ]
    },
    {
      "cell_type": "code",
      "source": [
        "!pip install gradio\n",
        "import gradio as gr\n",
        "import requests\n",
        "import pandas as pd\n",
        "\n",
        "# !pip install xmltodict\n",
        "import json\n",
        "import xmltodict"
      ],
      "metadata": {
        "id": "8eZHGJhmqd9a"
      },
      "execution_count": null,
      "outputs": []
    },
    {
      "cell_type": "code",
      "source": [
        "URL = ('http://openapi.molit.go.kr:8081/OpenAPI_ToolInstallPackage/service/rest/RTMSOBJSvc/getRTMSDataSvcAptTrade?LAWD_CD=11290&DEAL_YMD=202209&serviceKey=miH%2BZXg85lQy4%2FkmhffvygXDIFiTwisriSLxtyECSzw6hxTVK7yI8QKIOc7mP7LEqCnhBGuj6iW1gZW65dum7A%3D%3D')\n",
        "response = requests.get(URL)"
      ],
      "metadata": {
        "id": "lHHEwqpyJF7r"
      },
      "execution_count": 75,
      "outputs": []
    },
    {
      "cell_type": "code",
      "source": [
        "data_dict = xmltodict.parse(response.content)\n",
        "json_txt = json.dumps(data_dict)\n",
        "r = json.loads(json_txt)\n",
        "r"
      ],
      "metadata": {
        "id": "tV6YoUcsdN8c"
      },
      "execution_count": null,
      "outputs": []
    },
    {
      "cell_type": "code",
      "source": [
        "item = r['response']['body']['items']['item']\n",
        "item[0]"
      ],
      "metadata": {
        "id": "AXxaFHiM-vUU",
        "outputId": "4ee229b1-5c8a-4601-9b42-4addccdd76a2",
        "colab": {
          "base_uri": "https://localhost:8080/"
        }
      },
      "execution_count": 81,
      "outputs": [
        {
          "output_type": "execute_result",
          "data": {
            "text/plain": [
              "{'거래금액': '38,500',\n",
              " '거래유형': '중개거래',\n",
              " '건축년도': '2004',\n",
              " '년': '2022',\n",
              " '법정동': '돈암동',\n",
              " '아파트': '서라벌',\n",
              " '월': '9',\n",
              " '일': '2',\n",
              " '전용면적': '73.94',\n",
              " '중개사소재지': '서울 성북구',\n",
              " '지번': '7-15',\n",
              " '지역코드': '11290',\n",
              " '층': '5',\n",
              " '해제사유발생일': None,\n",
              " '해제여부': None}"
            ]
          },
          "metadata": {},
          "execution_count": 81
        }
      ]
    },
    {
      "cell_type": "code",
      "source": [
        "price = [x['거래금액'] for x in item]\n",
        "kind = [x['거래유형'] for x in item]\n",
        "old = [x['건축년도'] for x in item]\n",
        "year= [x['년'] for x in item]\n",
        "dong = [x['법정동'] for x in item]\n",
        "name = [x['아파트'] for x in item]\n",
        "month = [x['월'] for x in item]\n",
        "day = [x['일'] for x in item]\n",
        "area = [x['전용면적'] for x in item]\n",
        "gu = [x['중개사소재지'] for x in item]\n",
        "address = [x['지번'] for x in item]\n",
        "postal = [x['지역코드'] for x in item]\n",
        "floor = [x['층'] for x in item]\n",
        "clearday = [x['해제사유발생일'] for x in item]\n",
        "clearYN= [x['해제여부'] for x in item]\n",
        "\n",
        "itmsNm = pd.Series(itmsNm)\n"
      ],
      "metadata": {
        "id": "yXcd9DGPCxHu"
      },
      "execution_count": 84,
      "outputs": []
    }
  ]
}