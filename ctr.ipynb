{
  "nbformat": 4,
  "nbformat_minor": 0,
  "metadata": {
    "colab": {
      "provenance": [],
      "mount_file_id": "1G2UkSzqqxUfM5NPA5_HXnacGsto67XLZ",
      "authorship_tag": "ABX9TyO3DSfFK9Sxf8c1DxdLrEjq",
      "include_colab_link": true
    },
    "kernelspec": {
      "name": "python3",
      "display_name": "Python 3"
    },
    "language_info": {
      "name": "python"
    }
  },
  "cells": [
    {
      "cell_type": "markdown",
      "metadata": {
        "id": "view-in-github",
        "colab_type": "text"
      },
      "source": [
        "<a href=\"https://colab.research.google.com/github/hsnam95/my/blob/main/ctr.ipynb\" target=\"_parent\"><img src=\"https://colab.research.google.com/assets/colab-badge.svg\" alt=\"Open In Colab\"/></a>"
      ]
    },
    {
      "cell_type": "code",
      "execution_count": 162,
      "metadata": {
        "id": "Oaw8Xt_4vqRX",
        "colab": {
          "base_uri": "https://localhost:8080/"
        },
        "outputId": "d26c9285-299a-4ae4-9422-da512fa9e888"
      },
      "outputs": [
        {
          "output_type": "execute_result",
          "data": {
            "text/plain": [
              "Index(['FACTORYID', 'EQUIPMENTID', 'ITEMGROUPID', 'PRODUCTDEFINITIONID',\n",
              "       'JUDGE', 'DATASOURCEPATH', 'No', 'DATE/TIME', '모델명', '하중상한', '하중하한',\n",
              "       '하중측정', '하중판정', '거리상한', '거리하한', '거리측정', '거리판정', 'RAWEVENTTIME',\n",
              "       'EVENTTIME'],\n",
              "      dtype='object')"
            ]
          },
          "metadata": {},
          "execution_count": 162
        }
      ],
      "source": [
        "import pandas as pd\n",
        "import matplotlib.pyplot as plt\n",
        "import numpy as np\n",
        "\n",
        "df = pd.read_csv('0-SQC_RAWDCDATA_202210061010.csv')\n",
        "df.columns"
      ]
    },
    {
      "cell_type": "code",
      "source": [
        "df.loc[df.하중판정!='OK', '하중판정']=0\n",
        "df.loc[df.하중판정=='OK', '하중판정']=1\n",
        "df.loc[df.거리판정!='OK', '거리판정']=0\n",
        "df.loc[df.거리판정=='OK', '거리판정']=1"
      ],
      "metadata": {
        "id": "qulzHzoTjqn7"
      },
      "execution_count": 163,
      "outputs": []
    },
    {
      "cell_type": "code",
      "source": [
        "from sklearn.linear_model import LinearRegression, Lasso, Ridge\n",
        "from sklearn.svm import LinearSVR\n",
        "from sklearn.tree import DecisionTreeRegressor\n",
        "from sklearn.neural_network import MLPRegressor\n",
        "\n",
        "models = [\n",
        "    ('LR', LinearRegression()),\n",
        "    ('L', Lasso()),\n",
        "    ('R', Ridge()),\n",
        "    ('SVR', LinearSVR()),\n",
        "    ('DT', DecisionTreeRegressor()),\n",
        "    ('NN', MLPRegressor()),\n",
        "]\n",
        "\n",
        "from sklearn.model_selection import train_test_split\n",
        "\n",
        "# X = np.array(df[['하중상한', '하중하한', '하중측정']])\n",
        "# y = np.array(df[['하중판정']])\n",
        "\n",
        "X = np.array(df[['거리상한', '거리하한', '거리측정']])\n",
        "y = np.array(df[['거리판정']])\n",
        "\n",
        "X_train, X_test, y_train, y_test = train_test_split(X, y, test_size=0.2, random_state=42)\n",
        "\n",
        "for name, model in models:\n",
        "    clf = model\n",
        "    clf.fit(X_train, y_train)\n",
        "    accuracy = clf.score(X_test, y_test)\n",
        "    print(name, accuracy)"
      ],
      "metadata": {
        "colab": {
          "base_uri": "https://localhost:8080/"
        },
        "id": "nHgOxfh_6Zq7",
        "outputId": "418b59df-715c-4c68-f0be-913dbf33ae1a"
      },
      "execution_count": 169,
      "outputs": [
        {
          "output_type": "stream",
          "name": "stdout",
          "text": [
            "LR 1.0\n"
          ]
        },
        {
          "output_type": "stream",
          "name": "stderr",
          "text": [
            "/Users/hosungnam/opt/anaconda3/lib/python3.9/site-packages/sklearn/linear_model/_coordinate_descent.py:647: ConvergenceWarning: Objective did not converge. You might want to increase the number of iterations, check the scale of the features or consider increasing regularisation. Duality gap: 0.000e+00, tolerance: 0.000e+00\n",
            "  model = cd_fast.enet_coordinate_descent(\n",
            "/Users/hosungnam/opt/anaconda3/lib/python3.9/site-packages/sklearn/utils/validation.py:993: DataConversionWarning: A column-vector y was passed when a 1d array was expected. Please change the shape of y to (n_samples, ), for example using ravel().\n",
            "  y = column_or_1d(y, warn=True)\n"
          ]
        },
        {
          "output_type": "stream",
          "name": "stdout",
          "text": [
            "L 1.0\n",
            "R 1.0\n"
          ]
        },
        {
          "output_type": "stream",
          "name": "stderr",
          "text": [
            "/Users/hosungnam/opt/anaconda3/lib/python3.9/site-packages/sklearn/svm/_base.py:1206: ConvergenceWarning: Liblinear failed to converge, increase the number of iterations.\n",
            "  warnings.warn(\n",
            "/Users/hosungnam/opt/anaconda3/lib/python3.9/site-packages/sklearn/neural_network/_multilayer_perceptron.py:1599: DataConversionWarning: A column-vector y was passed when a 1d array was expected. Please change the shape of y to (n_samples, ), for example using ravel().\n",
            "  y = column_or_1d(y, warn=True)\n"
          ]
        },
        {
          "output_type": "stream",
          "name": "stdout",
          "text": [
            "SVR 0.0\n",
            "DT 1.0\n",
            "NN 0.0\n"
          ]
        }
      ]
    }
  ]
}