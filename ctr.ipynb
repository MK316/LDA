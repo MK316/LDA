{
  "nbformat": 4,
  "nbformat_minor": 0,
  "metadata": {
    "colab": {
      "provenance": [],
      "mount_file_id": "1G2UkSzqqxUfM5NPA5_HXnacGsto67XLZ",
      "authorship_tag": "ABX9TyNJ/icOqhuC62vUWj/puPuM",
      "include_colab_link": true
    },
    "kernelspec": {
      "name": "python3",
      "display_name": "Python 3"
    },
    "language_info": {
      "name": "python"
    }
  },
  "cells": [
    {
      "cell_type": "markdown",
      "metadata": {
        "id": "view-in-github",
        "colab_type": "text"
      },
      "source": [
        "<a href=\"https://colab.research.google.com/github/hsnam95/my/blob/main/ctr.ipynb\" target=\"_parent\"><img src=\"https://colab.research.google.com/assets/colab-badge.svg\" alt=\"Open In Colab\"/></a>"
      ]
    },
    {
      "cell_type": "code",
      "execution_count": 96,
      "metadata": {
        "id": "Oaw8Xt_4vqRX",
        "colab": {
          "base_uri": "https://localhost:8080/"
        },
        "outputId": "254857dd-d4ea-4885-a592-2911dd9a21bc"
      },
      "outputs": [
        {
          "output_type": "execute_result",
          "data": {
            "text/plain": [
              "Index(['FACTORYID', 'EQUIPMENTID', 'ITEMGROUPID', 'PRODUCTDEFINITIONID',\n",
              "       'JUDGE', 'DATASOURCEPATH', 'No', 'DATE/TIME', '모델명', '기동상한값', '기동하한값',\n",
              "       '기동측정값', '기동판정', '작동상한값', '작동하한값', '작동측정값', '작동판정', 'RAWEVENTTIME',\n",
              "       'EVENTTIME'],\n",
              "      dtype='object')"
            ]
          },
          "metadata": {},
          "execution_count": 96
        }
      ],
      "source": [
        "import pandas as pd\n",
        "import matplotlib.pyplot as plt\n",
        "import numpy as np\n",
        "\n",
        "# df = pd.read_csv('0-SQC_RAWDCDATA_202210061010.csv')\n",
        "df = pd.read_csv('1-SQC_RAWDCDATA_202210061005.csv')\n",
        "df.columns"
      ]
    },
    {
      "cell_type": "code",
      "source": [
        "df.loc[df.하중판정!='OK', '하중판정']=0\n",
        "df.loc[df.하중판정=='OK', '하중판정']=1\n",
        "df.loc[df.거리판정!='OK', '거리판정']=0\n",
        "df.loc[df.거리판정=='OK', '거리판정']=1"
      ],
      "metadata": {
        "id": "qulzHzoTjqn7"
      },
      "execution_count": 90,
      "outputs": []
    },
    {
      "cell_type": "code",
      "source": [
        "df.loc[df.기동판정!='OK', '기동판정']=0\n",
        "df.loc[df.기동판정=='OK', '기동판정']=1\n",
        "df.loc[df.작동판정!='OK', '작동판정']=0\n",
        "df.loc[df.작동판정=='OK', '작동판정']=1"
      ],
      "metadata": {
        "id": "Ce8Mze7wIVOK"
      },
      "execution_count": 98,
      "outputs": []
    },
    {
      "cell_type": "code",
      "source": [
        "from sklearn.linear_model import LogisticRegression\n",
        "from sklearn.naive_bayes import GaussianNB\n",
        "from sklearn.svm import SVC\n",
        "from sklearn.neighbors import KNeighborsClassifier\n",
        "from sklearn.tree import DecisionTreeClassifier\n",
        "from sklearn.neural_network import MLPClassifier\n",
        "\n",
        "models = [\n",
        "    ('LR', LogisticRegression()),\n",
        "    ('NB', GaussianNB()),\n",
        "    ('SVM', SVC()),\n",
        "    ('KNN', KNeighborsClassifier()),\n",
        "    ('DT', DecisionTreeClassifier()),\n",
        "    ('NN', MLPClassifier()),\n",
        "]\n",
        "\n",
        "def fillNaNmean (X):\n",
        "  col_mean = np.nanmean(X, axis=0)\n",
        "  inds = np.where(np.isnan(X))\n",
        "  X[inds] = np.take(col_mean, inds[1])\n",
        "  return X\n",
        "\n",
        "from sklearn.model_selection import train_test_split\n",
        "\n",
        "# X = np.array(df[['하중상한', '하중하한', '하중측정']])\n",
        "# y = np.array(df['하중판정'])\n",
        "# y = y.astype('int')\n",
        "\n",
        "# X = np.array(df[['거리상한', '거리하한', '거리측정']])\n",
        "# y = np.array(df['거리판정'])\n",
        "# y = y.astype('int')\n",
        "\n",
        "# X = np.array(df[['기동상한값', '기동하한값', '기동측정값']])\n",
        "# y = np.array(df['기동판정'])\n",
        "# y = y.astype('int')\n",
        "\n",
        "# X = np.array(df[['작동상한값', '작동하한값', '작동측정값']])\n",
        "# y = np.array(df['작동판정'])\n",
        "# y = y.astype('int')\n",
        "\n",
        "X = fillNaNmean(X)\n",
        "\n",
        "X_train, X_test, y_train, y_test = train_test_split(X, y, test_size=0.2, random_state=42)\n",
        "\n",
        "for name, model in models:\n",
        "    clf = model\n",
        "    clf.fit(X_train, y_train)\n",
        "    accuracy = clf.score(X_test, y_test)\n",
        "    print(name, accuracy)"
      ],
      "metadata": {
        "colab": {
          "base_uri": "https://localhost:8080/"
        },
        "id": "nHgOxfh_6Zq7",
        "outputId": "0ce91f6d-54dc-4670-84c8-7caae9f0e9be"
      },
      "execution_count": 95,
      "outputs": [
        {
          "output_type": "stream",
          "name": "stdout",
          "text": [
            "LR 0.9999762864595684\n",
            "NB 0.9975219350248992\n",
            "SVM 0.9999762864595684\n"
          ]
        },
        {
          "output_type": "stream",
          "name": "stderr",
          "text": [
            "/Users/hosungnam/opt/anaconda3/lib/python3.9/site-packages/sklearn/neighbors/_classification.py:228: FutureWarning: Unlike other reduction functions (e.g. `skew`, `kurtosis`), the default behavior of `mode` typically preserves the axis it acts along. In SciPy 1.11.0, this behavior will change: the default value of `keepdims` will become False, the `axis` over which the statistic is taken will be eliminated, and the value None will no longer be accepted. Set `keepdims` to True or False to avoid this warning.\n",
            "  mode, _ = stats.mode(_y[neigh_ind, k], axis=1)\n"
          ]
        },
        {
          "output_type": "stream",
          "name": "stdout",
          "text": [
            "KNN 1.0\n",
            "DT 1.0\n",
            "NN 0.9999762864595684\n"
          ]
        }
      ]
    }
  ]
}