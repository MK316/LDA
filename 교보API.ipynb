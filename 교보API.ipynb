{
  "nbformat": 4,
  "nbformat_minor": 0,
  "metadata": {
    "colab": {
      "provenance": [],
      "authorship_tag": "ABX9TyMnhLU3Yrx470dQ1fehDwKB",
      "include_colab_link": true
    },
    "kernelspec": {
      "name": "python3",
      "display_name": "Python 3"
    },
    "language_info": {
      "name": "python"
    }
  },
  "cells": [
    {
      "cell_type": "markdown",
      "metadata": {
        "id": "view-in-github",
        "colab_type": "text"
      },
      "source": [
        "<a href=\"https://colab.research.google.com/github/hsnam95/my/blob/main/%EA%B5%90%EB%B3%B4API.ipynb\" target=\"_parent\"><img src=\"https://colab.research.google.com/assets/colab-badge.svg\" alt=\"Open In Colab\"/></a>"
      ]
    },
    {
      "cell_type": "code",
      "source": [
        "import pandas as pd\n",
        "import json\n",
        "import requests\n",
        "def get_INFO(url,header):\n",
        "  return json.loads(requests.get(url,headers=header).text)\n"
      ],
      "metadata": {
        "id": "nhZj-Bi8Atg2"
      },
      "execution_count": 1,
      "outputs": []
    },
    {
      "cell_type": "code",
      "execution_count": 2,
      "metadata": {
        "id": "lUZeqy7WAqB_"
      },
      "outputs": [],
      "source": [
        "header = {\"User-Agent\": \"Mozilla/5.0 (Macintosh; Intel Mac OS X 10_15_7) AppleWebKit/605.1.15 (KHTML, like Gecko) Version/15.6 Safari/605.1.15\",\n",
        "}"
      ]
    },
    {
      "cell_type": "code",
      "source": [
        "# url = 'https://product.kyobobook.co.kr/api/gw/pub/pdt/best-seller/total?page=1&per=100&period=002&bsslBksClstCode=A'\n",
        "# INFO = get_INFO(url,header)\n",
        "# df = pd.DataFrame(INFO['data']['bestSeller'])\n",
        "\n",
        "url='https://product.kyobobook.co.kr/api/review/list?page=1&pageLimit=10000&reviewSort=001&revwPatrCode=000&saleCmdtid=S000001774493'\n",
        "INFO = get_INFO(url,header)\n",
        "df = pd.DataFrame(INFO['data']['reviewList'])"
      ],
      "metadata": {
        "id": "j4Cj1FNgAyDU"
      },
      "execution_count": 15,
      "outputs": []
    },
    {
      "cell_type": "code",
      "source": [
        "# !pip install xlsxwriter\n",
        "# !pip install xwrt\n",
        "# import xwrt\n",
        "# import xlsxwriter\n",
        "df.to_excel('review.xls')"
      ],
      "metadata": {
        "colab": {
          "base_uri": "https://localhost:8080/"
        },
        "id": "yJmNONfitTtH",
        "outputId": "8f2a3086-695a-4597-9c51-d81d3a29b856"
      },
      "execution_count": 16,
      "outputs": [
        {
          "output_type": "stream",
          "name": "stderr",
          "text": [
            "/usr/local/lib/python3.7/dist-packages/ipykernel_launcher.py:5: FutureWarning: As the xlwt package is no longer maintained, the xlwt engine will be removed in a future version of pandas. This is the only engine in pandas that supports writing in the xls format. Install openpyxl and write to an xlsx file instead. You can set the option io.excel.xls.writer to 'xlwt' to silence this warning. While this option is deprecated and will also raise a warning, it can be globally set and the warning suppressed.\n",
            "  \"\"\"\n"
          ]
        }
      ]
    }
  ]
}