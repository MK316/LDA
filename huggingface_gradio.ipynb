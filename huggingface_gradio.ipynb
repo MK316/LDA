{
  "nbformat": 4,
  "nbformat_minor": 0,
  "metadata": {
    "colab": {
      "name": "Untitled33.ipynb",
      "provenance": [],
      "authorship_tag": "ABX9TyNo6zAZ22/QdYtiCWMAt7RM",
      "include_colab_link": true
    },
    "kernelspec": {
      "name": "python3",
      "display_name": "Python 3"
    },
    "language_info": {
      "name": "python"
    }
  },
  "cells": [
    {
      "cell_type": "markdown",
      "metadata": {
        "id": "view-in-github",
        "colab_type": "text"
      },
      "source": [
        "<a href=\"https://colab.research.google.com/github/hsnam95/my/blob/main/huggingface_gradio.ipynb\" target=\"_parent\"><img src=\"https://colab.research.google.com/assets/colab-badge.svg\" alt=\"Open In Colab\"/></a>"
      ]
    },
    {
      "cell_type": "code",
      "execution_count": null,
      "metadata": {
        "id": "F79rg8chJVI4"
      },
      "outputs": [],
      "source": [
        "!pip install gradio"
      ]
    },
    {
      "cell_type": "code",
      "source": [
        "import gradio as gr"
      ],
      "metadata": {
        "id": "ON3lfIXmJZTQ"
      },
      "execution_count": null,
      "outputs": []
    },
    {
      "cell_type": "code",
      "source": [
        "gr.Interface.load(\"huggingface/kresnik/wav2vec2-large-xlsr-korean\", inputs=\"mic\").launch()"
      ],
      "metadata": {
        "id": "sRB-Gl5VX_9W"
      },
      "execution_count": null,
      "outputs": []
    },
    {
      "cell_type": "code",
      "source": [
        "gr.Interface.load(\"huggingface/gpt2\").launch();"
      ],
      "metadata": {
        "id": "JhDyGqRZtFn4"
      },
      "execution_count": null,
      "outputs": []
    },
    {
      "cell_type": "code",
      "source": [
        "gr.Interface.load(\"huggingface/EleutherAI/gpt-j-6B\", inputs=gr.inputs.Textbox(lines=5, label=\"Input Text\")  # customizes the input component\n",
        ").launch()"
      ],
      "metadata": {
        "id": "NfpetIo-tI0B"
      },
      "execution_count": null,
      "outputs": []
    },
    {
      "cell_type": "code",
      "source": [
        "!pip install transformers"
      ],
      "metadata": {
        "colab": {
          "base_uri": "https://localhost:8080/"
        },
        "id": "h36uKHwsqmBD",
        "outputId": "99df4b23-6b96-4ac6-928c-8ba47ca2e5d3"
      },
      "execution_count": null,
      "outputs": [
        {
          "output_type": "stream",
          "name": "stdout",
          "text": [
            "Requirement already satisfied: joblib in /usr/local/lib/python3.7/dist-packages (from sacremoses->transformers) (1.1.0)\n",
            "Requirement already satisfied: click in /usr/local/lib/python3.7/dist-packages (from sacremoses->transformers) (7.1.2)\n",
            "Requirement already satisfied: six in /usr/local/lib/python3.7/dist-packages (from sacremoses->transformers) (1.15.0)\n"
          ]
        }
      ]
    },
    {
      "cell_type": "code",
      "source": [
        "from transformers import pipeline\n",
        "classifier = pipeline(\"sentiment-analysis\")\n",
        "def func(utterance):\n",
        "  return classifier(utterance)\n",
        "gr.Interface(fn=func, inputs=\"text\", outputs=\"text\").launch()"
      ],
      "metadata": {
        "id": "pcsdUAnqPqB_"
      },
      "execution_count": null,
      "outputs": []
    },
    {
      "cell_type": "code",
      "source": [
        "gr.Interface.load(\"spaces/eugenesiow/remove-bg\", inputs=\"webcam\", title=\"Remove your webcam background!\").launch()"
      ],
      "metadata": {
        "id": "tXJ7_hJ3dKxe"
      },
      "execution_count": null,
      "outputs": []
    },
    {
      "cell_type": "code",
      "source": [
        "import requests\n",
        "import tensorflow as tf\n",
        "\n",
        "import gradio as gr\n",
        "\n",
        "inception_net = tf.keras.applications.MobileNetV2()  # load the model\n",
        "\n",
        "# Download human-readable labels for ImageNet.\n",
        "response = requests.get(\"https://git.io/JJkYN\")\n",
        "labels = response.text.split(\"\\n\")\n",
        "\n",
        "\n",
        "def classify_image(inp):\n",
        "    inp = inp.reshape((-1, 224, 224, 3))\n",
        "    inp = tf.keras.applications.mobilenet_v2.preprocess_input(inp)\n",
        "    prediction = inception_net.predict(inp).flatten()\n",
        "    return {labels[i]: float(prediction[i]) for i in range(1000)}\n",
        "\n",
        "\n",
        "image = gr.inputs.Image(shape=(224, 224))\n",
        "label = gr.outputs.Label(num_top_classes=3)\n",
        "\n",
        "gr.Interface(fn=classify_image, inputs=image, outputs=label, interpretation=\"default\").launch()"
      ],
      "metadata": {
        "id": "XJqg98LauNMq"
      },
      "execution_count": null,
      "outputs": []
    },
    {
      "cell_type": "code",
      "source": [
        "gr.Interface(fn=classify_image, inputs=image, outputs=label, interpretation=\"shap\", num_shap=5).launch()\n"
      ],
      "metadata": {
        "id": "DWU7B3IevIbw"
      },
      "execution_count": null,
      "outputs": []
    }
  ]
}