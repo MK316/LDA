{
  "nbformat": 4,
  "nbformat_minor": 0,
  "metadata": {
    "colab": {
      "provenance": [],
      "authorship_tag": "ABX9TyOcE46a+DP3v9SrZe4H4S61",
      "include_colab_link": true
    },
    "kernelspec": {
      "name": "python3",
      "display_name": "Python 3"
    },
    "language_info": {
      "name": "python"
    }
  },
  "cells": [
    {
      "cell_type": "markdown",
      "metadata": {
        "id": "view-in-github",
        "colab_type": "text"
      },
      "source": [
        "<a href=\"https://colab.research.google.com/github/hsnam95/my/blob/main/YES24API.ipynb\" target=\"_parent\"><img src=\"https://colab.research.google.com/assets/colab-badge.svg\" alt=\"Open In Colab\"/></a>"
      ]
    },
    {
      "cell_type": "code",
      "source": [
        "import pandas as pd\n",
        "import json\n",
        "import requests\n",
        "\n",
        "# https://github.com/hsnam95/class2019Spring/blob/master/crawling.ipynb"
      ],
      "metadata": {
        "id": "nhZj-Bi8Atg2"
      },
      "execution_count": 1,
      "outputs": []
    },
    {
      "cell_type": "markdown",
      "source": [],
      "metadata": {
        "id": "Lr0GmQJgX8tn"
      }
    },
    {
      "cell_type": "code",
      "source": [
        "bookID = '176787'\n",
        "header = {\"User-Agent\": \"Mozilla/5.0 (Macintosh; Intel Mac OS X 10_15_7) AppleWebKit/605.1.15 (KHTML, like Gecko) Version/15.6 Safari/605.1.15\",}\n",
        "url = f'http://www.yes24.com/Product/communityModules/GoodsReviewList/{bookID}?Sort=1&PageNumber=1&Type=ALL'\n",
        "\n",
        "response = requests.get(url,headers=header)\n",
        "from bs4 import BeautifulSoup\n",
        "soup = BeautifulSoup(response.content, 'html.parser')\n",
        "soup\n"
      ],
      "metadata": {
        "id": "j4Cj1FNgAyDU"
      },
      "execution_count": null,
      "outputs": []
    },
    {
      "cell_type": "code",
      "source": [
        "review_origin = soup.find_all('div', class_='reviewInfoBot origin')\n",
        "review_origin"
      ],
      "metadata": {
        "id": "gHQZLPGgc79f"
      },
      "execution_count": null,
      "outputs": []
    },
    {
      "cell_type": "code",
      "source": [
        "cont = review_origin[0].find('div', class_='review_cont')\n",
        "cont"
      ],
      "metadata": {
        "id": "ap2DawyFqBCZ"
      },
      "execution_count": null,
      "outputs": []
    },
    {
      "cell_type": "code",
      "source": [
        "paras = cont.find_all(\"p\")\n",
        "paras"
      ],
      "metadata": {
        "id": "pu9YXfcpqCmv",
        "outputId": "f3c6ff6d-f6c8-4234-e02c-fdb85338808d",
        "colab": {
          "base_uri": "https://localhost:8080/"
        }
      },
      "execution_count": 38,
      "outputs": [
        {
          "output_type": "execute_result",
          "data": {
            "text/plain": [
              "[<p>헤르만 헤세 작가의 유명한 소설인 &lt;데미안&gt;.</p>,\n",
              " <p>사실 이 작품은 워낙 유명해서 고전소설을 잘 읽지 않는 나도 제목을 알고 있었을 정도였는데 이번에 책을 구매하게 된 건 사실 내가 먼저 읽으려고 구매한 건 아니고 부모님이 필요해서 주문해달라고 부탁하셔서 구매했다.</p>,\n",
              " <p>그렇게 먼저 부모님이 읽으시고 책장에 꽂혀있던 책을 우연히 할 일이 딱히 없던 주말에 발견하게 되어서 펼쳐보았고, 명작은 이유가 있다는 사실을 다시 한번 깨닫게 되었다.</p>,\n",
              " <p>말주변이 없어 자세히 설명하지는 못하겠지만 주인공이 어른이 되어가는 과정을 같이 지켜보면서 또 깨닫게 되고 성장하는 그 감정이 좋았다.</p>,\n",
              " <p>맑은 가을하늘이 지속되는 요즘같은 날에 또 다시 읽어보기 좋은 책같다.</p>]"
            ]
          },
          "metadata": {},
          "execution_count": 38
        }
      ]
    },
    {
      "cell_type": "code",
      "source": [
        "paras[0].string\n"
      ],
      "metadata": {
        "id": "8C6XrDo_qDdM",
        "outputId": "d2aee78e-1004-4d8e-9495-a04b52dcb318",
        "colab": {
          "base_uri": "https://localhost:8080/",
          "height": 35
        }
      },
      "execution_count": 39,
      "outputs": [
        {
          "output_type": "execute_result",
          "data": {
            "text/plain": [
              "'헤르만 헤세 작가의 유명한 소설인 <데미안>.'"
            ],
            "application/vnd.google.colaboratory.intrinsic+json": {
              "type": "string"
            }
          },
          "metadata": {},
          "execution_count": 39
        }
      ]
    },
    {
      "cell_type": "code",
      "source": [
        "review_origin[1]"
      ],
      "metadata": {
        "id": "sPGOsyCwu20W",
        "outputId": "373d3185-2036-4b16-dbb3-9c87a8c7bfb5",
        "colab": {
          "base_uri": "https://localhost:8080/"
        }
      },
      "execution_count": 64,
      "outputs": [
        {
          "output_type": "execute_result",
          "data": {
            "text/plain": [
              "<div class=\"reviewInfoBot origin\">\n",
              "<div class=\"review_lnk\"><p>원문주소 : <a href=\"http://blog.yes24.com/document/17001975\" target=\"_blank\">http://blog.yes24.com/document/17001975</a></p></div>\n",
              "\n",
              "</div>"
            ]
          },
          "metadata": {},
          "execution_count": 64
        }
      ]
    },
    {
      "cell_type": "code",
      "source": [],
      "metadata": {
        "id": "4O_Sb-QExORo"
      },
      "execution_count": null,
      "outputs": []
    },
    {
      "cell_type": "code",
      "source": [
        "result = []\n",
        "review_origin = soup.find_all('div', class_='reviewInfoBot origin')\n",
        "n = 0\n",
        "for r in review_origin:\n",
        "  cont = r.find('div', class_='review_cont')\n",
        "  print(cont)"
      ],
      "metadata": {
        "id": "vKu4aDInr-4y",
        "outputId": "b2d3e895-885a-4d66-f448-c9b176b16099",
        "colab": {
          "base_uri": "https://localhost:8080/"
        }
      },
      "execution_count": 66,
      "outputs": [
        {
          "output_type": "stream",
          "name": "stdout",
          "text": [
            "<div class=\"review_cont\">\n",
            "<p>나는 절대 악이오. 사랑하는 사람에 대한 피끓는 증오심을 갖는다. 나는 절대 선이오. 증오하는 사람에 대한 들끓는 연민을 갖는다. 대체로 어떤 부분에 있어서 '선'이고 어떤 부분에 있어서 '악'이다. '악'은 '선'이고 '선'은 '악'이다. 정확히 이분할 수 없는 모호한 개념들이 에테르(ether) 상태로 존재하다가 상(相)을 짓는 순간, 그것은 그것으로 정의된다. 양자역학의 관찰자 효과와 같다. 모든 것은 파동으로 존재하나, 그것을 관찰하는 순간 물질로 바뀐다. 고대 인도에서는 인간이 짓는 4가지 상(相)을 주의하라고 했다. 산스크리트어로 말하면, '아트마 삼즈나', '사트바 삼즈나', '지바 삼즈나', '뿓갈라 삼즈마'다. 이것을 한자로 음차 한 것이 아상, 인상, 중생상, 수자상이다. 금강경에서 말하는 철학적 개념이다.</p>\n",
            "<p></p>\n",
            "<p>'자신'을 불변한 존재로 보는 '아상'</p>\n",
            "<p>'자신'과 남를 나누어 보는 '인상'</p>\n",
            "<p>'쾌락'과 '호감'만 취하는 '중생상'</p>\n",
            "<p>'영생'에 대한 욕심을 가지는 '수자상'</p>\n",
            "<p></p>\n",
            "<p>종교에 상관없다. 애초에 불교는 '철학'으로 볼 때, 더 많은 걸 배울 수 있다. 다양한 종교가 섞여 혼재하는 현대 사회에서 '종교색'으로 덮어질 철학을 다시 끄집어 내본다. '자아'를 불변한 존재로 규정하거나 자신과 자신과 남을 구분하거나, 쾌락과 호감만 취한다거나, 영원히 살 것이라는 욕심을 갖는 것은 분명 곡해된 시선이다. 이처럼 왜곡된 시선으로 사물의 성질을 '정의'하는 것을 상(相)을 짓는다라고 금강경은 말했다. 누구나 그렇다. 오은영 박사는 부모를 미워하는 마음에 대해 '충분히 그럴 수 있다'고 말했다. 도덕이 정한 '선'이 규정은 태초부터 존재한 것이 아니다. 태초는 '선'과 '악'이 존재하지 않았다. 구약에 따르면 최초의 인류인 아담과 하와는 하나님이 금단(禁斷)하신 열매인 '선악과'를 먹는다. 선악과는 '선과 악'을 알게 하는 과일이다. 이것을 먹으므로 인간은 '선'과 '악'을 구분 짓는다. 태초에는 '선과 악'이 존재하지 않았다. 인간은 '하나님(자연)'의 섭리를 거스르고 상(相)을 짓게 됨으로 고통을 알게 된다.</p>\n",
            "<p></p>\n",
            "<p>불순종의 결과 그들은 에덴동산에서 추방되었고 또 고통과 죽음을 맛보게 되었다.(창2:15-3:24).</p>\n",
            "<p></p>\n",
            "<p>그렇다. 창세기에 따르면 세상 만물은 선과 악이 존재하지 않는다. 선악과를 따먹은 인간은 그것을 온전히 보지 못하고 '선'과 '악'으로 구별하여 상(相)을 짓는다. 언어가 다르고, 표현 방법이 다르고 해석이 다르지만, 사실 동서의 현자들은 이미 같은 이야기를 하고 있다. 러시아가 우크라이나를 침공하거나, 호랑이가 사슴을 잡아먹거나, 인간이 돼지를 구워 먹는 것은 '선', '악'의 개념이 아니다. 어떤 것에 '선'과 '악'을 대입하는 순간, 우리는 하나님이 내린 '고통'을 알게 된다. 불교에서 이것을 '번뇌'라고 부른다. 구약에 따르면 그 뒤로 인간은 '부끄러움'을 알게 된다. 부끄러움은 '두려움'과 '죄의식'으로 연결된다. 선과 악을 구분 짓는 것은 두려움과 공포가 생겼다는 의미다. 그 어떤 것에도 '선'과 '악'을 구별하지 않으며 상(相)을 짓지 않는 것을 고대 인도에서는 '모크샤'라고 불렀다. 이는 산스크리트어로 '괴로움이 없는 상태'를 말하고 '해탈(堅固)'이라 한자로 사용했다. 상(相)을 짓지 않는 속박에 해방된 최고의 경지를 '니르바니'라고 한다. 이를 한자로 음차하는 과정에서 '열반(涅槃)'이라고 부른다.</p>\n",
            "<p></p>\n",
            "<p>로마서 11장 36절에는 다음과 같은 말이 있다.</p>\n",
            "<p>\"만물이 주에게서 나오고, 주로 말미암고 주에게로 돌아감이라.\"</p>\n",
            "<p>성경에서 말하는 최종 진리와 목적은 '주께 이르는 일'이다. 즉, 최초의 선과 악을 구별하지 않는 완전히 자유로운 상태로 이르는 일이다. 예수 그리스도는 '선'을 '선'으로 규정하지 않고, '악'을 '악'으로 규정하지 않았다. 누가복음 23장 34절에서 예수는 말한다.</p>\n",
            "<p>\"주여 저들을 용서하소서, 저들은 저들이 하는 일을 알지 못하옵나이다.\"</p>\n",
            "<p>자신을 십자가 위에 못 박고 죽이는 자들을 위한 기도는 그들을 바라봄에 있어 '선'도 '악'도 없이 바라본다.</p>\n",
            "<p>헤르만 헤세의 소설 '데미안'을 보면 주인공 '에밀 싱클레어'는 순수한 무지렁이 상태에서 '프란츠 크로머'를 만나며 '선과 '악'을 구분하기 시작한다. 분명한 '악'이 생겨나자 더 또렷한 막스 데미안이 '선'으로 등장한다. 선과 악을 구별한 순간부터 '에밀 싱클레어'의 삶은 '번뇌'와 '고통' 부끄러움이 따른다. 이는 성경이 말하고 불경이 말한 인간의 죄에 해당한다. 나태하고 속이고 훔치는 자신을 발견할 때마다, 다시 어떤 면에서는 극명한 선이 등장하여 우리를 구원한다. 스스로 자신이 누군지를 파악하지 못하고 갈팡질팡하며 인간의 고뇌가 고스라니 느껴진다. 헤르만 헤세는 이 소설을 발표할 때, 이미 유명한 자신의 이름이 아닌 '싱클레어'라는 필명을 사용했다. 독자들이 그의 문체에 의혹을 제기한 뒤, 4쇄 출간부터 본명을 사용한다. 헤르만 헤세는 '데미안'을 쓸 때, 구스타프 칼 융을 만난다. 소설 철학적 배경이 어디에서 시작했는지 짐작이 가는 부분이다. 이 둘은 모두 불교인은 아니다. 다만 그들은 불교적 철학을 종교가 아닌 '심리학'과 '철학'적 도구로 이용한다. 이 둘에 관한 내용은 '북유럽 출판'의 '헤세와 융'을 보고 더 알 수 있다.</p>\n",
            "<p></p>\n",
            "<p>우리는 불완전한 존재다. 어느 전쟁에서 누군가는 많은 사람을 죽인 댓가로 '선'을 부여 받고, 누군가는 죽이지 못한 댓가로 '악'을 부여 받기도 한다. 인류 역사를 포함해 우주창조 이래로 선과 악은 단 한 번도 존재한 적없다. 바라보는 이가 어떻게 그것을 규정하는지에 따라 모든 것은 결정된다. 선악과를 먹은 우리가 아무런 상을 짓지 않고 온전하게 세계를 바라보기 위해서는 '주께 이르는 끊임 없는 기도' 혹은 '불경한 마음을 갈고 닭는 수행'이 필요하다. 있는 그대로 받아들이자. 모든 것은 스스로 완전하며 거기에는 선과 악도, 좋음과 나쁨도 없다. 그저 그 자체로 완전하다. 그것은 이미 우주와 신이 만든 완벽함이며 그것을 곡해되게 해석하는 인간의 어리석음이 두려움을 만들어낼 뿐이다. 있는 그대로 받아들여라. 상대나 나, 현상, 사건 모든 것을...자신을 바라보는 모든 것은 사실 '선과 악'으로 자신을 구별할 수 없으며 모든 것은 자신을 만들어오는 과정들일 뿐이다. 이또한 완전한 조물주의 완벽함이다. 그 모든 일이 있었음에도 당신은 여전히 당신이다. 간혹 불교 사상과 비교되는 니체의 사상에 따르면 그 모든 것은 망상이며 우리가 스스로 만들어낸 환영들일 뿐이다. 데미안은 이미 몇 차례 읽은 도서다. 분량은 짧지만 그 묵직함은 코스모스와 사피엔스, 성경, 불경을 포함해 다수의 심리학, 철학 책의 무게감을 갖는다. 개인적으로 '민음사'의 고전 시리즈를 좋아하는데, 이유는 오롯이 내용에 집중하여 저렴한 비용으로 꽤 많은 도서를 소개하기 때문이다. 앞으로 꾸준히 고전에 관한 개인적 서평도 올릴 예정이다.</p>\n",
            "</div>\n",
            "<div class=\"review_cont\">\r\n",
            "                이 리뷰는 민음사에서 출간된 세계문학전집 시리즈 중에서 헤르만 헤세의 데미안 책에 대한 리뷰입니다. 제목만 들어보고 그간 읽을 기회가 없었는데 이번에 읽게 되어서 좋았습니다. 가장 인상적이었던 부분은, 책 가장 마지막 부분에 싱클레어가 심리적으로 성장해서 데미안 없이도 자기 자신을 스스로 일으켜세울 수 있음을 이야기하는 부분이 감동적이었습니다.    \r\n",
            "            </div>\n",
            "<div class=\"review_cont\">\n",
            "<p><span style=\"color: #ffffff\"><span style=\"background-color: #66cccc\">책 속 문장</span></span></p>\n",
            "<blockquote>\n",
            "<p>그날 밤 나는 데미안과 문장에 관한 꿈을 꾸었다. 문장은 자꾸 변했다. 데미안은 그것을 두 손에 들고 있었다. 그것은 작은 회색빛이었다가는 또 거대하고 요란한 색을 지닌 것이기도 했다. 그러나 데미안은 그것이 언제나 한 개이며, 똑같은 것이라고 설명했다. 마지막에 그는 나에게 문장을 먹으라고 강요했다. 내가 그것을 삼켜 버렸을 때 나는 끔찍스런 놀라움을 느꼈다. 내가 삼킨 문장의 새가 내 속에 살아 있으며, 나를 가득 채우며, 내부에서 나를 쪼아먹기 시작한 것이다. 죽음의 공포에 가득 차서 나는 깜짝 놀라 깨어났다.</p>\n",
            "<p> </p>\n",
            "<p style=\"text-align: right\">_본문에서</p>\n",
            "</blockquote>\n",
            "<p> </p>\n",
            "<p> </p>\n",
            "<p><span style=\"background-color: #cccc99\">책을 읽고</span></p>\n",
            "<p>/</p>\n",
            "<p> 데미안은 처음 읽었을 때 보다 다시 읽은 지금이 더 선명하게 다가온 책입니다 잘 알려진 문장에 집착한 나머지 도저히 잊지 말아야 할 가치들에 대한 대화가 들리지 않았습니다 몇 번을 다시 읽어도 좋을 고전으로 '성장소설'이라는 편견을 깨버리려 합니다</p>\n",
            "<p> </p>\n",
            "<p> 은유와 환상이 많았던 데미안을 통해 안개를 뒤집어쓴 것 같았던 사고의 원인을 깨닫고 분리된 세상의 경계를 지우고 파괴를 계속해야겠습니다 몇 년 만에 다시 읽은 결과로 환상적인 현실을 살아가기 위한 조언을 얻습니다</p>\n",
            "<p> </p>\n",
            "<p> </p>\n",
            "<p style=\"text-align: center\"><img alt=\"\" height=\"372\" src=\"http://image.yes24.com/blogimage/blog/m/o/momo2000/temp/IMG_20221010_212911.jpg\" width=\"580\"/></p>\n",
            "<p><br/>\n",
            " </p>\n",
            "<blockquote>\n",
            "<p>너의 내면에 있는 것, 너의 생활을 이루고 있는 것은 이미 그것을 알고 있어. 우리의 내부에 모든 것을 알고, 모든 것을 원하고, 모든 것을 우리 자신보다도 더 잘 아는 무엇인가가 들어 있다는 것을 이해하는 것은 좋은 일이야.</p>\n",
            "<p> </p>\n",
            "<p style=\"text-align: right\">_본문에서</p>\n",
            "</blockquote>\n",
            "</div>\n",
            "<div class=\"review_cont\">\n",
            "<p>\"나는 자연에 던져진 돌이었다. 불확실함속으로 어쩌면 새로운 것에로 어쩌면 무에로 던져졌다. 그리고 측량할 길이 없는 곳으로부터의 이 던져짐이 남김없이 이루어지게 하고 그 뜻을 마음속에서 느끼고 그것 완전히 내 것으로 만드는것 그것만이 나의 전부이었다 오직 그것만이!\"</p>\n",
            "<p>데미안을 읽고 다시 나의 내면에 용기를 불어넣고 나의 삶의 의미를 그 안에서 찾는 길을 떠나본다.</p>\n",
            "</div>\n",
            "<div class=\"review_cont\">\n",
            "<p>헤르만 헤세 작가의 유명한 소설인 &lt;데미안&gt;.</p>\n",
            "<p>사실 이 작품은 워낙 유명해서 고전소설을 잘 읽지 않는 나도 제목을 알고 있었을 정도였는데 이번에 책을 구매하게 된 건 사실 내가 먼저 읽으려고 구매한 건 아니고 부모님이 필요해서 주문해달라고 부탁하셔서 구매했다.</p>\n",
            "<p>그렇게 먼저 부모님이 읽으시고 책장에 꽂혀있던 책을 우연히 할 일이 딱히 없던 주말에 발견하게 되어서 펼쳐보았고, 명작은 이유가 있다는 사실을 다시 한번 깨닫게 되었다.</p>\n",
            "<p>말주변이 없어 자세히 설명하지는 못하겠지만 주인공이 어른이 되어가는 과정을 같이 지켜보면서 또 깨닫게 되고 성장하는 그 감정이 좋았다.</p>\n",
            "<p>맑은 가을하늘이 지속되는 요즘같은 날에 또 다시 읽어보기 좋은 책같다.</p>\n",
            "</div>\n"
          ]
        }
      ]
    }
  ]
}