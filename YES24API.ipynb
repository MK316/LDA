{
  "nbformat": 4,
  "nbformat_minor": 0,
  "metadata": {
    "colab": {
      "provenance": [],
      "authorship_tag": "ABX9TyNc8Q+dundHknVk0/j0asew",
      "include_colab_link": true
    },
    "kernelspec": {
      "name": "python3",
      "display_name": "Python 3"
    },
    "language_info": {
      "name": "python"
    }
  },
  "cells": [
    {
      "cell_type": "markdown",
      "metadata": {
        "id": "view-in-github",
        "colab_type": "text"
      },
      "source": [
        "<a href=\"https://colab.research.google.com/github/hsnam95/my/blob/main/YES24API.ipynb\" target=\"_parent\"><img src=\"https://colab.research.google.com/assets/colab-badge.svg\" alt=\"Open In Colab\"/></a>"
      ]
    },
    {
      "cell_type": "code",
      "source": [
        "import pandas as pd\n",
        "import json\n",
        "import requests\n",
        "\n",
        "# https://github.com/hsnam95/class2019Spring/blob/master/crawling.ipynb"
      ],
      "metadata": {
        "id": "nhZj-Bi8Atg2"
      },
      "execution_count": 123,
      "outputs": []
    },
    {
      "cell_type": "markdown",
      "source": [],
      "metadata": {
        "id": "Lr0GmQJgX8tn"
      }
    },
    {
      "cell_type": "code",
      "source": [
        "bookID = '176787'\n",
        "header = {\"User-Agent\": \"Mozilla/5.0 (Macintosh; Intel Mac OS X 10_15_7) AppleWebKit/605.1.15 (KHTML, like Gecko) Version/15.6 Safari/605.1.15\",}\n",
        "url = f'http://www.yes24.com/Product/communityModules/GoodsReviewList/{bookID}?Sort=1&PageNumber=1&Type=ALL'\n",
        "\n",
        "response = requests.get(url,headers=header)\n",
        "from bs4 import BeautifulSoup\n",
        "soup = BeautifulSoup(response.content, 'html.parser')\n",
        "soup\n"
      ],
      "metadata": {
        "id": "j4Cj1FNgAyDU"
      },
      "execution_count": null,
      "outputs": []
    },
    {
      "cell_type": "code",
      "source": [
        "review_origin = soup.select('div.reviewInfoBot.origin > div.review_cont')\n",
        "review_origin"
      ],
      "metadata": {
        "id": "gHQZLPGgc79f"
      },
      "execution_count": null,
      "outputs": []
    },
    {
      "cell_type": "code",
      "source": [
        "rall = []\n",
        "for r in review_origin:\n",
        "  cont = r.select('p')\n",
        "  if cont:\n",
        "    ps = [p.get_text() for p in cont]\n",
        "    pall = ''.join(ps)\n",
        "  else:\n",
        "    pall = r.get_text()\n",
        "  rall.append(pall)\n",
        "rall"
      ],
      "metadata": {
        "id": "ap2DawyFqBCZ"
      },
      "execution_count": null,
      "outputs": []
    },
    {
      "cell_type": "code",
      "source": [
        "\n",
        "\n"
      ],
      "metadata": {
        "id": "vKu4aDInr-4y"
      },
      "execution_count": null,
      "outputs": []
    }
  ]
}