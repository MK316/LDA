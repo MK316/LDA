{
  "nbformat": 4,
  "nbformat_minor": 0,
  "metadata": {
    "colab": {
      "provenance": [],
      "authorship_tag": "ABX9TyNcQI29rnZZKDCMpVzeDMba",
      "include_colab_link": true
    },
    "kernelspec": {
      "name": "python3",
      "display_name": "Python 3"
    },
    "language_info": {
      "name": "python"
    }
  },
  "cells": [
    {
      "cell_type": "markdown",
      "metadata": {
        "id": "view-in-github",
        "colab_type": "text"
      },
      "source": [
        "<a href=\"https://colab.research.google.com/github/hsnam95/my/blob/main/YES24API.ipynb\" target=\"_parent\"><img src=\"https://colab.research.google.com/assets/colab-badge.svg\" alt=\"Open In Colab\"/></a>"
      ]
    },
    {
      "cell_type": "code",
      "source": [
        "import pandas as pd\n",
        "import json\n",
        "import requests\n",
        "\n",
        "# https://github.com/hsnam95/class2019Spring/blob/master/crawling.ipynb"
      ],
      "metadata": {
        "id": "nhZj-Bi8Atg2"
      },
      "execution_count": 2,
      "outputs": []
    },
    {
      "cell_type": "markdown",
      "source": [],
      "metadata": {
        "id": "Lr0GmQJgX8tn"
      }
    },
    {
      "cell_type": "code",
      "source": [
        "bookID = '176787'\n",
        "header = {\"User-Agent\": \"Mozilla/5.0 (Macintosh; Intel Mac OS X 10_15_7) AppleWebKit/605.1.15 (KHTML, like Gecko) Version/15.6 Safari/605.1.15\",}\n",
        "url = f'http://www.yes24.com/Product/communityModules/GoodsReviewList/{bookID}?Sort=1&PageNumber=1&Type=ALL'\n",
        "\n",
        "response = requests.get(url,headers=header)\n",
        "from bs4 import BeautifulSoup\n",
        "soup = BeautifulSoup(response.content, 'html.parser')\n",
        "soup\n"
      ],
      "metadata": {
        "id": "j4Cj1FNgAyDU"
      },
      "execution_count": null,
      "outputs": []
    },
    {
      "cell_type": "code",
      "source": [
        "review_origin = soup.find_all(\"div\", {\"class\": \"reviewInfoBot origin\"})\n",
        "sents = review_origin[0].find(\"div\", {\"class\": \"review_cont\"})\n",
        "sent = sents.find_all(\"p\")\n",
        "sent[0].get_text()\n"
      ],
      "metadata": {
        "colab": {
          "base_uri": "https://localhost:8080/",
          "height": 89
        },
        "id": "gHQZLPGgc79f",
        "outputId": "181ef46b-503d-4784-b951-5bed33c003d9"
      },
      "execution_count": 46,
      "outputs": [
        {
          "output_type": "execute_result",
          "data": {
            "text/plain": [
              "\"나는 절대 악이오. 사랑하는 사람에 대한 피끓는 증오심을 갖는다. 나는 절대 선이오. 증오하는 사람에 대한 들끓는 연민을 갖는다. 대체로 어떤 부분에 있어서 '선'이고 어떤 부분에 있어서 '악'이다. '악'은 '선'이고 '선'은 '악'이다. 정확히 이분할 수 없는 모호한 개념들이 에테르(ether) 상태로 존재하다가 상(相)을 짓는 순간, 그것은 그것으로 정의된다. 양자역학의 관찰자 효과와 같다. 모든 것은 파동으로 존재하나, 그것을 관찰하는 순간 물질로 바뀐다. 고대 인도에서는 인간이 짓는 4가지 상(相)을 주의하라고 했다. 산스크리트어로 말하면, '아트마 삼즈나', '사트바 삼즈나', '지바 삼즈나', '뿓갈라 삼즈마'다. 이것을 한자로 음차 한 것이 아상, 인상, 중생상, 수자상이다. 금강경에서 말하는 철학적 개념이다.\""
            ],
            "application/vnd.google.colaboratory.intrinsic+json": {
              "type": "string"
            }
          },
          "metadata": {},
          "execution_count": 46
        }
      ]
    }
  ]
}