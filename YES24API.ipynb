{
  "nbformat": 4,
  "nbformat_minor": 0,
  "metadata": {
    "colab": {
      "provenance": [],
      "authorship_tag": "ABX9TyP5SxCjDVc1NSlEWDu7+SqZ",
      "include_colab_link": true
    },
    "kernelspec": {
      "name": "python3",
      "display_name": "Python 3"
    },
    "language_info": {
      "name": "python"
    }
  },
  "cells": [
    {
      "cell_type": "markdown",
      "metadata": {
        "id": "view-in-github",
        "colab_type": "text"
      },
      "source": [
        "<a href=\"https://colab.research.google.com/github/hsnam95/my/blob/main/YES24API.ipynb\" target=\"_parent\"><img src=\"https://colab.research.google.com/assets/colab-badge.svg\" alt=\"Open In Colab\"/></a>"
      ]
    },
    {
      "cell_type": "code",
      "source": [
        "import pandas as pd\n",
        "import json\n",
        "import requests\n",
        "from bs4 import BeautifulSoup\n",
        "import re\n",
        "import numpy as np\n"
      ],
      "metadata": {
        "id": "nhZj-Bi8Atg2"
      },
      "execution_count": 232,
      "outputs": []
    },
    {
      "cell_type": "code",
      "source": [
        "bookID = '176787'"
      ],
      "metadata": {
        "id": "j4Cj1FNgAyDU"
      },
      "execution_count": null,
      "outputs": []
    },
    {
      "cell_type": "code",
      "source": [
        "url = f'http://www.yes24.com/Product/communityModules/GoodsReviewList/{bookID}?Sort=1&PageNumber=1&Type=ALL'\n",
        "response = requests.get(url)\n",
        "soup = BeautifulSoup(response.content, 'html.parser')\n",
        "tmp = soup.find(string=re.compile('reviewCountText'))\n",
        "# text = tmp.get_text()\n",
        "tmp = str(tmp)\n",
        "cnt = re.findall('(?<= reviewCountText = \\')\\d*(?=\\')', tmp)\n",
        "cnt = int(cnt[0])\n",
        "\n",
        "nPage = int(np.ceil(cnt/5))"
      ],
      "metadata": {
        "id": "q9xZlnJzSP5i"
      },
      "execution_count": 227,
      "outputs": []
    },
    {
      "cell_type": "code",
      "source": [
        "data = {'title': [],\n",
        "        'score': [],\n",
        "        'ID': [],\n",
        "        'date': [],\n",
        "        'text': []}\n",
        "\n",
        "df = pd.DataFrame(data)\n"
      ],
      "metadata": {
        "id": "MkNNj561QaZh"
      },
      "execution_count": 233,
      "outputs": []
    },
    {
      "cell_type": "code",
      "source": [
        "i = 0\n",
        "for n in range(nPage):\n",
        "  PageNumber = n + 1\n",
        "  url = f'http://www.yes24.com/Product/communityModules/GoodsReviewList/{bookID}?Sort=1&PageNumber={PageNumber}&Type=ALL'\n",
        "  response = requests.get(url)\n",
        "  \n",
        "  soup = BeautifulSoup(response.content, 'html.parser')\n",
        "  review_origin = soup.select('div.reviewInfoBot.origin > div.review_cont')\n",
        "\n",
        "  for r in review_origin:\n",
        "    text = r.get_text()\n",
        "    \n",
        "    row = ['', '', '', '', text]\n",
        "    df.loc[i, :] = row\n",
        "    i += 1\n"
      ],
      "metadata": {
        "id": "YJ6D1OVA4MLk"
      },
      "execution_count": 238,
      "outputs": []
    },
    {
      "cell_type": "code",
      "source": [
        "df"
      ],
      "metadata": {
        "id": "Cz7ac2vrStyA"
      },
      "execution_count": null,
      "outputs": []
    },
    {
      "cell_type": "code",
      "source": [
        "soup"
      ],
      "metadata": {
        "id": "gHQZLPGgc79f"
      },
      "execution_count": null,
      "outputs": []
    }
  ]
}