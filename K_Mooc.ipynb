{
  "nbformat": 4,
  "nbformat_minor": 0,
  "metadata": {
    "colab": {
      "name": "K-Mooc.ipynb",
      "provenance": [],
      "authorship_tag": "ABX9TyOFt6wix4tVXP7WaDihcrTb",
      "include_colab_link": true
    },
    "kernelspec": {
      "name": "python3",
      "display_name": "Python 3"
    },
    "language_info": {
      "name": "python"
    }
  },
  "cells": [
    {
      "cell_type": "markdown",
      "metadata": {
        "id": "view-in-github",
        "colab_type": "text"
      },
      "source": [
        "<a href=\"https://colab.research.google.com/github/hsnam95/my/blob/main/K_Mooc.ipynb\" target=\"_parent\"><img src=\"https://colab.research.google.com/assets/colab-badge.svg\" alt=\"Open In Colab\"/></a>"
      ]
    },
    {
      "cell_type": "code",
      "execution_count": 88,
      "metadata": {
        "colab": {
          "base_uri": "https://localhost:8080/"
        },
        "id": "nZfKlkhBgSxe",
        "outputId": "a50c8b0f-f1f5-446c-9d25-86bc2c90f8a0"
      },
      "outputs": [
        {
          "output_type": "stream",
          "name": "stdout",
          "text": [
            "[]\n",
            "[]\n"
          ]
        }
      ],
      "source": [
        "with open('06_03 for 루프.srt') as f:\n",
        "    contents = f.readlines()\n",
        "\n",
        "import re, regex, numpy as np\n",
        "a = [i  for i in range(len(contents)) if regex.search(r'\\p{IsHangul}', contents[i])]\n",
        "print(np.array(a)/4)\n",
        "\n",
        "b = [i  for i in range(len(contents)) if re.search('^\\s*\\n$', contents[i])]\n",
        "c = np.array(b)\n",
        "d = c[1:]-c[:-1]\n",
        "print(c[np.where(d>5)[0]+1])"
      ]
    }
  ]
}