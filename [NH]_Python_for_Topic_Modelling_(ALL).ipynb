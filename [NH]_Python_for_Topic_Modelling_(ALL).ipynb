{
  "nbformat": 4,
  "nbformat_minor": 0,
  "metadata": {
    "colab": {
      "provenance": [],
      "toc_visible": true,
      "include_colab_link": true
    },
    "kernelspec": {
      "name": "python3",
      "display_name": "Python 3"
    },
    "language_info": {
      "name": "python"
    }
  },
  "cells": [
    {
      "cell_type": "markdown",
      "metadata": {
        "id": "view-in-github",
        "colab_type": "text"
      },
      "source": [
        "<a href=\"https://colab.research.google.com/github/hsnam95/my/blob/main/%5BNH%5D_Python_for_Topic_Modelling_(ALL).ipynb\" target=\"_parent\"><img src=\"https://colab.research.google.com/assets/colab-badge.svg\" alt=\"Open In Colab\"/></a>"
      ]
    },
    {
      "cell_type": "code",
      "execution_count": null,
      "metadata": {
        "id": "8OPDE_wKfP9t"
      },
      "outputs": [],
      "source": [
        " !python --version"
      ]
    },
    {
      "cell_type": "markdown",
      "source": [
        "**Downgrade the current version of Python, if necessary**"
      ],
      "metadata": {
        "id": "lWs1iy67oWD6"
      }
    },
    {
      "cell_type": "code",
      "source": [
        "  !wget https://www.python.org/ftp/python/3.6.9/Python-3.6.9.tgz \n",
        "  !tar xvfz Python-3.6.9.tgz\n",
        "  !Python-3.6.9/configure\n",
        "  !make\n",
        "  !sudo make install"
      ],
      "metadata": {
        "id": "DFL9v5EuoM80"
      },
      "execution_count": null,
      "outputs": []
    },
    {
      "cell_type": "code",
      "source": [
        "!python --version #recheck it!"
      ],
      "metadata": {
        "id": "kYhcR7cxoUkb"
      },
      "execution_count": null,
      "outputs": []
    },
    {
      "cell_type": "markdown",
      "source": [
        "##**Source code:** \n",
        "  * **Topic Modeling on Spanish Texts 코드 변형**\n",
        "    * https://medium.com/@armandj.olivares/topic-modeling-on-spanish-text-f7a5e998fb90\n",
        "\n",
        "    * https://github.com/ArmandDS/topic_modeling/blob/master/topic_modeling_spanish.ipynb\n",
        "\n",
        "\n",
        "  * **Create topics and classifying spanish documents using Gensim and Spacy**\n",
        "\n",
        "    * In this article we will implementing topics model with gensim, topic models are \n",
        "probabilistic models which contains information about topics in the\n",
        "text. A topic is like theme, or in other words underlying ideas represented in text. \n",
        "For example, we are working with a corpus of **spanish newspaper articles**,\n",
        "possible topics would be  politics, conflicts, elections and so on.\n",
        "\n"
      ],
      "metadata": {
        "id": "nz6sIQJMogaK"
      }
    },
    {
      "cell_type": "markdown",
      "source": [
        "**Load the libraries.**"
      ],
      "metadata": {
        "id": "5XieBmQYpNRd"
      }
    },
    {
      "cell_type": "code",
      "source": [
        "import pandas as pd\n",
        "import numpy as np\n",
        "import re\n",
        "import nltk\n",
        "from nltk.stem import WordNetLemmatizer\n",
        "from nltk import word_tokenize\n",
        "from nltk.corpus import stopwords\n",
        "import string\n",
        "import matplotlib.pyplot as plt\n",
        "import gensim\n",
        "import numpy as np\n",
        "from gensim.models import CoherenceModel, LdaModel, LsiModel, HdpModel\n",
        "from gensim.models.wrappers import LdaMallet\n",
        "from gensim.corpora import Dictionary"
      ],
      "metadata": {
        "id": "T2lVWFpepB0o"
      },
      "execution_count": null,
      "outputs": []
    },
    {
      "cell_type": "markdown",
      "source": [
        "**Connect to drive to get the data.**"
      ],
      "metadata": {
        "id": "dAC15_J8pSXX"
      }
    },
    {
      "cell_type": "code",
      "source": [
        "from google.colab import drive\n",
        "drive.mount('/content/gdrive')"
      ],
      "metadata": {
        "id": "7ISD7OhipXVv"
      },
      "execution_count": null,
      "outputs": []
    },
    {
      "cell_type": "markdown",
      "source": [
        "**Analisis de Co-ocurrencia para todas las obras poeticas de Antonio Machado (solo libros)** \n",
        "  * csv 파일 업로드 후 진행하기!"
      ],
      "metadata": {
        "id": "CV2Wspl8pdDn"
      }
    },
    {
      "cell_type": "code",
      "source": [
        "df_news = pd.read_csv(\"a-machado-(CLEAN)-Revisado3-(solo libros)-nuevo.csv\")\n",
        "df_news.head(20)"
      ],
      "metadata": {
        "id": "R_D20tWdpo8H",
        "colab": {
          "base_uri": "https://localhost:8080/",
          "height": 1000
        },
        "outputId": "c500d576-3b83-48e5-b4e8-1be824952d64"
      },
      "execution_count": null,
      "outputs": [
        {
          "output_type": "execute_result",
          "data": {
            "text/plain": [
              "    Unnamed: 0            autor                     libro      metaTL  \\\n",
              "0        50101  Antonio Machado  01-Soledades (1899-1907)         NaN   \n",
              "1        50102  Antonio Machado  01-Soledades (1899-1907)         NaN   \n",
              "2        50103  Antonio Machado  01-Soledades (1899-1907)         NaN   \n",
              "3        50104  Antonio Machado  01-Soledades (1899-1907)         NaN   \n",
              "4        50105  Antonio Machado  01-Soledades (1899-1907)         NaN   \n",
              "5        50106  Antonio Machado  01-Soledades (1899-1907)         NaN   \n",
              "6        50107  Antonio Machado  01-Soledades (1899-1907)         NaN   \n",
              "7        50108  Antonio Machado  01-Soledades (1899-1907)         NaN   \n",
              "8        50109  Antonio Machado  01-Soledades (1899-1907)         NaN   \n",
              "9        50110  Antonio Machado  01-Soledades (1899-1907)         NaN   \n",
              "10       50111  Antonio Machado  01-Soledades (1899-1907)         NaN   \n",
              "11       50112  Antonio Machado  01-Soledades (1899-1907)         NaN   \n",
              "12       50113  Antonio Machado  01-Soledades (1899-1907)         NaN   \n",
              "13       50114  Antonio Machado  01-Soledades (1899-1907)         NaN   \n",
              "14       50115  Antonio Machado  01-Soledades (1899-1907)         NaN   \n",
              "15       50116  Antonio Machado  01-Soledades (1899-1907)         NaN   \n",
              "16       50117  Antonio Machado  01-Soledades (1899-1907)         NaN   \n",
              "17       50118  Antonio Machado  01-Soledades (1899-1907)         NaN   \n",
              "18       50119  Antonio Machado  01-Soledades (1899-1907)         NaN   \n",
              "19       50120  Antonio Machado  01-Soledades (1899-1907)  Del camino   \n",
              "\n",
              "                                              poema fragmento destinatario  \\\n",
              "0                                      (El viajero)       NaN          NaN   \n",
              "1                           He andado muchos camino       NaN          NaN   \n",
              "2                La plaza y los naranjos encendidos       NaN          NaN   \n",
              "3                      (En el entierro de un amigo)       NaN          NaN   \n",
              "4                               (Recuerdo infantil)       NaN          NaN   \n",
              "5          Fue una clara tarde, triste y soñolienta       NaN          NaN   \n",
              "6                     El limonero lánguido suspende       NaN          NaN   \n",
              "7                             Yo escucho los cantos       NaN          NaN   \n",
              "8                               (Orillas del Duero)       NaN          NaN   \n",
              "9                               A la desierta plaza       NaN          NaN   \n",
              "10                           Yo voy soñando caminos       NaN          NaN   \n",
              "11                              Amada, el aura dice       NaN          NaN   \n",
              "12                          Hacia un ocaso radiante       NaN          NaN   \n",
              "13                                    (Cante hondo)       NaN          NaN   \n",
              "14  La calle en sombra. Ocultan los altos caserones       NaN          NaN   \n",
              "15                       Siempre fugitiva y siempre       NaN          NaN   \n",
              "16                                      (Horizonte)       NaN          NaN   \n",
              "17                                       (El poeta)       NaN          NaN   \n",
              "18                              ¡Verdes jardinillos       NaN          NaN   \n",
              "19                                       (Preludio)       NaN          NaN   \n",
              "\n",
              "                                                texto  \\\n",
              "0   Está en la sala familiar, sombría, \\ny entre n...   \n",
              "1   He andado muchos caminos, \\nhe abierto muchas ...   \n",
              "2   La plaza y los naranjos encendidos \\ncon sus f...   \n",
              "3   Tierra le dieron una tarde horrible \\ndel mes ...   \n",
              "4   Una tarde parda y fría \\nde invierno. Los cole...   \n",
              "5   Fue una clara tarde, triste y soñolienta \\ntar...   \n",
              "6   El limonero lánguido suspende \\nuna pálida ram...   \n",
              "7   Yo escucho los cantos \\nde viejas cadencias, \\...   \n",
              "8   Se ha asomado una cigüeña a lo alto del campan...   \n",
              "9   A la desierta plaza \\nconduce un laberinto de ...   \n",
              "10  Yo voy soñando caminos \\nde la tarde. ¡Las col...   \n",
              "11  Amada, el aura dice \\ntu pura veste blanca... ...   \n",
              "12  Hacia un ocaso radiante \\ncaminaba el sol de e...   \n",
              "13  Yo meditaba absorto, devanando \\nlos hilos del...   \n",
              "14  La calle en sombra. Ocultan los altos caserone...   \n",
              "15  Siempre fugitiva y siempre \\ncerca de mí, en n...   \n",
              "16  En una tarde clara y amplia como el hastío, \\n...   \n",
              "17  Maldiciendo su destino \\ncomo Glauco, el dios ...   \n",
              "18  ¡Verdes jardinillos, \\nclaras plazoletas, \\nfu...   \n",
              "19  Mientras la sombra pasa de un santo amor, hoy ...   \n",
              "\n",
              "   AA#1-Espasa(1989)-Roman num.  AA#2-Espasa(1989)-Arabian num. MM#1-Etc.  \\\n",
              "0                             I                               1       NaN   \n",
              "1                            II                               2       NaN   \n",
              "2                           III                               3       NaN   \n",
              "3                            IV                               4       NaN   \n",
              "4                             V                               5       NaN   \n",
              "5                            VI                               6       NaN   \n",
              "6                           VII                               7       NaN   \n",
              "7                          VIII                               8       NaN   \n",
              "8                            IX                               9       NaN   \n",
              "9                             X                              10       NaN   \n",
              "10                           XI                              11       NaN   \n",
              "11                          XII                              12       NaN   \n",
              "12                         XIII                              13       NaN   \n",
              "13                          XIV                              14       NaN   \n",
              "14                           XV                              15       NaN   \n",
              "15                          XVI                              16       NaN   \n",
              "16                         XVII                              17       NaN   \n",
              "17                        XVIII                              18       NaN   \n",
              "18                          XIX                              19       NaN   \n",
              "19                           XX                              20       NaN   \n",
              "\n",
              "    MM#2-Etc.  Unnamed: 12  Unnamed: 13  Unnamed: 14  Unnamed: 15  \\\n",
              "0         NaN          NaN          NaN          NaN          NaN   \n",
              "1         NaN          NaN          NaN          NaN          NaN   \n",
              "2         NaN          NaN          NaN          NaN          NaN   \n",
              "3         NaN          NaN          NaN          NaN          NaN   \n",
              "4         NaN          NaN          NaN          NaN          NaN   \n",
              "5         NaN          NaN          NaN          NaN          NaN   \n",
              "6         NaN          NaN          NaN          NaN          NaN   \n",
              "7         NaN          NaN          NaN          NaN          NaN   \n",
              "8         NaN          NaN          NaN          NaN          NaN   \n",
              "9         NaN          NaN          NaN          NaN          NaN   \n",
              "10        NaN          NaN          NaN          NaN          NaN   \n",
              "11        NaN          NaN          NaN          NaN          NaN   \n",
              "12        NaN          NaN          NaN          NaN          NaN   \n",
              "13        NaN          NaN          NaN          NaN          NaN   \n",
              "14        NaN          NaN          NaN          NaN          NaN   \n",
              "15        NaN          NaN          NaN          NaN          NaN   \n",
              "16        NaN          NaN          NaN          NaN          NaN   \n",
              "17        NaN          NaN          NaN          NaN          NaN   \n",
              "18        NaN          NaN          NaN          NaN          NaN   \n",
              "19        NaN          NaN          NaN          NaN          NaN   \n",
              "\n",
              "    Unnamed: 16                                        Unnamed: 17  \\\n",
              "0           NaN                              Soledades (1899-1907)   \n",
              "1           NaN                     Campos de Castilla (1907-1917)   \n",
              "2           NaN                       Nuevas canciones (1917-1930)   \n",
              "3           NaN              De un Cancionero apócrifo (1924-1936)   \n",
              "4           NaN                       [PS]-[Soledades (1898-1907)]   \n",
              "5           NaN              [PS]-[Campos de Castilla (1907-1917)]   \n",
              "6           NaN  [PS]-[Nuevas canciones y primer Cancionero apó...   \n",
              "7           NaN       [PS]-[De un cancionero apócrifo (1923-1936)]   \n",
              "8           NaN            [PS]-[Poesías de la guerra (1936-1939)]   \n",
              "9           NaN                                                NaN   \n",
              "10          NaN                                                NaN   \n",
              "11          NaN                                                NaN   \n",
              "12          NaN                                                NaN   \n",
              "13          NaN                                                NaN   \n",
              "14          NaN                                                NaN   \n",
              "15          NaN                                                NaN   \n",
              "16          NaN                                                NaN   \n",
              "17          NaN                                                NaN   \n",
              "18          NaN                                                NaN   \n",
              "19          NaN                                                NaN   \n",
              "\n",
              "    Unnamed: 18  \n",
              "0          97.0  \n",
              "1         165.0  \n",
              "2         209.0  \n",
              "3          70.0  \n",
              "4          32.0  \n",
              "5          32.0  \n",
              "6          57.0  \n",
              "7          36.0  \n",
              "8          28.0  \n",
              "9         726.0  \n",
              "10          NaN  \n",
              "11          NaN  \n",
              "12          NaN  \n",
              "13          NaN  \n",
              "14          NaN  \n",
              "15          NaN  \n",
              "16          NaN  \n",
              "17          NaN  \n",
              "18          NaN  \n",
              "19          NaN  "
            ],
            "text/html": [
              "\n",
              "  <div id=\"df-e2d3d379-acaa-45c4-9418-81b60760f7dd\">\n",
              "    <div class=\"colab-df-container\">\n",
              "      <div>\n",
              "<style scoped>\n",
              "    .dataframe tbody tr th:only-of-type {\n",
              "        vertical-align: middle;\n",
              "    }\n",
              "\n",
              "    .dataframe tbody tr th {\n",
              "        vertical-align: top;\n",
              "    }\n",
              "\n",
              "    .dataframe thead th {\n",
              "        text-align: right;\n",
              "    }\n",
              "</style>\n",
              "<table border=\"1\" class=\"dataframe\">\n",
              "  <thead>\n",
              "    <tr style=\"text-align: right;\">\n",
              "      <th></th>\n",
              "      <th>Unnamed: 0</th>\n",
              "      <th>autor</th>\n",
              "      <th>libro</th>\n",
              "      <th>metaTL</th>\n",
              "      <th>poema</th>\n",
              "      <th>fragmento</th>\n",
              "      <th>destinatario</th>\n",
              "      <th>texto</th>\n",
              "      <th>AA#1-Espasa(1989)-Roman num.</th>\n",
              "      <th>AA#2-Espasa(1989)-Arabian num.</th>\n",
              "      <th>MM#1-Etc.</th>\n",
              "      <th>MM#2-Etc.</th>\n",
              "      <th>Unnamed: 12</th>\n",
              "      <th>Unnamed: 13</th>\n",
              "      <th>Unnamed: 14</th>\n",
              "      <th>Unnamed: 15</th>\n",
              "      <th>Unnamed: 16</th>\n",
              "      <th>Unnamed: 17</th>\n",
              "      <th>Unnamed: 18</th>\n",
              "    </tr>\n",
              "  </thead>\n",
              "  <tbody>\n",
              "    <tr>\n",
              "      <th>0</th>\n",
              "      <td>50101</td>\n",
              "      <td>Antonio Machado</td>\n",
              "      <td>01-Soledades (1899-1907)</td>\n",
              "      <td>NaN</td>\n",
              "      <td>(El viajero)</td>\n",
              "      <td>NaN</td>\n",
              "      <td>NaN</td>\n",
              "      <td>Está en la sala familiar, sombría, \\ny entre n...</td>\n",
              "      <td>I</td>\n",
              "      <td>1</td>\n",
              "      <td>NaN</td>\n",
              "      <td>NaN</td>\n",
              "      <td>NaN</td>\n",
              "      <td>NaN</td>\n",
              "      <td>NaN</td>\n",
              "      <td>NaN</td>\n",
              "      <td>NaN</td>\n",
              "      <td>Soledades (1899-1907)</td>\n",
              "      <td>97.0</td>\n",
              "    </tr>\n",
              "    <tr>\n",
              "      <th>1</th>\n",
              "      <td>50102</td>\n",
              "      <td>Antonio Machado</td>\n",
              "      <td>01-Soledades (1899-1907)</td>\n",
              "      <td>NaN</td>\n",
              "      <td>He andado muchos camino</td>\n",
              "      <td>NaN</td>\n",
              "      <td>NaN</td>\n",
              "      <td>He andado muchos caminos, \\nhe abierto muchas ...</td>\n",
              "      <td>II</td>\n",
              "      <td>2</td>\n",
              "      <td>NaN</td>\n",
              "      <td>NaN</td>\n",
              "      <td>NaN</td>\n",
              "      <td>NaN</td>\n",
              "      <td>NaN</td>\n",
              "      <td>NaN</td>\n",
              "      <td>NaN</td>\n",
              "      <td>Campos de Castilla (1907-1917)</td>\n",
              "      <td>165.0</td>\n",
              "    </tr>\n",
              "    <tr>\n",
              "      <th>2</th>\n",
              "      <td>50103</td>\n",
              "      <td>Antonio Machado</td>\n",
              "      <td>01-Soledades (1899-1907)</td>\n",
              "      <td>NaN</td>\n",
              "      <td>La plaza y los naranjos encendidos</td>\n",
              "      <td>NaN</td>\n",
              "      <td>NaN</td>\n",
              "      <td>La plaza y los naranjos encendidos \\ncon sus f...</td>\n",
              "      <td>III</td>\n",
              "      <td>3</td>\n",
              "      <td>NaN</td>\n",
              "      <td>NaN</td>\n",
              "      <td>NaN</td>\n",
              "      <td>NaN</td>\n",
              "      <td>NaN</td>\n",
              "      <td>NaN</td>\n",
              "      <td>NaN</td>\n",
              "      <td>Nuevas canciones (1917-1930)</td>\n",
              "      <td>209.0</td>\n",
              "    </tr>\n",
              "    <tr>\n",
              "      <th>3</th>\n",
              "      <td>50104</td>\n",
              "      <td>Antonio Machado</td>\n",
              "      <td>01-Soledades (1899-1907)</td>\n",
              "      <td>NaN</td>\n",
              "      <td>(En el entierro de un amigo)</td>\n",
              "      <td>NaN</td>\n",
              "      <td>NaN</td>\n",
              "      <td>Tierra le dieron una tarde horrible \\ndel mes ...</td>\n",
              "      <td>IV</td>\n",
              "      <td>4</td>\n",
              "      <td>NaN</td>\n",
              "      <td>NaN</td>\n",
              "      <td>NaN</td>\n",
              "      <td>NaN</td>\n",
              "      <td>NaN</td>\n",
              "      <td>NaN</td>\n",
              "      <td>NaN</td>\n",
              "      <td>De un Cancionero apócrifo (1924-1936)</td>\n",
              "      <td>70.0</td>\n",
              "    </tr>\n",
              "    <tr>\n",
              "      <th>4</th>\n",
              "      <td>50105</td>\n",
              "      <td>Antonio Machado</td>\n",
              "      <td>01-Soledades (1899-1907)</td>\n",
              "      <td>NaN</td>\n",
              "      <td>(Recuerdo infantil)</td>\n",
              "      <td>NaN</td>\n",
              "      <td>NaN</td>\n",
              "      <td>Una tarde parda y fría \\nde invierno. Los cole...</td>\n",
              "      <td>V</td>\n",
              "      <td>5</td>\n",
              "      <td>NaN</td>\n",
              "      <td>NaN</td>\n",
              "      <td>NaN</td>\n",
              "      <td>NaN</td>\n",
              "      <td>NaN</td>\n",
              "      <td>NaN</td>\n",
              "      <td>NaN</td>\n",
              "      <td>[PS]-[Soledades (1898-1907)]</td>\n",
              "      <td>32.0</td>\n",
              "    </tr>\n",
              "    <tr>\n",
              "      <th>5</th>\n",
              "      <td>50106</td>\n",
              "      <td>Antonio Machado</td>\n",
              "      <td>01-Soledades (1899-1907)</td>\n",
              "      <td>NaN</td>\n",
              "      <td>Fue una clara tarde, triste y soñolienta</td>\n",
              "      <td>NaN</td>\n",
              "      <td>NaN</td>\n",
              "      <td>Fue una clara tarde, triste y soñolienta \\ntar...</td>\n",
              "      <td>VI</td>\n",
              "      <td>6</td>\n",
              "      <td>NaN</td>\n",
              "      <td>NaN</td>\n",
              "      <td>NaN</td>\n",
              "      <td>NaN</td>\n",
              "      <td>NaN</td>\n",
              "      <td>NaN</td>\n",
              "      <td>NaN</td>\n",
              "      <td>[PS]-[Campos de Castilla (1907-1917)]</td>\n",
              "      <td>32.0</td>\n",
              "    </tr>\n",
              "    <tr>\n",
              "      <th>6</th>\n",
              "      <td>50107</td>\n",
              "      <td>Antonio Machado</td>\n",
              "      <td>01-Soledades (1899-1907)</td>\n",
              "      <td>NaN</td>\n",
              "      <td>El limonero lánguido suspende</td>\n",
              "      <td>NaN</td>\n",
              "      <td>NaN</td>\n",
              "      <td>El limonero lánguido suspende \\nuna pálida ram...</td>\n",
              "      <td>VII</td>\n",
              "      <td>7</td>\n",
              "      <td>NaN</td>\n",
              "      <td>NaN</td>\n",
              "      <td>NaN</td>\n",
              "      <td>NaN</td>\n",
              "      <td>NaN</td>\n",
              "      <td>NaN</td>\n",
              "      <td>NaN</td>\n",
              "      <td>[PS]-[Nuevas canciones y primer Cancionero apó...</td>\n",
              "      <td>57.0</td>\n",
              "    </tr>\n",
              "    <tr>\n",
              "      <th>7</th>\n",
              "      <td>50108</td>\n",
              "      <td>Antonio Machado</td>\n",
              "      <td>01-Soledades (1899-1907)</td>\n",
              "      <td>NaN</td>\n",
              "      <td>Yo escucho los cantos</td>\n",
              "      <td>NaN</td>\n",
              "      <td>NaN</td>\n",
              "      <td>Yo escucho los cantos \\nde viejas cadencias, \\...</td>\n",
              "      <td>VIII</td>\n",
              "      <td>8</td>\n",
              "      <td>NaN</td>\n",
              "      <td>NaN</td>\n",
              "      <td>NaN</td>\n",
              "      <td>NaN</td>\n",
              "      <td>NaN</td>\n",
              "      <td>NaN</td>\n",
              "      <td>NaN</td>\n",
              "      <td>[PS]-[De un cancionero apócrifo (1923-1936)]</td>\n",
              "      <td>36.0</td>\n",
              "    </tr>\n",
              "    <tr>\n",
              "      <th>8</th>\n",
              "      <td>50109</td>\n",
              "      <td>Antonio Machado</td>\n",
              "      <td>01-Soledades (1899-1907)</td>\n",
              "      <td>NaN</td>\n",
              "      <td>(Orillas del Duero)</td>\n",
              "      <td>NaN</td>\n",
              "      <td>NaN</td>\n",
              "      <td>Se ha asomado una cigüeña a lo alto del campan...</td>\n",
              "      <td>IX</td>\n",
              "      <td>9</td>\n",
              "      <td>NaN</td>\n",
              "      <td>NaN</td>\n",
              "      <td>NaN</td>\n",
              "      <td>NaN</td>\n",
              "      <td>NaN</td>\n",
              "      <td>NaN</td>\n",
              "      <td>NaN</td>\n",
              "      <td>[PS]-[Poesías de la guerra (1936-1939)]</td>\n",
              "      <td>28.0</td>\n",
              "    </tr>\n",
              "    <tr>\n",
              "      <th>9</th>\n",
              "      <td>50110</td>\n",
              "      <td>Antonio Machado</td>\n",
              "      <td>01-Soledades (1899-1907)</td>\n",
              "      <td>NaN</td>\n",
              "      <td>A la desierta plaza</td>\n",
              "      <td>NaN</td>\n",
              "      <td>NaN</td>\n",
              "      <td>A la desierta plaza \\nconduce un laberinto de ...</td>\n",
              "      <td>X</td>\n",
              "      <td>10</td>\n",
              "      <td>NaN</td>\n",
              "      <td>NaN</td>\n",
              "      <td>NaN</td>\n",
              "      <td>NaN</td>\n",
              "      <td>NaN</td>\n",
              "      <td>NaN</td>\n",
              "      <td>NaN</td>\n",
              "      <td>NaN</td>\n",
              "      <td>726.0</td>\n",
              "    </tr>\n",
              "    <tr>\n",
              "      <th>10</th>\n",
              "      <td>50111</td>\n",
              "      <td>Antonio Machado</td>\n",
              "      <td>01-Soledades (1899-1907)</td>\n",
              "      <td>NaN</td>\n",
              "      <td>Yo voy soñando caminos</td>\n",
              "      <td>NaN</td>\n",
              "      <td>NaN</td>\n",
              "      <td>Yo voy soñando caminos \\nde la tarde. ¡Las col...</td>\n",
              "      <td>XI</td>\n",
              "      <td>11</td>\n",
              "      <td>NaN</td>\n",
              "      <td>NaN</td>\n",
              "      <td>NaN</td>\n",
              "      <td>NaN</td>\n",
              "      <td>NaN</td>\n",
              "      <td>NaN</td>\n",
              "      <td>NaN</td>\n",
              "      <td>NaN</td>\n",
              "      <td>NaN</td>\n",
              "    </tr>\n",
              "    <tr>\n",
              "      <th>11</th>\n",
              "      <td>50112</td>\n",
              "      <td>Antonio Machado</td>\n",
              "      <td>01-Soledades (1899-1907)</td>\n",
              "      <td>NaN</td>\n",
              "      <td>Amada, el aura dice</td>\n",
              "      <td>NaN</td>\n",
              "      <td>NaN</td>\n",
              "      <td>Amada, el aura dice \\ntu pura veste blanca... ...</td>\n",
              "      <td>XII</td>\n",
              "      <td>12</td>\n",
              "      <td>NaN</td>\n",
              "      <td>NaN</td>\n",
              "      <td>NaN</td>\n",
              "      <td>NaN</td>\n",
              "      <td>NaN</td>\n",
              "      <td>NaN</td>\n",
              "      <td>NaN</td>\n",
              "      <td>NaN</td>\n",
              "      <td>NaN</td>\n",
              "    </tr>\n",
              "    <tr>\n",
              "      <th>12</th>\n",
              "      <td>50113</td>\n",
              "      <td>Antonio Machado</td>\n",
              "      <td>01-Soledades (1899-1907)</td>\n",
              "      <td>NaN</td>\n",
              "      <td>Hacia un ocaso radiante</td>\n",
              "      <td>NaN</td>\n",
              "      <td>NaN</td>\n",
              "      <td>Hacia un ocaso radiante \\ncaminaba el sol de e...</td>\n",
              "      <td>XIII</td>\n",
              "      <td>13</td>\n",
              "      <td>NaN</td>\n",
              "      <td>NaN</td>\n",
              "      <td>NaN</td>\n",
              "      <td>NaN</td>\n",
              "      <td>NaN</td>\n",
              "      <td>NaN</td>\n",
              "      <td>NaN</td>\n",
              "      <td>NaN</td>\n",
              "      <td>NaN</td>\n",
              "    </tr>\n",
              "    <tr>\n",
              "      <th>13</th>\n",
              "      <td>50114</td>\n",
              "      <td>Antonio Machado</td>\n",
              "      <td>01-Soledades (1899-1907)</td>\n",
              "      <td>NaN</td>\n",
              "      <td>(Cante hondo)</td>\n",
              "      <td>NaN</td>\n",
              "      <td>NaN</td>\n",
              "      <td>Yo meditaba absorto, devanando \\nlos hilos del...</td>\n",
              "      <td>XIV</td>\n",
              "      <td>14</td>\n",
              "      <td>NaN</td>\n",
              "      <td>NaN</td>\n",
              "      <td>NaN</td>\n",
              "      <td>NaN</td>\n",
              "      <td>NaN</td>\n",
              "      <td>NaN</td>\n",
              "      <td>NaN</td>\n",
              "      <td>NaN</td>\n",
              "      <td>NaN</td>\n",
              "    </tr>\n",
              "    <tr>\n",
              "      <th>14</th>\n",
              "      <td>50115</td>\n",
              "      <td>Antonio Machado</td>\n",
              "      <td>01-Soledades (1899-1907)</td>\n",
              "      <td>NaN</td>\n",
              "      <td>La calle en sombra. Ocultan los altos caserones</td>\n",
              "      <td>NaN</td>\n",
              "      <td>NaN</td>\n",
              "      <td>La calle en sombra. Ocultan los altos caserone...</td>\n",
              "      <td>XV</td>\n",
              "      <td>15</td>\n",
              "      <td>NaN</td>\n",
              "      <td>NaN</td>\n",
              "      <td>NaN</td>\n",
              "      <td>NaN</td>\n",
              "      <td>NaN</td>\n",
              "      <td>NaN</td>\n",
              "      <td>NaN</td>\n",
              "      <td>NaN</td>\n",
              "      <td>NaN</td>\n",
              "    </tr>\n",
              "    <tr>\n",
              "      <th>15</th>\n",
              "      <td>50116</td>\n",
              "      <td>Antonio Machado</td>\n",
              "      <td>01-Soledades (1899-1907)</td>\n",
              "      <td>NaN</td>\n",
              "      <td>Siempre fugitiva y siempre</td>\n",
              "      <td>NaN</td>\n",
              "      <td>NaN</td>\n",
              "      <td>Siempre fugitiva y siempre \\ncerca de mí, en n...</td>\n",
              "      <td>XVI</td>\n",
              "      <td>16</td>\n",
              "      <td>NaN</td>\n",
              "      <td>NaN</td>\n",
              "      <td>NaN</td>\n",
              "      <td>NaN</td>\n",
              "      <td>NaN</td>\n",
              "      <td>NaN</td>\n",
              "      <td>NaN</td>\n",
              "      <td>NaN</td>\n",
              "      <td>NaN</td>\n",
              "    </tr>\n",
              "    <tr>\n",
              "      <th>16</th>\n",
              "      <td>50117</td>\n",
              "      <td>Antonio Machado</td>\n",
              "      <td>01-Soledades (1899-1907)</td>\n",
              "      <td>NaN</td>\n",
              "      <td>(Horizonte)</td>\n",
              "      <td>NaN</td>\n",
              "      <td>NaN</td>\n",
              "      <td>En una tarde clara y amplia como el hastío, \\n...</td>\n",
              "      <td>XVII</td>\n",
              "      <td>17</td>\n",
              "      <td>NaN</td>\n",
              "      <td>NaN</td>\n",
              "      <td>NaN</td>\n",
              "      <td>NaN</td>\n",
              "      <td>NaN</td>\n",
              "      <td>NaN</td>\n",
              "      <td>NaN</td>\n",
              "      <td>NaN</td>\n",
              "      <td>NaN</td>\n",
              "    </tr>\n",
              "    <tr>\n",
              "      <th>17</th>\n",
              "      <td>50118</td>\n",
              "      <td>Antonio Machado</td>\n",
              "      <td>01-Soledades (1899-1907)</td>\n",
              "      <td>NaN</td>\n",
              "      <td>(El poeta)</td>\n",
              "      <td>NaN</td>\n",
              "      <td>NaN</td>\n",
              "      <td>Maldiciendo su destino \\ncomo Glauco, el dios ...</td>\n",
              "      <td>XVIII</td>\n",
              "      <td>18</td>\n",
              "      <td>NaN</td>\n",
              "      <td>NaN</td>\n",
              "      <td>NaN</td>\n",
              "      <td>NaN</td>\n",
              "      <td>NaN</td>\n",
              "      <td>NaN</td>\n",
              "      <td>NaN</td>\n",
              "      <td>NaN</td>\n",
              "      <td>NaN</td>\n",
              "    </tr>\n",
              "    <tr>\n",
              "      <th>18</th>\n",
              "      <td>50119</td>\n",
              "      <td>Antonio Machado</td>\n",
              "      <td>01-Soledades (1899-1907)</td>\n",
              "      <td>NaN</td>\n",
              "      <td>¡Verdes jardinillos</td>\n",
              "      <td>NaN</td>\n",
              "      <td>NaN</td>\n",
              "      <td>¡Verdes jardinillos, \\nclaras plazoletas, \\nfu...</td>\n",
              "      <td>XIX</td>\n",
              "      <td>19</td>\n",
              "      <td>NaN</td>\n",
              "      <td>NaN</td>\n",
              "      <td>NaN</td>\n",
              "      <td>NaN</td>\n",
              "      <td>NaN</td>\n",
              "      <td>NaN</td>\n",
              "      <td>NaN</td>\n",
              "      <td>NaN</td>\n",
              "      <td>NaN</td>\n",
              "    </tr>\n",
              "    <tr>\n",
              "      <th>19</th>\n",
              "      <td>50120</td>\n",
              "      <td>Antonio Machado</td>\n",
              "      <td>01-Soledades (1899-1907)</td>\n",
              "      <td>Del camino</td>\n",
              "      <td>(Preludio)</td>\n",
              "      <td>NaN</td>\n",
              "      <td>NaN</td>\n",
              "      <td>Mientras la sombra pasa de un santo amor, hoy ...</td>\n",
              "      <td>XX</td>\n",
              "      <td>20</td>\n",
              "      <td>NaN</td>\n",
              "      <td>NaN</td>\n",
              "      <td>NaN</td>\n",
              "      <td>NaN</td>\n",
              "      <td>NaN</td>\n",
              "      <td>NaN</td>\n",
              "      <td>NaN</td>\n",
              "      <td>NaN</td>\n",
              "      <td>NaN</td>\n",
              "    </tr>\n",
              "  </tbody>\n",
              "</table>\n",
              "</div>\n",
              "      <button class=\"colab-df-convert\" onclick=\"convertToInteractive('df-e2d3d379-acaa-45c4-9418-81b60760f7dd')\"\n",
              "              title=\"Convert this dataframe to an interactive table.\"\n",
              "              style=\"display:none;\">\n",
              "        \n",
              "  <svg xmlns=\"http://www.w3.org/2000/svg\" height=\"24px\"viewBox=\"0 0 24 24\"\n",
              "       width=\"24px\">\n",
              "    <path d=\"M0 0h24v24H0V0z\" fill=\"none\"/>\n",
              "    <path d=\"M18.56 5.44l.94 2.06.94-2.06 2.06-.94-2.06-.94-.94-2.06-.94 2.06-2.06.94zm-11 1L8.5 8.5l.94-2.06 2.06-.94-2.06-.94L8.5 2.5l-.94 2.06-2.06.94zm10 10l.94 2.06.94-2.06 2.06-.94-2.06-.94-.94-2.06-.94 2.06-2.06.94z\"/><path d=\"M17.41 7.96l-1.37-1.37c-.4-.4-.92-.59-1.43-.59-.52 0-1.04.2-1.43.59L10.3 9.45l-7.72 7.72c-.78.78-.78 2.05 0 2.83L4 21.41c.39.39.9.59 1.41.59.51 0 1.02-.2 1.41-.59l7.78-7.78 2.81-2.81c.8-.78.8-2.07 0-2.86zM5.41 20L4 18.59l7.72-7.72 1.47 1.35L5.41 20z\"/>\n",
              "  </svg>\n",
              "      </button>\n",
              "      \n",
              "  <style>\n",
              "    .colab-df-container {\n",
              "      display:flex;\n",
              "      flex-wrap:wrap;\n",
              "      gap: 12px;\n",
              "    }\n",
              "\n",
              "    .colab-df-convert {\n",
              "      background-color: #E8F0FE;\n",
              "      border: none;\n",
              "      border-radius: 50%;\n",
              "      cursor: pointer;\n",
              "      display: none;\n",
              "      fill: #1967D2;\n",
              "      height: 32px;\n",
              "      padding: 0 0 0 0;\n",
              "      width: 32px;\n",
              "    }\n",
              "\n",
              "    .colab-df-convert:hover {\n",
              "      background-color: #E2EBFA;\n",
              "      box-shadow: 0px 1px 2px rgba(60, 64, 67, 0.3), 0px 1px 3px 1px rgba(60, 64, 67, 0.15);\n",
              "      fill: #174EA6;\n",
              "    }\n",
              "\n",
              "    [theme=dark] .colab-df-convert {\n",
              "      background-color: #3B4455;\n",
              "      fill: #D2E3FC;\n",
              "    }\n",
              "\n",
              "    [theme=dark] .colab-df-convert:hover {\n",
              "      background-color: #434B5C;\n",
              "      box-shadow: 0px 1px 3px 1px rgba(0, 0, 0, 0.15);\n",
              "      filter: drop-shadow(0px 1px 2px rgba(0, 0, 0, 0.3));\n",
              "      fill: #FFFFFF;\n",
              "    }\n",
              "  </style>\n",
              "\n",
              "      <script>\n",
              "        const buttonEl =\n",
              "          document.querySelector('#df-e2d3d379-acaa-45c4-9418-81b60760f7dd button.colab-df-convert');\n",
              "        buttonEl.style.display =\n",
              "          google.colab.kernel.accessAllowed ? 'block' : 'none';\n",
              "\n",
              "        async function convertToInteractive(key) {\n",
              "          const element = document.querySelector('#df-e2d3d379-acaa-45c4-9418-81b60760f7dd');\n",
              "          const dataTable =\n",
              "            await google.colab.kernel.invokeFunction('convertToInteractive',\n",
              "                                                     [key], {});\n",
              "          if (!dataTable) return;\n",
              "\n",
              "          const docLinkHtml = 'Like what you see? Visit the ' +\n",
              "            '<a target=\"_blank\" href=https://colab.research.google.com/notebooks/data_table.ipynb>data table notebook</a>'\n",
              "            + ' to learn more about interactive tables.';\n",
              "          element.innerHTML = '';\n",
              "          dataTable['output_type'] = 'display_data';\n",
              "          await google.colab.output.renderOutput(dataTable, element);\n",
              "          const docLink = document.createElement('div');\n",
              "          docLink.innerHTML = docLinkHtml;\n",
              "          element.appendChild(docLink);\n",
              "        }\n",
              "      </script>\n",
              "    </div>\n",
              "  </div>\n",
              "  "
            ]
          },
          "metadata": {},
          "execution_count": 3
        }
      ]
    },
    {
      "cell_type": "code",
      "source": [
        "df_news.info()"
      ],
      "metadata": {
        "id": "_xRUzerYp12x",
        "colab": {
          "base_uri": "https://localhost:8080/"
        },
        "outputId": "09b9eaf5-b82b-4599-fa60-8c1de7906cbb"
      },
      "execution_count": null,
      "outputs": [
        {
          "output_type": "stream",
          "name": "stdout",
          "text": [
            "<class 'pandas.core.frame.DataFrame'>\n",
            "RangeIndex: 566 entries, 0 to 565\n",
            "Data columns (total 19 columns):\n",
            " #   Column                          Non-Null Count  Dtype  \n",
            "---  ------                          --------------  -----  \n",
            " 0   Unnamed: 0                      566 non-null    int64  \n",
            " 1   autor                           566 non-null    object \n",
            " 2   libro                           566 non-null    object \n",
            " 3   metaTL                          156 non-null    object \n",
            " 4   poema                           566 non-null    object \n",
            " 5   fragmento                       416 non-null    object \n",
            " 6   destinatario                    30 non-null     object \n",
            " 7   texto                           566 non-null    object \n",
            " 8   AA#1-Espasa(1989)-Roman num.    566 non-null    object \n",
            " 9   AA#2-Espasa(1989)-Arabian num.  566 non-null    int64  \n",
            " 10  MM#1-Etc.                       42 non-null     object \n",
            " 11  MM#2-Etc.                       0 non-null      float64\n",
            " 12  Unnamed: 12                     0 non-null      float64\n",
            " 13  Unnamed: 13                     0 non-null      float64\n",
            " 14  Unnamed: 14                     0 non-null      float64\n",
            " 15  Unnamed: 15                     0 non-null      float64\n",
            " 16  Unnamed: 16                     0 non-null      float64\n",
            " 17  Unnamed: 17                     9 non-null      object \n",
            " 18  Unnamed: 18                     10 non-null     float64\n",
            "dtypes: float64(7), int64(2), object(10)\n",
            "memory usage: 84.1+ KB\n"
          ]
        }
      ]
    },
    {
      "cell_type": "code",
      "source": [
        "df_news.drop('Unnamed: 0', axis=1, inplace=True)\n",
        "df_news.drop('metaTL', axis=1, inplace=True)\n",
        "df_news.drop('fragmento', axis=1, inplace=True)\n",
        "df_news.drop('destinatario', axis=1, inplace=True)\n",
        "#df_news.drop('Unnamed: 10', axis=1, inplace=True)\n",
        "#df_news.drop('Unnamed: 11', axis=1, inplace=True)\n",
        "#df_news.drop('Unnamed: 12', axis=1, inplace=True)\n",
        "#df_news.drop('Unnamed: 13', axis=1, inplace=True)\n",
        "#df_news.drop('Unnamed: 14', axis=1, inplace=True)\n",
        "#df_news.drop('Unnamed: 15', axis=1, inplace=True)\n",
        "#df_news.drop('Unnamed: 16', axis=1, inplace=True)\n",
        "\n",
        "print(df_news)"
      ],
      "metadata": {
        "id": "WaZ91yXzp3ZP"
      },
      "execution_count": null,
      "outputs": []
    },
    {
      "cell_type": "code",
      "source": [
        "df_news.head()"
      ],
      "metadata": {
        "id": "QyFCFcO5p5ZX"
      },
      "execution_count": null,
      "outputs": []
    },
    {
      "cell_type": "markdown",
      "source": [
        "**Data Preprocessing**\n",
        "\n",
        "* We defined a list of custom words to be exclude from our dataset.**"
      ],
      "metadata": {
        "id": "tUqzvTTgp_iw"
      }
    },
    {
      "cell_type": "markdown",
      "source": [
        "불용어처리 (2)"
      ],
      "metadata": {
        "id": "OZhH4V36qOSX"
      }
    },
    {
      "cell_type": "code",
      "source": [
        "black_list = [#불용어 처리 방법#3m [HY: 직접 만들기!]\n",
        "                                  \"a\",\"b\",\"c\",\"d\",\"e\",\"f\",\"g\",\"h\",\"i\",\"j\",\"k\",\"l\",\"m\",\"n\",\"o\",\"p\",\"q\",\"r\",\"s\",\"t\",\"u\",\"v\",\"w\",\"x\",\"y\",\"z\", # 개별 알파벳(alfabeto) \n",
        "                                       \n",
        "                                 \"al\", \"del\",\"de\",\"en\", \"hacia\", \"por\", \"para\", \"entre\",'sobre','según', #전치사(preposiciones)\n",
        "                                 \"con\",\"comigo\",\"contigo\", \"consigo\", \"sin\",\n",
        "\n",
        "                                 'cual', 'cuál', 'cuales', 'cuáles', 'cualquier', 'cualquiera', 'cualquieras', #관계사(relativos) & 의문사(interrogativos) (2)\n",
        "                                 'cuan', 'cuán', 'cuando', 'cuándo', 'cuanta','cuánta', 'cuantas', 'cuántas', 'cuanto', 'cuánto', 'cuantos', 'cuántos',   #관계사(relativos) & 의문사(interrogativos) (1)\n",
        "                                 'donde', 'dónde', 'adonde', 'adónde','como', 'cómo',                                  #관계사(relativos) & 의문사(interrogativos) (3)\n",
        "                                 'que', 'qué', 'quien', 'quién', 'quienes', 'quiénes','quienesquiera', 'quienquiera', #관계사(relativos) & 의문사(interrogativos) (4)\n",
        "                                 'cuyo', 'cuya','cuyos','cuyas', #관계사(relativos) & 의문사(interrogativos) (4)   \n",
        "\n",
        "                                 'el', 'la', 'las', 'le', 'les', 'lo', 'los', 'un', 'una', 'unas', 'uno', 'unos', #관사(articulos)\n",
        "                                 'yo', 'me', 'mi', 'mí', 'mia', 'mía', 'mias', 'mías','mio','mío', 'mios', 'míos', 'mis', #대명사(prombres)-1S\n",
        "                                 'nos', 'nosotras', 'nosotros', 'nuestra', 'nuestras', 'nuestro', 'nuestros', #대명사(prombres)-1P\n",
        "                                 'vosotras', 'vosotros', 'vuestra', 'vuestras', 'vuestro', 'vuestros', 'os', #대명사(prombres)-2P\n",
        "                                 'él', 'ella', 'ellas', 'ello', 'ellos', #대명사(prombres)-3S (1)\n",
        "                                 'ud', 'uds', 'usted','ustedes', 'vd', 'vds', 'se', 'su', 'sus', 'suya', 'suyas', 'suyo', 'suyos', #대명사(prombres)-3S (2)\n",
        "                                 'te', 'ti', 'tí', 'tu', 'tú', 'tus', 'tuya', 'tuyas', 'tuyo', 'tuyos', #대명사(prombres)-2S\n",
        "\n",
        "                                 #'este', 'esta', 'estos', 'estas', 'ese', 'esa', 'esos', 'esas','aquel', 'aquella', 'aquellos', 'aquellas', #지시사(demostrativos)\n",
        "\n",
        "                                 'era', 'erais', 'eramos', 'éramos', 'eran', 'eras',  #SER 동사활용형(1)\n",
        "                                 'eres', 'es', 'sea', 'seáis', 'seamos', 'sean', 'seas','sois', 'somos','son', 'soy', #SER 동사활용형(2)\n",
        "                                 'fue', 'fué', 'fui', 'fuí', 'fuimos', 'fuiste', 'fuisteis', #SER 동사활용형(3)\n",
        "                                 'fuera', 'fuerais', 'fuéramos', 'fueran', 'fueras', 'fueron', 'fuese', 'fueseis', 'fuésemos','fuesen', 'fueses', #SER 동사활용형(4)\n",
        "                                 'será', 'serán', 'serás', 'seré', 'seréis', 'seremos', #SER 동사활용형(5)\n",
        "                                 'sería', 'seríais', 'seríamos', 'serían', 'serías', #SER 동사활용형(6)\n",
        "                                 'sido', 'siendo', #SER 동사활용형(7)\n",
        "\n",
        "                                 'estar', 'está', 'estais', 'estáis', 'estamos', 'estan', 'están','estás', 'estoy',  #ESTAR 동사활용형(1)\n",
        "                                 'estaba', 'estabais', 'estábamos', 'estaban', 'estabas', #ESTAR 동사활용형(2)\n",
        "                                 'estada', 'estadas', 'estando', 'estad', #ESTAR 동사활용형(3)\n",
        "                                 'estará', 'estarán', 'estarás', 'estaré', 'estaréis', 'estaremos', #ESTAR 동사활용형(4)\n",
        "                                 'estaría', 'estaríais', 'estaríamos', 'estarían', 'estarías', #ESTAR 동사활용형(5)\n",
        "                                 'esté', 'estéis', 'estemos', 'estén', 'estés', #ESTAR 동사활용형(6) \n",
        "                                 'estuve', 'estuviera', 'estuvierais', 'estuviéramos', 'estuvieran', 'estuvieras', 'estuvieron', #ESTAR 동사활용형(7)\n",
        "                                 'estuviese', 'estuvieseis', 'estuviésemos', 'estuviesen', 'estuvieses', 'estuvimos', 'estuviste', 'estuvisteis', 'estuvo',  #ESTAR 동사활용형(8)\n",
        "\n",
        "                                 'haber', 'ha', 'habéis', 'han', 'has', 'hay', 'he', 'hemos',  #HABER 동사활용형(1)\n",
        "                                 'habia', 'había', 'habíais', 'habíamos', 'habían', 'habías',  #HABER 동사활용형(2)\n",
        "                                 'habida', 'habidas', 'habido', 'habidos', 'habiendo',         #HABER 동사활용형(3)\n",
        "                                 'habrá', 'habrán', 'habrás', 'habré', 'habréis', 'habremos',  #HABER 동사활용형(4)\n",
        "                                 'habría', 'habríais', 'habríamos', 'habrían', 'habrías',      #HABER 동사활용형(5)\n",
        "                                 'haya', 'hayáis', 'hayamos', 'hayan', 'hayas',                #HABER 동사활용형(6)\n",
        "                                 'hube', 'hubimos', 'hubiste', 'hubisteis', 'hubo',            #HABER 동사활용형(7)\n",
        "                                 'hubiera', 'hubierais', 'hubiéramos', 'hubieran', 'hubieras', 'hubieron',  #HABER 동사활용형(8) \n",
        "                                 'hubiese', 'hubieseis', 'hubiésemos', 'hubiesen', 'hubieses', #HABER 동사활용형(9) \n",
        "\n",
        "                                 'ni','no','jamás','nunca','nada','ningún','ninguna','ninguno', #부정어(negativos)\n",
        "                                 'pero','mas', 'aunque','pues','porque','si','sí', #접속사(conjunciones)\n",
        "                                 'algo','algún','alguna','algunas','alguno','algunos', #부정어(indefinidos)\n",
        "                                 'embargo',                                     #기타(etc)                                                                   ))         \n",
        "  \n",
        "                                   \"LBR\",\n",
        "                                   \"ttl\",\n",
        "                                   \"mtl\",\n",
        "                                   \"ftl\",\n",
        "                                   \"=\",\"===============================================\",\n",
        "                                   \"01\",\"02\",\"03\",\"04\",\"05\",\"06\",\"07\",\"08\",\"09\"]"
      ],
      "metadata": {
        "id": "fQXEpuoHqKMR"
      },
      "execution_count": null,
      "outputs": []
    },
    {
      "cell_type": "markdown",
      "source": [
        "#**품사별 분류**"
      ],
      "metadata": {
        "id": "hTZWkHsfqaxo"
      }
    },
    {
      "cell_type": "code",
      "source": [
        "# 예전 버전 (명사만!)\n",
        "\n",
        "def lemmatization_old(texts, allowed_postags=['NOUN']):\n",
        "    texts_out_N = [ token.text for token in nlp(texts) if token.pos_ in \n",
        "                 allowed_postags and token.text not in black_list and len(token.text)>2]\n",
        "    return texts_out_N\n",
        "\n",
        "# 형용사만!\n",
        "\n",
        "def lemmatization_old(texts, allowed_postags=['ADJ']):\n",
        "    texts_out_A = [ token.text for token in nlp(texts) if token.pos_ in \n",
        "                 allowed_postags and token.text not in black_list and len(token.text)>2]\n",
        "    return texts_out_A\n",
        "\n",
        "# 동사만!\n",
        "\n",
        "def lemmatization_old(texts, allowed_postags=['NOUN']):\n",
        "    texts_out_V = [ token.text for token in nlp(texts) if token.pos_ in \n",
        "                 allowed_postags and token.text not in black_list and len(token.text)>2]\n",
        "    return texts_out_V\n",
        "\n",
        "# KM's revision (모든 품사)\n",
        "def lemmatization(texts):\n",
        "    texts_out = [ token.text for token in nlp(texts) if token.text not in black_list and len(token.text)>2]\n",
        "    return texts_out"
      ],
      "metadata": {
        "id": "zepMIyE2qbau"
      },
      "execution_count": null,
      "outputs": []
    },
    {
      "cell_type": "markdown",
      "source": [
        "Create the cleaner function to clean the spanish text, remove non alpha numeric characters, remove duplicate, remove spanish accutes, remove digits."
      ],
      "metadata": {
        "id": "-mb3bXQGqk21"
      }
    },
    {
      "cell_type": "code",
      "source": [
        "def cleaner(word):\n",
        "  word = re.sub(r'((http|https)\\:\\/\\/)?[a-zA-Z0-9\\.\\/\\?\\:@\\-_=#]+\\.([a-zA-Z]){2,6}([a-zA-Z0-9\\.\\&\\/\\?\\:@\\-_=#])*', '', word, flags=re.MULTILINE)\n",
        "  word = re.sub(r'(?::|;|=)(?:-)?(?:\\)|\\(|D|P)', \"\", word)\n",
        "  word = re.sub(r'ee.uu', 'eeuu', word)\n",
        "  word = re.sub(r'\\#\\.', '', word)\n",
        "  word = re.sub(r'\\n', '', word)\n",
        "  word = re.sub(r',', '', word)\n",
        "  word = re.sub(r'\\-', ' ', word)\n",
        "  word = re.sub(r'\\.{3}', ' ', word)\n",
        "  word = re.sub(r'a{2,}', 'a', word)\n",
        "  word = re.sub(r'é{2,}', 'é', word)\n",
        "  word = re.sub(r'i{2,}', 'i', word)\n",
        "  word = re.sub(r'ja{2,}', 'ja', word) \n",
        "  word = re.sub(r'á', 'a', word)\n",
        "  word = re.sub(r'é', 'e', word)\n",
        "  word = re.sub(r'í', 'i', word)\n",
        "  word = re.sub(r'ó', 'o', word)\n",
        "  word = re.sub(r'ú', 'u', word)  \n",
        "  word = re.sub('[^a-zA-Z]', ' ', word)\n",
        "  list_word_clean = []\n",
        "  for w1 in word.split(\" \"):\n",
        "    if  w1.lower() not in stopwords:\n",
        "      list_word_clean.append(w1.lower())\n",
        "\n",
        "  bigram_list = bigram[list_word_clean]\n",
        "  out_text = lemmatization(\" \".join(bigram_list))\n",
        "  return out_text"
      ],
      "metadata": {
        "id": "f79eK5QpqjKz"
      },
      "execution_count": null,
      "outputs": []
    },
    {
      "cell_type": "markdown",
      "source": [
        "For gensim we need a list of text, so we need do convert the dataframe to list."
      ],
      "metadata": {
        "id": "KBeNzHE6qtGZ"
      }
    },
    {
      "cell_type": "code",
      "source": [
        "len(df_news.texto.to_list()) #HY: texto"
      ],
      "metadata": {
        "id": "VuyZR55uq0gp",
        "colab": {
          "base_uri": "https://localhost:8080/"
        },
        "outputId": "2c0f9f1e-84e9-4e58-f4ad-2479b560f592"
      },
      "execution_count": null,
      "outputs": [
        {
          "output_type": "execute_result",
          "data": {
            "text/plain": [
              "566"
            ]
          },
          "metadata": {},
          "execution_count": 10
        }
      ]
    },
    {
      "cell_type": "markdown",
      "source": [
        "Then we look for bigram in our data, i.e pair of words that together have more meanful for our model."
      ],
      "metadata": {
        "id": "GFCow_ZWqt3I"
      }
    },
    {
      "cell_type": "code",
      "source": [
        "%%time\n",
        "bigram = gensim.models.Phrases(df_news.texto.to_list()) #HY: text -> texto"
      ],
      "metadata": {
        "id": "rX3StYNRq21n",
        "colab": {
          "base_uri": "https://localhost:8080/"
        },
        "outputId": "15aa06fa-58c3-41ac-9c61-dc9c8194be33"
      },
      "execution_count": null,
      "outputs": [
        {
          "output_type": "stream",
          "name": "stdout",
          "text": [
            "CPU times: user 582 ms, sys: 932 µs, total: 583 ms\n",
            "Wall time: 859 ms\n"
          ]
        }
      ]
    },
    {
      "cell_type": "markdown",
      "source": [
        "Let's examine some output."
      ],
      "metadata": {
        "id": "V3cNeNS0qwsa"
      }
    },
    {
      "cell_type": "code",
      "source": [
        "bigram[df_news.texto.to_list()[100].split()] #HY: text -> texto, 2000 -> 100"
      ],
      "metadata": {
        "id": "cegACD21q5uJ"
      },
      "execution_count": null,
      "outputs": []
    },
    {
      "cell_type": "code",
      "source": [
        "import nltk\n",
        "nltk.download('stopwords')\n",
        "nltk.download('punkt')"
      ],
      "metadata": {
        "id": "frK78pzzq7h3",
        "colab": {
          "base_uri": "https://localhost:8080/"
        },
        "outputId": "c1820e5a-50d6-4545-de13-08784937d3b8"
      },
      "execution_count": null,
      "outputs": [
        {
          "output_type": "stream",
          "name": "stderr",
          "text": [
            "[nltk_data] Downloading package stopwords to /root/nltk_data...\n",
            "[nltk_data]   Unzipping corpora/stopwords.zip.\n",
            "[nltk_data] Downloading package punkt to /root/nltk_data...\n",
            "[nltk_data]   Unzipping tokenizers/punkt.zip.\n"
          ]
        },
        {
          "output_type": "execute_result",
          "data": {
            "text/plain": [
              "True"
            ]
          },
          "metadata": {},
          "execution_count": 13
        }
      ]
    },
    {
      "cell_type": "code",
      "source": [
        "from nltk import word_tokenize\n",
        "from nltk.corpus import stopwords\n",
        "stop = set(stopwords.words('spanish'))\n",
        "\n",
        "additional_stopwords=set(black_list)\n",
        "\n",
        "stopwords = stop.union(additional_stopwords)"
      ],
      "metadata": {
        "id": "HvdtnQJeq98_"
      },
      "execution_count": null,
      "outputs": []
    },
    {
      "cell_type": "markdown",
      "source": [
        "We are using Spacy For lemmatize spanish words."
      ],
      "metadata": {
        "id": "alJX67MSq_W8"
      }
    },
    {
      "cell_type": "code",
      "source": [
        "!pip install spacy "
      ],
      "metadata": {
        "id": "uM_-i6ZsrBz-"
      },
      "execution_count": null,
      "outputs": []
    },
    {
      "cell_type": "code",
      "source": [
        "!python -m spacy download es_core_news_sm"
      ],
      "metadata": {
        "id": "sTVndd6qrC8c"
      },
      "execution_count": null,
      "outputs": []
    },
    {
      "cell_type": "markdown",
      "source": [
        "**A new error happened!**"
      ],
      "metadata": {
        "id": "2uytlfhbrJ_G"
      }
    },
    {
      "cell_type": "code",
      "source": [
        "import spacy \n",
        "\n",
        "nlp = spacy.load(\"es_core_news_sm\") #HY: sm, md, lg"
      ],
      "metadata": {
        "id": "HTiSGf6_rEDM"
      },
      "execution_count": null,
      "outputs": []
    },
    {
      "cell_type": "markdown",
      "source": [
        "Now let's test the cleaner function:"
      ],
      "metadata": {
        "id": "gVl74k7KrH5J"
      }
    },
    {
      "cell_type": "code",
      "source": [
        "df_news.texto[0] #HY: text -> texto"
      ],
      "metadata": {
        "id": "GdNoROyRrQ8X"
      },
      "execution_count": null,
      "outputs": []
    },
    {
      "cell_type": "code",
      "source": [
        "cleaner(df_news.texto[0]) #HY: text -> texto"
      ],
      "metadata": {
        "id": "dTB3y5x3rSil"
      },
      "execution_count": null,
      "outputs": []
    },
    {
      "cell_type": "markdown",
      "source": [
        "The Cleaner function work properly."
      ],
      "metadata": {
        "id": "MsL_RxW-rX9l"
      }
    },
    {
      "cell_type": "markdown",
      "source": [
        "Let's clean all the text"
      ],
      "metadata": {
        "id": "HxFUIWDGrVn4"
      }
    },
    {
      "cell_type": "code",
      "source": [
        "df_news['texto2'] = df_news['texto'] #HY: text -> texto"
      ],
      "metadata": {
        "id": "WE4u-ZRnra8d"
      },
      "execution_count": null,
      "outputs": []
    },
    {
      "cell_type": "code",
      "source": [
        "%%time\n",
        "df_news['texto'] = df_news['texto'].apply(cleaner) #HY: text -> texto"
      ],
      "metadata": {
        "id": "WzlZ8FlLrcDt",
        "colab": {
          "base_uri": "https://localhost:8080/"
        },
        "outputId": "2c3f1b26-53ed-4116-95a9-6f2c16356c00"
      },
      "execution_count": null,
      "outputs": [
        {
          "output_type": "stream",
          "name": "stdout",
          "text": [
            "CPU times: user 8.58 s, sys: 26.3 ms, total: 8.6 s\n",
            "Wall time: 8.65 s\n"
          ]
        }
      ]
    },
    {
      "cell_type": "markdown",
      "source": [
        "Now we need to build the corpus and the dictionary that gensim need to work, to do that we need to pass a list of list of tokens."
      ],
      "metadata": {
        "id": "cIosAjhsrdd9"
      }
    },
    {
      "cell_type": "code",
      "source": [
        "dictionary = Dictionary(df_news['texto'].to_list())\n",
        "dictionary.compactify()\n",
        "# Filter extremes\n",
        "dictionary.filter_extremes(no_below=2, no_above=0.97, keep_n=None)\n",
        "dictionary.compactify()\n",
        "\n",
        "corpus = [dictionary.doc2bow(text) for text in df_news['texto'].to_list()]"
      ],
      "metadata": {
        "id": "MoqHmNhHre5-"
      },
      "execution_count": null,
      "outputs": []
    },
    {
      "cell_type": "markdown",
      "source": [
        "**Now let's do the modeling part.**\n",
        "\n",
        "  * We are comparing 3 topic modeling algorithm Latent Dirichlet Allocation (LDA), Latent\n",
        "semantic analysis (LSA), Hierarchical Dirichlet Process\n",
        "(HDP),in order to evaluate topic models we will be using **topic coherence**, which is a measure of how\n",
        "interpretable topics are for human beings."
      ],
      "metadata": {
        "id": "2h1nodgyrgDT"
      }
    },
    {
      "cell_type": "markdown",
      "source": [
        "##**Model#1: Hierarchical Dirichlet process Model**"
      ],
      "metadata": {
        "id": "v_lMuA4XrnXC"
      }
    },
    {
      "cell_type": "code",
      "source": [
        "import time\n",
        "time.clock = time.time"
      ],
      "metadata": {
        "id": "X1B7Nq35rtpo"
      },
      "execution_count": null,
      "outputs": []
    },
    {
      "cell_type": "code",
      "source": [
        "hdpmodel = HdpModel(corpus=corpus, id2word=dictionary, random_state= 30)"
      ],
      "metadata": {
        "id": "SHG7hYxCr3YD",
        "colab": {
          "base_uri": "https://localhost:8080/"
        },
        "outputId": "74e0bd9c-3883-45bb-9e53-9e758fae8b53"
      },
      "execution_count": null,
      "outputs": [
        {
          "output_type": "stream",
          "name": "stderr",
          "text": [
            "WARNING:gensim.models.hdpmodel:likelihood is decreasing!\n",
            "WARNING:gensim.models.hdpmodel:likelihood is decreasing!\n",
            "WARNING:gensim.models.hdpmodel:likelihood is decreasing!\n",
            "WARNING:gensim.models.hdpmodel:likelihood is decreasing!\n",
            "WARNING:gensim.models.hdpmodel:likelihood is decreasing!\n",
            "WARNING:gensim.models.hdpmodel:likelihood is decreasing!\n",
            "WARNING:gensim.models.hdpmodel:likelihood is decreasing!\n",
            "WARNING:gensim.models.hdpmodel:likelihood is decreasing!\n",
            "WARNING:gensim.models.hdpmodel:likelihood is decreasing!\n",
            "WARNING:gensim.models.hdpmodel:likelihood is decreasing!\n",
            "WARNING:gensim.models.hdpmodel:likelihood is decreasing!\n",
            "WARNING:gensim.models.hdpmodel:likelihood is decreasing!\n",
            "WARNING:gensim.models.hdpmodel:likelihood is decreasing!\n"
          ]
        }
      ]
    },
    {
      "cell_type": "markdown",
      "source": [
        "and the topics of this model:"
      ],
      "metadata": {
        "id": "GuuXoNTxr5HZ"
      }
    },
    {
      "cell_type": "code",
      "source": [
        "def display_topics(model, model_type=\"lda\"):\n",
        "  for topic_idx, topic in enumerate(model.print_topics()):\n",
        "    print (\"Topic %d:\" % (topic_idx))\n",
        "    if model_type== \"hdp\":\n",
        "      print (\" \".join(re.findall( r'\\*(.[^\\*-S]+).?', topic[1])), \"\\n\")\n",
        "    else:\n",
        "      print (\" \".join(re.findall( r'\\\"(.[^\"]+).?', topic[1])), \"\\n\")"
      ],
      "metadata": {
        "id": "mysUf0HEr6-r"
      },
      "execution_count": null,
      "outputs": []
    },
    {
      "cell_type": "code",
      "source": [
        "# hdpmodel.show_topics() \n",
        "\n",
        "display_topics(hdpmodel, model_type=\"hdp\")"
      ],
      "metadata": {
        "id": "kc_QDr6WsMkX"
      },
      "execution_count": null,
      "outputs": []
    },
    {
      "cell_type": "markdown",
      "source": [
        "as we could see there are 20 topics, however is kind of dificult to interpret or follow, so we decide to move to another model."
      ],
      "metadata": {
        "id": "7fRJg9XIr8Ji"
      }
    },
    {
      "cell_type": "code",
      "source": [
        "def evaluate_graph(dictionary, corpus, texts, limit, model):\n",
        "    \"\"\"\n",
        "    Function to display num_topics - LDA graph using c_v coherence\n",
        "    \n",
        "    Parameters:\n",
        "    ----------\n",
        "    dictionary : Gensim dictionary\n",
        "    corpus : Gensim corpus\n",
        "    limit : topic limit\n",
        "    \n",
        "    Returns:\n",
        "    -------\n",
        "    lm_list : List of LDA topic models\n",
        "    c_v : Coherence values corresponding to the LDA model with respective number of topics\n",
        "    \"\"\"\n",
        "    c_v = []\n",
        "    lm_list = []\n",
        "    for num_topics in range(1, limit):\n",
        "        if model == 'lsi':\n",
        "          lm = LsiModel(corpus=corpus, num_topics=num_topics, id2word=dictionary)\n",
        "        else:\n",
        "          lm = LdaModel(corpus=corpus, num_topics=num_topics, id2word=dictionary)\n",
        "        lm_list.append(lm)\n",
        "        cm = CoherenceModel(model=lm, texts=texts, dictionary=dictionary, coherence='c_v')\n",
        "        c_v.append(cm.get_coherence())\n",
        "        \n",
        "    # Show graph\n",
        "    x = range(1, limit)\n",
        "    plt.plot(x, c_v)\n",
        "    plt.xlabel(\"num_topics\")\n",
        "    plt.ylabel(\"Coherence score\")\n",
        "    plt.legend((\"c_v\"), loc='best')\n",
        "    plt.show()\n",
        "    \n",
        "    return lm_list, c_v"
      ],
      "metadata": {
        "id": "bJZNVNLpr77U"
      },
      "execution_count": null,
      "outputs": []
    },
    {
      "cell_type": "markdown",
      "source": [
        "##**Model#2: LSI Model**"
      ],
      "metadata": {
        "id": "dSdNRkzwruDX"
      }
    },
    {
      "cell_type": "code",
      "source": [
        "lsimodel = LsiModel(corpus=corpus, num_topics=10, id2word=dictionary)"
      ],
      "metadata": {
        "id": "ASKrD_d4ru3d"
      },
      "execution_count": null,
      "outputs": []
    },
    {
      "cell_type": "code",
      "source": [
        "display_topics(lsimodel)  # Showing the topics"
      ],
      "metadata": {
        "id": "S1M6X0SFsRc_"
      },
      "execution_count": null,
      "outputs": []
    },
    {
      "cell_type": "markdown",
      "source": [
        "It seen that with 10 topics there is some themes with keywords related to: trump, venezuela, police, electiones, terrorism; still is a little difficult to gt some insight, because of this we are trying to select the best number of topics by iterate over a range of values and looking the coherence."
      ],
      "metadata": {
        "id": "Zs5Dmy8MsS9x"
      }
    },
    {
      "cell_type": "code",
      "source": [
        "%%time\n",
        "lmlist_lsi, c_v = evaluate_graph(dictionary=dictionary, corpus=corpus, texts=df_news['texto'].to_list(), limit=21, model= \"lsi\") #HY: text -> texto"
      ],
      "metadata": {
        "id": "4ejOEzZdsfvi"
      },
      "execution_count": null,
      "outputs": []
    },
    {
      "cell_type": "markdown",
      "source": [
        "According to the coherence the best number of topics are between 3-7, however you must select the topics using both the coherence and visual inspection."
      ],
      "metadata": {
        "id": "5Avv8IO7sia5"
      }
    },
    {
      "cell_type": "code",
      "source": [
        "display_topics(lmlist_lsi[2])"
      ],
      "metadata": {
        "id": "oysyAPPrskTu",
        "colab": {
          "base_uri": "https://localhost:8080/"
        },
        "outputId": "ddbe2712-6b91-4079-8de1-bffc89e7041b"
      },
      "execution_count": null,
      "outputs": [
        {
          "output_type": "stream",
          "name": "stdout",
          "text": [
            "Topic 0:\n",
            "tic agua mar sue tierra tarde sol corazon dia sombra \n",
            "\n",
            "Topic 1:\n",
            "tic luna sombra tierra sue tiempo agua tarde amor vida \n",
            "\n",
            "Topic 2:\n",
            "luna sombra ora tierra noche castilla tic mar abril espa \n",
            "\n"
          ]
        }
      ]
    },
    {
      "cell_type": "markdown",
      "source": [
        "Now, Let's try another model!"
      ],
      "metadata": {
        "id": "XV78W8jXsVkV"
      }
    },
    {
      "cell_type": "markdown",
      "source": [
        "##**Model#3: Latent Dirichlet Allocation Model**"
      ],
      "metadata": {
        "id": "xCQopweArvSX"
      }
    },
    {
      "cell_type": "code",
      "source": [
        "ldamodel = LdaModel(corpus=corpus, num_topics=10, id2word=dictionary)"
      ],
      "metadata": {
        "id": "yjux73SDrwcn",
        "colab": {
          "base_uri": "https://localhost:8080/"
        },
        "outputId": "b740b8dd-d2aa-4fe8-b9af-b5dadf7a69e7"
      },
      "execution_count": null,
      "outputs": [
        {
          "output_type": "stream",
          "name": "stderr",
          "text": [
            "WARNING:gensim.models.ldamodel:too few updates, training might not converge; consider increasing the number of passes or iterations to improve accuracy\n"
          ]
        }
      ]
    },
    {
      "cell_type": "code",
      "source": [
        "display_topics(ldamodel)"
      ],
      "metadata": {
        "id": "Nsxk56oVsoVJ"
      },
      "execution_count": null,
      "outputs": []
    },
    {
      "cell_type": "markdown",
      "source": [
        "Find out the optimal number of topics for the LDA model based on the coherence metric:"
      ],
      "metadata": {
        "id": "YhF7YmIjsox0"
      }
    },
    {
      "cell_type": "code",
      "source": [
        "%%time\n",
        "lmlist, c_v = evaluate_graph(dictionary=dictionary, corpus=corpus, texts=df_news['texto'].to_list(), limit=21, model= \"lda\") #HY: text -> texto"
      ],
      "metadata": {
        "id": "nu3IgpL6sqjM",
        "colab": {
          "base_uri": "https://localhost:8080/",
          "height": 695
        },
        "outputId": "a0e41b41-7f8a-4d12-93e5-bad6e1c820e3"
      },
      "execution_count": null,
      "outputs": [
        {
          "output_type": "stream",
          "name": "stderr",
          "text": [
            "WARNING:gensim.models.ldamodel:too few updates, training might not converge; consider increasing the number of passes or iterations to improve accuracy\n",
            "WARNING:gensim.models.ldamodel:too few updates, training might not converge; consider increasing the number of passes or iterations to improve accuracy\n",
            "WARNING:gensim.models.ldamodel:too few updates, training might not converge; consider increasing the number of passes or iterations to improve accuracy\n",
            "WARNING:gensim.models.ldamodel:too few updates, training might not converge; consider increasing the number of passes or iterations to improve accuracy\n",
            "WARNING:gensim.models.ldamodel:too few updates, training might not converge; consider increasing the number of passes or iterations to improve accuracy\n",
            "WARNING:gensim.models.ldamodel:too few updates, training might not converge; consider increasing the number of passes or iterations to improve accuracy\n",
            "WARNING:gensim.models.ldamodel:too few updates, training might not converge; consider increasing the number of passes or iterations to improve accuracy\n",
            "WARNING:gensim.models.ldamodel:too few updates, training might not converge; consider increasing the number of passes or iterations to improve accuracy\n",
            "WARNING:gensim.models.ldamodel:too few updates, training might not converge; consider increasing the number of passes or iterations to improve accuracy\n",
            "WARNING:gensim.models.ldamodel:too few updates, training might not converge; consider increasing the number of passes or iterations to improve accuracy\n",
            "WARNING:gensim.models.ldamodel:too few updates, training might not converge; consider increasing the number of passes or iterations to improve accuracy\n",
            "WARNING:gensim.models.ldamodel:too few updates, training might not converge; consider increasing the number of passes or iterations to improve accuracy\n",
            "WARNING:gensim.models.ldamodel:too few updates, training might not converge; consider increasing the number of passes or iterations to improve accuracy\n",
            "WARNING:gensim.models.ldamodel:too few updates, training might not converge; consider increasing the number of passes or iterations to improve accuracy\n",
            "WARNING:gensim.models.ldamodel:too few updates, training might not converge; consider increasing the number of passes or iterations to improve accuracy\n",
            "WARNING:gensim.models.ldamodel:too few updates, training might not converge; consider increasing the number of passes or iterations to improve accuracy\n",
            "WARNING:gensim.models.ldamodel:too few updates, training might not converge; consider increasing the number of passes or iterations to improve accuracy\n",
            "WARNING:gensim.models.ldamodel:too few updates, training might not converge; consider increasing the number of passes or iterations to improve accuracy\n",
            "WARNING:gensim.models.ldamodel:too few updates, training might not converge; consider increasing the number of passes or iterations to improve accuracy\n",
            "WARNING:gensim.models.ldamodel:too few updates, training might not converge; consider increasing the number of passes or iterations to improve accuracy\n"
          ]
        },
        {
          "output_type": "display_data",
          "data": {
            "text/plain": [
              "<Figure size 432x288 with 1 Axes>"
            ],
            "image/png": "[encoded data removed]"
          },
          "metadata": {
            "needs_background": "light"
          }
        },
        {
          "output_type": "stream",
          "name": "stdout",
          "text": [
            "CPU times: user 26.1 s, sys: 484 ms, total: 26.6 s\n",
            "Wall time: 26.2 s\n"
          ]
        }
      ]
    },
    {
      "cell_type": "markdown",
      "source": [
        "For this model it seems that 9 or 18, again we must to check the keywords too."
      ],
      "metadata": {
        "id": "CclenWNKssXw"
      }
    },
    {
      "cell_type": "markdown",
      "source": [
        "##**Comparing the Model Coherence of the Best Models**"
      ],
      "metadata": {
        "id": "Ik-yrJhTsu6U"
      }
    },
    {
      "cell_type": "code",
      "source": [
        "ldamodel = lmlist[5]\n",
        "lsimodel = lmlist_lsi[2]\n",
        "\n",
        "lsitopics = [[word for word, prob in topic] for topicid, topic in lsimodel.show_topics(formatted=False)]\n",
        "\n",
        "hdptopics = [[word for word, prob in topic] for topicid, topic in hdpmodel.show_topics(formatted=False)]\n",
        "\n",
        "ldatopics = [[word for word, prob in topic] for topicid, topic in ldamodel.show_topics(formatted=False)]"
      ],
      "metadata": {
        "id": "H2VUKYGosy72"
      },
      "execution_count": null,
      "outputs": []
    },
    {
      "cell_type": "code",
      "source": [
        "lsi_coherence = CoherenceModel(topics=lsitopics[:10], texts=df_news['texto'].to_list(), dictionary=dictionary, window_size=10).get_coherence() #HY: text -> texto\n",
        "\n",
        "hdp_coherence = CoherenceModel(topics=hdptopics[:10], texts=df_news['texto'].to_list(), dictionary=dictionary, window_size=10).get_coherence() #HY: text -> texto\n",
        "\n",
        "lda_coherence = CoherenceModel(topics=ldatopics, texts=df_news['texto'].to_list(), dictionary=dictionary, window_size=10).get_coherence() #HY: text -> texto"
      ],
      "metadata": {
        "id": "YyicIxDts0LC"
      },
      "execution_count": null,
      "outputs": []
    },
    {
      "cell_type": "code",
      "source": [
        "import seaborn as sns\n",
        "\n",
        "coherences = [lsi_coherence, hdp_coherence, lda_coherence]\n",
        "n = len(coherences)\n",
        "x = ['lsi_coherence','hdp_coherence', 'lda_coherence']\n",
        "sns.barplot(x, coherences)\n"
      ],
      "metadata": {
        "id": "ioSpCKlKs2E4",
        "colab": {
          "base_uri": "https://localhost:8080/",
          "height": 340
        },
        "outputId": "ffd4fea9-35fe-49b1-e0cc-f799c55c2436"
      },
      "execution_count": null,
      "outputs": [
        {
          "output_type": "stream",
          "name": "stderr",
          "text": [
            "/usr/local/lib/python3.8/dist-packages/seaborn/_decorators.py:36: FutureWarning: Pass the following variables as keyword args: x, y. From version 0.12, the only valid positional argument will be `data`, and passing other arguments without an explicit keyword will result in an error or misinterpretation.\n",
            "  warnings.warn(\n"
          ]
        },
        {
          "output_type": "execute_result",
          "data": {
            "text/plain": [
              "<matplotlib.axes._subplots.AxesSubplot at 0x7f847f447220>"
            ]
          },
          "metadata": {},
          "execution_count": 38
        },
        {
          "output_type": "display_data",
          "data": {
            "text/plain": [
              "<Figure size 432x288 with 1 Axes>"
            ],
            "image/png": "[encoded data removed]"
          },
          "metadata": {
            "needs_background": "light"
          }
        }
      ]
    },
    {
      "cell_type": "markdown",
      "source": [
        "We can see that the **LdaModel** model **with 8 topics** has the higher value of\n",
        "coherence ?????? **[HY: 실제 결과에 따라 수정 필요]**"
      ],
      "metadata": {
        "id": "PZvMKdJts3o-"
      }
    },
    {
      "cell_type": "markdown",
      "source": [
        "Examine the keyword to get the topics of the best model"
      ],
      "metadata": {
        "id": "DZPL5Osus9TX"
      }
    },
    {
      "cell_type": "code",
      "source": [
        "display_topics(ldamodel)"
      ],
      "metadata": {
        "id": "M_eiibhUs-d9",
        "colab": {
          "base_uri": "https://localhost:8080/"
        },
        "outputId": "0c42e33f-a1e3-4042-e142-8675135ff077"
      },
      "execution_count": null,
      "outputs": [
        {
          "output_type": "stream",
          "name": "stdout",
          "text": [
            "Topic 0:\n",
            "tierra mar sue luna corazon campo sombra sol noche bajo \n",
            "\n",
            "Topic 1:\n",
            "agua amor sue tierra tarde mar sol dios hoy dia \n",
            "\n",
            "Topic 2:\n",
            "corazon alma campo espa tarde sue agua tiempo verdad tierra \n",
            "\n",
            "Topic 3:\n",
            "mar espa tierra azul bajo agua sue soria dos mano \n",
            "\n",
            "Topic 4:\n",
            "ojos sombra tarde sue alma amor ayer tierra sol fuente \n",
            "\n",
            "Topic 5:\n",
            "claro corazon sol tarde ana tierra dia viento ojos blanca \n",
            "\n"
          ]
        }
      ]
    },
    {
      "cell_type": "markdown",
      "source": [
        "It looks like the topics are: **[HY: 수정필요!!]**\n",
        "\n",
        "* Topic 0: \n",
        "* Topic 1: \n",
        "* Topic 2: \n",
        "* Topic 3: \n",
        "* Topic 4: \n",
        "* Topic 5: \n",
        "* Topic 6: \n",
        "* Topic 7: \n",
        "* Topic 8: \n",
        "* Topic 9: \n",
        "\n"
      ],
      "metadata": {
        "id": "902Bf1ISs-39"
      }
    },
    {
      "cell_type": "markdown",
      "source": [
        "Let´s check the keyword when we selecting another number of topics (14)"
      ],
      "metadata": {
        "id": "hceAuHSFtP3m"
      }
    },
    {
      "cell_type": "code",
      "source": [
        "ldamodel_16 =lmlist[16]"
      ],
      "metadata": {
        "id": "E5voqDNXtSpt"
      },
      "execution_count": null,
      "outputs": []
    },
    {
      "cell_type": "code",
      "source": [
        "display_topics(ldamodel_16)"
      ],
      "metadata": {
        "id": "d7wm18zVtT-I",
        "colab": {
          "base_uri": "https://localhost:8080/"
        },
        "outputId": "1320c071-6dce-4c45-aef1-0acff9cd2cf6"
      },
      "execution_count": null,
      "outputs": [
        {
          "output_type": "stream",
          "name": "stdout",
          "text": [
            "Topic 0:\n",
            "dia sombra tierra tarde corazon claro bien camino busca agua \n",
            "\n",
            "Topic 1:\n",
            "dios sol alma campo bajo amor mano montes olivares mar \n",
            "\n",
            "Topic 2:\n",
            "corazon espa azorin agua primavera alma mar fuego sue alegria \n",
            "\n",
            "Topic 3:\n",
            "sol dia hoy corazon mar viejo torre flor montes claro \n",
            "\n",
            "Topic 4:\n",
            "tierra tarde campo sue viento noche mar sombra parda duero \n",
            "\n",
            "Topic 5:\n",
            "agua tierra dia tarde campo sol sue fuente lleva corazon \n",
            "\n",
            "Topic 6:\n",
            "tierra sue tarde campos camino luna ser amor dos luz \n",
            "\n",
            "Topic 7:\n",
            "claro sue luna tarde olivares viejo tierra dia glu blanca \n",
            "\n",
            "Topic 8:\n",
            "mar agua campo fuente tierra sol dios mano canta luz \n",
            "\n",
            "Topic 9:\n",
            "luna noche camino ojos campo sue sol dos bajo aguarda \n",
            "\n",
            "Topic 10:\n",
            "mar corazon bajo sol sue tierra agua viento tarde ojos \n",
            "\n",
            "Topic 11:\n",
            "agua ojos tierra sol sue claro noche sombra alma fuente \n",
            "\n",
            "Topic 12:\n",
            "espa tic corazon mar tarde agua ana hoy viento alma \n",
            "\n",
            "Topic 13:\n",
            "amor sue tarde hoy tierra fuego ojos luz dios noche \n",
            "\n",
            "Topic 14:\n",
            "sue mar fuerte verdad tiempo corazon cosas amor lira dios \n",
            "\n",
            "Topic 15:\n",
            "sombra sue tierra sol luna solo verde viento mano corazon \n",
            "\n",
            "Topic 16:\n",
            "sierra tierra dios sue mar hoy tarde azul ojos sombra \n",
            "\n"
          ]
        }
      ]
    },
    {
      "cell_type": "markdown",
      "source": [
        "##**Classifiying all documents**\n",
        "\n",
        "*  now that we have been select the best model and topics number, is time to assign a topic to each document, means cluster according to the topics\n",
        "\n"
      ],
      "metadata": {
        "id": "hRdD9frctVus"
      }
    },
    {
      "cell_type": "code",
      "source": [
        "def format_topics_sentences(ldamodel=0, corpus=corpus, texts=0):\n",
        "    # Init output\n",
        "    sent_topics_df = pd.DataFrame()-n\n",
        "\n",
        "    # Get main topic in each document\n",
        "    for i, row in enumerate(ldamodel[corpus]):\n",
        "        row = sorted(row, key=lambda x: (x[1]), reverse=True)\n",
        "        # Get the Dominant topic, Perc Contribution and Keywords for each document\n",
        "        for j, (topic_num, prop_topic) in enumerate(row):\n",
        "            if j == 0:  # => dominant topic\n",
        "                wp = ldamodel.show_topic(topic_num)\n",
        "                topic_keywords = \", \".join([word for word, prop in wp])\n",
        "                sent_topics_df = sent_topics_df.append(pd.Series([int(topic_num), round(prop_topic,4), topic_keywords]), ignore_index=True)\n",
        "            else:\n",
        "                break\n",
        "    sent_topics_df.columns = ['Dominant_Topic', 'Perc_Contribution', 'Topic_Keywords']\n",
        "\n",
        "    # Add original text to the end of the output\n",
        "    contents = pd.Series(texts)\n",
        "    sent_topics_df = pd.concat([sent_topics_df, contents], axis=1)\n",
        "    return(sent_topics_df)\n",
        "\n",
        "\n",
        "df_topic_sents_keywords = format_topics_sentences(ldamodel, corpus=corpus, texts=df_news['texto'].to_list()) #HY: text -> texto\n",
        " \n"
      ],
      "metadata": {
        "id": "1GIyFKV4te4z"
      },
      "execution_count": null,
      "outputs": []
    },
    {
      "cell_type": "code",
      "source": [
        "# Format\n",
        "df_dominant_topic = df_topic_sents_keywords.reset_index()\n",
        "df_dominant_topic.columns = ['Document_No', 'Dominant_Topic', 'Topic_Perc_Contrib', 'Keywords', 'Text']\n",
        "\n",
        "# Show\n",
        "df_dominant_topic.head(10)"
      ],
      "metadata": {
        "id": "dtTKmIW1tgG5",
        "colab": {
          "base_uri": "https://localhost:8080/",
          "height": 459
        },
        "outputId": "6ff8d477-057e-45a5-a15b-753c6b0b149a"
      },
      "execution_count": null,
      "outputs": [
        {
          "output_type": "execute_result",
          "data": {
            "text/plain": [
              "   Document_No  Dominant_Topic  Topic_Perc_Contrib  \\\n",
              "0            0             1.0              0.3843   \n",
              "1            1             0.0              0.9853   \n",
              "2            2             4.0              0.9677   \n",
              "3            3             0.0              0.9860   \n",
              "4            4             5.0              0.8433   \n",
              "5            5             4.0              0.8420   \n",
              "6            6             1.0              0.9906   \n",
              "7            7             4.0              0.6921   \n",
              "8            8             5.0              0.9878   \n",
              "9            9             0.0              0.9790   \n",
              "\n",
              "                                            Keywords  \\\n",
              "0  agua, amor, sue, tierra, tarde, mar, sol, dios...   \n",
              "1  tierra, mar, sue, luna, corazon, campo, sombra...   \n",
              "2  ojos, sombra, tarde, sue, alma, amor, ayer, ti...   \n",
              "3  tierra, mar, sue, luna, corazon, campo, sombra...   \n",
              "4  claro, corazon, sol, tarde, ana, tierra, dia, ...   \n",
              "5  ojos, sombra, tarde, sue, alma, amor, ayer, ti...   \n",
              "6  agua, amor, sue, tierra, tarde, mar, sol, dios...   \n",
              "7  ojos, sombra, tarde, sue, alma, amor, ayer, ti...   \n",
              "8  claro, corazon, sol, tarde, ana, tierra, dia, ...   \n",
              "9  tierra, mar, sue, luna, corazon, campo, sombra...   \n",
              "\n",
              "                                                Text  \n",
              "0  [sala, familiar, sombria, querido, hermano, su...  \n",
              "1  [andado, caminos, abierto, muchas, veredas, na...  \n",
              "2  [plaza, naranjos, encendidos, frutas, redondas...  \n",
              "3  [tierra, dieron, tarde, horrible, mes, julio, ...  \n",
              "4  [tarde, parda, fria, invierno, colegiales, est...  \n",
              "5  [clara, tarde, triste, olienta, tarde, verano,...  \n",
              "6  [limonero, languido, suspende, palida, rama, p...  \n",
              "7  [escucho, cantos, viejas, cadencias, cantan, c...  \n",
              "8  [asomado, cig, alto, campanario, girando, torn...  \n",
              "9  [desierta, plaza, conduce, laberinto, callejas...  "
            ],
            "text/html": [
              "\n",
              "  <div id=\"df-cd18c740-b044-4fd7-9ffa-b5d41ac48ab7\">\n",
              "    <div class=\"colab-df-container\">\n",
              "      <div>\n",
              "<style scoped>\n",
              "    .dataframe tbody tr th:only-of-type {\n",
              "        vertical-align: middle;\n",
              "    }\n",
              "\n",
              "    .dataframe tbody tr th {\n",
              "        vertical-align: top;\n",
              "    }\n",
              "\n",
              "    .dataframe thead th {\n",
              "        text-align: right;\n",
              "    }\n",
              "</style>\n",
              "<table border=\"1\" class=\"dataframe\">\n",
              "  <thead>\n",
              "    <tr style=\"text-align: right;\">\n",
              "      <th></th>\n",
              "      <th>Document_No</th>\n",
              "      <th>Dominant_Topic</th>\n",
              "      <th>Topic_Perc_Contrib</th>\n",
              "      <th>Keywords</th>\n",
              "      <th>Text</th>\n",
              "    </tr>\n",
              "  </thead>\n",
              "  <tbody>\n",
              "    <tr>\n",
              "      <th>0</th>\n",
              "      <td>0</td>\n",
              "      <td>1.0</td>\n",
              "      <td>0.3843</td>\n",
              "      <td>agua, amor, sue, tierra, tarde, mar, sol, dios...</td>\n",
              "      <td>[sala, familiar, sombria, querido, hermano, su...</td>\n",
              "    </tr>\n",
              "    <tr>\n",
              "      <th>1</th>\n",
              "      <td>1</td>\n",
              "      <td>0.0</td>\n",
              "      <td>0.9853</td>\n",
              "      <td>tierra, mar, sue, luna, corazon, campo, sombra...</td>\n",
              "      <td>[andado, caminos, abierto, muchas, veredas, na...</td>\n",
              "    </tr>\n",
              "    <tr>\n",
              "      <th>2</th>\n",
              "      <td>2</td>\n",
              "      <td>4.0</td>\n",
              "      <td>0.9677</td>\n",
              "      <td>ojos, sombra, tarde, sue, alma, amor, ayer, ti...</td>\n",
              "      <td>[plaza, naranjos, encendidos, frutas, redondas...</td>\n",
              "    </tr>\n",
              "    <tr>\n",
              "      <th>3</th>\n",
              "      <td>3</td>\n",
              "      <td>0.0</td>\n",
              "      <td>0.9860</td>\n",
              "      <td>tierra, mar, sue, luna, corazon, campo, sombra...</td>\n",
              "      <td>[tierra, dieron, tarde, horrible, mes, julio, ...</td>\n",
              "    </tr>\n",
              "    <tr>\n",
              "      <th>4</th>\n",
              "      <td>4</td>\n",
              "      <td>5.0</td>\n",
              "      <td>0.8433</td>\n",
              "      <td>claro, corazon, sol, tarde, ana, tierra, dia, ...</td>\n",
              "      <td>[tarde, parda, fria, invierno, colegiales, est...</td>\n",
              "    </tr>\n",
              "    <tr>\n",
              "      <th>5</th>\n",
              "      <td>5</td>\n",
              "      <td>4.0</td>\n",
              "      <td>0.8420</td>\n",
              "      <td>ojos, sombra, tarde, sue, alma, amor, ayer, ti...</td>\n",
              "      <td>[clara, tarde, triste, olienta, tarde, verano,...</td>\n",
              "    </tr>\n",
              "    <tr>\n",
              "      <th>6</th>\n",
              "      <td>6</td>\n",
              "      <td>1.0</td>\n",
              "      <td>0.9906</td>\n",
              "      <td>agua, amor, sue, tierra, tarde, mar, sol, dios...</td>\n",
              "      <td>[limonero, languido, suspende, palida, rama, p...</td>\n",
              "    </tr>\n",
              "    <tr>\n",
              "      <th>7</th>\n",
              "      <td>7</td>\n",
              "      <td>4.0</td>\n",
              "      <td>0.6921</td>\n",
              "      <td>ojos, sombra, tarde, sue, alma, amor, ayer, ti...</td>\n",
              "      <td>[escucho, cantos, viejas, cadencias, cantan, c...</td>\n",
              "    </tr>\n",
              "    <tr>\n",
              "      <th>8</th>\n",
              "      <td>8</td>\n",
              "      <td>5.0</td>\n",
              "      <td>0.9878</td>\n",
              "      <td>claro, corazon, sol, tarde, ana, tierra, dia, ...</td>\n",
              "      <td>[asomado, cig, alto, campanario, girando, torn...</td>\n",
              "    </tr>\n",
              "    <tr>\n",
              "      <th>9</th>\n",
              "      <td>9</td>\n",
              "      <td>0.0</td>\n",
              "      <td>0.9790</td>\n",
              "      <td>tierra, mar, sue, luna, corazon, campo, sombra...</td>\n",
              "      <td>[desierta, plaza, conduce, laberinto, callejas...</td>\n",
              "    </tr>\n",
              "  </tbody>\n",
              "</table>\n",
              "</div>\n",
              "      <button class=\"colab-df-convert\" onclick=\"convertToInteractive('df-cd18c740-b044-4fd7-9ffa-b5d41ac48ab7')\"\n",
              "              title=\"Convert this dataframe to an interactive table.\"\n",
              "              style=\"display:none;\">\n",
              "        \n",
              "  <svg xmlns=\"http://www.w3.org/2000/svg\" height=\"24px\"viewBox=\"0 0 24 24\"\n",
              "       width=\"24px\">\n",
              "    <path d=\"M0 0h24v24H0V0z\" fill=\"none\"/>\n",
              "    <path d=\"M18.56 5.44l.94 2.06.94-2.06 2.06-.94-2.06-.94-.94-2.06-.94 2.06-2.06.94zm-11 1L8.5 8.5l.94-2.06 2.06-.94-2.06-.94L8.5 2.5l-.94 2.06-2.06.94zm10 10l.94 2.06.94-2.06 2.06-.94-2.06-.94-.94-2.06-.94 2.06-2.06.94z\"/><path d=\"M17.41 7.96l-1.37-1.37c-.4-.4-.92-.59-1.43-.59-.52 0-1.04.2-1.43.59L10.3 9.45l-7.72 7.72c-.78.78-.78 2.05 0 2.83L4 21.41c.39.39.9.59 1.41.59.51 0 1.02-.2 1.41-.59l7.78-7.78 2.81-2.81c.8-.78.8-2.07 0-2.86zM5.41 20L4 18.59l7.72-7.72 1.47 1.35L5.41 20z\"/>\n",
              "  </svg>\n",
              "      </button>\n",
              "      \n",
              "  <style>\n",
              "    .colab-df-container {\n",
              "      display:flex;\n",
              "      flex-wrap:wrap;\n",
              "      gap: 12px;\n",
              "    }\n",
              "\n",
              "    .colab-df-convert {\n",
              "      background-color: #E8F0FE;\n",
              "      border: none;\n",
              "      border-radius: 50%;\n",
              "      cursor: pointer;\n",
              "      display: none;\n",
              "      fill: #1967D2;\n",
              "      height: 32px;\n",
              "      padding: 0 0 0 0;\n",
              "      width: 32px;\n",
              "    }\n",
              "\n",
              "    .colab-df-convert:hover {\n",
              "      background-color: #E2EBFA;\n",
              "      box-shadow: 0px 1px 2px rgba(60, 64, 67, 0.3), 0px 1px 3px 1px rgba(60, 64, 67, 0.15);\n",
              "      fill: #174EA6;\n",
              "    }\n",
              "\n",
              "    [theme=dark] .colab-df-convert {\n",
              "      background-color: #3B4455;\n",
              "      fill: #D2E3FC;\n",
              "    }\n",
              "\n",
              "    [theme=dark] .colab-df-convert:hover {\n",
              "      background-color: #434B5C;\n",
              "      box-shadow: 0px 1px 3px 1px rgba(0, 0, 0, 0.15);\n",
              "      filter: drop-shadow(0px 1px 2px rgba(0, 0, 0, 0.3));\n",
              "      fill: #FFFFFF;\n",
              "    }\n",
              "  </style>\n",
              "\n",
              "      <script>\n",
              "        const buttonEl =\n",
              "          document.querySelector('#df-cd18c740-b044-4fd7-9ffa-b5d41ac48ab7 button.colab-df-convert');\n",
              "        buttonEl.style.display =\n",
              "          google.colab.kernel.accessAllowed ? 'block' : 'none';\n",
              "\n",
              "        async function convertToInteractive(key) {\n",
              "          const element = document.querySelector('#df-cd18c740-b044-4fd7-9ffa-b5d41ac48ab7');\n",
              "          const dataTable =\n",
              "            await google.colab.kernel.invokeFunction('convertToInteractive',\n",
              "                                                     [key], {});\n",
              "          if (!dataTable) return;\n",
              "\n",
              "          const docLinkHtml = 'Like what you see? Visit the ' +\n",
              "            '<a target=\"_blank\" href=https://colab.research.google.com/notebooks/data_table.ipynb>data table notebook</a>'\n",
              "            + ' to learn more about interactive tables.';\n",
              "          element.innerHTML = '';\n",
              "          dataTable['output_type'] = 'display_data';\n",
              "          await google.colab.output.renderOutput(dataTable, element);\n",
              "          const docLink = document.createElement('div');\n",
              "          docLink.innerHTML = docLinkHtml;\n",
              "          element.appendChild(docLink);\n",
              "        }\n",
              "      </script>\n",
              "    </div>\n",
              "  </div>\n",
              "  "
            ]
          },
          "metadata": {},
          "execution_count": 43
        }
      ]
    },
    {
      "cell_type": "markdown",
      "source": [
        "We selected the ldamodel with 12 topics and asigned a dominant topic to each document, now let map each topic with a label "
      ],
      "metadata": {
        "id": "hwQ9x2rBthmK"
      }
    },
    {
      "cell_type": "markdown",
      "source": [
        "first let's create the dictionary"
      ],
      "metadata": {
        "id": "-UlgNzJytkn1"
      }
    },
    {
      "cell_type": "code",
      "source": [
        "label_dicc = {0:'TEMA1', 1:'TEMA2', 2:'TEMA3', 3: 'TEMA4', 4:'TEMA5', 5:'TEMA6', 6:'TEMA7', \n",
        "              7:'TEMA8', 8:'TEMA9', 9: 'TEMA10', 10:'TEMA11', 11:'TEMA12'}   #HY: 다시 설정 필요!!"
      ],
      "metadata": {
        "id": "66DsHVBOtiQT"
      },
      "execution_count": null,
      "outputs": []
    },
    {
      "cell_type": "code",
      "source": [
        "df_dominant_topic['Dominant_Topic'] = df_dominant_topic['Dominant_Topic'].astype('int64')"
      ],
      "metadata": {
        "id": "zLtttUbmton-"
      },
      "execution_count": null,
      "outputs": []
    },
    {
      "cell_type": "code",
      "source": [
        "df_dominant_topic['Dominant_Topic'] = df_dominant_topic['Dominant_Topic'].map(label_dicc)\n",
        "#df_dominant_topic.head(10)\n",
        "df_dominant_topic"
      ],
      "metadata": {
        "id": "sTZd2n-JtqLM",
        "colab": {
          "base_uri": "https://localhost:8080/",
          "height": 572
        },
        "outputId": "5cf5f269-1e40-4ad5-c75d-beb463a61d96"
      },
      "execution_count": null,
      "outputs": [
        {
          "output_type": "execute_result",
          "data": {
            "text/plain": [
              "     Document_No Dominant_Topic  Topic_Perc_Contrib  \\\n",
              "0              0          TEMA2              0.3843   \n",
              "1              1          TEMA1              0.9853   \n",
              "2              2          TEMA5              0.9677   \n",
              "3              3          TEMA1              0.9860   \n",
              "4              4          TEMA6              0.8433   \n",
              "..           ...            ...                 ...   \n",
              "561          561          TEMA6              0.6983   \n",
              "562          562          TEMA3              0.9710   \n",
              "563          563          TEMA6              0.9558   \n",
              "564          564          TEMA2              0.6532   \n",
              "565          565          TEMA5              0.5623   \n",
              "\n",
              "                                              Keywords  \\\n",
              "0    agua, amor, sue, tierra, tarde, mar, sol, dios...   \n",
              "1    tierra, mar, sue, luna, corazon, campo, sombra...   \n",
              "2    ojos, sombra, tarde, sue, alma, amor, ayer, ti...   \n",
              "3    tierra, mar, sue, luna, corazon, campo, sombra...   \n",
              "4    claro, corazon, sol, tarde, ana, tierra, dia, ...   \n",
              "..                                                 ...   \n",
              "561  claro, corazon, sol, tarde, ana, tierra, dia, ...   \n",
              "562  corazon, alma, campo, espa, tarde, sue, agua, ...   \n",
              "563  claro, corazon, sol, tarde, ana, tierra, dia, ...   \n",
              "564  agua, amor, sue, tierra, tarde, mar, sol, dios...   \n",
              "565  ojos, sombra, tarde, sue, alma, amor, ayer, ti...   \n",
              "\n",
              "                                                  Text  \n",
              "0    [sala, familiar, sombria, querido, hermano, su...  \n",
              "1    [andado, caminos, abierto, muchas, veredas, na...  \n",
              "2    [plaza, naranjos, encendidos, frutas, redondas...  \n",
              "3    [tierra, dieron, tarde, horrible, mes, julio, ...  \n",
              "4    [tarde, parda, fria, invierno, colegiales, est...  \n",
              "..                                                 ...  \n",
              "561  [angel, sabiasu, secreto, salio, martin, paso,...  \n",
              "562  [vio, musa, esquivade, pie, junto, lecho, enlu...  \n",
              "563  [vivi, dormi, creado, penso, martin, turbia, p...  \n",
              "564  [sucedio, angustia, fatigaque, esperar, desesp...  \n",
              "565  [camaras, tiempo, galeriasdel, alma, tan, desn...  \n",
              "\n",
              "[566 rows x 5 columns]"
            ],
            "text/html": [
              "\n",
              "  <div id=\"df-e2dacdec-9584-42cc-b2e3-c0db77eef63b\">\n",
              "    <div class=\"colab-df-container\">\n",
              "      <div>\n",
              "<style scoped>\n",
              "    .dataframe tbody tr th:only-of-type {\n",
              "        vertical-align: middle;\n",
              "    }\n",
              "\n",
              "    .dataframe tbody tr th {\n",
              "        vertical-align: top;\n",
              "    }\n",
              "\n",
              "    .dataframe thead th {\n",
              "        text-align: right;\n",
              "    }\n",
              "</style>\n",
              "<table border=\"1\" class=\"dataframe\">\n",
              "  <thead>\n",
              "    <tr style=\"text-align: right;\">\n",
              "      <th></th>\n",
              "      <th>Document_No</th>\n",
              "      <th>Dominant_Topic</th>\n",
              "      <th>Topic_Perc_Contrib</th>\n",
              "      <th>Keywords</th>\n",
              "      <th>Text</th>\n",
              "    </tr>\n",
              "  </thead>\n",
              "  <tbody>\n",
              "    <tr>\n",
              "      <th>0</th>\n",
              "      <td>0</td>\n",
              "      <td>TEMA2</td>\n",
              "      <td>0.3843</td>\n",
              "      <td>agua, amor, sue, tierra, tarde, mar, sol, dios...</td>\n",
              "      <td>[sala, familiar, sombria, querido, hermano, su...</td>\n",
              "    </tr>\n",
              "    <tr>\n",
              "      <th>1</th>\n",
              "      <td>1</td>\n",
              "      <td>TEMA1</td>\n",
              "      <td>0.9853</td>\n",
              "      <td>tierra, mar, sue, luna, corazon, campo, sombra...</td>\n",
              "      <td>[andado, caminos, abierto, muchas, veredas, na...</td>\n",
              "    </tr>\n",
              "    <tr>\n",
              "      <th>2</th>\n",
              "      <td>2</td>\n",
              "      <td>TEMA5</td>\n",
              "      <td>0.9677</td>\n",
              "      <td>ojos, sombra, tarde, sue, alma, amor, ayer, ti...</td>\n",
              "      <td>[plaza, naranjos, encendidos, frutas, redondas...</td>\n",
              "    </tr>\n",
              "    <tr>\n",
              "      <th>3</th>\n",
              "      <td>3</td>\n",
              "      <td>TEMA1</td>\n",
              "      <td>0.9860</td>\n",
              "      <td>tierra, mar, sue, luna, corazon, campo, sombra...</td>\n",
              "      <td>[tierra, dieron, tarde, horrible, mes, julio, ...</td>\n",
              "    </tr>\n",
              "    <tr>\n",
              "      <th>4</th>\n",
              "      <td>4</td>\n",
              "      <td>TEMA6</td>\n",
              "      <td>0.8433</td>\n",
              "      <td>claro, corazon, sol, tarde, ana, tierra, dia, ...</td>\n",
              "      <td>[tarde, parda, fria, invierno, colegiales, est...</td>\n",
              "    </tr>\n",
              "    <tr>\n",
              "      <th>...</th>\n",
              "      <td>...</td>\n",
              "      <td>...</td>\n",
              "      <td>...</td>\n",
              "      <td>...</td>\n",
              "      <td>...</td>\n",
              "    </tr>\n",
              "    <tr>\n",
              "      <th>561</th>\n",
              "      <td>561</td>\n",
              "      <td>TEMA6</td>\n",
              "      <td>0.6983</td>\n",
              "      <td>claro, corazon, sol, tarde, ana, tierra, dia, ...</td>\n",
              "      <td>[angel, sabiasu, secreto, salio, martin, paso,...</td>\n",
              "    </tr>\n",
              "    <tr>\n",
              "      <th>562</th>\n",
              "      <td>562</td>\n",
              "      <td>TEMA3</td>\n",
              "      <td>0.9710</td>\n",
              "      <td>corazon, alma, campo, espa, tarde, sue, agua, ...</td>\n",
              "      <td>[vio, musa, esquivade, pie, junto, lecho, enlu...</td>\n",
              "    </tr>\n",
              "    <tr>\n",
              "      <th>563</th>\n",
              "      <td>563</td>\n",
              "      <td>TEMA6</td>\n",
              "      <td>0.9558</td>\n",
              "      <td>claro, corazon, sol, tarde, ana, tierra, dia, ...</td>\n",
              "      <td>[vivi, dormi, creado, penso, martin, turbia, p...</td>\n",
              "    </tr>\n",
              "    <tr>\n",
              "      <th>564</th>\n",
              "      <td>564</td>\n",
              "      <td>TEMA2</td>\n",
              "      <td>0.6532</td>\n",
              "      <td>agua, amor, sue, tierra, tarde, mar, sol, dios...</td>\n",
              "      <td>[sucedio, angustia, fatigaque, esperar, desesp...</td>\n",
              "    </tr>\n",
              "    <tr>\n",
              "      <th>565</th>\n",
              "      <td>565</td>\n",
              "      <td>TEMA5</td>\n",
              "      <td>0.5623</td>\n",
              "      <td>ojos, sombra, tarde, sue, alma, amor, ayer, ti...</td>\n",
              "      <td>[camaras, tiempo, galeriasdel, alma, tan, desn...</td>\n",
              "    </tr>\n",
              "  </tbody>\n",
              "</table>\n",
              "<p>566 rows × 5 columns</p>\n",
              "</div>\n",
              "      <button class=\"colab-df-convert\" onclick=\"convertToInteractive('df-e2dacdec-9584-42cc-b2e3-c0db77eef63b')\"\n",
              "              title=\"Convert this dataframe to an interactive table.\"\n",
              "              style=\"display:none;\">\n",
              "        \n",
              "  <svg xmlns=\"http://www.w3.org/2000/svg\" height=\"24px\"viewBox=\"0 0 24 24\"\n",
              "       width=\"24px\">\n",
              "    <path d=\"M0 0h24v24H0V0z\" fill=\"none\"/>\n",
              "    <path d=\"M18.56 5.44l.94 2.06.94-2.06 2.06-.94-2.06-.94-.94-2.06-.94 2.06-2.06.94zm-11 1L8.5 8.5l.94-2.06 2.06-.94-2.06-.94L8.5 2.5l-.94 2.06-2.06.94zm10 10l.94 2.06.94-2.06 2.06-.94-2.06-.94-.94-2.06-.94 2.06-2.06.94z\"/><path d=\"M17.41 7.96l-1.37-1.37c-.4-.4-.92-.59-1.43-.59-.52 0-1.04.2-1.43.59L10.3 9.45l-7.72 7.72c-.78.78-.78 2.05 0 2.83L4 21.41c.39.39.9.59 1.41.59.51 0 1.02-.2 1.41-.59l7.78-7.78 2.81-2.81c.8-.78.8-2.07 0-2.86zM5.41 20L4 18.59l7.72-7.72 1.47 1.35L5.41 20z\"/>\n",
              "  </svg>\n",
              "      </button>\n",
              "      \n",
              "  <style>\n",
              "    .colab-df-container {\n",
              "      display:flex;\n",
              "      flex-wrap:wrap;\n",
              "      gap: 12px;\n",
              "    }\n",
              "\n",
              "    .colab-df-convert {\n",
              "      background-color: #E8F0FE;\n",
              "      border: none;\n",
              "      border-radius: 50%;\n",
              "      cursor: pointer;\n",
              "      display: none;\n",
              "      fill: #1967D2;\n",
              "      height: 32px;\n",
              "      padding: 0 0 0 0;\n",
              "      width: 32px;\n",
              "    }\n",
              "\n",
              "    .colab-df-convert:hover {\n",
              "      background-color: #E2EBFA;\n",
              "      box-shadow: 0px 1px 2px rgba(60, 64, 67, 0.3), 0px 1px 3px 1px rgba(60, 64, 67, 0.15);\n",
              "      fill: #174EA6;\n",
              "    }\n",
              "\n",
              "    [theme=dark] .colab-df-convert {\n",
              "      background-color: #3B4455;\n",
              "      fill: #D2E3FC;\n",
              "    }\n",
              "\n",
              "    [theme=dark] .colab-df-convert:hover {\n",
              "      background-color: #434B5C;\n",
              "      box-shadow: 0px 1px 3px 1px rgba(0, 0, 0, 0.15);\n",
              "      filter: drop-shadow(0px 1px 2px rgba(0, 0, 0, 0.3));\n",
              "      fill: #FFFFFF;\n",
              "    }\n",
              "  </style>\n",
              "\n",
              "      <script>\n",
              "        const buttonEl =\n",
              "          document.querySelector('#df-e2dacdec-9584-42cc-b2e3-c0db77eef63b button.colab-df-convert');\n",
              "        buttonEl.style.display =\n",
              "          google.colab.kernel.accessAllowed ? 'block' : 'none';\n",
              "\n",
              "        async function convertToInteractive(key) {\n",
              "          const element = document.querySelector('#df-e2dacdec-9584-42cc-b2e3-c0db77eef63b');\n",
              "          const dataTable =\n",
              "            await google.colab.kernel.invokeFunction('convertToInteractive',\n",
              "                                                     [key], {});\n",
              "          if (!dataTable) return;\n",
              "\n",
              "          const docLinkHtml = 'Like what you see? Visit the ' +\n",
              "            '<a target=\"_blank\" href=https://colab.research.google.com/notebooks/data_table.ipynb>data table notebook</a>'\n",
              "            + ' to learn more about interactive tables.';\n",
              "          element.innerHTML = '';\n",
              "          dataTable['output_type'] = 'display_data';\n",
              "          await google.colab.output.renderOutput(dataTable, element);\n",
              "          const docLink = document.createElement('div');\n",
              "          docLink.innerHTML = docLinkHtml;\n",
              "          element.appendChild(docLink);\n",
              "        }\n",
              "      </script>\n",
              "    </div>\n",
              "  </div>\n",
              "  "
            ]
          },
          "metadata": {},
          "execution_count": 46
        }
      ]
    },
    {
      "cell_type": "code",
      "source": [
        "df_news['labels'] = df_dominant_topic['Dominant_Topic']"
      ],
      "metadata": {
        "id": "te0icoK0tqlD"
      },
      "execution_count": null,
      "outputs": []
    },
    {
      "cell_type": "markdown",
      "source": [
        "Let's examine some text and its topics."
      ],
      "metadata": {
        "id": "Mufi6S8ltsNq"
      }
    },
    {
      "cell_type": "code",
      "source": [
        "#df_news[['texto2', 'labels']].head(10) #HY: text -> texto\n",
        "df_news[['texto2', 'labels']] #HY: text -> texto"
      ],
      "metadata": {
        "id": "u0QGKVmVtuZt",
        "colab": {
          "base_uri": "https://localhost:8080/",
          "height": 424
        },
        "outputId": "e38040b7-3b65-4b7a-9cda-71edb3cc20a0"
      },
      "execution_count": null,
      "outputs": [
        {
          "output_type": "execute_result",
          "data": {
            "text/plain": [
              "                                                texto2 labels\n",
              "0    Está en la sala familiar, sombría, \\ny entre n...  TEMA2\n",
              "1    He andado muchos caminos, \\nhe abierto muchas ...  TEMA1\n",
              "2    La plaza y los naranjos encendidos \\ncon sus f...  TEMA5\n",
              "3    Tierra le dieron una tarde horrible \\ndel mes ...  TEMA1\n",
              "4    Una tarde parda y fría \\nde invierno. Los cole...  TEMA6\n",
              "..                                                 ...    ...\n",
              "561  El ángel que sabía\\nsu secreto salió a Martín ...  TEMA6\n",
              "562  Y vio la musa esquiva,\\nde pie junto a su lech...  TEMA3\n",
              "563  Viví, dormí, soñé y hasta he creado\\n—pensó Ma...  TEMA6\n",
              "564  Y sucedió a la angustia la fatiga,\\nque siente...  TEMA2\n",
              "565  ¡Oh cámaras del tiempo y galerías\\ndel alma! ¡...  TEMA5\n",
              "\n",
              "[566 rows x 2 columns]"
            ],
            "text/html": [
              "\n",
              "  <div id=\"df-5a3aea6f-99aa-42f7-b1ce-5959f08320ba\">\n",
              "    <div class=\"colab-df-container\">\n",
              "      <div>\n",
              "<style scoped>\n",
              "    .dataframe tbody tr th:only-of-type {\n",
              "        vertical-align: middle;\n",
              "    }\n",
              "\n",
              "    .dataframe tbody tr th {\n",
              "        vertical-align: top;\n",
              "    }\n",
              "\n",
              "    .dataframe thead th {\n",
              "        text-align: right;\n",
              "    }\n",
              "</style>\n",
              "<table border=\"1\" class=\"dataframe\">\n",
              "  <thead>\n",
              "    <tr style=\"text-align: right;\">\n",
              "      <th></th>\n",
              "      <th>texto2</th>\n",
              "      <th>labels</th>\n",
              "    </tr>\n",
              "  </thead>\n",
              "  <tbody>\n",
              "    <tr>\n",
              "      <th>0</th>\n",
              "      <td>Está en la sala familiar, sombría, \\ny entre n...</td>\n",
              "      <td>TEMA2</td>\n",
              "    </tr>\n",
              "    <tr>\n",
              "      <th>1</th>\n",
              "      <td>He andado muchos caminos, \\nhe abierto muchas ...</td>\n",
              "      <td>TEMA1</td>\n",
              "    </tr>\n",
              "    <tr>\n",
              "      <th>2</th>\n",
              "      <td>La plaza y los naranjos encendidos \\ncon sus f...</td>\n",
              "      <td>TEMA5</td>\n",
              "    </tr>\n",
              "    <tr>\n",
              "      <th>3</th>\n",
              "      <td>Tierra le dieron una tarde horrible \\ndel mes ...</td>\n",
              "      <td>TEMA1</td>\n",
              "    </tr>\n",
              "    <tr>\n",
              "      <th>4</th>\n",
              "      <td>Una tarde parda y fría \\nde invierno. Los cole...</td>\n",
              "      <td>TEMA6</td>\n",
              "    </tr>\n",
              "    <tr>\n",
              "      <th>...</th>\n",
              "      <td>...</td>\n",
              "      <td>...</td>\n",
              "    </tr>\n",
              "    <tr>\n",
              "      <th>561</th>\n",
              "      <td>El ángel que sabía\\nsu secreto salió a Martín ...</td>\n",
              "      <td>TEMA6</td>\n",
              "    </tr>\n",
              "    <tr>\n",
              "      <th>562</th>\n",
              "      <td>Y vio la musa esquiva,\\nde pie junto a su lech...</td>\n",
              "      <td>TEMA3</td>\n",
              "    </tr>\n",
              "    <tr>\n",
              "      <th>563</th>\n",
              "      <td>Viví, dormí, soñé y hasta he creado\\n—pensó Ma...</td>\n",
              "      <td>TEMA6</td>\n",
              "    </tr>\n",
              "    <tr>\n",
              "      <th>564</th>\n",
              "      <td>Y sucedió a la angustia la fatiga,\\nque siente...</td>\n",
              "      <td>TEMA2</td>\n",
              "    </tr>\n",
              "    <tr>\n",
              "      <th>565</th>\n",
              "      <td>¡Oh cámaras del tiempo y galerías\\ndel alma! ¡...</td>\n",
              "      <td>TEMA5</td>\n",
              "    </tr>\n",
              "  </tbody>\n",
              "</table>\n",
              "<p>566 rows × 2 columns</p>\n",
              "</div>\n",
              "      <button class=\"colab-df-convert\" onclick=\"convertToInteractive('df-5a3aea6f-99aa-42f7-b1ce-5959f08320ba')\"\n",
              "              title=\"Convert this dataframe to an interactive table.\"\n",
              "              style=\"display:none;\">\n",
              "        \n",
              "  <svg xmlns=\"http://www.w3.org/2000/svg\" height=\"24px\"viewBox=\"0 0 24 24\"\n",
              "       width=\"24px\">\n",
              "    <path d=\"M0 0h24v24H0V0z\" fill=\"none\"/>\n",
              "    <path d=\"M18.56 5.44l.94 2.06.94-2.06 2.06-.94-2.06-.94-.94-2.06-.94 2.06-2.06.94zm-11 1L8.5 8.5l.94-2.06 2.06-.94-2.06-.94L8.5 2.5l-.94 2.06-2.06.94zm10 10l.94 2.06.94-2.06 2.06-.94-2.06-.94-.94-2.06-.94 2.06-2.06.94z\"/><path d=\"M17.41 7.96l-1.37-1.37c-.4-.4-.92-.59-1.43-.59-.52 0-1.04.2-1.43.59L10.3 9.45l-7.72 7.72c-.78.78-.78 2.05 0 2.83L4 21.41c.39.39.9.59 1.41.59.51 0 1.02-.2 1.41-.59l7.78-7.78 2.81-2.81c.8-.78.8-2.07 0-2.86zM5.41 20L4 18.59l7.72-7.72 1.47 1.35L5.41 20z\"/>\n",
              "  </svg>\n",
              "      </button>\n",
              "      \n",
              "  <style>\n",
              "    .colab-df-container {\n",
              "      display:flex;\n",
              "      flex-wrap:wrap;\n",
              "      gap: 12px;\n",
              "    }\n",
              "\n",
              "    .colab-df-convert {\n",
              "      background-color: #E8F0FE;\n",
              "      border: none;\n",
              "      border-radius: 50%;\n",
              "      cursor: pointer;\n",
              "      display: none;\n",
              "      fill: #1967D2;\n",
              "      height: 32px;\n",
              "      padding: 0 0 0 0;\n",
              "      width: 32px;\n",
              "    }\n",
              "\n",
              "    .colab-df-convert:hover {\n",
              "      background-color: #E2EBFA;\n",
              "      box-shadow: 0px 1px 2px rgba(60, 64, 67, 0.3), 0px 1px 3px 1px rgba(60, 64, 67, 0.15);\n",
              "      fill: #174EA6;\n",
              "    }\n",
              "\n",
              "    [theme=dark] .colab-df-convert {\n",
              "      background-color: #3B4455;\n",
              "      fill: #D2E3FC;\n",
              "    }\n",
              "\n",
              "    [theme=dark] .colab-df-convert:hover {\n",
              "      background-color: #434B5C;\n",
              "      box-shadow: 0px 1px 3px 1px rgba(0, 0, 0, 0.15);\n",
              "      filter: drop-shadow(0px 1px 2px rgba(0, 0, 0, 0.3));\n",
              "      fill: #FFFFFF;\n",
              "    }\n",
              "  </style>\n",
              "\n",
              "      <script>\n",
              "        const buttonEl =\n",
              "          document.querySelector('#df-5a3aea6f-99aa-42f7-b1ce-5959f08320ba button.colab-df-convert');\n",
              "        buttonEl.style.display =\n",
              "          google.colab.kernel.accessAllowed ? 'block' : 'none';\n",
              "\n",
              "        async function convertToInteractive(key) {\n",
              "          const element = document.querySelector('#df-5a3aea6f-99aa-42f7-b1ce-5959f08320ba');\n",
              "          const dataTable =\n",
              "            await google.colab.kernel.invokeFunction('convertToInteractive',\n",
              "                                                     [key], {});\n",
              "          if (!dataTable) return;\n",
              "\n",
              "          const docLinkHtml = 'Like what you see? Visit the ' +\n",
              "            '<a target=\"_blank\" href=https://colab.research.google.com/notebooks/data_table.ipynb>data table notebook</a>'\n",
              "            + ' to learn more about interactive tables.';\n",
              "          element.innerHTML = '';\n",
              "          dataTable['output_type'] = 'display_data';\n",
              "          await google.colab.output.renderOutput(dataTable, element);\n",
              "          const docLink = document.createElement('div');\n",
              "          docLink.innerHTML = docLinkHtml;\n",
              "          element.appendChild(docLink);\n",
              "        }\n",
              "      </script>\n",
              "    </div>\n",
              "  </div>\n",
              "  "
            ]
          },
          "metadata": {},
          "execution_count": 48
        }
      ]
    },
    {
      "cell_type": "code",
      "source": [
        "#df_news[ df_news['labels'] == 'family'].head().texto2 #HY: text -> texto\n",
        "df_news[ df_news['labels'] == 'TEMA5'].head().texto2 #HY: text -> texto"
      ],
      "metadata": {
        "id": "rVm-DEq9tv0X",
        "colab": {
          "base_uri": "https://localhost:8080/"
        },
        "outputId": "39f37d36-d2b7-465e-bb5f-6192e1e7c686"
      },
      "execution_count": null,
      "outputs": [
        {
          "output_type": "execute_result",
          "data": {
            "text/plain": [
              "2     La plaza y los naranjos encendidos \\ncon sus f...\n",
              "5     Fue una clara tarde, triste y soñolienta \\ntar...\n",
              "7     Yo escucho los cantos \\nde viejas cadencias, \\...\n",
              "14    La calle en sombra. Ocultan los altos caserone...\n",
              "16    En una tarde clara y amplia como el hastío, \\n...\n",
              "Name: texto2, dtype: object"
            ]
          },
          "metadata": {},
          "execution_count": 49
        }
      ]
    },
    {
      "cell_type": "markdown",
      "source": [
        "**Let's see the distribution of topics.**"
      ],
      "metadata": {
        "id": "05B66e98txav"
      }
    },
    {
      "cell_type": "code",
      "source": [
        "ax = df_dominant_topic['Dominant_Topic'].value_counts().plot(kind='bar')\n",
        "plt.show()"
      ],
      "metadata": {
        "id": "iLLKhG7wt39F",
        "colab": {
          "base_uri": "https://localhost:8080/",
          "height": 289
        },
        "outputId": "c8352032-20f5-401e-bcfd-97b25fe9ea60"
      },
      "execution_count": null,
      "outputs": [
        {
          "output_type": "display_data",
          "data": {
            "text/plain": [
              "<Figure size 432x288 with 1 Axes>"
            ],
            "image/png": "[encoded data removed]"
          },
          "metadata": {
            "needs_background": "light"
          }
        }
      ]
    },
    {
      "cell_type": "markdown",
      "source": [
        "The topis are almost balanced, so we are good"
      ],
      "metadata": {
        "id": "0cd5OnF1t6IE"
      }
    },
    {
      "cell_type": "markdown",
      "source": [
        "finally that we have our models set up, as well as analyzed, we can go ahead to visualizing them."
      ],
      "metadata": {
        "id": "hAeUQrHXt8ce"
      }
    },
    {
      "cell_type": "code",
      "source": [
        "!python3 --version #HY: check the current version"
      ],
      "metadata": {
        "id": "dyTHIeRvt65O",
        "colab": {
          "base_uri": "https://localhost:8080/"
        },
        "outputId": "be03ad0f-2b41-4d01-80a4-61dc27b78fa7"
      },
      "execution_count": null,
      "outputs": [
        {
          "output_type": "stream",
          "name": "stdout",
          "text": [
            "Python 3.8.10\n"
          ]
        }
      ]
    },
    {
      "cell_type": "code",
      "source": [
        "!pip install pyLDAvis==2.1.2"
      ],
      "metadata": {
        "id": "XE8T7LFVuwnz",
        "colab": {
          "base_uri": "https://localhost:8080/"
        },
        "outputId": "f05c78c4-49b3-4588-a787-c02a1ef43ed2"
      },
      "execution_count": null,
      "outputs": [
        {
          "output_type": "stream",
          "name": "stdout",
          "text": [
            "  Building wheel for pyLDAvis (setup.py) ... \u001b[?25l\u001b[?25hdone\n",
            "  Created wheel for pyLDAvis: filename=pyLDAvis-2.1.2-py2.py3-none-any.whl size=97738 sha256=c4ad6a47cc74f50baf5eccb3e374f6fe50686bf577b9e5fd6007b6330be066d9\n",
            "  Stored in directory: /root/.cache/pip/wheels/31/8c/a0/24a443892f2134e691d59c8c6c35e19821e02f85e49871f8fd\n",
            "Successfully built pyLDAvis\n",
            "\u001b[31mERROR: Operation cancelled by user\u001b[0m\u001b[31m\n",
            "\u001b[0m"
          ]
        }
      ]
    },
    {
      "cell_type": "code",
      "source": [
        "!pip install pyLDAvis"
      ],
      "metadata": {
        "id": "LAYmBzj5uzNM",
        "colab": {
          "base_uri": "https://localhost:8080/"
        },
        "outputId": "231e3a49-4742-490f-d3f0-53cbccccfc44"
      },
      "execution_count": null,
      "outputs": [
        {
          "output_type": "stream",
          "name": "stdout",
          "text": [
            "Looking in indexes: https://pypi.org/simple, https://us-python.pkg.dev/colab-wheels/public/simple/\n",
            "Collecting pyLDAvis\n",
            "  Downloading pyLDAvis-3.4.0-py3-none-any.whl (2.6 MB)\n",
            "\u001b[2K     \u001b[90m━━━━━━━━━━━━━━━━━━━━━━━━━━━━━━━━━━━━━━━━\u001b[0m \u001b[32m2.6/2.6 MB\u001b[0m \u001b[31m28.7 MB/s\u001b[0m eta \u001b[36m0:00:00\u001b[0m\n",
            "\u001b[?25hRequirement already satisfied: setuptools in /usr/local/lib/python3.8/dist-packages (from pyLDAvis) (57.4.0)\n",
            "Requirement already satisfied: numpy>=1.22.0 in /usr/local/lib/python3.8/dist-packages (from pyLDAvis) (1.22.4)\n",
            "Collecting funcy\n",
            "  Using cached funcy-1.18-py2.py3-none-any.whl (33 kB)\n",
            "Requirement already satisfied: pandas>=1.3.4 in /usr/local/lib/python3.8/dist-packages (from pyLDAvis) (1.3.5)\n",
            "Requirement already satisfied: joblib>=1.2.0 in /usr/local/lib/python3.8/dist-packages (from pyLDAvis) (1.2.0)\n",
            "Requirement already satisfied: scikit-learn>=1.0.0 in /usr/local/lib/python3.8/dist-packages (from pyLDAvis) (1.0.2)\n",
            "Requirement already satisfied: gensim in /usr/local/lib/python3.8/dist-packages (from pyLDAvis) (3.6.0)\n",
            "Requirement already satisfied: jinja2 in /usr/local/lib/python3.8/dist-packages (from pyLDAvis) (2.11.3)\n",
            "Requirement already satisfied: numexpr in /usr/local/lib/python3.8/dist-packages (from pyLDAvis) (2.8.4)\n",
            "Requirement already satisfied: scipy in /usr/local/lib/python3.8/dist-packages (from pyLDAvis) (1.7.3)\n",
            "Requirement already satisfied: pytz>=2017.3 in /usr/local/lib/python3.8/dist-packages (from pandas>=1.3.4->pyLDAvis) (2022.7.1)\n",
            "Requirement already satisfied: python-dateutil>=2.7.3 in /usr/local/lib/python3.8/dist-packages (from pandas>=1.3.4->pyLDAvis) (2.8.2)\n",
            "Requirement already satisfied: threadpoolctl>=2.0.0 in /usr/local/lib/python3.8/dist-packages (from scikit-learn>=1.0.0->pyLDAvis) (3.1.0)\n",
            "Requirement already satisfied: smart-open>=1.2.1 in /usr/local/lib/python3.8/dist-packages (from gensim->pyLDAvis) (6.3.0)\n",
            "Requirement already satisfied: six>=1.5.0 in /usr/local/lib/python3.8/dist-packages (from gensim->pyLDAvis) (1.15.0)\n",
            "Requirement already satisfied: MarkupSafe>=0.23 in /usr/local/lib/python3.8/dist-packages (from jinja2->pyLDAvis) (2.0.1)\n",
            "Installing collected packages: funcy, pyLDAvis\n",
            "Successfully installed funcy-1.18 pyLDAvis-3.4.0\n"
          ]
        }
      ]
    },
    {
      "cell_type": "markdown",
      "source": [
        "**A new error happened!**"
      ],
      "metadata": {
        "id": "WeCNmVVlvEiJ"
      }
    },
    {
      "cell_type": "code",
      "source": [
        "import pyLDAvis\n",
        "\n",
        "pyLDAvis.enable_notebook()"
      ],
      "metadata": {
        "id": "G4bc0HDGu1IC"
      },
      "execution_count": null,
      "outputs": []
    },
    {
      "cell_type": "code",
      "source": [
        "# %%time\n",
        "import pyLDAvis.gensim\n",
        "pyLDAvis.gensim.prepare(ldamodel, corpus, dictionary)"
      ],
      "metadata": {
        "id": "uRubllieu2jZ",
        "colab": {
          "base_uri": "https://localhost:8080/",
          "height": 917
        },
        "outputId": "25fc97bf-43df-4937-c0df-36ac1a2a95ba"
      },
      "execution_count": null,
      "outputs": [
        {
          "output_type": "stream",
          "name": "stderr",
          "text": [
            "/usr/local/lib/python3.8/dist-packages/pyLDAvis/_prepare.py:243: FutureWarning: In a future version of pandas all arguments of DataFrame.drop except for the argument 'labels' will be keyword-only\n",
            "  default_term_info = default_term_info.sort_values(\n"
          ]
        },
        {
          "output_type": "execute_result",
          "data": {
            "text/plain": [
              "PreparedData(topic_coordinates=              x         y  topics  cluster       Freq\n",
              "topic                                                \n",
              "1     -0.015824 -0.013897       1        1  28.389915\n",
              "0      0.010214 -0.001932       2        1  24.251808\n",
              "4     -0.031871 -0.029593       3        1  14.003796\n",
              "5     -0.005155 -0.023197       4        1  13.919515\n",
              "2     -0.030306  0.060709       5        1  10.069734\n",
              "3      0.072943  0.007910       6        1   9.365232, topic_info=      Term        Freq       Total Category  logprob  loglift\n",
              "385   espa   49.000000   49.000000  Default  30.0000  30.0000\n",
              "10   claro   46.000000   46.000000  Default  29.0000  29.0000\n",
              "40     mar  100.000000  100.000000  Default  28.0000  28.0000\n",
              "158   azul   37.000000   37.000000  Default  27.0000  27.0000\n",
              "369    ana   45.000000   45.000000  Default  26.0000  26.0000\n",
              "..     ...         ...         ...      ...      ...      ...\n",
              "72     sol    4.895814   91.213194   Topic6  -5.6628  -0.5567\n",
              "88   viejo    4.197498   41.603624   Topic6  -5.8167   0.0745\n",
              "78   tarde    4.387212   91.871346   Topic6  -5.7725  -0.6735\n",
              "31     hoy    4.138488   54.684380   Topic6  -5.8308  -0.2131\n",
              "467   ojos    4.122752   62.979249   Topic6  -5.8346  -0.3581\n",
              "\n",
              "[474 rows x 6 columns], token_table=      Topic      Freq    Term\n",
              "term                         \n",
              "301       1  0.269231   abril\n",
              "301       2  0.235578   abril\n",
              "301       3  0.302885   abril\n",
              "301       4  0.067308   abril\n",
              "301       5  0.100962   abril\n",
              "...     ...       ...     ...\n",
              "734       4  0.418013  vuelta\n",
              "1934      1  0.233179  yuntas\n",
              "1934      2  0.233179  yuntas\n",
              "1934      3  0.466359  yuntas\n",
              "1288      5  0.416838    zumo\n",
              "\n",
              "[1101 rows x 3 columns], R=30, lambda_step=0.01, plot_opts={'xlab': 'PC1', 'ylab': 'PC2'}, topic_order=[2, 1, 5, 6, 3, 4])"
            ],
            "text/html": [
              "\n",
              "<link rel=\"stylesheet\" type=\"text/css\" href=\"https://cdn.jsdelivr.net/gh/bmabey/pyLDAvis@3.4.0/pyLDAvis/js/ldavis.v1.0.0.css\">\n",
              "\n",
              "\n",
              "<div id=\"ldavis_el5721402070402728641121970853\" style=\"background-color:white;\"></div>\n",
              "<script type=\"text/javascript\">\n",
              "\n",
              "var ldavis_el5721402070402728641121970853_data = {\"mdsDat\": {\"x\": [-0.015824295391503512, 0.010214239878937163, -0.03187136641045481, -0.005155110421678049, -0.030306472126616735, 0.07294300447131599], \"y\": [-0.013896511520080958, -0.0019318051047241738, -0.029593152016166878, -0.023197216793975114, 0.06070909289514932, 0.007909592539797746], \"topics\": [1, 2, 3, 4, 5, 6], \"cluster\": [1, 1, 1, 1, 1, 1], \"Freq\": [28.38991472805735, 24.251808473817558, 14.00379596565341, 13.919514676881981, 10.06973408851577, 9.365232067073938]}, \"tinfo\": {\"Term\": [\"espa\", \"claro\", \"mar\", \"azul\", \"ana\", \"ayer\", \"ojos\", \"corazon\", \"soria\", \"verdad\", \"bien\", \"blanca\", \"alma\", \"tiempo\", \"tic\", \"sombra\", \"camino\", \"razon\", \"campo\", \"don\", \"hoy\", \"olivares\", \"montes\", \"mejor\", \"vieja\", \"martin\", \"glu\", \"oro\", \"negra\", \"sangre\", \"broto\", \"perdon\", \"enorme\", \"resbala\", \"friode\", \"parado\", \"limpio\", \"pelear\", \"torva\", \"torvos\", \"llave\", \"pensamos\", \"careta\", \"besa\", \"copia\", \"llevas\", \"carga\", \"brotan\", \"criatura\", \"debe\", \"trozo\", \"mata\", \"cuerpos\", \"remoto\", \"feo\", \"barbudo\", \"quieren\", \"enigma\", \"efunde\", \"aturde\", \"aqui\", \"capitan\", \"fieras\", \"cabellos\", \"agua\", \"grano\", \"amor\", \"guerra\", \"dios\", \"infancia\", \"pone\", \"figura\", \"hoy\", \"muerte\", \"fuerte\", \"ceniza\", \"ramas\", \"tarde\", \"nuevo\", \"verde\", \"campos\", \"hombre\", \"sue\", \"dia\", \"cielo\", \"fuente\", \"palabra\", \"tierra\", \"sol\", \"mar\", \"fuego\", \"bajo\", \"dos\", \"solo\", \"dice\", \"viento\", \"claro\", \"corazon\", \"luz\", \"alma\", \"primavera\", \"vieja\", \"mano\", \"ojos\", \"campo\", \"luna\", \"sombra\", \"noche\", \"aguapor\", \"antorcha\", \"caserio\", \"verdades\", \"concepto\", \"juncos\", \"llana\", \"vendras\", \"linda\", \"oliento\", \"flauta\", \"recuerdan\", \"cenit\", \"verdaderas\", \"empezar\", \"blanquecino\", \"cosa\", \"dices\", \"diminutas\", \"avance\", \"amapola\", \"cazador\", \"llevaba\", \"senti\", \"negro\", \"solitaria\", \"languidos\", \"suene\", \"llevado\", \"agudos\", \"arena\", \"orilla\", \"luna\", \"caminante\", \"mar\", \"espalda\", \"plata\", \"tierra\", \"busca\", \"tic\", \"plaza\", \"noche\", \"sue\", \"castilla\", \"campo\", \"vino\", \"sombra\", \"corazon\", \"camino\", \"bajo\", \"duero\", \"casa\", \"duerme\", \"nadie\", \"conmigo\", \"sol\", \"aire\", \"siempre\", \"clara\", \"azul\", \"tras\", \"alma\", \"viento\", \"viejo\", \"mano\", \"huerto\", \"tarde\", \"luz\", \"agua\", \"rio\", \"verde\", \"amor\", \"blanca\", \"dia\", \"fruta\", \"labrais\", \"inventa\", \"duraen\", \"atajo\", \"despertar\", \"alumbra\", \"ovejas\", \"vicio\", \"prefiere\", \"romance\", \"amarrada\", \"escuela\", \"ahorca\", \"rima\", \"rienda\", \"atraer\", \"amigas\", \"errante\", \"mascara\", \"libertad\", \"apaga\", \"demos\", \"acusado\", \"repele\", \"saber\", \"mayor\", \"sonora\", \"traia\", \"colegiales\", \"selva\", \"yuntas\", \"color\", \"moncayo\", \"mira\", \"hora\", \"ayer\", \"sabemos\", \"ojos\", \"abril\", \"peque\", \"horas\", \"sombra\", \"vez\", \"mil\", \"mundo\", \"urbion\", \"laguna\", \"blanca\", \"alma\", \"fuente\", \"negra\", \"tarde\", \"alegria\", \"cantar\", \"camino\", \"clara\", \"tiempo\", \"viejo\", \"amor\", \"mano\", \"campos\", \"sue\", \"sol\", \"llama\", \"flor\", \"tierra\", \"dos\", \"vieja\", \"oro\", \"espa\", \"agua\", \"campo\", \"luna\", \"noche\", \"glu\", \"peluquero\", \"juntos\", \"aguda\", \"devora\", \"rato\", \"consejo\", \"garganta\", \"aznaitin\", \"cuca\", \"hecha\", \"leccion\", \"diminuto\", \"puesto\", \"doble\", \"vuelta\", \"varon\", \"hura\", \"rioy\", \"habar\", \"haciendo\", \"hilera\", \"carro\", \"perfuman\", \"mejor\", \"dormir\", \"hada\", \"francia\", \"insolita\", \"mirada\", \"claro\", \"cantores\", \"despierta\", \"primera\", \"mitad\", \"san\", \"suena\", \"alba\", \"ana\", \"montes\", \"pasar\", \"corazon\", \"sol\", \"blanca\", \"dijo\", \"piedra\", \"viento\", \"oro\", \"jardin\", \"hoy\", \"camino\", \"pobre\", \"bien\", \"dia\", \"alto\", \"ojos\", \"dios\", \"tarde\", \"rio\", \"luz\", \"lleva\", \"tierra\", \"espa\", \"mano\", \"fuente\", \"dos\", \"sue\", \"mar\", \"agua\", \"amor\", \"noche\", \"campo\", \"arbolillo\", \"olvides\", \"dicho\", \"manto\", \"siniestra\", \"vacia\", \"azada\", \"cristo\", \"envidia\", \"azogue\", \"cain\", \"ermita\", \"demeter\", \"miente\", \"recordarlas\", \"selvas\", \"granito\", \"libra\", \"gitanos\", \"partio\", \"ansia\", \"demofon\", \"zumo\", \"versos\", \"martin\", \"revueltas\", \"quedando\", \"ciza\", \"almohada\", \"preguntar\", \"brazos\", \"asomaba\", \"sangre\", \"razon\", \"olivares\", \"verdad\", \"vacio\", \"sabes\", \"madera\", \"palabras\", \"soledad\", \"medio\", \"torno\", \"espa\", \"tiempo\", \"alma\", \"campo\", \"vieja\", \"ana\", \"corazon\", \"espejo\", \"siempre\", \"cantar\", \"tarde\", \"sue\", \"joven\", \"dia\", \"agua\", \"tierra\", \"sol\", \"hoy\", \"viento\", \"azul\", \"ayer\", \"bajo\", \"oro\", \"ojos\", \"flor\", \"mano\", \"sombra\", \"luz\", \"llevar\", \"nueve\", \"poner\", \"extra\", \"corta\", \"lindos\", \"martillo\", \"sagrado\", \"tumba\", \"asoman\", \"eis\", \"pajaros\", \"cornejas\", \"huesos\", \"rejas\", \"hombres\", \"graznan\", \"guerrero\", \"dilecto\", \"madrid\", \"partir\", \"pared\", \"verlos\", \"humo\", \"buenos\", \"sonando\", \"llaman\", \"cincel\", \"distancia\", \"ceniciento\", \"olor\", \"suelo\", \"riqueza\", \"pensar\", \"cero\", \"don\", \"gran\", \"espa\", \"entra\", \"azul\", \"soria\", \"ciudad\", \"fria\", \"tic\", \"encina\", \"mar\", \"toda\", \"bien\", \"hojas\", \"vida\", \"sabe\", \"tierra\", \"tan\", \"bajo\", \"visto\", \"buen\", \"dos\", \"blanca\", \"mano\", \"luz\", \"hombre\", \"agua\", \"camino\", \"dia\", \"alto\", \"sue\", \"campo\", \"cielo\", \"noche\", \"sol\", \"viejo\", \"tarde\", \"hoy\", \"ojos\"], \"Freq\": [49.0, 46.0, 100.0, 37.0, 45.0, 35.0, 62.0, 90.0, 22.0, 24.0, 24.0, 46.0, 62.0, 39.0, 23.0, 67.0, 51.0, 13.0, 67.0, 14.0, 54.0, 15.0, 33.0, 14.0, 35.0, 8.0, 5.0, 36.0, 28.0, 12.0, 3.159543921969074, 3.1586509008136536, 3.1272337200591958, 2.9648454098944406, 2.157216977124662, 2.120966039520026, 4.143864177287412, 2.0273952082293016, 2.7126582256228677, 1.9787065256994227, 4.619633262329827, 1.9343799654485023, 2.533226644019767, 1.9216503095689734, 2.5022042333415357, 3.152092792250557, 1.9059210727416331, 1.884605851773309, 1.926542274483321, 2.547025935266513, 1.881893206731564, 3.095868777311044, 1.8696172752496638, 1.869730955101482, 1.8840600889836172, 1.8466167566969454, 2.4457235059138904, 2.4557917597483363, 1.8339936912255215, 1.8451348142085275, 8.054673215736603, 7.432271300736133, 3.15927900065138, 4.187361272623917, 54.85079018981932, 4.723996341347156, 39.69645102955448, 10.382921654297958, 28.578537641502773, 3.5804292700623397, 3.4910276535558578, 3.5452036898957666, 25.346752288098724, 10.472373021286634, 8.111837514789624, 5.460950234118728, 10.3141217124689, 35.250146954681576, 8.238704229418738, 17.153428956024847, 18.582043902576615, 15.82882236755235, 38.382449253866916, 24.315353151478167, 16.285755671282892, 19.84087239350865, 6.88826221554178, 37.97800967392082, 28.58523803644495, 30.455981538235328, 13.594677463569836, 20.47404877043834, 16.809479992371408, 14.087059975884422, 9.922016272068875, 17.352136361954845, 15.862851697374516, 23.243278020614042, 16.688054985484907, 17.92814943484116, 12.95814889914977, 12.605802054101618, 15.79945664793125, 15.915804120604811, 14.685985135841351, 14.149245093600678, 14.315931099169946, 13.085035513971762, 2.031490816526833, 2.0313907316987367, 2.0312591977102192, 2.0307557986491576, 2.030495068109722, 2.7303247351832907, 2.028858436801871, 2.6273465843282713, 4.636473222897943, 1.9238635022876969, 3.2294097364149517, 2.432363277178879, 2.977174720179571, 1.7727299932569485, 1.7566435352073224, 1.7960694139286484, 3.4261894706062255, 5.050662915527957, 1.6763154734266688, 1.6328828016722563, 2.8693735855808113, 2.7914689153543493, 2.2308495943669486, 2.721930146788505, 8.313983346649744, 2.200796096686874, 2.180798043062733, 2.136134497918198, 1.610874976701757, 2.5514527479198033, 5.0922722797081015, 5.206016668143433, 29.89766964012106, 4.9827442037124445, 42.301524501961666, 3.215403597828304, 7.21787300883991, 46.389163976739944, 6.131325765729961, 10.905094973320614, 9.284211195067735, 21.74338683004335, 38.14625063277762, 12.254409301497715, 24.560376526584943, 9.337160531511547, 23.67394369114252, 27.889355154869826, 18.13962923736514, 20.573199269828006, 11.92463680523322, 11.88913920289109, 7.435151008301479, 8.900408191222796, 8.33656469380927, 23.042804940269395, 10.769360396943938, 12.034474272969234, 11.93797634911554, 12.04540073127223, 9.42723262691167, 15.944537338396772, 14.348077658108627, 12.28653249392441, 14.299141064539063, 9.539113440097733, 16.555647223968318, 12.620642424395067, 15.66374053465804, 10.781073084257457, 10.548356946938453, 12.202797829337756, 10.761274562806527, 10.841611018113104, 3.1198203740857213, 1.47443612856176, 1.827967631167935, 1.3921934074853215, 1.4005856821437328, 1.8272649211122487, 1.405679256411526, 1.3485959357328976, 2.1841831009049084, 1.367789846784216, 2.7985882575837278, 1.2991279454010678, 1.3583766977302554, 1.8270757157855735, 1.8262776668590528, 1.2317092530774996, 1.3104806331053225, 1.2829942035114077, 1.7422841216539975, 1.2609055245827099, 1.243589310751955, 3.0206672122105087, 1.2808352750270702, 1.2231943998708725, 1.2631488715266792, 3.6588366560807204, 4.7398020253354325, 1.9165849275565816, 1.1807730195945711, 1.522377592648995, 1.859709708197046, 1.9341582005049658, 3.9778734018272854, 3.2141786165343387, 5.2521244051068114, 5.8112847966289864, 11.643146101988265, 2.5583497634386183, 17.046692192619908, 9.052563456522675, 3.755235174905443, 2.7027414035766, 16.50498286360165, 8.573031267853336, 4.243786641617958, 7.026144959532445, 3.1618298462675685, 3.8397535133544602, 10.037034845380582, 12.093098455046563, 10.456184276773175, 6.94687160869306, 14.153828638632202, 4.751288825505353, 5.249091230220036, 9.481297327913483, 7.573974136069022, 8.036873434165875, 8.169514957252586, 11.675124992428843, 9.309682452361688, 7.766642092004029, 12.106506265978108, 10.59630419561228, 5.3388992195334914, 6.923557880489704, 11.597893881185556, 7.575254155503441, 6.62865033545044, 6.639504487978118, 7.159456431441234, 8.73213454239968, 7.318753083156733, 7.1242770016096095, 6.804624050188231, 4.67145486880455, 1.6413362670576794, 2.7378718836435194, 1.4851285377626442, 1.462531396425512, 1.3927268548189713, 1.8103002051491353, 1.7953171999724808, 1.3384706158599133, 1.6395482927486518, 1.763419665121759, 1.2809979745490356, 1.67862016598643, 2.4676435935010157, 5.646542879282174, 2.496392903192192, 1.2087183203485379, 1.2110214654270972, 1.17596009418139, 1.51730012297301, 1.5743560174752969, 1.957488787094061, 1.1274992824540089, 1.1359711828242678, 6.987702652409465, 1.137494375944694, 3.098880971424991, 1.447089079431136, 1.108835440671184, 1.8636762387474664, 19.959224047278827, 2.561296614535454, 4.359171130013507, 1.8228533459220542, 2.0827768790833803, 3.2691080779965698, 5.720841627253883, 4.152215421036303, 12.14345609696011, 9.472431279546623, 3.6791910843847866, 18.630216157388528, 17.735969466085443, 10.803460824426448, 5.509587950019506, 9.456691251413888, 10.954438058072304, 8.447512693394504, 6.282429478260729, 10.526739967819633, 9.98387779372349, 5.9927161709586825, 6.162747405310595, 10.983371531556566, 6.900947114258571, 10.838054346460053, 9.671471604304463, 12.560195099933653, 7.792785772494982, 8.852444723864066, 6.350919383095305, 11.834533164448711, 7.87083414407902, 8.351044039693065, 7.798649742807264, 7.604427923438311, 9.91882089713247, 9.228790630837914, 9.033325278995916, 8.196845037333206, 7.0410345354825665, 7.037504444868617, 2.0869856011317083, 1.4149934944925815, 1.390197494753427, 1.3769568446961193, 1.7314275434775708, 1.572632385342324, 2.0571061721934454, 2.1021558632099215, 2.3348760724934183, 1.9741628538352805, 2.3321105599564604, 1.5732113571795983, 1.9866371294063698, 1.5729879562817046, 1.1667845092124682, 1.4361075262736003, 1.070180825918923, 1.074047902519942, 1.4026990337042358, 1.421252425335701, 1.394193300386842, 1.403110543099092, 1.0264313951837494, 1.3531155044021503, 3.4907110260860215, 0.9692166782593422, 0.935222067141515, 1.269747530229782, 0.8706937059721632, 0.93358891128843, 4.239506367400329, 1.5781050014926996, 4.638342261082198, 5.008301559398261, 5.389539956127884, 7.339213589419103, 2.776875807748013, 2.859159158208767, 2.87609351094752, 2.9522913927157304, 3.0951372090222105, 2.4788658919760787, 2.984318011326639, 9.14294820392424, 7.4094257035274005, 9.622971442555949, 9.529231296442948, 6.328269117380921, 7.14812429627389, 10.551146058386541, 3.8952755822870215, 5.699063135393554, 4.1039655487005655, 8.964316422459673, 8.831925450543007, 3.549675452017589, 6.37708556634877, 7.515195617421764, 7.302661955622818, 6.357063481452558, 5.254693691878444, 5.106842177885906, 4.5660881286560295, 4.376017021277678, 5.050871253401312, 4.330629934908301, 4.96132949130307, 4.3594348867002175, 4.368262927869114, 4.384676364770124, 4.246562377118477, 2.064097588777457, 1.49549167907636, 1.249464833224058, 1.6100982028750037, 1.650684987492515, 1.5214071218379968, 1.5044962487842468, 1.1213605633189174, 1.1182461280600813, 1.1026848655006687, 1.4957439258483909, 1.064543906285615, 1.0554904299166576, 1.4273819324180685, 1.6718082339345006, 2.728836597813879, 1.0219503074010936, 1.0260227716330794, 1.0013718450578437, 2.3662938169272834, 1.682368626283151, 0.9782591806779535, 0.9724557816999623, 1.2982894361383122, 1.953678656803889, 0.9535275909352141, 1.2686236894657676, 1.5432012757647335, 2.23215121554307, 0.9580485029906055, 2.562705593647057, 2.4714208184101953, 2.146993394593932, 2.3936058895067367, 1.9062483860790786, 4.7969323881919985, 4.015524405660047, 11.42413256158238, 2.73224250364339, 8.252492264459677, 5.566079569263385, 3.329598965401397, 3.5396497923725723, 5.2752165571769085, 3.0444951229467425, 12.565733507641177, 4.056500966519311, 4.8509338760619745, 4.4125769082353745, 5.230181071681425, 3.897086258317742, 9.731880686855199, 5.012816565368163, 6.768876862324125, 4.273154192734991, 3.491781331093876, 5.4480090424606695, 5.128938375078428, 5.433295030363593, 5.141908159008201, 4.489572076158811, 6.032492877145795, 4.799026512337161, 4.930844077924782, 3.9578549182097897, 5.726653595095159, 4.855745109873854, 4.224891524074111, 4.515698736614399, 4.8958141075260055, 4.197498213920061, 4.387211747468935, 4.1384882244308, 4.122752424173239], \"Total\": [49.0, 46.0, 100.0, 37.0, 45.0, 35.0, 62.0, 90.0, 22.0, 24.0, 24.0, 46.0, 62.0, 39.0, 23.0, 67.0, 51.0, 13.0, 67.0, 14.0, 54.0, 15.0, 33.0, 14.0, 35.0, 8.0, 5.0, 36.0, 28.0, 12.0, 3.8197486774321936, 3.8195589574782542, 3.817719523887847, 3.770274430796592, 2.82081584521365, 2.8193433572755224, 5.5741866511118126, 2.7892769490973497, 3.747201192219299, 2.7935766652488128, 6.538764680172965, 2.75992031901282, 3.62698578179642, 2.760551818415319, 3.635536690811283, 4.583305210123935, 2.771351911963809, 2.7463440177624037, 2.80767113713903, 3.721332638291037, 2.7739295201111918, 4.56828589949211, 2.7617831572192673, 2.7715506243260313, 2.7983550007460427, 2.7464979122581923, 3.64312931828327, 3.6681266885913977, 2.7415682920083726, 2.7585837400454816, 12.06094814914499, 11.312024302409588, 4.757676372727796, 6.511251186688667, 101.82767904044053, 7.443808911824464, 77.78522019641645, 17.983557405813734, 56.66881583932326, 5.6011094964622785, 5.453192430098382, 5.570997165861604, 54.68437958790555, 19.828729907825974, 14.70634707977071, 9.260914253794082, 20.421691204858043, 91.87134608714436, 15.689737835297539, 38.93037922573271, 43.12058177406496, 36.6636686374568, 113.11260609539329, 63.9220986063718, 38.75039568201942, 50.259484460061884, 12.794526443955323, 124.83414333877306, 91.21319422739062, 100.88061976262838, 34.22534459182344, 62.32834298585579, 47.49716570228857, 37.36988006404962, 22.107140284756593, 53.02048368958445, 46.56380168086016, 90.30689717281251, 53.335867884023834, 62.536196637861984, 35.16962135795851, 35.17799738487449, 57.56088216275777, 62.97924868534233, 67.98759559676844, 60.46468544446623, 67.52478547761402, 55.966276433662316, 2.701923856942998, 2.701928430673153, 2.70191824794848, 2.7018441970530684, 2.7017919623756903, 3.6354810806316316, 2.701487278644555, 3.5627995558672025, 6.496925713768483, 2.7067724868090153, 4.613039010353917, 3.59332915981116, 4.413431280053829, 2.66303031223552, 2.639864587323453, 2.700757792910936, 5.260646538902139, 7.9490513337964925, 2.6565533963735017, 2.6119498641876304, 4.618756575525667, 4.5058019836803185, 3.618230071439636, 4.427955789080977, 13.556901825756823, 3.5997065954002117, 3.5756837702210493, 3.522444322904118, 2.657566354254424, 4.245852768902132, 8.759091925682643, 9.10962598261778, 60.46468544446623, 8.885648403635535, 100.88061976262838, 5.56198738468302, 14.098877428787771, 124.83414333877306, 11.84055296569761, 23.82960362820404, 19.800739715631856, 55.966276433662316, 113.11260609539329, 28.152597720283673, 67.98759559676844, 20.369800082362545, 67.52478547761402, 90.30689717281251, 51.77432317014713, 62.32834298585579, 29.903530380533493, 30.878611642924305, 16.377686604570307, 21.187857353634246, 19.863420673951225, 91.21319422739062, 29.41043091393262, 34.973113429814525, 36.0458271336433, 37.932881541889, 25.06927259482018, 62.536196637861984, 53.02048368958445, 41.603624179245244, 57.56088216275777, 26.246033409197143, 91.87134608714436, 53.335867884023834, 101.82767904044053, 40.90129982495719, 38.93037922573271, 77.78522019641645, 46.73288798059052, 63.9220986063718, 5.06876510772802, 2.5503798079946334, 3.2409183438840756, 2.4697073534710072, 2.498429644407461, 3.2723510825252773, 2.5366328269602962, 2.4652479024056886, 4.015649562120542, 2.5314828997693386, 5.2388109186771326, 2.4356938081713055, 2.5639655899215725, 3.5121660162596995, 3.512057737853266, 2.416330831182216, 2.605793955047966, 2.5546715871468066, 3.475709529601062, 2.5214728947908545, 2.489348572397561, 6.080067610043037, 2.5804447271545397, 2.522427003244473, 2.6148986054723737, 7.632688740396231, 10.102989703646092, 4.165900227749661, 2.5796017211533964, 3.352693804113132, 4.098734057598949, 4.288543549296343, 9.526081595387726, 7.643455843232968, 13.485690530460603, 15.326500543645219, 35.676657815569456, 5.929353339694993, 62.97924868534233, 29.714211166144704, 9.847176497659177, 6.55227175857713, 67.52478547761402, 29.38758972940338, 11.706951613035178, 23.907496729431156, 8.278103376495663, 10.97459273158979, 46.73288798059052, 62.536196637861984, 50.259484460061884, 28.817036827651343, 91.87134608714436, 16.254758713959287, 19.090312497952322, 51.77432317014713, 36.0458271336433, 39.88352788266599, 41.603624179245244, 77.78522019641645, 57.56088216275777, 43.12058177406496, 113.11260609539329, 91.21319422739062, 21.11333858579377, 37.800057616697316, 124.83414333877306, 47.49716570228857, 35.17799738487449, 36.44786494956395, 49.13714828876729, 101.82767904044053, 67.98759559676844, 60.46468544446623, 55.966276433662316, 5.3729648055823365, 2.3415797901860422, 3.9899724371377645, 2.368496708867141, 2.3982326106193255, 2.3759914798700144, 3.2516500237317723, 3.24541317932779, 2.4327563220811754, 3.032567777139743, 3.2618940719880407, 2.3875414408450366, 3.1605177430367197, 4.679439155435865, 10.757187325412966, 4.784538173053011, 2.3681349953482878, 2.4297046087659195, 2.3614471495496536, 3.0918602328991027, 3.2530292779883867, 4.047584990485966, 2.332867205433381, 2.356635886349456, 14.748265474507367, 2.4098493611984315, 6.613675178307109, 3.1235470602460156, 2.442677325216905, 4.120885194732998, 46.56380168086016, 5.748315689611884, 11.032741933150758, 4.064171912642615, 4.792914092705466, 8.181526628559828, 16.381588507160146, 11.281036920604544, 45.067437144420715, 33.416468464369416, 9.914167610804668, 90.30689717281251, 91.21319422739062, 46.73288798059052, 18.553187884752163, 40.94464454976589, 53.02048368958445, 36.44786494956395, 23.963363574408948, 54.68437958790555, 51.77432317014713, 22.74680585930472, 24.006745679438517, 63.9220986063718, 29.56256946206931, 62.97924868534233, 56.66881583932326, 91.87134608714436, 40.90129982495719, 53.335867884023834, 28.78071974404126, 124.83414333877306, 49.13714828876729, 57.56088216275777, 50.259484460061884, 47.49716570228857, 113.11260609539329, 100.88061976262838, 101.82767904044053, 77.78522019641645, 55.966276433662316, 67.98759559676844, 3.0420148442059243, 2.3285643588462537, 2.3084479003014082, 2.3359851593750762, 3.159745779455838, 2.9698955083582823, 3.8963055405765337, 4.02755916394207, 4.630776280972571, 4.023982177153829, 4.754992435782393, 3.2155219972708298, 4.075035025042199, 3.276744772093674, 2.4306794953601267, 3.099926992597471, 2.367017492305702, 2.4089516889061713, 3.17262974120302, 3.2222280901350238, 3.2487347982366224, 3.271822639987466, 2.399011783643225, 3.218845660913898, 8.416407860955694, 2.3763536201335826, 2.413368809813204, 3.297353467508559, 2.267094904978722, 2.443018231148645, 11.354015774847573, 4.16432933594634, 12.833184770305428, 13.949220861529122, 15.642154533761044, 24.4509415655339, 8.003451090572856, 8.564368632694896, 8.749463532853662, 9.18765829793833, 10.08953941438496, 7.360509123959033, 9.620775936962676, 49.13714828876729, 39.88352788266599, 62.536196637861984, 67.98759559676844, 35.17799738487449, 45.067437144420715, 90.30689717281251, 16.304514372282632, 34.973113429814525, 19.090312497952322, 91.87134608714436, 113.11260609539329, 14.822884394499066, 63.9220986063718, 101.82767904044053, 124.83414333877306, 91.21319422739062, 54.68437958790555, 53.02048368958445, 37.932881541889, 35.676657815569456, 62.32834298585579, 36.44786494956395, 62.97924868534233, 37.800057616697316, 57.56088216275777, 67.52478547761402, 53.335867884023834, 2.9405658060480504, 2.2076890780028493, 2.276227005611487, 2.950835296644515, 3.0755541062961163, 3.022288820078429, 3.0236577142739467, 2.279084025459465, 2.284839575744769, 2.2982301689792344, 3.2055429535778757, 2.28828756926753, 2.3059905766706015, 3.175067921257754, 3.75519231462453, 6.161500992187584, 2.323484604996401, 2.3687759686237944, 2.3593734323823696, 5.593474222372045, 3.9879901409307745, 2.3321753096244144, 2.3289158861605923, 3.1343006403788554, 4.737344779259411, 2.3162088982091094, 3.1112019804801854, 3.7905979119060347, 5.558330216093683, 2.3879286604668635, 6.50414585694423, 6.3935181413251625, 5.624827306728859, 6.3662979232272825, 4.955328663212002, 14.472142389655865, 12.88666863167502, 49.13714828876729, 8.049222201000848, 37.932881541889, 22.832237079791213, 11.466809698496464, 12.884272327251209, 23.82960362820404, 10.550238557956922, 100.88061976262838, 16.674184454333087, 24.006745679438517, 20.54585994638908, 31.56291414936983, 18.342743288006357, 124.83414333877306, 33.25910132299127, 62.32834298585579, 24.9801857934803, 16.964363675704323, 47.49716570228857, 46.73288798059052, 57.56088216275777, 53.335867884023834, 36.6636686374568, 101.82767904044053, 51.77432317014713, 63.9220986063718, 29.56256946206931, 113.11260609539329, 67.98759559676844, 38.75039568201942, 55.966276433662316, 91.21319422739062, 41.603624179245244, 91.87134608714436, 54.68437958790555, 62.97924868534233], \"Category\": [\"Default\", \"Default\", \"Default\", \"Default\", \"Default\", \"Default\", \"Default\", \"Default\", \"Default\", \"Default\", \"Default\", \"Default\", \"Default\", \"Default\", \"Default\", \"Default\", \"Default\", \"Default\", \"Default\", \"Default\", \"Default\", \"Default\", \"Default\", \"Default\", \"Default\", \"Default\", \"Default\", \"Default\", \"Default\", \"Default\", \"Topic1\", \"Topic1\", \"Topic1\", \"Topic1\", \"Topic1\", \"Topic1\", \"Topic1\", \"Topic1\", \"Topic1\", \"Topic1\", \"Topic1\", \"Topic1\", \"Topic1\", \"Topic1\", \"Topic1\", \"Topic1\", \"Topic1\", \"Topic1\", \"Topic1\", \"Topic1\", \"Topic1\", \"Topic1\", \"Topic1\", \"Topic1\", \"Topic1\", \"Topic1\", \"Topic1\", \"Topic1\", \"Topic1\", \"Topic1\", \"Topic1\", \"Topic1\", \"Topic1\", \"Topic1\", \"Topic1\", \"Topic1\", \"Topic1\", \"Topic1\", \"Topic1\", \"Topic1\", \"Topic1\", \"Topic1\", \"Topic1\", \"Topic1\", \"Topic1\", \"Topic1\", \"Topic1\", \"Topic1\", \"Topic1\", \"Topic1\", \"Topic1\", \"Topic1\", \"Topic1\", \"Topic1\", \"Topic1\", \"Topic1\", \"Topic1\", \"Topic1\", \"Topic1\", \"Topic1\", \"Topic1\", \"Topic1\", \"Topic1\", \"Topic1\", \"Topic1\", \"Topic1\", \"Topic1\", \"Topic1\", \"Topic1\", \"Topic1\", \"Topic1\", \"Topic1\", \"Topic1\", \"Topic1\", \"Topic1\", \"Topic1\", \"Topic1\", \"Topic1\", \"Topic2\", \"Topic2\", \"Topic2\", \"Topic2\", \"Topic2\", \"Topic2\", \"Topic2\", \"Topic2\", \"Topic2\", \"Topic2\", \"Topic2\", \"Topic2\", \"Topic2\", \"Topic2\", \"Topic2\", \"Topic2\", \"Topic2\", \"Topic2\", \"Topic2\", \"Topic2\", \"Topic2\", \"Topic2\", \"Topic2\", \"Topic2\", \"Topic2\", \"Topic2\", \"Topic2\", \"Topic2\", \"Topic2\", \"Topic2\", \"Topic2\", \"Topic2\", \"Topic2\", \"Topic2\", \"Topic2\", \"Topic2\", \"Topic2\", \"Topic2\", \"Topic2\", \"Topic2\", \"Topic2\", \"Topic2\", \"Topic2\", \"Topic2\", \"Topic2\", \"Topic2\", \"Topic2\", \"Topic2\", \"Topic2\", \"Topic2\", \"Topic2\", \"Topic2\", \"Topic2\", \"Topic2\", \"Topic2\", \"Topic2\", \"Topic2\", \"Topic2\", \"Topic2\", \"Topic2\", \"Topic2\", \"Topic2\", \"Topic2\", \"Topic2\", \"Topic2\", \"Topic2\", \"Topic2\", \"Topic2\", \"Topic2\", \"Topic2\", \"Topic2\", \"Topic2\", \"Topic2\", \"Topic2\", \"Topic3\", \"Topic3\", \"Topic3\", \"Topic3\", \"Topic3\", \"Topic3\", \"Topic3\", \"Topic3\", \"Topic3\", \"Topic3\", \"Topic3\", \"Topic3\", \"Topic3\", \"Topic3\", \"Topic3\", \"Topic3\", \"Topic3\", \"Topic3\", \"Topic3\", \"Topic3\", \"Topic3\", \"Topic3\", \"Topic3\", \"Topic3\", \"Topic3\", \"Topic3\", \"Topic3\", \"Topic3\", \"Topic3\", \"Topic3\", \"Topic3\", \"Topic3\", \"Topic3\", \"Topic3\", \"Topic3\", \"Topic3\", \"Topic3\", \"Topic3\", \"Topic3\", \"Topic3\", \"Topic3\", \"Topic3\", \"Topic3\", \"Topic3\", \"Topic3\", \"Topic3\", \"Topic3\", \"Topic3\", \"Topic3\", \"Topic3\", \"Topic3\", \"Topic3\", \"Topic3\", \"Topic3\", \"Topic3\", \"Topic3\", \"Topic3\", \"Topic3\", \"Topic3\", \"Topic3\", \"Topic3\", \"Topic3\", \"Topic3\", \"Topic3\", \"Topic3\", \"Topic3\", \"Topic3\", \"Topic3\", \"Topic3\", \"Topic3\", \"Topic3\", \"Topic3\", \"Topic3\", \"Topic3\", \"Topic3\", \"Topic4\", \"Topic4\", \"Topic4\", \"Topic4\", \"Topic4\", \"Topic4\", \"Topic4\", \"Topic4\", \"Topic4\", \"Topic4\", \"Topic4\", \"Topic4\", \"Topic4\", \"Topic4\", \"Topic4\", \"Topic4\", \"Topic4\", \"Topic4\", \"Topic4\", \"Topic4\", \"Topic4\", \"Topic4\", \"Topic4\", \"Topic4\", \"Topic4\", \"Topic4\", \"Topic4\", \"Topic4\", \"Topic4\", \"Topic4\", \"Topic4\", \"Topic4\", \"Topic4\", \"Topic4\", \"Topic4\", \"Topic4\", \"Topic4\", \"Topic4\", \"Topic4\", \"Topic4\", \"Topic4\", \"Topic4\", \"Topic4\", \"Topic4\", \"Topic4\", \"Topic4\", \"Topic4\", \"Topic4\", \"Topic4\", \"Topic4\", \"Topic4\", \"Topic4\", \"Topic4\", \"Topic4\", \"Topic4\", \"Topic4\", \"Topic4\", \"Topic4\", \"Topic4\", \"Topic4\", \"Topic4\", \"Topic4\", \"Topic4\", \"Topic4\", \"Topic4\", \"Topic4\", \"Topic4\", \"Topic4\", \"Topic4\", \"Topic4\", \"Topic4\", \"Topic4\", \"Topic5\", \"Topic5\", \"Topic5\", \"Topic5\", \"Topic5\", \"Topic5\", \"Topic5\", \"Topic5\", \"Topic5\", \"Topic5\", \"Topic5\", \"Topic5\", \"Topic5\", \"Topic5\", \"Topic5\", \"Topic5\", \"Topic5\", \"Topic5\", \"Topic5\", \"Topic5\", \"Topic5\", \"Topic5\", \"Topic5\", \"Topic5\", \"Topic5\", \"Topic5\", \"Topic5\", \"Topic5\", \"Topic5\", \"Topic5\", \"Topic5\", \"Topic5\", \"Topic5\", \"Topic5\", \"Topic5\", \"Topic5\", \"Topic5\", \"Topic5\", \"Topic5\", \"Topic5\", \"Topic5\", \"Topic5\", \"Topic5\", \"Topic5\", \"Topic5\", \"Topic5\", \"Topic5\", \"Topic5\", \"Topic5\", \"Topic5\", \"Topic5\", \"Topic5\", \"Topic5\", \"Topic5\", \"Topic5\", \"Topic5\", \"Topic5\", \"Topic5\", \"Topic5\", \"Topic5\", \"Topic5\", \"Topic5\", \"Topic5\", \"Topic5\", \"Topic5\", \"Topic5\", \"Topic5\", \"Topic5\", \"Topic5\", \"Topic5\", \"Topic5\", \"Topic6\", \"Topic6\", \"Topic6\", \"Topic6\", \"Topic6\", \"Topic6\", \"Topic6\", \"Topic6\", \"Topic6\", \"Topic6\", \"Topic6\", \"Topic6\", \"Topic6\", \"Topic6\", \"Topic6\", \"Topic6\", \"Topic6\", \"Topic6\", \"Topic6\", \"Topic6\", \"Topic6\", \"Topic6\", \"Topic6\", \"Topic6\", \"Topic6\", \"Topic6\", \"Topic6\", \"Topic6\", \"Topic6\", \"Topic6\", \"Topic6\", \"Topic6\", \"Topic6\", \"Topic6\", \"Topic6\", \"Topic6\", \"Topic6\", \"Topic6\", \"Topic6\", \"Topic6\", \"Topic6\", \"Topic6\", \"Topic6\", \"Topic6\", \"Topic6\", \"Topic6\", \"Topic6\", \"Topic6\", \"Topic6\", \"Topic6\", \"Topic6\", \"Topic6\", \"Topic6\", \"Topic6\", \"Topic6\", \"Topic6\", \"Topic6\", \"Topic6\", \"Topic6\", \"Topic6\", \"Topic6\", \"Topic6\", \"Topic6\", \"Topic6\", \"Topic6\", \"Topic6\", \"Topic6\", \"Topic6\", \"Topic6\", \"Topic6\", \"Topic6\", \"Topic6\", \"Topic6\", \"Topic6\"], \"logprob\": [30.0, 29.0, 28.0, 27.0, 26.0, 25.0, 24.0, 23.0, 22.0, 21.0, 20.0, 19.0, 18.0, 17.0, 16.0, 15.0, 14.0, 13.0, 12.0, 11.0, 10.0, 9.0, 8.0, 7.0, 6.0, 5.0, 4.0, 3.0, 2.0, 1.0, -7.2098, -7.2101, -7.22, -7.2734, -7.5914, -7.6083, -6.9386, -7.6534, -7.3623, -7.6778, -6.8299, -7.7004, -7.4307, -7.707, -7.443, -7.2121, -7.7152, -7.7265, -7.7045, -7.4253, -7.7279, -7.2301, -7.7345, -7.7344, -7.7268, -7.7468, -7.4659, -7.4617, -7.7537, -7.7476, -6.2739, -6.3544, -7.2099, -6.9281, -4.3556, -6.8075, -4.6789, -6.02, -5.0075, -7.0847, -7.11, -7.0946, -5.1275, -6.0115, -6.2669, -6.6626, -6.0267, -4.7977, -6.2514, -5.518, -5.438, -5.5984, -4.7126, -5.1691, -5.5699, -5.3725, -6.4304, -4.7232, -5.0073, -4.9439, -5.7505, -5.341, -5.5383, -5.7149, -6.0654, -5.5065, -5.5962, -5.2142, -5.5455, -5.4738, -5.7985, -5.826, -5.6002, -5.5929, -5.6733, -5.7105, -5.6988, -5.7887, -7.4939, -7.4939, -7.494, -7.4942, -7.4944, -7.1982, -7.4952, -7.2367, -6.6687, -7.5483, -7.0304, -7.3138, -7.1117, -7.6301, -7.6392, -7.6171, -6.9712, -6.5831, -7.6861, -7.7123, -7.1486, -7.1761, -7.4003, -7.2013, -6.0847, -7.4138, -7.423, -7.4437, -7.7259, -7.266, -6.5749, -6.5528, -4.8049, -6.5967, -4.4578, -7.0347, -6.2261, -4.3656, -6.3892, -5.8134, -5.9743, -5.1233, -4.5612, -5.6968, -5.0015, -5.9687, -5.0383, -4.8744, -5.3046, -5.1787, -5.724, -5.727, -6.1964, -6.0166, -6.082, -5.0653, -5.8259, -5.7149, -5.7229, -5.714, -5.9591, -5.4335, -5.539, -5.6941, -5.5425, -5.9473, -5.3959, -5.6673, -5.4513, -5.8249, -5.8467, -5.701, -5.8267, -5.8193, -6.5157, -7.2652, -7.0503, -7.3226, -7.3166, -7.0507, -7.313, -7.3544, -6.8722, -7.3403, -6.6244, -7.3918, -7.3472, -7.0508, -7.0512, -7.4451, -7.3831, -7.4043, -7.0983, -7.4217, -7.4355, -6.548, -7.406, -7.452, -7.4199, -6.3563, -6.0975, -7.0029, -7.4873, -7.2332, -7.0331, -6.9938, -6.2727, -6.4859, -5.9949, -5.8937, -5.1988, -6.7141, -4.8175, -5.4504, -6.3303, -6.6592, -4.8498, -5.5049, -6.208, -5.7039, -6.5023, -6.3081, -5.3472, -5.1609, -5.3063, -5.7152, -5.0035, -6.0951, -5.9954, -5.4042, -5.6288, -5.5695, -5.5531, -5.196, -5.4224, -5.6037, -5.1597, -5.293, -5.9785, -5.7186, -5.2027, -5.6286, -5.7621, -5.7605, -5.6851, -5.4865, -5.6631, -5.69, -5.7359, -6.106, -7.1519, -6.6403, -7.252, -7.2673, -7.3162, -7.054, -7.0623, -7.3559, -7.153, -7.0802, -7.3998, -7.1295, -6.7442, -5.9164, -6.7326, -7.4579, -7.456, -7.4854, -7.2305, -7.1936, -6.9758, -7.5275, -7.52, -5.7033, -7.5186, -6.5164, -7.2779, -7.5441, -7.0249, -4.6538, -6.7069, -6.1752, -7.0471, -6.9138, -6.4629, -5.9033, -6.2238, -5.1507, -5.3991, -6.3448, -4.7227, -4.7719, -5.2676, -5.941, -5.4007, -5.2537, -5.5136, -5.8097, -5.2935, -5.3465, -5.8569, -5.8289, -5.2511, -5.7158, -5.2644, -5.3783, -5.1169, -5.5943, -5.4668, -5.7989, -5.1764, -5.5843, -5.5251, -5.5935, -5.6187, -5.353, -5.4251, -5.4465, -5.5437, -5.6957, -5.6962, -6.588, -6.9766, -6.9943, -7.0038, -6.7748, -6.8709, -6.6024, -6.5807, -6.4757, -6.6436, -6.4769, -6.8706, -6.6373, -6.8707, -7.1694, -6.9618, -7.2559, -7.2523, -6.9853, -6.9722, -6.9914, -6.985, -7.2976, -7.0213, -6.0736, -7.355, -7.3907, -7.0849, -7.4622, -7.3924, -5.8792, -6.8675, -5.7893, -5.7126, -5.6392, -5.3305, -6.3024, -6.2732, -6.2673, -6.2411, -6.1939, -6.4159, -6.2303, -5.1107, -5.3209, -5.0595, -5.0693, -5.4787, -5.3568, -4.9675, -5.9639, -5.5834, -5.9117, -5.1304, -5.1453, -6.0568, -5.471, -5.3068, -5.3355, -5.4741, -5.6646, -5.6931, -5.805, -5.8476, -5.7041, -5.858, -5.722, -5.8514, -5.8493, -5.8456, -5.8776, -6.5265, -6.8487, -7.0285, -6.7749, -6.75, -6.8315, -6.8427, -7.1366, -7.1394, -7.1534, -6.8485, -7.1886, -7.1972, -6.8953, -6.7373, -6.2473, -7.2295, -7.2255, -7.2498, -6.3898, -6.731, -7.2731, -7.2791, -6.9901, -6.5815, -7.2988, -7.0132, -6.8173, -6.4482, -7.294, -6.3101, -6.3464, -6.4871, -6.3784, -6.606, -5.6832, -5.861, -4.8154, -6.246, -5.1407, -5.5345, -6.0483, -5.9871, -5.5881, -6.1378, -4.7202, -5.8508, -5.672, -5.7667, -5.5967, -5.8909, -4.9758, -5.6392, -5.3388, -5.7988, -6.0008, -5.5559, -5.6163, -5.5586, -5.6137, -5.7494, -5.454, -5.6828, -5.6557, -5.8755, -5.506, -5.671, -5.8102, -5.7436, -5.6628, -5.8167, -5.7725, -5.8308, -5.8346], \"loglift\": [30.0, 29.0, 28.0, 27.0, 26.0, 25.0, 24.0, 23.0, 22.0, 21.0, 20.0, 19.0, 18.0, 17.0, 16.0, 15.0, 14.0, 13.0, 12.0, 11.0, 10.0, 9.0, 8.0, 7.0, 6.0, 5.0, 4.0, 3.0, 2.0, 1.0, 1.0694, 1.0691, 1.0596, 1.0188, 0.9909, 0.9745, 0.9626, 0.9401, 0.9361, 0.9143, 0.9117, 0.9037, 0.9002, 0.8969, 0.8856, 0.8848, 0.8848, 0.8826, 0.8825, 0.88, 0.8711, 0.8701, 0.869, 0.8655, 0.8635, 0.8622, 0.8606, 0.8579, 0.8571, 0.857, 0.8554, 0.8391, 0.8497, 0.8177, 0.6405, 0.8044, 0.5864, 0.7098, 0.5746, 0.8117, 0.8131, 0.8072, 0.4902, 0.6207, 0.6642, 0.731, 0.5761, 0.3012, 0.615, 0.4396, 0.4173, 0.4192, 0.1784, 0.2926, 0.3923, 0.3297, 0.6399, 0.0692, 0.0988, 0.0615, 0.3358, 0.1459, 0.2204, 0.2835, 0.458, 0.1422, 0.1823, -0.0981, 0.0972, 0.0098, 0.2607, 0.2329, -0.0337, -0.1164, -0.2733, -0.1933, -0.292, -0.1941, 1.1315, 1.1314, 1.1314, 1.1312, 1.131, 1.1304, 1.1303, 1.1121, 1.0793, 1.0753, 1.0601, 1.0265, 1.023, 1.0097, 1.0094, 1.0087, 0.9879, 0.9631, 0.9562, 0.9469, 0.9406, 0.9379, 0.9331, 0.9301, 0.9277, 0.9246, 0.9222, 0.9165, 0.916, 0.9074, 0.8743, 0.8572, 0.7124, 0.8382, 0.5476, 0.8687, 0.7471, 0.4268, 0.7586, 0.635, 0.6593, 0.4712, 0.3297, 0.5849, 0.3985, 0.6366, 0.3686, 0.2417, 0.3679, 0.3083, 0.4973, 0.4622, 0.627, 0.5493, 0.5485, 0.0408, 0.412, 0.3499, 0.3116, 0.2695, 0.4386, 0.05, 0.1096, 0.197, 0.024, 0.4046, -0.297, -0.0246, -0.4553, 0.0833, 0.1109, -0.4356, -0.0518, -0.3576, 1.4805, 1.4179, 1.3932, 1.3926, 1.3871, 1.3832, 1.3755, 1.3626, 1.3569, 1.3502, 1.3389, 1.3373, 1.3306, 1.3123, 1.3119, 1.292, 1.2785, 1.2771, 1.2752, 1.2728, 1.2718, 1.2663, 1.2654, 1.2421, 1.2382, 1.2305, 1.209, 1.1895, 1.1844, 1.1764, 1.1756, 1.1696, 1.0926, 1.0996, 1.0228, 0.9961, 0.8461, 1.1253, 0.659, 0.7773, 1.0018, 1.0803, 0.557, 0.7339, 0.9511, 0.7413, 1.0034, 0.9157, 0.4277, 0.3227, 0.3958, 0.5432, 0.0954, 0.7359, 0.6747, 0.2683, 0.4058, 0.3639, 0.3381, 0.0694, 0.1441, 0.2517, -0.2688, -0.1869, 0.591, 0.2685, -0.4103, 0.1301, 0.2968, 0.263, 0.0397, -0.4904, -0.263, -0.1727, -0.1413, 1.832, 1.6166, 1.5953, 1.5051, 1.4773, 1.4377, 1.3862, 1.3798, 1.3744, 1.3569, 1.3568, 1.3493, 1.3391, 1.332, 1.3273, 1.3213, 1.2993, 1.2756, 1.2747, 1.26, 1.2461, 1.2454, 1.2448, 1.2421, 1.2249, 1.2211, 1.2138, 1.2025, 1.1821, 1.1784, 1.1247, 1.1635, 1.0433, 1.1701, 1.1384, 1.0545, 0.9198, 0.9724, 0.6605, 0.7112, 0.9806, 0.3934, 0.3343, 0.5073, 0.7577, 0.5064, 0.3949, 0.5099, 0.6331, 0.3242, 0.326, 0.638, 0.6121, 0.2106, 0.517, 0.2121, 0.2038, -0.018, 0.3139, 0.176, 0.4608, -0.3841, 0.1404, 0.0414, 0.1086, 0.1399, -0.4621, -0.4197, -0.4505, -0.2783, -0.1011, -0.2962, 1.9188, 1.7975, 1.7885, 1.7671, 1.6941, 1.6599, 1.6569, 1.6454, 1.6109, 1.5835, 1.5832, 1.5808, 1.5772, 1.5618, 1.5617, 1.5262, 1.5018, 1.4879, 1.4795, 1.4771, 1.4497, 1.449, 1.4467, 1.429, 1.4156, 1.3988, 1.3476, 1.3413, 1.3387, 1.3337, 1.3105, 1.3253, 1.278, 1.2713, 1.2301, 1.0922, 1.2371, 1.1986, 1.1831, 1.1604, 1.114, 1.2073, 1.1251, 0.614, 0.6124, 0.424, 0.3307, 0.5802, 0.4543, 0.1487, 0.864, 0.4814, 0.7584, -0.0315, -0.2544, 0.8663, -0.0093, -0.3107, -0.5431, -0.368, -0.0468, -0.0445, 0.1785, 0.1973, -0.2172, 0.1655, -0.2455, 0.1357, -0.2828, -0.4387, -0.2349, 2.0143, 1.9787, 1.7684, 1.7624, 1.7459, 1.6818, 1.6702, 1.6589, 1.6536, 1.6338, 1.6059, 1.6029, 1.5867, 1.5687, 1.5589, 1.5537, 1.5468, 1.5315, 1.5111, 1.5079, 1.5051, 1.4994, 1.4948, 1.4868, 1.4824, 1.4806, 1.4711, 1.4695, 1.4558, 1.4549, 1.4368, 1.4177, 1.405, 1.3899, 1.4128, 1.2639, 1.2021, 0.9093, 1.2877, 0.8429, 0.9567, 1.1316, 1.0762, 0.8603, 1.1254, 0.2852, 0.9546, 0.769, 0.83, 0.5706, 0.8192, -0.1834, 0.4758, 0.1481, 0.6024, 0.7875, 0.2027, 0.1586, 0.0079, 0.029, 0.2681, -0.458, -0.0103, -0.194, 0.3574, -0.6151, -0.271, 0.152, -0.149, -0.5567, 0.0745, -0.6735, -0.2131, -0.3581]}, \"token.table\": {\"Topic\": [1, 2, 3, 4, 5, 6, 3, 1, 2, 3, 4, 5, 6, 2, 4, 2, 6, 1, 3, 1, 2, 3, 4, 5, 6, 1, 2, 3, 4, 5, 6, 1, 2, 3, 4, 5, 6, 1, 2, 3, 4, 5, 6, 5, 6, 1, 2, 3, 4, 5, 6, 3, 1, 2, 3, 3, 1, 2, 3, 4, 5, 6, 1, 2, 3, 4, 5, 6, 1, 2, 5, 2, 1, 3, 1, 2, 3, 5, 6, 5, 1, 2, 4, 6, 1, 3, 5, 6, 3, 1, 3, 1, 2, 1, 2, 3, 4, 5, 6, 3, 5, 1, 4, 2, 5, 1, 2, 3, 4, 5, 6, 1, 2, 3, 4, 5, 6, 1, 1, 1, 2, 3, 4, 5, 6, 1, 2, 3, 4, 5, 6, 2, 1, 2, 3, 4, 5, 1, 1, 1, 2, 3, 4, 5, 6, 1, 2, 6, 2, 3, 4, 5, 6, 1, 2, 4, 1, 3, 4, 5, 1, 2, 3, 4, 5, 1, 2, 3, 4, 5, 6, 1, 2, 3, 4, 5, 6, 1, 2, 3, 4, 5, 6, 1, 2, 3, 4, 5, 6, 1, 2, 3, 4, 1, 2, 6, 1, 6, 1, 4, 1, 2, 3, 4, 5, 6, 2, 1, 2, 3, 4, 5, 6, 1, 2, 2, 6, 2, 1, 2, 3, 4, 1, 6, 1, 2, 3, 4, 5, 6, 3, 6, 1, 2, 3, 4, 6, 1, 3, 5, 1, 2, 3, 4, 5, 6, 1, 2, 3, 4, 5, 6, 2, 3, 4, 1, 2, 3, 4, 2, 1, 2, 3, 4, 5, 6, 1, 4, 1, 1, 2, 3, 4, 5, 6, 6, 2, 6, 2, 4, 1, 1, 2, 5, 4, 6, 1, 1, 1, 2, 5, 2, 5, 3, 3, 4, 1, 2, 4, 5, 4, 1, 2, 3, 4, 5, 6, 1, 2, 3, 4, 5, 6, 1, 2, 4, 5, 5, 1, 2, 3, 4, 5, 6, 6, 2, 4, 1, 2, 3, 4, 5, 6, 1, 2, 4, 6, 1, 2, 4, 1, 2, 3, 4, 5, 6, 4, 1, 2, 3, 4, 5, 6, 1, 2, 3, 4, 6, 1, 2, 3, 4, 5, 6, 3, 4, 1, 1, 6, 2, 1, 2, 3, 4, 5, 6, 1, 1, 1, 2, 3, 4, 5, 6, 1, 5, 6, 2, 5, 1, 3, 2, 3, 1, 2, 3, 4, 5, 6, 1, 2, 1, 2, 3, 4, 5, 4, 6, 1, 1, 2, 1, 2, 3, 1, 2, 1, 2, 3, 4, 5, 6, 3, 4, 1, 2, 3, 4, 5, 6, 1, 1, 3, 4, 1, 2, 3, 4, 5, 6, 1, 2, 3, 4, 5, 6, 1, 2, 3, 4, 5, 6, 1, 4, 3, 5, 4, 1, 2, 3, 4, 5, 6, 3, 5, 1, 2, 3, 4, 6, 1, 2, 3, 4, 5, 6, 2, 6, 4, 5, 1, 4, 1, 2, 4, 1, 4, 1, 4, 1, 2, 3, 4, 5, 6, 1, 2, 3, 4, 5, 6, 1, 3, 5, 6, 1, 2, 3, 4, 5, 6, 1, 3, 4, 5, 1, 2, 3, 4, 5, 6, 1, 2, 3, 4, 5, 6, 2, 6, 3, 6, 4, 1, 2, 3, 2, 4, 3, 5, 1, 2, 3, 4, 5, 6, 1, 2, 3, 4, 5, 6, 2, 1, 4, 3, 1, 2, 3, 5, 6, 2, 3, 4, 3, 2, 5, 1, 5, 1, 2, 6, 1, 2, 3, 4, 5, 6, 4, 6, 2, 1, 3, 4, 1, 2, 3, 4, 5, 6, 1, 2, 2, 6, 1, 1, 2, 3, 4, 5, 6, 1, 2, 3, 4, 5, 6, 1, 2, 4, 5, 6, 1, 2, 6, 1, 2, 3, 4, 5, 6, 5, 1, 2, 3, 4, 5, 6, 2, 5, 6, 3, 4, 5, 3, 1, 5, 1, 2, 3, 4, 5, 1, 2, 5, 6, 1, 2, 3, 4, 6, 1, 5, 1, 2, 3, 4, 5, 6, 1, 2, 3, 4, 5, 6, 1, 4, 1, 4, 6, 1, 2, 3, 4, 1, 2, 3, 4, 5, 6, 1, 2, 3, 4, 5, 6, 1, 2, 3, 4, 5, 6, 1, 2, 3, 4, 5, 6, 1, 2, 3, 4, 5, 6, 1, 2, 4, 5, 1, 2, 3, 4, 5, 6, 6, 1, 2, 3, 4, 5, 1, 2, 3, 4, 5, 6, 2, 1, 2, 3, 4, 5, 6, 1, 2, 6, 5, 1, 2, 3, 1, 2, 3, 4, 5, 6, 3, 4, 6, 1, 2, 3, 4, 6, 1, 2, 3, 4, 5, 1, 6, 1, 5, 1, 2, 6, 1, 2, 3, 4, 5, 1, 4, 1, 1, 2, 3, 5, 6, 1, 2, 3, 1, 4, 1, 2, 3, 4, 5, 6, 1, 2, 3, 4, 5, 6, 1, 2, 3, 4, 5, 6, 1, 2, 3, 4, 5, 6, 1, 6, 2, 3, 5, 1, 2, 3, 4, 5, 6, 2, 3, 4, 2, 4, 6, 2, 5, 1, 5, 1, 2, 3, 4, 5, 6, 4, 1, 2, 4, 5, 6, 1, 5, 2, 2, 5, 6, 1, 1, 3, 1, 3, 5, 3, 1, 3, 1, 2, 3, 4, 5, 6, 4, 1, 2, 3, 6, 1, 2, 3, 1, 2, 3, 4, 5, 6, 1, 3, 5, 1, 2, 3, 6, 1, 2, 5, 6, 1, 2, 3, 4, 5, 1, 2, 3, 4, 5, 6, 3, 4, 3, 5, 2, 3, 1, 2, 3, 4, 5, 6, 1, 5, 1, 2, 3, 4, 5, 6, 1, 2, 3, 4, 5, 6, 2, 3, 1, 2, 3, 4, 5, 6, 1, 2, 3, 4, 5, 6, 3, 6, 1, 3, 4, 1, 2, 3, 4, 5, 6, 1, 2, 3, 4, 5, 6, 2, 4, 6, 1, 2, 3, 4, 5, 6, 2, 1, 2, 3, 4, 5, 6, 1, 2, 3, 4, 5, 6, 1, 2, 3, 4, 5, 6, 1, 2, 3, 4, 5, 6, 1, 2, 3, 4, 5, 6, 1, 2, 3, 4, 5, 6, 1, 2, 3, 4, 5, 6, 1, 1, 2, 3, 1, 2, 3, 4, 5, 6, 1, 3, 6, 2, 3, 4, 5, 6, 5, 6, 1, 3, 5, 6, 4, 2, 1, 2, 3, 4, 5, 6, 2, 2, 1, 2, 3, 4, 5, 6, 3, 6, 2, 5, 1, 2, 3, 4, 5, 6, 3, 5, 1, 2, 3, 4, 5, 6, 1, 2, 3, 4, 5, 6, 1, 2, 3, 4, 5, 6, 1, 2, 3, 4, 5, 6, 1, 2, 3, 4, 5, 6, 1, 2, 3, 4, 5, 6, 2, 3, 4, 1, 2, 3, 5], \"Freq\": [0.26923144468714383, 0.23557751410125086, 0.3028853752730368, 0.06730786117178596, 0.10096179175767894, 0.03365393058589298, 0.3964435833876459, 0.540128190274836, 0.15712820080722503, 0.08838461295406409, 0.08838461295406409, 0.07856410040361252, 0.05892307530270939, 0.7402133094390133, 0.422208735294508, 0.7065718392245905, 0.23552394640819685, 0.28472458174541404, 0.5694491634908281, 0.30601387740077024, 0.3740169612676081, 0.06800308386683783, 0.17000770966709458, 0.034001541933418915, 0.034001541933418915, 0.08864433358723646, 0.17728866717447292, 0.2659330007617094, 0.35457733434894584, 0.08864433358723646, 0.08864433358723646, 0.061520445649015904, 0.43064311954311135, 0.30760222824507955, 0.061520445649015904, 0.061520445649015904, 0.061520445649015904, 0.2878333024349943, 0.25585182438666154, 0.19188886828999618, 0.07995369512083174, 0.15990739024166348, 0.03198147804833269, 0.44109313545009515, 0.44109313545009515, 0.3044390309694691, 0.1691327949830384, 0.1353062359864307, 0.23678591297625376, 0.03382655899660768, 0.1353062359864307, 0.39422339306328474, 0.21650848743553638, 0.6495254623066091, 0.41056063641709956, 0.3914397471014477, 0.5142365078995147, 0.1542709523698544, 0.1542709523698544, 0.10284730157990295, 0.025711825394975737, 0.051423650789951474, 0.13313381856555806, 0.22188969760926344, 0.11094484880463172, 0.2662676371311161, 0.1553227883264844, 0.08875587904370538, 0.3078121367563733, 0.3078121367563733, 0.3078121367563733, 0.7402120564317554, 0.32894371054302196, 0.4934155658145329, 0.6632977690536814, 0.08291222113171018, 0.08291222113171018, 0.08291222113171018, 0.08291222113171018, 0.6574589876868507, 0.11416708586741595, 0.5708354293370798, 0.11416708586741595, 0.11416708586741595, 0.48026941162795955, 0.24013470581397978, 0.48026941162795955, 0.43511742796595215, 0.4002514148190731, 0.3837601964126103, 0.3837601964126103, 0.7250097109493676, 0.7657114814575665, 0.28029531386305906, 0.08408859415891771, 0.33635437663567086, 0.16817718831783543, 0.11211812554522363, 0.028029531386305907, 0.25665338346438576, 0.5133067669287715, 0.41105637704992976, 0.41105637704992976, 0.2485100470070427, 0.4970200940140854, 0.15817411586236188, 0.31634823172472376, 0.10544941057490793, 0.10544941057490793, 0.13181176321863491, 0.21089882114981587, 0.32088130442579893, 0.33692536964708886, 0.08022032610644973, 0.06417626088515978, 0.08022032610644973, 0.11230845654902961, 0.7282000802089029, 0.7244928302588756, 0.24992975225038214, 0.08330991741679404, 0.08330991741679404, 0.24992975225038214, 0.16661983483358808, 0.2082747935419851, 0.171185654165491, 0.23538027447755014, 0.21398206770686376, 0.23538027447755014, 0.06419462031205912, 0.10699103385343188, 0.7405328997845291, 0.1761491299343249, 0.1761491299343249, 0.08807456496716246, 0.1761491299343249, 0.3522982598686498, 0.7282408857246913, 0.7853919860551491, 0.3536825851353893, 0.23578839009025954, 0.058947097522564884, 0.11789419504512977, 0.058947097522564884, 0.17684129256769465, 0.21108871036326177, 0.21108871036326177, 0.42217742072652353, 0.5067330907080232, 0.08445551511800387, 0.16891103023600773, 0.16891103023600773, 0.08445551511800387, 0.6143212549037326, 0.15358031372593314, 0.15358031372593314, 0.2103052767181655, 0.2103052767181655, 0.2103052767181655, 0.420610553436331, 0.11254102734819589, 0.5627051367409794, 0.11254102734819589, 0.11254102734819589, 0.11254102734819589, 0.13520215372001565, 0.34766268099432596, 0.17383134049716298, 0.19314593388573664, 0.03862918677714733, 0.09657296694286832, 0.22062848183313272, 0.3677141363885545, 0.10295995818879526, 0.10295995818879526, 0.1470856545554218, 0.0735428272777109, 0.4406248528731035, 0.13914469038098004, 0.18552625384130672, 0.1159539086508167, 0.06957234519049002, 0.06957234519049002, 0.15714776802746355, 0.15714776802746355, 0.26191294671243925, 0.15714776802746355, 0.20953035736995143, 0.05238258934248786, 0.17396400163045295, 0.17396400163045295, 0.17396400163045295, 0.5218920048913588, 0.6188105517514598, 0.2652045221791971, 0.0884015073930657, 0.8271331018325971, 0.27571103394419905, 0.7216694463687865, 0.42865706100670575, 0.16192437852515068, 0.3886185084603616, 0.16192437852515068, 0.06476975141006026, 0.0971546271150904, 0.12953950282012053, 0.7402148460704041, 0.24864490550925494, 0.42624840944443704, 0.10656210236110926, 0.10656210236110926, 0.07104140157407283, 0.07104140157407283, 0.22193607344972682, 0.6658082203491805, 0.418772979509568, 0.418772979509568, 0.6797432223672032, 0.5399034979674454, 0.21596139918697818, 0.10798069959348909, 0.10798069959348909, 0.4036059232252048, 0.4036059232252048, 0.4128990096331884, 0.2064495048165942, 0.1032247524082971, 0.1032247524082971, 0.05161237620414855, 0.1032247524082971, 0.2638106238752102, 0.5276212477504204, 0.2616246435478355, 0.1744164290318903, 0.1744164290318903, 0.08720821451594515, 0.2616246435478355, 0.3032735221909916, 0.3032735221909916, 0.3032735221909916, 0.332909547491, 0.332909547491, 0.22193969832733332, 0.08322738687275, 0.027742462290916665, 0.027742462290916665, 0.34361455513579187, 0.10737954847993494, 0.06442772908796097, 0.4295181939197398, 0.04295181939197398, 0.02147590969598699, 0.29826761954019954, 0.5965352390803991, 0.29826761954019954, 0.31492486915632967, 0.10497495638544323, 0.4198998255417729, 0.10497495638544323, 0.7402494447579141, 0.2013751843480603, 0.4027503686961206, 0.05034379608701507, 0.2013751843480603, 0.10068759217403014, 0.05034379608701507, 0.3075361716979446, 0.6150723433958892, 0.8251876559470341, 0.2546870806112061, 0.3100538372658161, 0.06644010798553203, 0.21039367528751807, 0.12180686464014205, 0.044293405323688015, 0.433653116416375, 0.3251446618847808, 0.6502893237695616, 0.5702721096761006, 0.1900907032253669, 0.7123341382630612, 0.248289338354803, 0.248289338354803, 0.496578676709606, 0.6595071065110241, 0.32975355325551203, 0.7241698157120064, 0.8061628162801652, 0.2453966637966859, 0.2453966637966859, 0.4907933275933718, 0.30564003921796656, 0.30564003921796656, 0.3875300987759197, 0.6111813645791935, 0.30559068228959674, 0.4531964973254919, 0.09063929946509838, 0.36255719786039353, 0.09063929946509838, 0.4169737312269128, 0.3754570097548028, 0.1720844628042846, 0.0938642524387007, 0.1720844628042846, 0.0938642524387007, 0.07822021036558391, 0.4523425405182434, 0.18093701620729735, 0.09046850810364868, 0.09046850810364868, 0.09046850810364868, 0.04523425405182434, 0.1258011752607964, 0.6290058763039821, 0.1258011752607964, 0.1258011752607964, 0.4331914962730727, 0.2694954652030028, 0.1616972791218017, 0.1616972791218017, 0.3233945582436034, 0.05389909304060057, 0.05389909304060057, 0.42384134121161704, 0.7528551854934398, 0.6328077114600661, 0.5117452971352987, 0.12352472689472727, 0.07058555822555844, 0.17646389556389608, 0.052939168669168826, 0.07058555822555844, 0.17991014587520962, 0.17991014587520962, 0.17991014587520962, 0.35982029175041924, 0.2788833092933827, 0.09296110309779422, 0.5577666185867654, 0.13819653967953796, 0.2763930793590759, 0.06909826983976898, 0.06909826983976898, 0.06909826983976898, 0.3454913491988449, 0.41496369694356927, 0.35791609348978237, 0.16843110281872112, 0.16843110281872112, 0.16843110281872112, 0.04210777570468028, 0.1052694392617007, 0.30529342273558435, 0.4274107918298181, 0.12211736909423374, 0.06105868454711687, 0.06105868454711687, 0.13376347036950217, 0.40129041110850655, 0.13376347036950217, 0.13376347036950217, 0.033440867592375544, 0.10032260277712664, 0.40490627304266125, 0.40490627304266125, 0.7295094584475491, 0.31195963195060206, 0.31195963195060206, 0.757614617660291, 0.09478458657655721, 0.28435375972967164, 0.09478458657655721, 0.09478458657655721, 0.09478458657655721, 0.28435375972967164, 0.5452374385596869, 0.7858094292230491, 0.248471212504398, 0.248471212504398, 0.124235606252199, 0.124235606252199, 0.124235606252199, 0.372706818756597, 0.21594651508191118, 0.43189303016382236, 0.21594651508191118, 0.3109914971344462, 0.6219829942688924, 0.2877110389931747, 0.5754220779863494, 0.390020834885927, 0.390020834885927, 0.142458409650936, 0.142458409650936, 0.142458409650936, 0.16280961102964114, 0.18316081240834628, 0.22386321516575658, 0.35958369943587726, 0.5393755491538159, 0.42932894780968567, 0.06133270682995509, 0.12266541365991018, 0.12266541365991018, 0.24533082731982037, 0.3388870944905433, 0.6777741889810865, 0.7147056036374224, 0.6305599130694888, 0.2101866376898296, 0.7180043142925141, 0.17950107857312853, 0.17950107857312853, 0.21677683578125193, 0.6503305073437557, 0.2645498613098073, 0.2645498613098073, 0.1851849029168651, 0.07936495839294219, 0.10581994452392292, 0.10581994452392292, 0.32014885023734474, 0.32014885023734474, 0.07761400679842233, 0.3104560271936893, 0.07761400679842233, 0.15522801359684466, 0.07761400679842233, 0.3104560271936893, 0.7090147353623218, 0.19728671160464, 0.5918601348139201, 0.19728671160464, 0.4090535878298987, 0.20452679391494935, 0.08765434024926401, 0.17530868049852802, 0.05843622683284267, 0.05843622683284267, 0.3979348418484628, 0.15917393673938512, 0.1989674209242314, 0.15917393673938512, 0.05969022627726942, 0.01989674209242314, 0.5439828093683703, 0.2039935535131389, 0.06799785117104629, 0.06799785117104629, 0.06799785117104629, 0.06799785117104629, 0.30812717664723543, 0.6162543532944709, 0.31519593572895555, 0.31519593572895555, 0.9305849155768081, 0.15519914860571984, 0.3103982972114397, 0.07759957430285992, 0.07759957430285992, 0.15519914860571984, 0.3103982972114397, 0.42247258554304307, 0.42247258554304307, 0.6716991340357378, 0.13433982680714757, 0.13433982680714757, 0.13433982680714757, 0.43038804640650885, 0.5560635070326628, 0.11121270140653255, 0.05560635070326628, 0.05560635070326628, 0.05560635070326628, 0.11121270140653255, 0.42215896025869326, 0.42215896025869326, 0.6468597702829171, 0.32342988514145854, 0.307405779212163, 0.614811558424326, 0.15120186175456657, 0.30240372350913314, 0.45360558526369976, 0.306570347758266, 0.613140695516532, 0.24706090232831326, 0.49412180465662653, 0.24335802994114863, 0.1946864239529189, 0.04867160598822973, 0.14601481796468918, 0.14601481796468918, 0.1946864239529189, 0.4363993183064577, 0.16364974436492163, 0.10909982957661442, 0.16364974436492163, 0.027274957394153605, 0.10909982957661442, 0.16229811555137952, 0.16229811555137952, 0.16229811555137952, 0.48689434665413855, 0.195739398661613, 0.13049293244107535, 0.391478797323226, 0.13049293244107535, 0.06524646622053767, 0.06524646622053767, 0.1526188224245993, 0.4578564672737979, 0.3052376448491986, 0.1526188224245993, 0.4571689427291081, 0.10972054625498594, 0.07314703083665729, 0.20115433480080755, 0.09143378854582161, 0.07314703083665729, 0.26670696828218843, 0.3810099546888406, 0.11430298640665218, 0.07620199093776812, 0.11430298640665218, 0.07620199093776812, 0.31495389226315057, 0.31495389226315057, 0.3190504405088358, 0.3190504405088358, 0.41157266459148456, 0.7141442249123041, 0.17853605622807603, 0.17853605622807603, 0.40938685993296386, 0.40938685993296386, 0.6171090375585032, 0.3085545187792516, 0.41730368814665236, 0.08346073762933047, 0.08346073762933047, 0.2503822128879914, 0.1251911064439957, 0.041730368814665235, 0.13492650598706832, 0.26985301197413664, 0.13492650598706832, 0.2023897589806025, 0.26985301197413664, 0.06746325299353416, 0.825200278439842, 0.2506282977526926, 0.7518848932580776, 0.3920984619096013, 0.27335866335747083, 0.09111955445249029, 0.36447821780996115, 0.09111955445249029, 0.18223910890498057, 0.5593335788406031, 0.27966678942030154, 0.4188408975410555, 0.40171152047094477, 0.41511832910774077, 0.41511832910774077, 0.717593480512923, 0.17939837012823076, 0.15391895244865886, 0.7695947622432943, 0.661750123519995, 0.2841805418702059, 0.2841805418702059, 0.23681711822517157, 0.04736342364503431, 0.04736342364503431, 0.04736342364503431, 0.3214191834133698, 0.3214191834133698, 0.7403329328293119, 0.7646704300525063, 0.15293408601050126, 0.15293408601050126, 0.2779638616110813, 0.24321837890969614, 0.1737274135069258, 0.20847289620831097, 0.03474548270138516, 0.03474548270138516, 0.2763782236772235, 0.552756447354447, 0.7525682272422871, 0.6801412149615804, 0.6545494708433084, 0.23154011134083044, 0.49615738144463667, 0.11577005567041522, 0.09923147628892734, 0.033077158762975775, 0.016538579381487888, 0.31873485281922564, 0.2437384168617608, 0.11249465393619729, 0.16874198090429593, 0.07499643595746486, 0.09374554494683107, 0.1142927216331682, 0.2285854432663364, 0.1142927216331682, 0.3428781648995046, 0.2285854432663364, 0.35755952749378234, 0.17877976374689117, 0.35755952749378234, 0.2779665529579408, 0.24322073383819823, 0.15635618603884172, 0.1389832764789704, 0.0694916382394852, 0.08686454779935651, 0.4280849114073655, 0.2973812023616613, 0.4163336833063258, 0.03965082698155484, 0.08921436070849839, 0.02973812023616613, 0.12886518769005323, 0.330725265389414, 0.330725265389414, 0.661450530778828, 0.11881553466997127, 0.3564466040099138, 0.3564466040099138, 0.3965935949840721, 0.6567014556452196, 0.21890048521507321, 0.19796120343250626, 0.09898060171625313, 0.4949030085812656, 0.19796120343250626, 0.09898060171625313, 0.13586016716492094, 0.2717203343298419, 0.2717203343298419, 0.13586016716492094, 0.13560916729204764, 0.20341375093807149, 0.06780458364602382, 0.4746320855221668, 0.06780458364602382, 0.3051809248362821, 0.6103618496725642, 0.25625799944877464, 0.08541933314959155, 0.3416773325983662, 0.1708386662991831, 0.08541933314959155, 0.08541933314959155, 0.07415267299373843, 0.2966106919749537, 0.3707633649686921, 0.07415267299373843, 0.07415267299373843, 0.14830534598747686, 0.24266630899548572, 0.48533261799097144, 0.20864133607609225, 0.4172826721521845, 0.20864133607609225, 0.13083087290748682, 0.26166174581497365, 0.3924926187224605, 0.13083087290748682, 0.1795521871617747, 0.2693282807426621, 0.11970145810784981, 0.2693282807426621, 0.029925364526962452, 0.11970145810784981, 0.5043187358184356, 0.15129562074553068, 0.10086374716368712, 0.05043187358184356, 0.10086374716368712, 0.05043187358184356, 0.2509673040178122, 0.2091394200148435, 0.2927951880207809, 0.08365576800593741, 0.041827884002968704, 0.1254836520089061, 0.14159053225291915, 0.4247715967587575, 0.09439368816861277, 0.09439368816861277, 0.14159053225291915, 0.09439368816861277, 0.1388067768356324, 0.2082101652534486, 0.2429118594623567, 0.2082101652534486, 0.1041050826267243, 0.1041050826267243, 0.2212894980400526, 0.5901053281068069, 0.07376316601335087, 0.07376316601335087, 0.23228273932801477, 0.3930938665551019, 0.12507532117662334, 0.12507532117662334, 0.05360370907569572, 0.08933951512615954, 0.4529623351240357, 0.5098874234853198, 0.2549437117426599, 0.06373592793566497, 0.06373592793566497, 0.06373592793566497, 0.25405193510547247, 0.1587824594409203, 0.26993018104956445, 0.1746607053850123, 0.07939122972046014, 0.06351298377636812, 0.7388873685345377, 0.25571924835332954, 0.19178943626499714, 0.12785962417666477, 0.06392981208833239, 0.3196490604416619, 0.06392981208833239, 0.3074961792046339, 0.15374808960231695, 0.46124426880695085, 0.4294491566019998, 0.21954798186184935, 0.5488699546546234, 0.10977399093092467, 0.19205514533393117, 0.2743644933341874, 0.19205514533393117, 0.2194915946673499, 0.10974579733367495, 0.02743644933341874, 0.40563871853380734, 0.40563871853380734, 0.43700801133141465, 0.547108955588356, 0.23447526668072402, 0.07815842222690801, 0.07815842222690801, 0.07815842222690801, 0.3265249863148683, 0.10884166210495612, 0.10884166210495612, 0.10884166210495612, 0.3265249863148683, 0.7093850399025905, 0.42878423241735, 0.31034426242559887, 0.31034426242559887, 0.250752876677525, 0.250752876677525, 0.50150575335505, 0.10086575487287294, 0.3025972646186188, 0.20173150974574589, 0.40346301949149177, 0.10086575487287294, 0.7170317026594397, 0.8541242149348653, 0.7246586019973825, 0.3141543207871326, 0.1570771603935663, 0.1570771603935663, 0.1570771603935663, 0.3141543207871326, 0.4062078100205537, 0.10155195250513842, 0.4062078100205537, 0.7854309969810381, 0.42433368930363224, 0.2442321849404644, 0.2442321849404644, 0.14653931096427864, 0.21980896644641795, 0.09769287397618576, 0.04884643698809288, 0.14185526543526814, 0.49649342902343846, 0.14185526543526814, 0.07092763271763407, 0.07092763271763407, 0.07092763271763407, 0.1515094912152007, 0.45452847364560206, 0.10100632747680045, 0.05050316373840023, 0.1515094912152007, 0.05050316373840023, 0.30773551430899504, 0.13188664898956928, 0.13188664898956928, 0.26377329797913857, 0.08792443265971286, 0.08792443265971286, 0.5501364638155408, 0.43932349345418625, 0.39502538219441147, 0.39502538219441147, 0.40932973288939617, 0.369637189655391, 0.2559026697614245, 0.08530088992047484, 0.11373451989396646, 0.08530088992047484, 0.05686725994698323, 0.24605258377217065, 0.24605258377217065, 0.4921051675443413, 0.21370082327886475, 0.4274016465577295, 0.21370082327886475, 0.41435854973090525, 0.41435854973090525, 0.5489785910049573, 0.27448929550247864, 0.48967540933246195, 0.1469026227997386, 0.1469026227997386, 0.09793508186649239, 0.04896754093324619, 0.09793508186649239, 0.4208769301035995, 0.2867543671225174, 0.1433771835612587, 0.1433771835612587, 0.3584429589031467, 0.07168859178062935, 0.4114075927776077, 0.4114075927776077, 0.5565869173268574, 0.2662979459415481, 0.2662979459415481, 0.5325958918830962, 0.7216177047050504, 0.3824240060043754, 0.3824240060043754, 0.7956980466714073, 0.4208127912982019, 0.4208127912982019, 0.41385061478139534, 0.2847333599393633, 0.5694667198787265, 0.24449100744466296, 0.2689401081891292, 0.12224550372233148, 0.19559280595573036, 0.09779640297786518, 0.07334730223339889, 0.42346914272068625, 0.17778323590552222, 0.17778323590552222, 0.17778323590552222, 0.35556647181104445, 0.1908830105768568, 0.1908830105768568, 0.5726490317305704, 0.21806988939410454, 0.2725873617426307, 0.1635524170455784, 0.10903494469705227, 0.054517472348526136, 0.21806988939410454, 0.16865245545502272, 0.5059573663650682, 0.16865245545502272, 0.2620308606867382, 0.1310154303433691, 0.5240617213734764, 0.1310154303433691, 0.46705135796348196, 0.11676283949087049, 0.35028851847261144, 0.43877276521140957, 0.12222657767918642, 0.24445315535837284, 0.12222657767918642, 0.36667973303755924, 0.12222657767918642, 0.15584595996995065, 0.07792297998497533, 0.15584595996995065, 0.15584595996995065, 0.38961489992487663, 0.07792297998497533, 0.48795554234411737, 0.24397777117205868, 0.3225882423644069, 0.3225882423644069, 0.6775135396332966, 0.2258378465444322, 0.22874714932242815, 0.3431207239836422, 0.05718678733060704, 0.11437357466121408, 0.1715603619918211, 0.08578018099591055, 0.31648115696580403, 0.6329623139316081, 0.3179364591454196, 0.25215650208085005, 0.12059658795171088, 0.19733987119370872, 0.06577995706456957, 0.05481663088714131, 0.297337656040355, 0.19822510402690333, 0.09911255201345166, 0.09911255201345166, 0.297337656040355, 0.09911255201345166, 0.5556008377337326, 0.2778004188668663, 0.3746332601551004, 0.1873166300775502, 0.10703807433002868, 0.13379759291253585, 0.10703807433002868, 0.08027855574752152, 0.20733127696705256, 0.35542504622923293, 0.25175940774570665, 0.0740468846310902, 0.059237507704872155, 0.04442813077865412, 0.43173998717179574, 0.43173998717179574, 0.24004415500372672, 0.48008831000745344, 0.24004415500372672, 0.04379772321500195, 0.21898861607500977, 0.13139316964500586, 0.21898861607500977, 0.13139316964500586, 0.2627863392900117, 0.3359484085085333, 0.3359484085085333, 0.10608897110795788, 0.08840747592329824, 0.07956672833096842, 0.05304448555397894, 0.4692252268135741, 0.15640840893785804, 0.3128168178757161, 0.18313242324996415, 0.18313242324996415, 0.12208828216664276, 0.3662648464999283, 0.12208828216664276, 0.06104414108332138, 0.5677875408832802, 0.24053566337553983, 0.2706026212974823, 0.1804017475316549, 0.1503347896097124, 0.03006695792194248, 0.1503347896097124, 0.3809675322140249, 0.18504137278966923, 0.15238701288560996, 0.14150222625092354, 0.09796307971217784, 0.0435391465387457, 0.16785843618757107, 0.46161069951582046, 0.04196460904689277, 0.04196460904689277, 0.04196460904689277, 0.20982304523446385, 0.3008760918869313, 0.15043804594346566, 0.20058406125795422, 0.15043804594346566, 0.17551105360070995, 0.025073007657244278, 0.3044038993152391, 0.36848893075002626, 0.09612754715218076, 0.09612754715218076, 0.05607440250543878, 0.08010628929348397, 0.2998647408329863, 0.17991884449979176, 0.11994589633319451, 0.11994589633319451, 0.059972948166597255, 0.23989179266638902, 0.10394172014317846, 0.2078834402863569, 0.2078834402863569, 0.10394172014317846, 0.31182516042953534, 0.10394172014317846, 0.8005975249552145, 0.7159280877734093, 0.3876567424342073, 0.3876567424342073, 0.19944735057981305, 0.3590052310436635, 0.15955788046385044, 0.11966841034788783, 0.11966841034788783, 0.03988947011596261, 0.7209988521697663, 0.43766748905075264, 0.43766748905075264, 0.24160123509434261, 0.3624018526415139, 0.12080061754717131, 0.12080061754717131, 0.12080061754717131, 0.6734243660665262, 0.3367121830332631, 0.2498921999230769, 0.2498921999230769, 0.37483829988461537, 0.12494609996153845, 0.4222732242732334, 0.8420344599683172, 0.32718576413747674, 0.20449110258592296, 0.04089822051718459, 0.08179644103436919, 0.28628754362029213, 0.04089822051718459, 0.7510241212091463, 0.7402351335363535, 0.43667696894057273, 0.2825556857850765, 0.12843440262958022, 0.05137376105183209, 0.025686880525916046, 0.07706064157774813, 0.42938433540791443, 0.42938433540791443, 0.3106703785592749, 0.3106703785592749, 0.30625172335910095, 0.27222375409697863, 0.30625172335910095, 0.06805593852424466, 0.06805593852424466, 0.03402796926212233, 0.4980514283083659, 0.24902571415418295, 0.22177926812691845, 0.19009651553735868, 0.15841376294779888, 0.15841376294779888, 0.09504825776867934, 0.15841376294779888, 0.36954917750916716, 0.11370743923358989, 0.19898801865878232, 0.08528057942519242, 0.17056115885038484, 0.056853719616794945, 0.19229093997995855, 0.28843640996993786, 0.19229093997995855, 0.14421820498496893, 0.07210910249248446, 0.09614546998997928, 0.32063079808039446, 0.2640488925367954, 0.05658190554359902, 0.2074669869931964, 0.09430317590599836, 0.03772127036239935, 0.19636913390541577, 0.4418305512871855, 0.19636913390541577, 0.04909228347635394, 0.09818456695270789, 0.04909228347635394, 0.32025382301551814, 0.32025382301551814, 0.08006345575387953, 0.04003172787693977, 0.08006345575387953, 0.16012691150775907, 0.20900658827054577, 0.20900658827054577, 0.41801317654109155, 0.23317939727208278, 0.23317939727208278, 0.46635879454416557, 0.4168383026786822], \"Term\": [\"abril\", \"abril\", \"abril\", \"abril\", \"abril\", \"abril\", \"acusado\", \"agua\", \"agua\", \"agua\", \"agua\", \"agua\", \"agua\", \"aguapor\", \"aguda\", \"agudos\", \"agudos\", \"ahorca\", \"ahorca\", \"aire\", \"aire\", \"aire\", \"aire\", \"aire\", \"aire\", \"alba\", \"alba\", \"alba\", \"alba\", \"alba\", \"alba\", \"alegria\", \"alegria\", \"alegria\", \"alegria\", \"alegria\", \"alegria\", \"alma\", \"alma\", \"alma\", \"alma\", \"alma\", \"alma\", \"almohada\", \"almohada\", \"alto\", \"alto\", \"alto\", \"alto\", \"alto\", \"alto\", \"alumbra\", \"amapola\", \"amapola\", \"amarrada\", \"amigas\", \"amor\", \"amor\", \"amor\", \"amor\", \"amor\", \"amor\", \"ana\", \"ana\", \"ana\", \"ana\", \"ana\", \"ana\", \"ansia\", \"ansia\", \"ansia\", \"antorcha\", \"apaga\", \"apaga\", \"aqui\", \"aqui\", \"aqui\", \"aqui\", \"aqui\", \"arbolillo\", \"arena\", \"arena\", \"arena\", \"arena\", \"asomaba\", \"asomaba\", \"asomaba\", \"asoman\", \"atajo\", \"atraer\", \"atraer\", \"aturde\", \"avance\", \"ayer\", \"ayer\", \"ayer\", \"ayer\", \"ayer\", \"ayer\", \"azada\", \"azada\", \"aznaitin\", \"aznaitin\", \"azogue\", \"azogue\", \"azul\", \"azul\", \"azul\", \"azul\", \"azul\", \"azul\", \"bajo\", \"bajo\", \"bajo\", \"bajo\", \"bajo\", \"bajo\", \"barbudo\", \"besa\", \"bien\", \"bien\", \"bien\", \"bien\", \"bien\", \"bien\", \"blanca\", \"blanca\", \"blanca\", \"blanca\", \"blanca\", \"blanca\", \"blanquecino\", \"brazos\", \"brazos\", \"brazos\", \"brazos\", \"brazos\", \"brotan\", \"broto\", \"buen\", \"buen\", \"buen\", \"buen\", \"buen\", \"buen\", \"buenos\", \"buenos\", \"buenos\", \"busca\", \"busca\", \"busca\", \"busca\", \"busca\", \"cabellos\", \"cabellos\", \"cabellos\", \"cain\", \"cain\", \"cain\", \"cain\", \"caminante\", \"caminante\", \"caminante\", \"caminante\", \"caminante\", \"camino\", \"camino\", \"camino\", \"camino\", \"camino\", \"camino\", \"campo\", \"campo\", \"campo\", \"campo\", \"campo\", \"campo\", \"campos\", \"campos\", \"campos\", \"campos\", \"campos\", \"campos\", \"cantar\", \"cantar\", \"cantar\", \"cantar\", \"cantar\", \"cantar\", \"cantores\", \"cantores\", \"cantores\", \"cantores\", \"capitan\", \"capitan\", \"capitan\", \"careta\", \"careta\", \"carga\", \"carro\", \"casa\", \"casa\", \"casa\", \"casa\", \"casa\", \"casa\", \"caserio\", \"castilla\", \"castilla\", \"castilla\", \"castilla\", \"castilla\", \"castilla\", \"cazador\", \"cazador\", \"ceniciento\", \"ceniciento\", \"cenit\", \"ceniza\", \"ceniza\", \"ceniza\", \"ceniza\", \"cero\", \"cero\", \"cielo\", \"cielo\", \"cielo\", \"cielo\", \"cielo\", \"cielo\", \"cincel\", \"cincel\", \"ciudad\", \"ciudad\", \"ciudad\", \"ciudad\", \"ciudad\", \"ciza\", \"ciza\", \"ciza\", \"clara\", \"clara\", \"clara\", \"clara\", \"clara\", \"clara\", \"claro\", \"claro\", \"claro\", \"claro\", \"claro\", \"claro\", \"colegiales\", \"colegiales\", \"colegiales\", \"color\", \"color\", \"color\", \"color\", \"concepto\", \"conmigo\", \"conmigo\", \"conmigo\", \"conmigo\", \"conmigo\", \"conmigo\", \"consejo\", \"consejo\", \"copia\", \"corazon\", \"corazon\", \"corazon\", \"corazon\", \"corazon\", \"corazon\", \"cornejas\", \"corta\", \"corta\", \"cosa\", \"cosa\", \"criatura\", \"cristo\", \"cristo\", \"cristo\", \"cuca\", \"cuca\", \"cuerpos\", \"debe\", \"demeter\", \"demeter\", \"demeter\", \"demofon\", \"demofon\", \"demos\", \"despertar\", \"despertar\", \"despierta\", \"despierta\", \"despierta\", \"despierta\", \"devora\", \"dia\", \"dia\", \"dia\", \"dia\", \"dia\", \"dia\", \"dice\", \"dice\", \"dice\", \"dice\", \"dice\", \"dice\", \"dices\", \"dices\", \"dices\", \"dices\", \"dicho\", \"dijo\", \"dijo\", \"dijo\", \"dijo\", \"dijo\", \"dijo\", \"dilecto\", \"diminutas\", \"diminuto\", \"dios\", \"dios\", \"dios\", \"dios\", \"dios\", \"dios\", \"distancia\", \"distancia\", \"distancia\", \"distancia\", \"doble\", \"doble\", \"doble\", \"don\", \"don\", \"don\", \"don\", \"don\", \"don\", \"dormir\", \"dos\", \"dos\", \"dos\", \"dos\", \"dos\", \"dos\", \"duerme\", \"duerme\", \"duerme\", \"duerme\", \"duerme\", \"duero\", \"duero\", \"duero\", \"duero\", \"duero\", \"duero\", \"duraen\", \"duraen\", \"efunde\", \"eis\", \"eis\", \"empezar\", \"encina\", \"encina\", \"encina\", \"encina\", \"encina\", \"encina\", \"enigma\", \"enorme\", \"entra\", \"entra\", \"entra\", \"entra\", \"entra\", \"entra\", \"envidia\", \"envidia\", \"envidia\", \"ermita\", \"ermita\", \"errante\", \"errante\", \"escuela\", \"escuela\", \"espa\", \"espa\", \"espa\", \"espa\", \"espa\", \"espa\", \"espalda\", \"espalda\", \"espejo\", \"espejo\", \"espejo\", \"espejo\", \"espejo\", \"extra\", \"extra\", \"feo\", \"fieras\", \"fieras\", \"figura\", \"figura\", \"figura\", \"flauta\", \"flauta\", \"flor\", \"flor\", \"flor\", \"flor\", \"flor\", \"flor\", \"francia\", \"francia\", \"fria\", \"fria\", \"fria\", \"fria\", \"fria\", \"fria\", \"friode\", \"fruta\", \"fruta\", \"fruta\", \"fuego\", \"fuego\", \"fuego\", \"fuego\", \"fuego\", \"fuego\", \"fuente\", \"fuente\", \"fuente\", \"fuente\", \"fuente\", \"fuente\", \"fuerte\", \"fuerte\", \"fuerte\", \"fuerte\", \"fuerte\", \"fuerte\", \"garganta\", \"garganta\", \"gitanos\", \"gitanos\", \"glu\", \"gran\", \"gran\", \"gran\", \"gran\", \"gran\", \"gran\", \"granito\", \"granito\", \"grano\", \"grano\", \"grano\", \"grano\", \"graznan\", \"guerra\", \"guerra\", \"guerra\", \"guerra\", \"guerra\", \"guerra\", \"guerrero\", \"guerrero\", \"habar\", \"habar\", \"haciendo\", \"haciendo\", \"hada\", \"hada\", \"hada\", \"hecha\", \"hecha\", \"hilera\", \"hilera\", \"hojas\", \"hojas\", \"hojas\", \"hojas\", \"hojas\", \"hojas\", \"hombre\", \"hombre\", \"hombre\", \"hombre\", \"hombre\", \"hombre\", \"hombres\", \"hombres\", \"hombres\", \"hombres\", \"hora\", \"hora\", \"hora\", \"hora\", \"hora\", \"hora\", \"horas\", \"horas\", \"horas\", \"horas\", \"hoy\", \"hoy\", \"hoy\", \"hoy\", \"hoy\", \"hoy\", \"huerto\", \"huerto\", \"huerto\", \"huerto\", \"huerto\", \"huerto\", \"huesos\", \"huesos\", \"humo\", \"humo\", \"hura\", \"infancia\", \"infancia\", \"infancia\", \"insolita\", \"insolita\", \"inventa\", \"inventa\", \"jardin\", \"jardin\", \"jardin\", \"jardin\", \"jardin\", \"jardin\", \"joven\", \"joven\", \"joven\", \"joven\", \"joven\", \"joven\", \"juncos\", \"juntos\", \"juntos\", \"labrais\", \"laguna\", \"laguna\", \"laguna\", \"laguna\", \"laguna\", \"languidos\", \"languidos\", \"leccion\", \"libertad\", \"libra\", \"libra\", \"limpio\", \"limpio\", \"linda\", \"linda\", \"lindos\", \"llama\", \"llama\", \"llama\", \"llama\", \"llama\", \"llama\", \"llaman\", \"llaman\", \"llana\", \"llave\", \"llave\", \"llave\", \"lleva\", \"lleva\", \"lleva\", \"lleva\", \"lleva\", \"lleva\", \"llevaba\", \"llevaba\", \"llevado\", \"llevar\", \"llevas\", \"luna\", \"luna\", \"luna\", \"luna\", \"luna\", \"luna\", \"luz\", \"luz\", \"luz\", \"luz\", \"luz\", \"luz\", \"madera\", \"madera\", \"madera\", \"madera\", \"madera\", \"madrid\", \"madrid\", \"madrid\", \"mano\", \"mano\", \"mano\", \"mano\", \"mano\", \"mano\", \"manto\", \"mar\", \"mar\", \"mar\", \"mar\", \"mar\", \"mar\", \"martillo\", \"martillo\", \"martillo\", \"martin\", \"martin\", \"martin\", \"mascara\", \"mata\", \"mata\", \"mayor\", \"mayor\", \"mayor\", \"mayor\", \"mayor\", \"medio\", \"medio\", \"medio\", \"medio\", \"mejor\", \"mejor\", \"mejor\", \"mejor\", \"mejor\", \"miente\", \"miente\", \"mil\", \"mil\", \"mil\", \"mil\", \"mil\", \"mil\", \"mira\", \"mira\", \"mira\", \"mira\", \"mira\", \"mira\", \"mirada\", \"mirada\", \"mitad\", \"mitad\", \"mitad\", \"moncayo\", \"moncayo\", \"moncayo\", \"moncayo\", \"montes\", \"montes\", \"montes\", \"montes\", \"montes\", \"montes\", \"muerte\", \"muerte\", \"muerte\", \"muerte\", \"muerte\", \"muerte\", \"mundo\", \"mundo\", \"mundo\", \"mundo\", \"mundo\", \"mundo\", \"nadie\", \"nadie\", \"nadie\", \"nadie\", \"nadie\", \"nadie\", \"negra\", \"negra\", \"negra\", \"negra\", \"negra\", \"negra\", \"negro\", \"negro\", \"negro\", \"negro\", \"noche\", \"noche\", \"noche\", \"noche\", \"noche\", \"noche\", \"nueve\", \"nuevo\", \"nuevo\", \"nuevo\", \"nuevo\", \"nuevo\", \"ojos\", \"ojos\", \"ojos\", \"ojos\", \"ojos\", \"ojos\", \"oliento\", \"olivares\", \"olivares\", \"olivares\", \"olivares\", \"olivares\", \"olivares\", \"olor\", \"olor\", \"olor\", \"olvides\", \"orilla\", \"orilla\", \"orilla\", \"oro\", \"oro\", \"oro\", \"oro\", \"oro\", \"oro\", \"ovejas\", \"ovejas\", \"pajaros\", \"palabra\", \"palabra\", \"palabra\", \"palabra\", \"palabra\", \"palabras\", \"palabras\", \"palabras\", \"palabras\", \"palabras\", \"parado\", \"pared\", \"partio\", \"partio\", \"partir\", \"partir\", \"partir\", \"pasar\", \"pasar\", \"pasar\", \"pasar\", \"pasar\", \"pelear\", \"peluquero\", \"pensamos\", \"pensar\", \"pensar\", \"pensar\", \"pensar\", \"pensar\", \"peque\", \"peque\", \"peque\", \"perdon\", \"perfuman\", \"piedra\", \"piedra\", \"piedra\", \"piedra\", \"piedra\", \"piedra\", \"plata\", \"plata\", \"plata\", \"plata\", \"plata\", \"plata\", \"plaza\", \"plaza\", \"plaza\", \"plaza\", \"plaza\", \"plaza\", \"pobre\", \"pobre\", \"pobre\", \"pobre\", \"pobre\", \"pobre\", \"pone\", \"poner\", \"prefiere\", \"prefiere\", \"preguntar\", \"primavera\", \"primavera\", \"primavera\", \"primavera\", \"primavera\", \"primavera\", \"primera\", \"primera\", \"primera\", \"puesto\", \"puesto\", \"puesto\", \"quedando\", \"quedando\", \"quieren\", \"quieren\", \"ramas\", \"ramas\", \"ramas\", \"ramas\", \"ramas\", \"ramas\", \"rato\", \"razon\", \"razon\", \"razon\", \"razon\", \"razon\", \"recordarlas\", \"recordarlas\", \"recuerdan\", \"rejas\", \"rejas\", \"rejas\", \"remoto\", \"repele\", \"repele\", \"resbala\", \"revueltas\", \"revueltas\", \"rienda\", \"rima\", \"rima\", \"rio\", \"rio\", \"rio\", \"rio\", \"rio\", \"rio\", \"rioy\", \"riqueza\", \"riqueza\", \"riqueza\", \"riqueza\", \"romance\", \"romance\", \"romance\", \"sabe\", \"sabe\", \"sabe\", \"sabe\", \"sabe\", \"sabe\", \"sabemos\", \"sabemos\", \"sabemos\", \"saber\", \"saber\", \"saber\", \"saber\", \"sabes\", \"sabes\", \"sabes\", \"sagrado\", \"san\", \"san\", \"san\", \"san\", \"san\", \"sangre\", \"sangre\", \"sangre\", \"sangre\", \"sangre\", \"sangre\", \"selva\", \"selva\", \"selvas\", \"selvas\", \"senti\", \"senti\", \"siempre\", \"siempre\", \"siempre\", \"siempre\", \"siempre\", \"siempre\", \"siniestra\", \"siniestra\", \"sol\", \"sol\", \"sol\", \"sol\", \"sol\", \"sol\", \"soledad\", \"soledad\", \"soledad\", \"soledad\", \"soledad\", \"soledad\", \"solitaria\", \"solitaria\", \"solo\", \"solo\", \"solo\", \"solo\", \"solo\", \"solo\", \"sombra\", \"sombra\", \"sombra\", \"sombra\", \"sombra\", \"sombra\", \"sonando\", \"sonando\", \"sonora\", \"sonora\", \"sonora\", \"soria\", \"soria\", \"soria\", \"soria\", \"soria\", \"soria\", \"sue\", \"sue\", \"sue\", \"sue\", \"sue\", \"sue\", \"suelo\", \"suelo\", \"suelo\", \"suena\", \"suena\", \"suena\", \"suena\", \"suena\", \"suena\", \"suene\", \"tan\", \"tan\", \"tan\", \"tan\", \"tan\", \"tan\", \"tarde\", \"tarde\", \"tarde\", \"tarde\", \"tarde\", \"tarde\", \"tic\", \"tic\", \"tic\", \"tic\", \"tic\", \"tic\", \"tiempo\", \"tiempo\", \"tiempo\", \"tiempo\", \"tiempo\", \"tiempo\", \"tierra\", \"tierra\", \"tierra\", \"tierra\", \"tierra\", \"tierra\", \"toda\", \"toda\", \"toda\", \"toda\", \"toda\", \"toda\", \"torno\", \"torno\", \"torno\", \"torno\", \"torno\", \"torno\", \"torva\", \"torvos\", \"traia\", \"traia\", \"tras\", \"tras\", \"tras\", \"tras\", \"tras\", \"tras\", \"trozo\", \"tumba\", \"tumba\", \"urbion\", \"urbion\", \"urbion\", \"urbion\", \"urbion\", \"vacia\", \"vacia\", \"vacio\", \"vacio\", \"vacio\", \"vacio\", \"varon\", \"vendras\", \"verdad\", \"verdad\", \"verdad\", \"verdad\", \"verdad\", \"verdad\", \"verdaderas\", \"verdades\", \"verde\", \"verde\", \"verde\", \"verde\", \"verde\", \"verde\", \"verlos\", \"verlos\", \"versos\", \"versos\", \"vez\", \"vez\", \"vez\", \"vez\", \"vez\", \"vez\", \"vicio\", \"vicio\", \"vida\", \"vida\", \"vida\", \"vida\", \"vida\", \"vida\", \"vieja\", \"vieja\", \"vieja\", \"vieja\", \"vieja\", \"vieja\", \"viejo\", \"viejo\", \"viejo\", \"viejo\", \"viejo\", \"viejo\", \"viento\", \"viento\", \"viento\", \"viento\", \"viento\", \"viento\", \"vino\", \"vino\", \"vino\", \"vino\", \"vino\", \"vino\", \"visto\", \"visto\", \"visto\", \"visto\", \"visto\", \"visto\", \"vuelta\", \"vuelta\", \"vuelta\", \"yuntas\", \"yuntas\", \"yuntas\", \"zumo\"]}, \"R\": 30, \"lambda.step\": 0.01, \"plot.opts\": {\"xlab\": \"PC1\", \"ylab\": \"PC2\"}, \"topic.order\": [2, 1, 5, 6, 3, 4]};\n",
              "\n",
              "function LDAvis_load_lib(url, callback){\n",
              "  var s = document.createElement('script');\n",
              "  s.src = url;\n",
              "  s.async = true;\n",
              "  s.onreadystatechange = s.onload = callback;\n",
              "  s.onerror = function(){console.warn(\"failed to load library \" + url);};\n",
              "  document.getElementsByTagName(\"head\")[0].appendChild(s);\n",
              "}\n",
              "\n",
              "if(typeof(LDAvis) !== \"undefined\"){\n",
              "   // already loaded: just create the visualization\n",
              "   !function(LDAvis){\n",
              "       new LDAvis(\"#\" + \"ldavis_el5721402070402728641121970853\", ldavis_el5721402070402728641121970853_data);\n",
              "   }(LDAvis);\n",
              "}else if(typeof define === \"function\" && define.amd){\n",
              "   // require.js is available: use it to load d3/LDAvis\n",
              "   require.config({paths: {d3: \"https://d3js.org/d3.v5\"}});\n",
              "   require([\"d3\"], function(d3){\n",
              "      window.d3 = d3;\n",
              "      LDAvis_load_lib(\"https://cdn.jsdelivr.net/gh/bmabey/pyLDAvis@3.4.0/pyLDAvis/js/ldavis.v3.0.0.js\", function(){\n",
              "        new LDAvis(\"#\" + \"ldavis_el5721402070402728641121970853\", ldavis_el5721402070402728641121970853_data);\n",
              "      });\n",
              "    });\n",
              "}else{\n",
              "    // require.js not available: dynamically load d3 & LDAvis\n",
              "    LDAvis_load_lib(\"https://d3js.org/d3.v5.js\", function(){\n",
              "         LDAvis_load_lib(\"https://cdn.jsdelivr.net/gh/bmabey/pyLDAvis@3.4.0/pyLDAvis/js/ldavis.v3.0.0.js\", function(){\n",
              "                 new LDAvis(\"#\" + \"ldavis_el5721402070402728641121970853\", ldavis_el5721402070402728641121970853_data);\n",
              "            })\n",
              "         });\n",
              "}\n",
              "</script>"
            ]
          },
          "metadata": {},
          "execution_count": 55
        }
      ]
    },
    {
      "cell_type": "markdown",
      "source": [],
      "metadata": {
        "id": "vBMO-IJ4uwKD"
      }
    }
  ]
}