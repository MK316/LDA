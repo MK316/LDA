{
  "nbformat": 4,
  "nbformat_minor": 0,
  "metadata": {
    "colab": {
      "provenance": [],
      "include_colab_link": true
    },
    "kernelspec": {
      "name": "python3",
      "display_name": "Python 3"
    },
    "language_info": {
      "name": "python"
    }
  },
  "cells": [
    {
      "cell_type": "markdown",
      "metadata": {
        "id": "view-in-github",
        "colab_type": "text"
      },
      "source": [
        "<a href=\"https://colab.research.google.com/github/hsnam95/my/blob/main/%5BNH%5D_Python_for_Topic_Modelling_(ALL).ipynb\" target=\"_parent\"><img src=\"https://colab.research.google.com/assets/colab-badge.svg\" alt=\"Open In Colab\"/></a>"
      ]
    },
    {
      "cell_type": "code",
      "source": [
        "import pandas as pd\n",
        "# import numpy as np\n",
        "import re\n",
        "import nltk\n",
        "# from nltk.stem import WordNetLemmatizer\n",
        "# from nltk import word_tokenize\n",
        "nltk.download('stopwords')\n",
        "from nltk.corpus import stopwords\n",
        "\n",
        "# import string\n",
        "import matplotlib.pyplot as plt\n",
        "import gensim\n",
        "# import numpy as np\n",
        "from gensim.models import CoherenceModel, LdaModel, LsiModel, HdpModel\n",
        "# from gensim.models.wrappers import LdaMallet\n",
        "from gensim.corpora import Dictionary"
      ],
      "metadata": {
        "id": "T2lVWFpepB0o"
      },
      "execution_count": null,
      "outputs": []
    },
    {
      "cell_type": "code",
      "source": [
        "from google.colab import files\n",
        "files.upload()"
      ],
      "metadata": {
        "id": "7ISD7OhipXVv"
      },
      "execution_count": null,
      "outputs": []
    },
    {
      "cell_type": "code",
      "source": [
        "df_news = pd.read_csv(\"a-machado-(CLEAN)-Revisado3-(solo libros)-nuevo.csv\")"
      ],
      "metadata": {
        "id": "R_D20tWdpo8H"
      },
      "execution_count": 19,
      "outputs": []
    },
    {
      "cell_type": "code",
      "source": [
        "df_news.drop('Unnamed: 0', axis=1, inplace=True)\n",
        "df_news.drop('metaTL', axis=1, inplace=True)\n",
        "df_news.drop('fragmento', axis=1, inplace=True)\n",
        "df_news.drop('destinatario', axis=1, inplace=True)\n",
        "#df_news.drop('Unnamed: 10', axis=1, inplace=True)\n",
        "#df_news.drop('Unnamed: 11', axis=1, inplace=True)\n",
        "#df_news.drop('Unnamed: 12', axis=1, inplace=True)\n",
        "#df_news.drop('Unnamed: 13', axis=1, inplace=True)\n",
        "#df_news.drop('Unnamed: 14', axis=1, inplace=True)\n",
        "#df_news.drop('Unnamed: 15', axis=1, inplace=True)\n",
        "#df_news.drop('Unnamed: 16', axis=1, inplace=True)\n",
        "\n",
        "print(df_news)"
      ],
      "metadata": {
        "id": "WaZ91yXzp3ZP"
      },
      "execution_count": null,
      "outputs": []
    },
    {
      "cell_type": "markdown",
      "source": [
        "불용어 리스트"
      ],
      "metadata": {
        "id": "OZhH4V36qOSX"
      }
    },
    {
      "cell_type": "code",
      "source": [
        "black_list = [#불용어 처리 방법#3m [HY: 직접 만들기!]\n",
        "                                  \"a\",\"b\",\"c\",\"d\",\"e\",\"f\",\"g\",\"h\",\"i\",\"j\",\"k\",\"l\",\"m\",\"n\",\"o\",\"p\",\"q\",\"r\",\"s\",\"t\",\"u\",\"v\",\"w\",\"x\",\"y\",\"z\", # 개별 알파벳(alfabeto) \n",
        "                                       \n",
        "                                 \"al\", \"del\",\"de\",\"en\", \"hacia\", \"por\", \"para\", \"entre\",'sobre','según', #전치사(preposiciones)\n",
        "                                 \"con\",\"comigo\",\"contigo\", \"consigo\", \"sin\",\n",
        "\n",
        "                                 'cual', 'cuál', 'cuales', 'cuáles', 'cualquier', 'cualquiera', 'cualquieras', #관계사(relativos) & 의문사(interrogativos) (2)\n",
        "                                 'cuan', 'cuán', 'cuando', 'cuándo', 'cuanta','cuánta', 'cuantas', 'cuántas', 'cuanto', 'cuánto', 'cuantos', 'cuántos',   #관계사(relativos) & 의문사(interrogativos) (1)\n",
        "                                 'donde', 'dónde', 'adonde', 'adónde','como', 'cómo',                                  #관계사(relativos) & 의문사(interrogativos) (3)\n",
        "                                 'que', 'qué', 'quien', 'quién', 'quienes', 'quiénes','quienesquiera', 'quienquiera', #관계사(relativos) & 의문사(interrogativos) (4)\n",
        "                                 'cuyo', 'cuya','cuyos','cuyas', #관계사(relativos) & 의문사(interrogativos) (4)   \n",
        "\n",
        "                                 'el', 'la', 'las', 'le', 'les', 'lo', 'los', 'un', 'una', 'unas', 'uno', 'unos', #관사(articulos)\n",
        "                                 'yo', 'me', 'mi', 'mí', 'mia', 'mía', 'mias', 'mías','mio','mío', 'mios', 'míos', 'mis', #대명사(prombres)-1S\n",
        "                                 'nos', 'nosotras', 'nosotros', 'nuestra', 'nuestras', 'nuestro', 'nuestros', #대명사(prombres)-1P\n",
        "                                 'vosotras', 'vosotros', 'vuestra', 'vuestras', 'vuestro', 'vuestros', 'os', #대명사(prombres)-2P\n",
        "                                 'él', 'ella', 'ellas', 'ello', 'ellos', #대명사(prombres)-3S (1)\n",
        "                                 'ud', 'uds', 'usted','ustedes', 'vd', 'vds', 'se', 'su', 'sus', 'suya', 'suyas', 'suyo', 'suyos', #대명사(prombres)-3S (2)\n",
        "                                 'te', 'ti', 'tí', 'tu', 'tú', 'tus', 'tuya', 'tuyas', 'tuyo', 'tuyos', #대명사(prombres)-2S\n",
        "\n",
        "                                 #'este', 'esta', 'estos', 'estas', 'ese', 'esa', 'esos', 'esas','aquel', 'aquella', 'aquellos', 'aquellas', #지시사(demostrativos)\n",
        "\n",
        "                                 'era', 'erais', 'eramos', 'éramos', 'eran', 'eras',  #SER 동사활용형(1)\n",
        "                                 'eres', 'es', 'sea', 'seáis', 'seamos', 'sean', 'seas','sois', 'somos','son', 'soy', #SER 동사활용형(2)\n",
        "                                 'fue', 'fué', 'fui', 'fuí', 'fuimos', 'fuiste', 'fuisteis', #SER 동사활용형(3)\n",
        "                                 'fuera', 'fuerais', 'fuéramos', 'fueran', 'fueras', 'fueron', 'fuese', 'fueseis', 'fuésemos','fuesen', 'fueses', #SER 동사활용형(4)\n",
        "                                 'será', 'serán', 'serás', 'seré', 'seréis', 'seremos', #SER 동사활용형(5)\n",
        "                                 'sería', 'seríais', 'seríamos', 'serían', 'serías', #SER 동사활용형(6)\n",
        "                                 'sido', 'siendo', #SER 동사활용형(7)\n",
        "\n",
        "                                 'estar', 'está', 'estais', 'estáis', 'estamos', 'estan', 'están','estás', 'estoy',  #ESTAR 동사활용형(1)\n",
        "                                 'estaba', 'estabais', 'estábamos', 'estaban', 'estabas', #ESTAR 동사활용형(2)\n",
        "                                 'estada', 'estadas', 'estando', 'estad', #ESTAR 동사활용형(3)\n",
        "                                 'estará', 'estarán', 'estarás', 'estaré', 'estaréis', 'estaremos', #ESTAR 동사활용형(4)\n",
        "                                 'estaría', 'estaríais', 'estaríamos', 'estarían', 'estarías', #ESTAR 동사활용형(5)\n",
        "                                 'esté', 'estéis', 'estemos', 'estén', 'estés', #ESTAR 동사활용형(6) \n",
        "                                 'estuve', 'estuviera', 'estuvierais', 'estuviéramos', 'estuvieran', 'estuvieras', 'estuvieron', #ESTAR 동사활용형(7)\n",
        "                                 'estuviese', 'estuvieseis', 'estuviésemos', 'estuviesen', 'estuvieses', 'estuvimos', 'estuviste', 'estuvisteis', 'estuvo',  #ESTAR 동사활용형(8)\n",
        "\n",
        "                                 'haber', 'ha', 'habéis', 'han', 'has', 'hay', 'he', 'hemos',  #HABER 동사활용형(1)\n",
        "                                 'habia', 'había', 'habíais', 'habíamos', 'habían', 'habías',  #HABER 동사활용형(2)\n",
        "                                 'habida', 'habidas', 'habido', 'habidos', 'habiendo',         #HABER 동사활용형(3)\n",
        "                                 'habrá', 'habrán', 'habrás', 'habré', 'habréis', 'habremos',  #HABER 동사활용형(4)\n",
        "                                 'habría', 'habríais', 'habríamos', 'habrían', 'habrías',      #HABER 동사활용형(5)\n",
        "                                 'haya', 'hayáis', 'hayamos', 'hayan', 'hayas',                #HABER 동사활용형(6)\n",
        "                                 'hube', 'hubimos', 'hubiste', 'hubisteis', 'hubo',            #HABER 동사활용형(7)\n",
        "                                 'hubiera', 'hubierais', 'hubiéramos', 'hubieran', 'hubieras', 'hubieron',  #HABER 동사활용형(8) \n",
        "                                 'hubiese', 'hubieseis', 'hubiésemos', 'hubiesen', 'hubieses', #HABER 동사활용형(9) \n",
        "\n",
        "                                 'ni','no','jamás','nunca','nada','ningún','ninguna','ninguno', #부정어(negativos)\n",
        "                                 'pero','mas', 'aunque','pues','porque','si','sí', #접속사(conjunciones)\n",
        "                                 'algo','algún','alguna','algunas','alguno','algunos', #부정어(indefinidos)\n",
        "                                 'embargo',                                     #기타(etc)                                                                   ))         \n",
        "  \n",
        "                                   \"LBR\",\n",
        "                                   \"ttl\",\n",
        "                                   \"mtl\",\n",
        "                                   \"ftl\",\n",
        "                                   \"=\",\"===============================================\",\n",
        "                                   \"01\",\"02\",\"03\",\"04\",\"05\",\"06\",\"07\",\"08\",\"09\"]"
      ],
      "metadata": {
        "id": "fQXEpuoHqKMR"
      },
      "execution_count": 20,
      "outputs": []
    },
    {
      "cell_type": "markdown",
      "source": [
        "#**품사별 분류**"
      ],
      "metadata": {
        "id": "hTZWkHsfqaxo"
      }
    },
    {
      "cell_type": "code",
      "source": [
        "def lemmatization(texts):\n",
        "    texts_out = [ token.text for token in nlp(texts) if token.text not in black_list and len(token.text)>2]\n",
        "    return texts_out"
      ],
      "metadata": {
        "id": "zepMIyE2qbau"
      },
      "execution_count": 21,
      "outputs": []
    },
    {
      "cell_type": "markdown",
      "source": [
        "Create the cleaner function to clean the spanish text, remove non alpha numeric characters, remove duplicate, remove spanish accutes, remove digits."
      ],
      "metadata": {
        "id": "-mb3bXQGqk21"
      }
    },
    {
      "cell_type": "code",
      "source": [
        "bigram = gensim.models.Phrases(df_news.texto.to_list())"
      ],
      "metadata": {
        "id": "rX3StYNRq21n"
      },
      "execution_count": 22,
      "outputs": []
    },
    {
      "cell_type": "code",
      "source": [
        "stop = set(stopwords.words('spanish'))\n",
        "additional_stopwords=set(black_list)\n",
        "stopwords = stop.union(additional_stopwords)"
      ],
      "metadata": {
        "id": "HvdtnQJeq98_"
      },
      "execution_count": 23,
      "outputs": []
    },
    {
      "cell_type": "code",
      "source": [
        "def cleaner(word):\n",
        "  word = re.sub(r'((http|https)\\:\\/\\/)?[a-zA-Z0-9\\.\\/\\?\\:@\\-_=#]+\\.([a-zA-Z]){2,6}([a-zA-Z0-9\\.\\&\\/\\?\\:@\\-_=#])*', '', word, flags=re.MULTILINE)\n",
        "  word = re.sub(r'(?::|;|=)(?:-)?(?:\\)|\\(|D|P)', \"\", word)\n",
        "  word = re.sub(r'ee.uu', 'eeuu', word)\n",
        "  word = re.sub(r'\\#\\.', '', word)\n",
        "  word = re.sub(r'\\n', '', word)\n",
        "  word = re.sub(r',', '', word)\n",
        "  word = re.sub(r'\\-', ' ', word)\n",
        "  word = re.sub(r'\\.{3}', ' ', word)\n",
        "  word = re.sub(r'a{2,}', 'a', word)\n",
        "  word = re.sub(r'é{2,}', 'é', word)\n",
        "  word = re.sub(r'i{2,}', 'i', word)\n",
        "  word = re.sub(r'ja{2,}', 'ja', word) \n",
        "  word = re.sub(r'á', 'a', word)\n",
        "  word = re.sub(r'é', 'e', word)\n",
        "  word = re.sub(r'í', 'i', word)\n",
        "  word = re.sub(r'ó', 'o', word)\n",
        "  word = re.sub(r'ú', 'u', word)  \n",
        "  word = re.sub('[^a-zA-Z]', ' ', word)\n",
        "  list_word_clean = []\n",
        "  for w1 in word.split(\" \"):\n",
        "    if  w1.lower() not in stopwords:\n",
        "      list_word_clean.append(w1.lower())\n",
        "\n",
        "  bigram_list = bigram[list_word_clean]\n",
        "  out_text = lemmatization(\" \".join(bigram_list))\n",
        "  return out_text"
      ],
      "metadata": {
        "id": "f79eK5QpqjKz"
      },
      "execution_count": 24,
      "outputs": []
    },
    {
      "cell_type": "markdown",
      "source": [
        "We are using Spacy For lemmatize spanish words."
      ],
      "metadata": {
        "id": "alJX67MSq_W8"
      }
    },
    {
      "cell_type": "code",
      "source": [
        "!python -m spacy download es_core_news_sm"
      ],
      "metadata": {
        "id": "sTVndd6qrC8c"
      },
      "execution_count": null,
      "outputs": []
    },
    {
      "cell_type": "code",
      "source": [
        "import spacy \n",
        "nlp = spacy.load(\"es_core_news_sm\")"
      ],
      "metadata": {
        "id": "HTiSGf6_rEDM"
      },
      "execution_count": 25,
      "outputs": []
    },
    {
      "cell_type": "markdown",
      "source": [
        "Now let's test the cleaner function:"
      ],
      "metadata": {
        "id": "gVl74k7KrH5J"
      }
    },
    {
      "cell_type": "markdown",
      "source": [
        "Let's clean all the text"
      ],
      "metadata": {
        "id": "HxFUIWDGrVn4"
      }
    },
    {
      "cell_type": "code",
      "source": [
        "df_news['texto2'] = df_news['texto']\n",
        "df_news['texto'] = df_news['texto'].apply(cleaner)"
      ],
      "metadata": {
        "id": "WzlZ8FlLrcDt",
        "colab": {
          "base_uri": "https://localhost:8080/"
        },
        "outputId": "1cc8640b-0f44-425d-d0fc-d56a2584e9dc"
      },
      "execution_count": 26,
      "outputs": [
        {
          "output_type": "stream",
          "name": "stderr",
          "text": [
            "/usr/local/lib/python3.8/dist-packages/gensim/models/phrases.py:598: UserWarning: For a faster implementation, use the gensim.models.phrases.Phraser class\n",
            "  warnings.warn(\"For a faster implementation, use the gensim.models.phrases.Phraser class\")\n"
          ]
        }
      ]
    },
    {
      "cell_type": "markdown",
      "source": [
        "Now we need to build the corpus and the dictionary that gensim need to work, to do that we need to pass a list of list of tokens."
      ],
      "metadata": {
        "id": "cIosAjhsrdd9"
      }
    },
    {
      "cell_type": "code",
      "source": [
        "dictionary = Dictionary(df_news['texto'].to_list())\n",
        "dictionary.compactify()\n",
        "# Filter extremes\n",
        "dictionary.filter_extremes(no_below=2, no_above=0.97, keep_n=None)\n",
        "dictionary.compactify()\n",
        "\n",
        "corpus = [dictionary.doc2bow(text) for text in df_news['texto'].to_list()]"
      ],
      "metadata": {
        "id": "MoqHmNhHre5-"
      },
      "execution_count": 27,
      "outputs": []
    },
    {
      "cell_type": "code",
      "source": [
        "dictionary.doc2bow(df_news['texto'].to_list()[0])"
      ],
      "metadata": {
        "id": "PfHhw69Ub3sJ"
      },
      "execution_count": null,
      "outputs": []
    },
    {
      "cell_type": "code",
      "source": [
        "corpus"
      ],
      "metadata": {
        "id": "pTT0X4vrbVnb"
      },
      "execution_count": null,
      "outputs": []
    },
    {
      "cell_type": "markdown",
      "source": [
        "##**Model#1: Hierarchical Dirichlet process Model**"
      ],
      "metadata": {
        "id": "v_lMuA4XrnXC"
      }
    },
    {
      "cell_type": "code",
      "source": [
        "import time\n",
        "time.clock = time.time"
      ],
      "metadata": {
        "id": "X1B7Nq35rtpo"
      },
      "execution_count": 44,
      "outputs": []
    },
    {
      "cell_type": "code",
      "source": [
        "hdpmodel = HdpModel(corpus=corpus, id2word=dictionary, random_state= 30)"
      ],
      "metadata": {
        "id": "SHG7hYxCr3YD",
        "colab": {
          "base_uri": "https://localhost:8080/"
        },
        "outputId": "260d1b46-f357-4af4-9fcc-f7873dac0196"
      },
      "execution_count": 45,
      "outputs": [
        {
          "output_type": "stream",
          "name": "stderr",
          "text": [
            "WARNING:gensim.models.hdpmodel:likelihood is decreasing!\n",
            "WARNING:gensim.models.hdpmodel:likelihood is decreasing!\n",
            "WARNING:gensim.models.hdpmodel:likelihood is decreasing!\n",
            "WARNING:gensim.models.hdpmodel:likelihood is decreasing!\n",
            "WARNING:gensim.models.hdpmodel:likelihood is decreasing!\n",
            "WARNING:gensim.models.hdpmodel:likelihood is decreasing!\n",
            "WARNING:gensim.models.hdpmodel:likelihood is decreasing!\n",
            "WARNING:gensim.models.hdpmodel:likelihood is decreasing!\n",
            "WARNING:gensim.models.hdpmodel:likelihood is decreasing!\n",
            "WARNING:gensim.models.hdpmodel:likelihood is decreasing!\n",
            "WARNING:gensim.models.hdpmodel:likelihood is decreasing!\n",
            "WARNING:gensim.models.hdpmodel:likelihood is decreasing!\n",
            "WARNING:gensim.models.hdpmodel:likelihood is decreasing!\n"
          ]
        }
      ]
    },
    {
      "cell_type": "markdown",
      "source": [
        "and the topics of this model:"
      ],
      "metadata": {
        "id": "GuuXoNTxr5HZ"
      }
    },
    {
      "cell_type": "code",
      "source": [
        "def display_topics(model, model_type=\"lda\"):\n",
        "  for topic_idx, topic in enumerate(model.print_topics()):\n",
        "    print (\"Topic %d:\" % (topic_idx))\n",
        "    if model_type== \"hdp\":\n",
        "      print (\" \".join(re.findall( r'\\*(.[^\\*-S]+).?', topic[1])), \"\\n\")\n",
        "    else:\n",
        "      print (\" \".join(re.findall( r'\\\"(.[^\"]+).?', topic[1])), \"\\n\")"
      ],
      "metadata": {
        "id": "mysUf0HEr6-r"
      },
      "execution_count": 46,
      "outputs": []
    },
    {
      "cell_type": "code",
      "source": [
        "# hdpmodel.show_topics() \n",
        "\n",
        "display_topics(hdpmodel, model_type=\"hdp\")"
      ],
      "metadata": {
        "id": "kc_QDr6WsMkX",
        "colab": {
          "base_uri": "https://localhost:8080/"
        },
        "outputId": "3bbb39c5-9c97-4f3a-c0dc-d2a663d76e53"
      },
      "execution_count": 47,
      "outputs": [
        {
          "output_type": "stream",
          "name": "stdout",
          "text": [
            "Topic 0:\n",
            "ruina  tregua  ascua  presente  llano  quedando  verdadero  monta  carne  verdugo \n",
            "\n",
            "Topic 1:\n",
            "salon  madres  ausente  alta  respondi  ofrece  clamor  coche  mudas  verdades \n",
            "\n",
            "Topic 2:\n",
            "alcores  sierra  rueda  miras  ruise  grandmontagne  espuma  mirtos  mayor  ilumina \n",
            "\n",
            "Topic 3:\n",
            "blasfemo  barca  polvorientos  verso  malandanza  mustio  luna  helado  ambas  corren \n",
            "\n",
            "Topic 4:\n",
            "claro  casi  historias  hondo  parques  riel  cara  vicio  salamanca  diosa \n",
            "\n",
            "Topic 5:\n",
            "tacha  huella  empu  ciruelos  vengadora  propio  hilera  repiquetean  heces  torreones \n",
            "\n",
            "Topic 6:\n",
            "aborrascado  alzo  hamlet  valles  verdaderas  abrio  salduero  ocaso  lejanos  bien \n",
            "\n",
            "Topic 7:\n",
            "hordas  noches  tajamares  latir  platea  ventanas  mercaderes  viaje  cuento  ayer \n",
            "\n",
            "Topic 8:\n",
            "maduro  grotesca  pobre  tosca  vas  importa  prendida  lienzos  llega  siembra \n",
            "\n",
            "Topic 9:\n",
            "claro  huella  tic  mason  anoche  aspero  copia  claros  pierde  moreno \n",
            "\n",
            "Topic 10:\n",
            "lejanos  leyendas  oido  almendro  barrancas  conquista  sayal  risa  cuca  semilla \n",
            "\n",
            "Topic 11:\n",
            "horizonte  olivo  pensar  inmensa  olivos  danzas  atrio  riocon  despierta  corvo \n",
            "\n",
            "Topic 12:\n",
            "piqueta  palacio  muros  horas  merinos  quieta  rico  loco  ignota  pinares \n",
            "\n",
            "Topic 13:\n",
            "camino  azorin  caudal  teologia  huerta  botin  ligera  arbolillo  bochorno  jornada \n",
            "\n",
            "Topic 14:\n",
            "torso  savia  torpe  tristes  posa  mason  vendran  albor  bufon  dedos \n",
            "\n",
            "Topic 15:\n",
            "ora  bate  pecadores  aldea  amarga  astuto  cartera  gloria  forma  fortuna \n",
            "\n",
            "Topic 16:\n",
            "opulencia  habitan  aviva  maduros  aran  arco  burlon  llegaron  amapolas  quillas \n",
            "\n",
            "Topic 17:\n",
            "poned  cegado  madre  enjuto  jamas  mies  crestas  alto  verde  ceniza \n",
            "\n",
            "Topic 18:\n",
            "torso  poquito  dolor  alla  cubierta  solitaria  supremo  tren  juncos  viven \n",
            "\n",
            "Topic 19:\n",
            "arquero  ruinas  penso  apaga  secreto  amargura  ventana  alcanza  envidia  nidos \n",
            "\n"
          ]
        }
      ]
    },
    {
      "cell_type": "markdown",
      "source": [
        "as we could see there are 20 topics, however is kind of dificult to interpret or follow, so we decide to move to another model."
      ],
      "metadata": {
        "id": "7fRJg9XIr8Ji"
      }
    },
    {
      "cell_type": "markdown",
      "source": [
        "##**Model#2: LSI Model**"
      ],
      "metadata": {
        "id": "dSdNRkzwruDX"
      }
    },
    {
      "cell_type": "code",
      "source": [
        "def evaluate_graph(dictionary, corpus, texts, limit, model):\n",
        "    \"\"\"\n",
        "    Function to display num_topics - LDA graph using c_v coherence\n",
        "    \n",
        "    Parameters:\n",
        "    ----------\n",
        "    dictionary : Gensim dictionary\n",
        "    corpus : Gensim corpus\n",
        "    limit : topic limit\n",
        "    \n",
        "    Returns:\n",
        "    -------\n",
        "    lm_list : List of LDA topic models\n",
        "    c_v : Coherence values corresponding to the LDA model with respective number of topics\n",
        "    \"\"\"\n",
        "    c_v = []\n",
        "    lm_list = []\n",
        "    for num_topics in range(1, limit):\n",
        "        if model == 'lsi':\n",
        "          lm = LsiModel(corpus=corpus, num_topics=num_topics, id2word=dictionary)\n",
        "        else:\n",
        "          lm = LdaModel(corpus=corpus, num_topics=num_topics, id2word=dictionary)\n",
        "        lm_list.append(lm)\n",
        "        cm = CoherenceModel(model=lm, texts=texts, dictionary=dictionary, coherence='c_v')\n",
        "        c_v.append(cm.get_coherence())\n",
        "        \n",
        "    # Show graph\n",
        "    x = range(1, limit)\n",
        "    plt.plot(x, c_v)\n",
        "    plt.xlabel(\"num_topics\")\n",
        "    plt.ylabel(\"Coherence score\")\n",
        "    plt.legend((\"c_v\"), loc='best')\n",
        "    plt.show()\n",
        "    \n",
        "    return lm_list, c_v"
      ],
      "metadata": {
        "id": "bJZNVNLpr77U"
      },
      "execution_count": 48,
      "outputs": []
    },
    {
      "cell_type": "code",
      "source": [
        "lsimodel = LsiModel(corpus=corpus, num_topics=10, id2word=dictionary)"
      ],
      "metadata": {
        "id": "ASKrD_d4ru3d"
      },
      "execution_count": 49,
      "outputs": []
    },
    {
      "cell_type": "code",
      "source": [
        "display_topics(lsimodel)  # Showing the topics"
      ],
      "metadata": {
        "id": "S1M6X0SFsRc_",
        "colab": {
          "base_uri": "https://localhost:8080/"
        },
        "outputId": "e4e0d852-1577-4be9-802a-421e56b0245b"
      },
      "execution_count": 50,
      "outputs": [
        {
          "output_type": "stream",
          "name": "stdout",
          "text": [
            "Topic 0:\n",
            "tic agua mar sue tierra tarde sol corazon dia sombra \n",
            "\n",
            "Topic 1:\n",
            "tic luna sombra tierra sue tiempo agua tarde amor vida \n",
            "\n",
            "Topic 2:\n",
            "luna sombra ora tierra noche castilla tic mar abril espa \n",
            "\n",
            "Topic 3:\n",
            "tarde fuente verano luna agua espa pena clara hermano castilla \n",
            "\n",
            "Topic 4:\n",
            "espa tierra campo guerra paz sol alma ana bajo hoy \n",
            "\n",
            "Topic 5:\n",
            "claro mar tierra agua castilla dos bajo casa amor sue \n",
            "\n",
            "Topic 6:\n",
            "corazon mar claro guerra castilla tierra espa paz amor dios \n",
            "\n",
            "Topic 7:\n",
            "claro castilla mar corazon tiempo tierra tan siempre glu camino \n",
            "\n",
            "Topic 8:\n",
            "claro dios guerra paz castilla agua ana ayer fuente alma \n",
            "\n",
            "Topic 9:\n",
            "mar tiempo castilla poeta dios corazon campo alma viejo espa \n",
            "\n"
          ]
        }
      ]
    },
    {
      "cell_type": "markdown",
      "source": [
        "It seen that with 10 topics there is some themes with keywords related to: trump, venezuela, police, electiones, terrorism; still is a little difficult to gt some insight, because of this we are trying to select the best number of topics by iterate over a range of values and looking the coherence."
      ],
      "metadata": {
        "id": "Zs5Dmy8MsS9x"
      }
    },
    {
      "cell_type": "code",
      "source": [
        "lmlist_lsi, c_v = evaluate_graph(dictionary=dictionary, corpus=corpus, texts=df_news['texto'].to_list(), limit=21, model= \"lsi\") #HY: text -> texto"
      ],
      "metadata": {
        "id": "4ejOEzZdsfvi",
        "outputId": "bfeae484-d621-485d-b662-603cb802ae70",
        "colab": {
          "base_uri": "https://localhost:8080/",
          "height": 280
        }
      },
      "execution_count": 51,
      "outputs": [
        {
          "output_type": "display_data",
          "data": {
            "text/plain": [
              "<Figure size 432x288 with 1 Axes>"
            ],
            "image/png": "[encoded data removed]"
          },
          "metadata": {
            "needs_background": "light"
          }
        }
      ]
    },
    {
      "cell_type": "markdown",
      "source": [
        "According to the coherence the best number of topics are between 3-7, however you must select the topics using both the coherence and visual inspection."
      ],
      "metadata": {
        "id": "5Avv8IO7sia5"
      }
    },
    {
      "cell_type": "code",
      "source": [
        "display_topics(lmlist_lsi[8])"
      ],
      "metadata": {
        "id": "oysyAPPrskTu",
        "colab": {
          "base_uri": "https://localhost:8080/"
        },
        "outputId": "e4889f1b-cf69-457a-cebf-a0b238d00a85"
      },
      "execution_count": 52,
      "outputs": [
        {
          "output_type": "stream",
          "name": "stdout",
          "text": [
            "Topic 0:\n",
            "tic agua mar sue tierra tarde sol corazon dia sombra \n",
            "\n",
            "Topic 1:\n",
            "tic luna sombra tierra sue tiempo agua tarde amor vida \n",
            "\n",
            "Topic 2:\n",
            "luna sombra ora tierra noche castilla tic mar abril espa \n",
            "\n",
            "Topic 3:\n",
            "tarde fuente verano luna agua espa pena clara hermano castilla \n",
            "\n",
            "Topic 4:\n",
            "espa tierra campo guerra paz sol alma ana hoy bajo \n",
            "\n",
            "Topic 5:\n",
            "claro mar tierra agua castilla dos bajo casa amor sue \n",
            "\n",
            "Topic 6:\n",
            "corazon mar claro guerra castilla tierra espa paz amor dios \n",
            "\n",
            "Topic 7:\n",
            "claro castilla mar corazon tiempo tierra tan siempre glu camino \n",
            "\n",
            "Topic 8:\n",
            "claro dios guerra paz castilla agua ana ayer fuente alma \n",
            "\n"
          ]
        }
      ]
    },
    {
      "cell_type": "markdown",
      "source": [
        "Now, Let's try another model!"
      ],
      "metadata": {
        "id": "XV78W8jXsVkV"
      }
    },
    {
      "cell_type": "markdown",
      "source": [
        "##**Model#3: Latent Dirichlet Allocation Model**"
      ],
      "metadata": {
        "id": "xCQopweArvSX"
      }
    },
    {
      "cell_type": "code",
      "source": [
        "ldamodel = LdaModel(corpus=corpus, num_topics=10, id2word=dictionary)"
      ],
      "metadata": {
        "id": "yjux73SDrwcn",
        "colab": {
          "base_uri": "https://localhost:8080/"
        },
        "outputId": "2a8e85e2-5d06-4287-98a8-cb982fffdefb"
      },
      "execution_count": 53,
      "outputs": [
        {
          "output_type": "stream",
          "name": "stderr",
          "text": [
            "WARNING:gensim.models.ldamodel:too few updates, training might not converge; consider increasing the number of passes or iterations to improve accuracy\n"
          ]
        }
      ]
    },
    {
      "cell_type": "code",
      "source": [
        "display_topics(ldamodel)"
      ],
      "metadata": {
        "id": "Nsxk56oVsoVJ",
        "outputId": "a21f9a70-1a53-4d7b-dba0-df45a7a5b31b",
        "colab": {
          "base_uri": "https://localhost:8080/"
        }
      },
      "execution_count": 54,
      "outputs": [
        {
          "output_type": "stream",
          "name": "stdout",
          "text": [
            "Topic 0:\n",
            "mar tierra bajo tarde campo sue sol espa corazon ojos \n",
            "\n",
            "Topic 1:\n",
            "tierra mano sol dios ana ojos noche tarde azul luna \n",
            "\n",
            "Topic 2:\n",
            "luna mar sue agua mano espa tarde hoy noche sombra \n",
            "\n",
            "Topic 3:\n",
            "tierra sue verde sierra agua huerto mano mar castilla alma \n",
            "\n",
            "Topic 4:\n",
            "claro tierra sol campo viento tarde agua sue fuente dos \n",
            "\n",
            "Topic 5:\n",
            "sombra sue tarde sol dia tierra bajo corazon luz ojos \n",
            "\n",
            "Topic 6:\n",
            "amor corazon tierra mar sue espa hoy ojos dia luz \n",
            "\n",
            "Topic 7:\n",
            "tarde sol agua tierra campo alma sue piedra mejor plaza \n",
            "\n",
            "Topic 8:\n",
            "mar corazon sue agua alma sol tarde dia sombra tierra \n",
            "\n",
            "Topic 9:\n",
            "amor agua tierra capitan corazon luna sue ana olvido mano \n",
            "\n"
          ]
        }
      ]
    },
    {
      "cell_type": "markdown",
      "source": [
        "Find out the optimal number of topics for the LDA model based on the coherence metric:"
      ],
      "metadata": {
        "id": "YhF7YmIjsox0"
      }
    },
    {
      "cell_type": "code",
      "source": [
        "lmlist, c_v = evaluate_graph(dictionary=dictionary, corpus=corpus, texts=df_news['texto'].to_list(), limit=21, model= \"lda\")"
      ],
      "metadata": {
        "id": "nu3IgpL6sqjM",
        "colab": {
          "base_uri": "https://localhost:8080/",
          "height": 657
        },
        "outputId": "25234a8e-b340-436c-aed6-17e38d88af4a"
      },
      "execution_count": 55,
      "outputs": [
        {
          "output_type": "stream",
          "name": "stderr",
          "text": [
            "WARNING:gensim.models.ldamodel:too few updates, training might not converge; consider increasing the number of passes or iterations to improve accuracy\n",
            "WARNING:gensim.models.ldamodel:too few updates, training might not converge; consider increasing the number of passes or iterations to improve accuracy\n",
            "WARNING:gensim.models.ldamodel:too few updates, training might not converge; consider increasing the number of passes or iterations to improve accuracy\n",
            "WARNING:gensim.models.ldamodel:too few updates, training might not converge; consider increasing the number of passes or iterations to improve accuracy\n",
            "WARNING:gensim.models.ldamodel:too few updates, training might not converge; consider increasing the number of passes or iterations to improve accuracy\n",
            "WARNING:gensim.models.ldamodel:too few updates, training might not converge; consider increasing the number of passes or iterations to improve accuracy\n",
            "WARNING:gensim.models.ldamodel:too few updates, training might not converge; consider increasing the number of passes or iterations to improve accuracy\n",
            "WARNING:gensim.models.ldamodel:too few updates, training might not converge; consider increasing the number of passes or iterations to improve accuracy\n",
            "WARNING:gensim.models.ldamodel:too few updates, training might not converge; consider increasing the number of passes or iterations to improve accuracy\n",
            "WARNING:gensim.models.ldamodel:too few updates, training might not converge; consider increasing the number of passes or iterations to improve accuracy\n",
            "WARNING:gensim.models.ldamodel:too few updates, training might not converge; consider increasing the number of passes or iterations to improve accuracy\n",
            "WARNING:gensim.models.ldamodel:too few updates, training might not converge; consider increasing the number of passes or iterations to improve accuracy\n",
            "WARNING:gensim.models.ldamodel:too few updates, training might not converge; consider increasing the number of passes or iterations to improve accuracy\n",
            "WARNING:gensim.models.ldamodel:too few updates, training might not converge; consider increasing the number of passes or iterations to improve accuracy\n",
            "WARNING:gensim.models.ldamodel:too few updates, training might not converge; consider increasing the number of passes or iterations to improve accuracy\n",
            "WARNING:gensim.models.ldamodel:too few updates, training might not converge; consider increasing the number of passes or iterations to improve accuracy\n",
            "WARNING:gensim.models.ldamodel:too few updates, training might not converge; consider increasing the number of passes or iterations to improve accuracy\n",
            "WARNING:gensim.models.ldamodel:too few updates, training might not converge; consider increasing the number of passes or iterations to improve accuracy\n",
            "WARNING:gensim.models.ldamodel:too few updates, training might not converge; consider increasing the number of passes or iterations to improve accuracy\n",
            "WARNING:gensim.models.ldamodel:too few updates, training might not converge; consider increasing the number of passes or iterations to improve accuracy\n"
          ]
        },
        {
          "output_type": "display_data",
          "data": {
            "text/plain": [
              "<Figure size 432x288 with 1 Axes>"
            ],
            "image/png": "[encoded data removed]"
          },
          "metadata": {
            "needs_background": "light"
          }
        }
      ]
    },
    {
      "cell_type": "markdown",
      "source": [
        "For this model it seems that 9 or 18, again we must to check the keywords too."
      ],
      "metadata": {
        "id": "CclenWNKssXw"
      }
    },
    {
      "cell_type": "markdown",
      "source": [
        "##**Comparing the Model Coherence of the Best Models**"
      ],
      "metadata": {
        "id": "Ik-yrJhTsu6U"
      }
    },
    {
      "cell_type": "code",
      "source": [
        "ldamodel = lmlist[5]\n",
        "lsimodel = lmlist_lsi[2]\n",
        "\n",
        "lsitopics = [[word for word, prob in topic] for topicid, topic in lsimodel.show_topics(formatted=False)]\n",
        "\n",
        "hdptopics = [[word for word, prob in topic] for topicid, topic in hdpmodel.show_topics(formatted=False)]\n",
        "\n",
        "ldatopics = [[word for word, prob in topic] for topicid, topic in ldamodel.show_topics(formatted=False)]"
      ],
      "metadata": {
        "id": "H2VUKYGosy72"
      },
      "execution_count": 56,
      "outputs": []
    },
    {
      "cell_type": "code",
      "source": [
        "lsi_coherence = CoherenceModel(topics=lsitopics[:10], texts=df_news['texto'].to_list(), dictionary=dictionary, window_size=10).get_coherence() #HY: text -> texto\n",
        "\n",
        "hdp_coherence = CoherenceModel(topics=hdptopics[:10], texts=df_news['texto'].to_list(), dictionary=dictionary, window_size=10).get_coherence() #HY: text -> texto\n",
        "\n",
        "lda_coherence = CoherenceModel(topics=ldatopics, texts=df_news['texto'].to_list(), dictionary=dictionary, window_size=10).get_coherence() #HY: text -> texto"
      ],
      "metadata": {
        "id": "YyicIxDts0LC"
      },
      "execution_count": 57,
      "outputs": []
    },
    {
      "cell_type": "code",
      "source": [
        "import seaborn as sns\n",
        "\n",
        "coherences = [lsi_coherence, hdp_coherence, lda_coherence]\n",
        "n = len(coherences)\n",
        "x = ['lsi_coherence','hdp_coherence', 'lda_coherence']\n",
        "sns.barplot(x, coherences)\n"
      ],
      "metadata": {
        "id": "ioSpCKlKs2E4",
        "colab": {
          "base_uri": "https://localhost:8080/",
          "height": 340
        },
        "outputId": "dcb61248-3143-4f90-e5e8-45f9cd5edf0e"
      },
      "execution_count": 58,
      "outputs": [
        {
          "output_type": "stream",
          "name": "stderr",
          "text": [
            "/usr/local/lib/python3.8/dist-packages/seaborn/_decorators.py:36: FutureWarning: Pass the following variables as keyword args: x, y. From version 0.12, the only valid positional argument will be `data`, and passing other arguments without an explicit keyword will result in an error or misinterpretation.\n",
            "  warnings.warn(\n"
          ]
        },
        {
          "output_type": "execute_result",
          "data": {
            "text/plain": [
              "<AxesSubplot:>"
            ]
          },
          "metadata": {},
          "execution_count": 58
        },
        {
          "output_type": "display_data",
          "data": {
            "text/plain": [
              "<Figure size 432x288 with 1 Axes>"
            ],
            "image/png": "[encoded data removed]"
          },
          "metadata": {
            "needs_background": "light"
          }
        }
      ]
    },
    {
      "cell_type": "markdown",
      "source": [
        "We can see that the **LdaModel** model **with 8 topics** has the higher value of\n",
        "coherence ?????? **[HY: 실제 결과에 따라 수정 필요]**"
      ],
      "metadata": {
        "id": "PZvMKdJts3o-"
      }
    },
    {
      "cell_type": "markdown",
      "source": [
        "Examine the keyword to get the topics of the best model"
      ],
      "metadata": {
        "id": "DZPL5Osus9TX"
      }
    },
    {
      "cell_type": "code",
      "source": [
        "display_topics(ldamodel)"
      ],
      "metadata": {
        "id": "M_eiibhUs-d9",
        "colab": {
          "base_uri": "https://localhost:8080/"
        },
        "outputId": "ca2bd473-2593-4ac2-c526-7b871e3c37b0"
      },
      "execution_count": 59,
      "outputs": [
        {
          "output_type": "stream",
          "name": "stdout",
          "text": [
            "Topic 0:\n",
            "sue tierra sombra dia alma amor ojos dios sol tarde \n",
            "\n",
            "Topic 1:\n",
            "mar corazon tierra ojos sue bajo agua espa sol ana \n",
            "\n",
            "Topic 2:\n",
            "claro tierra tarde amor viento mano sol agua hoy piedra \n",
            "\n",
            "Topic 3:\n",
            "agua mar tierra sue sol tarde luz corazon amor dia \n",
            "\n",
            "Topic 4:\n",
            "campo sol luna camino amor bajo dia tarde dios mar \n",
            "\n",
            "Topic 5:\n",
            "corazon fuente tierra sue agua tarde espa luna noche mar \n",
            "\n"
          ]
        }
      ]
    },
    {
      "cell_type": "markdown",
      "source": [
        "Let´s check the keyword when we selecting another number of topics (14)"
      ],
      "metadata": {
        "id": "hceAuHSFtP3m"
      }
    },
    {
      "cell_type": "code",
      "source": [
        "ldamodel_16 =lmlist[16]"
      ],
      "metadata": {
        "id": "E5voqDNXtSpt"
      },
      "execution_count": null,
      "outputs": []
    },
    {
      "cell_type": "code",
      "source": [
        "display_topics(ldamodel_16)"
      ],
      "metadata": {
        "id": "d7wm18zVtT-I"
      },
      "execution_count": null,
      "outputs": []
    },
    {
      "cell_type": "markdown",
      "source": [
        "##**Classifiying all documents**\n",
        "\n",
        "*  now that we have been select the best model and topics number, is time to assign a topic to each document, means cluster according to the topics\n",
        "\n"
      ],
      "metadata": {
        "id": "hRdD9frctVus"
      }
    },
    {
      "cell_type": "code",
      "source": [
        "def format_topics_sentences(ldamodel=0, corpus=corpus, texts=0):\n",
        "    # Init output\n",
        "    sent_topics_df = pd.DataFrame()-n\n",
        "\n",
        "    # Get main topic in each document\n",
        "    for i, row in enumerate(ldamodel[corpus]):\n",
        "        row = sorted(row, key=lambda x: (x[1]), reverse=True)\n",
        "        # Get the Dominant topic, Perc Contribution and Keywords for each document\n",
        "        for j, (topic_num, prop_topic) in enumerate(row):\n",
        "            if j == 0:  # => dominant topic\n",
        "                wp = ldamodel.show_topic(topic_num)\n",
        "                topic_keywords = \", \".join([word for word, prop in wp])\n",
        "                sent_topics_df = sent_topics_df.append(pd.Series([int(topic_num), round(prop_topic,4), topic_keywords]), ignore_index=True)\n",
        "            else:\n",
        "                break\n",
        "    sent_topics_df.columns = ['Dominant_Topic', 'Perc_Contribution', 'Topic_Keywords']\n",
        "\n",
        "    # Add original text to the end of the output\n",
        "    contents = pd.Series(texts)\n",
        "    sent_topics_df = pd.concat([sent_topics_df, contents], axis=1)\n",
        "    return(sent_topics_df)\n",
        "\n",
        "\n",
        "df_topic_sents_keywords = format_topics_sentences(ldamodel, corpus=corpus, texts=df_news['texto'].to_list()) #HY: text -> texto\n",
        " \n"
      ],
      "metadata": {
        "id": "1GIyFKV4te4z"
      },
      "execution_count": 60,
      "outputs": []
    },
    {
      "cell_type": "code",
      "source": [
        "# Format\n",
        "df_dominant_topic = df_topic_sents_keywords.reset_index()\n",
        "df_dominant_topic.columns = ['Document_No', 'Dominant_Topic', 'Topic_Perc_Contrib', 'Keywords', 'Text']\n",
        "\n",
        "# Show\n",
        "df_dominant_topic.head(500)"
      ],
      "metadata": {
        "id": "dtTKmIW1tgG5"
      },
      "execution_count": null,
      "outputs": []
    },
    {
      "cell_type": "markdown",
      "source": [
        "We selected the ldamodel with 12 topics and asigned a dominant topic to each document, now let map each topic with a label "
      ],
      "metadata": {
        "id": "hwQ9x2rBthmK"
      }
    },
    {
      "cell_type": "markdown",
      "source": [
        "first let's create the dictionary"
      ],
      "metadata": {
        "id": "-UlgNzJytkn1"
      }
    },
    {
      "cell_type": "code",
      "source": [
        "label_dicc = {0:'TEMA1', 1:'TEMA2', 2:'TEMA3', 3: 'TEMA4', 4:'TEMA5', 5:'TEMA6', 6:'TEMA7', \n",
        "              7:'TEMA8', 8:'TEMA9', 9: 'TEMA10', 10:'TEMA11', 11:'TEMA12'}   #HY: 다시 설정 필요!!"
      ],
      "metadata": {
        "id": "66DsHVBOtiQT"
      },
      "execution_count": null,
      "outputs": []
    },
    {
      "cell_type": "code",
      "source": [
        "df_dominant_topic['Dominant_Topic'] = df_dominant_topic['Dominant_Topic'].astype('int64')"
      ],
      "metadata": {
        "id": "zLtttUbmton-"
      },
      "execution_count": null,
      "outputs": []
    },
    {
      "cell_type": "code",
      "source": [
        "df_dominant_topic['Dominant_Topic'] = df_dominant_topic['Dominant_Topic'].map(label_dicc)\n",
        "#df_dominant_topic.head(10)\n",
        "df_dominant_topic"
      ],
      "metadata": {
        "id": "sTZd2n-JtqLM",
        "colab": {
          "base_uri": "https://localhost:8080/",
          "height": 424
        },
        "outputId": "74a35e85-d1b2-428a-ff2f-8b0f4b697d2e"
      },
      "execution_count": null,
      "outputs": [
        {
          "output_type": "execute_result",
          "data": {
            "text/plain": [
              "     Document_No Dominant_Topic  Topic_Perc_Contrib  \\\n",
              "0              0          TEMA5              0.9917   \n",
              "1              1          TEMA5              0.9853   \n",
              "2              2          TEMA6              0.9678   \n",
              "3              3          TEMA3              0.3996   \n",
              "4              4          TEMA3              0.9814   \n",
              "..           ...            ...                 ...   \n",
              "561          561          TEMA4              0.9635   \n",
              "562          562          TEMA4              0.9711   \n",
              "563          563          TEMA4              0.9559   \n",
              "564          564          TEMA4              0.9804   \n",
              "565          565          TEMA1              0.9873   \n",
              "\n",
              "                                              Keywords  \\\n",
              "0    sue, mano, tarde, tierra, sol, corazon, agua, ...   \n",
              "1    sue, mano, tarde, tierra, sol, corazon, agua, ...   \n",
              "2    tarde, agua, alma, espa, tierra, sombra, alto,...   \n",
              "3    tarde, tierra, viento, corazon, piedra, camino...   \n",
              "4    tarde, tierra, viento, corazon, piedra, camino...   \n",
              "..                                                 ...   \n",
              "561  tierra, hoy, agua, sue, sol, dios, dia, sombra...   \n",
              "562  tierra, hoy, agua, sue, sol, dios, dia, sombra...   \n",
              "563  tierra, hoy, agua, sue, sol, dios, dia, sombra...   \n",
              "564  tierra, hoy, agua, sue, sol, dios, dia, sombra...   \n",
              "565  mar, sue, corazon, ojos, sol, campo, claro, ti...   \n",
              "\n",
              "                                                  Text  \n",
              "0    [sala, familiar, sombria, querido, hermano, su...  \n",
              "1    [andado, caminos, abierto, muchas, veredas, na...  \n",
              "2    [plaza, naranjos, encendidos, frutas, redondas...  \n",
              "3    [tierra, dieron, tarde, horrible, mes, julio, ...  \n",
              "4    [tarde, parda, fria, invierno, colegiales, est...  \n",
              "..                                                 ...  \n",
              "561  [angel, sabiasu, secreto, salio, martin, paso,...  \n",
              "562  [vio, musa, esquivade, pie, junto, lecho, enlu...  \n",
              "563  [vivi, dormi, creado, penso, martin, turbia, p...  \n",
              "564  [sucedio, angustia, fatigaque, esperar, desesp...  \n",
              "565  [camaras, tiempo, galeriasdel, alma, tan, desn...  \n",
              "\n",
              "[566 rows x 5 columns]"
            ],
            "text/html": [
              "\n",
              "  <div id=\"df-47e15a49-0df3-492a-b906-7e6be5931ef4\">\n",
              "    <div class=\"colab-df-container\">\n",
              "      <div>\n",
              "<style scoped>\n",
              "    .dataframe tbody tr th:only-of-type {\n",
              "        vertical-align: middle;\n",
              "    }\n",
              "\n",
              "    .dataframe tbody tr th {\n",
              "        vertical-align: top;\n",
              "    }\n",
              "\n",
              "    .dataframe thead th {\n",
              "        text-align: right;\n",
              "    }\n",
              "</style>\n",
              "<table border=\"1\" class=\"dataframe\">\n",
              "  <thead>\n",
              "    <tr style=\"text-align: right;\">\n",
              "      <th></th>\n",
              "      <th>Document_No</th>\n",
              "      <th>Dominant_Topic</th>\n",
              "      <th>Topic_Perc_Contrib</th>\n",
              "      <th>Keywords</th>\n",
              "      <th>Text</th>\n",
              "    </tr>\n",
              "  </thead>\n",
              "  <tbody>\n",
              "    <tr>\n",
              "      <th>0</th>\n",
              "      <td>0</td>\n",
              "      <td>TEMA5</td>\n",
              "      <td>0.9917</td>\n",
              "      <td>sue, mano, tarde, tierra, sol, corazon, agua, ...</td>\n",
              "      <td>[sala, familiar, sombria, querido, hermano, su...</td>\n",
              "    </tr>\n",
              "    <tr>\n",
              "      <th>1</th>\n",
              "      <td>1</td>\n",
              "      <td>TEMA5</td>\n",
              "      <td>0.9853</td>\n",
              "      <td>sue, mano, tarde, tierra, sol, corazon, agua, ...</td>\n",
              "      <td>[andado, caminos, abierto, muchas, veredas, na...</td>\n",
              "    </tr>\n",
              "    <tr>\n",
              "      <th>2</th>\n",
              "      <td>2</td>\n",
              "      <td>TEMA6</td>\n",
              "      <td>0.9678</td>\n",
              "      <td>tarde, agua, alma, espa, tierra, sombra, alto,...</td>\n",
              "      <td>[plaza, naranjos, encendidos, frutas, redondas...</td>\n",
              "    </tr>\n",
              "    <tr>\n",
              "      <th>3</th>\n",
              "      <td>3</td>\n",
              "      <td>TEMA3</td>\n",
              "      <td>0.3996</td>\n",
              "      <td>tarde, tierra, viento, corazon, piedra, camino...</td>\n",
              "      <td>[tierra, dieron, tarde, horrible, mes, julio, ...</td>\n",
              "    </tr>\n",
              "    <tr>\n",
              "      <th>4</th>\n",
              "      <td>4</td>\n",
              "      <td>TEMA3</td>\n",
              "      <td>0.9814</td>\n",
              "      <td>tarde, tierra, viento, corazon, piedra, camino...</td>\n",
              "      <td>[tarde, parda, fria, invierno, colegiales, est...</td>\n",
              "    </tr>\n",
              "    <tr>\n",
              "      <th>...</th>\n",
              "      <td>...</td>\n",
              "      <td>...</td>\n",
              "      <td>...</td>\n",
              "      <td>...</td>\n",
              "      <td>...</td>\n",
              "    </tr>\n",
              "    <tr>\n",
              "      <th>561</th>\n",
              "      <td>561</td>\n",
              "      <td>TEMA4</td>\n",
              "      <td>0.9635</td>\n",
              "      <td>tierra, hoy, agua, sue, sol, dios, dia, sombra...</td>\n",
              "      <td>[angel, sabiasu, secreto, salio, martin, paso,...</td>\n",
              "    </tr>\n",
              "    <tr>\n",
              "      <th>562</th>\n",
              "      <td>562</td>\n",
              "      <td>TEMA4</td>\n",
              "      <td>0.9711</td>\n",
              "      <td>tierra, hoy, agua, sue, sol, dios, dia, sombra...</td>\n",
              "      <td>[vio, musa, esquivade, pie, junto, lecho, enlu...</td>\n",
              "    </tr>\n",
              "    <tr>\n",
              "      <th>563</th>\n",
              "      <td>563</td>\n",
              "      <td>TEMA4</td>\n",
              "      <td>0.9559</td>\n",
              "      <td>tierra, hoy, agua, sue, sol, dios, dia, sombra...</td>\n",
              "      <td>[vivi, dormi, creado, penso, martin, turbia, p...</td>\n",
              "    </tr>\n",
              "    <tr>\n",
              "      <th>564</th>\n",
              "      <td>564</td>\n",
              "      <td>TEMA4</td>\n",
              "      <td>0.9804</td>\n",
              "      <td>tierra, hoy, agua, sue, sol, dios, dia, sombra...</td>\n",
              "      <td>[sucedio, angustia, fatigaque, esperar, desesp...</td>\n",
              "    </tr>\n",
              "    <tr>\n",
              "      <th>565</th>\n",
              "      <td>565</td>\n",
              "      <td>TEMA1</td>\n",
              "      <td>0.9873</td>\n",
              "      <td>mar, sue, corazon, ojos, sol, campo, claro, ti...</td>\n",
              "      <td>[camaras, tiempo, galeriasdel, alma, tan, desn...</td>\n",
              "    </tr>\n",
              "  </tbody>\n",
              "</table>\n",
              "<p>566 rows × 5 columns</p>\n",
              "</div>\n",
              "      <button class=\"colab-df-convert\" onclick=\"convertToInteractive('df-47e15a49-0df3-492a-b906-7e6be5931ef4')\"\n",
              "              title=\"Convert this dataframe to an interactive table.\"\n",
              "              style=\"display:none;\">\n",
              "        \n",
              "  <svg xmlns=\"http://www.w3.org/2000/svg\" height=\"24px\"viewBox=\"0 0 24 24\"\n",
              "       width=\"24px\">\n",
              "    <path d=\"M0 0h24v24H0V0z\" fill=\"none\"/>\n",
              "    <path d=\"M18.56 5.44l.94 2.06.94-2.06 2.06-.94-2.06-.94-.94-2.06-.94 2.06-2.06.94zm-11 1L8.5 8.5l.94-2.06 2.06-.94-2.06-.94L8.5 2.5l-.94 2.06-2.06.94zm10 10l.94 2.06.94-2.06 2.06-.94-2.06-.94-.94-2.06-.94 2.06-2.06.94z\"/><path d=\"M17.41 7.96l-1.37-1.37c-.4-.4-.92-.59-1.43-.59-.52 0-1.04.2-1.43.59L10.3 9.45l-7.72 7.72c-.78.78-.78 2.05 0 2.83L4 21.41c.39.39.9.59 1.41.59.51 0 1.02-.2 1.41-.59l7.78-7.78 2.81-2.81c.8-.78.8-2.07 0-2.86zM5.41 20L4 18.59l7.72-7.72 1.47 1.35L5.41 20z\"/>\n",
              "  </svg>\n",
              "      </button>\n",
              "      \n",
              "  <style>\n",
              "    .colab-df-container {\n",
              "      display:flex;\n",
              "      flex-wrap:wrap;\n",
              "      gap: 12px;\n",
              "    }\n",
              "\n",
              "    .colab-df-convert {\n",
              "      background-color: #E8F0FE;\n",
              "      border: none;\n",
              "      border-radius: 50%;\n",
              "      cursor: pointer;\n",
              "      display: none;\n",
              "      fill: #1967D2;\n",
              "      height: 32px;\n",
              "      padding: 0 0 0 0;\n",
              "      width: 32px;\n",
              "    }\n",
              "\n",
              "    .colab-df-convert:hover {\n",
              "      background-color: #E2EBFA;\n",
              "      box-shadow: 0px 1px 2px rgba(60, 64, 67, 0.3), 0px 1px 3px 1px rgba(60, 64, 67, 0.15);\n",
              "      fill: #174EA6;\n",
              "    }\n",
              "\n",
              "    [theme=dark] .colab-df-convert {\n",
              "      background-color: #3B4455;\n",
              "      fill: #D2E3FC;\n",
              "    }\n",
              "\n",
              "    [theme=dark] .colab-df-convert:hover {\n",
              "      background-color: #434B5C;\n",
              "      box-shadow: 0px 1px 3px 1px rgba(0, 0, 0, 0.15);\n",
              "      filter: drop-shadow(0px 1px 2px rgba(0, 0, 0, 0.3));\n",
              "      fill: #FFFFFF;\n",
              "    }\n",
              "  </style>\n",
              "\n",
              "      <script>\n",
              "        const buttonEl =\n",
              "          document.querySelector('#df-47e15a49-0df3-492a-b906-7e6be5931ef4 button.colab-df-convert');\n",
              "        buttonEl.style.display =\n",
              "          google.colab.kernel.accessAllowed ? 'block' : 'none';\n",
              "\n",
              "        async function convertToInteractive(key) {\n",
              "          const element = document.querySelector('#df-47e15a49-0df3-492a-b906-7e6be5931ef4');\n",
              "          const dataTable =\n",
              "            await google.colab.kernel.invokeFunction('convertToInteractive',\n",
              "                                                     [key], {});\n",
              "          if (!dataTable) return;\n",
              "\n",
              "          const docLinkHtml = 'Like what you see? Visit the ' +\n",
              "            '<a target=\"_blank\" href=https://colab.research.google.com/notebooks/data_table.ipynb>data table notebook</a>'\n",
              "            + ' to learn more about interactive tables.';\n",
              "          element.innerHTML = '';\n",
              "          dataTable['output_type'] = 'display_data';\n",
              "          await google.colab.output.renderOutput(dataTable, element);\n",
              "          const docLink = document.createElement('div');\n",
              "          docLink.innerHTML = docLinkHtml;\n",
              "          element.appendChild(docLink);\n",
              "        }\n",
              "      </script>\n",
              "    </div>\n",
              "  </div>\n",
              "  "
            ]
          },
          "metadata": {},
          "execution_count": 140
        }
      ]
    },
    {
      "cell_type": "code",
      "source": [
        "df_news['labels'] = df_dominant_topic['Dominant_Topic']"
      ],
      "metadata": {
        "id": "te0icoK0tqlD"
      },
      "execution_count": null,
      "outputs": []
    },
    {
      "cell_type": "markdown",
      "source": [
        "Let's examine some text and its topics."
      ],
      "metadata": {
        "id": "Mufi6S8ltsNq"
      }
    },
    {
      "cell_type": "code",
      "source": [
        "#df_news[['texto2', 'labels']].head(10)\n",
        "df_news[['texto2', 'labels']]"
      ],
      "metadata": {
        "id": "u0QGKVmVtuZt",
        "colab": {
          "base_uri": "https://localhost:8080/",
          "height": 424
        },
        "outputId": "12db8115-3e9e-45ff-a6e1-d49c23ff2529"
      },
      "execution_count": null,
      "outputs": [
        {
          "output_type": "execute_result",
          "data": {
            "text/plain": [
              "                                                texto2 labels\n",
              "0    [sala, familiar, sombria, querido, hermano, su...  TEMA5\n",
              "1    [andado, caminos, abierto, muchas, veredas, na...  TEMA5\n",
              "2    [plaza, naranjos, encendidos, frutas, redondas...  TEMA6\n",
              "3    [tierra, dieron, tarde, horrible, mes, julio, ...  TEMA3\n",
              "4    [tarde, parda, fria, invierno, colegiales, est...  TEMA3\n",
              "..                                                 ...    ...\n",
              "561  [angel, sabiasu, secreto, salio, martin, paso,...  TEMA4\n",
              "562  [vio, musa, esquivade, pie, junto, lecho, enlu...  TEMA4\n",
              "563  [vivi, dormi, creado, penso, martin, turbia, p...  TEMA4\n",
              "564  [sucedio, angustia, fatigaque, esperar, desesp...  TEMA4\n",
              "565  [camaras, tiempo, galeriasdel, alma, tan, desn...  TEMA1\n",
              "\n",
              "[566 rows x 2 columns]"
            ],
            "text/html": [
              "\n",
              "  <div id=\"df-2ce5e061-0a77-45d3-8439-e93eb22d9001\">\n",
              "    <div class=\"colab-df-container\">\n",
              "      <div>\n",
              "<style scoped>\n",
              "    .dataframe tbody tr th:only-of-type {\n",
              "        vertical-align: middle;\n",
              "    }\n",
              "\n",
              "    .dataframe tbody tr th {\n",
              "        vertical-align: top;\n",
              "    }\n",
              "\n",
              "    .dataframe thead th {\n",
              "        text-align: right;\n",
              "    }\n",
              "</style>\n",
              "<table border=\"1\" class=\"dataframe\">\n",
              "  <thead>\n",
              "    <tr style=\"text-align: right;\">\n",
              "      <th></th>\n",
              "      <th>texto2</th>\n",
              "      <th>labels</th>\n",
              "    </tr>\n",
              "  </thead>\n",
              "  <tbody>\n",
              "    <tr>\n",
              "      <th>0</th>\n",
              "      <td>[sala, familiar, sombria, querido, hermano, su...</td>\n",
              "      <td>TEMA5</td>\n",
              "    </tr>\n",
              "    <tr>\n",
              "      <th>1</th>\n",
              "      <td>[andado, caminos, abierto, muchas, veredas, na...</td>\n",
              "      <td>TEMA5</td>\n",
              "    </tr>\n",
              "    <tr>\n",
              "      <th>2</th>\n",
              "      <td>[plaza, naranjos, encendidos, frutas, redondas...</td>\n",
              "      <td>TEMA6</td>\n",
              "    </tr>\n",
              "    <tr>\n",
              "      <th>3</th>\n",
              "      <td>[tierra, dieron, tarde, horrible, mes, julio, ...</td>\n",
              "      <td>TEMA3</td>\n",
              "    </tr>\n",
              "    <tr>\n",
              "      <th>4</th>\n",
              "      <td>[tarde, parda, fria, invierno, colegiales, est...</td>\n",
              "      <td>TEMA3</td>\n",
              "    </tr>\n",
              "    <tr>\n",
              "      <th>...</th>\n",
              "      <td>...</td>\n",
              "      <td>...</td>\n",
              "    </tr>\n",
              "    <tr>\n",
              "      <th>561</th>\n",
              "      <td>[angel, sabiasu, secreto, salio, martin, paso,...</td>\n",
              "      <td>TEMA4</td>\n",
              "    </tr>\n",
              "    <tr>\n",
              "      <th>562</th>\n",
              "      <td>[vio, musa, esquivade, pie, junto, lecho, enlu...</td>\n",
              "      <td>TEMA4</td>\n",
              "    </tr>\n",
              "    <tr>\n",
              "      <th>563</th>\n",
              "      <td>[vivi, dormi, creado, penso, martin, turbia, p...</td>\n",
              "      <td>TEMA4</td>\n",
              "    </tr>\n",
              "    <tr>\n",
              "      <th>564</th>\n",
              "      <td>[sucedio, angustia, fatigaque, esperar, desesp...</td>\n",
              "      <td>TEMA4</td>\n",
              "    </tr>\n",
              "    <tr>\n",
              "      <th>565</th>\n",
              "      <td>[camaras, tiempo, galeriasdel, alma, tan, desn...</td>\n",
              "      <td>TEMA1</td>\n",
              "    </tr>\n",
              "  </tbody>\n",
              "</table>\n",
              "<p>566 rows × 2 columns</p>\n",
              "</div>\n",
              "      <button class=\"colab-df-convert\" onclick=\"convertToInteractive('df-2ce5e061-0a77-45d3-8439-e93eb22d9001')\"\n",
              "              title=\"Convert this dataframe to an interactive table.\"\n",
              "              style=\"display:none;\">\n",
              "        \n",
              "  <svg xmlns=\"http://www.w3.org/2000/svg\" height=\"24px\"viewBox=\"0 0 24 24\"\n",
              "       width=\"24px\">\n",
              "    <path d=\"M0 0h24v24H0V0z\" fill=\"none\"/>\n",
              "    <path d=\"M18.56 5.44l.94 2.06.94-2.06 2.06-.94-2.06-.94-.94-2.06-.94 2.06-2.06.94zm-11 1L8.5 8.5l.94-2.06 2.06-.94-2.06-.94L8.5 2.5l-.94 2.06-2.06.94zm10 10l.94 2.06.94-2.06 2.06-.94-2.06-.94-.94-2.06-.94 2.06-2.06.94z\"/><path d=\"M17.41 7.96l-1.37-1.37c-.4-.4-.92-.59-1.43-.59-.52 0-1.04.2-1.43.59L10.3 9.45l-7.72 7.72c-.78.78-.78 2.05 0 2.83L4 21.41c.39.39.9.59 1.41.59.51 0 1.02-.2 1.41-.59l7.78-7.78 2.81-2.81c.8-.78.8-2.07 0-2.86zM5.41 20L4 18.59l7.72-7.72 1.47 1.35L5.41 20z\"/>\n",
              "  </svg>\n",
              "      </button>\n",
              "      \n",
              "  <style>\n",
              "    .colab-df-container {\n",
              "      display:flex;\n",
              "      flex-wrap:wrap;\n",
              "      gap: 12px;\n",
              "    }\n",
              "\n",
              "    .colab-df-convert {\n",
              "      background-color: #E8F0FE;\n",
              "      border: none;\n",
              "      border-radius: 50%;\n",
              "      cursor: pointer;\n",
              "      display: none;\n",
              "      fill: #1967D2;\n",
              "      height: 32px;\n",
              "      padding: 0 0 0 0;\n",
              "      width: 32px;\n",
              "    }\n",
              "\n",
              "    .colab-df-convert:hover {\n",
              "      background-color: #E2EBFA;\n",
              "      box-shadow: 0px 1px 2px rgba(60, 64, 67, 0.3), 0px 1px 3px 1px rgba(60, 64, 67, 0.15);\n",
              "      fill: #174EA6;\n",
              "    }\n",
              "\n",
              "    [theme=dark] .colab-df-convert {\n",
              "      background-color: #3B4455;\n",
              "      fill: #D2E3FC;\n",
              "    }\n",
              "\n",
              "    [theme=dark] .colab-df-convert:hover {\n",
              "      background-color: #434B5C;\n",
              "      box-shadow: 0px 1px 3px 1px rgba(0, 0, 0, 0.15);\n",
              "      filter: drop-shadow(0px 1px 2px rgba(0, 0, 0, 0.3));\n",
              "      fill: #FFFFFF;\n",
              "    }\n",
              "  </style>\n",
              "\n",
              "      <script>\n",
              "        const buttonEl =\n",
              "          document.querySelector('#df-2ce5e061-0a77-45d3-8439-e93eb22d9001 button.colab-df-convert');\n",
              "        buttonEl.style.display =\n",
              "          google.colab.kernel.accessAllowed ? 'block' : 'none';\n",
              "\n",
              "        async function convertToInteractive(key) {\n",
              "          const element = document.querySelector('#df-2ce5e061-0a77-45d3-8439-e93eb22d9001');\n",
              "          const dataTable =\n",
              "            await google.colab.kernel.invokeFunction('convertToInteractive',\n",
              "                                                     [key], {});\n",
              "          if (!dataTable) return;\n",
              "\n",
              "          const docLinkHtml = 'Like what you see? Visit the ' +\n",
              "            '<a target=\"_blank\" href=https://colab.research.google.com/notebooks/data_table.ipynb>data table notebook</a>'\n",
              "            + ' to learn more about interactive tables.';\n",
              "          element.innerHTML = '';\n",
              "          dataTable['output_type'] = 'display_data';\n",
              "          await google.colab.output.renderOutput(dataTable, element);\n",
              "          const docLink = document.createElement('div');\n",
              "          docLink.innerHTML = docLinkHtml;\n",
              "          element.appendChild(docLink);\n",
              "        }\n",
              "      </script>\n",
              "    </div>\n",
              "  </div>\n",
              "  "
            ]
          },
          "metadata": {},
          "execution_count": 142
        }
      ]
    },
    {
      "cell_type": "code",
      "source": [
        "#df_news[ df_news['labels'] == 'family'].head().texto2 #HY: text -> texto\n",
        "df_news[ df_news['labels'] == 'TEMA5'].head().texto2 #HY: text -> texto"
      ],
      "metadata": {
        "id": "rVm-DEq9tv0X",
        "colab": {
          "base_uri": "https://localhost:8080/"
        },
        "outputId": "de9dc02e-7ca1-4a54-8137-f33340a52514"
      },
      "execution_count": null,
      "outputs": [
        {
          "output_type": "execute_result",
          "data": {
            "text/plain": [
              "0     [sala, familiar, sombria, querido, hermano, su...\n",
              "1     [andado, caminos, abierto, muchas, veredas, na...\n",
              "14    [calle, sombra, ocultan, altos, caserones, sol...\n",
              "18    [verdes, jardinillos, claras, plazoletas, fuen...\n",
              "19    [mientras, sombra, pasa, santo, amor, hoy, qui...\n",
              "Name: texto2, dtype: object"
            ]
          },
          "metadata": {},
          "execution_count": 143
        }
      ]
    },
    {
      "cell_type": "markdown",
      "source": [
        "**Let's see the distribution of topics.**"
      ],
      "metadata": {
        "id": "05B66e98txav"
      }
    },
    {
      "cell_type": "code",
      "source": [
        "ax = df_dominant_topic['Dominant_Topic'].value_counts().plot(kind='bar')\n",
        "plt.show()"
      ],
      "metadata": {
        "id": "iLLKhG7wt39F",
        "colab": {
          "base_uri": "https://localhost:8080/",
          "height": 289
        },
        "outputId": "dd297417-bab8-456d-f567-776a763c2ef6"
      },
      "execution_count": null,
      "outputs": [
        {
          "output_type": "display_data",
          "data": {
            "text/plain": [
              "<Figure size 432x288 with 1 Axes>"
            ],
            "image/png": "[encoded data removed]"
          },
          "metadata": {
            "needs_background": "light"
          }
        }
      ]
    },
    {
      "cell_type": "markdown",
      "source": [
        "The topis are almost balanced, so we are good"
      ],
      "metadata": {
        "id": "0cd5OnF1t6IE"
      }
    },
    {
      "cell_type": "markdown",
      "source": [
        "finally that we have our models set up, as well as analyzed, we can go ahead to visualizing them."
      ],
      "metadata": {
        "id": "hAeUQrHXt8ce"
      }
    },
    {
      "cell_type": "code",
      "source": [
        "!pip install pyLDAvis==2.1.2"
      ],
      "metadata": {
        "id": "XE8T7LFVuwnz",
        "colab": {
          "base_uri": "https://localhost:8080/"
        },
        "outputId": "f05c78c4-49b3-4588-a787-c02a1ef43ed2"
      },
      "execution_count": null,
      "outputs": [
        {
          "output_type": "stream",
          "name": "stdout",
          "text": [
            "  Building wheel for pyLDAvis (setup.py) ... \u001b[?25l\u001b[?25hdone\n",
            "  Created wheel for pyLDAvis: filename=pyLDAvis-2.1.2-py2.py3-none-any.whl size=97738 sha256=c4ad6a47cc74f50baf5eccb3e374f6fe50686bf577b9e5fd6007b6330be066d9\n",
            "  Stored in directory: /root/.cache/pip/wheels/31/8c/a0/24a443892f2134e691d59c8c6c35e19821e02f85e49871f8fd\n",
            "Successfully built pyLDAvis\n",
            "\u001b[31mERROR: Operation cancelled by user\u001b[0m\u001b[31m\n",
            "\u001b[0m"
          ]
        }
      ]
    },
    {
      "cell_type": "code",
      "source": [
        "!pip install pyLDAvis"
      ],
      "metadata": {
        "id": "LAYmBzj5uzNM",
        "colab": {
          "base_uri": "https://localhost:8080/"
        },
        "outputId": "bec6a5f2-855f-401b-e895-914bf667a707"
      },
      "execution_count": null,
      "outputs": [
        {
          "output_type": "stream",
          "name": "stdout",
          "text": [
            "Looking in indexes: https://pypi.org/simple, https://us-python.pkg.dev/colab-wheels/public/simple/\n",
            "Collecting pyLDAvis\n",
            "  Downloading pyLDAvis-3.4.0-py3-none-any.whl (2.6 MB)\n",
            "\u001b[2K     \u001b[90m━━━━━━━━━━━━━━━━━━━━━━━━━━━━━━━━━━━━━━━━\u001b[0m \u001b[32m2.6/2.6 MB\u001b[0m \u001b[31m29.7 MB/s\u001b[0m eta \u001b[36m0:00:00\u001b[0m\n",
            "\u001b[?25hRequirement already satisfied: gensim in /usr/local/lib/python3.8/dist-packages (from pyLDAvis) (3.6.0)\n",
            "Requirement already satisfied: scipy in /usr/local/lib/python3.8/dist-packages (from pyLDAvis) (1.7.3)\n",
            "Requirement already satisfied: numpy>=1.22.0 in /usr/local/lib/python3.8/dist-packages (from pyLDAvis) (1.22.4)\n",
            "Requirement already satisfied: jinja2 in /usr/local/lib/python3.8/dist-packages (from pyLDAvis) (2.11.3)\n",
            "Requirement already satisfied: setuptools in /usr/local/lib/python3.8/dist-packages (from pyLDAvis) (57.4.0)\n",
            "Requirement already satisfied: joblib>=1.2.0 in /usr/local/lib/python3.8/dist-packages (from pyLDAvis) (1.2.0)\n",
            "Requirement already satisfied: numexpr in /usr/local/lib/python3.8/dist-packages (from pyLDAvis) (2.8.4)\n",
            "Collecting funcy\n",
            "  Downloading funcy-1.18-py2.py3-none-any.whl (33 kB)\n",
            "Requirement already satisfied: scikit-learn>=1.0.0 in /usr/local/lib/python3.8/dist-packages (from pyLDAvis) (1.0.2)\n",
            "Requirement already satisfied: pandas>=1.3.4 in /usr/local/lib/python3.8/dist-packages (from pyLDAvis) (1.3.5)\n",
            "Requirement already satisfied: pytz>=2017.3 in /usr/local/lib/python3.8/dist-packages (from pandas>=1.3.4->pyLDAvis) (2022.7.1)\n",
            "Requirement already satisfied: python-dateutil>=2.7.3 in /usr/local/lib/python3.8/dist-packages (from pandas>=1.3.4->pyLDAvis) (2.8.2)\n",
            "Requirement already satisfied: threadpoolctl>=2.0.0 in /usr/local/lib/python3.8/dist-packages (from scikit-learn>=1.0.0->pyLDAvis) (3.1.0)\n",
            "Requirement already satisfied: smart-open>=1.2.1 in /usr/local/lib/python3.8/dist-packages (from gensim->pyLDAvis) (6.3.0)\n",
            "Requirement already satisfied: six>=1.5.0 in /usr/local/lib/python3.8/dist-packages (from gensim->pyLDAvis) (1.15.0)\n",
            "Requirement already satisfied: MarkupSafe>=0.23 in /usr/local/lib/python3.8/dist-packages (from jinja2->pyLDAvis) (2.0.1)\n",
            "Installing collected packages: funcy, pyLDAvis\n",
            "Successfully installed funcy-1.18 pyLDAvis-3.4.0\n"
          ]
        }
      ]
    },
    {
      "cell_type": "markdown",
      "source": [
        "**A new error happened!**"
      ],
      "metadata": {
        "id": "WeCNmVVlvEiJ"
      }
    },
    {
      "cell_type": "code",
      "source": [
        "import pyLDAvis\n",
        "pyLDAvis.enable_notebook()"
      ],
      "metadata": {
        "id": "G4bc0HDGu1IC"
      },
      "execution_count": null,
      "outputs": []
    },
    {
      "cell_type": "code",
      "source": [
        "import pyLDAvis.gensim\n",
        "pyLDAvis.gensim.prepare(ldamodel, corpus, dictionary)"
      ],
      "metadata": {
        "id": "uRubllieu2jZ",
        "colab": {
          "base_uri": "https://localhost:8080/",
          "height": 896
        },
        "outputId": "d334c27c-c24b-4902-882b-12a584aab1ab"
      },
      "execution_count": null,
      "outputs": [
        {
          "output_type": "stream",
          "name": "stderr",
          "text": [
            "/usr/local/lib/python3.8/dist-packages/pyLDAvis/_prepare.py:243: FutureWarning: In a future version of pandas all arguments of DataFrame.drop except for the argument 'labels' will be keyword-only\n",
            "  default_term_info = default_term_info.sort_values(\n"
          ]
        },
        {
          "output_type": "execute_result",
          "data": {
            "text/plain": [
              "PreparedData(topic_coordinates=              x         y  topics  cluster       Freq\n",
              "topic                                                \n",
              "0     -0.009682  0.008497       1        1  34.372328\n",
              "3      0.004137  0.002464       2        1  22.617267\n",
              "2     -0.010050 -0.065758       3        1  13.887592\n",
              "4      0.003749  0.006577       4        1  13.818474\n",
              "5     -0.048083  0.032433       5        1   8.085525\n",
              "1      0.059929  0.015786       6        1   7.218814, topic_info=       Term        Freq       Total Category  logprob  loglift\n",
              "78    tarde   85.000000   85.000000  Default  30.0000  30.0000\n",
              "94     agua   97.000000   97.000000  Default  29.0000  29.0000\n",
              "534    amor   73.000000   73.000000  Default  28.0000  28.0000\n",
              "1      alma   61.000000   61.000000  Default  27.0000  27.0000\n",
              "80   tierra  122.000000  122.000000  Default  26.0000  26.0000\n",
              "..      ...         ...         ...      ...      ...      ...\n",
              "40      mar    3.696544  106.425635   Topic6  -5.6835  -0.7316\n",
              "369     ana    3.232025   45.687651   Topic6  -5.8177  -0.0202\n",
              "161   cielo    3.127349   38.467358   Topic6  -5.8507   0.1189\n",
              "1      alma    3.254756   61.524564   Topic6  -5.8107  -0.3108\n",
              "96     bajo    3.185466   61.592794   Topic6  -5.8323  -0.3335\n",
              "\n",
              "[477 rows x 6 columns], token_table=      Topic      Freq     Term\n",
              "term                          \n",
              "533       1  0.088764      aba\n",
              "533       2  0.177527      aba\n",
              "533       3  0.088764      aba\n",
              "533       4  0.355055      aba\n",
              "533       5  0.088764      aba\n",
              "...     ...       ...      ...\n",
              "671       5  0.075526      voz\n",
              "1399      2  0.279268  vueltas\n",
              "1399      6  0.558535  vueltas\n",
              "1074      3  0.318845   yertos\n",
              "1074      4  0.637691   yertos\n",
              "\n",
              "[1109 rows x 3 columns], R=30, lambda_step=0.01, plot_opts={'xlab': 'PC1', 'ylab': 'PC2'}, topic_order=[1, 4, 3, 5, 6, 2])"
            ],
            "text/html": [
              "\n",
              "<link rel=\"stylesheet\" type=\"text/css\" href=\"https://cdn.jsdelivr.net/gh/bmabey/pyLDAvis@3.4.0/pyLDAvis/js/ldavis.v1.0.0.css\">\n",
              "\n",
              "\n",
              "<div id=\"ldavis_el391140022128283424674783847\" style=\"background-color:white;\"></div>\n",
              "<script type=\"text/javascript\">\n",
              "\n",
              "var ldavis_el391140022128283424674783847_data = {\"mdsDat\": {\"x\": [-0.009682039241327286, 0.004137247709734743, -0.01004987361662961, 0.00374877256065268, -0.048082826922438565, 0.05992871951000801], \"y\": [0.008497235432024677, 0.002464058618808421, -0.06575758681981043, 0.006577415368620347, 0.03243294091816037, 0.015785936482196648], \"topics\": [1, 2, 3, 4, 5, 6], \"cluster\": [1, 1, 1, 1, 1, 1], \"Freq\": [34.37232795424613, 22.617266767621906, 13.88759244430453, 13.81847438208025, 8.085524579833919, 7.2188138719132615]}, \"tinfo\": {\"Term\": [\"tarde\", \"agua\", \"amor\", \"alma\", \"tierra\", \"mano\", \"alto\", \"dos\", \"espa\", \"piedra\", \"casa\", \"sombra\", \"hoy\", \"viento\", \"vino\", \"ana\", \"tic\", \"vieja\", \"ojos\", \"balcon\", \"azul\", \"soria\", \"ayer\", \"sol\", \"corazon\", \"mar\", \"jardin\", \"don\", \"aire\", \"triste\", \"esquiva\", \"mason\", \"pez\", \"miente\", \"belleza\", \"verdad\", \"beda\", \"pescar\", \"pescador\", \"propio\", \"fiebreque\", \"olivarse\", \"lechuzavolar\", \"lunaen\", \"mientes\", \"ciegos\", \"dices\", \"prefiere\", \"abanicarascon\", \"alicun\", \"gracias\", \"iman\", \"bate\", \"demos\", \"supremo\", \"pintado\", \"ciegoy\", \"playa\", \"entrado\", \"repele\", \"claro\", \"mar\", \"tiempo\", \"ojos\", \"pensamiento\", \"arena\", \"mariposa\", \"vanidad\", \"conmigo\", \"jamas\", \"rie\", \"dijo\", \"hombre\", \"campo\", \"mundo\", \"alamos\", \"amarga\", \"flor\", \"piensa\", \"lejos\", \"nadie\", \"sue\", \"corazon\", \"negra\", \"amor\", \"sol\", \"blanca\", \"verde\", \"bien\", \"frente\", \"agua\", \"viejo\", \"luna\", \"noche\", \"cielo\", \"poeta\", \"camino\", \"rio\", \"tierra\", \"espa\", \"bajo\", \"dia\", \"dios\", \"luz\", \"alma\", \"sombra\", \"magina\", \"hablaba\", \"arbolillo\", \"aznaitin\", \"hoguera\", \"consejo\", \"oveja\", \"ultima\", \"plumas\", \"quise\", \"placer\", \"trajo\", \"troncos\", \"desden\", \"ermita\", \"guerra\", \"garras\", \"piedad\", \"cantarillo\", \"dolores\", \"ardia\", \"altar\", \"barca\", \"corcel\", \"esperas\", \"peor\", \"cuca\", \"hierros\", \"evocar\", \"manso\", \"doce\", \"europa\", \"lino\", \"martin\", \"todavia\", \"paz\", \"orilla\", \"hoy\", \"fiesta\", \"encinar\", \"ventana\", \"clara\", \"siempre\", \"hora\", \"tierra\", \"dios\", \"olivares\", \"verdes\", \"alegria\", \"primavera\", \"abril\", \"dia\", \"noche\", \"agua\", \"sombra\", \"sol\", \"alma\", \"sue\", \"bajo\", \"castilla\", \"vida\", \"paso\", \"luna\", \"tarde\", \"campos\", \"oro\", \"montes\", \"fuente\", \"campo\", \"mar\", \"luz\", \"ojos\", \"corazon\", \"solo\", \"espa\", \"amor\", \"laurel\", \"viajeros\", \"santas\", \"cincel\", \"ultimas\", \"cantando\", \"conservan\", \"sienta\", \"fiestas\", \"linea\", \"perfumadas\", \"gentio\", \"llevar\", \"velada\", \"jardinero\", \"quema\", \"humedo\", \"saber\", \"habra\", \"arboleda\", \"atrio\", \"martillo\", \"ahorca\", \"fortaleza\", \"hundida\", \"moncayo\", \"marchitas\", \"alameda\", \"vea\", \"mire\", \"rostros\", \"urbion\", \"sombras\", \"piedra\", \"fria\", \"mil\", \"viento\", \"tarde\", \"sed\", \"camino\", \"alegre\", \"hermosa\", \"parque\", \"horas\", \"visto\", \"verano\", \"pobres\", \"tierra\", \"jardin\", \"corazon\", \"campos\", \"hojas\", \"blanca\", \"sierra\", \"azul\", \"sombra\", \"viejo\", \"dos\", \"mano\", \"fuente\", \"ana\", \"bajo\", \"sue\", \"luz\", \"campo\", \"agua\", \"dia\", \"hoy\", \"mar\", \"montes\", \"sol\", \"tan\", \"espa\", \"lucia\", \"purpurino\", \"manchada\", \"graves\", \"mirador\", \"encontraremos\", \"letra\", \"joya\", \"despertar\", \"cantor\", \"perdida\", \"loba\", \"dante\", \"amarguras\", \"moda\", \"arrebol\", \"yertos\", \"mula\", \"prisa\", \"anoche\", \"ocultan\", \"pesa\", \"danzar\", \"enorme\", \"distancia\", \"claras\", \"ves\", \"negrean\", \"broto\", \"ruido\", \"querido\", \"abejas\", \"hijos\", \"bendita\", \"dormia\", \"aroma\", \"mano\", \"vive\", \"sonar\", \"tenia\", \"ocaso\", \"tarde\", \"vino\", \"luz\", \"ana\", \"aba\", \"violeta\", \"sue\", \"fuente\", \"amor\", \"dia\", \"corazon\", \"sol\", \"monte\", \"alma\", \"viejas\", \"rostro\", \"dentro\", \"tras\", \"agua\", \"tierra\", \"azul\", \"solo\", \"voz\", \"luna\", \"oro\", \"lleva\", \"padre\", \"vez\", \"sombra\", \"verde\", \"viento\", \"vieja\", \"dos\", \"bajo\", \"espa\", \"campo\", \"dios\", \"noche\", \"blanca\", \"flauta\", \"brillar\", \"hacienda\", \"calavera\", \"quimerica\", \"rincones\", \"supe\", \"indiano\", \"habeis\", \"raza\", \"acero\", \"sedas\", \"colegiales\", \"manoque\", \"doncella\", \"cuento\", \"huecos\", \"cantos\", \"guitarra\", \"maravilla\", \"salas\", \"alzo\", \"suene\", \"cuerpos\", \"aleluyas\", \"naranjos\", \"puerto\", \"rienda\", \"jesus\", \"lagrima\", \"cain\", \"palabra\", \"alcores\", \"juan\", \"alto\", \"cerrado\", \"galan\", \"verso\", \"mozo\", \"vino\", \"espa\", \"alma\", \"hizo\", \"tarde\", \"veces\", \"soria\", \"plaza\", \"triste\", \"sombra\", \"agua\", \"grises\", \"brota\", \"ojos\", \"bajo\", \"tierra\", \"vieja\", \"rio\", \"pobre\", \"dos\", \"dios\", \"corazon\", \"sue\", \"mano\", \"ana\", \"campos\", \"amor\", \"duero\", \"sol\", \"aire\", \"azul\", \"mar\", \"cielo\", \"noche\", \"devocion\", \"glorieta\", \"vueltas\", \"encuentro\", \"guitarra\", \"insolita\", \"inventa\", \"gitanos\", \"siniestra\", \"non\", \"eses\", \"siete\", \"dira\", \"vicio\", \"pinta\", \"coger\", \"galgo\", \"comer\", \"abierta\", \"desenga\", \"palacios\", \"empolvadas\", \"colmenas\", \"penso\", \"cuento\", \"garabatos\", \"dedos\", \"juntos\", \"saeta\", \"estancia\", \"mujer\", \"pla\", \"torres\", \"capitan\", \"balcon\", \"casa\", \"cig\", \"muerte\", \"tic\", \"dos\", \"cantar\", \"amor\", \"puerta\", \"agua\", \"don\", \"caminos\", \"tierra\", \"ayer\", \"luna\", \"sol\", \"tan\", \"jardin\", \"vez\", \"hoy\", \"tarde\", \"aire\", \"sue\", \"castilla\", \"alvargonzalez\", \"azul\", \"poeta\", \"sombra\", \"noche\", \"vieja\", \"mar\", \"ana\", \"cielo\", \"alma\", \"bajo\"], \"Freq\": [85.0, 97.0, 73.0, 61.0, 122.0, 55.0, 28.0, 44.0, 52.0, 39.0, 29.0, 65.0, 55.0, 52.0, 17.0, 45.0, 24.0, 33.0, 67.0, 19.0, 37.0, 24.0, 35.0, 92.0, 91.0, 106.0, 22.0, 14.0, 27.0, 24.0, 4.175739882609564, 4.17528662129499, 4.930194695984343, 3.081030986078513, 3.0360873409131472, 21.89599458992303, 4.575162185780799, 2.1717461734444288, 2.171711237688621, 2.1712251488104, 2.170887085138899, 2.1708417590074416, 2.1705277889606354, 2.1703082358056025, 2.1698253092156228, 2.169674272305816, 6.485111701429551, 2.1690138058188655, 2.168524404067249, 2.168548045936481, 2.1680910199930485, 2.8826401651261793, 2.1589739924084745, 2.157157031936166, 2.146555234729765, 4.313959586419007, 2.134800406996556, 2.829770620947097, 2.069492830239008, 2.0969192055699013, 37.733273799115, 72.47161849287232, 27.890567922991174, 40.743827620087345, 6.609893186065379, 6.588633573975161, 5.119424819657343, 5.354138888029493, 13.28123475255279, 6.047159475986749, 5.820100554520806, 12.655376348113975, 22.34017260798701, 38.24711371425952, 15.105424516951365, 10.332211230326433, 4.5376996110832195, 22.782770084271, 7.08090608097399, 15.197194724052007, 13.275831757214943, 49.3405148295739, 41.42568683640466, 17.106844575243617, 33.21797674144346, 38.88405518605801, 23.081957487645635, 18.553351111692606, 14.27953240752633, 11.8702639031664, 33.51421267579296, 18.803754948466114, 23.048137266661318, 22.496108956375277, 17.114699096894174, 14.6443424118014, 21.007067534889803, 17.76816036246477, 34.099639568631154, 19.97648924154995, 21.25071190525514, 21.668736293712737, 19.88643570520882, 19.1689191290242, 19.254847836817547, 18.974311308319283, 3.0939459269294516, 2.190966714757343, 2.673897572630146, 2.0361006745505916, 3.2340066998930093, 2.5303140857965727, 2.5272487539929385, 1.80017694063338, 1.8021687721538306, 1.786556744775351, 2.9535722396319186, 2.861567894889059, 3.4407089118872234, 4.169941994231165, 2.2377484976353346, 11.88875107601053, 2.2032979968546504, 2.8720141604285585, 2.2008577010290784, 2.755183561028852, 2.0732506807507938, 2.1223734750456678, 2.1212761940657914, 1.541607443773531, 1.5947713711263123, 1.577832975389821, 2.2004193435200508, 1.5575428886270255, 1.5824182900570367, 2.1251897040514502, 2.204187394910942, 3.7046381814365668, 3.6120749903214384, 5.377767542681348, 7.9148230596452365, 8.184714942545224, 4.620270309628746, 24.81316259062817, 6.771294966221741, 4.9018408926743104, 8.927693663922247, 14.89370131267364, 15.280324708737117, 7.773431756701746, 39.946494056970984, 21.27666701418918, 7.660381495386222, 11.046112210935515, 7.379524333241426, 12.801013479481414, 10.997437880945764, 19.736760682919037, 17.690564904450103, 24.732312978013766, 17.88267329922921, 22.252761563721474, 16.766247273136013, 24.29454681564388, 15.984238086967846, 9.709685410912838, 10.744825052262385, 8.6200475469536, 14.071680311630828, 17.28584915434314, 11.50226560798787, 10.898698050209761, 10.326387840163981, 12.065538360600696, 13.04212437786463, 14.845280643448607, 11.50974860054704, 12.098231269723348, 12.36265676314367, 10.114543845199952, 10.298854549533663, 10.345457580841517, 1.5890105815358837, 2.0283468311026813, 1.5207151048415148, 2.4401698076885503, 1.490592216669707, 1.8829837449567628, 1.447414194925248, 1.338395530808009, 1.338392245365029, 1.4030726396334985, 1.4008431623637376, 1.2988211532805554, 1.6693626605030643, 1.747067524209703, 1.6684126807494881, 1.2775730983798286, 1.6521923270730807, 3.770542530105015, 1.586955111061001, 1.6433138433097996, 2.0936536498327123, 1.668939081724763, 1.6680051641368678, 2.47666426494666, 1.184523512392547, 3.588867267944852, 1.4690032057974776, 1.9196607268248846, 1.5987891549926714, 1.165351249039951, 2.228087405697254, 3.742228825867647, 5.18397198115982, 14.018945284540218, 5.288662256675232, 4.477762362069857, 15.305582190004026, 20.88127875452592, 6.2483464787165905, 13.37469765986028, 4.13483512477915, 4.363701516442571, 2.9295078223866455, 2.6640715299596427, 6.812385002040526, 4.859321541484989, 3.4802334873885923, 18.582629038161016, 6.094968371895821, 15.0771343881129, 8.897527650991448, 5.580278662331635, 8.993007978051796, 6.429667399767184, 7.453338422558967, 9.817882930264282, 7.667971788499792, 7.643238487012421, 8.355289380355064, 7.735050312777673, 7.418515160630127, 8.219064693017083, 9.987257007174218, 7.540161242317223, 8.047001420186303, 8.785115854374084, 7.691954548790793, 7.034465372069844, 8.145334485218067, 5.967344244181611, 6.778988839195834, 5.896724742469495, 6.129989733868061, 2.3566783367423563, 1.6951252562390104, 1.695018586995924, 1.694675453471625, 1.694656081077875, 1.6936490798352521, 1.6747543366685427, 1.6381681181419276, 2.051338415410614, 1.5191346868992952, 1.5117251095222606, 1.5082378364923188, 1.502333251954746, 1.9912853266373414, 1.403512855273518, 1.9260478220641566, 1.824630556000726, 1.3469252455872185, 1.2925665508793303, 3.243125657368197, 1.2774018410517436, 1.7898464544027153, 1.3150290835875051, 1.772761213889727, 3.1377219159033767, 2.1014344570287125, 3.196450296176524, 1.1960670880468263, 1.7036663024885124, 1.2098665284248737, 1.6074659009845258, 4.062822973778813, 4.959731871339557, 3.610790686027717, 3.402967036045437, 6.5183421692932955, 17.340952236010846, 3.3423835069157946, 2.4459857983951316, 3.9395857330924064, 3.620740589612696, 17.265585875365414, 5.738861457998066, 12.106604091207533, 10.24876440922068, 4.1679482370834755, 3.3448343568801056, 17.676902476707138, 10.251740977520384, 12.967635315543072, 12.094870232313092, 14.28199217706745, 14.31245429761981, 5.857055338126553, 10.702091983648893, 4.825227888603008, 4.775316853345223, 4.7818758615591666, 6.250252455283953, 13.197494579106259, 14.435938778481452, 7.230899493449238, 7.181767712730051, 6.138709117929879, 8.490110414614705, 6.971262439142912, 6.165893429459722, 4.568808104588732, 5.8868389405878165, 7.985084217295417, 6.457311380022947, 7.12755455313021, 6.124390981709173, 6.664197890457566, 7.2772450396373145, 6.6710479688876045, 6.9446651111436974, 6.651314764303899, 6.402986829159044, 6.32327088180687, 2.012187025829733, 1.5368924512361812, 1.1196661339336818, 2.360728625326309, 1.0765045195977363, 1.2851685452171664, 0.9806108621452096, 1.553954564256585, 0.8643427877303603, 2.0239014477274138, 1.480758839024607, 0.848916281526637, 1.1085709004787518, 0.8724938297317618, 1.421102512153154, 0.7383659943929697, 0.8097949072023205, 0.8041560416517134, 1.3777037783986863, 0.7813410728971343, 0.7865443811770284, 0.816968424932203, 1.0892610767348752, 0.8019878902670514, 0.7384280549279639, 1.3610213965056446, 1.9099645398696254, 0.7779236344415951, 2.5757627114525965, 0.7390112539280468, 1.5225271376736438, 3.4683380125848076, 1.250727357037587, 3.0710851275093938, 7.261194246613213, 1.6357290957711235, 1.635025176278312, 2.6896571120946353, 1.4221310450835722, 3.908146855017096, 8.43986663039882, 8.458607211678451, 3.1251395701079416, 10.188283630338292, 2.828957508827263, 4.2287209736020195, 3.629883568844892, 4.141416253318473, 7.428160889788549, 8.992127178570609, 2.9601891858663234, 2.5527983298346584, 6.450704629814827, 5.676067865831061, 7.821554403055348, 4.0706134009517525, 4.3369250749623935, 3.2650424357784584, 4.386156648862006, 4.78670809387958, 5.696227621353849, 6.144076278572994, 4.512714515838692, 4.197177218938644, 3.847524197440938, 4.4460544167189155, 3.5105136720514434, 4.213489788054665, 3.3470524572682487, 3.540430250495929, 4.2115710123357335, 3.380627206700135, 3.458456218448806, 1.3316463419588442, 1.2251488358132174, 1.9021443265108156, 0.994816025827583, 1.8123629848621652, 0.9354413900554854, 1.333071898430465, 1.2278971022384513, 1.2263771749151287, 0.9567775517039449, 1.2808776067978143, 1.5075848556443372, 0.9065875021476206, 1.3415631245414417, 0.8372494043770035, 0.8713325886417429, 0.8829596847833351, 0.8552548189210581, 1.7133338057566547, 0.8133628894366717, 0.8478395596722139, 0.7806221495127645, 0.8068106301212196, 1.1065757822266908, 0.7182161980115684, 0.821067206857284, 0.7742718514101035, 1.3334798689354768, 1.0345223719274463, 2.079396694976169, 2.527727816925528, 0.9888698399042273, 2.678000874515115, 2.4160445945281355, 3.9001125122338127, 5.301586959327976, 3.1791989017948445, 3.5277484078747205, 4.11405907619598, 5.948875872136614, 3.3557988969596257, 7.7266906496095675, 2.948409544351043, 7.887571952349316, 2.6369632162928505, 3.6221379819440114, 7.898004359049255, 4.115176599123507, 5.276401833156885, 6.533146308425369, 3.8591120457413073, 3.204579347798412, 3.3968833611002944, 4.5200399501680355, 5.087687454289177, 3.234182193651989, 5.3358549637191715, 3.1083959685318914, 2.986608739878284, 3.306152997830374, 3.057290736768278, 3.5924217898664064, 3.476602189306883, 3.1149961090368463, 3.6965437058992845, 3.2320253263309193, 3.1273488234161895, 3.254755545332938, 3.1854663407716814], \"Total\": [85.0, 97.0, 73.0, 61.0, 122.0, 55.0, 28.0, 44.0, 52.0, 39.0, 29.0, 65.0, 55.0, 52.0, 17.0, 45.0, 24.0, 33.0, 67.0, 19.0, 37.0, 24.0, 35.0, 92.0, 91.0, 106.0, 22.0, 14.0, 27.0, 24.0, 4.813676404802026, 4.813543142371459, 5.763657263534152, 3.789251705275714, 3.7957977986214746, 27.42980097471778, 5.767255828192924, 2.8087713396058622, 2.8087706201371523, 2.80865582549501, 2.8085801805132946, 2.808545740708632, 2.8084893648548475, 2.808426964373267, 2.8083663601479794, 2.8082412121387725, 8.39409716300987, 2.8081112323517092, 2.8080242696045623, 2.8080598067127176, 2.8079256466638736, 3.744466876113291, 2.805831220838458, 2.8053576093959918, 2.808911957898629, 5.676112811610561, 2.8093019237301475, 3.7444926216069083, 2.7693224857647065, 2.8070717920791286, 52.09961687143423, 106.42563515070748, 43.30304605525603, 67.68852875714181, 9.421172255772564, 9.5260214719446, 7.220887649266135, 7.61118933435087, 20.943753909074744, 8.800111665541039, 8.429984683006468, 20.223109477346927, 38.652605519852116, 71.7146977347927, 25.34908033516436, 16.46465584517477, 6.469592021700199, 40.6459130521743, 10.895009286834416, 26.824824220728388, 23.17416523659042, 112.7791523713913, 91.75480579651983, 32.058461056549866, 73.76097929439041, 92.97489598307516, 49.08846535790255, 37.736062330235576, 27.010745799799505, 22.288245022452667, 97.108835218207, 43.22386409325911, 58.54681131392368, 57.29270238944662, 38.467357867194735, 30.580288556521882, 53.05208350117431, 41.61760190418464, 122.78426020434921, 52.843802869913496, 61.592793931480124, 65.90289475085865, 57.956776018612445, 54.26948079180678, 61.524564234630304, 65.68053443476315, 3.854120809415656, 2.833718109155663, 3.666466971939987, 2.836098100265631, 4.67005876502931, 3.7162650386583524, 3.7493857327479123, 2.67926596488563, 2.6866468459605746, 2.732298542217253, 4.551343527554717, 4.448655926061928, 5.375185570274023, 6.531139788597301, 3.5247210684661434, 19.118710117589085, 3.609318513747455, 4.732869711078433, 3.700097589438636, 4.6673319287059245, 3.5154000744925074, 3.6066334937182813, 3.6199726749338685, 2.6334122499899353, 2.7271579365901273, 2.6988584115236303, 3.794265471062491, 2.687138837915445, 2.7427235696125916, 3.6971197323168337, 3.8411386912712357, 6.607702355403219, 6.4566904602107185, 9.853041534841775, 15.05692431597367, 15.641189167064466, 8.6053230013468, 55.368183315919694, 13.418802132502012, 9.481171099963985, 19.161057762946992, 34.900591926966655, 36.12499848660753, 16.354398433681133, 122.78426020434921, 57.956776018612445, 16.55144829817161, 26.856731580816085, 16.134894084334295, 35.50737737319866, 29.285525561642928, 65.90289475085865, 57.29270238944662, 97.108835218207, 65.68053443476315, 92.97489598307516, 61.524564234630304, 112.7791523713913, 61.592793931480124, 27.978842980169574, 33.67850421638873, 23.65991621966623, 58.54681131392368, 85.259949994423, 41.491317150664365, 37.59795417927504, 34.12197186132869, 49.13776835340394, 71.7146977347927, 106.42563515070748, 54.26948079180678, 67.68852875714181, 91.75480579651983, 37.48990776248725, 52.843802869913496, 73.76097929439041, 2.3290880433851235, 3.122269111579088, 2.383019300192186, 3.8586116244553144, 2.3890652507386014, 3.074115990729678, 2.4027072143767048, 2.2789656846635076, 2.2798322619444935, 2.4073406097532626, 2.426010168060486, 2.4313335178939104, 3.139586572035986, 3.320128742186674, 3.177277327971525, 2.462890123148815, 3.2197515761825555, 7.362911815776063, 3.129973338968795, 3.2514968924148473, 4.163564562661054, 3.3476832101407155, 3.3476477314511843, 5.025445183530386, 2.4057085152540356, 7.369964864690485, 3.0316817056301257, 3.9980306508292953, 3.3701475039616535, 2.506662053371724, 4.832214745067543, 8.30861724785825, 12.661279544313254, 39.8851633827482, 13.3070830275524, 11.207239811139793, 52.038317885733925, 85.259949994423, 18.21616857637141, 53.05208350117431, 11.199331110843437, 12.101602093282295, 7.120436727971417, 6.217676609998248, 24.46986879095178, 15.092050754294284, 9.31243689662865, 122.78426020434921, 22.442945182259358, 91.75480579651983, 41.491317150664365, 21.1842069979375, 49.08846535790255, 28.22930853128161, 37.788596221447456, 65.68053443476315, 43.22386409325911, 44.75767394356167, 55.78226103257848, 49.13776835340394, 45.687651437787295, 61.592793931480124, 112.7791523713913, 54.26948079180678, 71.7146977347927, 97.108835218207, 65.90289475085865, 55.368183315919694, 106.42563515070748, 34.12197186132869, 92.97489598307516, 33.350732086925575, 52.843802869913496, 3.1279584567295085, 2.3689653173300447, 2.3689794428614124, 2.3689505938485897, 2.3689562680119516, 2.369012293178361, 2.3744278776279337, 2.36809448917028, 3.1475588184364187, 2.3468422268737537, 2.3453889259469163, 2.349225956025939, 2.350115613169005, 3.1485866038623422, 2.313581557571479, 3.2888699613742665, 3.136317000905046, 2.3337886202604308, 2.331134013656083, 5.959114561178391, 2.362633360405967, 3.3448368648435767, 2.48294635922824, 3.351339252105036, 5.941083769564196, 4.037397446905446, 6.162890485025645, 2.3079333815274308, 3.311860900377678, 2.380520473154671, 3.1805106746759506, 8.610296064448308, 11.111289176344423, 7.856236657548008, 7.411893412258321, 16.417188216733017, 55.78226103257848, 7.679312263825026, 5.112380779323425, 9.674389718675737, 8.799982757354815, 85.259949994423, 17.808521147206797, 54.26948079180678, 45.687651437787295, 11.265871263027535, 8.06065421716373, 112.7791523713913, 49.13776835340394, 73.76097929439041, 65.90289475085865, 91.75480579651983, 92.97489598307516, 20.515627275569113, 61.524564234630304, 14.980056982982168, 14.902181405084374, 15.01293726836523, 24.323879768367853, 97.108835218207, 122.78426020434921, 37.788596221447456, 37.48990776248725, 26.480942628216447, 58.54681131392368, 37.59795417927504, 28.298958896095844, 14.31279429645257, 28.20913212209268, 65.68053443476315, 37.736062330235576, 52.038317885733925, 33.7494283976445, 44.75767394356167, 61.592793931480124, 52.843802869913496, 71.7146977347927, 57.956776018612445, 57.29270238944662, 49.08846535790255, 3.7038255356002625, 2.885683187644935, 2.2184481056857517, 4.816038822624414, 2.210455416009345, 2.8210358087970113, 2.2304514032995493, 3.832575842731403, 2.1892483584676654, 5.220472351895866, 3.821103183704002, 2.2359331164683076, 2.929106058955516, 2.362268227599382, 3.8694928569422893, 2.0534491572607165, 2.32470747724184, 2.3288555556366863, 3.9912990186320814, 2.264066547470441, 2.2840489038187495, 2.3812968377141144, 3.179249905367484, 2.3583956375997475, 2.1752225684858137, 4.0246515128435485, 5.656678364882433, 2.306243505174487, 7.668613304531039, 2.204434263941797, 4.598145150990293, 11.247606874499693, 3.8151313280011636, 10.495358620483808, 28.976325865711186, 5.278175657166596, 5.613878931703242, 10.67119841776073, 4.782803238094308, 17.808521147206797, 52.843802869913496, 61.524564234630304, 14.640755551929946, 85.259949994423, 12.95895709199744, 24.18874191257354, 19.37291320831502, 24.775586287242106, 65.68053443476315, 97.108835218207, 14.719884399318767, 12.017322258856888, 67.68852875714181, 61.592793931480124, 122.78426020434921, 33.7494283976445, 41.61760190418464, 22.408454677841995, 44.75767394356167, 57.956776018612445, 91.75480579651983, 112.7791523713913, 55.78226103257848, 45.687651437787295, 41.491317150664365, 73.76097929439041, 30.16749137533417, 92.97489598307516, 27.95284313870041, 37.788596221447456, 106.42563515070748, 38.467357867194735, 57.29270238944662, 2.0358025686920502, 2.064501180050166, 3.5807951358500434, 2.1205705838842737, 3.9912990186320814, 2.076738161580623, 3.0374473797748482, 2.821496023505143, 2.8730636634779048, 2.2689632657884395, 3.0854308621481907, 3.668106517811108, 2.2108700629839975, 3.4075262774026633, 2.177651894260845, 2.280025422309823, 2.3207124272151707, 2.290027226471716, 4.587645301151177, 2.181643850438383, 2.3052997168902856, 2.174137254507274, 2.263888874832659, 3.12599317862187, 2.0534491572607165, 2.359634656766971, 2.2898960551718615, 3.9443204627224775, 3.065658914399071, 6.18229960808403, 8.50656086518292, 3.001642539480401, 10.678679846257017, 9.544476570312188, 19.128348048143682, 29.920588205912743, 15.032735747944328, 18.33312964195816, 24.36405972273439, 44.75767394356167, 19.07598411901705, 73.76097929439041, 16.235184699992192, 97.108835218207, 14.623430270625844, 26.767520565665063, 122.78426020434921, 35.82571294003721, 58.54681131392368, 92.97489598307516, 33.350732086925575, 22.442945182259358, 28.20913212209268, 55.368183315919694, 85.259949994423, 27.95284313870041, 112.7791523713913, 27.978842980169574, 24.951010623687395, 37.788596221447456, 30.580288556521882, 65.68053443476315, 57.29270238944662, 33.7494283976445, 106.42563515070748, 45.687651437787295, 38.467357867194735, 61.524564234630304, 61.592793931480124], \"Category\": [\"Default\", \"Default\", \"Default\", \"Default\", \"Default\", \"Default\", \"Default\", \"Default\", \"Default\", \"Default\", \"Default\", \"Default\", \"Default\", \"Default\", \"Default\", \"Default\", \"Default\", \"Default\", \"Default\", \"Default\", \"Default\", \"Default\", \"Default\", \"Default\", \"Default\", \"Default\", \"Default\", \"Default\", \"Default\", \"Default\", \"Topic1\", \"Topic1\", \"Topic1\", \"Topic1\", \"Topic1\", \"Topic1\", \"Topic1\", \"Topic1\", \"Topic1\", \"Topic1\", \"Topic1\", \"Topic1\", \"Topic1\", \"Topic1\", \"Topic1\", \"Topic1\", \"Topic1\", \"Topic1\", \"Topic1\", \"Topic1\", \"Topic1\", \"Topic1\", \"Topic1\", \"Topic1\", \"Topic1\", \"Topic1\", \"Topic1\", \"Topic1\", \"Topic1\", \"Topic1\", \"Topic1\", \"Topic1\", \"Topic1\", \"Topic1\", \"Topic1\", \"Topic1\", \"Topic1\", \"Topic1\", \"Topic1\", \"Topic1\", \"Topic1\", \"Topic1\", \"Topic1\", \"Topic1\", \"Topic1\", \"Topic1\", \"Topic1\", \"Topic1\", \"Topic1\", \"Topic1\", \"Topic1\", \"Topic1\", \"Topic1\", \"Topic1\", \"Topic1\", \"Topic1\", \"Topic1\", \"Topic1\", \"Topic1\", \"Topic1\", \"Topic1\", \"Topic1\", \"Topic1\", \"Topic1\", \"Topic1\", \"Topic1\", \"Topic1\", \"Topic1\", \"Topic1\", \"Topic1\", \"Topic1\", \"Topic1\", \"Topic1\", \"Topic1\", \"Topic1\", \"Topic1\", \"Topic2\", \"Topic2\", \"Topic2\", \"Topic2\", \"Topic2\", \"Topic2\", \"Topic2\", \"Topic2\", \"Topic2\", \"Topic2\", \"Topic2\", \"Topic2\", \"Topic2\", \"Topic2\", \"Topic2\", \"Topic2\", \"Topic2\", \"Topic2\", \"Topic2\", \"Topic2\", \"Topic2\", \"Topic2\", \"Topic2\", \"Topic2\", \"Topic2\", \"Topic2\", \"Topic2\", \"Topic2\", \"Topic2\", \"Topic2\", \"Topic2\", \"Topic2\", \"Topic2\", \"Topic2\", \"Topic2\", \"Topic2\", \"Topic2\", \"Topic2\", \"Topic2\", \"Topic2\", \"Topic2\", \"Topic2\", \"Topic2\", \"Topic2\", \"Topic2\", \"Topic2\", \"Topic2\", \"Topic2\", \"Topic2\", \"Topic2\", \"Topic2\", \"Topic2\", \"Topic2\", \"Topic2\", \"Topic2\", \"Topic2\", \"Topic2\", \"Topic2\", \"Topic2\", \"Topic2\", \"Topic2\", \"Topic2\", \"Topic2\", \"Topic2\", \"Topic2\", \"Topic2\", \"Topic2\", \"Topic2\", \"Topic2\", \"Topic2\", \"Topic2\", \"Topic2\", \"Topic2\", \"Topic2\", \"Topic2\", \"Topic2\", \"Topic3\", \"Topic3\", \"Topic3\", \"Topic3\", \"Topic3\", \"Topic3\", \"Topic3\", \"Topic3\", \"Topic3\", \"Topic3\", \"Topic3\", \"Topic3\", \"Topic3\", \"Topic3\", \"Topic3\", \"Topic3\", \"Topic3\", \"Topic3\", \"Topic3\", \"Topic3\", \"Topic3\", \"Topic3\", \"Topic3\", \"Topic3\", \"Topic3\", \"Topic3\", \"Topic3\", \"Topic3\", \"Topic3\", \"Topic3\", \"Topic3\", \"Topic3\", \"Topic3\", \"Topic3\", \"Topic3\", \"Topic3\", \"Topic3\", \"Topic3\", \"Topic3\", \"Topic3\", \"Topic3\", \"Topic3\", \"Topic3\", \"Topic3\", \"Topic3\", \"Topic3\", \"Topic3\", \"Topic3\", \"Topic3\", \"Topic3\", \"Topic3\", \"Topic3\", \"Topic3\", \"Topic3\", \"Topic3\", \"Topic3\", \"Topic3\", \"Topic3\", \"Topic3\", \"Topic3\", \"Topic3\", \"Topic3\", \"Topic3\", \"Topic3\", \"Topic3\", \"Topic3\", \"Topic3\", \"Topic3\", \"Topic3\", \"Topic3\", \"Topic3\", \"Topic3\", \"Topic3\", \"Topic4\", \"Topic4\", \"Topic4\", \"Topic4\", \"Topic4\", \"Topic4\", \"Topic4\", \"Topic4\", \"Topic4\", \"Topic4\", \"Topic4\", \"Topic4\", \"Topic4\", \"Topic4\", \"Topic4\", \"Topic4\", \"Topic4\", \"Topic4\", \"Topic4\", \"Topic4\", \"Topic4\", \"Topic4\", \"Topic4\", \"Topic4\", \"Topic4\", \"Topic4\", \"Topic4\", \"Topic4\", \"Topic4\", \"Topic4\", \"Topic4\", \"Topic4\", \"Topic4\", \"Topic4\", \"Topic4\", \"Topic4\", \"Topic4\", \"Topic4\", \"Topic4\", \"Topic4\", \"Topic4\", \"Topic4\", \"Topic4\", \"Topic4\", \"Topic4\", \"Topic4\", \"Topic4\", \"Topic4\", \"Topic4\", \"Topic4\", \"Topic4\", \"Topic4\", \"Topic4\", \"Topic4\", \"Topic4\", \"Topic4\", \"Topic4\", \"Topic4\", \"Topic4\", \"Topic4\", \"Topic4\", \"Topic4\", \"Topic4\", \"Topic4\", \"Topic4\", \"Topic4\", \"Topic4\", \"Topic4\", \"Topic4\", \"Topic4\", \"Topic4\", \"Topic4\", \"Topic4\", \"Topic4\", \"Topic4\", \"Topic4\", \"Topic4\", \"Topic4\", \"Topic4\", \"Topic4\", \"Topic5\", \"Topic5\", \"Topic5\", \"Topic5\", \"Topic5\", \"Topic5\", \"Topic5\", \"Topic5\", \"Topic5\", \"Topic5\", \"Topic5\", \"Topic5\", \"Topic5\", \"Topic5\", \"Topic5\", \"Topic5\", \"Topic5\", \"Topic5\", \"Topic5\", \"Topic5\", \"Topic5\", \"Topic5\", \"Topic5\", \"Topic5\", \"Topic5\", \"Topic5\", \"Topic5\", \"Topic5\", \"Topic5\", \"Topic5\", \"Topic5\", \"Topic5\", \"Topic5\", \"Topic5\", \"Topic5\", \"Topic5\", \"Topic5\", \"Topic5\", \"Topic5\", \"Topic5\", \"Topic5\", \"Topic5\", \"Topic5\", \"Topic5\", \"Topic5\", \"Topic5\", \"Topic5\", \"Topic5\", \"Topic5\", \"Topic5\", \"Topic5\", \"Topic5\", \"Topic5\", \"Topic5\", \"Topic5\", \"Topic5\", \"Topic5\", \"Topic5\", \"Topic5\", \"Topic5\", \"Topic5\", \"Topic5\", \"Topic5\", \"Topic5\", \"Topic5\", \"Topic5\", \"Topic5\", \"Topic5\", \"Topic5\", \"Topic5\", \"Topic5\", \"Topic5\", \"Topic5\", \"Topic6\", \"Topic6\", \"Topic6\", \"Topic6\", \"Topic6\", \"Topic6\", \"Topic6\", \"Topic6\", \"Topic6\", \"Topic6\", \"Topic6\", \"Topic6\", \"Topic6\", \"Topic6\", \"Topic6\", \"Topic6\", \"Topic6\", \"Topic6\", \"Topic6\", \"Topic6\", \"Topic6\", \"Topic6\", \"Topic6\", \"Topic6\", \"Topic6\", \"Topic6\", \"Topic6\", \"Topic6\", \"Topic6\", \"Topic6\", \"Topic6\", \"Topic6\", \"Topic6\", \"Topic6\", \"Topic6\", \"Topic6\", \"Topic6\", \"Topic6\", \"Topic6\", \"Topic6\", \"Topic6\", \"Topic6\", \"Topic6\", \"Topic6\", \"Topic6\", \"Topic6\", \"Topic6\", \"Topic6\", \"Topic6\", \"Topic6\", \"Topic6\", \"Topic6\", \"Topic6\", \"Topic6\", \"Topic6\", \"Topic6\", \"Topic6\", \"Topic6\", \"Topic6\", \"Topic6\", \"Topic6\", \"Topic6\", \"Topic6\", \"Topic6\", \"Topic6\", \"Topic6\", \"Topic6\", \"Topic6\", \"Topic6\"], \"logprob\": [30.0, 29.0, 28.0, 27.0, 26.0, 25.0, 24.0, 23.0, 22.0, 21.0, 20.0, 19.0, 18.0, 17.0, 16.0, 15.0, 14.0, 13.0, 12.0, 11.0, 10.0, 9.0, 8.0, 7.0, 6.0, 5.0, 4.0, 3.0, 2.0, 1.0, -7.1221, -7.1222, -6.956, -7.4261, -7.4408, -5.4651, -7.0308, -7.7759, -7.7759, -7.7761, -7.7763, -7.7763, -7.7764, -7.7765, -7.7768, -7.7768, -6.6819, -7.7771, -7.7774, -7.7774, -7.7776, -7.4927, -7.7818, -7.7826, -7.7875, -7.0896, -7.793, -7.5112, -7.8241, -7.8109, -4.9209, -4.2682, -5.2231, -4.8441, -6.6628, -6.6661, -6.9184, -6.8735, -5.9651, -6.7518, -6.7901, -6.0133, -5.445, -4.9073, -5.8364, -6.2161, -7.039, -5.4254, -6.594, -5.8303, -5.9655, -4.6527, -4.8275, -5.7119, -5.0483, -4.8908, -5.4124, -5.6308, -5.8926, -6.0774, -5.0394, -5.6174, -5.4138, -5.4381, -5.7115, -5.8674, -5.5066, -5.674, -5.0221, -5.5569, -5.495, -5.4755, -5.5614, -5.5981, -5.5937, -5.6083, -7.0034, -7.3485, -7.1493, -7.4218, -6.9592, -7.2045, -7.2057, -7.545, -7.5439, -7.5526, -7.0499, -7.0815, -6.8972, -6.705, -7.3274, -5.6573, -7.3429, -7.0779, -7.344, -7.1194, -7.4038, -7.3803, -7.3809, -7.7001, -7.6661, -7.6768, -7.3442, -7.6898, -7.6739, -7.379, -7.3425, -6.8233, -6.8486, -6.4506, -6.0641, -6.0306, -6.6024, -4.9215, -6.2202, -6.5433, -5.9437, -5.4319, -5.4063, -6.0822, -4.4453, -5.0753, -6.0968, -5.7308, -6.1342, -5.5834, -5.7352, -5.1504, -5.2598, -4.9248, -5.249, -5.0304, -5.3135, -4.9426, -5.3613, -5.8598, -5.7585, -5.9788, -5.4887, -5.283, -5.6903, -5.7442, -5.7982, -5.6425, -5.5647, -5.4352, -5.6897, -5.6398, -5.6182, -5.8189, -5.8008, -5.7963, -7.182, -6.9379, -7.226, -6.7531, -7.246, -7.0123, -7.2754, -7.3537, -7.3537, -7.3065, -7.3081, -7.3837, -7.1327, -7.0872, -7.1333, -7.4002, -7.1431, -6.3179, -7.1833, -7.1484, -6.9062, -7.133, -7.1335, -6.7382, -7.4758, -6.3673, -7.2606, -6.993, -7.1759, -7.4921, -6.844, -6.3255, -5.9996, -5.0047, -5.9796, -6.146, -4.9169, -4.6063, -5.8128, -5.0518, -6.2257, -6.1718, -6.5703, -6.6653, -5.7264, -6.0643, -6.3981, -4.7229, -5.8377, -4.932, -5.4594, -5.9259, -5.4487, -5.7842, -5.6365, -5.361, -5.6081, -5.6113, -5.5223, -5.5994, -5.6412, -5.5387, -5.3438, -5.6249, -5.5599, -5.4721, -5.605, -5.6943, -5.5477, -5.8589, -5.7313, -5.8708, -5.832, -6.7829, -7.1124, -7.1125, -7.1127, -7.1127, -7.1133, -7.1245, -7.1466, -6.9217, -7.222, -7.2269, -7.2292, -7.2331, -6.9514, -7.3012, -6.9847, -7.0388, -7.3423, -7.3835, -6.4636, -7.3953, -7.058, -7.3663, -7.0676, -6.4967, -6.8975, -6.4781, -7.4611, -7.1074, -7.4497, -7.1655, -6.2383, -6.0388, -6.3562, -6.4155, -5.7655, -4.7871, -6.4335, -6.7457, -6.2691, -6.3535, -4.7915, -5.8929, -5.1464, -5.313, -6.2127, -6.4328, -4.7679, -5.3127, -5.0777, -5.1474, -4.9812, -4.979, -5.8725, -5.2697, -6.0663, -6.0767, -6.0753, -5.8075, -5.0601, -4.9704, -5.6618, -5.6686, -5.8256, -5.5013, -5.6984, -5.8211, -6.1209, -5.8674, -5.5626, -5.775, -5.6762, -5.8279, -5.7434, -5.6554, -5.7424, -5.7022, -5.7454, -5.7834, -5.7959, -6.405, -6.6745, -6.9912, -6.2453, -7.0305, -6.8533, -7.1238, -6.6634, -7.25, -6.3992, -6.7117, -7.268, -7.0012, -7.2406, -6.7528, -7.4076, -7.3152, -7.3222, -6.7838, -7.351, -7.3443, -7.3064, -7.0187, -7.3249, -7.4075, -6.796, -6.4572, -7.3554, -6.1581, -7.4067, -6.6839, -5.8606, -6.8805, -5.9822, -5.1217, -6.6121, -6.6126, -6.1148, -6.7521, -5.7412, -4.9713, -4.9691, -5.9648, -4.783, -6.0643, -5.6623, -5.815, -5.6832, -5.099, -4.9079, -6.019, -6.167, -5.24, -5.368, -5.0474, -5.7004, -5.6371, -5.921, -5.6258, -5.5384, -5.3644, -5.2887, -5.5973, -5.6698, -5.7568, -5.6122, -5.8485, -5.6659, -5.8962, -5.84, -5.6664, -5.8862, -5.8634, -6.7044, -6.7878, -6.3479, -6.9961, -6.3962, -7.0576, -6.7034, -6.7856, -6.7868, -7.035, -6.7433, -6.5803, -7.0889, -6.697, -7.1685, -7.1286, -7.1153, -7.1472, -6.4524, -7.1974, -7.1559, -7.2385, -7.2055, -6.8896, -7.3218, -7.188, -7.2467, -6.7031, -6.9569, -6.2588, -6.0635, -7.002, -6.0058, -6.1087, -5.6298, -5.3228, -5.8342, -5.7302, -5.5764, -5.2077, -5.7802, -4.9462, -5.9096, -4.9256, -6.0212, -5.7038, -4.9242, -5.5762, -5.3276, -5.114, -5.6404, -5.8263, -5.768, -5.4823, -5.364, -5.8171, -5.3164, -5.8567, -5.8967, -5.7951, -5.8733, -5.712, -5.7448, -5.8546, -5.6835, -5.8177, -5.8507, -5.8107, -5.8323], \"loglift\": [30.0, 29.0, 28.0, 27.0, 26.0, 25.0, 24.0, 23.0, 22.0, 21.0, 20.0, 19.0, 18.0, 17.0, 16.0, 15.0, 14.0, 13.0, 12.0, 11.0, 10.0, 9.0, 8.0, 7.0, 6.0, 5.0, 4.0, 3.0, 2.0, 1.0, 0.9257, 0.9257, 0.9117, 0.861, 0.8446, 0.8426, 0.8364, 0.8107, 0.8107, 0.8105, 0.8104, 0.8104, 0.8102, 0.8102, 0.81, 0.8099, 0.8099, 0.8097, 0.8095, 0.8095, 0.8093, 0.8063, 0.8059, 0.8052, 0.799, 0.7935, 0.7934, 0.7878, 0.7766, 0.7762, 0.7453, 0.6837, 0.628, 0.5603, 0.7135, 0.6992, 0.724, 0.7162, 0.6124, 0.6927, 0.6974, 0.5992, 0.5197, 0.4393, 0.5502, 0.602, 0.7132, 0.489, 0.637, 0.4997, 0.5108, 0.2412, 0.2727, 0.4398, 0.2702, 0.1962, 0.3133, 0.358, 0.4305, 0.4379, 0.0041, 0.2356, 0.1357, 0.1331, 0.258, 0.3316, 0.1415, 0.2168, -0.2132, 0.0951, 0.0038, -0.0444, -0.0017, 0.0272, -0.0938, -0.1738, 1.2668, 1.2292, 1.1708, 1.1551, 1.119, 1.1021, 1.092, 1.0888, 1.0872, 1.0616, 1.054, 1.0452, 1.0403, 1.0378, 1.0321, 1.0114, 0.9929, 0.9869, 0.9669, 0.9594, 0.9584, 0.9562, 0.952, 0.951, 0.9499, 0.9497, 0.9416, 0.9411, 0.9365, 0.9328, 0.931, 0.9078, 0.9056, 0.8809, 0.8434, 0.8388, 0.8645, 0.6838, 0.8025, 0.8268, 0.7227, 0.6349, 0.626, 0.7427, 0.3636, 0.4844, 0.716, 0.598, 0.7042, 0.4662, 0.507, 0.2808, 0.3113, 0.1187, 0.1855, 0.0566, 0.1864, -0.0487, 0.1375, 0.4281, 0.344, 0.4768, 0.0608, -0.1094, 0.2035, 0.2482, 0.2912, 0.0822, -0.2181, -0.4833, -0.0643, -0.2354, -0.518, 0.1764, -0.1489, -0.4778, 1.5918, 1.5428, 1.525, 1.5159, 1.5024, 1.484, 1.4674, 1.4419, 1.4415, 1.4343, 1.425, 1.3472, 1.3425, 1.3321, 1.33, 1.3178, 1.307, 1.3049, 1.295, 1.2918, 1.2867, 1.2781, 1.2775, 1.2666, 1.2657, 1.2546, 1.2496, 1.2405, 1.2285, 1.2082, 1.2, 1.1766, 1.0812, 0.9286, 1.0514, 1.0567, 0.7504, 0.5673, 0.9042, 0.5963, 0.9778, 0.9542, 1.086, 1.1266, 0.6955, 0.8409, 0.9899, 0.086, 0.6707, 0.1682, 0.4345, 0.6402, 0.277, 0.4947, 0.3508, 0.0736, 0.2448, 0.2067, 0.0756, 0.1253, 0.1563, -0.0399, -0.4499, 0.0005, -0.2132, -0.4286, -0.1738, -0.089, -0.5958, 0.2305, -0.6443, 0.2415, -0.18, 1.696, 1.6445, 1.6444, 1.6442, 1.6442, 1.6436, 1.6301, 1.6107, 1.551, 1.5442, 1.54, 1.536, 1.5317, 1.521, 1.4793, 1.4441, 1.4375, 1.4295, 1.3894, 1.3708, 1.3642, 1.3539, 1.3436, 1.3423, 1.3408, 1.3262, 1.3227, 1.3219, 1.3144, 1.3024, 1.2968, 1.2281, 1.1726, 1.2018, 1.2007, 1.0555, 0.8108, 1.1473, 1.2419, 1.0808, 1.0911, 0.3822, 0.8467, 0.479, 0.4845, 0.9848, 1.0996, 0.126, 0.412, 0.2408, 0.2838, 0.119, 0.108, 0.7256, 0.2302, 0.8463, 0.8411, 0.8351, 0.6203, -0.0166, -0.1615, 0.3255, 0.3266, 0.5174, 0.0482, 0.294, 0.4554, 0.8373, 0.4122, -0.1281, 0.2138, -0.0088, 0.2725, 0.0747, -0.1566, -0.0904, -0.3556, -0.1857, -0.2122, -0.0702, 1.905, 1.8851, 1.8313, 1.8021, 1.7956, 1.7289, 1.6933, 1.6124, 1.5858, 1.5675, 1.5671, 1.5466, 1.5435, 1.5191, 1.5134, 1.4923, 1.4605, 1.4518, 1.4514, 1.4512, 1.449, 1.4453, 1.4439, 1.4365, 1.4347, 1.4309, 1.4293, 1.4283, 1.4241, 1.4222, 1.4098, 1.3386, 1.3998, 1.2862, 1.1312, 1.3436, 1.2815, 1.137, 1.3022, 0.9985, 0.6807, 0.5308, 0.9708, 0.3906, 0.9932, 0.7711, 0.8404, 0.7263, 0.3356, 0.1356, 0.9111, 0.9659, 0.1644, 0.1308, -0.2385, 0.3999, 0.2537, 0.5889, 0.1923, 0.0212, -0.2642, -0.3948, 0.0005, 0.1277, 0.137, -0.2937, 0.3641, -0.5789, 0.3927, 0.1473, -0.7145, 0.0833, -0.2923, 2.204, 2.1067, 1.9959, 1.8716, 1.839, 1.8309, 1.8049, 1.7965, 1.7772, 1.765, 1.7493, 1.7393, 1.737, 1.6963, 1.6726, 1.6666, 1.6621, 1.6436, 1.6436, 1.6418, 1.6282, 1.6042, 1.5967, 1.59, 1.578, 1.5728, 1.5441, 1.544, 1.5422, 1.5389, 1.415, 1.5181, 1.2453, 1.2546, 1.0383, 0.8979, 1.0749, 0.9804, 0.8498, 0.6104, 0.8907, 0.3723, 0.9226, 0.1179, 0.9155, 0.6284, -0.1153, 0.4645, 0.2219, -0.027, 0.4718, 0.6821, 0.5117, 0.123, -0.1904, 0.4717, -0.4225, 0.4311, 0.5057, 0.1923, 0.3257, -0.2775, -0.1736, 0.2457, -0.7316, -0.0202, 0.1189, -0.3108, -0.3335]}, \"token.table\": {\"Topic\": [1, 2, 3, 4, 5, 6, 1, 1, 2, 3, 4, 6, 1, 2, 6, 1, 2, 3, 4, 5, 6, 1, 3, 5, 1, 2, 3, 4, 5, 6, 1, 3, 1, 2, 3, 4, 5, 6, 1, 3, 4, 1, 2, 3, 4, 5, 1, 3, 5, 1, 2, 3, 4, 1, 2, 3, 4, 5, 6, 5, 6, 1, 1, 2, 3, 4, 5, 6, 2, 4, 1, 2, 3, 4, 5, 6, 1, 2, 3, 4, 5, 6, 1, 5, 1, 3, 4, 4, 1, 2, 3, 4, 5, 6, 1, 2, 3, 4, 5, 6, 1, 2, 4, 1, 3, 2, 2, 1, 2, 3, 1, 2, 3, 4, 5, 1, 4, 1, 2, 3, 1, 2, 3, 4, 5, 6, 2, 1, 2, 3, 4, 5, 6, 1, 2, 3, 4, 5, 6, 1, 2, 3, 4, 5, 6, 1, 2, 1, 1, 2, 1, 1, 2, 4, 1, 2, 3, 4, 6, 1, 2, 3, 4, 5, 6, 5, 1, 2, 3, 4, 5, 1, 4, 1, 2, 3, 4, 5, 5, 6, 1, 2, 3, 4, 5, 6, 1, 2, 3, 4, 5, 6, 1, 2, 3, 4, 5, 6, 1, 2, 3, 4, 5, 6, 3, 1, 2, 3, 4, 5, 6, 1, 2, 4, 4, 2, 5, 1, 4, 5, 6, 1, 2, 3, 4, 5, 6, 1, 2, 3, 4, 5, 6, 1, 3, 4, 5, 1, 1, 1, 2, 3, 4, 5, 6, 1, 2, 3, 4, 6, 3, 4, 1, 2, 3, 4, 5, 6, 1, 4, 1, 2, 3, 4, 6, 6, 3, 5, 2, 6, 6, 1, 2, 3, 4, 5, 2, 3, 1, 2, 3, 4, 5, 6, 2, 1, 2, 5, 6, 2, 5, 4, 2, 4, 1, 6, 1, 1, 2, 3, 4, 5, 6, 1, 2, 4, 6, 4, 6, 1, 2, 3, 4, 5, 6, 1, 3, 1, 2, 3, 4, 5, 6, 1, 2, 3, 4, 5, 6, 6, 1, 2, 4, 1, 2, 1, 2, 1, 2, 3, 4, 5, 6, 1, 5, 1, 2, 4, 5, 1, 2, 3, 4, 5, 6, 1, 2, 3, 4, 5, 6, 3, 6, 1, 2, 3, 4, 3, 6, 2, 4, 1, 2, 2, 6, 1, 2, 3, 4, 5, 6, 2, 1, 1, 2, 3, 6, 1, 2, 3, 2, 1, 1, 2, 3, 4, 6, 3, 1, 5, 1, 2, 3, 4, 5, 6, 1, 2, 3, 1, 2, 3, 4, 5, 6, 1, 2, 3, 4, 5, 1, 2, 3, 4, 5, 6, 1, 2, 4, 5, 1, 6, 1, 6, 2, 3, 2, 3, 4, 6, 6, 1, 4, 1, 2, 3, 4, 5, 6, 1, 2, 3, 4, 5, 6, 5, 6, 4, 5, 2, 3, 1, 5, 1, 2, 3, 5, 2, 3, 1, 2, 3, 4, 6, 1, 2, 3, 4, 5, 6, 1, 2, 1, 2, 3, 4, 5, 6, 1, 2, 3, 4, 5, 6, 1, 2, 3, 4, 6, 2, 3, 4, 6, 1, 2, 3, 4, 5, 6, 5, 1, 3, 3, 1, 1, 2, 5, 6, 1, 6, 1, 6, 1, 2, 3, 4, 5, 6, 1, 3, 1, 2, 5, 6, 4, 1, 2, 3, 4, 5, 2, 4, 6, 4, 5, 3, 1, 1, 2, 3, 4, 5, 6, 4, 3, 1, 2, 3, 1, 2, 3, 4, 5, 6, 3, 4, 4, 4, 1, 2, 3, 4, 5, 6, 1, 1, 2, 3, 4, 5, 6, 2, 4, 1, 2, 3, 4, 5, 6, 1, 5, 1, 2, 1, 2, 3, 4, 5, 6, 5, 3, 5, 1, 3, 6, 1, 3, 1, 2, 4, 5, 1, 1, 1, 1, 2, 3, 4, 5, 4, 2, 3, 4, 1, 2, 3, 4, 1, 2, 3, 4, 5, 6, 1, 2, 3, 4, 5, 6, 1, 2, 5, 1, 2, 3, 4, 5, 6, 1, 5, 6, 4, 1, 2, 3, 4, 5, 6, 1, 2, 3, 4, 5, 6, 1, 2, 5, 1, 2, 3, 4, 5, 4, 1, 2, 3, 4, 5, 6, 1, 6, 1, 2, 3, 4, 3, 4, 1, 2, 3, 4, 5, 6, 1, 2, 3, 4, 6, 1, 1, 2, 3, 4, 5, 1, 2, 3, 4, 5, 6, 2, 1, 2, 3, 4, 5, 6, 1, 2, 4, 5, 1, 6, 1, 3, 4, 6, 1, 2, 3, 4, 5, 6, 1, 2, 3, 4, 5, 1, 2, 5, 2, 6, 2, 4, 1, 3, 1, 4, 1, 1, 1, 1, 2, 1, 2, 3, 4, 5, 6, 1, 2, 3, 4, 6, 4, 6, 1, 2, 1, 3, 4, 6, 2, 4, 1, 1, 2, 3, 4, 5, 6, 2, 1, 2, 3, 4, 5, 6, 1, 2, 3, 6, 1, 2, 3, 4, 5, 6, 1, 1, 2, 3, 4, 5, 6, 4, 1, 1, 2, 3, 4, 5, 6, 1, 2, 3, 5, 4, 1, 3, 2, 4, 5, 2, 2, 3, 4, 5, 1, 1, 2, 4, 1, 5, 3, 5, 1, 2, 3, 4, 5, 6, 1, 2, 3, 4, 5, 1, 3, 3, 4, 1, 3, 4, 1, 2, 6, 5, 3, 1, 2, 3, 4, 5, 6, 5, 1, 2, 3, 4, 5, 6, 3, 1, 2, 3, 4, 5, 6, 2, 4, 6, 3, 6, 1, 2, 3, 4, 5, 6, 1, 2, 3, 4, 5, 1, 2, 3, 4, 5, 6, 1, 2, 3, 6, 1, 4, 1, 2, 3, 4, 5, 6, 1, 2, 3, 4, 5, 6, 1, 5, 5, 1, 1, 2, 3, 4, 5, 6, 1, 2, 3, 4, 5, 6, 1, 2, 4, 5, 1, 2, 3, 4, 5, 6, 1, 2, 3, 4, 5, 6, 1, 2, 3, 4, 5, 6, 1, 2, 3, 4, 5, 6, 1, 2, 3, 5, 6, 2, 5, 1, 2, 3, 4, 5, 6, 1, 2, 3, 4, 5, 6, 2, 2, 3, 1, 2, 3, 5, 1, 2, 1, 3, 1, 2, 3, 4, 5, 1, 2, 3, 1, 2, 3, 4, 5, 6, 1, 2, 3, 4, 5, 6, 1, 2, 3, 4, 5, 6, 1, 2, 3, 4, 5, 6, 1, 2, 3, 4, 6, 1, 2, 4, 5, 1, 3, 4, 5, 1, 2, 3, 4, 6, 3, 4, 4, 5, 6, 1, 2, 3, 4, 5, 6, 1, 2, 3, 4, 5, 6, 1, 2, 3, 4, 5, 6, 1, 2, 3, 4, 5, 6, 1, 2, 3, 4, 5, 6, 1, 2, 3, 4, 5, 6, 1, 3, 4, 5, 6, 1, 2, 3, 4, 5, 6, 1, 2, 3, 4, 1, 2, 3, 4, 5, 2, 6, 3, 4], \"Freq\": [0.08876366298288987, 0.17752732596577975, 0.08876366298288987, 0.3550546519315595, 0.08876366298288987, 0.08876366298288987, 0.7122445563056505, 0.11614002497881279, 0.11614002497881279, 0.11614002497881279, 0.46456009991525116, 0.23228004995762558, 0.21797674718860025, 0.21797674718860025, 0.4359534943772005, 0.17073280755967757, 0.37561217663129065, 0.17073280755967757, 0.13658624604774205, 0.10243968453580654, 0.034146561511935514, 0.26170452665731103, 0.26170452665731103, 0.26170452665731103, 0.3501226219385784, 0.2574431043666018, 0.09267951757197664, 0.13387041427063293, 0.09267951757197664, 0.08238179339731257, 0.2987172128671096, 0.5974344257342192, 0.39351989868861026, 0.2146472174665147, 0.07154907248883824, 0.10732360873325734, 0.10732360873325734, 0.10732360873325734, 0.2501231449520213, 0.5002462899040426, 0.2501231449520213, 0.6073616171534286, 0.12147232343068572, 0.12147232343068572, 0.06073616171534286, 0.06073616171534286, 0.26211417485434857, 0.26211417485434857, 0.26211417485434857, 0.1785820938951931, 0.2678731408427897, 0.3571641877903862, 0.08929104694759656, 0.061977475326033954, 0.4338423272822377, 0.12395495065206791, 0.18593242597810186, 0.12395495065206791, 0.061977475326033954, 0.45972307132511336, 0.45972307132511336, 0.7122355425689167, 0.3088197411287877, 0.27631239995733636, 0.048761011757177, 0.17879037644298235, 0.13002936468580534, 0.048761011757177, 0.5545337510682539, 0.27726687553412693, 0.2760874528080426, 0.2760874528080426, 0.10353279480301596, 0.10353279480301596, 0.24157652120703724, 0.034510931601005324, 0.32062829520841735, 0.20039268450526085, 0.12023561070315651, 0.12023561070315651, 0.12023561070315651, 0.12023561070315651, 0.419939246616534, 0.419939246616534, 0.772846260355998, 0.15456925207119962, 0.15456925207119962, 0.6352056499086347, 0.4473910232169285, 0.13557303733846318, 0.06778651866923159, 0.17624494854000214, 0.05422921493538527, 0.10845842987077053, 0.24076527582028723, 0.19698977112568955, 0.15321426643109187, 0.2188775234729884, 0.08755100938919536, 0.06566325704189652, 0.16781016537501403, 0.16781016537501403, 0.5034304961250421, 0.3075506553098109, 0.6151013106196218, 0.8182263805891183, 0.5689252880523777, 0.73482933254097, 0.1049756189344243, 0.1049756189344243, 0.24364708177756342, 0.24364708177756342, 0.060911770444390854, 0.426382393110736, 0.060911770444390854, 0.30405580389142123, 0.6081116077828425, 0.24017881431887086, 0.24017881431887086, 0.48035762863774173, 0.3907807786946852, 0.22330330211124869, 0.05582582552781217, 0.13956456381953045, 0.08373873829171825, 0.11165165105562434, 0.7051942243509414, 0.29109311008903777, 0.15877806004856604, 0.18524107005666038, 0.18524107005666038, 0.10585204003237736, 0.07938903002428302, 0.3409489756766316, 0.25977064813457645, 0.12988532406728823, 0.11364965855887721, 0.09741399305046618, 0.04870699652523309, 0.209113719069336, 0.209113719069336, 0.209113719069336, 0.052278429767334, 0.104556859534668, 0.209113719069336, 0.2762451791209359, 0.5524903582418718, 0.7128012494644442, 0.86696344829334, 0.17339268965866803, 0.7903476842442752, 0.12728740790149615, 0.38186222370448847, 0.5091496316059846, 0.5183122340925485, 0.18511151217591015, 0.1110669073055461, 0.1110669073055461, 0.07404460487036406, 0.4685418424126255, 0.12222830671633707, 0.1833424600745056, 0.12222830671633707, 0.020371384452722845, 0.061114153358168534, 0.6930767759132426, 0.4992792795897555, 0.1664264265299185, 0.08321321326495924, 0.08321321326495924, 0.24963963979487774, 0.3019450484426934, 0.6038900968853868, 0.21747899797913775, 0.21747899797913775, 0.21747899797913775, 0.21747899797913775, 0.4349579959582755, 0.41527904438904334, 0.20763952219452167, 0.3958374226628661, 0.1696446097126569, 0.2450422140293933, 0.0942470053959205, 0.0565482032375523, 0.0376988021583682, 0.22415225143027456, 0.2988696685736994, 0.1494348342868497, 0.11207612571513728, 0.07471741714342485, 0.1494348342868497, 0.5298774337797165, 0.18127385892463985, 0.11155314395362452, 0.09760900095942146, 0.02788828598840613, 0.0418324289826092, 0.24101428170351247, 0.28921713804421495, 0.21691285353316123, 0.12050714085175623, 0.09640571268140499, 0.048202856340702496, 0.6505935384452675, 0.36695354516581014, 0.15726580507106147, 0.10484387004737432, 0.15726580507106147, 0.05242193502368716, 0.15726580507106147, 0.27026314193829576, 0.5405262838765915, 0.27026314193829576, 0.8522089713138558, 0.42939545888951014, 0.42939545888951014, 0.4190905567772969, 0.10477263919432422, 0.10477263919432422, 0.20954527838864845, 0.36763983128601196, 0.16710901422091454, 0.10026540853254871, 0.06684360568836581, 0.06684360568836581, 0.16710901422091454, 0.28593033692172765, 0.3574129211521595, 0.07148258423043191, 0.14296516846086382, 0.035741292115215956, 0.10722387634564785, 0.18945940130700673, 0.18945940130700673, 0.37891880261401345, 0.37891880261401345, 0.712189533917134, 0.711920631636642, 0.4419331335074025, 0.20796853341524824, 0.05199213335381206, 0.10398426670762412, 0.07798820003071809, 0.07798820003071809, 0.33260745640950495, 0.26608596512760396, 0.13304298256380198, 0.06652149128190099, 0.19956447384570297, 0.518321146218576, 0.259160573109288, 0.1432640457922047, 0.42979213737661404, 0.1432640457922047, 0.17191685495064563, 0.05730561831688187, 0.028652809158440935, 0.24768430979379363, 0.49536861958758727, 0.729371966280909, 0.11516399467593298, 0.038387998225311, 0.0959699955632775, 0.0191939991126555, 0.43859160087212146, 0.3414010895722185, 0.3414010895722185, 0.4417177941536188, 0.4417177941536188, 0.4366760309399103, 0.6207101198972366, 0.09549386459957485, 0.14324079689936228, 0.04774693229978742, 0.04774693229978742, 0.807262121725059, 0.41619719373898567, 0.44684307970662274, 0.13078334040193837, 0.16347917550242294, 0.15258056380226143, 0.06539167020096918, 0.03269583510048459, 0.7594709107955444, 0.26355562298596213, 0.5271112459719243, 0.486985517252344, 0.486985517252344, 0.4240170665417903, 0.4240170665417903, 0.8510219619804607, 0.4027473232691278, 0.4027473232691278, 0.436701044897406, 0.436701044897406, 0.7129215873589144, 0.2664368689815729, 0.1998276517361797, 0.06660921724539323, 0.33304608622696613, 0.06660921724539323, 0.06660921724539323, 0.15311263154187837, 0.6124505261675135, 0.45836995795581315, 0.45836995795581315, 0.6354130662420854, 0.49120676797380886, 0.3338244865141278, 0.3034768059219344, 0.12139072236877377, 0.18208608355316064, 0.030347680592193442, 0.04552152088829016, 0.7147880091786525, 0.11913133486310874, 0.6428289385745575, 0.19779351956140231, 0.04944837989035058, 0.04944837989035058, 0.09889675978070116, 0.04944837989035058, 0.34508475753684315, 0.3623389954136853, 0.08627118938421079, 0.12077966513789509, 0.08627118938421079, 0.017254237876842157, 0.45231061596189254, 0.16831945799568387, 0.16831945799568387, 0.5049583739870517, 0.26033946711490574, 0.5206789342298115, 0.21425517089316215, 0.6427655126794865, 0.20515022429628665, 0.3419170404938111, 0.06838340809876223, 0.06838340809876223, 0.13676681619752445, 0.20515022429628665, 0.25843179893868823, 0.25843179893868823, 0.13491829204480035, 0.2698365840896007, 0.4047548761344011, 0.13491829204480035, 0.3351380596523991, 0.13405522386095964, 0.1787402984812795, 0.1563977611711196, 0.08937014924063975, 0.13405522386095964, 0.43092744564863567, 0.1988895902993703, 0.1325930601995802, 0.0662965300997901, 0.1325930601995802, 0.0662965300997901, 0.45995256183889394, 0.45995256183889394, 0.31641660807190747, 0.5273610134531791, 0.10547220269063581, 0.8442336942526882, 0.4715711929608532, 0.4715711929608532, 0.29838817403277873, 0.5967763480655575, 0.7221983031159083, 0.5674207862553907, 0.3241038430865254, 0.3241038430865254, 0.3784738969152986, 0.1892369484576493, 0.11354216907458957, 0.1324658639203545, 0.15138955876611943, 0.018923694845764928, 0.733364200571632, 0.8309657034714011, 0.16175210898746983, 0.16175210898746983, 0.16175210898746983, 0.32350421797493967, 0.3026770717607414, 0.6053541435214828, 0.1513385358803707, 0.7292021777763404, 0.7121035795511742, 0.14904460027439786, 0.5216561009603925, 0.14904460027439786, 0.14904460027439786, 0.07452230013719893, 0.4386287608488746, 0.26999111874688625, 0.5399822374937725, 0.5658625498331534, 0.19682175646370553, 0.09841087823185277, 0.09841087823185277, 0.02460271955796319, 0.04920543911592638, 0.1989873460916945, 0.1989873460916945, 0.397974692183389, 0.5384003984123235, 0.17946679947077446, 0.08973339973538723, 0.08973339973538723, 0.08973339973538723, 0.044866699867693614, 0.3005917969939749, 0.15029589849698746, 0.37573974624246864, 0.07514794924849373, 0.07514794924849373, 0.28491322396472185, 0.24421133482690446, 0.16280755655126963, 0.20350944568908705, 0.061052833706726116, 0.04070188913781741, 0.3562599094728256, 0.1781299547364128, 0.1781299547364128, 0.3562599094728256, 0.43090216102302215, 0.43090216102302215, 0.42379441967094167, 0.42379441967094167, 0.5541212260381686, 0.2770606130190843, 0.41129692518130057, 0.41129692518130057, 0.3544219065592375, 0.3544219065592375, 0.4843785073427281, 0.7122695725138667, 0.8442556823233727, 0.20380594837679836, 0.2717412645023978, 0.1358706322511989, 0.1358706322511989, 0.20380594837679836, 0.06793531612559944, 0.2615239191999691, 0.6276574060799259, 0.052304783839993825, 0.052304783839993825, 0.052304783839993825, 0.052304783839993825, 0.25054499683732673, 0.5010899936746535, 0.4567777776934986, 0.4567777776934986, 0.7057865048531315, 0.6389830785775711, 0.4507655587872707, 0.4507655587872707, 0.41316843517566515, 0.08263368703513303, 0.33053474814053213, 0.08263368703513303, 0.7442860680587331, 0.37214303402936655, 0.08999855769472437, 0.17999711538944874, 0.08999855769472437, 0.44999278847362184, 0.17999711538944874, 0.34151242961917355, 0.13660497184766943, 0.20490745777150413, 0.06830248592383471, 0.20490745777150413, 0.06830248592383471, 0.21413006780305982, 0.6423902034091795, 0.14161493041925433, 0.37763981445134487, 0.28322986083850865, 0.09440995361283622, 0.04720497680641811, 0.09440995361283622, 0.5691724970183633, 0.18110033996038832, 0.07761443141159499, 0.10348590854879332, 0.02587147713719833, 0.05174295427439666, 0.2445825211010014, 0.4891650422020028, 0.06114563027525035, 0.1222912605505007, 0.06114563027525035, 0.16083178053872468, 0.4824953416161741, 0.16083178053872468, 0.16083178053872468, 0.1986700545552708, 0.4515228512619791, 0.12642639835335415, 0.09030457025239581, 0.054182742151437494, 0.09030457025239581, 0.43016164820291913, 0.3105829677659893, 0.6211659355319786, 0.4156779566847911, 0.801182144015642, 0.26092112486085056, 0.26092112486085056, 0.5218422497217011, 0.4815243531899523, 0.32922381031474046, 0.32922381031474046, 0.6818095301556738, 0.11363492169261231, 0.17822972731590994, 0.17822972731590994, 0.2673445909738649, 0.17822972731590994, 0.044557431828977485, 0.13367229548693246, 0.3147348804576753, 0.6294697609153506, 0.13040167241307432, 0.391205017239223, 0.391205017239223, 0.13040167241307432, 0.8445608944855697, 0.28584063760764644, 0.1905604250717643, 0.09528021253588215, 0.09528021253588215, 0.28584063760764644, 0.5070581913670233, 0.2535290956835117, 0.2535290956835117, 0.45363112720443666, 0.45363112720443666, 0.8587051939407051, 0.7121266062203397, 0.5591835337511374, 0.1491156090003033, 0.07455780450015165, 0.11183670675022747, 0.037278902250075824, 0.07455780450015165, 0.8423081698307935, 0.41539614126415364, 0.15487810762533663, 0.6195124305013465, 0.15487810762533663, 0.24735892319224959, 0.24735892319224959, 0.1413479561098569, 0.21202193416478538, 0.10601096708239269, 0.035336989027464225, 0.6370265492322522, 0.3185132746161261, 0.8513442459078283, 0.6393946811209043, 0.39284803875441987, 0.2391248931548643, 0.08540174755530867, 0.13664279608849386, 0.0512410485331852, 0.08540174755530867, 0.7121424289722711, 0.3501046946236583, 0.22111875449915258, 0.14741250299943506, 0.22111875449915258, 0.036853125749858766, 0.036853125749858766, 0.7783876397104548, 0.8442454011269367, 0.30475638106658137, 0.10756107567055813, 0.14341476756074417, 0.30475638106658137, 0.0896342297254651, 0.03585369189018604, 0.4233219531620397, 0.4233219531620397, 0.27048082626562403, 0.5409616525312481, 0.6765287319924571, 0.1409434858317619, 0.075169859110273, 0.02818869716635238, 0.0375849295551365, 0.0375849295551365, 0.4416831303467045, 0.32984993053291295, 0.32984993053291295, 0.6924356454303999, 0.13848712908608, 0.13848712908608, 0.2987140470671854, 0.5974280941343708, 0.10149150355896257, 0.5074575177948129, 0.20298300711792513, 0.10149150355896257, 0.8309887086686304, 0.7917130434547667, 0.7121577969245492, 0.17845607247665354, 0.08922803623832677, 0.3569121449533071, 0.08922803623832677, 0.17845607247665354, 0.8442536601481534, 0.3989369044203206, 0.3989369044203206, 0.43223027808437425, 0.13568585717294282, 0.13568585717294282, 0.5427434286917713, 0.13568585717294282, 0.38994664372396465, 0.09748666093099116, 0.14622999139648674, 0.29245998279297347, 0.04874333046549558, 0.04874333046549558, 0.23445303901286568, 0.2930662987660821, 0.17583977925964925, 0.14653314938304104, 0.05861325975321642, 0.05861325975321642, 0.20908240423422617, 0.20908240423422617, 0.20908240423422617, 0.38182242403279765, 0.16363818172834185, 0.05454606057611395, 0.1090921211522279, 0.05454606057611395, 0.2181842423044558, 0.4702252841535375, 0.11755632103838437, 0.3526689631151531, 0.4284878207557669, 0.591737443791676, 0.19724581459722534, 0.03944916291944507, 0.03944916291944507, 0.1183474887583352, 0.03944916291944507, 0.5609695049327555, 0.21575750189721365, 0.04315150037944273, 0.04315150037944273, 0.04315150037944273, 0.04315150037944273, 0.24846871755449632, 0.24846871755449632, 0.24846871755449632, 0.5302812249787245, 0.21835109263829836, 0.12477205293617048, 0.06238602646808524, 0.06238602646808524, 0.43328806975276835, 0.3839930581464844, 0.31417613848348724, 0.06981691966299716, 0.10472537949449574, 0.05236268974724787, 0.05236268974724787, 0.44072992061090555, 0.44072992061090555, 0.11363658629492472, 0.11363658629492472, 0.34090975888477415, 0.4545463451796989, 0.42325653093638355, 0.42325653093638355, 0.6057156323651678, 0.1772826241068784, 0.0443206560267196, 0.05909420803562613, 0.0886413120534392, 0.014773552008906532, 0.12083534709291477, 0.4833413883716591, 0.12083534709291477, 0.24167069418582954, 0.060417673546457384, 0.7121123117244922, 0.11620714293275129, 0.5810357146637565, 0.11620714293275129, 0.11620714293275129, 0.11620714293275129, 0.31916630204881485, 0.29256911021141363, 0.07979157551220371, 0.18618034286180868, 0.05319438367480248, 0.07979157551220371, 0.8001310651495198, 0.2096026770079097, 0.27947023601054627, 0.13973511800527313, 0.34933779501318285, 0.06986755900263657, 0.06986755900263657, 0.3556312062318523, 0.08890780155796307, 0.17781560311592615, 0.2667234046738892, 0.4337830750046426, 0.4337830750046426, 0.14044082381515605, 0.42132247144546814, 0.2808816476303121, 0.14044082381515605, 0.29585903580594963, 0.38039018889336385, 0.08453115308741418, 0.1267967296311213, 0.04226557654370709, 0.1267967296311213, 0.19180127341705433, 0.5114700624454782, 0.12786751561136955, 0.06393375780568478, 0.06393375780568478, 0.7430073254112239, 0.21228780726034968, 0.10614390363017484, 0.31989833082133, 0.31989833082133, 0.7410540662156885, 0.8527370355825012, 0.41219942651743563, 0.41219942651743563, 0.29896824281944934, 0.5979364856388987, 0.7120552976669701, 0.712055115273516, 0.8675047407198023, 0.2112883009771549, 0.6338649029314647, 0.32593573392814473, 0.12535989766467107, 0.35100771346107895, 0.07521593859880263, 0.07521593859880263, 0.07521593859880263, 0.6424960103943037, 0.09178514434204338, 0.09178514434204338, 0.09178514434204338, 0.09178514434204338, 0.4592102174987098, 0.4592102174987098, 0.7047076287521892, 0.1761769071880473, 0.3331509288154961, 0.3331509288154961, 0.3331509288154961, 0.3331509288154961, 0.6591460261870846, 0.21971534206236154, 0.8011766354376157, 0.41294770249454954, 0.15485538843545607, 0.10323692562363739, 0.10323692562363739, 0.20647385124727477, 0.05161846281181869, 0.744422365376022, 0.31238209419776564, 0.17850405382729465, 0.17850405382729465, 0.133878040370471, 0.133878040370471, 0.04462601345682366, 0.21476655597248162, 0.32214983395872243, 0.32214983395872243, 0.10738327798624081, 0.49051204903692575, 0.06540160653825676, 0.09810240980738515, 0.1962048196147703, 0.06540160653825676, 0.09810240980738515, 0.71222249922239, 0.30979477544581807, 0.3661210982541486, 0.11265264561666112, 0.11265264561666112, 0.08448948421249584, 0.05632632280833056, 0.4289757663617241, 0.7120844006038052, 0.3079730900753106, 0.12318923603012424, 0.06159461801506212, 0.2463784720602485, 0.06159461801506212, 0.18478385404518635, 0.35356438372319715, 0.17678219186159858, 0.17678219186159858, 0.35356438372319715, 0.8442504351452941, 0.4060270454621402, 0.4060270454621402, 0.31441491706418684, 0.6288298341283737, 0.4523954623818445, 0.73198443328854, 0.19155354776217523, 0.19155354776217523, 0.19155354776217523, 0.38310709552435046, 0.7124862305422724, 0.7117450654560574, 0.11862417757600956, 0.11862417757600956, 0.4336055571566115, 0.4336055571566115, 0.35447972580909387, 0.35447972580909387, 0.4325093031895743, 0.19222635697314414, 0.09611317848657207, 0.12014147310821509, 0.09611317848657207, 0.048056589243286034, 0.4697298878412336, 0.1342085393832096, 0.0671042696916048, 0.335521348458024, 0.0671042696916048, 0.20694444530238323, 0.41388889060476647, 0.42007620235872106, 0.42007620235872106, 0.27163166557485063, 0.5432633311497013, 0.13581583278742532, 0.32619414876948877, 0.32619414876948877, 0.32619414876948877, 0.4378189969260636, 0.839271423373996, 0.3842740020028061, 0.16468885800120261, 0.32937771600240523, 0.05489628600040087, 0.05489628600040087, 0.05489628600040087, 0.44724056933309175, 0.19377163441529502, 0.41522493088991785, 0.11072664823731143, 0.1384083102966393, 0.027681662059327858, 0.08304498617798357, 0.4387955495467021, 0.42509011464813234, 0.17712088110338847, 0.21254505732406617, 0.07084835244135539, 0.07084835244135539, 0.03542417622067769, 0.27262021839996514, 0.27262021839996514, 0.5452404367999303, 0.34806050861729904, 0.34806050861729904, 0.4194680681019469, 0.23662301277545722, 0.07528914042855457, 0.15057828085710914, 0.04302236595917404, 0.07528914042855457, 0.29341229830943205, 0.26673845300857457, 0.13336922650428729, 0.1867169171060022, 0.08002153590257237, 0.28927901034166603, 0.27405379927105206, 0.15225211070614, 0.12180168856491201, 0.10657647749429801, 0.060900844282456006, 0.3159238358177297, 0.15796191790886485, 0.3949047947721621, 0.07898095895443243, 0.39120716674486067, 0.39120716674486067, 0.372073919037588, 0.16536618623892801, 0.20670773279866003, 0.041341546559732004, 0.16536618623892801, 0.041341546559732004, 0.4344774629857019, 0.21280528799299683, 0.08866886999708203, 0.15960396599474763, 0.05320132199824921, 0.04433443499854101, 0.31453960203371045, 0.31453960203371045, 0.4483397389966358, 0.7120194687398522, 0.4197808900719272, 0.1499217464542597, 0.17990609574511165, 0.08995304787255583, 0.029984349290851944, 0.11993739716340777, 0.17593254512794315, 0.1993902178116689, 0.24630556317912042, 0.1993902178116689, 0.11728836341862876, 0.05864418170931438, 0.20673138649140202, 0.20673138649140202, 0.41346277298280404, 0.20673138649140202, 0.4104406290988067, 0.246264377459284, 0.04104406290988067, 0.08208812581976134, 0.04104406290988067, 0.16417625163952268, 0.6466057829805121, 0.13855838206725257, 0.02309306367787543, 0.09237225471150172, 0.04618612735575086, 0.04618612735575086, 0.2769084566980652, 0.32577465493890023, 0.1547429610959776, 0.11402112922861507, 0.06515493098778004, 0.06515493098778004, 0.19924387856670991, 0.5313170095112265, 0.06641462618890331, 0.06641462618890331, 0.13282925237780663, 0.06641462618890331, 0.4682226709655079, 0.18728906838620316, 0.09364453419310158, 0.09364453419310158, 0.2809336025793048, 0.6743609867476719, 0.2247869955825573, 0.20555931239646574, 0.24667117487575888, 0.16444744991717258, 0.24667117487575888, 0.08222372495858629, 0.041111862479293146, 0.2825361999043618, 0.2421738856323101, 0.08072462854410337, 0.12108694281615505, 0.16144925708820673, 0.08072462854410337, 0.5581202659477786, 0.7464731109982857, 0.41857374958295546, 0.12035697038009238, 0.3610709111402771, 0.4814278815203695, 0.12035697038009238, 0.6569275549924855, 0.1313855109984971, 0.29672291756502844, 0.5934458351300569, 0.23150011059551956, 0.23150011059551956, 0.1543334070636797, 0.1543334070636797, 0.23150011059551956, 0.30119313967969474, 0.30119313967969474, 0.6023862793593895, 0.20875674242447434, 0.4697026704550673, 0.10437837121223717, 0.052189185606118585, 0.10437837121223717, 0.10437837121223717, 0.19878014252942938, 0.1325200950196196, 0.33130023754904897, 0.1325200950196196, 0.0662600475098098, 0.1325200950196196, 0.8020473797924214, 0.0729133981629474, 0.0364566990814737, 0.0364566990814737, 0.0364566990814737, 0.0364566990814737, 0.5034971543593321, 0.10599940091775413, 0.1589991013766312, 0.1589991013766312, 0.052999700458877065, 0.052999700458877065, 0.2606422892128892, 0.40958074019168295, 0.18617306372349227, 0.0744692254893969, 0.0744692254893969, 0.3748407482839561, 0.09371018707098902, 0.09371018707098902, 0.28113056121296703, 0.16226152361943824, 0.16226152361943824, 0.4867845708583147, 0.16226152361943824, 0.3190456183141993, 0.24814659202215503, 0.10634853943806644, 0.21269707887613287, 0.10634853943806644, 0.6405597751272951, 0.32027988756364756, 0.29346802301470004, 0.29346802301470004, 0.29346802301470004, 0.3266178310450958, 0.3266178310450958, 0.11877012038003483, 0.11877012038003483, 0.059385060190017415, 0.059385060190017415, 0.17778078873829942, 0.29630131456383235, 0.14815065728191618, 0.17778078873829942, 0.11852052582553295, 0.08889039436914971, 0.26702168119548075, 0.2002662608966106, 0.06675542029887019, 0.33377710149435097, 0.13351084059774038, 0.06675542029887019, 0.4395719910419371, 0.1850829435966051, 0.1850829435966051, 0.11567683974787818, 0.046270735899151275, 0.046270735899151275, 0.3074657415932026, 0.17294947964617646, 0.28824913274362746, 0.13451626194702615, 0.03843321769915033, 0.03843321769915033, 0.22461157593803827, 0.056152893984509566, 0.11230578796901913, 0.3369173639070574, 0.22461157593803827, 0.056152893984509566, 0.12405940920659737, 0.12405940920659737, 0.37217822761979213, 0.24811881841319475, 0.12405940920659737, 0.36779927497314285, 0.12259975832438096, 0.2860661027568889, 0.16346634443250793, 0.08173317221625397, 0.04086658610812698, 0.2604399888023059, 0.13021999440115295, 0.13021999440115295, 0.3906599832034588, 0.2643410432278659, 0.22657803705245647, 0.22657803705245647, 0.22657803705245647, 0.07552601235081882, 0.2792675822160964, 0.5585351644321928, 0.3188453207094278, 0.6376906414188556], \"Term\": [\"aba\", \"aba\", \"aba\", \"aba\", \"aba\", \"aba\", \"abanicarascon\", \"abejas\", \"abejas\", \"abejas\", \"abejas\", \"abejas\", \"abierta\", \"abierta\", \"abierta\", \"abril\", \"abril\", \"abril\", \"abril\", \"abril\", \"abril\", \"acero\", \"acero\", \"acero\", \"agua\", \"agua\", \"agua\", \"agua\", \"agua\", \"agua\", \"ahorca\", \"ahorca\", \"aire\", \"aire\", \"aire\", \"aire\", \"aire\", \"aire\", \"alameda\", \"alameda\", \"alameda\", \"alamos\", \"alamos\", \"alamos\", \"alamos\", \"alamos\", \"alcores\", \"alcores\", \"alcores\", \"alegre\", \"alegre\", \"alegre\", \"alegre\", \"alegria\", \"alegria\", \"alegria\", \"alegria\", \"alegria\", \"alegria\", \"aleluyas\", \"aleluyas\", \"alicun\", \"alma\", \"alma\", \"alma\", \"alma\", \"alma\", \"alma\", \"altar\", \"altar\", \"alto\", \"alto\", \"alto\", \"alto\", \"alto\", \"alto\", \"alvargonzalez\", \"alvargonzalez\", \"alvargonzalez\", \"alvargonzalez\", \"alvargonzalez\", \"alvargonzalez\", \"alzo\", \"alzo\", \"amarga\", \"amarga\", \"amarga\", \"amarguras\", \"amor\", \"amor\", \"amor\", \"amor\", \"amor\", \"amor\", \"ana\", \"ana\", \"ana\", \"ana\", \"ana\", \"ana\", \"anoche\", \"anoche\", \"anoche\", \"arboleda\", \"arboleda\", \"arbolillo\", \"ardia\", \"arena\", \"arena\", \"arena\", \"aroma\", \"aroma\", \"aroma\", \"aroma\", \"aroma\", \"arrebol\", \"arrebol\", \"atrio\", \"atrio\", \"atrio\", \"ayer\", \"ayer\", \"ayer\", \"ayer\", \"ayer\", \"ayer\", \"aznaitin\", \"azul\", \"azul\", \"azul\", \"azul\", \"azul\", \"azul\", \"bajo\", \"bajo\", \"bajo\", \"bajo\", \"bajo\", \"bajo\", \"balcon\", \"balcon\", \"balcon\", \"balcon\", \"balcon\", \"balcon\", \"barca\", \"barca\", \"bate\", \"beda\", \"beda\", \"belleza\", \"bendita\", \"bendita\", \"bendita\", \"bien\", \"bien\", \"bien\", \"bien\", \"bien\", \"blanca\", \"blanca\", \"blanca\", \"blanca\", \"blanca\", \"blanca\", \"brillar\", \"brota\", \"brota\", \"brota\", \"brota\", \"brota\", \"broto\", \"broto\", \"cain\", \"cain\", \"cain\", \"cain\", \"cain\", \"calavera\", \"calavera\", \"camino\", \"camino\", \"camino\", \"camino\", \"camino\", \"camino\", \"caminos\", \"caminos\", \"caminos\", \"caminos\", \"caminos\", \"caminos\", \"campo\", \"campo\", \"campo\", \"campo\", \"campo\", \"campo\", \"campos\", \"campos\", \"campos\", \"campos\", \"campos\", \"campos\", \"cantando\", \"cantar\", \"cantar\", \"cantar\", \"cantar\", \"cantar\", \"cantar\", \"cantarillo\", \"cantarillo\", \"cantarillo\", \"cantor\", \"cantos\", \"cantos\", \"capitan\", \"capitan\", \"capitan\", \"capitan\", \"casa\", \"casa\", \"casa\", \"casa\", \"casa\", \"casa\", \"castilla\", \"castilla\", \"castilla\", \"castilla\", \"castilla\", \"castilla\", \"cerrado\", \"cerrado\", \"cerrado\", \"cerrado\", \"ciegos\", \"ciegoy\", \"cielo\", \"cielo\", \"cielo\", \"cielo\", \"cielo\", \"cielo\", \"cig\", \"cig\", \"cig\", \"cig\", \"cig\", \"cincel\", \"cincel\", \"clara\", \"clara\", \"clara\", \"clara\", \"clara\", \"clara\", \"claras\", \"claras\", \"claro\", \"claro\", \"claro\", \"claro\", \"claro\", \"coger\", \"colegiales\", \"colegiales\", \"colmenas\", \"colmenas\", \"comer\", \"conmigo\", \"conmigo\", \"conmigo\", \"conmigo\", \"conmigo\", \"consejo\", \"conservan\", \"corazon\", \"corazon\", \"corazon\", \"corazon\", \"corazon\", \"corazon\", \"corcel\", \"cuca\", \"cuca\", \"cuento\", \"cuento\", \"cuerpos\", \"cuerpos\", \"dante\", \"danzar\", \"danzar\", \"dedos\", \"dedos\", \"demos\", \"dentro\", \"dentro\", \"dentro\", \"dentro\", \"dentro\", \"dentro\", \"desden\", \"desden\", \"desenga\", \"desenga\", \"despertar\", \"devocion\", \"dia\", \"dia\", \"dia\", \"dia\", \"dia\", \"dia\", \"dices\", \"dices\", \"dijo\", \"dijo\", \"dijo\", \"dijo\", \"dijo\", \"dijo\", \"dios\", \"dios\", \"dios\", \"dios\", \"dios\", \"dios\", \"dira\", \"distancia\", \"distancia\", \"distancia\", \"doce\", \"doce\", \"dolores\", \"dolores\", \"don\", \"don\", \"don\", \"don\", \"don\", \"don\", \"doncella\", \"doncella\", \"dormia\", \"dormia\", \"dormia\", \"dormia\", \"dos\", \"dos\", \"dos\", \"dos\", \"dos\", \"dos\", \"duero\", \"duero\", \"duero\", \"duero\", \"duero\", \"duero\", \"empolvadas\", \"empolvadas\", \"encinar\", \"encinar\", \"encinar\", \"encontraremos\", \"encuentro\", \"encuentro\", \"enorme\", \"enorme\", \"entrado\", \"ermita\", \"eses\", \"eses\", \"espa\", \"espa\", \"espa\", \"espa\", \"espa\", \"espa\", \"esperas\", \"esquiva\", \"estancia\", \"estancia\", \"estancia\", \"estancia\", \"europa\", \"europa\", \"europa\", \"evocar\", \"fiebreque\", \"fiesta\", \"fiesta\", \"fiesta\", \"fiesta\", \"fiesta\", \"fiestas\", \"flauta\", \"flauta\", \"flor\", \"flor\", \"flor\", \"flor\", \"flor\", \"flor\", \"fortaleza\", \"fortaleza\", \"fortaleza\", \"frente\", \"frente\", \"frente\", \"frente\", \"frente\", \"frente\", \"fria\", \"fria\", \"fria\", \"fria\", \"fria\", \"fuente\", \"fuente\", \"fuente\", \"fuente\", \"fuente\", \"fuente\", \"galan\", \"galan\", \"galan\", \"galan\", \"galgo\", \"galgo\", \"garabatos\", \"garabatos\", \"garras\", \"garras\", \"gentio\", \"gentio\", \"gitanos\", \"gitanos\", \"glorieta\", \"gracias\", \"graves\", \"grises\", \"grises\", \"grises\", \"grises\", \"grises\", \"grises\", \"guerra\", \"guerra\", \"guerra\", \"guerra\", \"guerra\", \"guerra\", \"guitarra\", \"guitarra\", \"habeis\", \"habeis\", \"hablaba\", \"habra\", \"hacienda\", \"hacienda\", \"hermosa\", \"hermosa\", \"hermosa\", \"hermosa\", \"hierros\", \"hierros\", \"hijos\", \"hijos\", \"hijos\", \"hijos\", \"hijos\", \"hizo\", \"hizo\", \"hizo\", \"hizo\", \"hizo\", \"hizo\", \"hoguera\", \"hoguera\", \"hojas\", \"hojas\", \"hojas\", \"hojas\", \"hojas\", \"hojas\", \"hombre\", \"hombre\", \"hombre\", \"hombre\", \"hombre\", \"hombre\", \"hora\", \"hora\", \"hora\", \"hora\", \"hora\", \"horas\", \"horas\", \"horas\", \"horas\", \"hoy\", \"hoy\", \"hoy\", \"hoy\", \"hoy\", \"hoy\", \"huecos\", \"humedo\", \"humedo\", \"hundida\", \"iman\", \"indiano\", \"indiano\", \"indiano\", \"insolita\", \"inventa\", \"inventa\", \"jamas\", \"jamas\", \"jardin\", \"jardin\", \"jardin\", \"jardin\", \"jardin\", \"jardin\", \"jardinero\", \"jardinero\", \"jesus\", \"jesus\", \"jesus\", \"jesus\", \"joya\", \"juan\", \"juan\", \"juan\", \"juan\", \"juan\", \"juntos\", \"juntos\", \"juntos\", \"lagrima\", \"lagrima\", \"laurel\", \"lechuzavolar\", \"lejos\", \"lejos\", \"lejos\", \"lejos\", \"lejos\", \"lejos\", \"letra\", \"linea\", \"lino\", \"lino\", \"lino\", \"lleva\", \"lleva\", \"lleva\", \"lleva\", \"lleva\", \"lleva\", \"llevar\", \"llevar\", \"loba\", \"lucia\", \"luna\", \"luna\", \"luna\", \"luna\", \"luna\", \"luna\", \"lunaen\", \"luz\", \"luz\", \"luz\", \"luz\", \"luz\", \"luz\", \"magina\", \"manchada\", \"mano\", \"mano\", \"mano\", \"mano\", \"mano\", \"mano\", \"manoque\", \"manoque\", \"manso\", \"manso\", \"mar\", \"mar\", \"mar\", \"mar\", \"mar\", \"mar\", \"maravilla\", \"marchitas\", \"marchitas\", \"mariposa\", \"mariposa\", \"mariposa\", \"martillo\", \"martillo\", \"martin\", \"martin\", \"martin\", \"martin\", \"mason\", \"miente\", \"mientes\", \"mil\", \"mil\", \"mil\", \"mil\", \"mil\", \"mirador\", \"mire\", \"mire\", \"moda\", \"moncayo\", \"moncayo\", \"moncayo\", \"moncayo\", \"monte\", \"monte\", \"monte\", \"monte\", \"monte\", \"monte\", \"montes\", \"montes\", \"montes\", \"montes\", \"montes\", \"montes\", \"mozo\", \"mozo\", \"mozo\", \"muerte\", \"muerte\", \"muerte\", \"muerte\", \"muerte\", \"muerte\", \"mujer\", \"mujer\", \"mujer\", \"mula\", \"mundo\", \"mundo\", \"mundo\", \"mundo\", \"mundo\", \"mundo\", \"nadie\", \"nadie\", \"nadie\", \"nadie\", \"nadie\", \"nadie\", \"naranjos\", \"naranjos\", \"naranjos\", \"negra\", \"negra\", \"negra\", \"negra\", \"negra\", \"negrean\", \"noche\", \"noche\", \"noche\", \"noche\", \"noche\", \"noche\", \"non\", \"non\", \"ocaso\", \"ocaso\", \"ocaso\", \"ocaso\", \"ocultan\", \"ocultan\", \"ojos\", \"ojos\", \"ojos\", \"ojos\", \"ojos\", \"ojos\", \"olivares\", \"olivares\", \"olivares\", \"olivares\", \"olivares\", \"olivarse\", \"orilla\", \"orilla\", \"orilla\", \"orilla\", \"orilla\", \"oro\", \"oro\", \"oro\", \"oro\", \"oro\", \"oro\", \"oveja\", \"padre\", \"padre\", \"padre\", \"padre\", \"padre\", \"padre\", \"palabra\", \"palabra\", \"palabra\", \"palabra\", \"palacios\", \"palacios\", \"parque\", \"parque\", \"parque\", \"parque\", \"paso\", \"paso\", \"paso\", \"paso\", \"paso\", \"paso\", \"paz\", \"paz\", \"paz\", \"paz\", \"paz\", \"pensamiento\", \"pensamiento\", \"pensamiento\", \"penso\", \"penso\", \"peor\", \"perdida\", \"perfumadas\", \"perfumadas\", \"pesa\", \"pesa\", \"pescador\", \"pescar\", \"pez\", \"piedad\", \"piedad\", \"piedra\", \"piedra\", \"piedra\", \"piedra\", \"piedra\", \"piedra\", \"piensa\", \"piensa\", \"piensa\", \"piensa\", \"piensa\", \"pinta\", \"pinta\", \"pintado\", \"pintado\", \"pla\", \"pla\", \"pla\", \"pla\", \"placer\", \"placer\", \"playa\", \"plaza\", \"plaza\", \"plaza\", \"plaza\", \"plaza\", \"plaza\", \"plumas\", \"pobre\", \"pobre\", \"pobre\", \"pobre\", \"pobre\", \"pobre\", \"pobres\", \"pobres\", \"pobres\", \"pobres\", \"poeta\", \"poeta\", \"poeta\", \"poeta\", \"poeta\", \"poeta\", \"prefiere\", \"primavera\", \"primavera\", \"primavera\", \"primavera\", \"primavera\", \"primavera\", \"prisa\", \"propio\", \"puerta\", \"puerta\", \"puerta\", \"puerta\", \"puerta\", \"puerta\", \"puerto\", \"puerto\", \"puerto\", \"puerto\", \"purpurino\", \"quema\", \"quema\", \"querido\", \"querido\", \"quimerica\", \"quise\", \"raza\", \"raza\", \"raza\", \"raza\", \"repele\", \"rie\", \"rie\", \"rie\", \"rienda\", \"rienda\", \"rincones\", \"rincones\", \"rio\", \"rio\", \"rio\", \"rio\", \"rio\", \"rio\", \"rostro\", \"rostro\", \"rostro\", \"rostro\", \"rostro\", \"rostros\", \"rostros\", \"ruido\", \"ruido\", \"saber\", \"saber\", \"saber\", \"saeta\", \"saeta\", \"saeta\", \"salas\", \"santas\", \"sed\", \"sed\", \"sed\", \"sed\", \"sed\", \"sed\", \"sedas\", \"siempre\", \"siempre\", \"siempre\", \"siempre\", \"siempre\", \"siempre\", \"sienta\", \"sierra\", \"sierra\", \"sierra\", \"sierra\", \"sierra\", \"sierra\", \"siete\", \"siete\", \"siete\", \"siniestra\", \"siniestra\", \"sol\", \"sol\", \"sol\", \"sol\", \"sol\", \"sol\", \"solo\", \"solo\", \"solo\", \"solo\", \"solo\", \"sombra\", \"sombra\", \"sombra\", \"sombra\", \"sombra\", \"sombra\", \"sombras\", \"sombras\", \"sombras\", \"sombras\", \"sonar\", \"sonar\", \"soria\", \"soria\", \"soria\", \"soria\", \"soria\", \"soria\", \"sue\", \"sue\", \"sue\", \"sue\", \"sue\", \"sue\", \"suene\", \"suene\", \"supe\", \"supremo\", \"tan\", \"tan\", \"tan\", \"tan\", \"tan\", \"tan\", \"tarde\", \"tarde\", \"tarde\", \"tarde\", \"tarde\", \"tarde\", \"tenia\", \"tenia\", \"tenia\", \"tenia\", \"tic\", \"tic\", \"tic\", \"tic\", \"tic\", \"tic\", \"tiempo\", \"tiempo\", \"tiempo\", \"tiempo\", \"tiempo\", \"tiempo\", \"tierra\", \"tierra\", \"tierra\", \"tierra\", \"tierra\", \"tierra\", \"todavia\", \"todavia\", \"todavia\", \"todavia\", \"todavia\", \"todavia\", \"torres\", \"torres\", \"torres\", \"torres\", \"torres\", \"trajo\", \"trajo\", \"tras\", \"tras\", \"tras\", \"tras\", \"tras\", \"tras\", \"triste\", \"triste\", \"triste\", \"triste\", \"triste\", \"triste\", \"troncos\", \"ultima\", \"ultimas\", \"urbion\", \"urbion\", \"urbion\", \"urbion\", \"vanidad\", \"vanidad\", \"vea\", \"vea\", \"veces\", \"veces\", \"veces\", \"veces\", \"veces\", \"velada\", \"velada\", \"velada\", \"ventana\", \"ventana\", \"ventana\", \"ventana\", \"ventana\", \"ventana\", \"verano\", \"verano\", \"verano\", \"verano\", \"verano\", \"verano\", \"verdad\", \"verdad\", \"verdad\", \"verdad\", \"verdad\", \"verdad\", \"verde\", \"verde\", \"verde\", \"verde\", \"verde\", \"verde\", \"verdes\", \"verdes\", \"verdes\", \"verdes\", \"verdes\", \"verso\", \"verso\", \"verso\", \"verso\", \"ves\", \"ves\", \"ves\", \"ves\", \"vez\", \"vez\", \"vez\", \"vez\", \"vez\", \"viajeros\", \"viajeros\", \"vicio\", \"vicio\", \"vicio\", \"vida\", \"vida\", \"vida\", \"vida\", \"vida\", \"vida\", \"vieja\", \"vieja\", \"vieja\", \"vieja\", \"vieja\", \"vieja\", \"viejas\", \"viejas\", \"viejas\", \"viejas\", \"viejas\", \"viejas\", \"viejo\", \"viejo\", \"viejo\", \"viejo\", \"viejo\", \"viejo\", \"viento\", \"viento\", \"viento\", \"viento\", \"viento\", \"viento\", \"vino\", \"vino\", \"vino\", \"vino\", \"vino\", \"vino\", \"violeta\", \"violeta\", \"violeta\", \"violeta\", \"violeta\", \"visto\", \"visto\", \"visto\", \"visto\", \"visto\", \"visto\", \"vive\", \"vive\", \"vive\", \"vive\", \"voz\", \"voz\", \"voz\", \"voz\", \"voz\", \"vueltas\", \"vueltas\", \"yertos\", \"yertos\"]}, \"R\": 30, \"lambda.step\": 0.01, \"plot.opts\": {\"xlab\": \"PC1\", \"ylab\": \"PC2\"}, \"topic.order\": [1, 4, 3, 5, 6, 2]};\n",
              "\n",
              "function LDAvis_load_lib(url, callback){\n",
              "  var s = document.createElement('script');\n",
              "  s.src = url;\n",
              "  s.async = true;\n",
              "  s.onreadystatechange = s.onload = callback;\n",
              "  s.onerror = function(){console.warn(\"failed to load library \" + url);};\n",
              "  document.getElementsByTagName(\"head\")[0].appendChild(s);\n",
              "}\n",
              "\n",
              "if(typeof(LDAvis) !== \"undefined\"){\n",
              "   // already loaded: just create the visualization\n",
              "   !function(LDAvis){\n",
              "       new LDAvis(\"#\" + \"ldavis_el391140022128283424674783847\", ldavis_el391140022128283424674783847_data);\n",
              "   }(LDAvis);\n",
              "}else if(typeof define === \"function\" && define.amd){\n",
              "   // require.js is available: use it to load d3/LDAvis\n",
              "   require.config({paths: {d3: \"https://d3js.org/d3.v5\"}});\n",
              "   require([\"d3\"], function(d3){\n",
              "      window.d3 = d3;\n",
              "      LDAvis_load_lib(\"https://cdn.jsdelivr.net/gh/bmabey/pyLDAvis@3.4.0/pyLDAvis/js/ldavis.v3.0.0.js\", function(){\n",
              "        new LDAvis(\"#\" + \"ldavis_el391140022128283424674783847\", ldavis_el391140022128283424674783847_data);\n",
              "      });\n",
              "    });\n",
              "}else{\n",
              "    // require.js not available: dynamically load d3 & LDAvis\n",
              "    LDAvis_load_lib(\"https://d3js.org/d3.v5.js\", function(){\n",
              "         LDAvis_load_lib(\"https://cdn.jsdelivr.net/gh/bmabey/pyLDAvis@3.4.0/pyLDAvis/js/ldavis.v3.0.0.js\", function(){\n",
              "                 new LDAvis(\"#\" + \"ldavis_el391140022128283424674783847\", ldavis_el391140022128283424674783847_data);\n",
              "            })\n",
              "         });\n",
              "}\n",
              "</script>"
            ]
          },
          "metadata": {},
          "execution_count": 149
        }
      ]
    },
    {
      "cell_type": "markdown",
      "source": [],
      "metadata": {
        "id": "vBMO-IJ4uwKD"
      }
    }
  ]
}