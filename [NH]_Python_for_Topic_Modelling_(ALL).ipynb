{
  "nbformat": 4,
  "nbformat_minor": 0,
  "metadata": {
    "colab": {
      "provenance": [],
      "include_colab_link": true
    },
    "kernelspec": {
      "name": "python3",
      "display_name": "Python 3"
    },
    "language_info": {
      "name": "python"
    }
  },
  "cells": [
    {
      "cell_type": "markdown",
      "metadata": {
        "id": "view-in-github",
        "colab_type": "text"
      },
      "source": [
        "<a href=\"https://colab.research.google.com/github/hsnam95/my/blob/main/%5BNH%5D_Python_for_Topic_Modelling_(ALL).ipynb\" target=\"_parent\"><img src=\"https://colab.research.google.com/assets/colab-badge.svg\" alt=\"Open In Colab\"/></a>"
      ]
    },
    {
      "cell_type": "code",
      "source": [
        "import re\n",
        "import matplotlib.pyplot as plt\n",
        "import gensim\n",
        "from gensim import models\n",
        "from gensim.models import Phrases, CoherenceModel, LdaModel, LsiModel, HdpModel\n",
        "from gensim.corpora import Dictionary"
      ],
      "metadata": {
        "id": "T2lVWFpepB0o"
      },
      "execution_count": 21,
      "outputs": []
    },
    {
      "cell_type": "markdown",
      "source": [
        "load data"
      ],
      "metadata": {
        "id": "MCNgzaQpgVQl"
      }
    },
    {
      "cell_type": "code",
      "source": [
        "from google.colab import files\n",
        "a = files.upload()\n",
        "fn = list(a.keys())[0]\n",
        "import pandas as pd\n",
        "df_news = pd.read_csv(fn)"
      ],
      "metadata": {
        "id": "7ISD7OhipXVv"
      },
      "execution_count": null,
      "outputs": []
    },
    {
      "cell_type": "markdown",
      "source": [
        "clean-up"
      ],
      "metadata": {
        "id": "-mb3bXQGqk21"
      }
    },
    {
      "cell_type": "code",
      "source": [
        "black_list = [\n",
        "                                  \"a\",\"b\",\"c\",\"d\",\"e\",\"f\",\"g\",\"h\",\"i\",\"j\",\"k\",\"l\",\"m\",\"n\",\"o\",\"p\",\"q\",\"r\",\"s\",\"t\",\"u\",\"v\",\"w\",\"x\",\"y\",\"z\", # 개별 알파벳(alfabeto) \n",
        "                                       \n",
        "                                 \"al\", \"del\",\"de\",\"en\", \"hacia\", \"por\", \"para\", \"entre\",'sobre','según', #전치사(preposiciones)\n",
        "                                 \"con\",\"comigo\",\"contigo\", \"consigo\", \"sin\",\n",
        "\n",
        "                                 'cual', 'cuál', 'cuales', 'cuáles', 'cualquier', 'cualquiera', 'cualquieras', #관계사(relativos) & 의문사(interrogativos) (2)\n",
        "                                 'cuan', 'cuán', 'cuando', 'cuándo', 'cuanta','cuánta', 'cuantas', 'cuántas', 'cuanto', 'cuánto', 'cuantos', 'cuántos',   #관계사(relativos) & 의문사(interrogativos) (1)\n",
        "                                 'donde', 'dónde', 'adonde', 'adónde','como', 'cómo',                                  #관계사(relativos) & 의문사(interrogativos) (3)\n",
        "                                 'que', 'qué', 'quien', 'quién', 'quienes', 'quiénes','quienesquiera', 'quienquiera', #관계사(relativos) & 의문사(interrogativos) (4)\n",
        "                                 'cuyo', 'cuya','cuyos','cuyas', #관계사(relativos) & 의문사(interrogativos) (4)   \n",
        "\n",
        "                                 'el', 'la', 'las', 'le', 'les', 'lo', 'los', 'un', 'una', 'unas', 'uno', 'unos', #관사(articulos)\n",
        "                                 'yo', 'me', 'mi', 'mí', 'mia', 'mía', 'mias', 'mías','mio','mío', 'mios', 'míos', 'mis', #대명사(prombres)-1S\n",
        "                                 'nos', 'nosotras', 'nosotros', 'nuestra', 'nuestras', 'nuestro', 'nuestros', #대명사(prombres)-1P\n",
        "                                 'vosotras', 'vosotros', 'vuestra', 'vuestras', 'vuestro', 'vuestros', 'os', #대명사(prombres)-2P\n",
        "                                 'él', 'ella', 'ellas', 'ello', 'ellos', #대명사(prombres)-3S (1)\n",
        "                                 'ud', 'uds', 'usted','ustedes', 'vd', 'vds', 'se', 'su', 'sus', 'suya', 'suyas', 'suyo', 'suyos', #대명사(prombres)-3S (2)\n",
        "                                 'te', 'ti', 'tí', 'tu', 'tú', 'tus', 'tuya', 'tuyas', 'tuyo', 'tuyos', #대명사(prombres)-2S\n",
        "\n",
        "                                 #'este', 'esta', 'estos', 'estas', 'ese', 'esa', 'esos', 'esas','aquel', 'aquella', 'aquellos', 'aquellas', #지시사(demostrativos)\n",
        "\n",
        "                                 'era', 'erais', 'eramos', 'éramos', 'eran', 'eras',  #SER 동사활용형(1)\n",
        "                                 'eres', 'es', 'sea', 'seáis', 'seamos', 'sean', 'seas','sois', 'somos','son', 'soy', #SER 동사활용형(2)\n",
        "                                 'fue', 'fué', 'fui', 'fuí', 'fuimos', 'fuiste', 'fuisteis', #SER 동사활용형(3)\n",
        "                                 'fuera', 'fuerais', 'fuéramos', 'fueran', 'fueras', 'fueron', 'fuese', 'fueseis', 'fuésemos','fuesen', 'fueses', #SER 동사활용형(4)\n",
        "                                 'será', 'serán', 'serás', 'seré', 'seréis', 'seremos', #SER 동사활용형(5)\n",
        "                                 'sería', 'seríais', 'seríamos', 'serían', 'serías', #SER 동사활용형(6)\n",
        "                                 'sido', 'siendo', #SER 동사활용형(7)\n",
        "\n",
        "                                 'estar', 'está', 'estais', 'estáis', 'estamos', 'estan', 'están','estás', 'estoy',  #ESTAR 동사활용형(1)\n",
        "                                 'estaba', 'estabais', 'estábamos', 'estaban', 'estabas', #ESTAR 동사활용형(2)\n",
        "                                 'estada', 'estadas', 'estando', 'estad', #ESTAR 동사활용형(3)\n",
        "                                 'estará', 'estarán', 'estarás', 'estaré', 'estaréis', 'estaremos', #ESTAR 동사활용형(4)\n",
        "                                 'estaría', 'estaríais', 'estaríamos', 'estarían', 'estarías', #ESTAR 동사활용형(5)\n",
        "                                 'esté', 'estéis', 'estemos', 'estén', 'estés', #ESTAR 동사활용형(6) \n",
        "                                 'estuve', 'estuviera', 'estuvierais', 'estuviéramos', 'estuvieran', 'estuvieras', 'estuvieron', #ESTAR 동사활용형(7)\n",
        "                                 'estuviese', 'estuvieseis', 'estuviésemos', 'estuviesen', 'estuvieses', 'estuvimos', 'estuviste', 'estuvisteis', 'estuvo',  #ESTAR 동사활용형(8)\n",
        "\n",
        "                                 'haber', 'ha', 'habéis', 'han', 'has', 'hay', 'he', 'hemos',  #HABER 동사활용형(1)\n",
        "                                 'habia', 'había', 'habíais', 'habíamos', 'habían', 'habías',  #HABER 동사활용형(2)\n",
        "                                 'habida', 'habidas', 'habido', 'habidos', 'habiendo',         #HABER 동사활용형(3)\n",
        "                                 'habrá', 'habrán', 'habrás', 'habré', 'habréis', 'habremos',  #HABER 동사활용형(4)\n",
        "                                 'habría', 'habríais', 'habríamos', 'habrían', 'habrías',      #HABER 동사활용형(5)\n",
        "                                 'haya', 'hayáis', 'hayamos', 'hayan', 'hayas',                #HABER 동사활용형(6)\n",
        "                                 'hube', 'hubimos', 'hubiste', 'hubisteis', 'hubo',            #HABER 동사활용형(7)\n",
        "                                 'hubiera', 'hubierais', 'hubiéramos', 'hubieran', 'hubieras', 'hubieron',  #HABER 동사활용형(8) \n",
        "                                 'hubiese', 'hubieseis', 'hubiésemos', 'hubiesen', 'hubieses', #HABER 동사활용형(9) \n",
        "\n",
        "                                 'ni','no','jamás','nunca','nada','ningún','ninguna','ninguno', #부정어(negativos)\n",
        "                                 'pero','mas', 'aunque','pues','porque','si','sí', #접속사(conjunciones)\n",
        "                                 'algo','algún','alguna','algunas','alguno','algunos', #부정어(indefinidos)\n",
        "                                 'embargo',                                     #기타(etc)                                                                   ))         \n",
        "  \n",
        "                                   \"LBR\",\n",
        "                                   \"ttl\",\n",
        "                                   \"mtl\",\n",
        "                                   \"ftl\",\n",
        "                                   \"=\",\"===============================================\",\n",
        "                                   \"01\",\"02\",\"03\",\"04\",\"05\",\"06\",\"07\",\"08\",\"09\"]"
      ],
      "metadata": {
        "id": "fQXEpuoHqKMR"
      },
      "execution_count": 12,
      "outputs": []
    },
    {
      "cell_type": "code",
      "source": [
        "from nltk.corpus import stopwords\n",
        "import nltk\n",
        "nltk.download('stopwords')\n",
        "stop = set(stopwords.words('spanish'))\n",
        "additional_stopwords=set(black_list)\n",
        "stopwords = stop.union(additional_stopwords)"
      ],
      "metadata": {
        "id": "HvdtnQJeq98_"
      },
      "execution_count": null,
      "outputs": []
    },
    {
      "cell_type": "code",
      "source": [
        "import spacy\n",
        "!python -m spacy download es_core_news_sm\n",
        "nlp = spacy.load(\"es_core_news_sm\")"
      ],
      "metadata": {
        "id": "HTiSGf6_rEDM"
      },
      "execution_count": null,
      "outputs": []
    },
    {
      "cell_type": "code",
      "source": [
        "def lemmatization(texts):\n",
        "    texts_out = [token.text for token in nlp(texts) if token.text not in black_list and len(token.text)>2]\n",
        "    return texts_out"
      ],
      "metadata": {
        "id": "2d9a8dBznPUd"
      },
      "execution_count": 16,
      "outputs": []
    },
    {
      "cell_type": "code",
      "source": [
        "# Detect phrases, based on collected collocation counts. Adjacent words that appear together more frequently than expected are joined together with the _ character.\n",
        "bigram = gensim.models.Phrases(df_news.texto.to_list())"
      ],
      "metadata": {
        "id": "HZXpUnfi6dOq"
      },
      "execution_count": 22,
      "outputs": []
    },
    {
      "cell_type": "code",
      "source": [
        "def cleaner(word):\n",
        "  word = re.sub(r'((http|https)\\:\\/\\/)?[a-zA-Z0-9\\.\\/\\?\\:@\\-_=#]+\\.([a-zA-Z]){2,6}([a-zA-Z0-9\\.\\&\\/\\?\\:@\\-_=#])*', '', word, flags=re.MULTILINE)\n",
        "  word = re.sub(r'(?::|;|=)(?:-)?(?:\\)|\\(|D|P)', \"\", word)\n",
        "  word = re.sub(r'ee.uu', 'eeuu', word)\n",
        "  word = re.sub(r'\\#\\.', '', word)\n",
        "  word = re.sub(r'\\n', '', word)\n",
        "  word = re.sub(r',', '', word)\n",
        "  word = re.sub(r'\\-', ' ', word)\n",
        "  word = re.sub(r'\\.{3}', ' ', word)\n",
        "  word = re.sub(r'a{2,}', 'a', word)\n",
        "  word = re.sub(r'é{2,}', 'é', word)\n",
        "  word = re.sub(r'i{2,}', 'i', word)\n",
        "  word = re.sub(r'ja{2,}', 'ja', word) \n",
        "  word = re.sub(r'á', 'a', word)\n",
        "  word = re.sub(r'é', 'e', word)\n",
        "  word = re.sub(r'í', 'i', word)\n",
        "  word = re.sub(r'ó', 'o', word)\n",
        "  word = re.sub(r'ú', 'u', word)  \n",
        "  word = re.sub('[^a-zA-Z]', ' ', word)\n",
        "  list_word_clean = []\n",
        "  for w1 in word.split(\" \"):\n",
        "    if  w1.lower() not in stopwords:\n",
        "      list_word_clean.append(w1.lower())\n",
        "\n",
        "  bigram_list = bigram[list_word_clean]\n",
        "  # 재조합해서 lemmatize한 list\n",
        "  out_text = lemmatization(\" \".join(bigram_list))\n",
        "  return out_text"
      ],
      "metadata": {
        "id": "n_3wAGvHnTSW"
      },
      "execution_count": 23,
      "outputs": []
    },
    {
      "cell_type": "code",
      "source": [
        "df_news['texto'] = df_news['texto'].apply(cleaner)"
      ],
      "metadata": {
        "id": "WzlZ8FlLrcDt"
      },
      "execution_count": null,
      "outputs": []
    },
    {
      "cell_type": "markdown",
      "source": [
        "prepare corpus for gensim topic modeling"
      ],
      "metadata": {
        "id": "cIosAjhsrdd9"
      }
    },
    {
      "cell_type": "code",
      "source": [
        "dictionary = Dictionary(df_news['texto'].to_list())\n",
        "dictionary.compactify() #??\n",
        "# Filter extremes\n",
        "dictionary.filter_extremes(no_below=2, no_above=0.97, keep_n=None)\n",
        "dictionary.compactify() #??\n",
        "\n",
        "corpus = [dictionary.doc2bow(text) for text in df_news['texto'].to_list()]"
      ],
      "metadata": {
        "id": "MoqHmNhHre5-"
      },
      "execution_count": 25,
      "outputs": []
    },
    {
      "cell_type": "markdown",
      "source": [
        "# Evaluate models"
      ],
      "metadata": {
        "id": "7Snf31_FQ6Uf"
      }
    },
    {
      "cell_type": "markdown",
      "source": [
        "preparing useful functions"
      ],
      "metadata": {
        "id": "4aM9U4t_kDed"
      }
    },
    {
      "cell_type": "markdown",
      "source": [
        "a function to display topics better (for HDP, LSI, LDA)"
      ],
      "metadata": {
        "id": "nGj3sl2Xjd5A"
      }
    },
    {
      "cell_type": "code",
      "source": [
        "def display_topics(model, model_type=\"lda\"): # for all models\n",
        "  for topic_idx, topic in enumerate(model.print_topics()):\n",
        "    print (\"Topic %d:\" % (topic_idx))\n",
        "    if model_type== \"hdp\":\n",
        "      print (\" \".join(re.findall( r'\\*(.[^\\*-S]+).?', topic[1])), \"\\n\")\n",
        "    else:\n",
        "      print (\" \".join(re.findall( r'\\\"(.[^\"]+).?', topic[1])), \"\\n\")"
      ],
      "metadata": {
        "id": "mysUf0HEr6-r"
      },
      "execution_count": 28,
      "outputs": []
    },
    {
      "cell_type": "markdown",
      "source": [
        "a function to evaluate the number of topics (for LSI, LDA only)"
      ],
      "metadata": {
        "id": "F1xZnAeARNwZ"
      }
    },
    {
      "cell_type": "code",
      "source": [
        "def evaluate_graph(dictionary, corpus, texts, limit, model): # for LSI, LDA\n",
        "    \"\"\"\n",
        "    Function to display num_topics - LDA graph using c_v coherence\n",
        "    \n",
        "    Parameters:\n",
        "    ----------\n",
        "    dictionary : Gensim dictionary\n",
        "    corpus : Gensim corpus\n",
        "    limit : topic limit\n",
        "    \n",
        "    Returns:\n",
        "    -------\n",
        "    lm_list : List of LDA topic models\n",
        "    c_v : Coherence values corresponding to the LDA model with respective number of topics\n",
        "    \"\"\"\n",
        "    c_v = []\n",
        "    lm_list = []\n",
        "    for num_topics in range(1, limit):\n",
        "        if model == 'lsi':\n",
        "          lm = LsiModel(corpus=corpus, num_topics=num_topics, id2word=dictionary)\n",
        "        else:\n",
        "          lm = LdaModel(corpus=corpus, num_topics=num_topics, id2word=dictionary)\n",
        "        lm_list.append(lm)\n",
        "        cm = CoherenceModel(model=lm, texts=texts, dictionary=dictionary, coherence='c_v')\n",
        "        c_v.append(cm.get_coherence())\n",
        "        \n",
        "    # Show graph\n",
        "    x = range(1, limit)\n",
        "    plt.plot(x, c_v)\n",
        "    plt.xlabel(\"num_topics\")\n",
        "    plt.ylabel(\"Coherence score\")\n",
        "    plt.legend((\"c_v\"), loc='best')\n",
        "    plt.show()\n",
        "    \n",
        "    return lm_list, c_v"
      ],
      "metadata": {
        "id": "bJZNVNLpr77U"
      },
      "execution_count": 30,
      "outputs": []
    },
    {
      "cell_type": "markdown",
      "source": [
        "1. Hierarchical Dirichlet process Model"
      ],
      "metadata": {
        "id": "v_lMuA4XrnXC"
      }
    },
    {
      "cell_type": "code",
      "source": [
        "import time\n",
        "time.clock = time.time\n",
        "hdpmodel = HdpModel(corpus=corpus, id2word=dictionary, random_state= 30)"
      ],
      "metadata": {
        "id": "SHG7hYxCr3YD"
      },
      "execution_count": null,
      "outputs": []
    },
    {
      "cell_type": "markdown",
      "source": [
        "2. Latent Semantic Indexing model"
      ],
      "metadata": {
        "id": "dSdNRkzwruDX"
      }
    },
    {
      "cell_type": "code",
      "source": [
        "lmlist_lsi, c_v = evaluate_graph(dictionary=dictionary, corpus=corpus, texts=df_news['texto'].to_list(), limit=21, model= \"lsi\")"
      ],
      "metadata": {
        "id": "4ejOEzZdsfvi"
      },
      "execution_count": null,
      "outputs": []
    },
    {
      "cell_type": "markdown",
      "source": [
        "3. Latent Dirichlet Allocation Model"
      ],
      "metadata": {
        "id": "xCQopweArvSX"
      }
    },
    {
      "cell_type": "code",
      "source": [
        "lmlist_lda, c_v = evaluate_graph(dictionary=dictionary, corpus=corpus, texts=df_news['texto'].to_list(), limit=21, model= \"lda\")"
      ],
      "metadata": {
        "id": "nu3IgpL6sqjM"
      },
      "execution_count": null,
      "outputs": []
    },
    {
      "cell_type": "markdown",
      "source": [
        "# select a best model for LSI and LDA and report the summary of all three models (HDP, LSI, LDA)"
      ],
      "metadata": {
        "id": "Ik-yrJhTsu6U"
      }
    },
    {
      "cell_type": "code",
      "source": [
        "ldamodel = lmlist_lda[5]\n",
        "lsimodel = lmlist_lsi[2]\n",
        "\n",
        "hdptopics = [[word for word, prob in topic] for topicid, topic in hdpmodel.show_topics(formatted=False)]\n",
        "lsitopics = [[word for word, prob in topic] for topicid, topic in lsimodel.show_topics(formatted=False)]\n",
        "ldatopics = [[word for word, prob in topic] for topicid, topic in ldamodel.show_topics(formatted=False)]"
      ],
      "metadata": {
        "id": "H2VUKYGosy72"
      },
      "execution_count": 43,
      "outputs": []
    },
    {
      "cell_type": "code",
      "source": [
        "hdp_coherence = CoherenceModel(topics=hdptopics[:10], texts=df_news['texto'].to_list(), dictionary=dictionary, window_size=10).get_coherence() \n",
        "lsi_coherence = CoherenceModel(topics=lsitopics[:10], texts=df_news['texto'].to_list(), dictionary=dictionary, window_size=10).get_coherence() \n",
        "lda_coherence = CoherenceModel(topics=ldatopics, texts=df_news['texto'].to_list(), dictionary=dictionary, window_size=10).get_coherence() "
      ],
      "metadata": {
        "id": "YyicIxDts0LC"
      },
      "execution_count": 34,
      "outputs": []
    },
    {
      "cell_type": "code",
      "source": [
        "import seaborn as sns\n",
        "\n",
        "coherences = [hdp_coherence, lsi_coherence, lda_coherence]\n",
        "n = len(coherences)\n",
        "x = ['hdp_coherence', 'lsi_coherence', 'lda_coherence']\n",
        "sns.barplot(x, coherences)"
      ],
      "metadata": {
        "id": "ioSpCKlKs2E4"
      },
      "execution_count": null,
      "outputs": []
    },
    {
      "cell_type": "markdown",
      "source": [
        "# Assign a dominant topic to each document (with LDA selected)"
      ],
      "metadata": {
        "id": "AmjmbduBaVqx"
      }
    },
    {
      "cell_type": "code",
      "source": [
        "def format_topics_sentences(ldamodel=0, corpus=corpus, texts=0):\n",
        "    # Init output\n",
        "    sent_topics_df = pd.DataFrame()-n\n",
        "\n",
        "    # Get main topic in each document\n",
        "    for i, row in enumerate(ldamodel[corpus]):\n",
        "        row = sorted(row, key=lambda x: (x[1]), reverse=True)\n",
        "        # Get the Dominant topic, Perc Contribution and Keywords for each document\n",
        "        for j, (topic_num, prop_topic) in enumerate(row):\n",
        "            if j == 0:  # => dominant topic\n",
        "                wp = ldamodel.show_topic(topic_num)\n",
        "                topic_keywords = \", \".join([word for word, prop in wp])\n",
        "                sent_topics_df = sent_topics_df.append(pd.Series([int(topic_num), round(prop_topic,4), topic_keywords]), ignore_index=True)\n",
        "            else:\n",
        "                break\n",
        "    sent_topics_df.columns = ['Dominant_Topic', 'Perc_Contribution', 'Topic_Keywords']\n",
        "\n",
        "    # Add original text to the end of the output\n",
        "    contents = pd.Series(texts)\n",
        "    sent_topics_df = pd.concat([sent_topics_df, contents], axis=1)\n",
        "    return(sent_topics_df)"
      ],
      "metadata": {
        "id": "1GIyFKV4te4z"
      },
      "execution_count": 44,
      "outputs": []
    },
    {
      "cell_type": "code",
      "source": [
        "df_topic_sents_keywords = format_topics_sentences(ldamodel, corpus=corpus, texts=df_news['texto'].to_list())\n",
        "\n",
        "# Format\n",
        "df_dominant_topic = df_topic_sents_keywords.reset_index()\n",
        "df_dominant_topic.columns = ['Document_No', 'Dominant_Topic', 'Topic_Perc_Contrib', 'Keywords', 'Text']\n",
        "\n",
        "# Show\n",
        "df_dominant_topic.head(500)"
      ],
      "metadata": {
        "id": "dtTKmIW1tgG5",
        "outputId": "725eb90b-772b-4ea8-a112-286452f2059a",
        "colab": {
          "base_uri": "https://localhost:8080/",
          "height": 424
        }
      },
      "execution_count": 45,
      "outputs": [
        {
          "output_type": "execute_result",
          "data": {
            "text/plain": [
              "     Document_No  Dominant_Topic  Topic_Perc_Contrib  \\\n",
              "0              0             0.0              0.9174   \n",
              "1              1             2.0              0.8805   \n",
              "2              2             2.0              0.8542   \n",
              "3              3             5.0              0.5471   \n",
              "4              4             5.0              0.8611   \n",
              "..           ...             ...                 ...   \n",
              "495          495             5.0              0.7935   \n",
              "496          496             3.0              0.7359   \n",
              "497          497             2.0              0.6344   \n",
              "498          498             0.0              0.5832   \n",
              "499          499             4.0              0.8146   \n",
              "\n",
              "                                              Keywords  \\\n",
              "0    mar, ojos, tiempo, corazon, tarde, tierra, oro...   \n",
              "1    claro, corazon, agua, mar, calle, tierra, luna...   \n",
              "2    claro, corazon, agua, mar, calle, tierra, luna...   \n",
              "3    ana, luna, ayer, mar, tierra, sue, amor, flor,...   \n",
              "4    ana, luna, ayer, mar, tierra, sue, amor, flor,...   \n",
              "..                                                 ...   \n",
              "495  ana, luna, ayer, mar, tierra, sue, amor, flor,...   \n",
              "496  busca, espejo, blanca, corazon, solo, tierra, ...   \n",
              "497  claro, corazon, agua, mar, calle, tierra, luna...   \n",
              "498  mar, ojos, tiempo, corazon, tarde, tierra, oro...   \n",
              "499  viento, claro, dios, mar, noche, siempre, agua...   \n",
              "\n",
              "                                                  Text  \n",
              "0    [sala, familiar, sombria, querido, hermano, su...  \n",
              "1    [andado, caminos, abierto, muchas, veredas, na...  \n",
              "2    [plaza, naranjos, encendidos, frutas, redondas...  \n",
              "3    [tierra, dieron, tarde, horrible, mes, julio, ...  \n",
              "4    [tarde, parda, fria, invierno, colegiales, est...  \n",
              "..                                                 ...  \n",
              "495  [plaza, torrela, torre, balconel, balcon, dama...  \n",
              "496  [calle, celosen, veinte, rejas, otrohablando, ...  \n",
              "497                           [malos, sue, despertare]  \n",
              "498            [despertarancampanas, albaque, sonando]  \n",
              "499  [ventanaun, ramo, rosas, dio, ana, laberinto, ...  \n",
              "\n",
              "[500 rows x 5 columns]"
            ],
            "text/html": [
              "\n",
              "  <div id=\"df-7e02dbda-4cb0-41fa-88b9-b796f27123d0\">\n",
              "    <div class=\"colab-df-container\">\n",
              "      <div>\n",
              "<style scoped>\n",
              "    .dataframe tbody tr th:only-of-type {\n",
              "        vertical-align: middle;\n",
              "    }\n",
              "\n",
              "    .dataframe tbody tr th {\n",
              "        vertical-align: top;\n",
              "    }\n",
              "\n",
              "    .dataframe thead th {\n",
              "        text-align: right;\n",
              "    }\n",
              "</style>\n",
              "<table border=\"1\" class=\"dataframe\">\n",
              "  <thead>\n",
              "    <tr style=\"text-align: right;\">\n",
              "      <th></th>\n",
              "      <th>Document_No</th>\n",
              "      <th>Dominant_Topic</th>\n",
              "      <th>Topic_Perc_Contrib</th>\n",
              "      <th>Keywords</th>\n",
              "      <th>Text</th>\n",
              "    </tr>\n",
              "  </thead>\n",
              "  <tbody>\n",
              "    <tr>\n",
              "      <th>0</th>\n",
              "      <td>0</td>\n",
              "      <td>0.0</td>\n",
              "      <td>0.9174</td>\n",
              "      <td>mar, ojos, tiempo, corazon, tarde, tierra, oro...</td>\n",
              "      <td>[sala, familiar, sombria, querido, hermano, su...</td>\n",
              "    </tr>\n",
              "    <tr>\n",
              "      <th>1</th>\n",
              "      <td>1</td>\n",
              "      <td>2.0</td>\n",
              "      <td>0.8805</td>\n",
              "      <td>claro, corazon, agua, mar, calle, tierra, luna...</td>\n",
              "      <td>[andado, caminos, abierto, muchas, veredas, na...</td>\n",
              "    </tr>\n",
              "    <tr>\n",
              "      <th>2</th>\n",
              "      <td>2</td>\n",
              "      <td>2.0</td>\n",
              "      <td>0.8542</td>\n",
              "      <td>claro, corazon, agua, mar, calle, tierra, luna...</td>\n",
              "      <td>[plaza, naranjos, encendidos, frutas, redondas...</td>\n",
              "    </tr>\n",
              "    <tr>\n",
              "      <th>3</th>\n",
              "      <td>3</td>\n",
              "      <td>5.0</td>\n",
              "      <td>0.5471</td>\n",
              "      <td>ana, luna, ayer, mar, tierra, sue, amor, flor,...</td>\n",
              "      <td>[tierra, dieron, tarde, horrible, mes, julio, ...</td>\n",
              "    </tr>\n",
              "    <tr>\n",
              "      <th>4</th>\n",
              "      <td>4</td>\n",
              "      <td>5.0</td>\n",
              "      <td>0.8611</td>\n",
              "      <td>ana, luna, ayer, mar, tierra, sue, amor, flor,...</td>\n",
              "      <td>[tarde, parda, fria, invierno, colegiales, est...</td>\n",
              "    </tr>\n",
              "    <tr>\n",
              "      <th>...</th>\n",
              "      <td>...</td>\n",
              "      <td>...</td>\n",
              "      <td>...</td>\n",
              "      <td>...</td>\n",
              "      <td>...</td>\n",
              "    </tr>\n",
              "    <tr>\n",
              "      <th>495</th>\n",
              "      <td>495</td>\n",
              "      <td>5.0</td>\n",
              "      <td>0.7935</td>\n",
              "      <td>ana, luna, ayer, mar, tierra, sue, amor, flor,...</td>\n",
              "      <td>[plaza, torrela, torre, balconel, balcon, dama...</td>\n",
              "    </tr>\n",
              "    <tr>\n",
              "      <th>496</th>\n",
              "      <td>496</td>\n",
              "      <td>3.0</td>\n",
              "      <td>0.7359</td>\n",
              "      <td>busca, espejo, blanca, corazon, solo, tierra, ...</td>\n",
              "      <td>[calle, celosen, veinte, rejas, otrohablando, ...</td>\n",
              "    </tr>\n",
              "    <tr>\n",
              "      <th>497</th>\n",
              "      <td>497</td>\n",
              "      <td>2.0</td>\n",
              "      <td>0.6344</td>\n",
              "      <td>claro, corazon, agua, mar, calle, tierra, luna...</td>\n",
              "      <td>[malos, sue, despertare]</td>\n",
              "    </tr>\n",
              "    <tr>\n",
              "      <th>498</th>\n",
              "      <td>498</td>\n",
              "      <td>0.0</td>\n",
              "      <td>0.5832</td>\n",
              "      <td>mar, ojos, tiempo, corazon, tarde, tierra, oro...</td>\n",
              "      <td>[despertarancampanas, albaque, sonando]</td>\n",
              "    </tr>\n",
              "    <tr>\n",
              "      <th>499</th>\n",
              "      <td>499</td>\n",
              "      <td>4.0</td>\n",
              "      <td>0.8146</td>\n",
              "      <td>viento, claro, dios, mar, noche, siempre, agua...</td>\n",
              "      <td>[ventanaun, ramo, rosas, dio, ana, laberinto, ...</td>\n",
              "    </tr>\n",
              "  </tbody>\n",
              "</table>\n",
              "<p>500 rows × 5 columns</p>\n",
              "</div>\n",
              "      <button class=\"colab-df-convert\" onclick=\"convertToInteractive('df-7e02dbda-4cb0-41fa-88b9-b796f27123d0')\"\n",
              "              title=\"Convert this dataframe to an interactive table.\"\n",
              "              style=\"display:none;\">\n",
              "        \n",
              "  <svg xmlns=\"http://www.w3.org/2000/svg\" height=\"24px\"viewBox=\"0 0 24 24\"\n",
              "       width=\"24px\">\n",
              "    <path d=\"M0 0h24v24H0V0z\" fill=\"none\"/>\n",
              "    <path d=\"M18.56 5.44l.94 2.06.94-2.06 2.06-.94-2.06-.94-.94-2.06-.94 2.06-2.06.94zm-11 1L8.5 8.5l.94-2.06 2.06-.94-2.06-.94L8.5 2.5l-.94 2.06-2.06.94zm10 10l.94 2.06.94-2.06 2.06-.94-2.06-.94-.94-2.06-.94 2.06-2.06.94z\"/><path d=\"M17.41 7.96l-1.37-1.37c-.4-.4-.92-.59-1.43-.59-.52 0-1.04.2-1.43.59L10.3 9.45l-7.72 7.72c-.78.78-.78 2.05 0 2.83L4 21.41c.39.39.9.59 1.41.59.51 0 1.02-.2 1.41-.59l7.78-7.78 2.81-2.81c.8-.78.8-2.07 0-2.86zM5.41 20L4 18.59l7.72-7.72 1.47 1.35L5.41 20z\"/>\n",
              "  </svg>\n",
              "      </button>\n",
              "      \n",
              "  <style>\n",
              "    .colab-df-container {\n",
              "      display:flex;\n",
              "      flex-wrap:wrap;\n",
              "      gap: 12px;\n",
              "    }\n",
              "\n",
              "    .colab-df-convert {\n",
              "      background-color: #E8F0FE;\n",
              "      border: none;\n",
              "      border-radius: 50%;\n",
              "      cursor: pointer;\n",
              "      display: none;\n",
              "      fill: #1967D2;\n",
              "      height: 32px;\n",
              "      padding: 0 0 0 0;\n",
              "      width: 32px;\n",
              "    }\n",
              "\n",
              "    .colab-df-convert:hover {\n",
              "      background-color: #E2EBFA;\n",
              "      box-shadow: 0px 1px 2px rgba(60, 64, 67, 0.3), 0px 1px 3px 1px rgba(60, 64, 67, 0.15);\n",
              "      fill: #174EA6;\n",
              "    }\n",
              "\n",
              "    [theme=dark] .colab-df-convert {\n",
              "      background-color: #3B4455;\n",
              "      fill: #D2E3FC;\n",
              "    }\n",
              "\n",
              "    [theme=dark] .colab-df-convert:hover {\n",
              "      background-color: #434B5C;\n",
              "      box-shadow: 0px 1px 3px 1px rgba(0, 0, 0, 0.15);\n",
              "      filter: drop-shadow(0px 1px 2px rgba(0, 0, 0, 0.3));\n",
              "      fill: #FFFFFF;\n",
              "    }\n",
              "  </style>\n",
              "\n",
              "      <script>\n",
              "        const buttonEl =\n",
              "          document.querySelector('#df-7e02dbda-4cb0-41fa-88b9-b796f27123d0 button.colab-df-convert');\n",
              "        buttonEl.style.display =\n",
              "          google.colab.kernel.accessAllowed ? 'block' : 'none';\n",
              "\n",
              "        async function convertToInteractive(key) {\n",
              "          const element = document.querySelector('#df-7e02dbda-4cb0-41fa-88b9-b796f27123d0');\n",
              "          const dataTable =\n",
              "            await google.colab.kernel.invokeFunction('convertToInteractive',\n",
              "                                                     [key], {});\n",
              "          if (!dataTable) return;\n",
              "\n",
              "          const docLinkHtml = 'Like what you see? Visit the ' +\n",
              "            '<a target=\"_blank\" href=https://colab.research.google.com/notebooks/data_table.ipynb>data table notebook</a>'\n",
              "            + ' to learn more about interactive tables.';\n",
              "          element.innerHTML = '';\n",
              "          dataTable['output_type'] = 'display_data';\n",
              "          await google.colab.output.renderOutput(dataTable, element);\n",
              "          const docLink = document.createElement('div');\n",
              "          docLink.innerHTML = docLinkHtml;\n",
              "          element.appendChild(docLink);\n",
              "        }\n",
              "      </script>\n",
              "    </div>\n",
              "  </div>\n",
              "  "
            ]
          },
          "metadata": {},
          "execution_count": 45
        }
      ]
    },
    {
      "cell_type": "markdown",
      "source": [
        "# assign a specific name to a topic and possible analyises"
      ],
      "metadata": {
        "id": "-UlgNzJytkn1"
      }
    },
    {
      "cell_type": "code",
      "source": [
        "label_dicc = {0:'TEMA1', 1:'TEMA2', 2:'TEMA3', 3: 'TEMA4', 4:'TEMA5', 5:'TEMA6', 6:'TEMA7', \n",
        "              7:'TEMA8', 8:'TEMA9', 9: 'TEMA10', 10:'TEMA11', 11:'TEMA12'}\n",
        "df_dominant_topic['Dominant_Topic'] = df_dominant_topic['Dominant_Topic'].astype('int64')\n",
        "df_dominant_topic['Dominant_Topic'] = df_dominant_topic['Dominant_Topic'].map(label_dicc)\n",
        "df_news['labels'] = df_dominant_topic['Dominant_Topic']"
      ],
      "metadata": {
        "id": "66DsHVBOtiQT"
      },
      "execution_count": 38,
      "outputs": []
    },
    {
      "cell_type": "markdown",
      "source": [
        "Let's examine some text and its topics."
      ],
      "metadata": {
        "id": "Mufi6S8ltsNq"
      }
    },
    {
      "cell_type": "code",
      "source": [
        "df_news[ df_news['labels'] == 'TEMA5'].head().texto"
      ],
      "metadata": {
        "id": "rVm-DEq9tv0X",
        "colab": {
          "base_uri": "https://localhost:8080/"
        },
        "outputId": "9df5c779-29c4-4964-ff7a-9385495f482d"
      },
      "execution_count": 39,
      "outputs": [
        {
          "output_type": "execute_result",
          "data": {
            "text/plain": [
              "25    [figuras, atrio, humildes, cada, dia, lejanas,...\n",
              "31    [ascuas, crepusculo, morado, detras, negro, ci...\n",
              "33    [dijo, alba, primavera, floreci, corazon, somb...\n",
              "36    [dime, noche, amiga, amada, vieja, traes, reta...\n",
              "38    [llega, sediento, ver, agua, correr, dice, sed...\n",
              "Name: texto, dtype: object"
            ]
          },
          "metadata": {},
          "execution_count": 39
        }
      ]
    },
    {
      "cell_type": "markdown",
      "source": [
        "Let's see the distribution of topics to check if the topis are balanced\n"
      ],
      "metadata": {
        "id": "05B66e98txav"
      }
    },
    {
      "cell_type": "code",
      "source": [
        "ax = df_dominant_topic['Dominant_Topic'].value_counts().plot(kind='bar')\n",
        "plt.show()"
      ],
      "metadata": {
        "id": "iLLKhG7wt39F",
        "outputId": "a842844f-a2d8-47f6-d967-7775dff6a68e",
        "colab": {
          "base_uri": "https://localhost:8080/",
          "height": 289
        }
      },
      "execution_count": 40,
      "outputs": [
        {
          "output_type": "display_data",
          "data": {
            "text/plain": [
              "<Figure size 432x288 with 1 Axes>"
            ],
            "image/png": "[encoded data removed]"
          },
          "metadata": {
            "needs_background": "light"
          }
        }
      ]
    },
    {
      "cell_type": "markdown",
      "source": [
        "# Final visualization!"
      ],
      "metadata": {
        "id": "hAeUQrHXt8ce"
      }
    },
    {
      "cell_type": "code",
      "source": [
        "!pip install pyLDAvis"
      ],
      "metadata": {
        "id": "LAYmBzj5uzNM"
      },
      "execution_count": null,
      "outputs": []
    },
    {
      "cell_type": "code",
      "source": [
        "import pyLDAvis, pyLDAvis.gensim\n",
        "pyLDAvis.enable_notebook()\n",
        "pyLDAvis.gensim.prepare(ldamodel, corpus, dictionary)"
      ],
      "metadata": {
        "id": "G4bc0HDGu1IC",
        "colab": {
          "base_uri": "https://localhost:8080/",
          "height": 917
        },
        "outputId": "72621a5b-71b4-485d-dee8-41ddf763b86a"
      },
      "execution_count": 42,
      "outputs": [
        {
          "output_type": "stream",
          "name": "stderr",
          "text": [
            "/usr/local/lib/python3.8/dist-packages/pyLDAvis/_prepare.py:243: FutureWarning: In a future version of pandas all arguments of DataFrame.drop except for the argument 'labels' will be keyword-only\n",
            "  default_term_info = default_term_info.sort_values(\n"
          ]
        },
        {
          "output_type": "execute_result",
          "data": {
            "text/plain": [
              "PreparedData(topic_coordinates=              x         y  topics  cluster       Freq\n",
              "topic                                                \n",
              "5     -0.038299  0.019745       1        1  20.374380\n",
              "0     -0.010237 -0.017354       2        1  18.769952\n",
              "3      0.000822 -0.014822       3        1  17.398706\n",
              "4      0.024623  0.034492       4        1  15.055135\n",
              "2      0.010354 -0.009413       5        1  15.024520\n",
              "1      0.012737 -0.012648       6        1  13.377307, topic_info=         Term      Freq     Total Category  logprob  loglift\n",
              "10      claro  3.000000  3.000000  Default  30.0000  30.0000\n",
              "579     busca  2.000000  2.000000  Default  29.0000  29.0000\n",
              "1616  hombres  1.000000  1.000000  Default  28.0000  28.0000\n",
              "2283   teatro  1.000000  1.000000  Default  27.0000  27.0000\n",
              "1205    vivir  2.000000  2.000000  Default  26.0000  26.0000\n",
              "...       ...       ...       ...      ...      ...      ...\n",
              "158      azul  0.447798  2.556140   Topic6  -6.5073   0.2697\n",
              "671       voz  0.440584  2.383141   Topic6  -6.5235   0.3235\n",
              "166      flor  0.440773  2.626254   Topic6  -6.5231   0.2268\n",
              "467      ojos  0.448097  4.317489   Topic6  -6.5066  -0.2538\n",
              "534      amor  0.440145  3.917390   Topic6  -6.5245  -0.1745\n",
              "\n",
              "[399 rows x 6 columns], token_table=      Topic      Freq     Term\n",
              "term                          \n",
              "533       6  0.637599      aba\n",
              "2405      2  0.761299  abanico\n",
              "94        1  0.214410     agua\n",
              "94        2  0.214410     agua\n",
              "94        3  0.214410     agua\n",
              "...     ...       ...      ...\n",
              "1205      4  0.455112    vivir\n",
              "153       3  0.837771    voces\n",
              "1017      2  0.744798    volar\n",
              "671       4  0.419614      voz\n",
              "712       2  0.830918    vuelo\n",
              "\n",
              "[261 rows x 3 columns], R=30, lambda_step=0.01, plot_opts={'xlab': 'PC1', 'ylab': 'PC2'}, topic_order=[6, 1, 4, 5, 3, 2])"
            ],
            "text/html": [
              "\n",
              "<link rel=\"stylesheet\" type=\"text/css\" href=\"https://cdn.jsdelivr.net/gh/bmabey/pyLDAvis@3.4.0/pyLDAvis/js/ldavis.v1.0.0.css\">\n",
              "\n",
              "\n",
              "<div id=\"ldavis_el1221403073164404169523096801\" style=\"background-color:white;\"></div>\n",
              "<script type=\"text/javascript\">\n",
              "\n",
              "var ldavis_el1221403073164404169523096801_data = {\"mdsDat\": {\"x\": [-0.03829850319378223, -0.010237492574918012, 0.0008217547913834078, 0.024622895464773486, 0.0103543447758979, 0.012737000736645455], \"y\": [0.01974505622296593, -0.017353810542444156, -0.01482214622068036, 0.03449184439809533, -0.009413000221132612, -0.012647943636804096], \"topics\": [1, 2, 3, 4, 5, 6], \"cluster\": [1, 1, 1, 1, 1, 1], \"Freq\": [20.3743803927398, 18.76995213895278, 17.398706132792434, 15.055134746836302, 15.024519740452627, 13.377306848226064]}, \"tinfo\": {\"Term\": [\"claro\", \"busca\", \"hombres\", \"teatro\", \"vivir\", \"miel\", \"abanico\", \"cosa\", \"san\", \"ana\", \"doctor\", \"demas\", \"sino\", \"calle\", \"desnuda\", \"ver\", \"papagayo\", \"espejo\", \"soria\", \"despierto\", \"grito\", \"canta\", \"quede\", \"cuca\", \"despierta\", \"dias\", \"sal\", \"encontraremos\", \"aba\", \"verdugo\", \"demas\", \"piano\", \"sal\", \"torre\", \"perfil\", \"alicun\", \"beberan\", \"demeter\", \"cantarillo\", \"alzo\", \"buenos\", \"vicio\", \"ora\", \"quieta\", \"alamos\", \"cantares\", \"pensamos\", \"jazmines\", \"vigilia\", \"ahorca\", \"vacio\", \"reo\", \"diablo\", \"cabeza\", \"hastio\", \"peor\", \"calaveras\", \"labra\", \"ofrece\", \"hundida\", \"primero\", \"barro\", \"ana\", \"sera\", \"jamas\", \"llego\", \"ayer\", \"alegria\", \"junto\", \"todavia\", \"luna\", \"flor\", \"doble\", \"doctor\", \"paso\", \"hoy\", \"espa\", \"luz\", \"noche\", \"amor\", \"sue\", \"tarde\", \"tierra\", \"sol\", \"dios\", \"mar\", \"busca\", \"tiempo\", \"agua\", \"ser\", \"poeta\", \"siempre\", \"mano\", \"corazon\", \"abanico\", \"calor\", \"desnuda\", \"malo\", \"encrucijadade\", \"sonando\", \"quema\", \"diez\", \"olivarse\", \"lechuzavolar\", \"dias\", \"quedan\", \"vanidades\", \"misma\", \"beber\", \"fin\", \"rienda\", \"tic\", \"profesor\", \"preguntar\", \"heraclitano\", \"guitarra\", \"quedando\", \"naranjo\", \"pla\", \"duro\", \"pez\", \"siguio\", \"conciencia\", \"van\", \"marchita\", \"vuelo\", \"oro\", \"tiempo\", \"san\", \"volar\", \"vivir\", \"ojos\", \"mar\", \"hombre\", \"alma\", \"tarde\", \"campo\", \"luz\", \"corazon\", \"toda\", \"dices\", \"verdad\", \"sol\", \"tierra\", \"jardin\", \"camino\", \"caminos\", \"amor\", \"mano\", \"sue\", \"piedra\", \"bajo\", \"duero\", \"poned\", \"siete\", \"quede\", \"confesion\", \"joya\", \"letra\", \"asomaba\", \"llevare\", \"amanecer\", \"tener\", \"supe\", \"silenciosos\", \"caminaban\", \"guardar\", \"hacienda\", \"aceros\", \"busca\", \"jardinero\", \"golpes\", \"sendas\", \"doncella\", \"caia\", \"libre\", \"forjador\", \"espejo\", \"veinte\", \"pelo\", \"murio\", \"cayeron\", \"llana\", \"vamos\", \"voces\", \"aguarda\", \"hizo\", \"torres\", \"luego\", \"mismo\", \"verso\", \"igual\", \"blanca\", \"solo\", \"conmigo\", \"saber\", \"tarde\", \"sombra\", \"corazon\", \"campo\", \"tierra\", \"dios\", \"viento\", \"bajo\", \"dia\", \"agua\", \"montes\", \"fuego\", \"ser\", \"amor\", \"alma\", \"ojos\", \"luna\", \"oro\", \"vieja\", \"mar\", \"encontraremos\", \"cuca\", \"cristo\", \"lucila\", \"oveja\", \"calavera\", \"cuerpos\", \"daguerrotipo\", \"rioque\", \"verdadera\", \"sediento\", \"minutos\", \"cierra\", \"cosa\", \"friode\", \"dar\", \"girar\", \"miras\", \"pintan\", \"riocon\", \"olvides\", \"simetricos\", \"ojo\", \"cantad\", \"amorios\", \"ignora\", \"ancla\", \"marino\", \"hacemos\", \"tercera\", \"caminante\", \"fruto\", \"naranjos\", \"cantar\", \"claro\", \"nuevo\", \"dice\", \"viento\", \"siempre\", \"dios\", \"noche\", \"aire\", \"verdes\", \"solo\", \"mujeres\", \"bien\", \"poeta\", \"mar\", \"soria\", \"verdad\", \"sombra\", \"agua\", \"blanca\", \"luna\", \"lejos\", \"hojas\", \"ojos\", \"sue\", \"sol\", \"corazon\", \"sierra\", \"ana\", \"verdugo\", \"teatro\", \"consejo\", \"partes\", \"grito\", \"cautiva\", \"mascara\", \"cerrada\", \"cordoba\", \"oyen\", \"laurel\", \"hijos\", \"diria\", \"calle\", \"risa\", \"miente\", \"non\", \"cierto\", \"incendio\", \"mason\", \"cantos\", \"calla\", \"caminaba\", \"martin\", \"pecho\", \"comer\", \"coger\", \"campesino\", \"haciendo\", \"dolores\", \"dieron\", \"hora\", \"palabra\", \"malos\", \"claro\", \"hogar\", \"viejas\", \"todas\", \"muerto\", \"despierta\", \"frente\", \"encina\", \"huerta\", \"ver\", \"suena\", \"padre\", \"piedra\", \"corazon\", \"agua\", \"luna\", \"mar\", \"tierra\", \"vez\", \"vino\", \"mejor\", \"sue\", \"sed\", \"ojos\", \"campos\", \"sombra\", \"noche\", \"papagayo\", \"despierto\", \"firmeza\", \"manoque\", \"llamar\", \"azogue\", \"busco\", \"hombres\", \"caracol\", \"meson\", \"galgo\", \"miel\", \"batallas\", \"vencejos\", \"antiguo\", \"fruta\", \"llevas\", \"aljaba\", \"lana\", \"encinas\", \"sandalia\", \"cumbre\", \"teme\", \"sino\", \"rima\", \"savia\", \"grandmontagne\", \"mitad\", \"petenera\", \"solitaria\", \"aba\", \"yerto\", \"suelo\", \"despertar\", \"canta\", \"mariposa\", \"capitan\", \"dos\", \"verde\", \"fuerte\", \"mejor\", \"doctor\", \"vez\", \"viejo\", \"sue\", \"san\", \"agua\", \"sol\", \"tierra\", \"campo\", \"visto\", \"sombra\", \"mano\", \"negra\", \"fuente\", \"azul\", \"voz\", \"flor\", \"ojos\", \"amor\"], \"Freq\": [3.0, 2.0, 1.0, 1.0, 2.0, 1.0, 1.0, 1.0, 1.0, 3.0, 1.0, 1.0, 1.0, 1.0, 1.0, 2.0, 0.0, 2.0, 2.0, 0.0, 1.0, 2.0, 1.0, 1.0, 1.0, 1.0, 1.0, 0.0, 1.0, 0.0, 0.8458788881942125, 0.6467666412334352, 0.8034786587396439, 0.9271704165275668, 0.8009773866736843, 0.5764873809002977, 0.5070710831026032, 0.4903790725315457, 0.6068865156003151, 0.4674618900421013, 0.5920880540028178, 0.6380736049961149, 0.5301739764915194, 0.5658671751541935, 0.7509165693166417, 0.4419555273625561, 0.5158933881699769, 0.473912723844063, 0.4005145205043282, 0.5167636387011884, 0.6124994958741529, 0.37449204005145864, 0.4162896001333216, 0.7027119034074277, 0.6194029301724497, 0.41557574892736, 0.35554011242759087, 0.3545114410832523, 0.35338656287506526, 0.3529376861721884, 0.695017428984483, 0.5840331163731068, 1.6590505281088368, 0.9688586034758537, 0.7350679447668463, 0.5642281740620347, 1.1023415973890076, 0.7407502939931078, 0.8320299939285891, 0.8439011814884941, 1.291461363786656, 0.9752687415350209, 0.7567155796722477, 0.6121387666821396, 0.7075108092342254, 0.9570862028366932, 0.8983901744350332, 0.9569903417536659, 0.9414419081536612, 1.0004843557410446, 1.0303500304296318, 0.9595129458364366, 1.0354733318636993, 0.9478657710515748, 0.9287496241361947, 1.035562277330304, 0.8109435878944072, 0.8675952004903954, 0.9656742280984886, 0.8101485579910541, 0.8148119177359686, 0.8345752599544062, 0.8166075841386241, 0.838166167183322, 0.8264506031980963, 0.630450765209633, 0.8036729456534732, 0.7587128317925194, 0.5436827271133937, 0.580608972110295, 0.4819653340437195, 0.47293434997251743, 0.46349267950419, 0.4631014492526086, 0.84469086216541, 0.457883575660492, 0.6330329436795779, 0.5217956415506994, 0.5120629620339077, 0.7167829758441018, 0.4217186687518176, 0.5152365681220517, 0.5247276875849733, 0.43807834667892953, 0.39639730395702816, 0.577671927267846, 0.3594095050084813, 0.37216744362963444, 0.34897628173229717, 0.47009301760424327, 0.4088887864992827, 0.45660299862506404, 0.33062788678225585, 0.5812920935529597, 0.3976910886277813, 0.5376785704000981, 1.0169216613291252, 1.18564633564521, 0.7515230753991216, 0.5778789367358004, 0.8288257231921635, 1.3547757173917794, 1.4259758005615704, 0.9191448754096085, 0.9949473906709074, 1.0629676437462972, 1.0128222465622108, 0.9596378680552434, 1.101866016584096, 0.692514007193927, 0.6551538950521866, 0.8882356762098266, 0.9619882880559752, 1.0172051231574035, 0.7196040189321361, 0.7947721266265152, 0.6924980796188595, 0.81307506672771, 0.7754065967326627, 0.7704915430985219, 0.6883136851129694, 0.6809332878979943, 0.6573198982375982, 0.5716402272353516, 0.5485240593227474, 0.6816310151211475, 0.558045781588173, 0.47947551423093354, 0.47701097440619966, 0.43468809505774375, 0.42747409643562134, 0.49519769924828994, 0.46336533181913914, 0.4470496802333554, 0.3942422399852257, 0.3942184813343311, 0.4664558643959344, 0.37918945382113495, 0.3743682647947547, 1.2356839805300983, 0.43820800960061185, 0.4363352555219668, 0.5572388960103708, 0.3886435116305231, 0.4438272258167934, 0.4353651938944255, 0.3276407677941132, 1.0873605855277453, 0.3963501274807554, 0.42192243110640026, 0.43797946319018943, 0.3144361139327882, 0.40196171185496693, 0.37816528788534226, 0.5138134880630376, 0.5580110294506311, 0.685099460158349, 0.6452789164234307, 0.5350953336726312, 0.5434981733921009, 0.5467550619527894, 0.49024049989537327, 0.9117042936414824, 0.8721160213827099, 0.6742860032118738, 0.6340708296484244, 0.8451341892294192, 0.8221399945054424, 0.894342580001873, 0.7998965368076314, 0.849289272905765, 0.7539754711084844, 0.732153445541361, 0.6710923499132223, 0.6684148907830522, 0.7547364293515744, 0.6494462201324546, 0.6029391834239577, 0.627818306831627, 0.6795596968683907, 0.6545322976738761, 0.6545657324101255, 0.6323084192849286, 0.5869428426548822, 0.5721698225549111, 0.5830077649943735, 0.5126458644888439, 0.5298781339204917, 0.5273194573222472, 0.3818671912353769, 0.3625122957109896, 0.5514510182462055, 0.41023437373327115, 0.4228201679099645, 0.3319797586519988, 0.3299286349363902, 0.32603366185075366, 0.3624786475335162, 0.43517809002496016, 0.6150329839009195, 0.39792932171021667, 0.4589805985030894, 0.3067118248745616, 0.36760527756398154, 0.2982906805610236, 0.2925345033502722, 0.36538493024554236, 0.28797444809318606, 0.5168625393086418, 0.361479265215662, 0.32783887084875313, 0.33751850023927593, 0.4094658509321239, 0.3770138347210272, 0.27629481584547066, 0.3575518232111084, 0.4372678148039787, 0.6206254996783644, 0.368766925859184, 0.6860895619889494, 0.9749016963976104, 0.5330105591149995, 0.5883596883933091, 0.9773095851351213, 0.8066758249229914, 0.9197898339408304, 0.8325302825977188, 0.6365384932544496, 0.579584039303435, 0.7145398822150635, 0.5050900011409984, 0.6350276665007236, 0.6505418348330646, 0.8691103326937973, 0.6013274051077727, 0.6902282878181752, 0.7205486762628859, 0.7654612100833772, 0.6560361969900059, 0.6753682935156379, 0.5511142613111418, 0.5640528503392646, 0.68322034730421, 0.6681414826136215, 0.6443410181836565, 0.6236058791363454, 0.5507892183444042, 0.5582149308562516, 0.5072513164770333, 0.6388484856370126, 0.5086992471831692, 0.40383061994914804, 0.5560850253835944, 0.3964549213442642, 0.40184156878350413, 0.3526571554469008, 0.34286269467786284, 0.3954725958819952, 0.3020293423171, 0.5859049052514553, 0.31950474007694546, 0.8029400678451002, 0.34118908135583964, 0.34592351270404154, 0.33905445254591315, 0.2889036405925215, 0.40662793890859367, 0.3363532830896032, 0.26951329465006896, 0.35375418557957733, 0.26741303016684465, 0.5716824283806426, 0.4848322415714641, 0.27688579611725167, 0.27667223516455036, 0.32056811199922197, 0.29323270234029375, 0.29611450026954883, 0.3465631363876922, 0.6530638228874373, 0.687068108732849, 0.553257382651842, 1.0938573167591052, 0.5420014965095613, 0.5279876770060188, 0.47860763022505076, 0.44608665935824676, 0.5810714999349094, 0.6348415502233891, 0.45620024546714966, 0.4743047928521647, 0.5925526764062428, 0.5617332889127618, 0.5003313767164703, 0.7191399111741515, 0.9095495071358942, 0.8994970785444897, 0.7436241016625739, 0.819656822095708, 0.7945579181376257, 0.5805475616387524, 0.5312831217879113, 0.5750194947956756, 0.6883007524242118, 0.5405257526668594, 0.6569563282314373, 0.5474026585616778, 0.5894933882987187, 0.5607047520613888, 0.46826927009295005, 0.45864612416137085, 0.3810444452707452, 0.3514933206743937, 0.3338916763711876, 0.4128998996846747, 0.36965265792023283, 0.6166672860477711, 0.363514717405748, 0.42697435529797095, 0.3640310557768223, 0.5585263909324171, 0.28792683849636164, 0.28221369046439093, 0.2782559287331891, 0.33478048530907084, 0.3092964640708337, 0.3422433438665754, 0.2658468678213198, 0.38401509363699293, 0.260243113808033, 0.29428517372920393, 0.3263762863308923, 0.5481875035478138, 0.4246703398310213, 0.2825028406507495, 0.24516018645097515, 0.3988412314584939, 0.3771578490290289, 0.25691948461393727, 0.5320345615795227, 0.3633650865066286, 0.4137014937871002, 0.3804282132555342, 0.7642154376147833, 0.3672191998500767, 0.4382865420838024, 0.7136503926439205, 0.638366840070675, 0.42926488861574685, 0.6127284028181972, 0.4174342328601375, 0.546579146021518, 0.5659506542183234, 0.711242746253141, 0.48035168577406195, 0.6841782748388407, 0.614791171641772, 0.6242636737666514, 0.5585529011687457, 0.4792554054214333, 0.5221995433244004, 0.5125792614763244, 0.46684054648686235, 0.46866507246195593, 0.4477979538309085, 0.44058420068248877, 0.4407730904823109, 0.4480972505569949, 0.4401447734318302], \"Total\": [3.0, 2.0, 1.0, 1.0, 2.0, 1.0, 1.0, 1.0, 1.0, 3.0, 1.0, 1.0, 1.0, 1.0, 1.0, 2.0, 0.0, 2.0, 2.0, 0.0, 1.0, 2.0, 1.0, 1.0, 1.0, 1.0, 1.0, 0.0, 1.0, 0.0, 1.232155356398441, 1.032366983555583, 1.3117184411728928, 1.537795509022397, 1.330959554542537, 0.9617320968966956, 0.8921820212072483, 0.8741578885408705, 1.102243279012271, 0.8517749892953647, 1.0819154592679618, 1.1749628296104637, 1.0001886677648881, 1.0798017524445815, 1.4529709412741938, 0.859328821084996, 1.0054607114826433, 0.9278818916014043, 0.784441323183083, 1.032738685255338, 1.2356777319897865, 0.7583646144456658, 0.847014928183835, 1.4498503709231734, 1.2850908746420553, 0.8630144587321924, 0.7390485308584651, 0.7383170889137368, 0.7368655880323564, 0.7366285737039926, 1.4554159498853017, 1.2256904256974424, 3.6133645091452493, 2.0959893268091645, 1.592625307947612, 1.2096081839530948, 2.7102465850244997, 1.6920628551752699, 1.9684305644535514, 2.0590954432459774, 3.8100236886918464, 2.626254072120737, 1.9320052712943585, 1.3460288049091131, 1.7444802955550718, 3.2847816523757833, 2.9254366372301663, 3.38208702021618, 3.360274145800656, 3.9173899409964243, 4.41303585641699, 3.8709070180483662, 4.790758681956736, 3.86713412074535, 3.695257571755752, 5.16137916256186, 2.5234199508661272, 3.173988803131691, 4.663956236128944, 2.5657049090620307, 2.6347842258033194, 2.99990554384193, 3.5090184223150294, 4.744444132838614, 1.3135447578550874, 1.0210213187932011, 1.3079272037058551, 1.286325844799839, 0.9311540514037292, 1.03966926044523, 0.8687316356280277, 0.8594757927961799, 0.8500838918258902, 0.8500645577245429, 1.5509369151759278, 0.8441788573405908, 1.170558868368898, 0.9743781224559688, 0.961809532877866, 1.3639110600881432, 0.8096334935747032, 0.9990616054861953, 1.0195341939972589, 0.8647025562461603, 0.7827029683640924, 1.1664217313190466, 0.745611572772248, 0.7831292746454904, 0.7350220598616912, 0.9903845195957339, 0.8777717286824352, 0.9823283998959402, 0.7166856910776265, 1.262008130092669, 0.8693965197233628, 1.203488587207991, 2.5772427645371456, 3.173988803131691, 1.8440067413047376, 1.3426466668804842, 2.1972626197869283, 4.317488860906884, 5.16137916256186, 2.9244016383666827, 3.4375087882776927, 3.8709070180483662, 3.680933634451753, 3.38208702021618, 4.744444132838614, 1.89088269823287, 1.6952930545537055, 3.2479692453519493, 3.86713412074535, 4.790758681956736, 2.2188911125787705, 2.9575355471235945, 2.0915185077786576, 3.9173899409964243, 3.5090184223150294, 4.41303585641699, 2.9401308868452607, 2.911554974551801, 2.1458287284981394, 0.991012910094868, 0.9830697486174366, 1.2248322838356924, 1.006364740166863, 0.8699437268632169, 0.8674391168719938, 0.8245561968950318, 0.8172700819690795, 0.9539490532864262, 0.9035885748410617, 0.8882280597069044, 0.783861176809878, 0.7838626206467785, 0.9301040213916689, 0.7686658472535963, 0.764060708753072, 2.5234199508661272, 0.9026914455007641, 0.9129658035462599, 1.1670161239309773, 0.814474221013765, 0.9526246208160092, 0.9506001099441062, 0.7173999627395563, 2.3818545822926014, 0.8710959210092288, 0.9362776420962862, 0.9801841255228121, 0.7041292166811044, 0.9054786227679807, 0.8549495034203124, 1.1936434033166854, 1.3341239480361706, 1.70411864899955, 1.6251895350331542, 1.310071847579758, 1.3426518766687172, 1.3587035415377722, 1.165511473312394, 3.1655518133932743, 3.005448242560028, 2.0975173416956236, 1.8953506964880582, 3.8709070180483662, 3.794242461679855, 4.744444132838614, 3.680933634451753, 4.790758681956736, 3.695257571755752, 3.504947296298108, 2.911554974551801, 2.998992982318676, 4.663956236128944, 2.7563204131728796, 2.1453789676078534, 2.5657049090620307, 3.9173899409964243, 3.4375087882776927, 4.317488860906884, 3.8100236886918464, 2.5772427645371456, 2.04843352230896, 5.16137916256186, 0.9095568802745589, 1.0123569301474167, 1.0146294616078984, 0.7780913190486631, 0.7584220447442251, 1.163399094485345, 0.8691695675936978, 0.9153691785683608, 0.7280714416096361, 0.7260687771506189, 0.7221556561522907, 0.8079670031863012, 0.9714696276851469, 1.3925374081601314, 0.9076382727809342, 1.0505968665393988, 0.7025739408083465, 0.8469233234161817, 0.6941894917300927, 0.6883652816637372, 0.8606701060194598, 0.6837060331221938, 1.230200831283238, 0.8650716365117026, 0.7866941972097115, 0.8113404051490197, 0.9916437767133728, 0.9148859922605956, 0.6723380699001206, 0.8781895194756942, 1.0947299754257316, 1.5922313698132118, 0.9140174851647389, 1.9703684371855228, 3.1003105111124536, 1.4803174015661837, 1.6879540715924102, 3.504947296298108, 2.99990554384193, 3.695257571755752, 3.360274145800656, 2.190889530376918, 1.96444464622779, 3.005448242560028, 1.580041464123141, 2.462978156324655, 2.6347842258033194, 5.16137916256186, 2.3284473772774588, 3.2479692453519493, 3.794242461679855, 4.663956236128944, 3.1655518133932743, 3.8100236886918464, 2.05861498134731, 2.218025813133441, 4.317488860906884, 4.41303585641699, 3.86713412074535, 4.744444132838614, 2.4252782307105556, 3.6133645091452493, 0.9038074598179539, 1.1524366526367364, 0.9619913861902748, 0.7991430433228309, 1.148572292681538, 0.8223741175662356, 0.8676108483292424, 0.7750947217975176, 0.7693412411633057, 0.9066034650545396, 0.6970563210740777, 1.361816731809452, 0.7444471837891197, 1.8835393026245302, 0.8150679627493473, 0.8290517055374917, 0.8155560303248158, 0.6993925681170436, 0.98457991979017, 0.8251429642854528, 0.6643777779397027, 0.8740816140410352, 0.6623428074336392, 1.417934684312855, 1.2037400918129575, 0.6887995879825133, 0.6888029208261114, 0.8057722841781484, 0.7413679652053126, 0.7547582097786468, 0.8860717016502522, 1.7071304169791321, 1.8237144295207457, 1.4513101734334488, 3.1003105111124536, 1.4536072515956153, 1.4504082673765766, 1.33011412058906, 1.2212602471876204, 1.7253931766365291, 1.945567512296818, 1.2724110866378056, 1.363726226578726, 2.0497947810903514, 1.876530206287209, 1.5516791352086214, 2.9401308868452607, 4.744444132838614, 4.663956236128944, 3.8100236886918464, 5.16137916256186, 4.790758681956736, 2.337909045559453, 1.8780731123480967, 2.395907356594703, 4.41303585641699, 2.055717847839296, 4.317488860906884, 2.36683405830964, 3.794242461679855, 3.360274145800656, 0.8695755154486199, 0.8593534683394658, 0.7873901194120915, 0.7519545829751526, 0.7342064359197925, 0.9193472346057929, 0.8387943027425502, 1.4185286867609426, 0.8518305746622714, 1.0062528183992876, 0.8607244323544242, 1.3378942109287588, 0.6946617658653444, 0.6824141255036366, 0.6783065042783085, 0.822818747951972, 0.7647856966881947, 0.8472413244519684, 0.6659158322273655, 0.9696697764724274, 0.660284071460085, 0.7604532846003051, 0.8475399134842887, 1.429130044426604, 1.1155199043437611, 0.7429769578643337, 0.6450839396380565, 1.0503140824186106, 1.0005681465936191, 0.6844577979959989, 1.5683835733654794, 1.0151629442572903, 1.1935539082584565, 1.0861768477370082, 2.8580488486376967, 1.0388086431989862, 1.3547966281057187, 2.8611071708684213, 2.4942664371531325, 1.334849349299358, 2.395907356594703, 1.3460288049091131, 2.337909045559453, 2.633723762098446, 4.41303585641699, 1.8440067413047376, 4.663956236128944, 3.86713412074535, 4.790758681956736, 3.680933634451753, 2.196256966186496, 3.794242461679855, 3.5090184223150294, 2.369306414818491, 2.723970258404901, 2.5561396705524353, 2.3831407576579764, 2.626254072120737, 4.317488860906884, 3.9173899409964243], \"Category\": [\"Default\", \"Default\", \"Default\", \"Default\", \"Default\", \"Default\", \"Default\", \"Default\", \"Default\", \"Default\", \"Default\", \"Default\", \"Default\", \"Default\", \"Default\", \"Default\", \"Default\", \"Default\", \"Default\", \"Default\", \"Default\", \"Default\", \"Default\", \"Default\", \"Default\", \"Default\", \"Default\", \"Default\", \"Default\", \"Default\", \"Topic1\", \"Topic1\", \"Topic1\", \"Topic1\", \"Topic1\", \"Topic1\", \"Topic1\", \"Topic1\", \"Topic1\", \"Topic1\", \"Topic1\", \"Topic1\", \"Topic1\", \"Topic1\", \"Topic1\", \"Topic1\", \"Topic1\", \"Topic1\", \"Topic1\", \"Topic1\", \"Topic1\", \"Topic1\", \"Topic1\", \"Topic1\", \"Topic1\", \"Topic1\", \"Topic1\", \"Topic1\", \"Topic1\", \"Topic1\", \"Topic1\", \"Topic1\", \"Topic1\", \"Topic1\", \"Topic1\", \"Topic1\", \"Topic1\", \"Topic1\", \"Topic1\", \"Topic1\", \"Topic1\", \"Topic1\", \"Topic1\", \"Topic1\", \"Topic1\", \"Topic1\", \"Topic1\", \"Topic1\", \"Topic1\", \"Topic1\", \"Topic1\", \"Topic1\", \"Topic1\", \"Topic1\", \"Topic1\", \"Topic1\", \"Topic1\", \"Topic1\", \"Topic1\", \"Topic1\", \"Topic1\", \"Topic1\", \"Topic1\", \"Topic1\", \"Topic2\", \"Topic2\", \"Topic2\", \"Topic2\", \"Topic2\", \"Topic2\", \"Topic2\", \"Topic2\", \"Topic2\", \"Topic2\", \"Topic2\", \"Topic2\", \"Topic2\", \"Topic2\", \"Topic2\", \"Topic2\", \"Topic2\", \"Topic2\", \"Topic2\", \"Topic2\", \"Topic2\", \"Topic2\", \"Topic2\", \"Topic2\", \"Topic2\", \"Topic2\", \"Topic2\", \"Topic2\", \"Topic2\", \"Topic2\", \"Topic2\", \"Topic2\", \"Topic2\", \"Topic2\", \"Topic2\", \"Topic2\", \"Topic2\", \"Topic2\", \"Topic2\", \"Topic2\", \"Topic2\", \"Topic2\", \"Topic2\", \"Topic2\", \"Topic2\", \"Topic2\", \"Topic2\", \"Topic2\", \"Topic2\", \"Topic2\", \"Topic2\", \"Topic2\", \"Topic2\", \"Topic2\", \"Topic2\", \"Topic2\", \"Topic2\", \"Topic2\", \"Topic2\", \"Topic3\", \"Topic3\", \"Topic3\", \"Topic3\", \"Topic3\", \"Topic3\", \"Topic3\", \"Topic3\", \"Topic3\", \"Topic3\", \"Topic3\", \"Topic3\", \"Topic3\", \"Topic3\", \"Topic3\", \"Topic3\", \"Topic3\", \"Topic3\", \"Topic3\", \"Topic3\", \"Topic3\", \"Topic3\", \"Topic3\", \"Topic3\", \"Topic3\", \"Topic3\", \"Topic3\", \"Topic3\", \"Topic3\", \"Topic3\", \"Topic3\", \"Topic3\", \"Topic3\", \"Topic3\", \"Topic3\", \"Topic3\", \"Topic3\", \"Topic3\", \"Topic3\", \"Topic3\", \"Topic3\", \"Topic3\", \"Topic3\", \"Topic3\", \"Topic3\", \"Topic3\", \"Topic3\", \"Topic3\", \"Topic3\", \"Topic3\", \"Topic3\", \"Topic3\", \"Topic3\", \"Topic3\", \"Topic3\", \"Topic3\", \"Topic3\", \"Topic3\", \"Topic3\", \"Topic3\", \"Topic3\", \"Topic3\", \"Topic3\", \"Topic4\", \"Topic4\", \"Topic4\", \"Topic4\", \"Topic4\", \"Topic4\", \"Topic4\", \"Topic4\", \"Topic4\", \"Topic4\", \"Topic4\", \"Topic4\", \"Topic4\", \"Topic4\", \"Topic4\", \"Topic4\", \"Topic4\", \"Topic4\", \"Topic4\", \"Topic4\", \"Topic4\", \"Topic4\", \"Topic4\", \"Topic4\", \"Topic4\", \"Topic4\", \"Topic4\", \"Topic4\", \"Topic4\", \"Topic4\", \"Topic4\", \"Topic4\", \"Topic4\", \"Topic4\", \"Topic4\", \"Topic4\", \"Topic4\", \"Topic4\", \"Topic4\", \"Topic4\", \"Topic4\", \"Topic4\", \"Topic4\", \"Topic4\", \"Topic4\", \"Topic4\", \"Topic4\", \"Topic4\", \"Topic4\", \"Topic4\", \"Topic4\", \"Topic4\", \"Topic4\", \"Topic4\", \"Topic4\", \"Topic4\", \"Topic4\", \"Topic4\", \"Topic4\", \"Topic4\", \"Topic4\", \"Topic4\", \"Topic5\", \"Topic5\", \"Topic5\", \"Topic5\", \"Topic5\", \"Topic5\", \"Topic5\", \"Topic5\", \"Topic5\", \"Topic5\", \"Topic5\", \"Topic5\", \"Topic5\", \"Topic5\", \"Topic5\", \"Topic5\", \"Topic5\", \"Topic5\", \"Topic5\", \"Topic5\", \"Topic5\", \"Topic5\", \"Topic5\", \"Topic5\", \"Topic5\", \"Topic5\", \"Topic5\", \"Topic5\", \"Topic5\", \"Topic5\", \"Topic5\", \"Topic5\", \"Topic5\", \"Topic5\", \"Topic5\", \"Topic5\", \"Topic5\", \"Topic5\", \"Topic5\", \"Topic5\", \"Topic5\", \"Topic5\", \"Topic5\", \"Topic5\", \"Topic5\", \"Topic5\", \"Topic5\", \"Topic5\", \"Topic5\", \"Topic5\", \"Topic5\", \"Topic5\", \"Topic5\", \"Topic5\", \"Topic5\", \"Topic5\", \"Topic5\", \"Topic5\", \"Topic5\", \"Topic5\", \"Topic5\", \"Topic6\", \"Topic6\", \"Topic6\", \"Topic6\", \"Topic6\", \"Topic6\", \"Topic6\", \"Topic6\", \"Topic6\", \"Topic6\", \"Topic6\", \"Topic6\", \"Topic6\", \"Topic6\", \"Topic6\", \"Topic6\", \"Topic6\", \"Topic6\", \"Topic6\", \"Topic6\", \"Topic6\", \"Topic6\", \"Topic6\", \"Topic6\", \"Topic6\", \"Topic6\", \"Topic6\", \"Topic6\", \"Topic6\", \"Topic6\", \"Topic6\", \"Topic6\", \"Topic6\", \"Topic6\", \"Topic6\", \"Topic6\", \"Topic6\", \"Topic6\", \"Topic6\", \"Topic6\", \"Topic6\", \"Topic6\", \"Topic6\", \"Topic6\", \"Topic6\", \"Topic6\", \"Topic6\", \"Topic6\", \"Topic6\", \"Topic6\", \"Topic6\", \"Topic6\", \"Topic6\", \"Topic6\", \"Topic6\", \"Topic6\", \"Topic6\", \"Topic6\", \"Topic6\", \"Topic6\"], \"logprob\": [30.0, 29.0, 28.0, 27.0, 26.0, 25.0, 24.0, 23.0, 22.0, 21.0, 20.0, 19.0, 18.0, 17.0, 16.0, 15.0, 14.0, 13.0, 12.0, 11.0, 10.0, 9.0, 8.0, 7.0, 6.0, 5.0, 4.0, 3.0, 2.0, 1.0, -6.292, -6.5604, -6.3434, -6.2002, -6.3465, -6.6754, -6.8037, -6.8372, -6.624, -6.885, -6.6487, -6.5739, -6.7591, -6.694, -6.4111, -6.9411, -6.7864, -6.8713, -7.0396, -6.7848, -6.6148, -7.1068, -7.001, -6.4774, -6.6036, -7.0027, -7.1587, -7.1616, -7.1648, -7.1661, -6.4884, -6.6624, -5.6183, -6.1562, -6.4324, -6.6969, -6.0272, -6.4247, -6.3085, -6.2943, -5.8688, -6.1496, -6.4034, -6.6154, -6.4706, -6.1685, -6.2317, -6.1686, -6.1849, -6.1241, -6.0947, -6.1659, -6.0897, -6.1781, -6.1985, -6.0896, -6.3342, -6.2666, -6.1595, -6.3351, -6.3294, -6.3054, -6.3272, -6.3011, -6.2332, -6.5039, -6.2611, -6.3187, -6.652, -6.5863, -6.7725, -6.7914, -6.8115, -6.8124, -6.2114, -6.8237, -6.4998, -6.6931, -6.7119, -6.3756, -6.906, -6.7057, -6.6874, -6.8679, -6.9679, -6.5913, -7.0659, -7.031, -7.0953, -6.7974, -6.9369, -6.8265, -7.1493, -6.5851, -6.9647, -6.6631, -6.0258, -5.8723, -6.3282, -6.591, -6.2303, -5.7389, -5.6877, -6.1269, -6.0476, -5.9815, -6.0298, -6.0838, -5.9456, -6.41, -6.4655, -6.1611, -6.0813, -6.0255, -6.3716, -6.2723, -6.41, -6.2495, -6.2969, -6.3033, -6.4161, -6.4269, -6.4622, -6.526, -6.5672, -6.35, -6.55, -6.7018, -6.7069, -6.7998, -6.8166, -6.6695, -6.736, -6.7718, -6.8975, -6.8976, -6.7293, -6.9364, -6.9492, -5.7551, -6.7918, -6.7961, -6.5515, -6.9118, -6.779, -6.7983, -7.0825, -5.883, -6.8922, -6.8296, -6.7923, -7.1237, -6.8781, -6.9391, -6.6326, -6.5501, -6.3449, -6.4048, -6.592, -6.5764, -6.5705, -6.6796, -6.0592, -6.1035, -6.3608, -6.4223, -6.135, -6.1626, -6.0784, -6.19, -6.1301, -6.2491, -6.2785, -6.3656, -6.3696, -6.2481, -6.3983, -6.4727, -6.4322, -6.353, -6.3905, -6.3905, -6.4251, -6.4995, -6.525, -6.5063, -6.4902, -6.4571, -6.462, -6.7847, -6.8367, -6.4172, -6.7131, -6.6828, -6.9247, -6.9309, -6.9428, -6.8368, -6.654, -6.3081, -6.7435, -6.6008, -7.0039, -6.8228, -7.0317, -7.0512, -6.8288, -7.0669, -6.482, -6.8396, -6.9373, -6.9082, -6.7149, -6.7975, -7.1083, -6.8505, -6.6492, -6.2991, -6.8196, -6.1988, -5.8475, -6.4512, -6.3525, -5.845, -6.0369, -5.9056, -6.0053, -6.2737, -6.3675, -6.1582, -6.5051, -6.2761, -6.252, -5.9623, -6.3307, -6.1928, -6.1498, -6.0893, -6.2436, -6.2145, -6.4178, -6.3946, -6.203, -6.2253, -6.2616, -6.2943, -6.4184, -6.405, -6.4987, -6.2681, -6.4959, -6.7268, -6.4068, -6.7452, -6.7317, -6.8623, -6.8904, -6.7477, -7.0172, -6.3546, -6.961, -6.0395, -6.8953, -6.8815, -6.9016, -7.0617, -6.7199, -6.9096, -7.1311, -6.8592, -7.139, -6.3792, -6.544, -7.1041, -7.1049, -6.9577, -7.0468, -7.037, -6.8797, -6.2461, -6.1953, -6.4119, -5.7303, -6.4325, -6.4587, -6.5569, -6.6272, -6.3629, -6.2744, -6.6048, -6.5659, -6.3433, -6.3967, -6.5125, -6.1497, -5.9148, -5.9259, -6.1162, -6.0189, -6.05, -6.3638, -6.4525, -6.3734, -6.1935, -6.4352, -6.2401, -6.4226, -6.3485, -6.3986, -6.4626, -6.4834, -6.6687, -6.7494, -6.8008, -6.5884, -6.6991, -6.1873, -6.7158, -6.5549, -6.7144, -6.2863, -6.9489, -6.969, -6.9831, -6.7982, -6.8773, -6.7761, -7.0287, -6.6609, -7.05, -6.9271, -6.8236, -6.305, -6.5603, -6.9679, -7.1097, -6.6231, -6.679, -7.0629, -6.3349, -6.7162, -6.5865, -6.6703, -5.9728, -6.7057, -6.5288, -6.0412, -6.1527, -6.5496, -6.1937, -6.5775, -6.308, -6.2731, -6.0446, -6.4371, -6.0834, -6.1903, -6.1751, -6.2863, -6.4394, -6.3536, -6.3722, -6.4656, -6.4617, -6.5073, -6.5235, -6.5231, -6.5066, -6.5245], \"loglift\": [30.0, 29.0, 28.0, 27.0, 26.0, 25.0, 24.0, 23.0, 22.0, 21.0, 20.0, 19.0, 18.0, 17.0, 16.0, 15.0, 14.0, 13.0, 12.0, 11.0, 10.0, 9.0, 8.0, 7.0, 6.0, 5.0, 4.0, 3.0, 2.0, 1.0, 1.2147, 1.1233, 1.1007, 1.0849, 1.0831, 1.0791, 1.0259, 1.0128, 0.9941, 0.9909, 0.9881, 0.9804, 0.9562, 0.9447, 0.9308, 0.9259, 0.9236, 0.919, 0.9187, 0.8985, 0.8891, 0.8853, 0.8806, 0.8666, 0.8611, 0.8601, 0.8592, 0.8573, 0.856, 0.8551, 0.8518, 0.8496, 0.8125, 0.8192, 0.8177, 0.8283, 0.6913, 0.7649, 0.7298, 0.6989, 0.509, 0.6003, 0.6536, 0.8029, 0.6884, 0.3577, 0.4103, 0.3284, 0.3185, 0.226, 0.1362, 0.1961, 0.0591, 0.1848, 0.2099, -0.0154, 0.4557, 0.2939, 0.0161, 0.4381, 0.4173, 0.3115, 0.133, -0.1426, 1.2096, 1.1908, 1.1859, 1.145, 1.1349, 1.0903, 1.0838, 1.0755, 1.0664, 1.0655, 1.0653, 1.0612, 1.0582, 1.0484, 1.0425, 1.0296, 1.0207, 1.0107, 1.0087, 0.9929, 0.9926, 0.9702, 0.9432, 0.929, 0.928, 0.9278, 0.909, 0.9068, 0.8993, 0.8977, 0.8908, 0.8672, 0.743, 0.6882, 0.7753, 0.8299, 0.698, 0.5139, 0.3866, 0.5155, 0.4331, 0.3805, 0.3825, 0.4132, 0.2129, 0.6684, 0.7222, 0.3764, 0.2816, 0.1233, 0.5469, 0.3589, 0.5676, 0.1006, 0.1632, -0.0724, 0.2209, 0.2199, 0.4898, 1.1986, 1.1653, 1.1627, 1.1591, 1.153, 1.1508, 1.1086, 1.1007, 1.0931, 1.0809, 1.0622, 1.0615, 1.0614, 1.0586, 1.0422, 1.0354, 1.0348, 1.0261, 1.0105, 1.0096, 1.0089, 0.985, 0.9679, 0.9651, 0.9646, 0.9613, 0.9517, 0.9432, 0.9426, 0.9367, 0.9331, 0.9059, 0.8771, 0.8375, 0.8251, 0.8534, 0.8444, 0.8385, 0.8828, 0.504, 0.5115, 0.6139, 0.6538, 0.227, 0.2194, 0.0801, 0.2223, 0.0187, 0.1593, 0.1828, 0.2812, 0.2477, -0.0725, 0.3032, 0.4795, 0.341, -0.003, 0.0902, -0.1377, -0.0472, 0.2692, 0.4734, -0.432, 1.3201, 1.2461, 1.239, 1.1817, 1.1553, 1.1469, 1.1426, 1.1211, 1.1081, 1.1047, 1.0982, 1.0919, 1.0904, 1.0762, 1.0689, 1.0653, 1.0646, 1.0589, 1.0488, 1.0377, 1.0367, 1.0288, 1.0263, 1.0208, 1.0181, 1.0164, 1.0089, 1.0069, 1.0042, 0.9949, 0.9757, 0.9513, 0.9858, 0.8385, 0.7365, 0.872, 0.8395, 0.6163, 0.58, 0.5028, 0.4981, 0.6574, 0.6728, 0.4569, 0.753, 0.538, 0.4947, 0.112, 0.5396, 0.3447, 0.2322, 0.0863, 0.3196, 0.1633, 0.5756, 0.5242, 0.0498, 0.0056, 0.1014, -0.1358, 0.4111, 0.0258, 1.3179, 1.3055, 1.2583, 1.2129, 1.1701, 1.1659, 1.1258, 1.108, 1.0873, 1.0659, 1.0591, 1.0521, 1.0496, 1.0429, 1.0247, 1.0214, 1.0178, 1.0114, 1.0112, 0.9981, 0.9933, 0.9909, 0.9885, 0.9871, 0.9861, 0.9841, 0.9834, 0.9738, 0.968, 0.9598, 0.9568, 0.9346, 0.9193, 0.9311, 0.8537, 0.909, 0.885, 0.8733, 0.8884, 0.8072, 0.7756, 0.8697, 0.8394, 0.6544, 0.6893, 0.7637, 0.4873, 0.2437, 0.2497, 0.2616, 0.0554, 0.0988, 0.5024, 0.6328, 0.4684, 0.0374, 0.5596, 0.0127, 0.4314, 0.0335, 0.1049, 1.3926, 1.3837, 1.2858, 1.2511, 1.2236, 1.2112, 1.1922, 1.1786, 1.16, 1.1543, 1.1511, 1.1381, 1.1309, 1.1286, 1.1206, 1.1123, 1.1063, 1.1051, 1.0934, 1.0853, 1.0806, 1.0622, 1.0573, 1.0534, 1.0458, 1.0446, 1.0441, 1.0433, 1.036, 1.0317, 0.9305, 0.9842, 0.9521, 0.9625, 0.6926, 0.9717, 0.8831, 0.623, 0.6488, 0.8771, 0.648, 0.8408, 0.5583, 0.474, 0.1863, 0.6664, 0.0922, 0.1726, -0.0263, 0.126, 0.4893, 0.0284, 0.088, 0.3872, 0.2517, 0.2697, 0.3235, 0.2268, -0.2538, -0.1745]}, \"token.table\": {\"Topic\": [6, 2, 1, 2, 3, 4, 5, 6, 3, 1, 4, 1, 1, 1, 1, 2, 3, 1, 2, 3, 4, 1, 2, 4, 1, 1, 1, 2, 3, 1, 2, 1, 1, 4, 5, 1, 3, 4, 1, 1, 3, 1, 4, 5, 2, 1, 2, 4, 2, 1, 2, 3, 6, 1, 5, 1, 6, 4, 1, 3, 4, 5, 3, 3, 5, 1, 2, 3, 4, 5, 4, 4, 4, 1, 2, 5, 1, 2, 3, 2, 4, 2, 1, 3, 4, 1, 1, 1, 2, 6, 1, 2, 4, 2, 1, 2, 4, 3, 2, 1, 5, 4, 3, 2, 5, 2, 1, 5, 3, 5, 4, 1, 2, 6, 5, 1, 2, 4, 1, 2, 1, 4, 1, 3, 1, 3, 4, 5, 1, 2, 3, 2, 5, 1, 2, 3, 6, 1, 2, 3, 4, 5, 5, 5, 6, 6, 2, 3, 1, 3, 4, 1, 4, 5, 4, 4, 1, 2, 3, 4, 5, 1, 2, 3, 5, 5, 1, 1, 1, 1, 1, 2, 5, 1, 4, 3, 1, 2, 3, 1, 3, 1, 2, 5, 3, 1, 3, 1, 1, 4, 3, 4, 3, 6, 1, 2, 4, 6, 2, 3, 4, 1, 3, 4, 5, 6, 2, 1, 4, 1, 2, 3, 4, 5, 6, 5, 1, 2, 3, 5, 2, 1, 2, 1, 2, 3, 5, 6, 2, 1, 1, 3, 1, 2, 2, 5, 2, 4, 1, 6, 1, 4, 5, 3, 5, 6, 1, 3, 5, 1, 6, 1, 3, 4, 5, 2, 4, 3, 2, 4, 2], \"Freq\": [0.6375991287986862, 0.7612987635327473, 0.21441024515916002, 0.21441024515916002, 0.21441024515916002, 0.21441024515916002, 0.21441024515916002, 0.21441024515916002, 0.7495555427754664, 0.9682991586131553, 0.45643561034679886, 0.6882450099952051, 0.5909945939309781, 1.0397906061644264, 0.2909083471757562, 0.2909083471757562, 0.2909083471757562, 0.2552720089299154, 0.2552720089299154, 0.2552720089299154, 0.2552720089299154, 0.5535007594550999, 0.27675037972754996, 0.27675037972754996, 0.3689701171566868, 0.39121492910591976, 0.34345908242860435, 0.34345908242860435, 0.34345908242860435, 0.815866697686718, 1.0397068918706418, 1.1208475134332552, 0.4060125330109448, 0.4060125330109448, 0.4060125330109448, 0.3159006893423938, 0.3159006893423938, 0.3159006893423938, 0.924286635738261, 0.3962875856857534, 0.3962875856857534, 0.6897263469769387, 0.8595502650295356, 0.5309153881772452, 0.9794114790687747, 0.33811935108356295, 0.33811935108356295, 0.33811935108356295, 0.47812151615243015, 0.2716702063412622, 0.2716702063412622, 0.2716702063412622, 0.2716702063412622, 0.42250532794605217, 0.42250532794605217, 0.34988905122340896, 0.34988905122340896, 0.5075192949336934, 0.9072407326412624, 0.3225483371474233, 0.3225483371474233, 0.3225483371474233, 0.993675513546105, 0.476754103587818, 1.0395103473433882, 0.2107728475668017, 0.2107728475668017, 0.2107728475668017, 0.2107728475668017, 0.2107728475668017, 0.7181135631546406, 0.9855814736694962, 0.9877938997803697, 0.8115859699080274, 0.7645685456855853, 0.5795780425823833, 0.33344526175811473, 0.33344526175811473, 0.33344526175811473, 0.6447715508058345, 0.5924331809908805, 0.5898685170176994, 0.27061713035740115, 0.27061713035740115, 0.27061713035740115, 0.517596931466985, 0.7429261516194092, 0.3495150444491996, 0.3495150444491996, 0.3495150444491996, 0.4660204175288014, 0.4660204175288014, 1.0994364637186185, 1.0739361531988014, 0.34182931439144426, 0.34182931439144426, 0.34182931439144426, 0.41984091196594886, 0.7331856374383933, 0.38077047099730377, 0.5139888457632915, 0.6280494273375058, 0.4661181148405789, 0.3671112035509443, 0.8706461111518974, 0.8573228474311356, 0.7781550859417132, 0.7343131984222984, 0.5868136004421275, 0.6879437337026948, 0.45085138057400864, 0.34195029399536014, 0.34195029399536014, 0.704955782236165, 0.5857783272174125, 0.3044342382017174, 0.3044342382017174, 0.3044342382017174, 0.6278940784186597, 0.45067556237034595, 0.5080189355206473, 0.4857634910174053, 0.8267139833098031, 0.7633169141428477, 0.2624655597202718, 0.2624655597202718, 0.2624655597202718, 0.2624655597202718, 0.2956754199470837, 0.2956754199470837, 0.2956754199470837, 0.7774079981698625, 0.6890325846984465, 0.28497998005387015, 0.28497998005387015, 0.28497998005387015, 0.28497998005387015, 0.19374666508779567, 0.19374666508779567, 0.19374666508779567, 0.19374666508779567, 0.19374666508779567, 0.7052511029339901, 0.4173784087466961, 0.4173784087466961, 0.7474432521131887, 1.0262956207180125, 0.7447946987428504, 0.362802522965344, 0.362802522965344, 0.6328947832739057, 0.29759476656084827, 0.29759476656084827, 0.29759476656084827, 0.6755308009903785, 0.8128754058448224, 0.23161611580624922, 0.23161611580624922, 0.23161611580624922, 0.23161611580624922, 0.23161611580624922, 0.9998113678239229, 0.38801156560025996, 0.38801156560025996, 0.644463135006034, 0.5483314623237313, 0.5732366267179948, 0.9945689459366434, 0.7513376320016796, 0.9686477928186857, 0.34012091246488446, 0.34012091246488446, 0.34012091246488446, 0.3795377208526858, 0.3795377208526858, 1.0090685901400331, 0.6870888010254442, 0.9808400796047146, 0.816438310123892, 0.9260959224562129, 0.5276068443971474, 0.76235872624146, 0.5422973667072628, 0.4864480799498191, 0.8568861899110698, 0.38975643553863704, 0.38975643553863704, 0.47710166612458516, 0.3333438287924613, 0.3333438287924613, 0.4123238263294109, 0.4123238263294109, 1.0172218211437933, 0.699726385222851, 0.25858942792686496, 0.25858942792686496, 0.25858942792686496, 0.25858942792686496, 0.3327290704391583, 0.3327290704391583, 0.3327290704391583, 0.26355722126341447, 0.26355722126341447, 0.26355722126341447, 0.26355722126341447, 0.26355722126341447, 0.9618443461257651, 0.42947073219634097, 0.42947073219634097, 0.22660137658883994, 0.22660137658883994, 0.22660137658883994, 0.22660137658883994, 0.22660137658883994, 0.22660137658883994, 0.5328984295853891, 0.2583373858729833, 0.2583373858729833, 0.2583373858729833, 0.8677266535319174, 1.0009392759251798, 0.31506097280914364, 0.31506097280914364, 0.20873520592182288, 0.20873520592182288, 0.20873520592182288, 0.20873520592182288, 0.20873520592182288, 0.5288535354067986, 0.4856501447177167, 0.6502815193131349, 0.6153128471748373, 0.8092724940423751, 0.7923879221971178, 0.8542927887030907, 0.48785371551588597, 0.3078846886961949, 0.3078846886961949, 0.40091947881131923, 0.40091947881131923, 0.5090497214672057, 0.5090497214672057, 1.1064303454647535, 0.73599572638797, 0.4277326365195288, 0.4277326365195288, 0.851090753510501, 0.4881779121017395, 0.6894610452053946, 0.37969054097125204, 0.37969054097125204, 0.28531099484896405, 0.28531099484896405, 0.28531099484896405, 0.5324606339471688, 0.45511173357009616, 0.45511173357009616, 0.8377711443982153, 0.7447975887233295, 0.4196143248302071, 0.8309177258755147], \"Term\": [\"aba\", \"abanico\", \"agua\", \"agua\", \"agua\", \"agua\", \"agua\", \"agua\", \"aguarda\", \"ahorca\", \"aire\", \"alamos\", \"alegria\", \"alicun\", \"alma\", \"alma\", \"alma\", \"amor\", \"amor\", \"amor\", \"amor\", \"ana\", \"ana\", \"ana\", \"ayer\", \"azul\", \"bajo\", \"bajo\", \"bajo\", \"barro\", \"beber\", \"beberan\", \"bien\", \"bien\", \"bien\", \"blanca\", \"blanca\", \"blanca\", \"buenos\", \"busca\", \"busca\", \"cabeza\", \"calavera\", \"calle\", \"calor\", \"camino\", \"camino\", \"camino\", \"caminos\", \"campo\", \"campo\", \"campo\", \"campo\", \"campos\", \"campos\", \"canta\", \"canta\", \"cantar\", \"cantarillo\", \"claro\", \"claro\", \"claro\", \"confesion\", \"conmigo\", \"consejo\", \"corazon\", \"corazon\", \"corazon\", \"corazon\", \"corazon\", \"cosa\", \"cristo\", \"cuca\", \"demas\", \"desnuda\", \"despierta\", \"dia\", \"dia\", \"dia\", \"dias\", \"dice\", \"dices\", \"dios\", \"dios\", \"dios\", \"doble\", \"doctor\", \"dos\", \"dos\", \"dos\", \"duero\", \"duero\", \"encontraremos\", \"encrucijadade\", \"espa\", \"espa\", \"espa\", \"espejo\", \"fin\", \"flor\", \"frente\", \"fruto\", \"fuego\", \"fuente\", \"grito\", \"guitarra\", \"hastio\", \"hijos\", \"hizo\", \"hogar\", \"hojas\", \"hombre\", \"hombre\", \"hombres\", \"hora\", \"hoy\", \"hoy\", \"hoy\", \"jamas\", \"jardin\", \"junto\", \"lejos\", \"llego\", \"luego\", \"luna\", \"luna\", \"luna\", \"luna\", \"luz\", \"luz\", \"luz\", \"malo\", \"malos\", \"mano\", \"mano\", \"mano\", \"mano\", \"mar\", \"mar\", \"mar\", \"mar\", \"mar\", \"martin\", \"mejor\", \"mejor\", \"miel\", \"misma\", \"mismo\", \"montes\", \"montes\", \"mujeres\", \"noche\", \"noche\", \"noche\", \"nuevo\", \"ojo\", \"ojos\", \"ojos\", \"ojos\", \"ojos\", \"ojos\", \"ora\", \"oro\", \"oro\", \"padre\", \"palabra\", \"paso\", \"pensamos\", \"perfil\", \"piano\", \"piedra\", \"piedra\", \"piedra\", \"poeta\", \"poeta\", \"poned\", \"primero\", \"profesor\", \"quede\", \"quieta\", \"saber\", \"sal\", \"san\", \"sed\", \"sendas\", \"ser\", \"ser\", \"sera\", \"siempre\", \"siempre\", \"sierra\", \"sierra\", \"siete\", \"sino\", \"sol\", \"sol\", \"sol\", \"sol\", \"solo\", \"solo\", \"solo\", \"sombra\", \"sombra\", \"sombra\", \"sombra\", \"sombra\", \"sonando\", \"soria\", \"soria\", \"sue\", \"sue\", \"sue\", \"sue\", \"sue\", \"sue\", \"suena\", \"tarde\", \"tarde\", \"tarde\", \"teatro\", \"tic\", \"tiempo\", \"tiempo\", \"tierra\", \"tierra\", \"tierra\", \"tierra\", \"tierra\", \"toda\", \"todavia\", \"torre\", \"torres\", \"vacio\", \"van\", \"vanidades\", \"ver\", \"verdad\", \"verdad\", \"verde\", \"verde\", \"verdes\", \"verdes\", \"verdugo\", \"verso\", \"vez\", \"vez\", \"vicio\", \"vieja\", \"viejas\", \"viejo\", \"viejo\", \"viento\", \"viento\", \"viento\", \"vino\", \"vivir\", \"vivir\", \"voces\", \"volar\", \"voz\", \"vuelo\"]}, \"R\": 30, \"lambda.step\": 0.01, \"plot.opts\": {\"xlab\": \"PC1\", \"ylab\": \"PC2\"}, \"topic.order\": [6, 1, 4, 5, 3, 2]};\n",
              "\n",
              "function LDAvis_load_lib(url, callback){\n",
              "  var s = document.createElement('script');\n",
              "  s.src = url;\n",
              "  s.async = true;\n",
              "  s.onreadystatechange = s.onload = callback;\n",
              "  s.onerror = function(){console.warn(\"failed to load library \" + url);};\n",
              "  document.getElementsByTagName(\"head\")[0].appendChild(s);\n",
              "}\n",
              "\n",
              "if(typeof(LDAvis) !== \"undefined\"){\n",
              "   // already loaded: just create the visualization\n",
              "   !function(LDAvis){\n",
              "       new LDAvis(\"#\" + \"ldavis_el1221403073164404169523096801\", ldavis_el1221403073164404169523096801_data);\n",
              "   }(LDAvis);\n",
              "}else if(typeof define === \"function\" && define.amd){\n",
              "   // require.js is available: use it to load d3/LDAvis\n",
              "   require.config({paths: {d3: \"https://d3js.org/d3.v5\"}});\n",
              "   require([\"d3\"], function(d3){\n",
              "      window.d3 = d3;\n",
              "      LDAvis_load_lib(\"https://cdn.jsdelivr.net/gh/bmabey/pyLDAvis@3.4.0/pyLDAvis/js/ldavis.v3.0.0.js\", function(){\n",
              "        new LDAvis(\"#\" + \"ldavis_el1221403073164404169523096801\", ldavis_el1221403073164404169523096801_data);\n",
              "      });\n",
              "    });\n",
              "}else{\n",
              "    // require.js not available: dynamically load d3 & LDAvis\n",
              "    LDAvis_load_lib(\"https://d3js.org/d3.v5.js\", function(){\n",
              "         LDAvis_load_lib(\"https://cdn.jsdelivr.net/gh/bmabey/pyLDAvis@3.4.0/pyLDAvis/js/ldavis.v3.0.0.js\", function(){\n",
              "                 new LDAvis(\"#\" + \"ldavis_el1221403073164404169523096801\", ldavis_el1221403073164404169523096801_data);\n",
              "            })\n",
              "         });\n",
              "}\n",
              "</script>"
            ]
          },
          "metadata": {},
          "execution_count": 42
        }
      ]
    }
  ]
}