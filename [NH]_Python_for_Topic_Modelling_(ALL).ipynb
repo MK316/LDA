{
  "nbformat": 4,
  "nbformat_minor": 0,
  "metadata": {
    "colab": {
      "provenance": [],
      "include_colab_link": true
    },
    "kernelspec": {
      "name": "python3",
      "display_name": "Python 3"
    },
    "language_info": {
      "name": "python"
    }
  },
  "cells": [
    {
      "cell_type": "markdown",
      "metadata": {
        "id": "view-in-github",
        "colab_type": "text"
      },
      "source": [
        "<a href=\"https://colab.research.google.com/github/hsnam95/my/blob/main/%5BNH%5D_Python_for_Topic_Modelling_(ALL).ipynb\" target=\"_parent\"><img src=\"https://colab.research.google.com/assets/colab-badge.svg\" alt=\"Open In Colab\"/></a>"
      ]
    },
    {
      "cell_type": "code",
      "source": [
        "import pandas as pd\n",
        "import re\n",
        "import nltk\n",
        "nltk.download('stopwords')\n",
        "from nltk.corpus import stopwords\n",
        "import matplotlib.pyplot as plt\n",
        "import gensim\n",
        "from gensim import models\n",
        "from gensim.models import CoherenceModel, LdaModel, LsiModel, HdpModel\n",
        "from gensim.corpora import Dictionary"
      ],
      "metadata": {
        "id": "T2lVWFpepB0o"
      },
      "execution_count": null,
      "outputs": []
    },
    {
      "cell_type": "code",
      "source": [
        "from google.colab import files\n",
        "a = files.upload()"
      ],
      "metadata": {
        "id": "7ISD7OhipXVv",
        "colab": {
          "base_uri": "https://localhost:8080/",
          "height": 74
        },
        "outputId": "dee8ab9f-46c8-4791-d3d0-8de27073625a"
      },
      "execution_count": 4,
      "outputs": [
        {
          "output_type": "display_data",
          "data": {
            "text/plain": [
              "<IPython.core.display.HTML object>"
            ],
            "text/html": [
              "\n",
              "     <input type=\"file\" id=\"files-ad9438ca-cd13-40a4-95fb-12777e076175\" name=\"files[]\" multiple disabled\n",
              "        style=\"border:none\" />\n",
              "     <output id=\"result-ad9438ca-cd13-40a4-95fb-12777e076175\">\n",
              "      Upload widget is only available when the cell has been executed in the\n",
              "      current browser session. Please rerun this cell to enable.\n",
              "      </output>\n",
              "      <script>// Copyright 2017 Google LLC\n",
              "//\n",
              "// Licensed under the Apache License, Version 2.0 (the \"License\");\n",
              "// you may not use this file except in compliance with the License.\n",
              "// You may obtain a copy of the License at\n",
              "//\n",
              "//      http://www.apache.org/licenses/LICENSE-2.0\n",
              "//\n",
              "// Unless required by applicable law or agreed to in writing, software\n",
              "// distributed under the License is distributed on an \"AS IS\" BASIS,\n",
              "// WITHOUT WARRANTIES OR CONDITIONS OF ANY KIND, either express or implied.\n",
              "// See the License for the specific language governing permissions and\n",
              "// limitations under the License.\n",
              "\n",
              "/**\n",
              " * @fileoverview Helpers for google.colab Python module.\n",
              " */\n",
              "(function(scope) {\n",
              "function span(text, styleAttributes = {}) {\n",
              "  const element = document.createElement('span');\n",
              "  element.textContent = text;\n",
              "  for (const key of Object.keys(styleAttributes)) {\n",
              "    element.style[key] = styleAttributes[key];\n",
              "  }\n",
              "  return element;\n",
              "}\n",
              "\n",
              "// Max number of bytes which will be uploaded at a time.\n",
              "const MAX_PAYLOAD_SIZE = 100 * 1024;\n",
              "\n",
              "function _uploadFiles(inputId, outputId) {\n",
              "  const steps = uploadFilesStep(inputId, outputId);\n",
              "  const outputElement = document.getElementById(outputId);\n",
              "  // Cache steps on the outputElement to make it available for the next call\n",
              "  // to uploadFilesContinue from Python.\n",
              "  outputElement.steps = steps;\n",
              "\n",
              "  return _uploadFilesContinue(outputId);\n",
              "}\n",
              "\n",
              "// This is roughly an async generator (not supported in the browser yet),\n",
              "// where there are multiple asynchronous steps and the Python side is going\n",
              "// to poll for completion of each step.\n",
              "// This uses a Promise to block the python side on completion of each step,\n",
              "// then passes the result of the previous step as the input to the next step.\n",
              "function _uploadFilesContinue(outputId) {\n",
              "  const outputElement = document.getElementById(outputId);\n",
              "  const steps = outputElement.steps;\n",
              "\n",
              "  const next = steps.next(outputElement.lastPromiseValue);\n",
              "  return Promise.resolve(next.value.promise).then((value) => {\n",
              "    // Cache the last promise value to make it available to the next\n",
              "    // step of the generator.\n",
              "    outputElement.lastPromiseValue = value;\n",
              "    return next.value.response;\n",
              "  });\n",
              "}\n",
              "\n",
              "/**\n",
              " * Generator function which is called between each async step of the upload\n",
              " * process.\n",
              " * @param {string} inputId Element ID of the input file picker element.\n",
              " * @param {string} outputId Element ID of the output display.\n",
              " * @return {!Iterable<!Object>} Iterable of next steps.\n",
              " */\n",
              "function* uploadFilesStep(inputId, outputId) {\n",
              "  const inputElement = document.getElementById(inputId);\n",
              "  inputElement.disabled = false;\n",
              "\n",
              "  const outputElement = document.getElementById(outputId);\n",
              "  outputElement.innerHTML = '';\n",
              "\n",
              "  const pickedPromise = new Promise((resolve) => {\n",
              "    inputElement.addEventListener('change', (e) => {\n",
              "      resolve(e.target.files);\n",
              "    });\n",
              "  });\n",
              "\n",
              "  const cancel = document.createElement('button');\n",
              "  inputElement.parentElement.appendChild(cancel);\n",
              "  cancel.textContent = 'Cancel upload';\n",
              "  const cancelPromise = new Promise((resolve) => {\n",
              "    cancel.onclick = () => {\n",
              "      resolve(null);\n",
              "    };\n",
              "  });\n",
              "\n",
              "  // Wait for the user to pick the files.\n",
              "  const files = yield {\n",
              "    promise: Promise.race([pickedPromise, cancelPromise]),\n",
              "    response: {\n",
              "      action: 'starting',\n",
              "    }\n",
              "  };\n",
              "\n",
              "  cancel.remove();\n",
              "\n",
              "  // Disable the input element since further picks are not allowed.\n",
              "  inputElement.disabled = true;\n",
              "\n",
              "  if (!files) {\n",
              "    return {\n",
              "      response: {\n",
              "        action: 'complete',\n",
              "      }\n",
              "    };\n",
              "  }\n",
              "\n",
              "  for (const file of files) {\n",
              "    const li = document.createElement('li');\n",
              "    li.append(span(file.name, {fontWeight: 'bold'}));\n",
              "    li.append(span(\n",
              "        `(${file.type || 'n/a'}) - ${file.size} bytes, ` +\n",
              "        `last modified: ${\n",
              "            file.lastModifiedDate ? file.lastModifiedDate.toLocaleDateString() :\n",
              "                                    'n/a'} - `));\n",
              "    const percent = span('0% done');\n",
              "    li.appendChild(percent);\n",
              "\n",
              "    outputElement.appendChild(li);\n",
              "\n",
              "    const fileDataPromise = new Promise((resolve) => {\n",
              "      const reader = new FileReader();\n",
              "      reader.onload = (e) => {\n",
              "        resolve(e.target.result);\n",
              "      };\n",
              "      reader.readAsArrayBuffer(file);\n",
              "    });\n",
              "    // Wait for the data to be ready.\n",
              "    let fileData = yield {\n",
              "      promise: fileDataPromise,\n",
              "      response: {\n",
              "        action: 'continue',\n",
              "      }\n",
              "    };\n",
              "\n",
              "    // Use a chunked sending to avoid message size limits. See b/62115660.\n",
              "    let position = 0;\n",
              "    do {\n",
              "      const length = Math.min(fileData.byteLength - position, MAX_PAYLOAD_SIZE);\n",
              "      const chunk = new Uint8Array(fileData, position, length);\n",
              "      position += length;\n",
              "\n",
              "      const base64 = btoa(String.fromCharCode.apply(null, chunk));\n",
              "      yield {\n",
              "        response: {\n",
              "          action: 'append',\n",
              "          file: file.name,\n",
              "          data: base64,\n",
              "        },\n",
              "      };\n",
              "\n",
              "      let percentDone = fileData.byteLength === 0 ?\n",
              "          100 :\n",
              "          Math.round((position / fileData.byteLength) * 100);\n",
              "      percent.textContent = `${percentDone}% done`;\n",
              "\n",
              "    } while (position < fileData.byteLength);\n",
              "  }\n",
              "\n",
              "  // All done.\n",
              "  yield {\n",
              "    response: {\n",
              "      action: 'complete',\n",
              "    }\n",
              "  };\n",
              "}\n",
              "\n",
              "scope.google = scope.google || {};\n",
              "scope.google.colab = scope.google.colab || {};\n",
              "scope.google.colab._files = {\n",
              "  _uploadFiles,\n",
              "  _uploadFilesContinue,\n",
              "};\n",
              "})(self);\n",
              "</script> "
            ]
          },
          "metadata": {}
        },
        {
          "output_type": "stream",
          "name": "stdout",
          "text": [
            "Saving a-machado-(CLEAN)-Revisado3-(solo libros)-nuevo.csv to a-machado-(CLEAN)-Revisado3-(solo libros)-nuevo (2).csv\n"
          ]
        }
      ]
    },
    {
      "cell_type": "code",
      "source": [
        "df_news = pd.read_csv(\"a-machado-(CLEAN)-Revisado3-(solo libros)-nuevo.csv\")"
      ],
      "metadata": {
        "id": "R_D20tWdpo8H"
      },
      "execution_count": 7,
      "outputs": []
    },
    {
      "cell_type": "markdown",
      "source": [
        "### clean up"
      ],
      "metadata": {
        "id": "-mb3bXQGqk21"
      }
    },
    {
      "cell_type": "code",
      "source": [
        "black_list = [\n",
        "                                  \"a\",\"b\",\"c\",\"d\",\"e\",\"f\",\"g\",\"h\",\"i\",\"j\",\"k\",\"l\",\"m\",\"n\",\"o\",\"p\",\"q\",\"r\",\"s\",\"t\",\"u\",\"v\",\"w\",\"x\",\"y\",\"z\", # 개별 알파벳(alfabeto) \n",
        "                                       \n",
        "                                 \"al\", \"del\",\"de\",\"en\", \"hacia\", \"por\", \"para\", \"entre\",'sobre','según', #전치사(preposiciones)\n",
        "                                 \"con\",\"comigo\",\"contigo\", \"consigo\", \"sin\",\n",
        "\n",
        "                                 'cual', 'cuál', 'cuales', 'cuáles', 'cualquier', 'cualquiera', 'cualquieras', #관계사(relativos) & 의문사(interrogativos) (2)\n",
        "                                 'cuan', 'cuán', 'cuando', 'cuándo', 'cuanta','cuánta', 'cuantas', 'cuántas', 'cuanto', 'cuánto', 'cuantos', 'cuántos',   #관계사(relativos) & 의문사(interrogativos) (1)\n",
        "                                 'donde', 'dónde', 'adonde', 'adónde','como', 'cómo',                                  #관계사(relativos) & 의문사(interrogativos) (3)\n",
        "                                 'que', 'qué', 'quien', 'quién', 'quienes', 'quiénes','quienesquiera', 'quienquiera', #관계사(relativos) & 의문사(interrogativos) (4)\n",
        "                                 'cuyo', 'cuya','cuyos','cuyas', #관계사(relativos) & 의문사(interrogativos) (4)   \n",
        "\n",
        "                                 'el', 'la', 'las', 'le', 'les', 'lo', 'los', 'un', 'una', 'unas', 'uno', 'unos', #관사(articulos)\n",
        "                                 'yo', 'me', 'mi', 'mí', 'mia', 'mía', 'mias', 'mías','mio','mío', 'mios', 'míos', 'mis', #대명사(prombres)-1S\n",
        "                                 'nos', 'nosotras', 'nosotros', 'nuestra', 'nuestras', 'nuestro', 'nuestros', #대명사(prombres)-1P\n",
        "                                 'vosotras', 'vosotros', 'vuestra', 'vuestras', 'vuestro', 'vuestros', 'os', #대명사(prombres)-2P\n",
        "                                 'él', 'ella', 'ellas', 'ello', 'ellos', #대명사(prombres)-3S (1)\n",
        "                                 'ud', 'uds', 'usted','ustedes', 'vd', 'vds', 'se', 'su', 'sus', 'suya', 'suyas', 'suyo', 'suyos', #대명사(prombres)-3S (2)\n",
        "                                 'te', 'ti', 'tí', 'tu', 'tú', 'tus', 'tuya', 'tuyas', 'tuyo', 'tuyos', #대명사(prombres)-2S\n",
        "\n",
        "                                 #'este', 'esta', 'estos', 'estas', 'ese', 'esa', 'esos', 'esas','aquel', 'aquella', 'aquellos', 'aquellas', #지시사(demostrativos)\n",
        "\n",
        "                                 'era', 'erais', 'eramos', 'éramos', 'eran', 'eras',  #SER 동사활용형(1)\n",
        "                                 'eres', 'es', 'sea', 'seáis', 'seamos', 'sean', 'seas','sois', 'somos','son', 'soy', #SER 동사활용형(2)\n",
        "                                 'fue', 'fué', 'fui', 'fuí', 'fuimos', 'fuiste', 'fuisteis', #SER 동사활용형(3)\n",
        "                                 'fuera', 'fuerais', 'fuéramos', 'fueran', 'fueras', 'fueron', 'fuese', 'fueseis', 'fuésemos','fuesen', 'fueses', #SER 동사활용형(4)\n",
        "                                 'será', 'serán', 'serás', 'seré', 'seréis', 'seremos', #SER 동사활용형(5)\n",
        "                                 'sería', 'seríais', 'seríamos', 'serían', 'serías', #SER 동사활용형(6)\n",
        "                                 'sido', 'siendo', #SER 동사활용형(7)\n",
        "\n",
        "                                 'estar', 'está', 'estais', 'estáis', 'estamos', 'estan', 'están','estás', 'estoy',  #ESTAR 동사활용형(1)\n",
        "                                 'estaba', 'estabais', 'estábamos', 'estaban', 'estabas', #ESTAR 동사활용형(2)\n",
        "                                 'estada', 'estadas', 'estando', 'estad', #ESTAR 동사활용형(3)\n",
        "                                 'estará', 'estarán', 'estarás', 'estaré', 'estaréis', 'estaremos', #ESTAR 동사활용형(4)\n",
        "                                 'estaría', 'estaríais', 'estaríamos', 'estarían', 'estarías', #ESTAR 동사활용형(5)\n",
        "                                 'esté', 'estéis', 'estemos', 'estén', 'estés', #ESTAR 동사활용형(6) \n",
        "                                 'estuve', 'estuviera', 'estuvierais', 'estuviéramos', 'estuvieran', 'estuvieras', 'estuvieron', #ESTAR 동사활용형(7)\n",
        "                                 'estuviese', 'estuvieseis', 'estuviésemos', 'estuviesen', 'estuvieses', 'estuvimos', 'estuviste', 'estuvisteis', 'estuvo',  #ESTAR 동사활용형(8)\n",
        "\n",
        "                                 'haber', 'ha', 'habéis', 'han', 'has', 'hay', 'he', 'hemos',  #HABER 동사활용형(1)\n",
        "                                 'habia', 'había', 'habíais', 'habíamos', 'habían', 'habías',  #HABER 동사활용형(2)\n",
        "                                 'habida', 'habidas', 'habido', 'habidos', 'habiendo',         #HABER 동사활용형(3)\n",
        "                                 'habrá', 'habrán', 'habrás', 'habré', 'habréis', 'habremos',  #HABER 동사활용형(4)\n",
        "                                 'habría', 'habríais', 'habríamos', 'habrían', 'habrías',      #HABER 동사활용형(5)\n",
        "                                 'haya', 'hayáis', 'hayamos', 'hayan', 'hayas',                #HABER 동사활용형(6)\n",
        "                                 'hube', 'hubimos', 'hubiste', 'hubisteis', 'hubo',            #HABER 동사활용형(7)\n",
        "                                 'hubiera', 'hubierais', 'hubiéramos', 'hubieran', 'hubieras', 'hubieron',  #HABER 동사활용형(8) \n",
        "                                 'hubiese', 'hubieseis', 'hubiésemos', 'hubiesen', 'hubieses', #HABER 동사활용형(9) \n",
        "\n",
        "                                 'ni','no','jamás','nunca','nada','ningún','ninguna','ninguno', #부정어(negativos)\n",
        "                                 'pero','mas', 'aunque','pues','porque','si','sí', #접속사(conjunciones)\n",
        "                                 'algo','algún','alguna','algunas','alguno','algunos', #부정어(indefinidos)\n",
        "                                 'embargo',                                     #기타(etc)                                                                   ))         \n",
        "  \n",
        "                                   \"LBR\",\n",
        "                                   \"ttl\",\n",
        "                                   \"mtl\",\n",
        "                                   \"ftl\",\n",
        "                                   \"=\",\"===============================================\",\n",
        "                                   \"01\",\"02\",\"03\",\"04\",\"05\",\"06\",\"07\",\"08\",\"09\"]"
      ],
      "metadata": {
        "id": "fQXEpuoHqKMR"
      },
      "execution_count": 8,
      "outputs": []
    },
    {
      "cell_type": "code",
      "source": [
        "stop = set(stopwords.words('spanish'))\n",
        "additional_stopwords=set(black_list)\n",
        "stopwords = stop.union(additional_stopwords)"
      ],
      "metadata": {
        "id": "HvdtnQJeq98_"
      },
      "execution_count": 9,
      "outputs": []
    },
    {
      "cell_type": "code",
      "source": [
        "import spacy\n",
        "!python -m spacy download es_core_news_sm\n",
        "nlp = spacy.load(\"es_core_news_sm\")"
      ],
      "metadata": {
        "id": "HTiSGf6_rEDM"
      },
      "execution_count": null,
      "outputs": []
    },
    {
      "cell_type": "code",
      "source": [
        "def lemmatization(texts):\n",
        "    texts_out = [token.text for token in nlp(texts) if token.text not in black_list and len(token.text)>2]\n",
        "    return texts_out"
      ],
      "metadata": {
        "id": "2d9a8dBznPUd"
      },
      "execution_count": 11,
      "outputs": []
    },
    {
      "cell_type": "code",
      "source": [
        "# Detect phrases, based on collected collocation counts. Adjacent words that appear together more frequently than expected are joined together with the _ character.\n",
        "bigram = gensim.models.Phrases(df_news.texto.to_list())"
      ],
      "metadata": {
        "id": "HZXpUnfi6dOq"
      },
      "execution_count": 12,
      "outputs": []
    },
    {
      "cell_type": "code",
      "source": [
        "def cleaner(word):\n",
        "  word = re.sub(r'((http|https)\\:\\/\\/)?[a-zA-Z0-9\\.\\/\\?\\:@\\-_=#]+\\.([a-zA-Z]){2,6}([a-zA-Z0-9\\.\\&\\/\\?\\:@\\-_=#])*', '', word, flags=re.MULTILINE)\n",
        "  word = re.sub(r'(?::|;|=)(?:-)?(?:\\)|\\(|D|P)', \"\", word)\n",
        "  word = re.sub(r'ee.uu', 'eeuu', word)\n",
        "  word = re.sub(r'\\#\\.', '', word)\n",
        "  word = re.sub(r'\\n', '', word)\n",
        "  word = re.sub(r',', '', word)\n",
        "  word = re.sub(r'\\-', ' ', word)\n",
        "  word = re.sub(r'\\.{3}', ' ', word)\n",
        "  word = re.sub(r'a{2,}', 'a', word)\n",
        "  word = re.sub(r'é{2,}', 'é', word)\n",
        "  word = re.sub(r'i{2,}', 'i', word)\n",
        "  word = re.sub(r'ja{2,}', 'ja', word) \n",
        "  word = re.sub(r'á', 'a', word)\n",
        "  word = re.sub(r'é', 'e', word)\n",
        "  word = re.sub(r'í', 'i', word)\n",
        "  word = re.sub(r'ó', 'o', word)\n",
        "  word = re.sub(r'ú', 'u', word)  \n",
        "  word = re.sub('[^a-zA-Z]', ' ', word)\n",
        "  list_word_clean = []\n",
        "  for w1 in word.split(\" \"):\n",
        "    if  w1.lower() not in stopwords:\n",
        "      list_word_clean.append(w1.lower())\n",
        "\n",
        "  bigram_list = bigram[list_word_clean]\n",
        "  # 재조합해서 lemmatize한 list\n",
        "  out_text = lemmatization(\" \".join(bigram_list))\n",
        "  return out_text"
      ],
      "metadata": {
        "id": "n_3wAGvHnTSW"
      },
      "execution_count": 15,
      "outputs": []
    },
    {
      "cell_type": "code",
      "source": [
        "df_news['texto'] = df_news['texto'].apply(cleaner)"
      ],
      "metadata": {
        "id": "WzlZ8FlLrcDt"
      },
      "execution_count": null,
      "outputs": []
    },
    {
      "cell_type": "markdown",
      "source": [
        "### corpus"
      ],
      "metadata": {
        "id": "cIosAjhsrdd9"
      }
    },
    {
      "cell_type": "code",
      "source": [
        "dictionary = Dictionary(df_news['texto'].to_list())\n",
        "dictionary.compactify() #??\n",
        "# Filter extremes\n",
        "dictionary.filter_extremes(no_below=2, no_above=0.97, keep_n=None)\n",
        "dictionary.compactify() #??\n",
        "\n",
        "corpus = [dictionary.doc2bow(text) for text in df_news['texto'].to_list()]"
      ],
      "metadata": {
        "id": "MoqHmNhHre5-"
      },
      "execution_count": 17,
      "outputs": []
    },
    {
      "cell_type": "code",
      "source": [
        "# tfidf = models.TfidfModel(corpus)\n",
        "# corpus_tfidf = tfidf[corpus]"
      ],
      "metadata": {
        "id": "8iWwG8OnOtwt"
      },
      "execution_count": 18,
      "outputs": []
    },
    {
      "cell_type": "markdown",
      "source": [
        "# Evaluate models"
      ],
      "metadata": {
        "id": "7Snf31_FQ6Uf"
      }
    },
    {
      "cell_type": "code",
      "source": [
        "def display_topics(model, model_type=\"lda\"): # for all models\n",
        "  for topic_idx, topic in enumerate(model.print_topics()):\n",
        "    print (\"Topic %d:\" % (topic_idx))\n",
        "    if model_type== \"hdp\":\n",
        "      print (\" \".join(re.findall( r'\\*(.[^\\*-S]+).?', topic[1])), \"\\n\")\n",
        "    else:\n",
        "      print (\" \".join(re.findall( r'\\\"(.[^\"]+).?', topic[1])), \"\\n\")"
      ],
      "metadata": {
        "id": "mysUf0HEr6-r"
      },
      "execution_count": 23,
      "outputs": []
    },
    {
      "cell_type": "markdown",
      "source": [
        "##**Model#1: Hierarchical Dirichlet process Model**"
      ],
      "metadata": {
        "id": "v_lMuA4XrnXC"
      }
    },
    {
      "cell_type": "code",
      "source": [
        "import time\n",
        "time.clock = time.time\n",
        "hdpmodel = HdpModel(corpus=corpus, id2word=dictionary, random_state= 30)"
      ],
      "metadata": {
        "id": "SHG7hYxCr3YD"
      },
      "execution_count": null,
      "outputs": []
    },
    {
      "cell_type": "markdown",
      "source": [
        "# evaluate N of topics for LSI, LDA"
      ],
      "metadata": {
        "id": "F1xZnAeARNwZ"
      }
    },
    {
      "cell_type": "code",
      "source": [
        "def evaluate_graph(dictionary, corpus, texts, limit, model): # for LSI, LDA\n",
        "    \"\"\"\n",
        "    Function to display num_topics - LDA graph using c_v coherence\n",
        "    \n",
        "    Parameters:\n",
        "    ----------\n",
        "    dictionary : Gensim dictionary\n",
        "    corpus : Gensim corpus\n",
        "    limit : topic limit\n",
        "    \n",
        "    Returns:\n",
        "    -------\n",
        "    lm_list : List of LDA topic models\n",
        "    c_v : Coherence values corresponding to the LDA model with respective number of topics\n",
        "    \"\"\"\n",
        "    c_v = []\n",
        "    lm_list = []\n",
        "    for num_topics in range(1, limit):\n",
        "        if model == 'lsi':\n",
        "          lm = LsiModel(corpus=corpus, num_topics=num_topics, id2word=dictionary)\n",
        "        else:\n",
        "          lm = LdaModel(corpus=corpus, num_topics=num_topics, id2word=dictionary)\n",
        "        lm_list.append(lm)\n",
        "        cm = CoherenceModel(model=lm, texts=texts, dictionary=dictionary, coherence='c_v')\n",
        "        c_v.append(cm.get_coherence())\n",
        "        \n",
        "    # Show graph\n",
        "    x = range(1, limit)\n",
        "    plt.plot(x, c_v)\n",
        "    plt.xlabel(\"num_topics\")\n",
        "    plt.ylabel(\"Coherence score\")\n",
        "    plt.legend((\"c_v\"), loc='best')\n",
        "    plt.show()\n",
        "    \n",
        "    return lm_list, c_v"
      ],
      "metadata": {
        "id": "bJZNVNLpr77U"
      },
      "execution_count": 32,
      "outputs": []
    },
    {
      "cell_type": "markdown",
      "source": [
        "##**Model#2: LSI Model**"
      ],
      "metadata": {
        "id": "dSdNRkzwruDX"
      }
    },
    {
      "cell_type": "code",
      "source": [
        "lmlist_lsi, c_v = evaluate_graph(dictionary=dictionary, corpus=corpus, texts=df_news['texto'].to_list(), limit=21, model= \"lsi\")"
      ],
      "metadata": {
        "id": "4ejOEzZdsfvi"
      },
      "execution_count": null,
      "outputs": []
    },
    {
      "cell_type": "markdown",
      "source": [
        "##**Model#3: Latent Dirichlet Allocation Model**"
      ],
      "metadata": {
        "id": "xCQopweArvSX"
      }
    },
    {
      "cell_type": "code",
      "source": [
        "lmlist_lda, c_v = evaluate_graph(dictionary=dictionary, corpus=corpus, texts=df_news['texto'].to_list(), limit=21, model= \"lda\")"
      ],
      "metadata": {
        "id": "nu3IgpL6sqjM"
      },
      "execution_count": null,
      "outputs": []
    },
    {
      "cell_type": "markdown",
      "source": [
        "## summary"
      ],
      "metadata": {
        "id": "Ik-yrJhTsu6U"
      }
    },
    {
      "cell_type": "code",
      "source": [
        "ldamodel = lmlist_lda[5]\n",
        "lsimodel = lmlist_lsi[2]\n",
        "\n",
        "lsitopics = [[word for word, prob in topic] for topicid, topic in lsimodel.show_topics(formatted=False)]\n",
        "hdptopics = [[word for word, prob in topic] for topicid, topic in hdpmodel.show_topics(formatted=False)]\n",
        "ldatopics = [[word for word, prob in topic] for topicid, topic in ldamodel.show_topics(formatted=False)]"
      ],
      "metadata": {
        "id": "H2VUKYGosy72"
      },
      "execution_count": 41,
      "outputs": []
    },
    {
      "cell_type": "code",
      "source": [
        "hdp_coherence = CoherenceModel(topics=hdptopics[:10], texts=df_news['texto'].to_list(), dictionary=dictionary, window_size=10).get_coherence() \n",
        "lsi_coherence = CoherenceModel(topics=lsitopics[:10], texts=df_news['texto'].to_list(), dictionary=dictionary, window_size=10).get_coherence() \n",
        "lda_coherence = CoherenceModel(topics=ldatopics, texts=df_news['texto'].to_list(), dictionary=dictionary, window_size=10).get_coherence() "
      ],
      "metadata": {
        "id": "YyicIxDts0LC"
      },
      "execution_count": 42,
      "outputs": []
    },
    {
      "cell_type": "code",
      "source": [
        "import seaborn as sns\n",
        "\n",
        "coherences = [hdp_coherence, lsi_coherence, lda_coherence]\n",
        "n = len(coherences)\n",
        "x = ['hdp_coherence', 'lsi_coherence', 'lda_coherence']\n",
        "sns.barplot(x, coherences)"
      ],
      "metadata": {
        "id": "ioSpCKlKs2E4"
      },
      "execution_count": null,
      "outputs": []
    },
    {
      "cell_type": "markdown",
      "source": [
        "# Assign a dominant topic to each document"
      ],
      "metadata": {
        "id": "AmjmbduBaVqx"
      }
    },
    {
      "cell_type": "code",
      "source": [
        "def format_topics_sentences(ldamodel=0, corpus=corpus, texts=0):\n",
        "    # Init output\n",
        "    sent_topics_df = pd.DataFrame()-n\n",
        "\n",
        "    # Get main topic in each document\n",
        "    for i, row in enumerate(ldamodel[corpus]):\n",
        "        row = sorted(row, key=lambda x: (x[1]), reverse=True)\n",
        "        # Get the Dominant topic, Perc Contribution and Keywords for each document\n",
        "        for j, (topic_num, prop_topic) in enumerate(row):\n",
        "            if j == 0:  # => dominant topic\n",
        "                wp = ldamodel.show_topic(topic_num)\n",
        "                topic_keywords = \", \".join([word for word, prop in wp])\n",
        "                sent_topics_df = sent_topics_df.append(pd.Series([int(topic_num), round(prop_topic,4), topic_keywords]), ignore_index=True)\n",
        "            else:\n",
        "                break\n",
        "    sent_topics_df.columns = ['Dominant_Topic', 'Perc_Contribution', 'Topic_Keywords']\n",
        "\n",
        "    # Add original text to the end of the output\n",
        "    contents = pd.Series(texts)\n",
        "    sent_topics_df = pd.concat([sent_topics_df, contents], axis=1)\n",
        "    return(sent_topics_df)"
      ],
      "metadata": {
        "id": "1GIyFKV4te4z"
      },
      "execution_count": 68,
      "outputs": []
    },
    {
      "cell_type": "code",
      "source": [
        "df_topic_sents_keywords = format_topics_sentences(ldamodel, corpus=corpus, texts=df_news['texto'].to_list())\n",
        "\n",
        "# Format\n",
        "df_dominant_topic = df_topic_sents_keywords.reset_index()\n",
        "df_dominant_topic.columns = ['Document_No', 'Dominant_Topic', 'Topic_Perc_Contrib', 'Keywords', 'Text']\n",
        "\n",
        "# Show\n",
        "df_dominant_topic.head(500)"
      ],
      "metadata": {
        "id": "dtTKmIW1tgG5"
      },
      "execution_count": null,
      "outputs": []
    },
    {
      "cell_type": "markdown",
      "source": [
        "# assign a specific name to a topic"
      ],
      "metadata": {
        "id": "-UlgNzJytkn1"
      }
    },
    {
      "cell_type": "code",
      "source": [
        "label_dicc = {0:'TEMA1', 1:'TEMA2', 2:'TEMA3', 3: 'TEMA4', 4:'TEMA5', 5:'TEMA6', 6:'TEMA7', \n",
        "              7:'TEMA8', 8:'TEMA9', 9: 'TEMA10', 10:'TEMA11', 11:'TEMA12'}\n",
        "df_dominant_topic['Dominant_Topic'] = df_dominant_topic['Dominant_Topic'].astype('int64')\n",
        "df_dominant_topic['Dominant_Topic'] = df_dominant_topic['Dominant_Topic'].map(label_dicc)\n",
        "df_news['labels'] = df_dominant_topic['Dominant_Topic']"
      ],
      "metadata": {
        "id": "66DsHVBOtiQT"
      },
      "execution_count": 75,
      "outputs": []
    },
    {
      "cell_type": "markdown",
      "source": [
        "Let's examine some text and its topics."
      ],
      "metadata": {
        "id": "Mufi6S8ltsNq"
      }
    },
    {
      "cell_type": "code",
      "source": [
        "df_news[ df_news['labels'] == 'TEMA5'].head().texto"
      ],
      "metadata": {
        "id": "rVm-DEq9tv0X",
        "colab": {
          "base_uri": "https://localhost:8080/"
        },
        "outputId": "ec372ca6-846b-4f2c-f7f7-964a65bb970a"
      },
      "execution_count": 76,
      "outputs": [
        {
          "output_type": "execute_result",
          "data": {
            "text/plain": [
              "2     [plaza, naranjos, encendidos, frutas, redondas...\n",
              "5     [clara, tarde, triste, olienta, tarde, verano,...\n",
              "7     [escucho, cantos, viejas, cadencias, cantan, c...\n",
              "12    [ocaso, radiante, caminaba, sol, estio, nubes,...\n",
              "15    [siempre, fugitiva, siempre, cerca, negro, man...\n",
              "Name: texto, dtype: object"
            ]
          },
          "metadata": {},
          "execution_count": 76
        }
      ]
    },
    {
      "cell_type": "markdown",
      "source": [
        "Let's see the distribution of topics to check if the topis are balanced\n"
      ],
      "metadata": {
        "id": "05B66e98txav"
      }
    },
    {
      "cell_type": "code",
      "source": [
        "ax = df_dominant_topic['Dominant_Topic'].value_counts().plot(kind='bar')\n",
        "plt.show()"
      ],
      "metadata": {
        "id": "iLLKhG7wt39F"
      },
      "execution_count": null,
      "outputs": []
    },
    {
      "cell_type": "markdown",
      "source": [
        "# Visualization!"
      ],
      "metadata": {
        "id": "hAeUQrHXt8ce"
      }
    },
    {
      "cell_type": "code",
      "source": [
        "!pip install pyLDAvis"
      ],
      "metadata": {
        "id": "LAYmBzj5uzNM"
      },
      "execution_count": null,
      "outputs": []
    },
    {
      "cell_type": "code",
      "source": [
        "import pyLDAvis, pyLDAvis.gensim\n",
        "pyLDAvis.enable_notebook()\n",
        "pyLDAvis.gensim.prepare(ldamodel, corpus, dictionary)"
      ],
      "metadata": {
        "id": "G4bc0HDGu1IC",
        "colab": {
          "base_uri": "https://localhost:8080/",
          "height": 917
        },
        "outputId": "724b106c-f875-43d0-9ef2-56335822649c"
      },
      "execution_count": 82,
      "outputs": [
        {
          "output_type": "stream",
          "name": "stderr",
          "text": [
            "/usr/local/lib/python3.8/dist-packages/pyLDAvis/_prepare.py:243: FutureWarning: In a future version of pandas all arguments of DataFrame.drop except for the argument 'labels' will be keyword-only\n",
            "  default_term_info = default_term_info.sort_values(\n"
          ]
        },
        {
          "output_type": "execute_result",
          "data": {
            "text/plain": [
              "PreparedData(topic_coordinates=              x         y  topics  cluster       Freq\n",
              "topic                                                \n",
              "0     -0.008370  0.023638       1        1  22.149975\n",
              "5      0.066434  0.000127       2        1  20.311485\n",
              "4      0.001294  0.037695       3        1  18.956208\n",
              "2     -0.015573 -0.041224       4        1  13.712665\n",
              "1     -0.003757 -0.036154       5        1  13.562962\n",
              "3     -0.040027  0.015918       6        1  11.306705, topic_info=        Term       Freq       Total Category  logprob  loglift\n",
              "10     claro  45.000000   45.000000  Default  30.0000  30.0000\n",
              "669   verdad  22.000000   22.000000  Default  29.0000  29.0000\n",
              "314  corazon  87.000000   87.000000  Default  28.0000  28.0000\n",
              "549    noche  54.000000   54.000000  Default  27.0000  27.0000\n",
              "94      agua  96.000000   96.000000  Default  26.0000  26.0000\n",
              "..       ...        ...         ...      ...      ...      ...\n",
              "377    campo   6.095959   68.710193   Topic6  -5.6319  -0.2425\n",
              "758     luna   5.581595   56.929690   Topic6  -5.7201  -0.1426\n",
              "40       mar   5.789946  100.564172   Topic6  -5.6834  -0.6749\n",
              "334   piedra   5.039509   40.858635   Topic6  -5.8222   0.0870\n",
              "5     blanca   4.963766   48.226518   Topic6  -5.8374  -0.0940\n",
              "\n",
              "[478 rows x 6 columns], token_table=      Topic      Freq           Term\n",
              "term                                \n",
              "2406      3  0.756642  abanicarascon\n",
              "2423      5  0.807846        abarcas\n",
              "301       1  0.108280          abril\n",
              "301       2  0.108280          abril\n",
              "301       3  0.072186          abril\n",
              "...     ...       ...            ...\n",
              "734       5  0.405688         vuelta\n",
              "1664      1  0.160825         zarzas\n",
              "1664      2  0.160825         zarzas\n",
              "1664      3  0.482475         zarzas\n",
              "1664      5  0.160825         zarzas\n",
              "\n",
              "[1116 rows x 3 columns], R=30, lambda_step=0.01, plot_opts={'xlab': 'PC1', 'ylab': 'PC2'}, topic_order=[1, 6, 5, 3, 2, 4])"
            ],
            "text/html": [
              "\n",
              "<link rel=\"stylesheet\" type=\"text/css\" href=\"https://cdn.jsdelivr.net/gh/bmabey/pyLDAvis@3.4.0/pyLDAvis/js/ldavis.v1.0.0.css\">\n",
              "\n",
              "\n",
              "<div id=\"ldavis_el6231396305286154726195633288\" style=\"background-color:white;\"></div>\n",
              "<script type=\"text/javascript\">\n",
              "\n",
              "var ldavis_el6231396305286154726195633288_data = {\"mdsDat\": {\"x\": [-0.00837038816712854, 0.0664339043865683, 0.0012935160519049103, -0.015572980351671163, -0.0037574291873017636, -0.040026622732371786], \"y\": [0.02363837736859478, 0.00012671219164155236, 0.03769519258499874, -0.04122402143741222, -0.03615423583086918, 0.015917975123046362], \"topics\": [1, 2, 3, 4, 5, 6], \"cluster\": [1, 1, 1, 1, 1, 1], \"Freq\": [22.14997450608496, 20.311484909720324, 18.956208241946843, 13.712665413278474, 13.562961869372753, 11.306705059596652]}, \"tinfo\": {\"Term\": [\"claro\", \"verdad\", \"corazon\", \"noche\", \"agua\", \"mar\", \"soria\", \"sombra\", \"dia\", \"luz\", \"abril\", \"mundo\", \"bajo\", \"luna\", \"cantar\", \"nadie\", \"dios\", \"flor\", \"camino\", \"mano\", \"hoy\", \"amor\", \"oro\", \"castilla\", \"tic\", \"azul\", \"vez\", \"guadarrama\", \"sed\", \"ventana\", \"silenciosos\", \"lucila\", \"caminaban\", \"exageracion\", \"oronda\", \"hoz\", \"caballo\", \"huesos\", \"serraniade\", \"logica\", \"cogido\", \"quieto\", \"mirarme\", \"insomne\", \"rato\", \"enorme\", \"bufon\", \"copia\", \"techo\", \"limonar\", \"fieras\", \"gentes\", \"irremediable\", \"despertar\", \"azogue\", \"labra\", \"pencos\", \"desperto\", \"bruto\", \"aznaitin\", \"raza\", \"ojo\", \"visto\", \"bueno\", \"olivos\", \"luna\", \"sol\", \"mano\", \"olivares\", \"gloria\", \"fuente\", \"muerte\", \"sed\", \"montes\", \"alba\", \"fuego\", \"laguna\", \"tierra\", \"sue\", \"tarde\", \"agua\", \"dia\", \"sabe\", \"campo\", \"sierra\", \"juan\", \"bien\", \"alma\", \"piedra\", \"negra\", \"vino\", \"sombra\", \"balcon\", \"rio\", \"azul\", \"clara\", \"dos\", \"bajo\", \"camino\", \"viejo\", \"luz\", \"ojos\", \"casa\", \"viento\", \"blanca\", \"amor\", \"espa\", \"mar\", \"corazon\", \"guitarra\", \"ciegos\", \"esperas\", \"hablo\", \"plomizos\", \"ballesta\", \"leon\", \"rejas\", \"guiomar\", \"dolores\", \"paramos\", \"trozo\", \"sufre\", \"espaldas\", \"diera\", \"moncayo\", \"tornar\", \"labradora\", \"roquedas\", \"severa\", \"alcores\", \"rima\", \"siembran\", \"quiebras\", \"cose\", \"labriegos\", \"aragon\", \"ama\", \"meson\", \"perdon\", \"tristeza\", \"san\", \"soria\", \"alamos\", \"castilla\", \"mira\", \"fuerte\", \"espa\", \"hoy\", \"ojos\", \"encinares\", \"hijos\", \"tierra\", \"mar\", \"ayer\", \"duero\", \"chopos\", \"alas\", \"caminos\", \"campos\", \"campo\", \"guerra\", \"viento\", \"sue\", \"dos\", \"amor\", \"tarde\", \"tiempo\", \"sol\", \"corazon\", \"bien\", \"ana\", \"dia\", \"blanca\", \"alma\", \"bajo\", \"siempre\", \"primavera\", \"agua\", \"noche\", \"abanicarascon\", \"supremo\", \"pasea\", \"fulgor\", \"jardinero\", \"cumbre\", \"salio\", \"taza\", \"mojada\", \"diala\", \"llenan\", \"sabor\", \"calles\", \"crear\", \"hambre\", \"rico\", \"fluya\", \"mundo\", \"esperanzay\", \"distancia\", \"diez\", \"albor\", \"cangilones\", \"inventa\", \"ahorca\", \"dira\", \"alegrias\", \"papagayo\", \"fino\", \"sal\", \"polvorienta\", \"dicen\", \"capitan\", \"violeta\", \"vez\", \"zarzas\", \"padre\", \"mar\", \"agua\", \"alma\", \"poeta\", \"aguarda\", \"brota\", \"dios\", \"plaza\", \"jardin\", \"baeza\", \"hombre\", \"verde\", \"tarde\", \"pena\", \"corazon\", \"sue\", \"piedra\", \"silencio\", \"mal\", \"tiempo\", \"cielo\", \"tic\", \"triste\", \"bajo\", \"clara\", \"amor\", \"tan\", \"fuente\", \"blanca\", \"sombra\", \"tierra\", \"solo\", \"vida\", \"rio\", \"sol\", \"campo\", \"luna\", \"ana\", \"mano\", \"viento\", \"mason\", \"verdugo\", \"huyo\", \"minutos\", \"bodas\", \"francisco\", \"caserio\", \"playa\", \"misterios\", \"fiebreque\", \"simetricos\", \"viejay\", \"busque\", \"media\", \"besaba\", \"sabemos\", \"cantad\", \"vacia\", \"asombra\", \"atraer\", \"suavemente\", \"falta\", \"dedal\", \"ultimos\", \"resuena\", \"repele\", \"retama\", \"curas\", \"verdinosa\", \"casas\", \"floridos\", \"claro\", \"pensar\", \"verdad\", \"noche\", \"campanas\", \"sera\", \"bajo\", \"palabra\", \"abril\", \"alto\", \"estrella\", \"saber\", \"verdes\", \"ciudad\", \"rosas\", \"voz\", \"mar\", \"luna\", \"ancho\", \"tierra\", \"agua\", \"corazon\", \"vida\", \"dijo\", \"amor\", \"sol\", \"clara\", \"soria\", \"sue\", \"ana\", \"viento\", \"solo\", \"siempre\", \"sombra\", \"tarde\", \"viejo\", \"dos\", \"luz\", \"campo\", \"hoy\", \"dios\", \"encuentro\", \"abarcas\", \"piedray\", \"concepto\", \"pifano\", \"aguda\", \"santas\", \"fuegoy\", \"funebre\", \"arbolillo\", \"broto\", \"crea\", \"londres\", \"cantarillo\", \"mascara\", \"reja\", \"riocon\", \"lado\", \"laberinto\", \"tibio\", \"lienzos\", \"fresco\", \"galan\", \"evocar\", \"mejillas\", \"marchita\", \"arboles\", \"traia\", \"incienso\", \"prados\", \"murio\", \"vuelta\", \"memoria\", \"solas\", \"luz\", \"sombra\", \"flor\", \"nadie\", \"oro\", \"dia\", \"amor\", \"tren\", \"ana\", \"claro\", \"voy\", \"florido\", \"fruto\", \"blanca\", \"canta\", \"viento\", \"campo\", \"camino\", \"sol\", \"ser\", \"abril\", \"corazon\", \"vez\", \"santa\", \"montes\", \"tarde\", \"sue\", \"viejo\", \"tierra\", \"vino\", \"primavera\", \"ojos\", \"blanco\", \"lejos\", \"espa\", \"mar\", \"campos\", \"luna\", \"mano\", \"alma\", \"sientes\", \"ermita\", \"alzo\", \"cristo\", \"guadarrama\", \"mirada\", \"vendras\", \"sandalia\", \"cobre\", \"consejo\", \"antorcha\", \"serrania\", \"corcel\", \"ultimo\", \"avance\", \"gitanos\", \"febrero\", \"sangrientas\", \"ramon\", \"dama\", \"lindos\", \"llevado\", \"esquiva\", \"quede\", \"borde\", \"azada\", \"umbral\", \"vanidad\", \"lengua\", \"viejasque\", \"andar\", \"verdad\", \"cantar\", \"mil\", \"cien\", \"corazon\", \"virgen\", \"camino\", \"azul\", \"dios\", \"conmigo\", \"nadie\", \"busca\", \"ventana\", \"mano\", \"razon\", \"volver\", \"agua\", \"sue\", \"caminante\", \"brazos\", \"sangre\", \"ver\", \"madre\", \"ayer\", \"sierra\", \"fuente\", \"dia\", \"viejo\", \"flor\", \"tic\", \"solo\", \"tarde\", \"luz\", \"ojos\", \"sombra\", \"campos\", \"abril\", \"hoy\", \"amor\", \"tierra\", \"campo\", \"luna\", \"mar\", \"piedra\", \"blanca\"], \"Freq\": [45.0, 22.0, 87.0, 54.0, 96.0, 100.0, 26.0, 64.0, 62.0, 51.0, 27.0, 24.0, 61.0, 56.0, 18.0, 20.0, 53.0, 36.0, 50.0, 56.0, 55.0, 73.0, 35.0, 29.0, 23.0, 38.0, 28.0, 6.0, 17.0, 17.0, 1.9585204926046185, 1.9583365066043537, 1.9581682409268961, 1.9546234051728473, 1.938448357472344, 2.541988618959443, 6.222371594908117, 2.488279262736545, 1.8326061411026564, 1.7832435511750457, 1.7618707048889997, 1.6945062104882131, 1.6611222612650427, 1.6251168026551865, 1.664217418155575, 2.154286836994071, 1.6120008133261758, 2.0881586198313515, 1.5340178231031394, 1.9838764029027285, 2.493436499007683, 2.477509871223149, 1.5215482107507978, 2.0860881950941934, 2.469558493131532, 1.4994874547833814, 1.497191608380287, 2.391591514348392, 1.9577855189938558, 1.4796733464310141, 3.421747955403305, 4.335375853984536, 12.623270162427701, 3.2451072274506716, 3.687762988233561, 22.83280081645192, 34.30361683095875, 22.293218785345932, 7.878395425554005, 4.773654960450998, 18.162149292596478, 8.324516450086609, 7.647228272748605, 13.074031205203275, 5.516137839486244, 12.346248574695522, 5.1833615068636645, 32.98041435904521, 29.725436515574003, 25.1537927492282, 26.049185073352795, 18.766042582073535, 7.557016132888763, 17.315164694347484, 9.18500422339302, 5.031135992855466, 8.852035365335563, 15.531790722716552, 11.69876069521477, 9.444870086990795, 7.13066001792048, 15.36840960185685, 7.3039336856214305, 11.113799332271297, 10.54474615969672, 9.77210510286278, 11.796275604291877, 13.387575954768629, 11.935720689935684, 10.542967628360826, 11.423898031814812, 11.770084382026319, 9.232151994507316, 10.493263461048757, 10.042816824729334, 10.668327304769162, 10.121853173619499, 10.736952530243494, 10.28304819921867, 4.344570593549435, 2.115356326330064, 2.0911404111914247, 2.068302333714861, 2.5893718132806827, 3.2792991958597155, 1.9199247720186703, 3.0465681416040544, 4.30349957000213, 3.1354683916668464, 3.115863658887337, 1.822079967182141, 1.8078305060494322, 1.8122614055938269, 1.8114350945288542, 5.2485993909332835, 2.28473122991268, 2.2820924803627447, 3.3731024977941417, 2.8096443106135895, 2.8017257483639892, 2.1132705271309513, 1.6712505236117035, 1.639199513785271, 1.6143680031321495, 2.1773499446935185, 3.2176200490990623, 2.6955989681409496, 4.61576577829194, 2.116367369440146, 6.3611657515552364, 5.324123118862654, 14.021185003841703, 8.895019534327322, 15.270238446971186, 7.769940870079702, 7.454112429983626, 23.89644188902134, 23.268370020694967, 25.070523308787767, 7.437250914683222, 6.292779301021874, 40.29643033619392, 29.56493793036451, 12.705065641753723, 11.28536677281616, 5.889671910411122, 6.412397393521973, 10.187268953430507, 13.242229411334336, 17.90077009043743, 7.364759782176453, 14.844667070173678, 23.066168517447203, 13.439705475986976, 16.215082704109683, 17.731833169092784, 11.286902291202672, 17.10018625517667, 16.614316060849593, 8.575398214322416, 10.331538629707422, 11.419100671568545, 10.304121404330418, 10.842825675435563, 10.16268143857107, 8.763251127584747, 8.709931550788319, 9.83503441884917, 8.802879176737306, 1.9436195070772964, 1.9246043693156893, 1.9025520315164461, 1.8999953422361588, 2.4461048701015184, 1.8353649013827755, 2.253014121979813, 1.647529708526896, 1.6848192035531255, 1.630756677475781, 1.6416811966749194, 1.5793835500099098, 3.256425222721826, 1.615365052566688, 2.1666886121274143, 2.0819604309834228, 2.044174812337352, 14.4362226961382, 2.1048419114375867, 3.4460813071894636, 1.4944085527631115, 1.4992217989564103, 2.4690795294477916, 1.94540834249266, 1.9426043388267202, 1.4487615256635047, 1.8419018740329587, 1.9453870824245851, 1.4593407348507081, 3.4148791675924897, 3.6458236330158176, 4.040396876754663, 5.364778533371688, 4.634648333927074, 11.436925373616749, 3.133455992410972, 6.441371439067363, 31.46499642114332, 29.552108508562554, 20.74306308193617, 11.352869708219908, 5.5855055429536495, 5.350787747635592, 16.314079331548562, 7.607903401811041, 8.576931989647502, 3.8056707767225135, 11.43677522438597, 11.527913149960257, 21.059010282351363, 6.455296783656416, 18.63295216159593, 21.056711537490767, 11.066743739542511, 6.298954893673567, 5.137219733789286, 10.603561266428924, 9.997415465545739, 7.368554233538294, 7.713900121838296, 12.295186349274523, 8.735352051284671, 13.078040520979174, 8.709845284611822, 10.417071935538754, 10.1805098293152, 11.659140920152515, 15.560591957626608, 8.860062946234848, 8.230697164751119, 8.938805587744348, 11.103714997924746, 10.17222637529152, 9.587130699310986, 8.95926840326643, 9.11114102831366, 9.052859873571986, 3.0091218828033064, 1.7629056100329557, 1.7138335582066726, 1.6324769835148873, 1.6180878961134646, 2.1053703117201974, 1.6150231006372542, 2.0557515757392664, 1.5282837896535517, 1.5238363037923548, 1.5001012002033633, 1.4952828101695517, 1.4749014636813702, 1.4344428712754278, 1.371333652462879, 3.1440521829965817, 1.7652750953546723, 1.764645747749827, 1.6983619160286834, 1.278128930260329, 1.7215955119997628, 1.6709622263480963, 1.1739899242130032, 1.2498571892403056, 1.2146628648677131, 1.2126165840242389, 1.1819263363341264, 1.216224579294551, 1.5975888022688975, 1.1925887199059417, 1.9632138082053865, 20.635963371629902, 3.0246234424218468, 8.69559997615541, 18.730320931825663, 4.533907614769294, 4.967415413466499, 17.652785556851455, 4.454483418376234, 8.397710698934517, 8.674732260995137, 4.236097636788417, 3.0419806042567346, 7.2258121119513605, 4.1386013838967, 6.163612729394571, 6.622708710739478, 15.733169149152236, 10.775557524758847, 4.748714837925895, 17.581208621009683, 14.74436241473283, 13.427646113830182, 7.310204285580988, 5.160054413926584, 11.144449899684675, 12.59939679096958, 7.056031477876648, 6.103944616997212, 12.433081773984243, 8.093033406768354, 8.408234909588126, 6.931999776870142, 6.5713021373473035, 8.17574587831403, 8.714896124559024, 6.412591677178664, 6.540657066193926, 6.526219798496677, 6.876742144021973, 6.532901600520474, 6.297761571622609, 1.762142997593273, 1.7621861360273336, 1.7616751297836408, 1.7261934706721647, 1.6404232117642388, 1.626363290904347, 1.4810575959623586, 1.4600189935548824, 2.2978755261930517, 1.835304712212056, 1.7635685861745145, 1.7625247073734454, 1.348784818169101, 1.7625937526356745, 1.2827363104625211, 2.535378631363346, 1.2665418095679295, 2.48416130742865, 2.8919095890063664, 1.2320345086406481, 1.645108663664256, 1.2317491770148095, 2.8251336698538227, 1.2186659911123388, 1.2087304848323543, 2.03458253009689, 2.4342359974198673, 1.1635602661791247, 1.1225497571882157, 2.7309003156797154, 2.2941154709487632, 2.2634627020015223, 2.899388818995447, 2.616535454600017, 14.913661605679712, 16.89100668293656, 10.473064883454153, 6.452608938409168, 10.076556362464451, 15.32274040490961, 15.956522197098607, 4.432303685083731, 10.819605074839673, 9.284386402462964, 3.998397588084689, 3.511899679194079, 4.092899042278743, 9.10198426867943, 6.095982672159766, 9.214926630983083, 10.349330069283711, 8.663470559103539, 12.01644634579988, 5.12890454435783, 6.053503554992216, 10.949741014663667, 5.993517126238429, 4.129252264132369, 6.48014338088327, 10.295368760659047, 10.810310940814855, 6.783960598168203, 11.157027013419134, 4.730586348233488, 6.072545311373467, 7.721257282087725, 5.091239819037834, 5.044532897655025, 6.277037650878532, 7.274170551483927, 5.736884086400182, 5.943658603557311, 5.796152729639572, 5.785236210210359, 1.455434225972384, 1.8010899303695989, 1.3051873477180846, 2.1258865850369655, 3.743529222416497, 2.030804190676859, 1.6302745727623575, 1.1974028768817835, 1.9941104919110542, 1.597153512568663, 1.1950312559295972, 1.168693572577757, 1.1317453646751394, 1.5055723277858664, 1.1274720086547307, 1.4545747003705973, 1.0876167100122762, 1.1038104854090527, 1.454233406491142, 1.4561038356476348, 1.407259975703878, 1.0664059641221761, 1.705742822730565, 1.733526621251755, 2.3567076480209384, 1.6856206507584492, 1.328337375956614, 2.6180115546500144, 1.6534584827154801, 0.9630739666746596, 1.5924678299513624, 8.06515975126652, 6.191111789888842, 3.7179685399054603, 4.099255127179134, 17.458081681896296, 2.6159754815555103, 10.057059015488331, 8.231914851005664, 10.07519663042322, 4.893500770017303, 4.973652225869288, 3.395555295441849, 4.51410284065885, 9.248716597992553, 3.7473271446698497, 2.8450626329347726, 11.957139229439806, 12.478020462224476, 2.684304992955998, 3.2958941142832905, 3.544706565854959, 3.822973719451706, 3.993816816474404, 6.101005846661624, 5.075151539579201, 6.594668372445689, 7.426450199724811, 6.0213354715291265, 5.586801094899961, 4.550401847170446, 5.5135844929120905, 8.245247206628765, 6.337528350215309, 6.932541189420548, 6.865469660511011, 5.7176269149078065, 4.817101268244485, 6.079732488948065, 6.578755062353045, 7.198196815918697, 6.095959254435367, 5.581594802896147, 5.789945552389614, 5.0395087683818325, 4.963765501923242], \"Total\": [45.0, 22.0, 87.0, 54.0, 96.0, 100.0, 26.0, 64.0, 62.0, 51.0, 27.0, 24.0, 61.0, 56.0, 18.0, 20.0, 53.0, 36.0, 50.0, 56.0, 55.0, 73.0, 35.0, 29.0, 23.0, 38.0, 28.0, 6.0, 17.0, 17.0, 2.6556545240734133, 2.6556153948252117, 2.655648269291403, 2.6553291852305376, 2.653650322000028, 3.504964159196408, 8.686451819079856, 3.52640930299218, 2.625892503352506, 2.6108705786244264, 2.60894724022714, 2.5880980735899213, 2.596405537892714, 2.6057504492313726, 2.6688219181268344, 3.4924737455875174, 2.6211235186003887, 3.5085671285722584, 2.5946430748560236, 3.383291501127991, 4.2637457314314835, 4.251666706010864, 2.620756855900634, 3.5940430401759094, 4.344296417707888, 2.6525291104888726, 2.6525474249677776, 4.272209428539679, 3.4994803787464046, 2.6523597594016186, 6.147838598593699, 7.932983770504534, 25.182114447541785, 5.980654652471075, 6.907872986187815, 56.929690113904705, 91.82764153108434, 56.97936489018203, 16.961457741136247, 9.545140395325127, 48.889304051759225, 18.969904921434736, 17.614416912372644, 34.556195836824, 11.894184405430972, 33.827858903208316, 11.017406709794063, 124.77386910321326, 109.56972974753555, 91.20014829251917, 96.5033769004088, 62.879728040611, 18.480887872571536, 68.71019262781749, 27.10786118476483, 11.088330632327043, 26.429853722938866, 63.00923052612093, 40.85863545540326, 29.599218706335346, 19.118099905698276, 64.86525472736062, 19.902252304143964, 41.59914730290009, 38.1366757425785, 33.893308222600474, 47.959797687054426, 61.38816447837858, 50.65069180814177, 41.2090200527219, 51.955395583071656, 64.9680773573654, 31.590691155388463, 53.693152704694036, 48.226518392941855, 73.64117768899435, 55.5753101080511, 100.5641721347771, 87.36578523205435, 5.54373163269234, 2.8011429161548405, 2.797088568843153, 2.793333554454467, 3.6294929250614514, 4.626263950870492, 2.768700709918188, 4.443414415585077, 6.386211529987352, 4.655334423490826, 4.637986597057871, 2.757576223892494, 2.7550603676031984, 2.769070368253235, 2.778541241742245, 8.238337621732073, 3.6387366989247134, 3.670040232328387, 5.484376362994697, 4.570611619461355, 4.560418094363935, 3.4734146531854204, 2.751507461884683, 2.7185836213670895, 2.682553387134114, 3.6817755460379735, 5.444220721256591, 4.585614957511472, 7.867489934683142, 3.616437467523667, 10.878482134228351, 9.143028509846495, 26.265801290550378, 16.23831908008171, 29.297414272090336, 14.341955589255045, 14.497798086146691, 55.5753101080511, 55.24880891379585, 64.9680773573654, 15.399204897810295, 12.56776942774738, 124.77386910321326, 100.5641721347771, 36.02958173827469, 30.99977602282431, 12.70002450306815, 14.364426375602587, 28.128428903344734, 42.18638329254278, 68.71019262781749, 17.92701199090296, 53.693152704694036, 109.56972974753555, 47.959797687054426, 73.64117768899435, 91.20014829251917, 41.05918733262363, 91.82764153108434, 87.36578523205435, 26.429853722938866, 47.68378570781996, 62.879728040611, 48.226518392941855, 63.00923052612093, 61.38816447837858, 34.88951617514049, 34.432656588775174, 96.5033769004088, 54.25577746770545, 2.643257191783051, 2.6434873128258314, 2.6416276733547823, 2.6391367162768935, 3.4423162738552002, 2.6440824152288442, 3.3931300195147367, 2.5775135914302307, 2.6407674559314476, 2.5788087765832386, 2.62935465181082, 2.5730245963463556, 5.3215715451587995, 2.645657677651522, 3.5658899218966877, 3.4964726878340366, 3.4631371355678864, 24.5305387521889, 3.582738758088206, 5.920869976630689, 2.6012227547972224, 2.6378451948815287, 4.364035111489339, 3.4586114108564416, 3.4583773195000984, 2.617506379138964, 3.3315493428229623, 3.5476644899442276, 2.6620367652139105, 6.288832260053178, 7.0053909681609845, 7.816438061765059, 10.837932486545828, 9.613635934759799, 28.491835934447934, 6.217934395057251, 14.77532820082228, 100.5641721347771, 96.5033769004088, 63.00923052612093, 31.25493676653003, 12.911049805862357, 12.216991995233053, 53.705844660266585, 19.677777534485546, 23.951747191387305, 7.986948093295583, 36.18515903930651, 36.917318280007265, 91.20014829251917, 17.27109428662816, 87.36578523205435, 109.56972974753555, 40.85863545540326, 17.07913575782981, 12.498806441297244, 41.05918733262363, 38.2011195816312, 23.234398570224254, 26.024137379917203, 61.38816447837858, 33.893308222600474, 73.64117768899435, 34.292141958559256, 48.889304051759225, 48.226518392941855, 64.86525472736062, 124.77386910321326, 36.11764180265711, 32.36968184075288, 41.59914730290009, 91.82764153108434, 68.71019262781749, 56.929690113904705, 47.68378570781996, 56.97936489018203, 53.693152704694036, 4.1378550144973385, 2.4774094280526935, 2.487622741953918, 2.465112733687278, 2.467045488118496, 3.2244782238784557, 2.477566855997896, 3.349345647067586, 2.503284185548162, 2.4970795735686675, 2.5063756114582416, 2.4997032227602936, 2.5091400797641565, 2.5430387850854554, 2.5473703227664095, 5.845978780162525, 3.291624444426301, 3.291774202512415, 3.309318083054467, 2.4943476479635436, 3.3908183726571894, 3.3293067876843874, 2.3736933671018177, 2.5315386182622737, 2.4767399301345137, 2.494906377939507, 2.4625729904396794, 2.5353597519377953, 3.3583584666642947, 2.561061031346788, 4.229843548110193, 45.99642522169004, 6.561087324773921, 22.430707966141537, 54.25577746770545, 11.631888670110653, 13.234744934756161, 61.38816447837858, 11.730544800658047, 27.706066542769516, 30.312747814470033, 11.515985472898777, 7.469968799859881, 25.71527475708172, 11.979861123414306, 21.555643770080252, 25.830010180217432, 100.5641721347771, 56.929690113904705, 15.604859941893261, 124.77386910321326, 96.5033769004088, 87.36578523205435, 32.36968184075288, 18.519840388970387, 73.64117768899435, 91.82764153108434, 33.893308222600474, 26.265801290550378, 109.56972974753555, 47.68378570781996, 53.693152704694036, 36.11764180265711, 34.88951617514049, 64.86525472736062, 91.20014829251917, 41.2090200527219, 47.959797687054426, 51.955395583071656, 68.71019262781749, 55.24880891379585, 53.705844660266585, 2.4756247248115097, 2.475720596372833, 2.4757723976203914, 2.47945658100558, 2.475877778311483, 2.4982768272235134, 2.5068465319742606, 2.4759906201199025, 3.9910906905306334, 3.264673405699705, 3.188834779405709, 3.2908581750085437, 2.5270780533947703, 3.373744120401635, 2.4930406665673344, 5.008158108636847, 2.5087842117013404, 4.9307180951291745, 5.778555395413514, 2.4761146524140325, 3.3413266294635626, 2.511046480669228, 5.819647190070185, 2.559944529970578, 2.54006990812698, 4.284206257828645, 5.13772290387312, 2.490146684625001, 2.4030568281872986, 5.848664771087156, 4.985299493441266, 4.929890917001223, 6.544239886216029, 5.86487065863631, 51.955395583071656, 64.86525472736062, 36.78465174641174, 20.124690904036793, 35.917216202172426, 62.879728040611, 73.64117768899435, 13.035529538158999, 47.68378570781996, 45.99642522169004, 12.237981237334223, 9.943298271256479, 12.737942135541454, 48.226518392941855, 25.117291887164264, 53.693152704694036, 68.71019262781749, 50.65069180814177, 91.82764153108434, 20.14970360312399, 27.706066542769516, 87.36578523205435, 28.491835934447934, 13.614091635577639, 34.556195836824, 91.20014829251917, 109.56972974753555, 41.2090200527219, 124.77386910321326, 19.118099905698276, 34.432656588775174, 64.9680773573654, 25.352158846252696, 25.288986529929222, 55.5753101080511, 100.5641721347771, 42.18638329254278, 56.929690113904705, 56.97936489018203, 63.00923052612093, 2.192070782563224, 2.9334190442402948, 2.2439115852837586, 3.7380193085921123, 6.692180546942025, 3.763882792558614, 3.031575197772377, 2.246502910670445, 3.7681059963792487, 3.0317134575784763, 2.2789665503277208, 2.25257054541696, 2.260373015989618, 3.0678813912482044, 2.3022637498744367, 3.0076791750954674, 2.272274530767783, 2.310215054663685, 3.126659490412182, 3.1340660944504792, 3.0623621604288833, 2.3224063229226273, 3.820534598359955, 3.9050191524813407, 5.374467652594415, 3.942979978276144, 3.1369773863075294, 6.204607750953951, 3.9304978463300806, 2.3214958461267527, 3.9065942661706514, 22.430707966141537, 18.405852213472283, 11.249593445591826, 12.962138262957534, 87.36578523205435, 7.249114613950779, 50.65069180814177, 38.1366757425785, 53.705844660266585, 19.030246354044316, 20.124690904036793, 11.31256520035736, 17.777179423486082, 56.97936489018203, 13.76066060670806, 8.912786298845745, 96.5033769004088, 109.56972974753555, 8.130437880106818, 11.562553817033189, 13.13670852490509, 15.038265690914491, 16.422778031046988, 36.02958173827469, 27.10786118476483, 48.889304051759225, 62.879728040611, 41.2090200527219, 36.78465174641174, 23.234398570224254, 36.11764180265711, 91.20014829251917, 51.955395583071656, 64.9680773573654, 64.86525472736062, 42.18638329254278, 27.706066542769516, 55.24880891379585, 73.64117768899435, 124.77386910321326, 68.71019262781749, 56.929690113904705, 100.5641721347771, 40.85863545540326, 48.226518392941855], \"Category\": [\"Default\", \"Default\", \"Default\", \"Default\", \"Default\", \"Default\", \"Default\", \"Default\", \"Default\", \"Default\", \"Default\", \"Default\", \"Default\", \"Default\", \"Default\", \"Default\", \"Default\", \"Default\", \"Default\", \"Default\", \"Default\", \"Default\", \"Default\", \"Default\", \"Default\", \"Default\", \"Default\", \"Default\", \"Default\", \"Default\", \"Topic1\", \"Topic1\", \"Topic1\", \"Topic1\", \"Topic1\", \"Topic1\", \"Topic1\", \"Topic1\", \"Topic1\", \"Topic1\", \"Topic1\", \"Topic1\", \"Topic1\", \"Topic1\", \"Topic1\", \"Topic1\", \"Topic1\", \"Topic1\", \"Topic1\", \"Topic1\", \"Topic1\", \"Topic1\", \"Topic1\", \"Topic1\", \"Topic1\", \"Topic1\", \"Topic1\", \"Topic1\", \"Topic1\", \"Topic1\", \"Topic1\", \"Topic1\", \"Topic1\", \"Topic1\", \"Topic1\", \"Topic1\", \"Topic1\", \"Topic1\", \"Topic1\", \"Topic1\", \"Topic1\", \"Topic1\", \"Topic1\", \"Topic1\", \"Topic1\", \"Topic1\", \"Topic1\", \"Topic1\", \"Topic1\", \"Topic1\", \"Topic1\", \"Topic1\", \"Topic1\", \"Topic1\", \"Topic1\", \"Topic1\", \"Topic1\", \"Topic1\", \"Topic1\", \"Topic1\", \"Topic1\", \"Topic1\", \"Topic1\", \"Topic1\", \"Topic1\", \"Topic1\", \"Topic1\", \"Topic1\", \"Topic1\", \"Topic1\", \"Topic1\", \"Topic1\", \"Topic1\", \"Topic1\", \"Topic1\", \"Topic1\", \"Topic1\", \"Topic1\", \"Topic1\", \"Topic2\", \"Topic2\", \"Topic2\", \"Topic2\", \"Topic2\", \"Topic2\", \"Topic2\", \"Topic2\", \"Topic2\", \"Topic2\", \"Topic2\", \"Topic2\", \"Topic2\", \"Topic2\", \"Topic2\", \"Topic2\", \"Topic2\", \"Topic2\", \"Topic2\", \"Topic2\", \"Topic2\", \"Topic2\", \"Topic2\", \"Topic2\", \"Topic2\", \"Topic2\", \"Topic2\", \"Topic2\", \"Topic2\", \"Topic2\", \"Topic2\", \"Topic2\", \"Topic2\", \"Topic2\", \"Topic2\", \"Topic2\", \"Topic2\", \"Topic2\", \"Topic2\", \"Topic2\", \"Topic2\", \"Topic2\", \"Topic2\", \"Topic2\", \"Topic2\", \"Topic2\", \"Topic2\", \"Topic2\", \"Topic2\", \"Topic2\", \"Topic2\", \"Topic2\", \"Topic2\", \"Topic2\", \"Topic2\", \"Topic2\", \"Topic2\", \"Topic2\", \"Topic2\", \"Topic2\", \"Topic2\", \"Topic2\", \"Topic2\", \"Topic2\", \"Topic2\", \"Topic2\", \"Topic2\", \"Topic2\", \"Topic2\", \"Topic2\", \"Topic3\", \"Topic3\", \"Topic3\", \"Topic3\", \"Topic3\", \"Topic3\", \"Topic3\", \"Topic3\", \"Topic3\", \"Topic3\", \"Topic3\", \"Topic3\", \"Topic3\", \"Topic3\", \"Topic3\", \"Topic3\", \"Topic3\", \"Topic3\", \"Topic3\", \"Topic3\", \"Topic3\", \"Topic3\", \"Topic3\", \"Topic3\", \"Topic3\", \"Topic3\", \"Topic3\", \"Topic3\", \"Topic3\", \"Topic3\", \"Topic3\", \"Topic3\", \"Topic3\", \"Topic3\", \"Topic3\", \"Topic3\", \"Topic3\", \"Topic3\", \"Topic3\", \"Topic3\", \"Topic3\", \"Topic3\", \"Topic3\", \"Topic3\", \"Topic3\", \"Topic3\", \"Topic3\", \"Topic3\", \"Topic3\", \"Topic3\", \"Topic3\", \"Topic3\", \"Topic3\", \"Topic3\", \"Topic3\", \"Topic3\", \"Topic3\", \"Topic3\", \"Topic3\", \"Topic3\", \"Topic3\", \"Topic3\", \"Topic3\", \"Topic3\", \"Topic3\", \"Topic3\", \"Topic3\", \"Topic3\", \"Topic3\", \"Topic3\", \"Topic3\", \"Topic3\", \"Topic3\", \"Topic3\", \"Topic3\", \"Topic3\", \"Topic3\", \"Topic4\", \"Topic4\", \"Topic4\", \"Topic4\", \"Topic4\", \"Topic4\", \"Topic4\", \"Topic4\", \"Topic4\", \"Topic4\", \"Topic4\", \"Topic4\", \"Topic4\", \"Topic4\", \"Topic4\", \"Topic4\", \"Topic4\", \"Topic4\", \"Topic4\", \"Topic4\", \"Topic4\", \"Topic4\", \"Topic4\", \"Topic4\", \"Topic4\", \"Topic4\", \"Topic4\", \"Topic4\", \"Topic4\", \"Topic4\", \"Topic4\", \"Topic4\", \"Topic4\", \"Topic4\", \"Topic4\", \"Topic4\", \"Topic4\", \"Topic4\", \"Topic4\", \"Topic4\", \"Topic4\", \"Topic4\", \"Topic4\", \"Topic4\", \"Topic4\", \"Topic4\", \"Topic4\", \"Topic4\", \"Topic4\", \"Topic4\", \"Topic4\", \"Topic4\", \"Topic4\", \"Topic4\", \"Topic4\", \"Topic4\", \"Topic4\", \"Topic4\", \"Topic4\", \"Topic4\", \"Topic4\", \"Topic4\", \"Topic4\", \"Topic4\", \"Topic4\", \"Topic4\", \"Topic4\", \"Topic4\", \"Topic4\", \"Topic4\", \"Topic4\", \"Topic4\", \"Topic5\", \"Topic5\", \"Topic5\", \"Topic5\", \"Topic5\", \"Topic5\", \"Topic5\", \"Topic5\", \"Topic5\", \"Topic5\", \"Topic5\", \"Topic5\", \"Topic5\", \"Topic5\", \"Topic5\", \"Topic5\", \"Topic5\", \"Topic5\", \"Topic5\", \"Topic5\", \"Topic5\", \"Topic5\", \"Topic5\", \"Topic5\", \"Topic5\", \"Topic5\", \"Topic5\", \"Topic5\", \"Topic5\", \"Topic5\", \"Topic5\", \"Topic5\", \"Topic5\", \"Topic5\", \"Topic5\", \"Topic5\", \"Topic5\", \"Topic5\", \"Topic5\", \"Topic5\", \"Topic5\", \"Topic5\", \"Topic5\", \"Topic5\", \"Topic5\", \"Topic5\", \"Topic5\", \"Topic5\", \"Topic5\", \"Topic5\", \"Topic5\", \"Topic5\", \"Topic5\", \"Topic5\", \"Topic5\", \"Topic5\", \"Topic5\", \"Topic5\", \"Topic5\", \"Topic5\", \"Topic5\", \"Topic5\", \"Topic5\", \"Topic5\", \"Topic5\", \"Topic5\", \"Topic5\", \"Topic5\", \"Topic5\", \"Topic5\", \"Topic5\", \"Topic5\", \"Topic5\", \"Topic5\", \"Topic6\", \"Topic6\", \"Topic6\", \"Topic6\", \"Topic6\", \"Topic6\", \"Topic6\", \"Topic6\", \"Topic6\", \"Topic6\", \"Topic6\", \"Topic6\", \"Topic6\", \"Topic6\", \"Topic6\", \"Topic6\", \"Topic6\", \"Topic6\", \"Topic6\", \"Topic6\", \"Topic6\", \"Topic6\", \"Topic6\", \"Topic6\", \"Topic6\", \"Topic6\", \"Topic6\", \"Topic6\", \"Topic6\", \"Topic6\", \"Topic6\", \"Topic6\", \"Topic6\", \"Topic6\", \"Topic6\", \"Topic6\", \"Topic6\", \"Topic6\", \"Topic6\", \"Topic6\", \"Topic6\", \"Topic6\", \"Topic6\", \"Topic6\", \"Topic6\", \"Topic6\", \"Topic6\", \"Topic6\", \"Topic6\", \"Topic6\", \"Topic6\", \"Topic6\", \"Topic6\", \"Topic6\", \"Topic6\", \"Topic6\", \"Topic6\", \"Topic6\", \"Topic6\", \"Topic6\", \"Topic6\", \"Topic6\", \"Topic6\", \"Topic6\", \"Topic6\", \"Topic6\", \"Topic6\", \"Topic6\", \"Topic6\", \"Topic6\", \"Topic6\", \"Topic6\", \"Topic6\", \"Topic6\", \"Topic6\", \"Topic6\"], \"logprob\": [30.0, 29.0, 28.0, 27.0, 26.0, 25.0, 24.0, 23.0, 22.0, 21.0, 20.0, 19.0, 18.0, 17.0, 16.0, 15.0, 14.0, 13.0, 12.0, 11.0, 10.0, 9.0, 8.0, 7.0, 6.0, 5.0, 4.0, 3.0, 2.0, 1.0, -7.4398, -7.4399, -7.44, -7.4418, -7.4501, -7.1791, -6.2838, -7.2004, -7.5063, -7.5336, -7.5456, -7.5846, -7.6045, -7.6264, -7.6026, -7.3445, -7.6345, -7.3757, -7.6841, -7.4269, -7.1983, -7.2047, -7.6923, -7.3767, -7.208, -7.7069, -7.7084, -7.24, -7.4402, -7.7202, -6.8818, -6.6452, -5.5765, -6.9349, -6.807, -4.9838, -4.5767, -5.0077, -6.0479, -6.5489, -5.2127, -5.9928, -6.0777, -5.5414, -6.4043, -5.5986, -6.4665, -4.6161, -4.72, -4.887, -4.852, -5.1799, -6.0895, -5.2604, -5.8944, -6.4964, -5.9314, -5.3691, -5.6525, -5.8665, -6.1476, -5.3797, -6.1236, -5.7038, -5.7564, -5.8325, -5.6442, -5.5177, -5.6325, -5.7565, -5.6763, -5.6464, -5.8893, -5.7613, -5.8051, -5.7447, -5.7973, -5.7383, -5.7815, -6.5564, -7.2761, -7.2876, -7.2986, -7.0739, -6.8377, -7.3731, -6.9113, -6.5659, -6.8826, -6.8888, -7.4254, -7.4332, -7.4308, -7.4312, -6.3674, -7.1991, -7.2003, -6.8095, -6.9923, -6.9951, -7.2771, -7.5118, -7.5311, -7.5464, -7.2472, -6.8567, -7.0337, -6.4959, -7.2756, -6.1751, -6.3531, -5.3848, -5.8399, -5.2994, -5.9751, -6.0166, -4.8516, -4.8783, -4.8037, -6.0188, -6.1859, -4.3291, -4.6388, -5.4833, -5.6018, -6.2521, -6.1671, -5.7042, -5.4419, -5.1405, -6.0286, -5.3277, -4.887, -5.4271, -5.2394, -5.15, -5.6017, -5.1863, -5.2151, -5.8765, -5.6901, -5.5901, -5.6928, -5.6418, -5.7066, -5.8548, -5.8609, -5.7394, -5.8503, -7.2917, -7.3016, -7.3131, -7.3144, -7.0618, -7.3491, -7.144, -7.457, -7.4346, -7.4672, -7.4606, -7.4993, -6.7757, -7.4767, -7.1831, -7.223, -7.2413, -5.2866, -7.2121, -6.7191, -7.5546, -7.5513, -7.0524, -7.2908, -7.2923, -7.5856, -7.3455, -7.2908, -7.5783, -6.7282, -6.6627, -6.56, -6.2764, -6.4227, -5.5194, -6.8142, -6.0936, -4.5074, -4.5701, -4.9241, -5.5268, -6.2361, -6.2791, -5.1643, -5.9271, -5.8072, -6.6198, -5.5195, -5.5115, -4.909, -6.0914, -5.0314, -4.9091, -5.5523, -6.1159, -6.3198, -5.5951, -5.654, -5.9591, -5.9133, -5.4471, -5.7889, -5.3854, -5.7918, -5.6128, -5.6358, -5.5002, -5.2116, -5.7747, -5.8484, -5.7659, -5.549, -5.6366, -5.6959, -5.7636, -5.7468, -5.7532, -6.5308, -7.0655, -7.0937, -7.1424, -7.1512, -6.888, -7.1531, -6.9118, -7.2083, -7.2113, -7.2269, -7.2302, -7.2439, -7.2717, -7.3167, -6.487, -7.0642, -7.0645, -7.1028, -7.3871, -7.0892, -7.1191, -7.4721, -7.4095, -7.438, -7.4397, -7.4653, -7.4367, -7.164, -7.4564, -6.9579, -4.6054, -6.5257, -5.4697, -4.7023, -6.1209, -6.0296, -4.7616, -6.1386, -5.5045, -5.4721, -6.1888, -6.52, -5.6548, -6.2121, -5.8138, -5.742, -4.8767, -5.2552, -6.0746, -4.7657, -4.9416, -5.0352, -5.6432, -5.9915, -5.2215, -5.0988, -5.6786, -5.8235, -5.1121, -5.5415, -5.5033, -5.6963, -5.7498, -5.5313, -5.4674, -5.7742, -5.7544, -5.7567, -5.7043, -5.7556, -5.7923, -7.055, -7.0549, -7.0552, -7.0756, -7.1266, -7.1352, -7.2287, -7.2431, -6.7895, -7.0143, -7.0542, -7.0548, -7.3223, -7.0547, -7.3725, -6.6912, -7.3852, -6.7116, -6.5596, -7.4128, -7.1237, -7.4131, -6.5829, -7.4237, -7.4319, -6.9112, -6.7319, -7.47, -7.5059, -6.6169, -6.7912, -6.8046, -6.557, -6.6597, -4.9192, -4.7947, -5.2727, -5.757, -5.3113, -4.8922, -4.8516, -6.1326, -5.2401, -5.3932, -6.2356, -6.3653, -6.2123, -5.413, -5.8139, -5.4007, -5.2846, -5.4624, -5.1352, -5.9866, -5.8209, -5.2282, -5.8308, -6.2034, -5.7528, -5.2898, -5.241, -5.7069, -5.2094, -6.0675, -5.8177, -5.5775, -5.994, -6.0032, -5.7846, -5.6372, -5.8746, -5.8392, -5.8643, -5.8662, -7.0643, -6.8512, -7.1732, -6.6854, -6.1195, -6.7311, -6.9508, -7.2594, -6.7494, -6.9713, -7.2614, -7.2837, -7.3158, -7.0304, -7.3196, -7.0648, -7.3556, -7.3408, -7.0651, -7.0638, -7.0979, -7.3753, -6.9056, -6.8894, -6.5823, -6.9174, -7.1556, -6.4771, -6.9367, -7.4772, -6.9743, -5.352, -5.6164, -6.1264, -6.0288, -4.5798, -6.4779, -5.1313, -5.3315, -5.1295, -5.8517, -5.8354, -6.2171, -5.9324, -5.2151, -6.1185, -6.394, -4.9582, -4.9156, -6.4521, -6.2469, -6.1741, -6.0985, -6.0548, -5.6311, -5.8152, -5.5533, -5.4345, -5.6442, -5.7192, -5.9243, -5.7323, -5.3299, -5.5931, -5.5033, -5.5131, -5.696, -5.8674, -5.6346, -5.5557, -5.4657, -5.6319, -5.7201, -5.6834, -5.8222, -5.8374], \"loglift\": [30.0, 29.0, 28.0, 27.0, 26.0, 25.0, 24.0, 23.0, 22.0, 21.0, 20.0, 19.0, 18.0, 17.0, 16.0, 15.0, 14.0, 13.0, 12.0, 11.0, 10.0, 9.0, 8.0, 7.0, 6.0, 5.0, 4.0, 3.0, 2.0, 1.0, 1.2028, 1.2028, 1.2027, 1.201, 1.1933, 1.1861, 1.1737, 1.1586, 1.1477, 1.1261, 1.1148, 1.0838, 1.0607, 1.0352, 1.0351, 1.0242, 1.0212, 0.9884, 0.9818, 0.9735, 0.9708, 0.9673, 0.9636, 0.9633, 0.9425, 0.9369, 0.9354, 0.9272, 0.9265, 0.9237, 0.9214, 0.9031, 0.8167, 0.896, 0.8797, 0.5937, 0.5227, 0.5689, 0.7405, 0.8144, 0.5171, 0.6837, 0.673, 0.5354, 0.739, 0.4994, 0.7533, 0.1767, 0.2028, 0.2193, 0.1977, 0.2982, 0.6131, 0.129, 0.4251, 0.7171, 0.4135, 0.1069, 0.2567, 0.3651, 0.5211, 0.0673, 0.5049, 0.1874, 0.2218, 0.2636, 0.1048, -0.0156, 0.0619, 0.1441, -0.0073, -0.201, 0.2772, -0.1252, -0.0617, -0.4246, -0.1957, -0.7298, -0.6323, 1.3502, 1.3132, 1.3031, 1.2935, 1.2563, 1.2499, 1.2279, 1.2166, 1.1993, 1.1987, 1.1962, 1.1796, 1.1727, 1.17, 1.1662, 1.1431, 1.1286, 1.1189, 1.1079, 1.1074, 1.1068, 1.0971, 1.0954, 1.0881, 1.0862, 1.0687, 1.0681, 1.0627, 1.0607, 1.0582, 1.0574, 1.0532, 0.9663, 0.9921, 0.9424, 0.9811, 0.9288, 0.75, 0.7292, 0.6418, 0.8662, 0.9023, 0.4637, 0.3698, 0.5516, 0.5835, 0.8256, 0.7875, 0.5783, 0.4353, 0.2489, 0.7044, 0.3083, 0.0358, 0.3218, 0.0807, -0.0437, 0.3026, -0.0868, -0.0659, 0.4684, 0.0646, -0.112, 0.0506, -0.1658, -0.2045, 0.2124, 0.2194, -0.6896, -0.2246, 1.3556, 1.3457, 1.3348, 1.3344, 1.3214, 1.298, 1.2536, 1.2155, 1.2136, 1.2048, 1.192, 1.175, 1.1719, 1.1697, 1.1648, 1.1446, 1.1359, 1.1329, 1.1312, 1.1218, 1.1088, 1.098, 1.0935, 1.0876, 1.0863, 1.0715, 1.0704, 1.0622, 1.0619, 1.0524, 1.0099, 1.0032, 0.9598, 0.9334, 0.7503, 0.9777, 0.8328, 0.5011, 0.4796, 0.552, 0.6503, 0.8251, 0.8375, 0.4715, 0.7127, 0.6361, 0.9217, 0.5112, 0.4991, 0.1973, 0.6789, 0.1179, 0.0137, 0.3569, 0.6656, 0.7739, 0.3092, 0.3225, 0.5146, 0.447, 0.055, 0.3072, -0.0652, 0.2926, 0.1169, 0.1076, -0.0532, -0.4187, 0.2578, 0.2937, 0.1254, -0.4496, -0.2472, -0.1184, -0.0089, -0.1702, -0.1172, 1.6683, 1.6466, 1.6143, 1.5747, 1.5651, 1.5606, 1.5589, 1.4987, 1.4934, 1.493, 1.4735, 1.473, 1.4555, 1.4143, 1.3676, 1.3666, 1.3638, 1.3634, 1.3198, 1.3182, 1.309, 1.2975, 1.2828, 1.2811, 1.2744, 1.2654, 1.2528, 1.2523, 1.2439, 1.2226, 1.2193, 1.1853, 1.2125, 1.0392, 0.9233, 1.0447, 1.0069, 0.7405, 1.0186, 0.7932, 0.7357, 0.9868, 1.0885, 0.7174, 0.924, 0.7349, 0.6258, 0.1318, 0.3223, 0.7971, 0.0272, 0.1081, 0.1141, 0.4989, 0.709, 0.0986, 0.0006, 0.4175, 0.5275, -0.1894, 0.2133, 0.1328, 0.3362, 0.3174, -0.0843, -0.3612, 0.1265, -0.0055, -0.0877, -0.3149, -0.1481, -0.1565, 1.6579, 1.6579, 1.6575, 1.6357, 1.5862, 1.5686, 1.4716, 1.4696, 1.4457, 1.4219, 1.4055, 1.3734, 1.37, 1.3486, 1.3333, 1.3171, 1.3143, 1.3123, 1.3056, 1.2998, 1.2893, 1.2856, 1.2751, 1.2556, 1.2552, 1.2532, 1.2509, 1.237, 1.2367, 1.2362, 1.2217, 1.2194, 1.1837, 1.1907, 0.7497, 0.6523, 0.7416, 0.8604, 0.7268, 0.5859, 0.4685, 0.9191, 0.5146, 0.3976, 0.8792, 0.9571, 0.8625, 0.3304, 0.5819, 0.2354, 0.1049, 0.232, -0.0358, 0.6295, 0.4768, -0.079, 0.4389, 0.8048, 0.324, -0.1835, -0.3182, 0.1937, -0.4166, 0.6012, 0.2626, -0.1321, 0.3925, 0.3858, -0.183, -0.6286, 0.0026, -0.2617, -0.2877, -0.3901, 1.7702, 1.692, 1.6379, 1.6154, 1.5989, 1.5628, 1.5594, 1.5506, 1.5434, 1.5389, 1.5342, 1.5236, 1.488, 1.468, 1.4659, 1.4533, 1.443, 1.4412, 1.4143, 1.4132, 1.4022, 1.4015, 1.3734, 1.3677, 1.3554, 1.33, 1.3204, 1.3169, 1.3139, 1.2999, 1.2824, 1.1569, 1.0902, 1.0726, 1.0285, 0.5695, 1.1605, 0.5631, 0.6466, 0.5063, 0.8217, 0.782, 0.9763, 0.8091, 0.3616, 0.879, 1.0379, 0.0915, 0.0072, 1.0716, 0.9247, 0.8698, 0.8102, 0.7659, 0.4039, 0.5043, 0.1765, 0.0436, 0.2564, 0.2951, 0.5494, 0.3002, -0.2236, 0.0759, -0.0579, -0.066, 0.1812, 0.4303, -0.0271, -0.2356, -0.6729, -0.2425, -0.1426, -0.6749, 0.087, -0.094]}, \"token.table\": {\"Topic\": [3, 5, 1, 2, 3, 4, 5, 6, 1, 2, 3, 4, 5, 6, 2, 3, 4, 5, 6, 5, 3, 4, 1, 2, 3, 4, 5, 6, 1, 2, 3, 4, 5, 6, 1, 2, 3, 4, 5, 6, 1, 3, 2, 3, 6, 1, 2, 3, 4, 5, 6, 1, 2, 3, 4, 5, 6, 6, 1, 2, 1, 2, 3, 4, 5, 6, 1, 2, 3, 4, 5, 6, 1, 2, 3, 4, 5, 6, 1, 3, 5, 6, 6, 2, 3, 4, 2, 3, 4, 5, 5, 4, 5, 4, 5, 3, 6, 1, 2, 3, 4, 5, 6, 2, 3, 6, 1, 3, 1, 5, 1, 2, 3, 4, 5, 6, 1, 2, 3, 4, 1, 2, 3, 4, 5, 6, 1, 2, 3, 4, 5, 6, 2, 2, 4, 1, 2, 3, 4, 5, 6, 1, 2, 3, 4, 5, 6, 1, 2, 3, 4, 5, 6, 4, 1, 4, 6, 1, 2, 4, 5, 6, 1, 2, 3, 4, 5, 6, 5, 6, 1, 5, 1, 3, 6, 1, 2, 3, 4, 5, 6, 4, 1, 3, 5, 6, 2, 3, 1, 1, 2, 3, 4, 6, 1, 2, 3, 4, 5, 6, 1, 2, 3, 4, 5, 6, 1, 2, 3, 4, 5, 6, 1, 2, 3, 4, 5, 6, 1, 2, 3, 4, 5, 6, 1, 3, 4, 1, 2, 3, 4, 5, 6, 4, 5, 1, 2, 3, 4, 5, 6, 3, 5, 1, 2, 3, 1, 2, 3, 4, 5, 6, 1, 4, 4, 1, 2, 3, 4, 5, 6, 1, 2, 3, 4, 5, 6, 2, 1, 2, 3, 4, 5, 6, 1, 2, 3, 4, 6, 1, 2, 3, 4, 5, 6, 1, 2, 3, 4, 5, 6, 1, 2, 3, 4, 5, 6, 1, 5, 6, 1, 5, 1, 2, 3, 4, 5, 6, 6, 1, 3, 1, 2, 3, 4, 5, 6, 6, 2, 4, 5, 3, 1, 6, 3, 3, 4, 2, 3, 6, 4, 6, 1, 2, 1, 6, 1, 2, 3, 4, 5, 6, 3, 1, 2, 3, 4, 5, 2, 3, 5, 1, 2, 3, 4, 5, 6, 1, 2, 3, 4, 5, 6, 3, 3, 5, 6, 1, 2, 1, 2, 3, 4, 5, 6, 1, 2, 3, 4, 5, 6, 1, 2, 3, 4, 5, 5, 1, 6, 1, 2, 3, 4, 5, 6, 2, 2, 3, 2, 3, 5, 6, 1, 2, 3, 4, 5, 6, 2, 5, 1, 4, 4, 6, 4, 1, 3, 6, 3, 1, 2, 3, 4, 5, 6, 1, 2, 3, 4, 5, 6, 1, 2, 4, 5, 3, 4, 4, 5, 1, 2, 3, 4, 5, 6, 1, 2, 3, 4, 5, 6, 5, 1, 2, 3, 4, 5, 6, 1, 2, 3, 4, 5, 6, 3, 5, 6, 1, 3, 4, 5, 1, 6, 4, 6, 1, 2, 3, 4, 5, 6, 4, 5, 6, 1, 2, 3, 4, 5, 6, 1, 2, 6, 2, 2, 2, 3, 1, 2, 3, 4, 5, 6, 1, 2, 3, 4, 5, 6, 1, 2, 3, 4, 5, 6, 1, 1, 4, 5, 1, 3, 4, 1, 1, 2, 3, 4, 5, 6, 3, 1, 2, 3, 4, 5, 6, 1, 4, 5, 1, 3, 2, 2, 3, 4, 5, 1, 2, 3, 4, 5, 6, 1, 2, 3, 4, 5, 6, 1, 3, 6, 2, 1, 5, 1, 6, 5, 6, 3, 3, 6, 1, 5, 1, 1, 2, 3, 4, 5, 6, 1, 2, 3, 4, 5, 6, 1, 2, 3, 4, 5, 6, 1, 3, 4, 5, 6, 1, 2, 3, 4, 5, 6, 1, 2, 3, 4, 5, 6, 1, 2, 5, 5, 4, 2, 4, 5, 1, 4, 5, 6, 2, 4, 5, 6, 1, 3, 5, 6, 4, 1, 2, 3, 4, 5, 6, 5, 6, 1, 4, 3, 2, 3, 4, 1, 2, 3, 4, 5, 6, 1, 2, 3, 4, 5, 6, 1, 2, 3, 4, 5, 6, 3, 4, 5, 1, 2, 3, 4, 5, 6, 1, 2, 3, 4, 5, 6, 1, 2, 3, 4, 5, 6, 1, 2, 3, 5, 1, 2, 3, 4, 5, 6, 1, 2, 3, 4, 6, 1, 3, 6, 1, 2, 3, 4, 5, 6, 1, 1, 2, 3, 4, 6, 1, 2, 3, 4, 5, 6, 1, 3, 2, 3, 1, 2, 3, 4, 5, 6, 1, 3, 3, 4, 5, 6, 2, 4, 1, 2, 3, 4, 5, 6, 5, 5, 1, 4, 1, 3, 4, 5, 6, 2, 1, 2, 3, 4, 5, 6, 1, 2, 3, 4, 6, 2, 4, 5, 1, 2, 3, 4, 5, 6, 2, 3, 6, 2, 1, 1, 2, 6, 1, 1, 2, 3, 6, 1, 2, 3, 4, 5, 6, 1, 3, 4, 5, 2, 6, 4, 5, 4, 5, 4, 3, 2, 6, 1, 2, 3, 4, 5, 6, 5, 1, 2, 4, 1, 2, 3, 4, 5, 6, 1, 2, 3, 4, 5, 6, 1, 4, 1, 3, 4, 5, 6, 3, 1, 2, 3, 3, 6, 1, 2, 4, 5, 6, 1, 2, 3, 4, 5, 6, 3, 6, 1, 2, 3, 4, 5, 6, 5, 1, 2, 3, 4, 5, 6, 1, 2, 3, 4, 5, 6, 1, 2, 3, 4, 5, 6, 6, 1, 1, 2, 2, 1, 2, 3, 4, 5, 6, 6, 1, 2, 3, 4, 5, 6, 1, 2, 3, 4, 5, 6, 1, 4, 1, 2, 3, 4, 5, 6, 1, 3, 4, 5, 1, 2, 3, 4, 5, 6, 1, 2, 3, 4, 5, 6, 1, 2, 3, 4, 5, 6, 1, 4, 1, 2, 3, 4, 5, 6, 2, 3, 1, 2, 3, 4, 5, 6, 1, 2, 3, 4, 5, 6, 3, 1, 4, 5, 1, 2, 3, 4, 5, 6, 1, 2, 3, 4, 5, 6, 1, 2, 3, 4, 5, 6, 2, 4, 5, 1, 2, 4, 5, 6, 1, 2, 3, 4, 5, 6, 1, 2, 3, 4, 5, 6, 2, 1, 6, 4, 2, 6, 4, 5, 1, 3, 4, 5, 6, 3, 6, 1, 2, 3, 4, 5, 6, 1, 2, 3, 4, 5, 6, 1, 3, 4, 5, 6, 1, 2, 3, 4, 5, 6, 1, 2, 3, 4, 5, 6, 1, 4, 5, 4, 1, 2, 3, 4, 5, 6, 1, 2, 3, 4, 5, 6, 4, 6, 4, 1, 2, 3, 4, 5, 6, 1, 2, 3, 4, 5, 6, 1, 2, 3, 4, 5, 6, 1, 2, 3, 4, 6, 1, 2, 3, 6, 1, 2, 3, 4, 5, 6, 1, 2, 3, 4, 5, 6, 1, 2, 3, 4, 5, 1, 2, 3, 4, 5, 6, 4, 5, 1, 2, 3, 5], \"Freq\": [0.7566422239263325, 0.8078456037931708, 0.10827953493033508, 0.10827953493033508, 0.0721863566202234, 0.2887454264808936, 0.21655906986067017, 0.18046589155055848, 0.2694206237656525, 0.10362331683294328, 0.3108699504988298, 0.1554349752494149, 0.04144932673317731, 0.12434798019953193, 0.1549060711617645, 0.4647182134852935, 0.07745303558088225, 0.23235910674264676, 0.07745303558088225, 0.8005517956241548, 0.578305897602028, 0.289152948801014, 0.12316545759057324, 0.5542445591575795, 0.06158272879528662, 0.06158272879528662, 0.18474818638585985, 0.06158272879528662, 0.2088492726096868, 0.4176985452193736, 0.13923284840645786, 0.06961642420322893, 0.06961642420322893, 0.06961642420322893, 0.5044482072482713, 0.08407470120804522, 0.08407470120804522, 0.16814940241609044, 0.08407470120804522, 0.16814940241609044, 0.3790973033369808, 0.3790973033369808, 0.6578344217403219, 0.6003212902454915, 0.30016064512274576, 0.25393104893364926, 0.17457759614188387, 0.33328450172541463, 0.09522414335011847, 0.09522414335011847, 0.06348276223341232, 0.23092594715740333, 0.19793652613491713, 0.16494710511243094, 0.29690478920237573, 0.06597884204497238, 0.06597884204497238, 0.4456503574197389, 0.2180732593699235, 0.6542197781097705, 0.14937295063986933, 0.2172697463852645, 0.1765316689380274, 0.14937295063986933, 0.2172697463852645, 0.09505551404355322, 0.1468004248423595, 0.20971489263194215, 0.18874340336874793, 0.16777191410555373, 0.23068638189513638, 0.04194297852638843, 0.192247800439792, 0.192247800439792, 0.192247800439792, 0.3204130007329867, 0.06408260014659733, 0.06408260014659733, 0.2559774401604871, 0.2559774401604871, 0.2559774401604871, 0.5119548803209742, 0.4387953828704496, 0.5510430516321102, 0.1836810172107034, 0.1836810172107034, 0.19463875703497766, 0.19463875703497766, 0.19463875703497766, 0.3892775140699553, 0.6126187068232474, 0.6043541145957236, 0.3021770572978618, 0.4009064257006951, 0.4009064257006951, 0.43435509943399797, 0.43435509943399797, 0.13877485551514007, 0.3608146243393642, 0.13877485551514007, 0.05550994220605603, 0.11101988441211207, 0.1665298266181681, 0.25361528729780575, 0.25361528729780575, 0.5072305745956115, 0.37702276113011285, 0.37702276113011285, 0.46037374241954426, 0.23018687120977213, 0.2884362568528441, 0.1573288673742786, 0.1048859115828524, 0.13110738947856548, 0.1048859115828524, 0.2097718231657048, 0.12520426930524586, 0.2504085386104917, 0.5008170772209835, 0.12520426930524586, 0.21176720480995498, 0.16289784985381153, 0.19547741982457384, 0.29321612973686073, 0.08144892492690577, 0.04886935495614346, 0.35171898602363155, 0.10049113886389473, 0.10049113886389473, 0.1507367082958421, 0.10049113886389473, 0.20098227772778945, 0.6484714300478922, 0.39256169040786093, 0.39256169040786093, 0.3405240185718003, 0.3405240185718003, 0.07567200412706673, 0.03783600206353337, 0.1135080061906001, 0.07567200412706673, 0.20735479842276028, 0.20735479842276028, 0.20735479842276028, 0.08294191936910411, 0.18661931858048425, 0.10367739921138014, 0.23666623566011857, 0.1972218630500988, 0.11833311783005929, 0.11833311783005929, 0.1972218630500988, 0.15777749044007905, 0.8106863086360477, 0.18606493975589755, 0.18606493975589755, 0.3721298795117951, 0.2594582518250076, 0.2594582518250076, 0.0864860839416692, 0.0864860839416692, 0.2594582518250076, 0.24555962721188404, 0.08185320907062801, 0.40926604535314004, 0.16370641814125603, 0.08185320907062801, 0.08185320907062801, 0.6271883425621482, 0.3135941712810741, 0.5715134201485212, 0.2857567100742606, 0.5016173269192974, 0.1672057756397658, 0.1672057756397658, 0.7630315724563593, 0.1767945611431102, 0.1767945611431102, 0.1767945611431102, 0.0883972805715551, 0.2651918417146653, 0.39854291438921724, 0.690730821394871, 0.11512180356581182, 0.11512180356581182, 0.11512180356581182, 0.18791441428796185, 0.5637432428638856, 0.7531117818300737, 0.12299460554846056, 0.24598921109692112, 0.12299460554846056, 0.12299460554846056, 0.3689838166453817, 0.23691680353457834, 0.1579445356897189, 0.13820146872850403, 0.11845840176728917, 0.17768760265093375, 0.1974306696121486, 0.1422048850913377, 0.35551221272834427, 0.17775610636417213, 0.1422048850913377, 0.07110244254566885, 0.10665366381850327, 0.0859705614763666, 0.0859705614763666, 0.0859705614763666, 0.42985280738183296, 0.2579116844290998, 0.0859705614763666, 0.24741598516662444, 0.2619698666470141, 0.14553881480389672, 0.10187717036272771, 0.14553881480389672, 0.08732328888233803, 0.21333898043805324, 0.308156305077188, 0.09481732463913478, 0.09481732463913478, 0.14222598695870217, 0.14222598695870217, 0.2291457273951044, 0.4582914547902088, 0.2291457273951044, 0.19906604670844946, 0.23887925605013935, 0.11943962802506967, 0.11943962802506967, 0.23887925605013935, 0.07962641868337979, 0.6076027304349968, 0.3038013652174984, 0.05433054598080732, 0.21732218392322927, 0.05433054598080732, 0.05433054598080732, 0.21732218392322927, 0.3259832758848439, 0.29640659288676363, 0.5928131857735273, 0.09226852088637723, 0.2768055626591317, 0.4613426044318861, 0.28489405172336213, 0.18992936781557476, 0.2215842624515039, 0.06330978927185826, 0.15827447317964563, 0.06330978927185826, 0.39046316653927177, 0.39046316653927177, 0.8072436048126156, 0.23892893533162163, 0.5119905757106178, 0.06826541009474903, 0.06826541009474903, 0.03413270504737451, 0.03413270504737451, 0.2362200166838451, 0.4724400333676902, 0.1574800111225634, 0.0787400055612817, 0.0787400055612817, 0.0787400055612817, 0.7139942730039001, 0.23559518931815815, 0.18324070280301188, 0.2617724325757313, 0.15706345954543877, 0.07853172977271938, 0.07853172977271938, 0.23144329578501954, 0.15429553052334635, 0.07714776526167318, 0.15429553052334635, 0.3085910610466927, 0.16694684348978434, 0.16694684348978434, 0.16694684348978434, 0.33389368697956867, 0.08347342174489217, 0.08347342174489217, 0.29504349160380505, 0.05900869832076101, 0.2655391424434246, 0.20653044412266355, 0.05900869832076101, 0.11801739664152203, 0.17392655975855112, 0.04348163993963778, 0.08696327987927556, 0.45655721936619664, 0.19566737972837, 0.04348163993963778, 0.26538531584857067, 0.26538531584857067, 0.5307706316971413, 0.7665927348633834, 0.8066283617633953, 0.2627396359972711, 0.1576437815983627, 0.1576437815983627, 0.10509585439890846, 0.05254792719945423, 0.2627396359972711, 0.6596929518522051, 0.570033271905463, 0.2850166359527315, 0.11446128451130795, 0.19458418366922353, 0.21747644057148513, 0.14879966986470033, 0.12590741296243876, 0.19458418366922353, 0.44240485659938217, 0.7455583212592407, 0.30387210472763804, 0.6077442094552761, 0.7559556993689922, 0.267521357554635, 0.53504271510927, 0.7564060743647057, 0.39442134365180015, 0.39442134365180015, 0.31907431747234355, 0.31907431747234355, 0.31907431747234355, 0.42128440592179733, 0.42128440592179733, 0.5564763631495383, 0.27823818157476915, 0.4681418440396161, 0.23407092201980806, 0.302164156749037, 0.17493714338102143, 0.0636135066840078, 0.09542026002601169, 0.23855065006502923, 0.11132363669701363, 0.7755518820010671, 0.1279355113029817, 0.1279355113029817, 0.5117420452119268, 0.1279355113029817, 0.1279355113029817, 0.7198021645149051, 0.3844345887547623, 0.3844345887547623, 0.16198843710265828, 0.10799229140177219, 0.21598458280354438, 0.26998072850443045, 0.10799229140177219, 0.10799229140177219, 0.18619947350717939, 0.13033963145502558, 0.297919157611487, 0.11171968410430763, 0.07447978940287175, 0.18619947350717939, 0.3820430039711891, 0.5066822970004098, 0.1688940990001366, 0.1688940990001366, 0.21480733907192534, 0.6444220172157761, 0.25020956256533805, 0.2710603594457829, 0.14595557816311386, 0.14595557816311386, 0.08340318752177936, 0.08340318752177936, 0.1935497855075585, 0.3548412734305239, 0.12903319033837232, 0.1612914879229654, 0.06451659516918616, 0.06451659516918616, 0.19481525311911319, 0.4545689239445974, 0.06493841770637106, 0.12987683541274211, 0.06493841770637106, 0.807876888591132, 0.5726599956626309, 0.6817982599270831, 0.17993601800075817, 0.4318464432018196, 0.14394881440060653, 0.07197440720030326, 0.1079616108004549, 0.05398080540022745, 0.7222640576164286, 0.27911608060801296, 0.5582321612160259, 0.7150291993889845, 0.2617434744418415, 0.2617434744418415, 0.523486948883683, 0.17367163276705355, 0.08683581638352678, 0.08683581638352678, 0.3473432655341071, 0.08683581638352678, 0.17367163276705355, 0.3906334642381854, 0.3906334642381854, 0.7532022813308394, 0.6007256547814411, 0.4400876683074506, 0.4400876683074506, 0.8009356294327966, 0.46907112336845014, 0.23453556168422507, 0.23453556168422507, 0.3756522122712471, 0.1359262562676766, 0.19029675877474725, 0.16311150752121192, 0.08155575376060596, 0.2718525125353532, 0.16311150752121192, 0.10057025070752862, 0.20114050141505724, 0.10057025070752862, 0.10057025070752862, 0.4022810028301145, 0.10057025070752862, 0.23641536350600473, 0.23641536350600473, 0.47283072701200946, 0.23641536350600473, 0.5775110605523391, 0.28875553027616957, 0.6202553905277632, 0.3982403383204147, 0.3140224659083028, 0.0785056164770757, 0.1570112329541514, 0.0785056164770757, 0.3140224659083028, 0.0785056164770757, 0.35473720149819743, 0.11824573383273247, 0.17736860074909871, 0.11824573383273247, 0.1478071672909156, 0.059122866916366236, 0.4038787513466323, 0.36817869162022343, 0.12272623054007448, 0.2045437175667908, 0.06136311527003724, 0.08181748702671632, 0.14318060229675356, 0.2069279750051587, 0.48283194167870364, 0.06897599166838624, 0.06897599166838624, 0.06897599166838624, 0.06897599166838624, 0.7578235669508846, 0.5011161497144759, 0.25055807485723797, 0.17183172232609858, 0.17183172232609858, 0.17183172232609858, 0.5154951669782958, 0.47040375887706976, 0.23520187943853488, 0.33248227014380904, 0.33248227014380904, 0.5238267634542938, 0.10476535269085877, 0.10476535269085877, 0.10476535269085877, 0.10476535269085877, 0.10476535269085877, 0.14942812630136637, 0.14942812630136637, 0.5977125052054655, 0.05578174435915191, 0.3904722105140634, 0.3346904661549115, 0.05578174435915191, 0.05578174435915191, 0.05578174435915191, 0.15658735939208399, 0.6263494375683359, 0.15658735939208399, 0.7215356487336637, 0.7159903967825986, 0.28043490458283765, 0.5608698091656753, 0.15913722888521162, 0.4774116866556349, 0.07956861444260581, 0.07956861444260581, 0.07956861444260581, 0.07956861444260581, 0.19344947447643315, 0.19344947447643315, 0.30399203132010927, 0.1105425568436761, 0.05527127842183805, 0.1381781960545951, 0.18099937711965697, 0.41629856737521104, 0.07239975084786279, 0.12669956398375987, 0.10859962627179418, 0.10859962627179418, 0.8559288665273592, 0.5671491390131564, 0.8039804292949534, 0.4161366424090484, 0.7675332074066982, 0.5782667557627552, 0.2891333778813776, 0.7631383260514992, 0.25050364602034175, 0.12525182301017088, 0.3757554690305126, 0.041750607670056956, 0.08350121534011391, 0.16700243068022783, 0.5810041381700563, 0.45092450485043656, 0.09018490097008731, 0.18036980194017463, 0.09018490097008731, 0.09018490097008731, 0.18036980194017463, 0.17305363219217523, 0.17305363219217523, 0.5191608965765256, 0.3769986900598786, 0.3769986900598786, 0.5449531540233656, 0.5432161670344725, 0.27160808351723625, 0.4056204312259722, 0.4056204312259722, 0.45382730543615013, 0.09076546108723002, 0.09076546108723002, 0.09076546108723002, 0.09076546108723002, 0.18153092217446004, 0.27680033724228453, 0.039542905320326366, 0.2372574319219582, 0.07908581064065273, 0.19771452660163183, 0.1186287159609791, 0.2544206965877627, 0.2544206965877627, 0.5088413931755253, 0.7223604894655073, 0.2992823243265344, 0.5985646486530688, 0.5911403139023638, 0.2955701569511819, 0.3265453096703462, 0.3265453096703462, 0.7606429199737709, 0.4305878735042162, 0.4305878735042162, 0.7660280124086917, 0.39571393477801053, 0.7531211047718891, 0.4040071174457772, 0.03513105369093715, 0.17565526845468574, 0.19322079530015432, 0.10539316107281145, 0.10539316107281145, 0.21172007019775382, 0.11548367465332027, 0.11548367465332027, 0.13473095376220698, 0.2887091866333007, 0.11548367465332027, 0.24356415171891543, 0.12178207585945772, 0.12178207585945772, 0.06089103792972886, 0.18267311378918658, 0.24356415171891543, 0.2400229185154604, 0.40003819752576736, 0.08000763950515347, 0.08000763950515347, 0.16001527901030693, 0.38610468969601947, 0.1404017053440071, 0.15795191851200796, 0.05265063950400265, 0.1053012790080053, 0.15795191851200796, 0.10938289220198315, 0.2983169787326813, 0.30826087802377067, 0.15910238865743004, 0.06960729503762564, 0.05966339574653626, 0.2334154659740467, 0.2334154659740467, 0.4668309319480934, 0.4011166016705613, 0.7250133195796461, 0.39323033760430687, 0.39323033760430687, 0.3936899519184451, 0.15280613446128027, 0.15280613446128027, 0.4584184033838408, 0.15280613446128027, 0.6355267107439104, 0.12710534214878208, 0.12710534214878208, 0.12710534214878208, 0.266676303860168, 0.266676303860168, 0.08889210128672266, 0.35556840514689064, 0.8113219215773676, 0.06972549829600626, 0.5578039863680501, 0.13945099659201252, 0.06972549829600626, 0.13945099659201252, 0.06972549829600626, 0.2656830871506016, 0.5313661743012033, 0.7702956917982978, 0.798950439405283, 0.7573555920298037, 0.6069185592504004, 0.12138371185008008, 0.24276742370016016, 0.37619881717844805, 0.11575348220875324, 0.20256859386531817, 0.02893837055218831, 0.17363022331312986, 0.08681511165656493, 0.4217206165836145, 0.15814523121885543, 0.15814523121885543, 0.05271507707295181, 0.05271507707295181, 0.15814523121885543, 0.12229653944034577, 0.08153102629356385, 0.5707171840549469, 0.08153102629356385, 0.12229653944034577, 0.04076551314678192, 0.20058975419944475, 0.20058975419944475, 0.4011795083988895, 0.09938040835195247, 0.09938040835195247, 0.1490706125279287, 0.09938040835195247, 0.2981412250558574, 0.24845102087988116, 0.30406207978975003, 0.1351387021287778, 0.1351387021287778, 0.0675693510643889, 0.16892337766097223, 0.16892337766097223, 0.1474497348187817, 0.16588095167112943, 0.16588095167112943, 0.3501931201946065, 0.09215608426173856, 0.09215608426173856, 0.5042238980586748, 0.1260559745146687, 0.1260559745146687, 0.1260559745146687, 0.1847060970265817, 0.38480436880537855, 0.13852957276993627, 0.07696087376107572, 0.12313739801772114, 0.107745223265506, 0.47165757342883197, 0.11791439335720799, 0.353743180071624, 0.058957196678603996, 0.058957196678603996, 0.5790494422809942, 0.2895247211404971, 0.14476236057024855, 0.2227344111238812, 0.1113672055619406, 0.1113672055619406, 0.13920900695242575, 0.2784180139048515, 0.13920900695242575, 0.7536788036536107, 0.20304117507407, 0.13536078338271332, 0.40608235014814, 0.06768039169135666, 0.13536078338271332, 0.17049506514717086, 0.08524753257358543, 0.17049506514717086, 0.3409901302943417, 0.08524753257358543, 0.08524753257358543, 0.28187558401716867, 0.5637511680343373, 0.6468323996242387, 0.7571089673890583, 0.11580042160666477, 0.11580042160666477, 0.34740126481999434, 0.17370063240999717, 0.11580042160666477, 0.05790021080333239, 0.3769960870773678, 0.3769960870773678, 0.15241376169832604, 0.45724128509497813, 0.15241376169832604, 0.15241376169832604, 0.5530304389223928, 0.2765152194611964, 0.2936955643831489, 0.09789852146104965, 0.26922093401788655, 0.12237315182631206, 0.12237315182631206, 0.12237315182631206, 0.8078287010236951, 0.8077943174416204, 0.29856578131179695, 0.5971315626235939, 0.25409373549616765, 0.40654997679386823, 0.10163749419846706, 0.15245624129770058, 0.10163749419846706, 0.8265617434559971, 0.12797978219823114, 0.1919696732973467, 0.35194440104513564, 0.09598483664867336, 0.12797978219823114, 0.09598483664867336, 0.14274720776398214, 0.14274720776398214, 0.5709888310559286, 0.14274720776398214, 0.14274720776398214, 0.17097919595998984, 0.17097919595998984, 0.5129375878799696, 0.2613797740756937, 0.2613797740756937, 0.08712659135856456, 0.11616878847808608, 0.1742531827171291, 0.11616878847808608, 0.25608069024823515, 0.25608069024823515, 0.5121613804964703, 0.7356772049536087, 0.77276824259825, 0.31983015837396855, 0.31983015837396855, 0.31983015837396855, 0.7493943250450145, 0.4879763760691833, 0.1626587920230611, 0.1626587920230611, 0.1626587920230611, 0.2906837189233543, 0.07267092973083858, 0.14534185946167716, 0.07267092973083858, 0.14534185946167716, 0.2906837189233543, 0.19967420722509627, 0.19967420722509627, 0.19967420722509627, 0.5990226216752889, 0.6751564718963944, 0.22505215729879813, 0.40081664339881157, 0.40081664339881157, 0.40375656233946583, 0.40375656233946583, 0.40607933404705104, 0.572005040096264, 0.5758022579209849, 0.28790112896049247, 0.2644284970531868, 0.1923116342204995, 0.2163505884980619, 0.12019477138781218, 0.12019477138781218, 0.0721168628326873, 0.3985994472286027, 0.18233613702141305, 0.5470084110642391, 0.18233613702141305, 0.09278312544652681, 0.1391746881697902, 0.1391746881697902, 0.2783493763395804, 0.231957813616317, 0.1391746881697902, 0.4328796351756034, 0.054109954396950426, 0.16232986319085127, 0.054109954396950426, 0.16232986319085127, 0.16232986319085127, 0.1710577539886655, 0.5131732619659964, 0.2677387354064337, 0.13386936770321686, 0.40160810310965056, 0.13386936770321686, 0.13386936770321686, 0.7772953289447605, 0.15901203254410606, 0.15901203254410606, 0.47703609763231813, 0.5894262785385475, 0.2947131392692737, 0.10937294999387345, 0.5468647499693673, 0.10937294999387345, 0.10937294999387345, 0.4451363028510658, 0.3044902756589782, 0.1522451378294891, 0.1522451378294891, 0.07612256891474455, 0.07612256891474455, 0.3044902756589782, 0.4328601348092147, 0.4328601348092147, 0.22035990944560083, 0.22035990944560083, 0.0734533031485336, 0.1469066062970672, 0.2938132125941344, 0.0734533031485336, 0.39890754669072326, 0.4541734216805482, 0.056771677710068524, 0.056771677710068524, 0.2838583885503426, 0.056771677710068524, 0.11354335542013705, 0.09925704315024873, 0.09925704315024873, 0.2977711294507462, 0.04962852157512437, 0.2481426078756218, 0.1488855647253731, 0.07555869077415084, 0.15111738154830168, 0.15111738154830168, 0.37779345387075425, 0.07555869077415084, 0.15111738154830168, 0.4439372618249769, 0.7616458013595675, 0.21878909941550662, 0.6563672982465198, 0.7268742780839389, 0.08598571516269872, 0.2579571454880962, 0.22929524043386323, 0.20063333537963035, 0.14330952527116453, 0.14330952527116453, 0.4561896485982463, 0.3320070122337126, 0.18444834012984035, 0.18444834012984035, 0.07377933605193614, 0.03688966802596807, 0.18444834012984035, 0.17565291608064365, 0.11710194405376244, 0.3513058321612873, 0.05855097202688122, 0.17565291608064365, 0.11710194405376244, 0.7531100080488902, 0.797964994096146, 0.3702588831979393, 0.18512944159896966, 0.11978963868168625, 0.1415695729874474, 0.13067960583456684, 0.05444983576440284, 0.34101348800504266, 0.17050674400252133, 0.17050674400252133, 0.511520232007564, 0.1107492017849772, 0.1661238026774658, 0.2491857040161987, 0.19381110312371008, 0.1107492017849772, 0.1661238026774658, 0.23124861010794573, 0.0924994440431783, 0.1849988880863566, 0.12333259205757105, 0.26208175812233847, 0.10791601805037468, 0.0761446406251287, 0.5330124843759009, 0.0761446406251287, 0.22843392187538608, 0.03807232031256435, 0.03807232031256435, 0.29491405616525473, 0.5898281123305095, 0.2737982476467207, 0.20991198986248588, 0.1916587733527045, 0.10951929905868829, 0.1003926908037976, 0.10951929905868829, 0.7259369063262765, 0.7565763566544387, 0.20412839794199011, 0.2624507973539873, 0.2624507973539873, 0.11664479882399435, 0.11664479882399435, 0.058322399411997176, 0.27412236129061934, 0.1973681001292459, 0.23026278348412024, 0.09868405006462296, 0.10964894451624772, 0.08771915561299819, 0.7759415921800142, 0.7708189305039498, 0.4038585204546455, 0.4038585204546455, 0.25823780124393764, 0.04303963354065628, 0.3012774347845939, 0.1721585341626251, 0.04303963354065628, 0.21519816770328137, 0.17048559542332054, 0.267905935665218, 0.267905935665218, 0.12177542530237181, 0.09742034024189745, 0.09742034024189745, 0.2644784539998701, 0.32057994424226677, 0.12823197769690672, 0.14426097490902004, 0.08815948466662336, 0.05610149024239669, 0.5496413083670005, 0.4015827686675386, 0.4015827686675386, 0.23014024794451798, 0.153426831963012, 0.153426831963012, 0.306853663926024, 0.23014024794451798, 0.1921293269785186, 0.1921293269785186, 0.30740692316562973, 0.07685173079140743, 0.1921293269785186, 0.07685173079140743, 0.09192458907971847, 0.5515475344783108, 0.09192458907971847, 0.09192458907971847, 0.09192458907971847, 0.09192458907971847, 0.725274602627982, 0.3259578427160569, 0.6519156854321138, 0.3950166877906176, 0.3187781985183767, 0.3187781985183767, 0.6075750877668096, 0.3037875438834048, 0.16117054294790048, 0.16117054294790048, 0.16117054294790048, 0.16117054294790048, 0.48351162884370147, 0.3298615190989843, 0.6597230381979686, 0.11250378658819896, 0.11250378658819896, 0.16875567988229845, 0.2812594664704974, 0.11250378658819896, 0.2812594664704974, 0.19949108904309878, 0.33248514840516463, 0.06649702968103292, 0.13299405936206585, 0.06649702968103292, 0.2659881187241317, 0.1337452212622271, 0.08916348084148473, 0.40123566378668135, 0.044581740420742366, 0.35665392336593893, 0.10835023198763107, 0.18961290597835434, 0.32505069596289315, 0.16252534798144658, 0.13543778998453881, 0.10835023198763107, 0.19443696585909712, 0.19443696585909712, 0.11666217951545826, 0.27221175220273597, 0.11666217951545826, 0.07777478634363884, 0.29776452094860933, 0.5955290418972187, 0.29776452094860933, 0.8072949014213007, 0.21058664010997358, 0.07019554670332452, 0.3860755068682849, 0.03509777335166226, 0.21058664010997358, 0.07019554670332452, 0.24714484496193395, 0.09267931686072524, 0.24714484496193395, 0.2162517393416922, 0.09267931686072524, 0.09267931686072524, 0.4307567474946929, 0.4307567474946929, 0.400047489995933, 0.26693185098618816, 0.14559919144701172, 0.12133265953917642, 0.14559919144701172, 0.16986572335484698, 0.14559919144701172, 0.1862434872282284, 0.27936523084234255, 0.16761913850540555, 0.1489947897825827, 0.16761913850540555, 0.03724869744564568, 0.3661451731358305, 0.05230645330511864, 0.10461290661023728, 0.05230645330511864, 0.2615322665255932, 0.15691935991535594, 0.20803783433993445, 0.10401891716996722, 0.5200945858498361, 0.10401891716996722, 0.10401891716996722, 0.2758957619667151, 0.13794788098335756, 0.13794788098335756, 0.4138436429500727, 0.5162394137744468, 0.11913217240948774, 0.07942144827299183, 0.11913217240948774, 0.15884289654598366, 0.039710724136495915, 0.2243967187072589, 0.2243967187072589, 0.11219835935362946, 0.11219835935362946, 0.11219835935362946, 0.3365950780608884, 0.16342564686229707, 0.32685129372459415, 0.08171282343114854, 0.16342564686229707, 0.32685129372459415, 0.23228794561588104, 0.15485863041058734, 0.11614397280794052, 0.27100260321852787, 0.07742931520529367, 0.15485863041058734, 0.20284424479888588, 0.40568848959777176, 0.16082511272472064, 0.16082511272472064, 0.4824753381741619, 0.16082511272472064], \"Term\": [\"abanicarascon\", \"abarcas\", \"abril\", \"abril\", \"abril\", \"abril\", \"abril\", \"abril\", \"agua\", \"agua\", \"agua\", \"agua\", \"agua\", \"agua\", \"aguarda\", \"aguarda\", \"aguarda\", \"aguarda\", \"aguarda\", \"aguda\", \"ahorca\", \"ahorca\", \"alamos\", \"alamos\", \"alamos\", \"alamos\", \"alamos\", \"alamos\", \"alas\", \"alas\", \"alas\", \"alas\", \"alas\", \"alas\", \"alba\", \"alba\", \"alba\", \"alba\", \"alba\", \"alba\", \"albor\", \"albor\", \"alcores\", \"alegrias\", \"alegrias\", \"alma\", \"alma\", \"alma\", \"alma\", \"alma\", \"alma\", \"alto\", \"alto\", \"alto\", \"alto\", \"alto\", \"alto\", \"alzo\", \"ama\", \"ama\", \"amor\", \"amor\", \"amor\", \"amor\", \"amor\", \"amor\", \"ana\", \"ana\", \"ana\", \"ana\", \"ana\", \"ana\", \"ancho\", \"ancho\", \"ancho\", \"ancho\", \"ancho\", \"ancho\", \"andar\", \"andar\", \"andar\", \"andar\", \"antorcha\", \"aragon\", \"aragon\", \"aragon\", \"arboles\", \"arboles\", \"arboles\", \"arboles\", \"arbolillo\", \"asombra\", \"asombra\", \"atraer\", \"atraer\", \"avance\", \"avance\", \"ayer\", \"ayer\", \"ayer\", \"ayer\", \"ayer\", \"ayer\", \"azada\", \"azada\", \"azada\", \"aznaitin\", \"aznaitin\", \"azogue\", \"azogue\", \"azul\", \"azul\", \"azul\", \"azul\", \"azul\", \"azul\", \"baeza\", \"baeza\", \"baeza\", \"baeza\", \"bajo\", \"bajo\", \"bajo\", \"bajo\", \"bajo\", \"bajo\", \"balcon\", \"balcon\", \"balcon\", \"balcon\", \"balcon\", \"balcon\", \"ballesta\", \"besaba\", \"besaba\", \"bien\", \"bien\", \"bien\", \"bien\", \"bien\", \"bien\", \"blanca\", \"blanca\", \"blanca\", \"blanca\", \"blanca\", \"blanca\", \"blanco\", \"blanco\", \"blanco\", \"blanco\", \"blanco\", \"blanco\", \"bodas\", \"borde\", \"borde\", \"borde\", \"brazos\", \"brazos\", \"brazos\", \"brazos\", \"brazos\", \"brota\", \"brota\", \"brota\", \"brota\", \"brota\", \"brota\", \"broto\", \"broto\", \"bruto\", \"bruto\", \"bueno\", \"bueno\", \"bueno\", \"bufon\", \"busca\", \"busca\", \"busca\", \"busca\", \"busca\", \"busque\", \"caballo\", \"caballo\", \"caballo\", \"caballo\", \"calles\", \"calles\", \"caminaban\", \"caminante\", \"caminante\", \"caminante\", \"caminante\", \"caminante\", \"camino\", \"camino\", \"camino\", \"camino\", \"camino\", \"camino\", \"caminos\", \"caminos\", \"caminos\", \"caminos\", \"caminos\", \"caminos\", \"campanas\", \"campanas\", \"campanas\", \"campanas\", \"campanas\", \"campanas\", \"campo\", \"campo\", \"campo\", \"campo\", \"campo\", \"campo\", \"campos\", \"campos\", \"campos\", \"campos\", \"campos\", \"campos\", \"cangilones\", \"cangilones\", \"cangilones\", \"canta\", \"canta\", \"canta\", \"canta\", \"canta\", \"canta\", \"cantad\", \"cantad\", \"cantar\", \"cantar\", \"cantar\", \"cantar\", \"cantar\", \"cantar\", \"cantarillo\", \"cantarillo\", \"capitan\", \"capitan\", \"capitan\", \"casa\", \"casa\", \"casa\", \"casa\", \"casa\", \"casa\", \"casas\", \"casas\", \"caserio\", \"castilla\", \"castilla\", \"castilla\", \"castilla\", \"castilla\", \"castilla\", \"chopos\", \"chopos\", \"chopos\", \"chopos\", \"chopos\", \"chopos\", \"ciegos\", \"cielo\", \"cielo\", \"cielo\", \"cielo\", \"cielo\", \"cielo\", \"cien\", \"cien\", \"cien\", \"cien\", \"cien\", \"ciudad\", \"ciudad\", \"ciudad\", \"ciudad\", \"ciudad\", \"ciudad\", \"clara\", \"clara\", \"clara\", \"clara\", \"clara\", \"clara\", \"claro\", \"claro\", \"claro\", \"claro\", \"claro\", \"claro\", \"cobre\", \"cobre\", \"cobre\", \"cogido\", \"concepto\", \"conmigo\", \"conmigo\", \"conmigo\", \"conmigo\", \"conmigo\", \"conmigo\", \"consejo\", \"copia\", \"copia\", \"corazon\", \"corazon\", \"corazon\", \"corazon\", \"corazon\", \"corazon\", \"corcel\", \"cose\", \"crea\", \"crea\", \"crear\", \"cristo\", \"cristo\", \"cumbre\", \"curas\", \"curas\", \"dama\", \"dama\", \"dama\", \"dedal\", \"dedal\", \"despertar\", \"despertar\", \"desperto\", \"desperto\", \"dia\", \"dia\", \"dia\", \"dia\", \"dia\", \"dia\", \"diala\", \"dicen\", \"dicen\", \"dicen\", \"dicen\", \"dicen\", \"diera\", \"diez\", \"diez\", \"dijo\", \"dijo\", \"dijo\", \"dijo\", \"dijo\", \"dijo\", \"dios\", \"dios\", \"dios\", \"dios\", \"dios\", \"dios\", \"dira\", \"distancia\", \"distancia\", \"distancia\", \"dolores\", \"dolores\", \"dos\", \"dos\", \"dos\", \"dos\", \"dos\", \"dos\", \"duero\", \"duero\", \"duero\", \"duero\", \"duero\", \"duero\", \"encinares\", \"encinares\", \"encinares\", \"encinares\", \"encinares\", \"encuentro\", \"enorme\", \"ermita\", \"espa\", \"espa\", \"espa\", \"espa\", \"espa\", \"espa\", \"espaldas\", \"esperanzay\", \"esperanzay\", \"esperas\", \"esquiva\", \"esquiva\", \"esquiva\", \"estrella\", \"estrella\", \"estrella\", \"estrella\", \"estrella\", \"estrella\", \"evocar\", \"evocar\", \"exageracion\", \"falta\", \"febrero\", \"febrero\", \"fiebreque\", \"fieras\", \"fieras\", \"fieras\", \"fino\", \"flor\", \"flor\", \"flor\", \"flor\", \"flor\", \"flor\", \"florido\", \"florido\", \"florido\", \"florido\", \"florido\", \"florido\", \"floridos\", \"floridos\", \"floridos\", \"floridos\", \"fluya\", \"fluya\", \"francisco\", \"fresco\", \"fruto\", \"fruto\", \"fruto\", \"fruto\", \"fruto\", \"fruto\", \"fuego\", \"fuego\", \"fuego\", \"fuego\", \"fuego\", \"fuego\", \"fuegoy\", \"fuente\", \"fuente\", \"fuente\", \"fuente\", \"fuente\", \"fuente\", \"fuerte\", \"fuerte\", \"fuerte\", \"fuerte\", \"fuerte\", \"fuerte\", \"fulgor\", \"funebre\", \"funebre\", \"galan\", \"galan\", \"galan\", \"galan\", \"gentes\", \"gentes\", \"gitanos\", \"gitanos\", \"gloria\", \"gloria\", \"gloria\", \"gloria\", \"gloria\", \"gloria\", \"guadarrama\", \"guadarrama\", \"guadarrama\", \"guerra\", \"guerra\", \"guerra\", \"guerra\", \"guerra\", \"guerra\", \"guiomar\", \"guiomar\", \"guiomar\", \"guitarra\", \"hablo\", \"hambre\", \"hambre\", \"hijos\", \"hijos\", \"hijos\", \"hijos\", \"hijos\", \"hijos\", \"hombre\", \"hombre\", \"hombre\", \"hombre\", \"hombre\", \"hombre\", \"hoy\", \"hoy\", \"hoy\", \"hoy\", \"hoy\", \"hoy\", \"hoz\", \"huesos\", \"huyo\", \"incienso\", \"insomne\", \"inventa\", \"inventa\", \"irremediable\", \"jardin\", \"jardin\", \"jardin\", \"jardin\", \"jardin\", \"jardin\", \"jardinero\", \"juan\", \"juan\", \"juan\", \"juan\", \"juan\", \"juan\", \"laberinto\", \"laberinto\", \"laberinto\", \"labra\", \"labra\", \"labradora\", \"labriegos\", \"labriegos\", \"lado\", \"lado\", \"laguna\", \"laguna\", \"laguna\", \"laguna\", \"laguna\", \"laguna\", \"lejos\", \"lejos\", \"lejos\", \"lejos\", \"lejos\", \"lejos\", \"lengua\", \"lengua\", \"lengua\", \"leon\", \"lienzos\", \"lienzos\", \"limonar\", \"limonar\", \"lindos\", \"lindos\", \"llenan\", \"llevado\", \"llevado\", \"logica\", \"londres\", \"lucila\", \"luna\", \"luna\", \"luna\", \"luna\", \"luna\", \"luna\", \"luz\", \"luz\", \"luz\", \"luz\", \"luz\", \"luz\", \"madre\", \"madre\", \"madre\", \"madre\", \"madre\", \"madre\", \"mal\", \"mal\", \"mal\", \"mal\", \"mal\", \"mano\", \"mano\", \"mano\", \"mano\", \"mano\", \"mano\", \"mar\", \"mar\", \"mar\", \"mar\", \"mar\", \"mar\", \"marchita\", \"marchita\", \"marchita\", \"mascara\", \"mason\", \"media\", \"media\", \"mejillas\", \"memoria\", \"memoria\", \"memoria\", \"memoria\", \"meson\", \"meson\", \"meson\", \"meson\", \"mil\", \"mil\", \"mil\", \"mil\", \"minutos\", \"mira\", \"mira\", \"mira\", \"mira\", \"mira\", \"mira\", \"mirada\", \"mirada\", \"mirarme\", \"misterios\", \"mojada\", \"moncayo\", \"moncayo\", \"moncayo\", \"montes\", \"montes\", \"montes\", \"montes\", \"montes\", \"montes\", \"muerte\", \"muerte\", \"muerte\", \"muerte\", \"muerte\", \"muerte\", \"mundo\", \"mundo\", \"mundo\", \"mundo\", \"mundo\", \"mundo\", \"murio\", \"murio\", \"murio\", \"nadie\", \"nadie\", \"nadie\", \"nadie\", \"nadie\", \"nadie\", \"negra\", \"negra\", \"negra\", \"negra\", \"negra\", \"negra\", \"noche\", \"noche\", \"noche\", \"noche\", \"noche\", \"noche\", \"ojo\", \"ojo\", \"ojo\", \"ojo\", \"ojos\", \"ojos\", \"ojos\", \"ojos\", \"ojos\", \"ojos\", \"olivares\", \"olivares\", \"olivares\", \"olivares\", \"olivares\", \"olivos\", \"olivos\", \"olivos\", \"oro\", \"oro\", \"oro\", \"oro\", \"oro\", \"oro\", \"oronda\", \"padre\", \"padre\", \"padre\", \"padre\", \"padre\", \"palabra\", \"palabra\", \"palabra\", \"palabra\", \"palabra\", \"palabra\", \"papagayo\", \"papagayo\", \"paramos\", \"pasea\", \"pena\", \"pena\", \"pena\", \"pena\", \"pena\", \"pena\", \"pencos\", \"pencos\", \"pensar\", \"pensar\", \"pensar\", \"pensar\", \"perdon\", \"perdon\", \"piedra\", \"piedra\", \"piedra\", \"piedra\", \"piedra\", \"piedra\", \"piedray\", \"pifano\", \"playa\", \"playa\", \"plaza\", \"plaza\", \"plaza\", \"plaza\", \"plaza\", \"plomizos\", \"poeta\", \"poeta\", \"poeta\", \"poeta\", \"poeta\", \"poeta\", \"polvorienta\", \"polvorienta\", \"polvorienta\", \"polvorienta\", \"polvorienta\", \"prados\", \"prados\", \"prados\", \"primavera\", \"primavera\", \"primavera\", \"primavera\", \"primavera\", \"primavera\", \"quede\", \"quede\", \"quede\", \"quiebras\", \"quieto\", \"ramon\", \"ramon\", \"ramon\", \"rato\", \"raza\", \"raza\", \"raza\", \"raza\", \"razon\", \"razon\", \"razon\", \"razon\", \"razon\", \"razon\", \"reja\", \"reja\", \"reja\", \"reja\", \"rejas\", \"rejas\", \"repele\", \"repele\", \"resuena\", \"resuena\", \"retama\", \"rico\", \"rima\", \"rima\", \"rio\", \"rio\", \"rio\", \"rio\", \"rio\", \"rio\", \"riocon\", \"roquedas\", \"roquedas\", \"roquedas\", \"rosas\", \"rosas\", \"rosas\", \"rosas\", \"rosas\", \"rosas\", \"sabe\", \"sabe\", \"sabe\", \"sabe\", \"sabe\", \"sabe\", \"sabemos\", \"sabemos\", \"saber\", \"saber\", \"saber\", \"saber\", \"saber\", \"sabor\", \"sal\", \"sal\", \"sal\", \"salio\", \"salio\", \"san\", \"san\", \"san\", \"san\", \"sandalia\", \"sangre\", \"sangre\", \"sangre\", \"sangre\", \"sangre\", \"sangre\", \"sangrientas\", \"sangrientas\", \"santa\", \"santa\", \"santa\", \"santa\", \"santa\", \"santa\", \"santas\", \"sed\", \"sed\", \"sed\", \"sed\", \"sed\", \"sed\", \"ser\", \"ser\", \"ser\", \"ser\", \"ser\", \"ser\", \"sera\", \"sera\", \"sera\", \"sera\", \"sera\", \"sera\", \"serrania\", \"serraniade\", \"severa\", \"severa\", \"siembran\", \"siempre\", \"siempre\", \"siempre\", \"siempre\", \"siempre\", \"siempre\", \"sientes\", \"sierra\", \"sierra\", \"sierra\", \"sierra\", \"sierra\", \"sierra\", \"silencio\", \"silencio\", \"silencio\", \"silencio\", \"silencio\", \"silencio\", \"silenciosos\", \"simetricos\", \"sol\", \"sol\", \"sol\", \"sol\", \"sol\", \"sol\", \"solas\", \"solas\", \"solas\", \"solas\", \"solo\", \"solo\", \"solo\", \"solo\", \"solo\", \"solo\", \"sombra\", \"sombra\", \"sombra\", \"sombra\", \"sombra\", \"sombra\", \"soria\", \"soria\", \"soria\", \"soria\", \"soria\", \"soria\", \"suavemente\", \"suavemente\", \"sue\", \"sue\", \"sue\", \"sue\", \"sue\", \"sue\", \"sufre\", \"supremo\", \"tan\", \"tan\", \"tan\", \"tan\", \"tan\", \"tan\", \"tarde\", \"tarde\", \"tarde\", \"tarde\", \"tarde\", \"tarde\", \"taza\", \"techo\", \"tibio\", \"tibio\", \"tic\", \"tic\", \"tic\", \"tic\", \"tic\", \"tic\", \"tiempo\", \"tiempo\", \"tiempo\", \"tiempo\", \"tiempo\", \"tiempo\", \"tierra\", \"tierra\", \"tierra\", \"tierra\", \"tierra\", \"tierra\", \"tornar\", \"traia\", \"traia\", \"tren\", \"tren\", \"tren\", \"tren\", \"tren\", \"triste\", \"triste\", \"triste\", \"triste\", \"triste\", \"triste\", \"tristeza\", \"tristeza\", \"tristeza\", \"tristeza\", \"tristeza\", \"tristeza\", \"trozo\", \"ultimo\", \"ultimo\", \"ultimos\", \"umbral\", \"umbral\", \"vacia\", \"vacia\", \"vanidad\", \"vanidad\", \"vanidad\", \"vanidad\", \"vanidad\", \"vendras\", \"vendras\", \"ventana\", \"ventana\", \"ventana\", \"ventana\", \"ventana\", \"ventana\", \"ver\", \"ver\", \"ver\", \"ver\", \"ver\", \"ver\", \"verdad\", \"verdad\", \"verdad\", \"verdad\", \"verdad\", \"verde\", \"verde\", \"verde\", \"verde\", \"verde\", \"verde\", \"verdes\", \"verdes\", \"verdes\", \"verdes\", \"verdes\", \"verdes\", \"verdinosa\", \"verdinosa\", \"verdinosa\", \"verdugo\", \"vez\", \"vez\", \"vez\", \"vez\", \"vez\", \"vez\", \"vida\", \"vida\", \"vida\", \"vida\", \"vida\", \"vida\", \"viejasque\", \"viejasque\", \"viejay\", \"viejo\", \"viejo\", \"viejo\", \"viejo\", \"viejo\", \"viejo\", \"viento\", \"viento\", \"viento\", \"viento\", \"viento\", \"viento\", \"vino\", \"vino\", \"vino\", \"vino\", \"vino\", \"vino\", \"violeta\", \"violeta\", \"violeta\", \"violeta\", \"violeta\", \"virgen\", \"virgen\", \"virgen\", \"virgen\", \"visto\", \"visto\", \"visto\", \"visto\", \"visto\", \"visto\", \"volver\", \"volver\", \"volver\", \"volver\", \"volver\", \"volver\", \"voy\", \"voy\", \"voy\", \"voy\", \"voy\", \"voz\", \"voz\", \"voz\", \"voz\", \"voz\", \"voz\", \"vuelta\", \"vuelta\", \"zarzas\", \"zarzas\", \"zarzas\", \"zarzas\"]}, \"R\": 30, \"lambda.step\": 0.01, \"plot.opts\": {\"xlab\": \"PC1\", \"ylab\": \"PC2\"}, \"topic.order\": [1, 6, 5, 3, 2, 4]};\n",
              "\n",
              "function LDAvis_load_lib(url, callback){\n",
              "  var s = document.createElement('script');\n",
              "  s.src = url;\n",
              "  s.async = true;\n",
              "  s.onreadystatechange = s.onload = callback;\n",
              "  s.onerror = function(){console.warn(\"failed to load library \" + url);};\n",
              "  document.getElementsByTagName(\"head\")[0].appendChild(s);\n",
              "}\n",
              "\n",
              "if(typeof(LDAvis) !== \"undefined\"){\n",
              "   // already loaded: just create the visualization\n",
              "   !function(LDAvis){\n",
              "       new LDAvis(\"#\" + \"ldavis_el6231396305286154726195633288\", ldavis_el6231396305286154726195633288_data);\n",
              "   }(LDAvis);\n",
              "}else if(typeof define === \"function\" && define.amd){\n",
              "   // require.js is available: use it to load d3/LDAvis\n",
              "   require.config({paths: {d3: \"https://d3js.org/d3.v5\"}});\n",
              "   require([\"d3\"], function(d3){\n",
              "      window.d3 = d3;\n",
              "      LDAvis_load_lib(\"https://cdn.jsdelivr.net/gh/bmabey/pyLDAvis@3.4.0/pyLDAvis/js/ldavis.v3.0.0.js\", function(){\n",
              "        new LDAvis(\"#\" + \"ldavis_el6231396305286154726195633288\", ldavis_el6231396305286154726195633288_data);\n",
              "      });\n",
              "    });\n",
              "}else{\n",
              "    // require.js not available: dynamically load d3 & LDAvis\n",
              "    LDAvis_load_lib(\"https://d3js.org/d3.v5.js\", function(){\n",
              "         LDAvis_load_lib(\"https://cdn.jsdelivr.net/gh/bmabey/pyLDAvis@3.4.0/pyLDAvis/js/ldavis.v3.0.0.js\", function(){\n",
              "                 new LDAvis(\"#\" + \"ldavis_el6231396305286154726195633288\", ldavis_el6231396305286154726195633288_data);\n",
              "            })\n",
              "         });\n",
              "}\n",
              "</script>"
            ]
          },
          "metadata": {},
          "execution_count": 82
        }
      ]
    }
  ]
}