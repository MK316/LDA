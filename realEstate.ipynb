{
  "nbformat": 4,
  "nbformat_minor": 0,
  "metadata": {
    "colab": {
      "provenance": [],
      "mount_file_id": "1iMDcGizmxaZRrL9QT6fF3O6lueOADyZC",
      "authorship_tag": "ABX9TyNE1mi59M7O/lCfZeKCfq/C",
      "include_colab_link": true
    },
    "kernelspec": {
      "name": "python3",
      "display_name": "Python 3"
    },
    "language_info": {
      "name": "python"
    }
  },
  "cells": [
    {
      "cell_type": "markdown",
      "metadata": {
        "id": "view-in-github",
        "colab_type": "text"
      },
      "source": [
        "<a href=\"https://colab.research.google.com/github/hsnam95/my/blob/main/realEstate.ipynb\" target=\"_parent\"><img src=\"https://colab.research.google.com/assets/colab-badge.svg\" alt=\"Open In Colab\"/></a>"
      ]
    },
    {
      "cell_type": "markdown",
      "source": [
        "##load 부동산 CSV "
      ],
      "metadata": {
        "id": "TNFJ3sMOG6m0"
      }
    },
    {
      "cell_type": "code",
      "execution_count": 27,
      "metadata": {
        "id": "0FuhiiKHUbz7",
        "colab": {
          "base_uri": "https://localhost:8080/"
        },
        "outputId": "e2728820-3f3e-4292-b7b2-a65d70fd4a4f"
      },
      "outputs": [
        {
          "output_type": "stream",
          "name": "stdout",
          "text": [
            "Mounted at /content/drive/\n"
          ]
        },
        {
          "output_type": "stream",
          "name": "stderr",
          "text": [
            "/usr/local/lib/python3.7/dist-packages/IPython/core/interactiveshell.py:3326: DtypeWarning: Columns (1,9,13,14) have mixed types.Specify dtype option on import or set low_memory=False.\n",
            "  exec(code_obj, self.user_global_ns, self.user_ns)\n"
          ]
        }
      ],
      "source": [
        "import pandas as pd\n",
        "\n",
        "# 구글 드라이브 마운트 먼저\n",
        "from google.colab import drive\n",
        "drive.mount('/content/drive/', force_remount=True)\n",
        "\n",
        "# 부동산 CSV를 데이터 프레임으로 읽기 \n",
        "df_all = pd.read_csv('/content/drive/MyDrive/Colab Notebooks/gyeonggi.csv')\n",
        "\n",
        "# 거래금액 INTEGER,\n",
        "# 거래유형 TEXT,\n",
        "# 건축년도 INTEGER,\n",
        "# 년 INTEGER,\n",
        "# 법정동 TEXT,\n",
        "# 아파트 TEXT,\n",
        "# 월 INTEGER,\n",
        "# 일 INTEGER,\n",
        "# 전용면적 FLOAT,\n",
        "# 중개사소재지,\n",
        "# 지번 TEXT,\n",
        "# 지역코드 TEXT,\n",
        "# 층 INTEGER,\n",
        "# 해제사유발생일 TEXT,\n",
        "# 해제여부 TEXT"
      ]
    },
    {
      "cell_type": "code",
      "source": [
        "df = df_all[(df_all['년'] >=2017) & (df_all['전용면적'] >= 50) & (df_all['전용면적'] <= 110)]\n"
      ],
      "metadata": {
        "id": "0aHG-fVDW_fg"
      },
      "execution_count": 28,
      "outputs": []
    },
    {
      "cell_type": "code",
      "source": [
        "df_out = df.groupby(['지역코드', '법정동', '아파트', '전용면적'])['거래금액'].aggregate(['min','max'])"
      ],
      "metadata": {
        "id": "tM47-txOQA5G"
      },
      "execution_count": 29,
      "outputs": []
    },
    {
      "cell_type": "code",
      "source": [
        "import numpy as np\n",
        "def get_last(s):\n",
        "  return list(s)[-1]\n",
        "\n",
        "df_recentPrice = df.groupby(['지역코드', '법정동', '아파트', '전용면적']).agg({'거래금액': get_last})\n",
        "df_recentYear = df.groupby(['지역코드', '법정동', '아파트', '전용면적']).agg({'년': get_last})\n",
        "df_recentMonth = df.groupby(['지역코드', '법정동', '아파트', '전용면적']).agg({'월': get_last})"
      ],
      "metadata": {
        "id": "KpxG5pA-anwN"
      },
      "execution_count": 30,
      "outputs": []
    },
    {
      "cell_type": "code",
      "source": [
        "df_out['최근거래금액'] = df_recentPrice['거래금액']"
      ],
      "metadata": {
        "id": "I7tuHPK34PTV"
      },
      "execution_count": 31,
      "outputs": []
    },
    {
      "cell_type": "code",
      "source": [
        "df_out['최근거래년'] = df_recentYear['년']"
      ],
      "metadata": {
        "id": "e9K6BYeFEJSG"
      },
      "execution_count": 32,
      "outputs": []
    },
    {
      "cell_type": "code",
      "source": [
        "df_out['최근거래월'] = df_recentMonth['월']"
      ],
      "metadata": {
        "id": "Indi4tXbF1fF"
      },
      "execution_count": 33,
      "outputs": []
    },
    {
      "cell_type": "code",
      "source": [
        "df_out['증감액'] = df_out['max'] - df_out['최근거래금액']"
      ],
      "metadata": {
        "id": "1ZBP89pP8F-U"
      },
      "execution_count": 34,
      "outputs": []
    },
    {
      "cell_type": "code",
      "source": [
        "df_out['증감비율'] = np.round((df_out['증감액']/df_out['max'])*100)"
      ],
      "metadata": {
        "id": "YNLr0lZ98z5j"
      },
      "execution_count": 35,
      "outputs": []
    },
    {
      "cell_type": "code",
      "source": [
        "df_out"
      ],
      "metadata": {
        "colab": {
          "base_uri": "https://localhost:8080/",
          "height": 2508
        },
        "id": "SLvOlLrw9AOQ",
        "outputId": "a5e212d7-4dec-4adb-f60f-e134c83e6a34"
      },
      "execution_count": 36,
      "outputs": [
        {
          "output_type": "execute_result",
          "data": {
            "text/plain": [
              "                                   min    max  최근거래금액  최근거래년  최근거래월   증감액  \\\n",
              "지역코드  법정동     아파트       전용면적                                                \n",
              "41111 송죽동     대성(A,B,C) 55.9800  17400  30800   30700   2022      7   100   \n",
              "                        56.1600  15000  25000   25000   2021      3     0   \n",
              "                        56.8800  16800  26000   26000   2021      7     0   \n",
              "              동양파라곤     84.9710  30500  43000   39620   2021      5  3380   \n",
              "                        84.9750  30500  33500   33000   2018     11   500   \n",
              "...                                ...    ...     ...    ...    ...   ...   \n",
              "41830 용문면 다문리 용문코아루     62.7400  20747  33000   33000   2022      6     0   \n",
              "                        76.1100  24720  37000   36500   2022      8   500   \n",
              "              원석비바체     84.9900  15500  20500   19000   2022      5  1500   \n",
              "      용문면 마룡리 꽃여울       65.2134   8000  10700   10700   2021      9     0   \n",
              "                        71.2164  10000  16000   13000   2022      8  3000   \n",
              "\n",
              "                                 증감비율  \n",
              "지역코드  법정동     아파트       전용면적           \n",
              "41111 송죽동     대성(A,B,C) 55.9800   0.0  \n",
              "                        56.1600   0.0  \n",
              "                        56.8800   0.0  \n",
              "              동양파라곤     84.9710   8.0  \n",
              "                        84.9750   1.0  \n",
              "...                               ...  \n",
              "41830 용문면 다문리 용문코아루     62.7400   0.0  \n",
              "                        76.1100   1.0  \n",
              "              원석비바체     84.9900   7.0  \n",
              "      용문면 마룡리 꽃여울       65.2134   0.0  \n",
              "                        71.2164  19.0  \n",
              "\n",
              "[16834 rows x 7 columns]"
            ],
            "text/html": [
              "\n",
              "  <div id=\"df-f061be15-bdcf-4f1e-a2b6-1aab4d1b4f9b\">\n",
              "    <div class=\"colab-df-container\">\n",
              "      <div>\n",
              "<style scoped>\n",
              "    .dataframe tbody tr th:only-of-type {\n",
              "        vertical-align: middle;\n",
              "    }\n",
              "\n",
              "    .dataframe tbody tr th {\n",
              "        vertical-align: top;\n",
              "    }\n",
              "\n",
              "    .dataframe thead th {\n",
              "        text-align: right;\n",
              "    }\n",
              "</style>\n",
              "<table border=\"1\" class=\"dataframe\">\n",
              "  <thead>\n",
              "    <tr style=\"text-align: right;\">\n",
              "      <th></th>\n",
              "      <th></th>\n",
              "      <th></th>\n",
              "      <th></th>\n",
              "      <th>min</th>\n",
              "      <th>max</th>\n",
              "      <th>최근거래금액</th>\n",
              "      <th>최근거래년</th>\n",
              "      <th>최근거래월</th>\n",
              "      <th>증감액</th>\n",
              "      <th>증감비율</th>\n",
              "    </tr>\n",
              "    <tr>\n",
              "      <th>지역코드</th>\n",
              "      <th>법정동</th>\n",
              "      <th>아파트</th>\n",
              "      <th>전용면적</th>\n",
              "      <th></th>\n",
              "      <th></th>\n",
              "      <th></th>\n",
              "      <th></th>\n",
              "      <th></th>\n",
              "      <th></th>\n",
              "      <th></th>\n",
              "    </tr>\n",
              "  </thead>\n",
              "  <tbody>\n",
              "    <tr>\n",
              "      <th rowspan=\"5\" valign=\"top\">41111</th>\n",
              "      <th rowspan=\"5\" valign=\"top\">송죽동</th>\n",
              "      <th rowspan=\"3\" valign=\"top\">대성(A,B,C)</th>\n",
              "      <th>55.9800</th>\n",
              "      <td>17400</td>\n",
              "      <td>30800</td>\n",
              "      <td>30700</td>\n",
              "      <td>2022</td>\n",
              "      <td>7</td>\n",
              "      <td>100</td>\n",
              "      <td>0.0</td>\n",
              "    </tr>\n",
              "    <tr>\n",
              "      <th>56.1600</th>\n",
              "      <td>15000</td>\n",
              "      <td>25000</td>\n",
              "      <td>25000</td>\n",
              "      <td>2021</td>\n",
              "      <td>3</td>\n",
              "      <td>0</td>\n",
              "      <td>0.0</td>\n",
              "    </tr>\n",
              "    <tr>\n",
              "      <th>56.8800</th>\n",
              "      <td>16800</td>\n",
              "      <td>26000</td>\n",
              "      <td>26000</td>\n",
              "      <td>2021</td>\n",
              "      <td>7</td>\n",
              "      <td>0</td>\n",
              "      <td>0.0</td>\n",
              "    </tr>\n",
              "    <tr>\n",
              "      <th rowspan=\"2\" valign=\"top\">동양파라곤</th>\n",
              "      <th>84.9710</th>\n",
              "      <td>30500</td>\n",
              "      <td>43000</td>\n",
              "      <td>39620</td>\n",
              "      <td>2021</td>\n",
              "      <td>5</td>\n",
              "      <td>3380</td>\n",
              "      <td>8.0</td>\n",
              "    </tr>\n",
              "    <tr>\n",
              "      <th>84.9750</th>\n",
              "      <td>30500</td>\n",
              "      <td>33500</td>\n",
              "      <td>33000</td>\n",
              "      <td>2018</td>\n",
              "      <td>11</td>\n",
              "      <td>500</td>\n",
              "      <td>1.0</td>\n",
              "    </tr>\n",
              "    <tr>\n",
              "      <th>...</th>\n",
              "      <th>...</th>\n",
              "      <th>...</th>\n",
              "      <th>...</th>\n",
              "      <td>...</td>\n",
              "      <td>...</td>\n",
              "      <td>...</td>\n",
              "      <td>...</td>\n",
              "      <td>...</td>\n",
              "      <td>...</td>\n",
              "      <td>...</td>\n",
              "    </tr>\n",
              "    <tr>\n",
              "      <th rowspan=\"5\" valign=\"top\">41830</th>\n",
              "      <th rowspan=\"3\" valign=\"top\">용문면 다문리</th>\n",
              "      <th rowspan=\"2\" valign=\"top\">용문코아루</th>\n",
              "      <th>62.7400</th>\n",
              "      <td>20747</td>\n",
              "      <td>33000</td>\n",
              "      <td>33000</td>\n",
              "      <td>2022</td>\n",
              "      <td>6</td>\n",
              "      <td>0</td>\n",
              "      <td>0.0</td>\n",
              "    </tr>\n",
              "    <tr>\n",
              "      <th>76.1100</th>\n",
              "      <td>24720</td>\n",
              "      <td>37000</td>\n",
              "      <td>36500</td>\n",
              "      <td>2022</td>\n",
              "      <td>8</td>\n",
              "      <td>500</td>\n",
              "      <td>1.0</td>\n",
              "    </tr>\n",
              "    <tr>\n",
              "      <th>원석비바체</th>\n",
              "      <th>84.9900</th>\n",
              "      <td>15500</td>\n",
              "      <td>20500</td>\n",
              "      <td>19000</td>\n",
              "      <td>2022</td>\n",
              "      <td>5</td>\n",
              "      <td>1500</td>\n",
              "      <td>7.0</td>\n",
              "    </tr>\n",
              "    <tr>\n",
              "      <th rowspan=\"2\" valign=\"top\">용문면 마룡리</th>\n",
              "      <th rowspan=\"2\" valign=\"top\">꽃여울</th>\n",
              "      <th>65.2134</th>\n",
              "      <td>8000</td>\n",
              "      <td>10700</td>\n",
              "      <td>10700</td>\n",
              "      <td>2021</td>\n",
              "      <td>9</td>\n",
              "      <td>0</td>\n",
              "      <td>0.0</td>\n",
              "    </tr>\n",
              "    <tr>\n",
              "      <th>71.2164</th>\n",
              "      <td>10000</td>\n",
              "      <td>16000</td>\n",
              "      <td>13000</td>\n",
              "      <td>2022</td>\n",
              "      <td>8</td>\n",
              "      <td>3000</td>\n",
              "      <td>19.0</td>\n",
              "    </tr>\n",
              "  </tbody>\n",
              "</table>\n",
              "<p>16834 rows × 7 columns</p>\n",
              "</div>\n",
              "      <button class=\"colab-df-convert\" onclick=\"convertToInteractive('df-f061be15-bdcf-4f1e-a2b6-1aab4d1b4f9b')\"\n",
              "              title=\"Convert this dataframe to an interactive table.\"\n",
              "              style=\"display:none;\">\n",
              "        \n",
              "  <svg xmlns=\"http://www.w3.org/2000/svg\" height=\"24px\"viewBox=\"0 0 24 24\"\n",
              "       width=\"24px\">\n",
              "    <path d=\"M0 0h24v24H0V0z\" fill=\"none\"/>\n",
              "    <path d=\"M18.56 5.44l.94 2.06.94-2.06 2.06-.94-2.06-.94-.94-2.06-.94 2.06-2.06.94zm-11 1L8.5 8.5l.94-2.06 2.06-.94-2.06-.94L8.5 2.5l-.94 2.06-2.06.94zm10 10l.94 2.06.94-2.06 2.06-.94-2.06-.94-.94-2.06-.94 2.06-2.06.94z\"/><path d=\"M17.41 7.96l-1.37-1.37c-.4-.4-.92-.59-1.43-.59-.52 0-1.04.2-1.43.59L10.3 9.45l-7.72 7.72c-.78.78-.78 2.05 0 2.83L4 21.41c.39.39.9.59 1.41.59.51 0 1.02-.2 1.41-.59l7.78-7.78 2.81-2.81c.8-.78.8-2.07 0-2.86zM5.41 20L4 18.59l7.72-7.72 1.47 1.35L5.41 20z\"/>\n",
              "  </svg>\n",
              "      </button>\n",
              "      \n",
              "  <style>\n",
              "    .colab-df-container {\n",
              "      display:flex;\n",
              "      flex-wrap:wrap;\n",
              "      gap: 12px;\n",
              "    }\n",
              "\n",
              "    .colab-df-convert {\n",
              "      background-color: #E8F0FE;\n",
              "      border: none;\n",
              "      border-radius: 50%;\n",
              "      cursor: pointer;\n",
              "      display: none;\n",
              "      fill: #1967D2;\n",
              "      height: 32px;\n",
              "      padding: 0 0 0 0;\n",
              "      width: 32px;\n",
              "    }\n",
              "\n",
              "    .colab-df-convert:hover {\n",
              "      background-color: #E2EBFA;\n",
              "      box-shadow: 0px 1px 2px rgba(60, 64, 67, 0.3), 0px 1px 3px 1px rgba(60, 64, 67, 0.15);\n",
              "      fill: #174EA6;\n",
              "    }\n",
              "\n",
              "    [theme=dark] .colab-df-convert {\n",
              "      background-color: #3B4455;\n",
              "      fill: #D2E3FC;\n",
              "    }\n",
              "\n",
              "    [theme=dark] .colab-df-convert:hover {\n",
              "      background-color: #434B5C;\n",
              "      box-shadow: 0px 1px 3px 1px rgba(0, 0, 0, 0.15);\n",
              "      filter: drop-shadow(0px 1px 2px rgba(0, 0, 0, 0.3));\n",
              "      fill: #FFFFFF;\n",
              "    }\n",
              "  </style>\n",
              "\n",
              "      <script>\n",
              "        const buttonEl =\n",
              "          document.querySelector('#df-f061be15-bdcf-4f1e-a2b6-1aab4d1b4f9b button.colab-df-convert');\n",
              "        buttonEl.style.display =\n",
              "          google.colab.kernel.accessAllowed ? 'block' : 'none';\n",
              "\n",
              "        async function convertToInteractive(key) {\n",
              "          const element = document.querySelector('#df-f061be15-bdcf-4f1e-a2b6-1aab4d1b4f9b');\n",
              "          const dataTable =\n",
              "            await google.colab.kernel.invokeFunction('convertToInteractive',\n",
              "                                                     [key], {});\n",
              "          if (!dataTable) return;\n",
              "\n",
              "          const docLinkHtml = 'Like what you see? Visit the ' +\n",
              "            '<a target=\"_blank\" href=https://colab.research.google.com/notebooks/data_table.ipynb>data table notebook</a>'\n",
              "            + ' to learn more about interactive tables.';\n",
              "          element.innerHTML = '';\n",
              "          dataTable['output_type'] = 'display_data';\n",
              "          await google.colab.output.renderOutput(dataTable, element);\n",
              "          const docLink = document.createElement('div');\n",
              "          docLink.innerHTML = docLinkHtml;\n",
              "          element.appendChild(docLink);\n",
              "        }\n",
              "      </script>\n",
              "    </div>\n",
              "  </div>\n",
              "  "
            ]
          },
          "metadata": {},
          "execution_count": 36
        }
      ]
    }
  ]
}