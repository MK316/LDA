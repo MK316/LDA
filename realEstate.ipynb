{
  "nbformat": 4,
  "nbformat_minor": 0,
  "metadata": {
    "colab": {
      "provenance": [],
      "mount_file_id": "1iMDcGizmxaZRrL9QT6fF3O6lueOADyZC",
      "authorship_tag": "ABX9TyMis6MwE3I9fnfBOaygP3Qu",
      "include_colab_link": true
    },
    "kernelspec": {
      "name": "python3",
      "display_name": "Python 3"
    },
    "language_info": {
      "name": "python"
    }
  },
  "cells": [
    {
      "cell_type": "markdown",
      "metadata": {
        "id": "view-in-github",
        "colab_type": "text"
      },
      "source": [
        "<a href=\"https://colab.research.google.com/github/hsnam95/my/blob/main/realEstate.ipynb\" target=\"_parent\"><img src=\"https://colab.research.google.com/assets/colab-badge.svg\" alt=\"Open In Colab\"/></a>"
      ]
    },
    {
      "cell_type": "markdown",
      "source": [
        "##load 부동산 CSV "
      ],
      "metadata": {
        "id": "TNFJ3sMOG6m0"
      }
    },
    {
      "cell_type": "code",
      "execution_count": null,
      "metadata": {
        "id": "0FuhiiKHUbz7"
      },
      "outputs": [],
      "source": [
        "import pandas as pd\n",
        "\n",
        "# 구글 드라이브 마운트 먼저\n",
        "from google.colab import drive\n",
        "drive.mount('/content/drive/', force_remount=True)\n",
        "\n",
        "# 부동산 CSV를 데이터 프레임으로 읽기 \n",
        "df_all = pd.read_csv('/content/drive/MyDrive/Colab Notebooks/seoul.csv')\n",
        "\n",
        "# 거래금액 INTEGER,\n",
        "# 거래유형 TEXT,\n",
        "# 건축년도 INTEGER,\n",
        "# 년 INTEGER,\n",
        "# 법정동 TEXT,\n",
        "# 아파트 TEXT,\n",
        "# 월 INTEGER,\n",
        "# 일 INTEGER,\n",
        "# 전용면적 FLOAT,\n",
        "# 중개사소재지,\n",
        "# 지번 TEXT,\n",
        "# 지역코드 TEXT,\n",
        "# 층 INTEGER,\n",
        "# 해제사유발생일 TEXT,\n",
        "# 해제여부 TEXT"
      ]
    },
    {
      "cell_type": "code",
      "source": [
        "df = df_all[(df_all['년'] >=2017) & (df_all['전용면적'] >= 50) & (df_all['전용면적'] <= 110)]\n"
      ],
      "metadata": {
        "id": "0aHG-fVDW_fg"
      },
      "execution_count": 18,
      "outputs": []
    },
    {
      "cell_type": "code",
      "source": [
        "df_out = df.groupby(['지역코드', '법정동', '아파트', '전용면적'])['거래금액'].aggregate(['min','max'])"
      ],
      "metadata": {
        "id": "tM47-txOQA5G"
      },
      "execution_count": 19,
      "outputs": []
    },
    {
      "cell_type": "code",
      "source": [
        "import numpy as np\n",
        "def get_last(s):\n",
        "  return list(s)[-1]\n",
        "\n",
        "df_recentPrice = df.groupby(['지역코드', '법정동', '아파트', '전용면적']).agg({'거래금액': get_last})\n",
        "df_recentYear = df.groupby(['지역코드', '법정동', '아파트', '전용면적']).agg({'년': get_last})\n",
        "df_recentMonth = df.groupby(['지역코드', '법정동', '아파트', '전용면적']).agg({'월': get_last})"
      ],
      "metadata": {
        "id": "KpxG5pA-anwN"
      },
      "execution_count": 20,
      "outputs": []
    },
    {
      "cell_type": "code",
      "source": [
        "df_out['최근거래금액'] = df_recentPrice['거래금액']"
      ],
      "metadata": {
        "id": "I7tuHPK34PTV"
      },
      "execution_count": 21,
      "outputs": []
    },
    {
      "cell_type": "code",
      "source": [
        "df_out['최근거래년'] = df_recentYear['년']"
      ],
      "metadata": {
        "id": "e9K6BYeFEJSG"
      },
      "execution_count": 22,
      "outputs": []
    },
    {
      "cell_type": "code",
      "source": [
        "df_out['최근거래월'] = df_recentMonth['월']"
      ],
      "metadata": {
        "id": "Indi4tXbF1fF"
      },
      "execution_count": 23,
      "outputs": []
    },
    {
      "cell_type": "code",
      "source": [
        "df_out['증감액'] = df_out['max'] - df_out['최근거래금액']"
      ],
      "metadata": {
        "id": "1ZBP89pP8F-U"
      },
      "execution_count": 24,
      "outputs": []
    },
    {
      "cell_type": "code",
      "source": [
        "df_out['증감비율'] = np.round((df_out['증감액']/df_out['max'])*100)"
      ],
      "metadata": {
        "id": "YNLr0lZ98z5j"
      },
      "execution_count": 25,
      "outputs": []
    },
    {
      "cell_type": "code",
      "source": [
        "df_out"
      ],
      "metadata": {
        "colab": {
          "base_uri": "https://localhost:8080/",
          "height": 2563
        },
        "id": "SLvOlLrw9AOQ",
        "outputId": "b7779c9a-b91f-490d-9d95-6740a0e143ef"
      },
      "execution_count": 26,
      "outputs": [
        {
          "output_type": "execute_result",
          "data": {
            "text/plain": [
              "                         min    max  최근거래금액  최근거래년  최근거래월   증감액  증감비율\n",
              "지역코드  법정동 아파트   전용면적                                                 \n",
              "11110 교북동 동아    59.98  38000  83500   80000   2022      6  3500   4.0\n",
              "                84.28  32000  70000   70000   2018      9     0   0.0\n",
              "                96.23  48500  48500   48500   2017      6     0   0.0\n",
              "                99.29  75500  87700   87700   2020      9     0   0.0\n",
              "      구기동 마운틴뷰  66.13  58500  58500   58500   2021      7     0   0.0\n",
              "...                      ...    ...     ...    ...    ...   ...   ...\n",
              "11740 천호동 형인허브빌 75.08  35600  64700   64700   2021      4     0   0.0\n",
              "                75.30  37950  37950   37950   2018      8     0   0.0\n",
              "                75.40  37000  37000   37000   2017      7     0   0.0\n",
              "                75.47  45000  45000   45000   2020      5     0   0.0\n",
              "                75.81  42700  42700   42700   2019      7     0   0.0\n",
              "\n",
              "[18798 rows x 7 columns]"
            ],
            "text/html": [
              "\n",
              "  <div id=\"df-d6b30fd1-c5e7-46f9-8bf8-e8f8cd1962c4\">\n",
              "    <div class=\"colab-df-container\">\n",
              "      <div>\n",
              "<style scoped>\n",
              "    .dataframe tbody tr th:only-of-type {\n",
              "        vertical-align: middle;\n",
              "    }\n",
              "\n",
              "    .dataframe tbody tr th {\n",
              "        vertical-align: top;\n",
              "    }\n",
              "\n",
              "    .dataframe thead th {\n",
              "        text-align: right;\n",
              "    }\n",
              "</style>\n",
              "<table border=\"1\" class=\"dataframe\">\n",
              "  <thead>\n",
              "    <tr style=\"text-align: right;\">\n",
              "      <th></th>\n",
              "      <th></th>\n",
              "      <th></th>\n",
              "      <th></th>\n",
              "      <th>min</th>\n",
              "      <th>max</th>\n",
              "      <th>최근거래금액</th>\n",
              "      <th>최근거래년</th>\n",
              "      <th>최근거래월</th>\n",
              "      <th>증감액</th>\n",
              "      <th>증감비율</th>\n",
              "    </tr>\n",
              "    <tr>\n",
              "      <th>지역코드</th>\n",
              "      <th>법정동</th>\n",
              "      <th>아파트</th>\n",
              "      <th>전용면적</th>\n",
              "      <th></th>\n",
              "      <th></th>\n",
              "      <th></th>\n",
              "      <th></th>\n",
              "      <th></th>\n",
              "      <th></th>\n",
              "      <th></th>\n",
              "    </tr>\n",
              "  </thead>\n",
              "  <tbody>\n",
              "    <tr>\n",
              "      <th rowspan=\"5\" valign=\"top\">11110</th>\n",
              "      <th rowspan=\"4\" valign=\"top\">교북동</th>\n",
              "      <th rowspan=\"4\" valign=\"top\">동아</th>\n",
              "      <th>59.98</th>\n",
              "      <td>38000</td>\n",
              "      <td>83500</td>\n",
              "      <td>80000</td>\n",
              "      <td>2022</td>\n",
              "      <td>6</td>\n",
              "      <td>3500</td>\n",
              "      <td>4.0</td>\n",
              "    </tr>\n",
              "    <tr>\n",
              "      <th>84.28</th>\n",
              "      <td>32000</td>\n",
              "      <td>70000</td>\n",
              "      <td>70000</td>\n",
              "      <td>2018</td>\n",
              "      <td>9</td>\n",
              "      <td>0</td>\n",
              "      <td>0.0</td>\n",
              "    </tr>\n",
              "    <tr>\n",
              "      <th>96.23</th>\n",
              "      <td>48500</td>\n",
              "      <td>48500</td>\n",
              "      <td>48500</td>\n",
              "      <td>2017</td>\n",
              "      <td>6</td>\n",
              "      <td>0</td>\n",
              "      <td>0.0</td>\n",
              "    </tr>\n",
              "    <tr>\n",
              "      <th>99.29</th>\n",
              "      <td>75500</td>\n",
              "      <td>87700</td>\n",
              "      <td>87700</td>\n",
              "      <td>2020</td>\n",
              "      <td>9</td>\n",
              "      <td>0</td>\n",
              "      <td>0.0</td>\n",
              "    </tr>\n",
              "    <tr>\n",
              "      <th>구기동</th>\n",
              "      <th>마운틴뷰</th>\n",
              "      <th>66.13</th>\n",
              "      <td>58500</td>\n",
              "      <td>58500</td>\n",
              "      <td>58500</td>\n",
              "      <td>2021</td>\n",
              "      <td>7</td>\n",
              "      <td>0</td>\n",
              "      <td>0.0</td>\n",
              "    </tr>\n",
              "    <tr>\n",
              "      <th>...</th>\n",
              "      <th>...</th>\n",
              "      <th>...</th>\n",
              "      <th>...</th>\n",
              "      <td>...</td>\n",
              "      <td>...</td>\n",
              "      <td>...</td>\n",
              "      <td>...</td>\n",
              "      <td>...</td>\n",
              "      <td>...</td>\n",
              "      <td>...</td>\n",
              "    </tr>\n",
              "    <tr>\n",
              "      <th rowspan=\"5\" valign=\"top\">11740</th>\n",
              "      <th rowspan=\"5\" valign=\"top\">천호동</th>\n",
              "      <th rowspan=\"5\" valign=\"top\">형인허브빌</th>\n",
              "      <th>75.08</th>\n",
              "      <td>35600</td>\n",
              "      <td>64700</td>\n",
              "      <td>64700</td>\n",
              "      <td>2021</td>\n",
              "      <td>4</td>\n",
              "      <td>0</td>\n",
              "      <td>0.0</td>\n",
              "    </tr>\n",
              "    <tr>\n",
              "      <th>75.30</th>\n",
              "      <td>37950</td>\n",
              "      <td>37950</td>\n",
              "      <td>37950</td>\n",
              "      <td>2018</td>\n",
              "      <td>8</td>\n",
              "      <td>0</td>\n",
              "      <td>0.0</td>\n",
              "    </tr>\n",
              "    <tr>\n",
              "      <th>75.40</th>\n",
              "      <td>37000</td>\n",
              "      <td>37000</td>\n",
              "      <td>37000</td>\n",
              "      <td>2017</td>\n",
              "      <td>7</td>\n",
              "      <td>0</td>\n",
              "      <td>0.0</td>\n",
              "    </tr>\n",
              "    <tr>\n",
              "      <th>75.47</th>\n",
              "      <td>45000</td>\n",
              "      <td>45000</td>\n",
              "      <td>45000</td>\n",
              "      <td>2020</td>\n",
              "      <td>5</td>\n",
              "      <td>0</td>\n",
              "      <td>0.0</td>\n",
              "    </tr>\n",
              "    <tr>\n",
              "      <th>75.81</th>\n",
              "      <td>42700</td>\n",
              "      <td>42700</td>\n",
              "      <td>42700</td>\n",
              "      <td>2019</td>\n",
              "      <td>7</td>\n",
              "      <td>0</td>\n",
              "      <td>0.0</td>\n",
              "    </tr>\n",
              "  </tbody>\n",
              "</table>\n",
              "<p>18798 rows × 7 columns</p>\n",
              "</div>\n",
              "      <button class=\"colab-df-convert\" onclick=\"convertToInteractive('df-d6b30fd1-c5e7-46f9-8bf8-e8f8cd1962c4')\"\n",
              "              title=\"Convert this dataframe to an interactive table.\"\n",
              "              style=\"display:none;\">\n",
              "        \n",
              "  <svg xmlns=\"http://www.w3.org/2000/svg\" height=\"24px\"viewBox=\"0 0 24 24\"\n",
              "       width=\"24px\">\n",
              "    <path d=\"M0 0h24v24H0V0z\" fill=\"none\"/>\n",
              "    <path d=\"M18.56 5.44l.94 2.06.94-2.06 2.06-.94-2.06-.94-.94-2.06-.94 2.06-2.06.94zm-11 1L8.5 8.5l.94-2.06 2.06-.94-2.06-.94L8.5 2.5l-.94 2.06-2.06.94zm10 10l.94 2.06.94-2.06 2.06-.94-2.06-.94-.94-2.06-.94 2.06-2.06.94z\"/><path d=\"M17.41 7.96l-1.37-1.37c-.4-.4-.92-.59-1.43-.59-.52 0-1.04.2-1.43.59L10.3 9.45l-7.72 7.72c-.78.78-.78 2.05 0 2.83L4 21.41c.39.39.9.59 1.41.59.51 0 1.02-.2 1.41-.59l7.78-7.78 2.81-2.81c.8-.78.8-2.07 0-2.86zM5.41 20L4 18.59l7.72-7.72 1.47 1.35L5.41 20z\"/>\n",
              "  </svg>\n",
              "      </button>\n",
              "      \n",
              "  <style>\n",
              "    .colab-df-container {\n",
              "      display:flex;\n",
              "      flex-wrap:wrap;\n",
              "      gap: 12px;\n",
              "    }\n",
              "\n",
              "    .colab-df-convert {\n",
              "      background-color: #E8F0FE;\n",
              "      border: none;\n",
              "      border-radius: 50%;\n",
              "      cursor: pointer;\n",
              "      display: none;\n",
              "      fill: #1967D2;\n",
              "      height: 32px;\n",
              "      padding: 0 0 0 0;\n",
              "      width: 32px;\n",
              "    }\n",
              "\n",
              "    .colab-df-convert:hover {\n",
              "      background-color: #E2EBFA;\n",
              "      box-shadow: 0px 1px 2px rgba(60, 64, 67, 0.3), 0px 1px 3px 1px rgba(60, 64, 67, 0.15);\n",
              "      fill: #174EA6;\n",
              "    }\n",
              "\n",
              "    [theme=dark] .colab-df-convert {\n",
              "      background-color: #3B4455;\n",
              "      fill: #D2E3FC;\n",
              "    }\n",
              "\n",
              "    [theme=dark] .colab-df-convert:hover {\n",
              "      background-color: #434B5C;\n",
              "      box-shadow: 0px 1px 3px 1px rgba(0, 0, 0, 0.15);\n",
              "      filter: drop-shadow(0px 1px 2px rgba(0, 0, 0, 0.3));\n",
              "      fill: #FFFFFF;\n",
              "    }\n",
              "  </style>\n",
              "\n",
              "      <script>\n",
              "        const buttonEl =\n",
              "          document.querySelector('#df-d6b30fd1-c5e7-46f9-8bf8-e8f8cd1962c4 button.colab-df-convert');\n",
              "        buttonEl.style.display =\n",
              "          google.colab.kernel.accessAllowed ? 'block' : 'none';\n",
              "\n",
              "        async function convertToInteractive(key) {\n",
              "          const element = document.querySelector('#df-d6b30fd1-c5e7-46f9-8bf8-e8f8cd1962c4');\n",
              "          const dataTable =\n",
              "            await google.colab.kernel.invokeFunction('convertToInteractive',\n",
              "                                                     [key], {});\n",
              "          if (!dataTable) return;\n",
              "\n",
              "          const docLinkHtml = 'Like what you see? Visit the ' +\n",
              "            '<a target=\"_blank\" href=https://colab.research.google.com/notebooks/data_table.ipynb>data table notebook</a>'\n",
              "            + ' to learn more about interactive tables.';\n",
              "          element.innerHTML = '';\n",
              "          dataTable['output_type'] = 'display_data';\n",
              "          await google.colab.output.renderOutput(dataTable, element);\n",
              "          const docLink = document.createElement('div');\n",
              "          docLink.innerHTML = docLinkHtml;\n",
              "          element.appendChild(docLink);\n",
              "        }\n",
              "      </script>\n",
              "    </div>\n",
              "  </div>\n",
              "  "
            ]
          },
          "metadata": {},
          "execution_count": 26
        }
      ]
    }
  ]
}