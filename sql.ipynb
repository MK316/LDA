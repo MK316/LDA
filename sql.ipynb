{
  "nbformat": 4,
  "nbformat_minor": 0,
  "metadata": {
    "colab": {
      "provenance": [],
      "authorship_tag": "ABX9TyMXEi3EJ9VFcKLVSK0+/0VS",
      "include_colab_link": true
    },
    "kernelspec": {
      "name": "python3",
      "display_name": "Python 3"
    },
    "language_info": {
      "name": "python"
    }
  },
  "cells": [
    {
      "cell_type": "markdown",
      "metadata": {
        "id": "view-in-github",
        "colab_type": "text"
      },
      "source": [
        "<a href=\"https://colab.research.google.com/github/hsnam95/my/blob/main/sql.ipynb\" target=\"_parent\"><img src=\"https://colab.research.google.com/assets/colab-badge.svg\" alt=\"Open In Colab\"/></a>"
      ]
    },
    {
      "cell_type": "code",
      "metadata": {
        "id": "6CTzg58RZ8rK"
      },
      "source": [
        "import sqlite3"
      ],
      "execution_count": null,
      "outputs": []
    },
    {
      "cell_type": "code",
      "metadata": {
        "id": "0zMrueBBbrnF"
      },
      "source": [
        "friend_data = list(tuple())\n",
        "friend_data.append(('김상욱', 22, '010-4545-6767', '서울특별시 종로구 세종대로 종로 1가'))\n",
        "friend_data.append(('최지훈', 20, '010-7896-1234', '​전라북도 전주시 덕진구 석소로 77, 101동 101호(인후동1가, 대우아파트)'))\n",
        "friend_data.append(('Dr.Bae', 67, '010-8452-5678', '​전라북도 전주시 덕진구 석소2길 21-1(우아동2가)'))\n",
        "friend_data.append(('강서혁', 27, '010-1414-6767', '경상남도 의령군 화정면 화정로 41-6'))\n",
        "friend_data.append(('유민규', 21, '010-6497-6497', '서울특별시 동작구 흑석한강로 2(흑석동)'))"
      ],
      "execution_count": null,
      "outputs": []
    },
    {
      "cell_type": "markdown",
      "metadata": {
        "id": "EKdw-TBAdOaw"
      },
      "source": [
        "## **테이블 생성 및 데이터 삽입**"
      ]
    },
    {
      "cell_type": "code",
      "metadata": {
        "id": "LErKuZM3awgZ"
      },
      "source": [
        "#테이블 생성 및 데이터 삽입\n",
        "\n",
        "conn = sqlite3.connect('friend.db')\n",
        "\n",
        "# db 쿼리를 조작하기 위한 커서 객체 생성\n",
        "cur = conn.cursor()\n",
        "\n",
        "# 테이블 생성\n",
        "cur.execute(\"\"\"CREATE TABLE IF NOT EXISTS friend_data(\n",
        "  id INTEGER PRIMARY KEY AUTOINCREMENT,\n",
        "  name TEXT,\n",
        "  age INTEGER,\n",
        "  number TEXT,\n",
        "  address TEXT\n",
        "  )\"\"\")\n",
        "\n",
        "cur.executemany('INSERT INTO friend_data (name, age, number, address) VALUES (?, ?, ?, ?)', friend_data)\n",
        "conn.commit()\n",
        "\n",
        "# 마지막엔 무조건 close() 메소드로 db연결을 해제해야 한다.\n",
        "conn.close()"
      ],
      "execution_count": null,
      "outputs": []
    },
    {
      "cell_type": "markdown",
      "metadata": {
        "id": "nc8ON_8AdS9X"
      },
      "source": [
        "## **데이터 조회**"
      ]
    },
    {
      "cell_type": "code",
      "metadata": {
        "colab": {
          "base_uri": "https://localhost:8080/"
        },
        "id": "PDG7__HcdSeY",
        "outputId": "17fa2562-19e9-4aa5-ffbc-8bf36d5a045a"
      },
      "source": [
        "#데이터 조회\n",
        "\n",
        "conn = sqlite3.connect(\"friend.db\")\n",
        "\n",
        "cur = conn.cursor()\n",
        "cur.execute(\"SELECT * FROM friend_data\")\n",
        "\n",
        "friends = cur.fetchall()\n",
        "\n",
        "for friend in friends:\n",
        "  print(friend)\n",
        "\n",
        "conn.close()"
      ],
      "execution_count": null,
      "outputs": [
        {
          "output_type": "stream",
          "text": [
            "(1, '김상욱', 22, '010-4545-6767', '서울특별시 종로구 세종대로 종로 1가')\n",
            "(2, '최지훈', 20, '010-7896-1234', '\\u200b전라북도 전주시 덕진구 석소로 77, 101동 101호(인후동1가, 대우아파트)')\n",
            "(3, 'Dr.Bae', 67, '010-8452-5678', '\\u200b전라북도 전주시 덕진구 석소2길 21-1(우아동2가)')\n",
            "(4, '강서혁', 27, '010-1414-6767', '경상남도 의령군 화정면 화정로 41-6')\n",
            "(5, '유민규', 21, '010-6497-6497', '서울특별시 동작구 흑석한강로 2(흑석동)')\n"
          ],
          "name": "stdout"
        }
      ]
    },
    {
      "cell_type": "markdown",
      "metadata": {
        "id": "85j9Owr8m0Km"
      },
      "source": [
        "## **데이터 수정**"
      ]
    },
    {
      "cell_type": "code",
      "metadata": {
        "colab": {
          "base_uri": "https://localhost:8080/"
        },
        "id": "ofQrFELOm1-l",
        "outputId": "c4300e63-85fe-4390-be3a-05b6d9d6816a"
      },
      "source": [
        "#데이터 수정\n",
        "\n",
        "conn = sqlite3.connect(\"friend.db\")\n",
        "\n",
        "cur = conn.cursor()\n",
        "cur.execute(\"UPDATE friend_data SET number=? WHERE name=?\", ('010-1234-5678', '최지훈'))\n",
        "\n",
        "cur.execute(\"SELECT * FROM friend_data WHERE name=?\", ('최지훈', ))\n",
        "friend = cur.fetchone()\n",
        "\n",
        "print(friend)\n",
        "\n",
        "conn.commit()\n",
        "conn.close()"
      ],
      "execution_count": null,
      "outputs": [
        {
          "output_type": "stream",
          "text": [
            "(2, '최지훈', 20, '010-1234-5678', '\\u200b전라북도 전주시 덕진구 석소로 77, 101동 101호(인후동1가, 대우아파트)')\n"
          ],
          "name": "stdout"
        }
      ]
    },
    {
      "cell_type": "markdown",
      "metadata": {
        "id": "Lv4R4-e3oEib"
      },
      "source": [
        "## **데이터 삭제**"
      ]
    },
    {
      "cell_type": "code",
      "metadata": {
        "colab": {
          "base_uri": "https://localhost:8080/"
        },
        "id": "DsPIyjbuoEGD",
        "outputId": "ef416017-d947-49a7-a6f2-ebe5b152e161"
      },
      "source": [
        "#데이터 수정\n",
        "\n",
        "conn = sqlite3.connect(\"friend.db\")\n",
        "\n",
        "cur = conn.cursor()\n",
        "cur.execute(\"DELETE FROM friend_data WHERE name=?\", ('Dr.Bae', ))\n",
        "\n",
        "cur.execute(\"SELECT * FROM friend_data\")\n",
        "friends = cur.fetchall()\n",
        "\n",
        "for friend in friends:\n",
        "  print(friend)\n",
        "\n",
        "conn.commit()\n",
        "conn.close()"
      ],
      "execution_count": null,
      "outputs": [
        {
          "output_type": "stream",
          "text": [
            "(1, '김상욱', 22, '010-4545-6767', '서울특별시 종로구 세종대로 종로 1가')\n",
            "(2, '최지훈', 20, '010-1234-5678', '\\u200b전라북도 전주시 덕진구 석소로 77, 101동 101호(인후동1가, 대우아파트)')\n",
            "(4, '강서혁', 27, '010-1414-6767', '경상남도 의령군 화정면 화정로 41-6')\n",
            "(5, '유민규', 21, '010-6497-6497', '서울특별시 동작구 흑석한강로 2(흑석동)')\n"
          ],
          "name": "stdout"
        }
      ]
    },
    {
      "cell_type": "code",
      "metadata": {
        "id": "QgT4uZjqE7Hy"
      },
      "source": [
        "import pandas as pd\n",
        "\n",
        "conn = sqlite3.connect('friend.db')\n",
        "cur = conn.cursor()\n",
        "\n",
        "cur.execute(\"SELECT * FROM friend_data\")\n",
        "\n",
        "friends = cur.fetchall()\n",
        "\n",
        "# 테이블 컬럼명 가져오기\n",
        "column_name = [column[0] for column in cur.description]\n",
        "\n",
        "frame = pd.DataFrame.from_records(data=friends, columns=column_name)\n",
        "\n",
        "conn.close()\n",
        "\n",
        "frame"
      ],
      "execution_count": null,
      "outputs": []
    },
    {
      "cell_type": "code",
      "source": [],
      "metadata": {
        "id": "crJTNHpK82Q5"
      },
      "execution_count": null,
      "outputs": []
    },
    {
      "cell_type": "code",
      "source": [],
      "metadata": {
        "id": "VutJEn8g82M4"
      },
      "execution_count": null,
      "outputs": []
    },
    {
      "cell_type": "code",
      "source": [],
      "metadata": {
        "id": "kssLIhSC8184"
      },
      "execution_count": null,
      "outputs": []
    },
    {
      "cell_type": "code",
      "execution_count": 7,
      "metadata": {
        "id": "0FuhiiKHUbz7"
      },
      "outputs": [],
      "source": [
        "conn = sqlite3.connect('my_data.db')\n",
        "c = conn.cursor()"
      ]
    },
    {
      "cell_type": "code",
      "source": [
        "import pandas as pd\n",
        "users = pd.read_csv('out.csv')\n",
        "users.to_sql('users', conn, if_exists='replace', index = False)"
      ],
      "metadata": {
        "id": "_cU006PrU-DB"
      },
      "execution_count": 8,
      "outputs": []
    },
    {
      "cell_type": "code",
      "source": [
        "data = c.execute('''SELECT * FROM users''').fetchall()"
      ],
      "metadata": {
        "id": "5ZXhpXAsVWWp"
      },
      "execution_count": 11,
      "outputs": []
    },
    {
      "cell_type": "code",
      "source": [
        "pd.read_sql('''SELECT * FROM users''', conn)"
      ],
      "metadata": {
        "id": "LIRNLx0zvGJV"
      },
      "execution_count": null,
      "outputs": []
    }
  ]
}