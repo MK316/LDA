{
  "nbformat": 4,
  "nbformat_minor": 0,
  "metadata": {
    "colab": {
      "provenance": [],
      "mount_file_id": "https://github.com/hsnam95/my/blob/main/sql.ipynb",
      "authorship_tag": "ABX9TyOMHGV+JHxi429TZp3BQQbA",
      "include_colab_link": true
    },
    "kernelspec": {
      "name": "python3",
      "display_name": "Python 3"
    },
    "language_info": {
      "name": "python"
    }
  },
  "cells": [
    {
      "cell_type": "markdown",
      "metadata": {
        "id": "view-in-github",
        "colab_type": "text"
      },
      "source": [
        "<a href=\"https://colab.research.google.com/github/hsnam95/my/blob/main/sql.ipynb\" target=\"_parent\"><img src=\"https://colab.research.google.com/assets/colab-badge.svg\" alt=\"Open In Colab\"/></a>"
      ]
    },
    {
      "cell_type": "code",
      "metadata": {
        "id": "6CTzg58RZ8rK"
      },
      "source": [
        "import sqlite3"
      ],
      "execution_count": 2,
      "outputs": []
    },
    {
      "cell_type": "markdown",
      "source": [
        "## **리스트-튜플 데이터 생성**"
      ],
      "metadata": {
        "id": "7ZpKMQ4mGFjE"
      }
    },
    {
      "cell_type": "code",
      "metadata": {
        "id": "0zMrueBBbrnF"
      },
      "source": [
        "friend_data = list(tuple())\n",
        "friend_data.append(('김상욱', 22, '010-4545-6767', '서울특별시 종로구 세종대로 종로 1가'))\n",
        "friend_data.append(('최지훈', 20, '010-7896-1234', '​전라북도 전주시 덕진구 석소로 77, 101동 101호(인후동1가, 대우아파트)'))\n",
        "friend_data.append(('Dr.Bae', 67, '010-8452-5678', '​전라북도 전주시 덕진구 석소2길 21-1(우아동2가)'))\n",
        "friend_data.append(('강서혁', 27, '010-1414-6767', '경상남도 의령군 화정면 화정로 41-6'))\n",
        "friend_data.append(('유민규', 21, '010-6497-6497', '서울특별시 동작구 흑석한강로 2(흑석동)'))"
      ],
      "execution_count": 4,
      "outputs": []
    },
    {
      "cell_type": "markdown",
      "metadata": {
        "id": "EKdw-TBAdOaw"
      },
      "source": [
        "## **테이블 생성 및 데이터 삽입**"
      ]
    },
    {
      "cell_type": "code",
      "metadata": {
        "id": "LErKuZM3awgZ"
      },
      "source": [
        "# DB 연결\n",
        "conn = sqlite3.connect('friend.db')\n",
        "\n",
        "# 연결로부터 db 쿼리를 조작하기 위한 커서 객체 생성\n",
        "cur = conn.cursor()\n",
        "\n",
        "# 쿼리-테이블 생성\n",
        "cur.execute(\"\"\"CREATE TABLE IF NOT EXISTS friend_data(\n",
        "  id INTEGER PRIMARY KEY AUTOINCREMENT,\n",
        "  name TEXT,\n",
        "  age INTEGER,\n",
        "  number TEXT,\n",
        "  address TEXT\n",
        "  )\"\"\")\n",
        "\n",
        "# 쿼리(여러행)-데이터 삽입\n",
        "cur.executemany('INSERT INTO friend_data (name, age, number, address) VALUES (?, ?, ?, ?)', friend_data)\n",
        "conn.commit()\n",
        "\n",
        "# 마지막엔 무조건 close() 메소드로 db연결을 해제해야 한다.\n",
        "conn.close()"
      ],
      "execution_count": null,
      "outputs": []
    },
    {
      "cell_type": "markdown",
      "metadata": {
        "id": "nc8ON_8AdS9X"
      },
      "source": [
        "## **데이터 조회**"
      ]
    },
    {
      "cell_type": "code",
      "metadata": {
        "colab": {
          "base_uri": "https://localhost:8080/"
        },
        "id": "PDG7__HcdSeY",
        "outputId": "17fa2562-19e9-4aa5-ffbc-8bf36d5a045a"
      },
      "source": [
        "# DB 연결\n",
        "conn = sqlite3.connect(\"friend.db\")\n",
        "\n",
        "# 연결로부터 db 쿼리를 조작하기 위한 커서 객체 생성\n",
        "cur = conn.cursor()\n",
        "\n",
        "# 쿼리-선택하기\n",
        "cur.execute(\"SELECT * FROM friend_data\")\n",
        "\n",
        "# 불러오기\n",
        "friends = cur.fetchall()\n",
        "\n",
        "for friend in friends:\n",
        "  print(friend)\n",
        "\n",
        "conn.close()"
      ],
      "execution_count": null,
      "outputs": [
        {
          "output_type": "stream",
          "text": [
            "(1, '김상욱', 22, '010-4545-6767', '서울특별시 종로구 세종대로 종로 1가')\n",
            "(2, '최지훈', 20, '010-7896-1234', '\\u200b전라북도 전주시 덕진구 석소로 77, 101동 101호(인후동1가, 대우아파트)')\n",
            "(3, 'Dr.Bae', 67, '010-8452-5678', '\\u200b전라북도 전주시 덕진구 석소2길 21-1(우아동2가)')\n",
            "(4, '강서혁', 27, '010-1414-6767', '경상남도 의령군 화정면 화정로 41-6')\n",
            "(5, '유민규', 21, '010-6497-6497', '서울특별시 동작구 흑석한강로 2(흑석동)')\n"
          ],
          "name": "stdout"
        }
      ]
    },
    {
      "cell_type": "markdown",
      "metadata": {
        "id": "85j9Owr8m0Km"
      },
      "source": [
        "## **데이터 수정**"
      ]
    },
    {
      "cell_type": "code",
      "metadata": {
        "colab": {
          "base_uri": "https://localhost:8080/"
        },
        "id": "ofQrFELOm1-l",
        "outputId": "c4300e63-85fe-4390-be3a-05b6d9d6816a"
      },
      "source": [
        "# DB 연결\n",
        "conn = sqlite3.connect(\"friend.db\")\n",
        "\n",
        "# 연결로부터 db 쿼리를 조작하기 위한 커서 객체 생성\n",
        "cur = conn.cursor()\n",
        "\n",
        "# 쿼리-수정하기\n",
        "cur.execute(\"UPDATE friend_data SET number=? WHERE name=?\", ('010-1234-5678', '최지훈'))\n",
        "\n",
        "# 쿼리-선택하기\n",
        "cur.execute(\"SELECT * FROM friend_data WHERE name=?\", ('최지훈', ))\n",
        "\n",
        "# 불러오기\n",
        "friend = cur.fetchone()\n",
        "\n",
        "print(friend)\n",
        "\n",
        "conn.commit()\n",
        "conn.close()"
      ],
      "execution_count": null,
      "outputs": [
        {
          "output_type": "stream",
          "text": [
            "(2, '최지훈', 20, '010-1234-5678', '\\u200b전라북도 전주시 덕진구 석소로 77, 101동 101호(인후동1가, 대우아파트)')\n"
          ],
          "name": "stdout"
        }
      ]
    },
    {
      "cell_type": "markdown",
      "metadata": {
        "id": "Lv4R4-e3oEib"
      },
      "source": [
        "## **데이터 삭제**"
      ]
    },
    {
      "cell_type": "code",
      "metadata": {
        "colab": {
          "base_uri": "https://localhost:8080/"
        },
        "id": "DsPIyjbuoEGD",
        "outputId": "ef416017-d947-49a7-a6f2-ebe5b152e161"
      },
      "source": [
        "# DB 연결\n",
        "conn = sqlite3.connect(\"friend.db\")\n",
        "\n",
        "# 연결로부터 db 쿼리를 조작하기 위한 커서 객체 생성\n",
        "cur = conn.cursor()\n",
        "\n",
        "# 쿼리-삭제하기\n",
        "cur.execute(\"DELETE FROM friend_data WHERE name=?\", ('Dr.Bae', ))\n",
        "\n",
        "# 쿼리-선택하기\n",
        "cur.execute(\"SELECT * FROM friend_data\")\n",
        "\n",
        "# 불러오기\n",
        "friends = cur.fetchall()\n",
        "\n",
        "for friend in friends:\n",
        "  print(friend)\n",
        "\n",
        "conn.commit()\n",
        "conn.close()"
      ],
      "execution_count": null,
      "outputs": [
        {
          "output_type": "stream",
          "text": [
            "(1, '김상욱', 22, '010-4545-6767', '서울특별시 종로구 세종대로 종로 1가')\n",
            "(2, '최지훈', 20, '010-1234-5678', '\\u200b전라북도 전주시 덕진구 석소로 77, 101동 101호(인후동1가, 대우아파트)')\n",
            "(4, '강서혁', 27, '010-1414-6767', '경상남도 의령군 화정면 화정로 41-6')\n",
            "(5, '유민규', 21, '010-6497-6497', '서울특별시 동작구 흑석한강로 2(흑석동)')\n"
          ],
          "name": "stdout"
        }
      ]
    },
    {
      "cell_type": "markdown",
      "source": [
        "##**데이터 프레임으로 저장**"
      ],
      "metadata": {
        "id": "QdXxnMaXGdFF"
      }
    },
    {
      "cell_type": "code",
      "metadata": {
        "id": "QgT4uZjqE7Hy"
      },
      "source": [
        "import pandas as pd\n",
        "\n",
        "# DB 연결\n",
        "conn = sqlite3.connect('friend.db')\n",
        "\n",
        "# 연결로부터 db 쿼리를 조작하기 위한 커서 객체 생성\n",
        "cur = conn.cursor()\n",
        "\n",
        "# 쿼리-선택하기\n",
        "cur.execute(\"SELECT * FROM friend_data\")\n",
        "\n",
        "# 불러오기\n",
        "friends = cur.fetchall()\n",
        "\n",
        "# 객체로부터 테이블 컬럼명 가져오기\n",
        "column_name = [column[0] for column in cur.description]\n",
        "\n",
        "# 데이터 프레임 만들기\n",
        "frame = pd.DataFrame.from_records(data=friends, columns=column_name)\n",
        "\n",
        "conn.close()\n",
        "\n",
        "frame"
      ],
      "execution_count": null,
      "outputs": []
    },
    {
      "cell_type": "markdown",
      "source": [
        "##**CSV를 SQL로**"
      ],
      "metadata": {
        "id": "TNFJ3sMOG6m0"
      }
    },
    {
      "cell_type": "code",
      "execution_count": 41,
      "metadata": {
        "id": "0FuhiiKHUbz7",
        "colab": {
          "base_uri": "https://localhost:8080/"
        },
        "outputId": "c9ae11ac-1817-4dd4-f556-f4c68785d401"
      },
      "outputs": [
        {
          "output_type": "stream",
          "name": "stderr",
          "text": [
            "/usr/local/lib/python3.7/dist-packages/IPython/core/interactiveshell.py:3326: DtypeWarning: Columns (1,9,13,14) have mixed types.Specify dtype option on import or set low_memory=False.\n",
            "  exec(code_obj, self.user_global_ns, self.user_ns)\n"
          ]
        }
      ],
      "source": [
        "import pandas as pd\n",
        "\n",
        "# DB 연결\n",
        "conn = sqlite3.connect('out.db')\n",
        "\n",
        "# 연결로부터 db 쿼리를 조작하기 위한 커서 객체 생성\n",
        "cur = conn.cursor()\n",
        "\n",
        "# 쿼리-테이블 생성\n",
        "cur.execute(\"\"\"CREATE TABLE IF NOT EXISTS out_data(\n",
        "  거래금액 INTEGER,\n",
        "  거래유형 TEXT,\n",
        "  건축년도 INTEGER,\n",
        "  년 INTEGER,\n",
        "  법정동 TEXT,\n",
        "  아파트 TEXT,\n",
        "  월 INTEGER,\n",
        "  일 INTEGER,\n",
        "  전용면적 FLOAT,\n",
        "  중개사소재지,\n",
        "  지번 TEXT,\n",
        "  지역코드 TEXT,\n",
        "  층 INTEGER,\n",
        "  해제사유발생일 TEXT,\n",
        "  해제여부 TEXT\n",
        "  )\"\"\")\n",
        "\n",
        "# CSV를 데이터 프레임으로 읽기\n",
        "\n",
        "df_all = pd.read_csv('/content/drive/MyDrive/Colab Notebooks/seoul.csv')\n",
        "\n",
        "# 데이터 프레임를 SQL로 연결\n",
        "# df.to_sql('out_data', conn, if_exists='replace', index = False)\n",
        "\n",
        "# 쿼리-선택하기\n",
        "# cur.execute(\"SELECT * FROM out_data\")\n",
        "\n",
        "# 불러오기\n",
        "# out = cur.fetchall()\n",
        "\n",
        "# SQL을 데이터 프레임으로\n",
        "# df = pd.read_sql('''SELECT * FROM out_data''', conn)"
      ]
    },
    {
      "cell_type": "markdown",
      "source": [
        "e.g. SELECT COL, COL FROM TABLE WHERE COL (부/등호, LIKE, BETWEEN AND)"
      ],
      "metadata": {
        "id": "LdUuiZSWS5ko"
      }
    },
    {
      "cell_type": "code",
      "source": [
        "cur.execute(\"SELECT 거래금액, 아파트 FROM out_data where 전용면적 > 300 AND 건축년도 > 2000\")\n",
        "out = cur.fetchall()\n",
        "out"
      ],
      "metadata": {
        "id": "_E3MZSriQJF6"
      },
      "execution_count": null,
      "outputs": []
    },
    {
      "cell_type": "code",
      "source": [
        "df = df_all[df_all['년'] >=2017]"
      ],
      "metadata": {
        "id": "0aHG-fVDW_fg"
      },
      "execution_count": 42,
      "outputs": []
    },
    {
      "cell_type": "code",
      "source": [
        "# # 39 50^  59^^  74 84^^ 113^\n",
        "\n",
        "# df.loc[df['전용면적'] < 56, '전용면적'] = 50\n",
        "# df.loc[(df['전용면적'] >= 56) & (df['전용면적'] <= 62), '전용면적'] = 59\n",
        "# df.loc[(df['전용면적'] > 62) & (df['전용면적'] < 81), '전용면적'] = 74\n",
        "# df.loc[(df['전용면적'] >= 81) & (df['전용면적'] <= 87), '전용면적'] = 84\n",
        "# df.loc[df['전용면적'] > 87, '전용면적'] = 113"
      ],
      "metadata": {
        "id": "YQgcuVsgRk6t"
      },
      "execution_count": null,
      "outputs": []
    },
    {
      "cell_type": "code",
      "source": [
        "df_out = df.groupby(['지역코드', '법정동', '아파트', '전용면적'])['거래금액'].aggregate(['min','max'])"
      ],
      "metadata": {
        "id": "tM47-txOQA5G"
      },
      "execution_count": 43,
      "outputs": []
    },
    {
      "cell_type": "code",
      "source": [
        "import numpy as np\n",
        "def get_last(s):\n",
        "  return list(s)[-1]\n",
        "\n",
        "df_recentPrice = df.groupby(['지역코드', '법정동', '아파트', '전용면적']).agg({'거래금액': get_last})\n",
        "df_recentYear = df.groupby(['지역코드', '법정동', '아파트', '전용면적']).agg({'년': get_last})"
      ],
      "metadata": {
        "id": "KpxG5pA-anwN"
      },
      "execution_count": 44,
      "outputs": []
    },
    {
      "cell_type": "code",
      "source": [
        "df_out['최근거래금액'] = df_recentPrice['거래금액']"
      ],
      "metadata": {
        "id": "I7tuHPK34PTV"
      },
      "execution_count": 45,
      "outputs": []
    },
    {
      "cell_type": "code",
      "source": [
        "df_out['최근거래년'] = df_recentYear['년']"
      ],
      "metadata": {
        "id": "e9K6BYeFEJSG"
      },
      "execution_count": 46,
      "outputs": []
    },
    {
      "cell_type": "code",
      "source": [
        "df_out['증감액'] = df_out['max'] - df_out['최근거래금액']"
      ],
      "metadata": {
        "id": "1ZBP89pP8F-U"
      },
      "execution_count": 47,
      "outputs": []
    },
    {
      "cell_type": "code",
      "source": [
        "df_out['증감비율'] = np.round(df_out['증감액']/df_out['max'])*100"
      ],
      "metadata": {
        "id": "YNLr0lZ98z5j"
      },
      "execution_count": 50,
      "outputs": []
    },
    {
      "cell_type": "code",
      "source": [
        "df_out"
      ],
      "metadata": {
        "colab": {
          "base_uri": "https://localhost:8080/",
          "height": 672
        },
        "id": "SLvOlLrw9AOQ",
        "outputId": "37fc5a2d-e58d-4862-b8be-4d5b8e78d9f4"
      },
      "execution_count": 51,
      "outputs": [
        {
          "output_type": "execute_result",
          "data": {
            "text/plain": [
              "                                min     max  최근거래금액  최근거래년    증감액  증감비율\n",
              "지역코드  법정동 아파트        전용면적                                              \n",
              "11110 견지동 대성스카이렉스    116.030  80000  115000  115000   2021      0   0.0\n",
              "                     137.550  90000  126500  126500   2021      0   0.0\n",
              "                     149.720  89000  106000   89000   2020  17000   0.0\n",
              "                     149.800  93000  127000  124000   2021   3000   0.0\n",
              "      교북동 경희궁자이(4단지) 33.982   69500   85000   80000   2021   5000   0.0\n",
              "...                             ...     ...     ...    ...    ...   ...\n",
              "11740 천호동 형인허브빌      75.080   35600   64700   64700   2021      0   0.0\n",
              "                     75.300   37950   37950   37950   2018      0   0.0\n",
              "                     75.400   37000   37000   37000   2017      0   0.0\n",
              "                     75.470   45000   45000   45000   2020      0   0.0\n",
              "                     75.810   42700   42700   42700   2019      0   0.0\n",
              "\n",
              "[28196 rows x 6 columns]"
            ],
            "text/html": [
              "\n",
              "  <div id=\"df-46f7b121-ab53-43f3-b7a6-44eaad8cf6e9\">\n",
              "    <div class=\"colab-df-container\">\n",
              "      <div>\n",
              "<style scoped>\n",
              "    .dataframe tbody tr th:only-of-type {\n",
              "        vertical-align: middle;\n",
              "    }\n",
              "\n",
              "    .dataframe tbody tr th {\n",
              "        vertical-align: top;\n",
              "    }\n",
              "\n",
              "    .dataframe thead th {\n",
              "        text-align: right;\n",
              "    }\n",
              "</style>\n",
              "<table border=\"1\" class=\"dataframe\">\n",
              "  <thead>\n",
              "    <tr style=\"text-align: right;\">\n",
              "      <th></th>\n",
              "      <th></th>\n",
              "      <th></th>\n",
              "      <th></th>\n",
              "      <th>min</th>\n",
              "      <th>max</th>\n",
              "      <th>최근거래금액</th>\n",
              "      <th>최근거래년</th>\n",
              "      <th>증감액</th>\n",
              "      <th>증감비율</th>\n",
              "    </tr>\n",
              "    <tr>\n",
              "      <th>지역코드</th>\n",
              "      <th>법정동</th>\n",
              "      <th>아파트</th>\n",
              "      <th>전용면적</th>\n",
              "      <th></th>\n",
              "      <th></th>\n",
              "      <th></th>\n",
              "      <th></th>\n",
              "      <th></th>\n",
              "      <th></th>\n",
              "    </tr>\n",
              "  </thead>\n",
              "  <tbody>\n",
              "    <tr>\n",
              "      <th rowspan=\"5\" valign=\"top\">11110</th>\n",
              "      <th rowspan=\"4\" valign=\"top\">견지동</th>\n",
              "      <th rowspan=\"4\" valign=\"top\">대성스카이렉스</th>\n",
              "      <th>116.030</th>\n",
              "      <td>80000</td>\n",
              "      <td>115000</td>\n",
              "      <td>115000</td>\n",
              "      <td>2021</td>\n",
              "      <td>0</td>\n",
              "      <td>0.0</td>\n",
              "    </tr>\n",
              "    <tr>\n",
              "      <th>137.550</th>\n",
              "      <td>90000</td>\n",
              "      <td>126500</td>\n",
              "      <td>126500</td>\n",
              "      <td>2021</td>\n",
              "      <td>0</td>\n",
              "      <td>0.0</td>\n",
              "    </tr>\n",
              "    <tr>\n",
              "      <th>149.720</th>\n",
              "      <td>89000</td>\n",
              "      <td>106000</td>\n",
              "      <td>89000</td>\n",
              "      <td>2020</td>\n",
              "      <td>17000</td>\n",
              "      <td>0.0</td>\n",
              "    </tr>\n",
              "    <tr>\n",
              "      <th>149.800</th>\n",
              "      <td>93000</td>\n",
              "      <td>127000</td>\n",
              "      <td>124000</td>\n",
              "      <td>2021</td>\n",
              "      <td>3000</td>\n",
              "      <td>0.0</td>\n",
              "    </tr>\n",
              "    <tr>\n",
              "      <th>교북동</th>\n",
              "      <th>경희궁자이(4단지)</th>\n",
              "      <th>33.982</th>\n",
              "      <td>69500</td>\n",
              "      <td>85000</td>\n",
              "      <td>80000</td>\n",
              "      <td>2021</td>\n",
              "      <td>5000</td>\n",
              "      <td>0.0</td>\n",
              "    </tr>\n",
              "    <tr>\n",
              "      <th>...</th>\n",
              "      <th>...</th>\n",
              "      <th>...</th>\n",
              "      <th>...</th>\n",
              "      <td>...</td>\n",
              "      <td>...</td>\n",
              "      <td>...</td>\n",
              "      <td>...</td>\n",
              "      <td>...</td>\n",
              "      <td>...</td>\n",
              "    </tr>\n",
              "    <tr>\n",
              "      <th rowspan=\"5\" valign=\"top\">11740</th>\n",
              "      <th rowspan=\"5\" valign=\"top\">천호동</th>\n",
              "      <th rowspan=\"5\" valign=\"top\">형인허브빌</th>\n",
              "      <th>75.080</th>\n",
              "      <td>35600</td>\n",
              "      <td>64700</td>\n",
              "      <td>64700</td>\n",
              "      <td>2021</td>\n",
              "      <td>0</td>\n",
              "      <td>0.0</td>\n",
              "    </tr>\n",
              "    <tr>\n",
              "      <th>75.300</th>\n",
              "      <td>37950</td>\n",
              "      <td>37950</td>\n",
              "      <td>37950</td>\n",
              "      <td>2018</td>\n",
              "      <td>0</td>\n",
              "      <td>0.0</td>\n",
              "    </tr>\n",
              "    <tr>\n",
              "      <th>75.400</th>\n",
              "      <td>37000</td>\n",
              "      <td>37000</td>\n",
              "      <td>37000</td>\n",
              "      <td>2017</td>\n",
              "      <td>0</td>\n",
              "      <td>0.0</td>\n",
              "    </tr>\n",
              "    <tr>\n",
              "      <th>75.470</th>\n",
              "      <td>45000</td>\n",
              "      <td>45000</td>\n",
              "      <td>45000</td>\n",
              "      <td>2020</td>\n",
              "      <td>0</td>\n",
              "      <td>0.0</td>\n",
              "    </tr>\n",
              "    <tr>\n",
              "      <th>75.810</th>\n",
              "      <td>42700</td>\n",
              "      <td>42700</td>\n",
              "      <td>42700</td>\n",
              "      <td>2019</td>\n",
              "      <td>0</td>\n",
              "      <td>0.0</td>\n",
              "    </tr>\n",
              "  </tbody>\n",
              "</table>\n",
              "<p>28196 rows × 6 columns</p>\n",
              "</div>\n",
              "      <button class=\"colab-df-convert\" onclick=\"convertToInteractive('df-46f7b121-ab53-43f3-b7a6-44eaad8cf6e9')\"\n",
              "              title=\"Convert this dataframe to an interactive table.\"\n",
              "              style=\"display:none;\">\n",
              "        \n",
              "  <svg xmlns=\"http://www.w3.org/2000/svg\" height=\"24px\"viewBox=\"0 0 24 24\"\n",
              "       width=\"24px\">\n",
              "    <path d=\"M0 0h24v24H0V0z\" fill=\"none\"/>\n",
              "    <path d=\"M18.56 5.44l.94 2.06.94-2.06 2.06-.94-2.06-.94-.94-2.06-.94 2.06-2.06.94zm-11 1L8.5 8.5l.94-2.06 2.06-.94-2.06-.94L8.5 2.5l-.94 2.06-2.06.94zm10 10l.94 2.06.94-2.06 2.06-.94-2.06-.94-.94-2.06-.94 2.06-2.06.94z\"/><path d=\"M17.41 7.96l-1.37-1.37c-.4-.4-.92-.59-1.43-.59-.52 0-1.04.2-1.43.59L10.3 9.45l-7.72 7.72c-.78.78-.78 2.05 0 2.83L4 21.41c.39.39.9.59 1.41.59.51 0 1.02-.2 1.41-.59l7.78-7.78 2.81-2.81c.8-.78.8-2.07 0-2.86zM5.41 20L4 18.59l7.72-7.72 1.47 1.35L5.41 20z\"/>\n",
              "  </svg>\n",
              "      </button>\n",
              "      \n",
              "  <style>\n",
              "    .colab-df-container {\n",
              "      display:flex;\n",
              "      flex-wrap:wrap;\n",
              "      gap: 12px;\n",
              "    }\n",
              "\n",
              "    .colab-df-convert {\n",
              "      background-color: #E8F0FE;\n",
              "      border: none;\n",
              "      border-radius: 50%;\n",
              "      cursor: pointer;\n",
              "      display: none;\n",
              "      fill: #1967D2;\n",
              "      height: 32px;\n",
              "      padding: 0 0 0 0;\n",
              "      width: 32px;\n",
              "    }\n",
              "\n",
              "    .colab-df-convert:hover {\n",
              "      background-color: #E2EBFA;\n",
              "      box-shadow: 0px 1px 2px rgba(60, 64, 67, 0.3), 0px 1px 3px 1px rgba(60, 64, 67, 0.15);\n",
              "      fill: #174EA6;\n",
              "    }\n",
              "\n",
              "    [theme=dark] .colab-df-convert {\n",
              "      background-color: #3B4455;\n",
              "      fill: #D2E3FC;\n",
              "    }\n",
              "\n",
              "    [theme=dark] .colab-df-convert:hover {\n",
              "      background-color: #434B5C;\n",
              "      box-shadow: 0px 1px 3px 1px rgba(0, 0, 0, 0.15);\n",
              "      filter: drop-shadow(0px 1px 2px rgba(0, 0, 0, 0.3));\n",
              "      fill: #FFFFFF;\n",
              "    }\n",
              "  </style>\n",
              "\n",
              "      <script>\n",
              "        const buttonEl =\n",
              "          document.querySelector('#df-46f7b121-ab53-43f3-b7a6-44eaad8cf6e9 button.colab-df-convert');\n",
              "        buttonEl.style.display =\n",
              "          google.colab.kernel.accessAllowed ? 'block' : 'none';\n",
              "\n",
              "        async function convertToInteractive(key) {\n",
              "          const element = document.querySelector('#df-46f7b121-ab53-43f3-b7a6-44eaad8cf6e9');\n",
              "          const dataTable =\n",
              "            await google.colab.kernel.invokeFunction('convertToInteractive',\n",
              "                                                     [key], {});\n",
              "          if (!dataTable) return;\n",
              "\n",
              "          const docLinkHtml = 'Like what you see? Visit the ' +\n",
              "            '<a target=\"_blank\" href=https://colab.research.google.com/notebooks/data_table.ipynb>data table notebook</a>'\n",
              "            + ' to learn more about interactive tables.';\n",
              "          element.innerHTML = '';\n",
              "          dataTable['output_type'] = 'display_data';\n",
              "          await google.colab.output.renderOutput(dataTable, element);\n",
              "          const docLink = document.createElement('div');\n",
              "          docLink.innerHTML = docLinkHtml;\n",
              "          element.appendChild(docLink);\n",
              "        }\n",
              "      </script>\n",
              "    </div>\n",
              "  </div>\n",
              "  "
            ]
          },
          "metadata": {},
          "execution_count": 51
        },
        {
          "output_type": "stream",
          "name": "stdout",
          "text": [
            "Warning: total number of rows (28196) exceeds max_rows (20000). Limiting to first (20000) rows.\n"
          ]
        }
      ]
    },
    {
      "cell_type": "code",
      "source": [
        "df_all\n"
      ],
      "metadata": {
        "id": "M-DW14Bc_ryw"
      },
      "execution_count": null,
      "outputs": []
    }
  ]
}