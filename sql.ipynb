{
  "nbformat": 4,
  "nbformat_minor": 0,
  "metadata": {
    "colab": {
      "provenance": [],
      "authorship_tag": "ABX9TyPgHkRXVglTg45W4jeKZAKI",
      "include_colab_link": true
    },
    "kernelspec": {
      "name": "python3",
      "display_name": "Python 3"
    },
    "language_info": {
      "name": "python"
    }
  },
  "cells": [
    {
      "cell_type": "markdown",
      "metadata": {
        "id": "view-in-github",
        "colab_type": "text"
      },
      "source": [
        "<a href=\"https://colab.research.google.com/github/hsnam95/my/blob/main/sql.ipynb\" target=\"_parent\"><img src=\"https://colab.research.google.com/assets/colab-badge.svg\" alt=\"Open In Colab\"/></a>"
      ]
    },
    {
      "cell_type": "code",
      "metadata": {
        "id": "6CTzg58RZ8rK"
      },
      "source": [
        "import sqlite3"
      ],
      "execution_count": 38,
      "outputs": []
    },
    {
      "cell_type": "markdown",
      "source": [
        "## **리스트-튜플 데이터 생성**"
      ],
      "metadata": {
        "id": "7ZpKMQ4mGFjE"
      }
    },
    {
      "cell_type": "code",
      "metadata": {
        "id": "0zMrueBBbrnF"
      },
      "source": [
        "friend_data = list(tuple())\n",
        "friend_data.append(('김상욱', 22, '010-4545-6767', '서울특별시 종로구 세종대로 종로 1가'))\n",
        "friend_data.append(('최지훈', 20, '010-7896-1234', '​전라북도 전주시 덕진구 석소로 77, 101동 101호(인후동1가, 대우아파트)'))\n",
        "friend_data.append(('Dr.Bae', 67, '010-8452-5678', '​전라북도 전주시 덕진구 석소2길 21-1(우아동2가)'))\n",
        "friend_data.append(('강서혁', 27, '010-1414-6767', '경상남도 의령군 화정면 화정로 41-6'))\n",
        "friend_data.append(('유민규', 21, '010-6497-6497', '서울특별시 동작구 흑석한강로 2(흑석동)'))"
      ],
      "execution_count": null,
      "outputs": []
    },
    {
      "cell_type": "markdown",
      "metadata": {
        "id": "EKdw-TBAdOaw"
      },
      "source": [
        "## **테이블 생성 및 데이터 삽입**"
      ]
    },
    {
      "cell_type": "code",
      "metadata": {
        "id": "LErKuZM3awgZ"
      },
      "source": [
        "# DB 연결\n",
        "conn = sqlite3.connect('friend.db')\n",
        "\n",
        "# 연결로부터 db 쿼리를 조작하기 위한 커서 객체 생성\n",
        "cur = conn.cursor()\n",
        "\n",
        "# 쿼리-테이블 생성\n",
        "cur.execute(\"\"\"CREATE TABLE IF NOT EXISTS friend_data(\n",
        "  id INTEGER PRIMARY KEY AUTOINCREMENT,\n",
        "  name TEXT,\n",
        "  age INTEGER,\n",
        "  number TEXT,\n",
        "  address TEXT\n",
        "  )\"\"\")\n",
        "\n",
        "# 쿼리(여러행)-데이터 삽입\n",
        "cur.executemany('INSERT INTO friend_data (name, age, number, address) VALUES (?, ?, ?, ?)', friend_data)\n",
        "conn.commit()\n",
        "\n",
        "# 마지막엔 무조건 close() 메소드로 db연결을 해제해야 한다.\n",
        "conn.close()"
      ],
      "execution_count": null,
      "outputs": []
    },
    {
      "cell_type": "markdown",
      "metadata": {
        "id": "nc8ON_8AdS9X"
      },
      "source": [
        "## **데이터 조회**"
      ]
    },
    {
      "cell_type": "code",
      "metadata": {
        "colab": {
          "base_uri": "https://localhost:8080/"
        },
        "id": "PDG7__HcdSeY",
        "outputId": "17fa2562-19e9-4aa5-ffbc-8bf36d5a045a"
      },
      "source": [
        "# DB 연결\n",
        "conn = sqlite3.connect(\"friend.db\")\n",
        "\n",
        "# 연결로부터 db 쿼리를 조작하기 위한 커서 객체 생성\n",
        "cur = conn.cursor()\n",
        "\n",
        "# 쿼리-선택하기\n",
        "cur.execute(\"SELECT * FROM friend_data\")\n",
        "\n",
        "# 불러오기\n",
        "friends = cur.fetchall()\n",
        "\n",
        "for friend in friends:\n",
        "  print(friend)\n",
        "\n",
        "conn.close()"
      ],
      "execution_count": null,
      "outputs": [
        {
          "output_type": "stream",
          "text": [
            "(1, '김상욱', 22, '010-4545-6767', '서울특별시 종로구 세종대로 종로 1가')\n",
            "(2, '최지훈', 20, '010-7896-1234', '\\u200b전라북도 전주시 덕진구 석소로 77, 101동 101호(인후동1가, 대우아파트)')\n",
            "(3, 'Dr.Bae', 67, '010-8452-5678', '\\u200b전라북도 전주시 덕진구 석소2길 21-1(우아동2가)')\n",
            "(4, '강서혁', 27, '010-1414-6767', '경상남도 의령군 화정면 화정로 41-6')\n",
            "(5, '유민규', 21, '010-6497-6497', '서울특별시 동작구 흑석한강로 2(흑석동)')\n"
          ],
          "name": "stdout"
        }
      ]
    },
    {
      "cell_type": "markdown",
      "metadata": {
        "id": "85j9Owr8m0Km"
      },
      "source": [
        "## **데이터 수정**"
      ]
    },
    {
      "cell_type": "code",
      "metadata": {
        "colab": {
          "base_uri": "https://localhost:8080/"
        },
        "id": "ofQrFELOm1-l",
        "outputId": "c4300e63-85fe-4390-be3a-05b6d9d6816a"
      },
      "source": [
        "# DB 연결\n",
        "conn = sqlite3.connect(\"friend.db\")\n",
        "\n",
        "# 연결로부터 db 쿼리를 조작하기 위한 커서 객체 생성\n",
        "cur = conn.cursor()\n",
        "\n",
        "# 쿼리-수정하기\n",
        "cur.execute(\"UPDATE friend_data SET number=? WHERE name=?\", ('010-1234-5678', '최지훈'))\n",
        "\n",
        "# 쿼리-선택하기\n",
        "cur.execute(\"SELECT * FROM friend_data WHERE name=?\", ('최지훈', ))\n",
        "\n",
        "# 불러오기\n",
        "friend = cur.fetchone()\n",
        "\n",
        "print(friend)\n",
        "\n",
        "conn.commit()\n",
        "conn.close()"
      ],
      "execution_count": null,
      "outputs": [
        {
          "output_type": "stream",
          "text": [
            "(2, '최지훈', 20, '010-1234-5678', '\\u200b전라북도 전주시 덕진구 석소로 77, 101동 101호(인후동1가, 대우아파트)')\n"
          ],
          "name": "stdout"
        }
      ]
    },
    {
      "cell_type": "markdown",
      "metadata": {
        "id": "Lv4R4-e3oEib"
      },
      "source": [
        "## **데이터 삭제**"
      ]
    },
    {
      "cell_type": "code",
      "metadata": {
        "colab": {
          "base_uri": "https://localhost:8080/"
        },
        "id": "DsPIyjbuoEGD",
        "outputId": "ef416017-d947-49a7-a6f2-ebe5b152e161"
      },
      "source": [
        "# DB 연결\n",
        "conn = sqlite3.connect(\"friend.db\")\n",
        "\n",
        "# 연결로부터 db 쿼리를 조작하기 위한 커서 객체 생성\n",
        "cur = conn.cursor()\n",
        "\n",
        "# 쿼리-삭제하기\n",
        "cur.execute(\"DELETE FROM friend_data WHERE name=?\", ('Dr.Bae', ))\n",
        "\n",
        "# 쿼리-선택하기\n",
        "cur.execute(\"SELECT * FROM friend_data\")\n",
        "\n",
        "# 불러오기\n",
        "friends = cur.fetchall()\n",
        "\n",
        "for friend in friends:\n",
        "  print(friend)\n",
        "\n",
        "conn.commit()\n",
        "conn.close()"
      ],
      "execution_count": null,
      "outputs": [
        {
          "output_type": "stream",
          "text": [
            "(1, '김상욱', 22, '010-4545-6767', '서울특별시 종로구 세종대로 종로 1가')\n",
            "(2, '최지훈', 20, '010-1234-5678', '\\u200b전라북도 전주시 덕진구 석소로 77, 101동 101호(인후동1가, 대우아파트)')\n",
            "(4, '강서혁', 27, '010-1414-6767', '경상남도 의령군 화정면 화정로 41-6')\n",
            "(5, '유민규', 21, '010-6497-6497', '서울특별시 동작구 흑석한강로 2(흑석동)')\n"
          ],
          "name": "stdout"
        }
      ]
    },
    {
      "cell_type": "markdown",
      "source": [
        "##**데이터 프레임으로 저장**"
      ],
      "metadata": {
        "id": "QdXxnMaXGdFF"
      }
    },
    {
      "cell_type": "code",
      "metadata": {
        "id": "QgT4uZjqE7Hy"
      },
      "source": [
        "import pandas as pd\n",
        "\n",
        "# DB 연결\n",
        "conn = sqlite3.connect('friend.db')\n",
        "\n",
        "# 연결로부터 db 쿼리를 조작하기 위한 커서 객체 생성\n",
        "cur = conn.cursor()\n",
        "\n",
        "# 쿼리-선택하기\n",
        "cur.execute(\"SELECT * FROM friend_data\")\n",
        "\n",
        "# 불러오기\n",
        "friends = cur.fetchall()\n",
        "\n",
        "# 객체로부터 테이블 컬럼명 가져오기\n",
        "column_name = [column[0] for column in cur.description]\n",
        "\n",
        "# 데이터 프레임 만들기\n",
        "frame = pd.DataFrame.from_records(data=friends, columns=column_name)\n",
        "\n",
        "conn.close()\n",
        "\n",
        "frame"
      ],
      "execution_count": null,
      "outputs": []
    },
    {
      "cell_type": "markdown",
      "source": [
        "##**CSV를 SQL로**"
      ],
      "metadata": {
        "id": "TNFJ3sMOG6m0"
      }
    },
    {
      "cell_type": "code",
      "execution_count": null,
      "metadata": {
        "id": "0FuhiiKHUbz7"
      },
      "outputs": [],
      "source": [
        "import pandas as pd\n",
        "\n",
        "# DB 연결\n",
        "conn = sqlite3.connect('out.db')\n",
        "\n",
        "# 연결로부터 db 쿼리를 조작하기 위한 커서 객체 생성\n",
        "cur = conn.cursor()\n",
        "\n",
        "# 쿼리-테이블 생성\n",
        "cur.execute(\"\"\"CREATE TABLE IF NOT EXISTS out_data(\n",
        "  ID INTEGER,\n",
        "  거래금액 INTEGER,\n",
        "  거래유형 TEXT,\n",
        "  건축년도 INTEGER,\n",
        "  년 INTEGER,\n",
        "  법정동 TEXT,\n",
        "  아파트 TEXT,\n",
        "  월 INTEGER,\n",
        "  일 INTEGER,\n",
        "  전용면적 FLOAT,\n",
        "  중개사소재지,\n",
        "  지번 TEXT,\n",
        "  지역코드 TEXT,\n",
        "  층 INTEGER,\n",
        "  해제사유발생일 TEXT,\n",
        "  해제여부 TEXT\n",
        "  )\"\"\")\n",
        "\n",
        "# CSV를 데이터 프레임으로 읽기\n",
        "df = pd.read_csv('out.csv')\n",
        "\n",
        "# 데이터 프레임를 SQL로 연결\n",
        "df.to_sql('out_data', conn, if_exists='replace', index = False)\n",
        "\n",
        "# 쿼리-선택하기\n",
        "cur.execute(\"SELECT * FROM out_data\")\n",
        "\n",
        "# 불러오기\n",
        "out = cur.fetchall()\n",
        "\n",
        "# SQL을 데이터 프레임으로\n",
        "df = pd.read_sql('''SELECT * FROM out_data''', conn)"
      ]
    },
    {
      "cell_type": "code",
      "source": [
        "cur.execute(\"SELECT 거래금액, 아파트 FROM out_data where 전용면적 < 60 AND 건축년도 > 2000\")\n",
        "out = cur.fetchall()\n",
        "out"
      ],
      "metadata": {
        "id": "_E3MZSriQJF6"
      },
      "execution_count": null,
      "outputs": []
    },
    {
      "cell_type": "markdown",
      "source": [
        "e.g. SELECT COL, COL FROM TABLE WHERE COL (부/등호, LIKE, BETWEEN AND)"
      ],
      "metadata": {
        "id": "LdUuiZSWS5ko"
      }
    }
  ]
}