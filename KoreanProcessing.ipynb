{
  "nbformat": 4,
  "nbformat_minor": 0,
  "metadata": {
    "colab": {
      "name": "KoreanProcessing.ipynb",
      "provenance": [],
      "authorship_tag": "ABX9TyMG2482xsPSvlHwb8hBQaGB",
      "include_colab_link": true
    },
    "kernelspec": {
      "name": "python3",
      "display_name": "Python 3"
    },
    "language_info": {
      "name": "python"
    }
  },
  "cells": [
    {
      "cell_type": "markdown",
      "metadata": {
        "id": "view-in-github",
        "colab_type": "text"
      },
      "source": [
        "<a href=\"https://colab.research.google.com/github/hsnam95/my/blob/main/KoreanProcessing.ipynb\" target=\"_parent\"><img src=\"https://colab.research.google.com/assets/colab-badge.svg\" alt=\"Open In Colab\"/></a>"
      ]
    },
    {
      "cell_type": "code",
      "metadata": {
        "id": "gwovXhdLsM1M",
        "colab": {
          "resources": {
            "http://localhost:8080/nbextensions/google.colab/files.js": {
              "data": "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",
              "ok": true,
              "headers": [
                [
                  "content-type",
                  "application/javascript"
                ]
              ],
              "status": 200,
              "status_text": ""
            }
          },
          "base_uri": "https://localhost:8080/",
          "height": 106
        },
        "outputId": "23be6aa4-c99b-4930-e8a9-6c7624331b9e"
      },
      "source": [
        "from google.colab import files\n",
        "uploaded = files.upload()"
      ],
      "execution_count": 1,
      "outputs": [
        {
          "output_type": "display_data",
          "data": {
            "text/html": [
              "\n",
              "     <input type=\"file\" id=\"files-9bf3b4c3-f817-4363-a6e0-041231212fb4\" name=\"files[]\" multiple disabled\n",
              "        style=\"border:none\" />\n",
              "     <output id=\"result-9bf3b4c3-f817-4363-a6e0-041231212fb4\">\n",
              "      Upload widget is only available when the cell has been executed in the\n",
              "      current browser session. Please rerun this cell to enable.\n",
              "      </output>\n",
              "      <script src=\"/nbextensions/google.colab/files.js\"></script> "
            ],
            "text/plain": [
              "<IPython.core.display.HTML object>"
            ]
          },
          "metadata": {
            "tags": []
          }
        },
        {
          "output_type": "stream",
          "text": [
            "Saving kaistcorpus_written_raw_or_literature_poem_ga0201-001.txt to kaistcorpus_written_raw_or_literature_poem_ga0201-001.txt\n",
            "Saving kaistcorpus_written_raw_or_literature_poem_ga0201-002.txt to kaistcorpus_written_raw_or_literature_poem_ga0201-002.txt\n"
          ],
          "name": "stdout"
        }
      ]
    },
    {
      "cell_type": "code",
      "metadata": {
        "id": "JA8yoJk8sWdt",
        "colab": {
          "base_uri": "https://localhost:8080/"
        },
        "outputId": "43e14422-f8a4-41a4-f5ee-c2792833afb1"
      },
      "source": [
        "import re\n",
        "\n",
        "file_name = uploaded.keys()\n",
        "sent_tok = []\n",
        "file_name = list(file_name)\n",
        "\n",
        "# identify endocing\n",
        "# import chardet\n",
        "# with open(file_name[0], 'rb') as f:\n",
        "#   result = chardet.detect(f.read())\n",
        "# result['encoding']\n",
        "\n",
        "result = uploaded[file_name[0]].decode(\"EUC-KR\")\n",
        "pattern = '(?<=&{ ).+(?=}&)'\n",
        "x = re.findall(pattern, result)\n",
        "\n",
        "x_sub = [];\n",
        "for i in x:\n",
        "  tmp = re.sub('\\\\\\\\\\\\\\\\', '\\\\r\\\\n', i)\n",
        "  tmp = re.sub('\\\\\\\\', '\\\\r', tmp)\n",
        "  x_sub.append(tmp)\n",
        "\n",
        "x_sub"
      ],
      "execution_count": null,
      "outputs": [
        {
          "output_type": "execute_result",
          "data": {
            "text/plain": [
              "[' 그림 그리기를 시작했다.\\r겨울같이 단순해지기로 했다.\\r창밖의 나무는 잠들고\\r形象의 눈은\\r헤매는 자의 뼈 속에 쌓인다.\\r\\n항아리를 그리기 시작했다.\\r빈 들판같이 살기로 했다.\\r남아 있던 것은 모두 썩어서\\r목마른 자의 술이 되게 하고\\r자라지 않는 사랑의 풀을 위해\\r어둡고 긴 內面의 길을\\r핥기 시작했다.\\r\\n',\n",
              " ' 最後라고 속삭여다오.\\r벌판에 버려진 不貞한 裸木은\\r알고 있어, 알고 있어,\\r초저녁부터 서로 붙잡고\\r부딪치며 다치며 우는 소리를.\\r\\n목숨을 걸면 무엇이고\\r무섭고 아름답겠지.\\r나도 목숨 건 사랑의\\r연한 피부를 쓰다듬고 싶다.\\r\\n날아도날아도 끝없는\\r成年의 날개를 접고\\r창을 닫는다. 빛의\\r모든 슬픔을 닫는다.\\r\\n',\n",
              " ' 내가 난 해는 1939년이지만\\r그보다 7 . 8년 전 내가 살던 곳에는\\r귀 아무리 기울여도 들리지 않는\\r가는 비가 며칠째 내리고 있었다.\\r\\n나는 그러니까 창문이었겠지.\\r보라빛 꽃이 안개같이 많이 보이고\\r비 속에서 그 꽃이 지고 있었다.\\r나는 문득 튼튼한 사내가 되고 싶었다.\\r\\n',\n",
              " ' 몸을 움직일 때마다\\r깊고 신하게 귀에 들려 오는\\r소리를 들은 적 있어.\\r\\n고통받고 있는 것 알면서도\\r평화는 돌아와 주지 않던\\r무용수의 절망을 본 적 있어.\\r\\n몸부림칠수록 작아지고\\r어두움이 두껍게 칠해지던\\r무용수의 꿈을 본 적 있어.\\r\\n두 팔을 높이 올렸다.\\r두 손을 폈다\\r머리를 치켜 들었다\\r온 몸을 흔들었다\\r어둡다, 어둡다,\\r흔들다가 쓰러졌다가\\r다시 일어났다.\\r무대의 전 세계가 흔들리고\\r소름끼치게 무서운\\r무용수의 자유를 본 적 있어.\\r두 눈에서는 불빛이 뻗던\\r자유의 가장 뜨거운 얼굴을 본 적 있어.\\r\\n',\n",
              " ' 우리가 모두 떠난 뒤\\r내 영혼이 당신 옆을 스치면\\r설마라도 봄 나뭇가지 흔드는\\r바람이라고 생각지는 마.\\r\\n나 오늘 그대 알았던\\r땅 그림자 한 모서리에\\r꽃 나무 하나 심어 놓으려니\\r그 나무 자라서 꽃 피우면\\r우리가 알아서 얻은 모든 괴로움이\\r꽃잎 되어서 날아가 버릴 거야.\\r\\n꽃잎 되어서 날아가 버린다.\\r참을 수 없게 아득하고 헛된 일이지만\\r어쩌면 세상 모든 일을\\r지척의 자로만 재고 살 건가.\\r가끔 바람 부는 쪽으로 귀 기울이면\\r착한 당신, 피곤해져도 잊지 마,\\r아득하게 멀리서 오는 바람의 말을.\\r\\n',\n",
              " ' 당신 허리 근처를\\r물어 주겠다.\\r安息의 나이가 되면.\\r\\n장갑을 껴도 까칠하게 트는\\r내 不眠의 겨울 손으로\\r당신 등을 쓸어 내리겠다.\\r오래 내리겠다.\\r\\n겨울 밤의 靜寂 속으로\\r매해 참아 오던 暴雪처럼\\r당신을 덮겠다.\\r\\n당신 귀에 입을 대고\\r당신 입은 목에 대고\\r노래의 잔털도 보여 주겠다.\\r\\n그 겨울이 아무리 추울지라도\\r눈물은 눈물끼리 섞이게 하고\\r물은 물끼리 흔들리게 하고.\\r\\n',\n",
              " ' \\x01#& 날자.\\r이만큼 살았으면 됐지.\\r헤매고 부닺치면서 늙어야지.\\r\\n(外國은 잠시 여행에 빛나고\\r이삼년 공부하기 알맞지\\r십년이 넘으면 外國은\\r참으로 우습고 황량하구나.)\\r\\n자주 보는 꿈 속의 나비\\r우리가 허송한 시간의 날개로\\r바다를 건너는 나비,\\r나는 매일 쉬지 않고 날았다.\\r絶望하지 않고 사는 表情\\r절망하지 않고 들리는 音樂.\\r\\n\\x02#& 그래서 절망하지 않은 몸으로\\r비가 오는 날 저녁\\r한국의 港口에서\\r당신을 만나고 싶다.\\r낯선 길에 서 있는 木蓮은\\r꽃피기 전에 비에 지고\\r비 맞은 나비가 되어서라도\\r그날을 만나고 싶다.\\r\\n',\n",
              " ' 外國에 십년도 넘게 살면서\\r향기도 방향도 없는 바람만 만나다 보면\\r헐값의 虛榮은 몇 개쯤 생길 수 있지.\\r\\n호박잎 쌈을 싸 먹고 싶다.\\r익은 호박잎 잔털 끝에\\r목구멍이 칼칼해지도록.\\r목포 앞바다의 생낙지도\\r동해의 팔팔한 물오징어도.\\r\\n배가 부르면 마라돈도 뛰고 싶다.\\r6.25 전이었기는 하지만 매일 저녁 맨발로 뛰던\\r우물집 세천이와 생선 가게 광수랑 같이\\r창경원, 돈화문, 종로 삼가, 사가, 오가\\r숨이 차서 돌아오던 혜화동 로터리쯤.\\r\\n이젠 그런 세월이 아니라면\\r산보라도 하고 싶다.\\r유난히 이쁜 계집애 많던 명륜동 뒷골목을\\r아침이나 저녁이나 비슷하게 끓던 골목,\\r팍팍한 그 된장찌개도 먹고 싶다.\\r\\n이제 알 듯도 하다.\\r돌아가신 先親이 다 던지고 귀국하신 뒤\\r아쉬움 속에서도 즐기시던 당신의 가난을,\\r가난 속에서 알뜰히 즐기시던 몇 개의 허영을.\\r\\n',\n",
              " ' \\x01#& 豫科時節에는 개구리 잡아 목판에 四肢를 못 박고 산 채로 배를 째고 內臟을 주물럭거리고 이것이 콩팥, 이것이 염통 외어도 봤지만, 개구리 뱃속의 構造를 알아 보아야 사실 그게 개구리와 무슨 상관인가. 개구리는 자꾸 일찍 죽고 싶었겠지.\\r\\n그때는 논밭이었던 불광동에 나가 개구리 잡아 삶아서 뼈를 추리고 그 뼈를 다시 탈색시키고 흰 매니큐어로 관절을 붙였지만, 그 희고 아름답고 향기로운 骨格도 역시 개구리와는 상관 없는 것이었군.\\r\\n잘 가라. 눈에 문득 보이는 몇 개의 꽃들, 그 시절에 피 흘리고 물러나던 몇 개의 꽃들. 서로서로 상관 없음을 알고 난 후에도 洗練되지 않았던 우리들의 아름다움과 勇氣여, 안녕!\\r\\n\\x02#& 개구리같이 산다.\\r배 고플 때 먹고 밤되면 자고\\r週末에는 뜨거운\\r찜질이나 하고.\\r\\n적당히 낮은 물속\\r적당히 높은 언덕\\r흰 머리칼이나 세어 보고\\r잔주름 사이 로숀이나 바르고\\r생각할 것도 없는 임기응변 練習.\\r\\n목 쉰 소리도 씻고 귀도 씻고\\r가끔 보리털이나 태워\\r숭늉이나 해 마시면서\\r맹물같이 있는 듯 없는 듯 사는 練習.\\r\\n개구리가 되어 가는 수수께끼\\r개구리가 늙어 가는 수수께끼.\\r\\n',\n",
              " ' \\x01#& 날씨는 매일 흐렸다.\\r돌을 다듬던 손은 얼고\\r대신 빛나기 시작하는\\r날카로운 돌의 이빨을 본다.\\r길고긴 氷河時代.\\r居處에는 피할 수 없이\\r얼음산의 얼굴 커지고\\r불 타다 남은 그림자를 거두어\\r소리 없이 어는\\r우리들의 뼈를 덮는다.\\r\\n\\x02#& 아껴라, 아껴라,\\r時代의 불.\\r살벌하고 냉엄한 때가 온다.\\r날카로운 石器의 연장도 재가 되고\\r불과 나의 대화가 끝날 때까지,\\r原始人의 눈물로도 감출 수 없던\\r어둡고 긴 밤의 우리들의 꿈.\\r\\n잊지 마라,\\r낮게 타는 불은 산 위에 서고\\r빙판에 붙는 불은\\r우리들의 끝없는 대답이다.\\r\\n',\n",
              " ' \\x01.소리의 發端#& 의학적으로 말하자면, 소리는\\r작고 큰 공기의 흔들림이\\r세 개의 흰 뼈의 다리를 지나\\r드디어 맑은 물에 닿을 때\\r피어나는 것.\\r\\n정확하게 말하자면, 소리는\\r당신 가슴의 수많은 떨림이\\r길고 은근한 여행에서 돌아와\\r드디어 벗은 몸의 밝은 눈을 뜰 때.\\r\\n\\x02. 새 소리#& 마지막 남은 몇 잎의 낙엽이 총 맞은 작은 새가 되어 핏빛으로 비틀거리며 下降하는 소리 들으면서, 나는 손잡아 세워 줄 사람도 없는 空洞의 어두운 날들을 보내고 있었다.\\r올해도 여전히 눈 위에서 어는 어려운 울음 소리를 듣겠군.\\r\\n\\x03.물 소리#& 소년은 종일 자갈돌을 시냇가에 던졌다. 그리고 그 소리가 천천히 하늘로 오르는 것을 보고 있었다. 저녁이 되어 긴 나무 그림자가 시내의 한 끝을 어루만지며 덮는 소리 들릴 때까지, 그래서 이제는 소리가 하늘보다 오히려 물속으로 가라앉는 것까지 유심히 보고 있었다.\\r\\n\\x04.소리의 生態#& 손바닥에 장못을 박던 소리\\r발등을 겹쳐 못 박던 소리\\r높고 메마른 입술에서 현기증 일으키며\\r피 흘리던 사람의 소리 이후\\r\\n소리를 죽이던 소리,\\r작은 소리를 치는 큰 소리\\r큰 소리를 물어 뜯는\\r여러 개의 작은 소리,\\r쓰러지는 소리,\\r소리를 흔들어 깨우는 소리\\r빨리 일어나는 소리.\\r\\n피 흘리던 사람의 소리 이후\\r고통를 받는 자는 느낄 뿐\\r고통의 소리는 나지 않는다.\\r\\n',\n",
              " ' 슬픔의 사랑스러움,\\r豫感의 사랑스러움,\\r귓속에 가득차는\\r소리의 사랑스러움,\\r發情의 사랑스러움.\\r\\n寺院과 湖水와 料理, 혹은\\r십 몇 년 전 명륜동 목욕탕 수증기.\\r寺院과 종소리와 숲의 情景, 혹은\\r서울 近郊의 은행나무 이끼,\\r情景의 아름다움,\\r幻聽의 아름다움,\\r밤늦게 끝까지 들리는\\r發起한 소리의 아름다움.\\r\\n',\n",
              " ' 近來의 마리지오 폴리니나\\r그 주위 친구들의 音聲은\\r이제 귀를 적시지 않고\\r머리털 끝에 이슬같이 묻어 있다.\\r내가 어두울 때 이마를 식혀 준다.\\r\\n많은 神經의 구름이여.\\r한때 못견뎌한 사람 있었기로니\\r아직도 무심한 습기의 두 눈으로\\r깊고 먼 물 건너에서만 흔들리고.\\r\\n近來의 마리지오 폴리니나\\r그 주위 친구들의 律動은\\r온 몸의 상처로만\\r나를 證據해 준다.\\r\\n',\n",
              " ' 詩가 흉허물 없는\\r친구가 마침내 되어\\r바람이 불어도 춥지 않고\\r밤이 되어도 외롭지 않은\\r은근한 불빛으로 비칠 때까지.\\r\\n기다리지 못하고 꽃이 피어도\\r매해 이른 봄 水曜日이면\\r有信한 친구가 되어 訪問하리니\\r그때면 내 이마에도 재를 바르고\\r죽고 사는 이야기는 웃어 넘겨야지.\\r\\n이 길고긴 渴症의 나날,\\r이마의 뜨거운 열과 방황이\\r마침내 재가 되어 날릴 때까지.\\r\\n',\n",
              " ' 즐겨 듣던 音樂이 나무가 되어\\r수천만의 밝고 싱싱한 잎을 흔들면\\r구식의 西洋 하늘을 높이 떠나는 새처럼\\r떠나다오, 내가 그늘에 安住하기 전\\r더 많은 나무가 모여 아우성치는 숲으로.\\r\\n즐겨 듣던 音樂이 번개가 되어\\r추운 밤의 창가에서 불을 밝히면\\r보인다, 어색하던 그 밤의 人性의 불,\\r우리들의 建物은 숨은 손끝에 뜨거워지고\\r눈에는 눈, 가벼운 구름에는 가벼운 구름\\r全身으로 마찰하며 소리나던 불.\\r\\n',\n",
              " ' 아버지는 돌아가신 뒤 주로 金谷 묘지 근처의 언덕을 중심으로 돌아다니시고 때때로 자식 걱정에 잠 못 드시겠지만, 어머니는 십여 년 홀로 사시면서 요즈음은 남의 땅 신혼 시절의 골목길을 걸으신다지. 남동생은 移民 와서 에리湖 근처에 자주 나가 어처구니없어 앉아 있다더니 여동생은 시카고 남쪽 흐린 연기 속에 무얼 하고 있을까.\\r\\n한때는 우리도 따뜻한 中産層家庭이었다. 明倫洞 집에서 매일 머리 맞대고 얼간 꽁치로 저녁을 먹고, 모여 앉아 텔레비 방송극도 보고 가끔은 食後의 과자도 나누어 먹었다. 십년이 겨우 넘은 시간――십년의 爆彈은 우리를 산산이 깨뜨리고 나는 한쪽 破片이 되어 태평양 건너에서 굴러다닌다.\\r\\n그렇다. 파편이라는 뜻을 버릴 수 없다. 긴장의 순간에 빛나던 시간은 사라져 버리고 더 이상 소리낼 수도 폭파될 수도, 불을 지를 수도 없어서 자유로운, 자유로와서 아름다울 수 없는 沈澱의 生活을. 그러나 한낮에도 未知의 땅에서 먼지를 뒤집어 쓰는 파편의 뜻을 버릴 수 없다.\\r\\n',\n",
              " ' 가끔 당신을 만나요.\\r먼 나라 낯선 도시에\\r나는 지금 살지만\\r나를 찾아온 환자 중에서도\\r비슷한 윤곽, 안경과 대머리\\r당신은 미소하시겠지만\\r나는 말없이 반가와서 속으로 울어요.\\r\\n가끔 당신을 만나요.\\r외국어로 대화를 나눌 수밖에 없고\\r가끔 당신의 살이 더 희어지고\\r눈이 파래지더라도\\r당신이 환자들의 고통과 두려움 사이로\\r대견하게 나를 보시는 마음을 알아요.\\r\\n고통을 끝없이 보는 고통을 아시지요.\\r두려움을 지키는 두려움의 계속\\r내가 그 안에서 향방 잃은 표정이 되면\\r어느 여가에 여기까지 오셔요.\\r창밖에서 빗속으로 불러 주시는\\r한밤에도 귀에 익은 목소리 들어요.\\r\\n',\n",
              " ' 낚시질하다\\r찌를 보기도 졸리운 낮\\r문득 저 물속에서 물고기는\\r왜 매일 사는 걸까.\\r\\n물고기는 왜 사는가.\\r지렁이는 왜 사는가.\\r물고기는 平生을 헤엄만 치면서\\r왜 사는가.\\r\\n낚시질하다\\r문득 온 몸이 끓어오르는 대낮,\\r더 이상 이렇게 살 수만은 없다고\\r中年의 흙바닥에 엎드려\\r물고기같이 울었다.\\r\\n',\n",
              " ' &#봄#& 겨우네 돌보지 않던 뜰에서\\r튤립 줄기가 자란다.\\r오래 잊고 지내던 생각의 女人이\\r싱싱한 풀 향기로 내게 온다.\\r\\n&#여름#& 南海 작은 섬 평상에 누워\\r낮잠이 들기 전\\r한 마리 파리 소리\\r그립다.\\r外國의 高級 침대에 누워\\r잠이 오지 않는\\r여름 나이.\\r\\n&#가을#& 아무 데 살아도 이때 쯤에는\\r귀뚜라미 소리가 들려.\\r작은 목소리지만\\r장거리로 멀리가지 오는 말.\\r\\n감추었던 외로움의\\r꼬리는 젖지만\\r비가 오면 담장 밖에는\\r무궁화도 피지.\\r넌 아직은\\r내가 안을 수 있어.\\r\\n&#겨울#& 눈 깊이 내린 저녁\\r딴 都市의 演奏會.\\r파이프 오르간은\\r貧血의 內藏까지 흔들었다.\\r눈 속에 묻힌 背景으로\\r低音이 내리고 있었다.\\r\\n',\n",
              " ' 東歐의 프라하 市를 휩쓸던 希望이\\r未久에 쓰러지고\\r두브체크 首相의 自由의 미소가\\r빗물에 젖어 찢겼다.\\r\\n봄의 國旗는 어둠 속에 지고\\r陰刻으로 서 있는 木造의 레스토랑.\\r鮮血 튀던 旗는 먼지를 쓴 채\\r키 작은 체코슬로바키아 노파가 끓인\\r프라하式 생선국을 마신다.\\r\\n뉴욕 맨해턴 동쪽변의 봄비가\\r나를 다시 注視하기 시작한다.\\r(억울해서 美國에 왔지만\\r이대로 늙는 것은 용기가 아니야\\r바보가 된 용기는 용기가 아니야.)\\r\\n목 쉰 소리 체코슬로바키아 노파의 눈에\\r잃어버린 아들의 뼈가 녹는다.\\r필요 없는 혀들은 잘라서 양념하고\\r뼈까지 다 녹인 생선국.\\r(다시 旗를 들어야지. 다시.)\\r\\n',\n",
              " ' \\x01. 옥저의 삼베#& 중학교 國史時間에 東海邊 함경도 땅, 沃沮라는 작은 나라를 배운 적이 있읍니다. 그날 밤 꿈에 나는 옛날 옥저 사람들 사이에 끼여 조랑말을 타고 좁은 산길을 정처 없이 가고 있었읍니다. 조랑말 뒷등에는 삼베를 조금 말아 걸고 건들건들 高句麗로 간다고 들었읍니다. 나는 갑자기 삼베 장수가 된 것이 억울해 마음을 태웠지만 벌써 때 늦었다고 포기한 채 씀바귀 꽃이 지천으로 핀 고개를 넘어가고 있었읍니다. 드디어 딴 나라의 큰 마을에 당도하고 금빛 요란한 성문이 열렸읍니다. 무슨 이유인지 지금은 잊었지만, 나는 그때부터 이곳에 떨어져 살아야 한다는 말을 들었읍니다. 아버지, 어머니가 옥저 사람이 아닌 것 같은데도 혼자서 이 큰 곳에 살아야 할 것이 두려워 나는 손에 든 삼베 묶음에 얼굴을 파묻고 울음을 참았읍니다. 그때 그 삼베 묶음에서 나던 비릿한 냄새를 나는 아직도 잊을 수 없읍니다. 그 삼베 냄새가 구원인 것처럼 코를 박은 채 나는 누구에겐지도 모르게 안녕, 안녕 계속 헤어지는 인사를 하였읍니다. 아무 것도 보이지 않아 헛다리를 짚으면서도. 어느덧 나는 삼베 옷을 입은 옥저 사람이 되어 있었읍니다. 오래 전 국사 시간에 옥저라는 조그만 나라를 배운 적이 있읍니다.\\r\\n#2.己亥年의 江#& 이 고장의 바람은 어두운 江 밑에서 자라고\\r이 고장의 살과 피는 바람이 끌고 가는 方向이다\\r西小門 밖, 새남터에 터지는 피 江물 이루고\\r脫水된 영혼은 先代의 江물 속에서 깨어난다.\\r안 보이는 나라를 믿는 안 보이는 사람들.\\r\\n희광이야, 두 눈 뜬 희광이야,19세기 조선의 미친 희광이야,\\r눈 감아라, 목 떨어진다, 눈 떨어진다.\\r오래 사는 江은 향기 없는 江\\r斬首한 머리에 떨어지는 빗물 소리는\\r한 나라의 길고긴 슬픔이다.\\x03.對話#& 아빠, 무섭지 않아?\\r아냐, 어두워.\\r인제 어디 갈 거야?\\r가봐야지.\\r아주 못 보는 건 아니지?\\r아니. 가끔 만날 거야.\\r이렇게 어두운 데서만?\\r아니. 밝은 데서도 볼 거다.\\r아빠는 아빠 나라로 갈 거야?\\r아무래도 그쪽이 내게는 정답지.\\r여기서는 재미 없었어?\\r재미도 있었지.\\r근데 왜 가려구?\\r아무래도 더 쓸쓸할 것 같애.\\r죽어두 쓸쓸한 게 있어?\\r마찬가지야. 어두워.\\r내 집도 자동차도 없는 나라가 좋아?\\r아빠 나라니까.\\r나라야 많은데 나라가 뭐가 중요해?\\r할아버지가 계시니까.\\r돌아가셨잖아?\\r계시니까.\\r그것뿐이야?\\r친구도 있으니까.\\r지금도 아빠를 기억하는 친구 있을까?\\r없어도 친구가 있으니까.\\r기억도 못 해주는 친구는 뭐 해?\\r내가 사랑하니까.\\r사랑은 아무데서나 자랄 수 있잖아?\\r아무데서나 사는 건 아닌 것 같애.\\r아빠는 그럼 사랑을 기억하려고 시를 쓴 거야?\\r어두워서 불을 켜려고 썼지.\\r시가 불이야?\\r나한테는 등불이었으니까.\\r아빠는 그래도 어두웠잖아?\\r등불이 자꾸 꺼졌지.\\r아빠가 사랑하는 나라가 보여\\r\\n등불이 있으니까.\\r그래도 멀어서 안 보이는데?\\r등불이 있으니까.\\r\\n――아빠, 갔다가 꼭 돌아와요. 아빠가 찾던 것은 아마 없을지도 몰라. 그렇지만 꼭 찾아 보세요. 그래서 아빠, 더 이상 헤매지 마세요.\\r\\n――밤새 내리던 눈이 드디어 그쳤다. 나는 다시 길을 떠난다. 오래 전 고국을 떠난 이후 쌓이고쌓인 눈으로 내 발자국 하나도 식별할 수 없는 천지지만 맹물이 되어 쓰러지기 전에 일어나 길을 떠난다.\\r\\n',\n",
              " ' 겨울은 어떻게 오던가.\\r빈 뜰에 이른 어두움 내리고\\r빛나던 江물 소리 그치고\\r그 뺨에는 하얀 성애.\\r\\n議政府行이었지,\\r뜻밖에도 눈이 내릴 때\\r마지막 밤 버스에\\r흔들리던 요한 啓示錄,\\r밤새 눈을 맞는\\r孝婦利川徐氏之墓.\\r\\n善終하는 老人의 웃음 끝에도\\r한 줄씩 조용한 눈물.\\r그 눈물의 速度처럼 아직\\r겨울은 혼자서 머물고 있다.\\r\\n',\n",
              " ' 1966년의 내 統計學은\\r50여 명의 殺人\\r200여 명의 死亡診斷.\\r숨 거두는 모습 기다려 보자면\\r사람들은 모두 같아,\\r참으로 외로와 보이더라.\\r한 줄씩 눈물을 흘리면서 헤어지지.\\r\\n내 1966년의 外國은\\r깊은 눈 속 自覺의 손도 얼어\\r이제는 시그마의 記號도 몸에 감춘 채\\r이 實證의 거리에 나서다.\\r\\n',\n",
              " ' \\x01#& 전송하면서\\r살고 있네.\\r\\n죽은 친구는 조용히 찾아와\\r봄날의 물속에서\\r귓속말로 속살거리지,\\r죽고 사는 것은 물소리 같다.\\r\\n그럴까, 봄날도 벌써 어둡고\\r그 친구들 허전한 웃음 끝을\\r몰래 배우네.\\r\\n\\x02#& 醫學校에 다니던 五月에, 屍體들 즐비한 解剖學 敎室에서 밤샘을 한 어두운 새벽녘에, 나는 순진한 사랑을 고백한 적이 있네. 희미한 電球와 屍體들 속살거리는 속에서, 우리는 人肉 묻은 가운을 입은 채.\\r그 일년이 가시기 전에 屍體는 부스러지고 사랑도 헤어져 나는 자라지도 않는 나이를 먹으면서 室內의 彷徨, 室內의 靜寂을 익히면서 걸었네. 홍차를 마시고 싶다던 앳된 患者는 다음날엔 잘 녹은 소리가 되고 나는 멀리 서서도 생각할 것이 있었네.\\r\\n\\x03#& 친구가 있으면\\r물어 보았네.\\r\\n無心히 걸어가는 뒷모습\\r하루종일 시달린 저녁의 뜻을.\\r우연히 잠깨인 밤에는\\r내가 所有한 빈 目錄表를,\\r寂寂한 밤이 부르는 소리를.\\r\\n우리의 內部는\\r깊이 물속에 가라앉고\\r기대하던 그 웃음을\\r물어 보았네.\\r\\n',\n",
              " ' \\x01#& 이렇게 어설픈 都市에서 下宿을 하는 밤에는 월트 디즈니의 漫畵映畵를 보자. 下宿이 허술해서 몽땅 도둑을 맞았으니 煖爐를 때는 이 劇場이 格에 어울리지. 總天然色의 世上에서 나도 메뚜기가 되어 보면, 밖에는 눈이 그칠 새 없이 내리고 혼자 보고 혼자 오는 발이 시리다.\\r\\n\\x02#& 圖書館을 돌다가 無心결에 呼吸器 內科 책 한 권을 뽑았더니, 겉장에는 알 케이 알렉산드리아의 사인이 있고 鐵筆로 쓴――보스톤, 매사추세츠, 1879年 8月 2日. 1879年 8月 2日은 날씨가 흐렸다. 흐려진 鐵筆 글씨, 무덤 속에 있는 內科醫師 알렉산드리아氏의 손자국을 유심히본다. 1966年을 내 책에 記入하고 나도 훌륭한 內科醫師가 될 것이다.\\r\\n\\x03#& 玄關이 있는 집을 가지면 소리 은은한 초인종을 달고, 지나가던 친구를 맞으려고 했었지. 파란 航空葉書로는 편지를 쓰면서 겨울을 사랑하고, 테 없는 眼鏡을 끼고 수염을 조금만 키운 뒤, 조용히 가라앉은 목소리로 헤세의 아우구스투스를 읽으려고 했었지. 이제 당신은 알고 말았군. 길어야 6個月의 對話만이 남은 것, 6個月의 사랑, 6個月의 世上, 6個月의 저녁을, 그리고 나에게 남은 6個月의 傷心을, 6個月의 눈물을 알고 말았군.\\r\\n',\n",
              " ' 나도 당신의 舞踊 같은\\r사랑을 한 적이 있었다.\\r하나의 動作이\\r깊이 가슴에 남아\\r그 무게로 고개를 숙여 버리던\\r그때는 봄이던가, 가을이던가,\\r당신이 尊敬하는 畵家의\\r그 無理한 表情으로\\r나도 층층대를 올라가\\r訪問을 한 적이 있었다.\\r움직이지 않는 당신의 舞踊,\\r소리 없는 音樂,\\r그래도 充滿한 당신의 舞踊만큼\\r安否 없는 사랑을 한 적이 있었다.\\r\\n',\n",
              " ' \\x01#& 당신은 始終\\r맨발로 舞踊하지만\\r우리 어머니,\\r겨울눈도 뿌리는데\\r西大門 시장에서\\r구제품 구두를 사 신고\\r출퇴근 버스에 밟히면서\\r꿈같이꿈같이 舞踊만 아는 어머니.\\r\\n\\x02#& 不隨意筋肉이 수축한다.\\r위궤양을 앓던 大學時節\\r우리의 幕間은 길고\\r모든 計劃은 뿌리뽑혔다.\\r당신의 올린 두 팔에 모이는\\r數萬 메가 볼트의 靜止熱.\\r\\n\\x03#& 舞臺를 올리기 전에\\r相面의 시간과 장소를 確定할 것.\\r照明의 市街地를 벗어나는.\\r이렇게도 좋았던\\r生活의 半徑을 벗어나는\\r天使들의 娛樂.\\r\\n',\n",
              " ' 십여 년 전 한여름에\\r나는 退院했다.\\r밝은 햇살이 나를 향해 웃고\\r都市의 소음도 즐거운 노래 같던\\r십여 년 전 한여름에\\r나는 感謝를 배웠다.\\r\\n여름 꽃이 웃는다.\\r異國의 한 病棟에\\r이제 나는 醫師가 되어\\r퇴원하는 환자에게 꽃을 준다.\\r보이지 않는 꽃,\\r십여 년 전 한여름의\\r내 웃음을 전해 준다.\\r\\n그래서 내 꽃은 긴 여행을 했다.\\r당신은 그 모든 꽃 위에 意味를 주신다.\\r피어나고 落花하고 열매 맺는\\r당신의 香氣.\\r\\n',\n",
              " ' 19世紀의 촛대에 불을 밝히고 윤기 있는 生木의 책상을 빼면, 詩人의 房은 씨암탉의 모이 주머니, 샤갈 先生의 眞珠가 있는 씨암탉이다. 버밀리언色의 작은 눈.\\r\\n그래서 先生은 몇 해 佛蘭西의 우체국장을 지내고 지금은 죽어서 故鄕에 돌아가 닭을 치고 있었다. 詩人의 房은 프랑크푸르트 암 마인의 葉書, 詩人의 房은 歐羅巴의 묘한 郵票다.\\r\\n나는 特別軍事訓練에서 赤十字 마크의 철모를 쓴 채 지쳐 쓰러지고 밤이슬에 선잠을 깨면, 詩人의 房은 열대 식물을 위한 溫室, 地中海를 旅行하던 愛人은 햇볕에 잘 영글은 자갈돌 두 개를 소포로 부쳐 주었다.\\r\\n어느 땐들 우리는 隱遁者의 눈을 존경치 않을 때가 없었지만, 어두운 여름 새벽 산길에서 혼자 눈 뜨면 온 몸에 이슬을 맞는 은둔자의 흐려진 감각을――記憶 중에서도 시들어가는 사랑을 생각지 않을 수 없었다.\\r\\n그렇다. 우리는 한때 世上을 빛나게 하던 中毒症을 가지고 있다. 샤갈 先生의 엽서나 자갈돌 두 개. 나는 그러나 아직도 따뜻한 나의 詩人의 用途나 궁리해 볼 뿐인 것이다.\\r\\n',\n",
              " ' 건넌방 솜이불 속\\r단내나는 구들장을 그리며\\r두 간 방을 주름잡는\\r이마 시린 外風을 그리며\\r外道를 그리며\\r발치에서 겨울 먼지 먹은\\r梅花의 조그만 얼굴을 그리며\\r늦잠 끝에 날으는\\r장농의 늙은 雙鶴을 그리며\\r밖에 나가면,\\r김치독 속의 곰팡이를 그리며\\r맞아, 쪼그리고 앉은 무릎에\\r李氏朝鮮의 毒種 곰팡이.\\r겨울이 오기 전의 아버지,\\r꼿꼿이 누운 골패짝에\\r흔들리던 兩班의\\r새끼손가락.\\r\\n',\n",
              " ' 당신이 살았을 때\\r말하고 웃을 때\\r나는 몸에 큰 가운을 입고\\r김치 생각을 했다.\\r당신이 살았을 때\\r블론드의 寫眞을 자랑할 때\\r나는 어머니 생각을 했다.\\r당신이 죽었을 때\\r6尺 窓밖에는 새벽이 서서 作別하고\\r나는 1分間의 檢診으로\\r죽음을 確認한다.\\r人生은 모르고 지내다\\r돌려 주는 것,\\r밤새 비 오다 그친 病院 뜰\\r潤氣 있는 나무 한 그루,\\r문득 돌아서서 당신을 본다.\\r\\n',\n",
              " ' 내 옆집 브레이셔 할머니는 여름밤 등의자에 앉아 美國移民史를 이야기해 주었다. 뉴욕市의 敎育으로 아직 眼鏡 속에 溫情이 있어도 보이는 쓸쓸한 發音, 자식은 成功을 해 옆에 없고 혼자 사는 2層房에 빛나는 過去의 寫眞들.\\r\\n병원에서 危篤을 알려도 그랬지. 色感 있는 카드와 航空便 꽃다발이 夕陽에 밝아도 訪問客 없는 할머니――당신은 外國醫師의 내 患者. 大國의 외로움은 내 눈에 보인다. 차가운 鐵版剖檢臺에서 骨을 자르고 얼굴 껍질을 벗기고 肉藏을 뜯어내어도, 조용하게 입 다문 당신의 외로움. 내 눈에 보인다.\\r\\n나는 모든 내 患者를 가장 깊이 안다. 病室의 어두운 告白을 듣고, 그 마지막 熱望과 죽음이 오는 소리를 듣는다. 그래서 죽음이 천천히 혹은 돌연히 찾아왔을 때 나는 肉身을 산산이 나누어 病因을 보고, 마침내 텅텅 빈 腹腔의 虛脫한 空間 속에 내 오랜 沈默을 넣고 문을 닫는다.\\r\\n사람이여, 그리웁고 사랑스러운 사람이여. 亡者의 四肢에 힘주던 핏물로써 네 몸을 이제 記憶할 수는 없다. 어느날 우리의 腹腔에서도 이름모를 산꽃이 피고 變形된 生涯가 다시 자라면, 그때 이 現世의 散難한 바람을 다스려 우리는 서로 보리라. 산골짜기 냇물 속에서 만나리라, 사람이여.\\r\\n',\n",
              " ' \\x01#& 당신이 죽은 건 내 誤診 때문만은 아니었지만 당신이 12棟 病室에서 葬禮所로 退勤할 때 나는 退勤할 기운도 용기도 없었네. 용서하게.\\r\\n사실 誤診은 내가 醫師가 된 것이었지. 高等學校 代數試驗때 숱한 誤算은 말해서 試金石이었지만, 당신의 죽음으로는 차운 碑石이 설 뿐이네.\\r\\n生時의 골목길에서 혹은 어느 꿈에서 後悔하고 산다는 사람 만나면 용서해 주게. 당신의 後悔를 나누어 가슴에 안고 있네. 그러나 밤은 뉘우침보다 빨리 온다.\\x03#& 共同墓地를 새벽에 지나면\\r항상 박하 냄새 난다.\\r박하내 나는 4角의 窓\\r그 창밖에서 새벽은\\r안을 보는 연습이 필요하다.\\r천장도 바닥도 모서리도 없는\\r한 個人의 이온化 現象.\\r그 싱싱한 몸을 일으켜\\r밤이면 다시 目見하리니\\r언제 내 손을 깊이 씻어\\r당신의 지문을 찾아내리.\\r\\n',\n",
              " ' 내가 한 아가의 아빠가 되기 전까지는 患者는 늙으나 어리나 患者였고, 내가 아빠가 되기 전까지는 나는 기계처럼 治療하고 그 울음에 보이지 않는 신경질을 내고, 내가 하루하루 크는 귀여운 아가의 아빠가 되기 전까지는 내 같잖은 醫師의 눈에서 憐憫의 작은 꽃 한 번 몽우리지지 않았지.\\r\\n가슴뼈 속에 대못 같은 바늘을 꽂아 비로소 오래 살지 못하는 病을 診斷한 뒤에 나는 네 病室을 겉돌고, 熱氣오른 뺨으로 네가 손짓할 때 나는 또 다시 망연한 나그네가 되었지. 그리고 어느 날 엉뚱한 내 팔에 안겨 숨질 때, 나는 드디어 귀엽게 살아 있는 너를 보았다. 아, 이제 아프게 몽우리졌다. 내 아픔이 물소리되어 낮에도 밤에도 속삭이는구나.\\r\\n미워하지 마라 아가야. 이 땅의 한 곳에서 죽고 나면 그만이라는 覇氣 있는 哲學者의 硏究를 미워하지 마라. 너는 그이들보다 착하다. 나이 들어 자랄수록 健忘症은 늘고, 보이는 것만 보는 눈은 어두워진다. 그이들은 비웃지만 아가야, 너는 죽어서 내게 다시 證明했다. 살아서도 죽어서도 헤어지지 않는다.\\r\\n',\n",
              " ' 내 少時적 장난감은\\r2次大戰 끝에\\r쓰레기가 되고\\r6.25 事變에는\\r호박죽을 먹고\\r진흙을 뭉개고 놀았다.\\r그리고 허기차 쳐다보는\\r여름하늘 구름.\\r\\n내 아가야,\\r어깨가 늘어져 退勤하는\\r아빠를 맞는 아가야,\\r네 눈웃음은 이제\\r唯一한 내 장난감이고\\r나는 네 장난감을 굴리는\\r빈 풀밭이다.\\r\\n네가 잠든 후에도\\r쉽게 잠들지 못하는\\r빈 풀밭이다.\\r\\n',\n",
              " ' \\x01#& 드 뷔시의 등에\\r눈이 또 내린다.\\r1950년대의 막연한 친구들이\\r골방의 외로움을 털고 일어나\\r百合을 본다.\\r젊은 女子는 대체로\\r東洋이고 西洋이고\\r裸身이 더 매력적이지만\\r百合보다 어린 金髮의 꽃을\\r나는 固定시킨다.\\r\\n\\x02#& 靑年이 된 데이빗 오이스트라크가\\r音樂會場을 빠져 나와\\r바이얼린形의 정구채로\\r창창하게 정구를 친다.\\r나는 決定的으로 對決한다.\\r휴게 시간에는\\r戰亂의 땀으로 젖은\\r손바닥을 닦는다.\\r\\n\\x03#& 내가 술만 마신 軍隊時節에\\r분을 바른 孤兒들이\\r合唱을 하면서 나를 慰問했다.\\r모가지가 휘어지는 철모를 쓰고\\r나는 애매하게 慰問을 받았다.\\r시뻘겋게 단 當直室 난로에서\\r구스타브 말러의 魂이\\r벌써 石炭이 되어\\r뜨겁게뜨겁게 타는 것을 보고\\r꽝꽝 얼어붙은 地上에도\\r불꽃이 퍼지기를 몰래 기다렸다.\\r\\n',\n",
              " ' 물이 물을 씻는다.\\r부드러운 물이\\r단단한 물을 비빈다.\\r당신의 부드러운\\r몸을 비빈다.\\r\\n우리들의 사랑도\\r물이었다.\\r겨울에 보이는\\r肉身이 屈曲,\\r明確히 보이지 않는 외로움.\\r\\n목욕을 마치면\\r비 마르는 主日 午後에\\r明倫洞 골목을 빠져 나가는\\r무지개같이,\\r다섯 색깔 정도의 무지개같이\\r가볍고 산뜻한 眩氣症같이.\\r\\n물이 물을 씻는다.\\r透明한 물이\\r透明하지 않은 물을\\r비빈다.\\r\\n時間의 過去와 지금이\\r속살거리는 목욕물 소리,\\r내 肉身의 모든 부분이\\r차고도 투명한 물이 다시 되어\\r明倫洞 2街나 3街에 내리는\\r한겨울의 눈.\\r\\n우리들의 사랑도\\r물이었다.\\r지금 體重에도\\r남아 있는 溫氣.\\r\\n',\n",
              " ' 익숙치 못한 저녁 以後에는\\r커피잔에 뜬\\r바하의 音樂을 마신다.\\r\\n西洋에 몇 해 와서야\\r眞味를 感觸하는\\r遙遠한 거리.\\r\\n그만한 距離를 두고\\r가물에 皮膚가 뜬\\r全羅道 한 끝의 田畓이\\r묵은 신문에서 살아나와\\r갑자기 내 兄弟가 된다.\\r\\n죽으나 사나 兄弟여,\\r당신의 그림자는 길고 여위다\\r그 변치 않는 그림자를\\r황급히 주머니에 쑤셔 넣고\\r천정이 높은 파티에 참석한다.\\r밤에는\\r구겨진 내 그림자를 꺼내어\\r잊어버린 깃발같이\\r흔들어 본다.\\r\\n두툼한 부피의 주머니를,\\r내 그림자의 音樂을\\r요즈음은 불편하도록 實感한다.\\r\\n',\n",
              " ' 永登浦를 안다고 하지 마라.\\r네 묘한 嘲笑로 끝나 버리는\\r永登浦가 아니다.\\r영자도 순자도 봄순이도 있겠지만\\r맘마상 어쩌구로 끝나 버리는\\r永登浦는 아니다.\\r\\n피난을 가서 장바닥을 싸돌고\\r꿀꿀이죽으로 배를 채워 보면 안다.\\r토마토가 고기덩이가 휴지 조각이 함께\\r부글부글 五臟이 끓던 꿀꿀이죽,\\r그 맛을 吟味해 봐서 안다.\\r\\n다시는 고생 안 하리라고\\r낡은 列車에 실린 還都,\\r비록 어두웠고 열차는 오래 서 있었지만\\r渡江證, 渡江證, 渡江證\\r내 열 몇살 핏기 없는 希望이\\r거기에 아직도 오래오래 남아 있다.\\r\\n永登浦를 안다고 하지 마라.\\r明朗한 가발 공장도 섰겠고\\r立體交叉路가 드라이브에 좋다지만\\r내 軍隊 3년의 永登浦에는\\r막걸리와 寒氣만이 있었다.\\r焦燥와 劣等感이 빗물에 늘어져 산발하고\\r공연한 내 精神의 無秩序를 밤마다 토하고 나서\\r오만하게 모든 意味를 구둣발로 차 버리던\\r그리고는 창피해서 골방의 이불을 덮던\\r우리들의 참으로 희귀하고 진하던 靑春.\\r行方不明이 된 우리의 寒氣가\\r닳아빠진 步道나 문방구점 근처로\\r아직도 서성거리고 있을거다.\\r\\n永登浦를 안다고 하지 마라.\\r故國을 떠난 지 벌써 수 년,\\r모든 미스터 제임스 밀러여\\r내 상기되고 떨리는 목소리는\\r스무살의 네 血氣 앞에서 中心을 잃는다.\\r\\n',\n",
              " ' \\x01#& 밤에만 몰래 박꽃이 피더라.\\r나이 들어 淸明해지는 보름달,\\r아버지 晩年의 不眠症은\\r슴슴하게 숭늉 대접에도 보이고\\r몰래 숨어서\\r오히려 마음 어두워지더라.\\r\\n겨울에는 창호지 덧문을 닫고\\r질화로 잿가루를 자꾸자꾸\\r손끝으로 찍어 내시더라.\\r불 꺼라, 이제 자자.\\r어두워서 잘 안 보이는 世上에서\\r크고 작은 野心의 煙滅.\\r\\n\\x02#& 당신을 본다.\\r당신을 본다.\\r萬里外國의 봄날 아침\\r낮은 안개의 속살거림,\\r밤새 흩어진 無邊한 외로움을\\r두 손으로 빗어올리고\\r主日날 飛翔하는\\r새 한 마리.\\r\\n',\n",
              " ' \\x01#& 피곤히 누우신 땅 주위로\\r작게 풀꽃으로 손짓하시다가\\r당신 영혼은 밤에 잠시\\r내 책상가로 散策 오셔\\r말씀을 주신다.\\r먼 길에도 숨결 고르시고\\r이승의 소리보다 몇 갑절 맑고 가볍게\\r당신은 微笑하신다.\\r내 終身토록 더욱 가깝게 보이는\\r당신의 고운 늙으심.\\r\\n\\x02#& 등을 돌린다.\\r모든 事物의 意味에서\\r몸을 돌린다.\\r冷氣의 잠자리가\\r아쉬운 꿈을 解散시킨다.\\r冷情하라.\\r꿈에 冷情하라.\\r문득 地標에도 없는 江山이\\r가슴 위에 산뜻이 선다.\\r\\n',\n",
              " ' 당신의 웃음은\\r無機物質이다.\\r불 태워도 타지 않고\\r땅에 묻어도 도저히\\r변하지 않는\\r不滅의 樂曲이 되어\\r깊이깊이 演奏되는.\\r\\n당신의 웃음은\\r내 居室의 窓이다.\\r내가 당신을 내다볼 때\\r당신은 풀이 되고 나무가 되고\\r바람, 안개도 하늘도 되는,\\r당신의 웃음은\\r어디에 가도 멀리 둘러사는\\r내 風景이다.\\r\\n',\n",
              " ' 내가 내려가는 2病棟 北쪽 의자에는\\r항상 장님 少女가 그림같이 앉아\\r두 손을 모으고 微笑하고 있다.\\r발소리에도 열 일곱 살쯤의 微笑,\\r2病棟 北쪽 어두운 복도에서\\r少女는 매일 무얼 보고 있을까.\\r나는 飛行機를 보고 있었다.\\r나는 책을 보고 있었다.\\r아니, 나는 다리를 보고 있었다.\\r술을 마시고 下衣를 벗기고,\\r아니, 나는 무을 보고 있었다.\\r永登浦 로터리에 아침부터 찬비 내리고\\r나는 비닐우산을 쓰고\\r간밤 宿醉로 식은땀을 흘리면서\\r진흙탕 軍靴에 고이는\\r빗물을 보고 있었다.\\r모든 것이 갑자기 무거워지고\\r오랫동안 참 오랫동안 나는,\\r빗물을 내려다보고 있었다.\\r\\n',\n",
              " ' 그리고 平和한 時代가 오더라.\\r두둥 先代의 북소리 들리고\\r인경 소리 天地에 차고\\r큰 兄弟가 어깨를 붙잡고 울더라.\\r수천년 같은 말 쓰던\\r祖上들이 흙을 털고 일어나더라.\\r바다에서 뭍에서 산지 사방에서\\r눈멀고 귀먹고 목숨 잃은\\r귀신들이 또 미쳐서 만세하더라.\\r巨大한 豫感이 나라에넘치고\\r익숙치 못한 꽃더미의 振動에\\r半島의 허리가 어지러워 쓰러지더라.\\r\\n나는 外國에서 낳고 자라고\\r故國에서 思春期를 보내고\\r다시 外國에 나와 있다.\\r내 思春期의 여름에 남은 記憶은\\r銃과 槍으로 죽은 屍體들\\r천, 십만, 백만의 屍體가\\r죽어서 썩어서, 우물 속에서 끓고\\r장작개비같이 쌓여서 태워서 炭化하고\\r20년이 지나도, 새벽에도 꿈에도\\r내 思春期는 우물 속에 빠지고\\r加害者들의 低音의 合唱으로\\r思春期의 온 몸에는 소름이 돋고.\\r하룻밤만 地球儀를 보며\\r재어 보며, 다시 따져 보면\\r새끼 손톱보다 작은 금수강산에\\r당신 貪慾의 눈이 얼마나 치사한가 보리라.\\r다시 보며 다시 물어 보라.\\r우리보다 불행한 나라\\r불행한 나라들을 손꼽아 보라.\\r가슴을 쳐도 실패는 내 탓이다.\\r不幸은 우리의 탓이다.\\r\\n가위눌린 새벽꿈을 깨고\\r문득 눈물의 흔적을 감촉한다.\\r누가 모든 細雪을 막을 수 있으랴.\\r강토의 틈틈이에 죽은 屍體.\\r그 뼈가루와 눈알의 黃燐, 赤燐을 모아\\r자꾸 꺼지고 자꾸 켜지는\\r수백 만 개 촛불을 밝히리니――\\r\\n그리고 平和한 時代가 오더라.\\r高句麗의 땅도 발해의 벌판도\\r마음이 착해서 주어 버리고\\r國立自然公園이 된 완충 지대,\\r그 公園을 뛰어가는 토끼들을 본다.\\r\\n',\n",
              " ' &#序 一#& 數年前 일이지만, 不安이 버릇되어 밤새 눈을 뜨고 머물고\\r있을 때였읍니다. 4年制 大學의 친구들은 卒業을 하고, 제법 얼굴에 餘裕를 그려 社會를 말할 때, 나는 실없이 彷徨과 술잔 때문에 빼앗긴 時間을 메꾸려고 친히 不眠症을 招請하여 感情을 이어 가던 때였읍니다. 참 아직도 世上은 많이 오르고 있었읍니다만.\\r\\n\\x01#& 어느날 햇볕이 따가운 가을 날 午後에, 나는 2層의 第 3 講義室―― 2,30年 낡은 책상에서, 2,30年 닦은 머리로 産科講義를 받고 있었읍니다.\\r마침 애기는, 어머니 骨盤에서 머리를 꾸부리고, 밖으로 한 바퀴 돈 뒤, 머리를 내밀고 있었고, 어머니는 直徑 십 센티나 버려지는 아픔을 그 特有한 모습으로 甘受해야 했읍니다. 그러나 한 生命의 誕生은 그 아픔보다 더 貴한 것이어서, 드디어 어머니의 아픔을 대신 몸에 휘감고 울음을 터뜨리는 것이었읍니다. 어머니!\\r人間은, 그렇다면 이렇게 생기고생겨서 땅 위에 넘치고,\\r햇볕이 따갑게 내려 나를 여물도록 하는 것일까요? 당신이 다시 한번 注視한다면 世上을 조금 잃게 되고, 애기는 다시 그 아픔을 體驗하게 되는 것일까요?\\r\\n\\x02#& 내가 講義를 받던 그 數年前의 講義室에서는, 50여 년 동안 천여 명의 나의 先輩들이 거쳐 나간 곳이었읍니다, 記憶 나시겠지만――. 나는 講義에 熱中하다가(熱中한다는 건 몸에 좋다는군요) 壁에 기대었읍니다. 壁은 내게서 不安을 가져가 버리고, 壁은 내게서 未知에의 跳躍을 延期시켜 주고 있었읍니다. 철늦은 파리는 놀래서 애기와 어머니의 사이로 달아나고, 壁은 계속해서 몸과 머리를 차게 만져 주었읍니다.\\r그러다가 문득, 내가 기대인 壁 저쪽에는, 屍體들이 나란히 누워 있는 人體解剖實習場이라는 걸 알았읍니다. 내게 술과 담배를 가르쳐 주고, 다시 그 속에서 詩를 써 주고, 宗敎를 發生시켜 준, 내 未來의 친구들이 누워 있는 곳――美術을 공부하는 아가씨는 보라색과 흙색을 충분히 섞어서 그리면, 그중 實質的인 畵家가 되기에 알맞는 屍體들――실은 自己는 아니라고 믿기 때문에 빈번히 失敗를 할 뿐이지만――보십시요. 의젓한 生命의 나들이옷을.\\r\\n\\x03#& 天井에는 灰壁이 이럭저럭 벗겨져서 그 優雅한 모습이 한층 彫刻을 聯想시키는데. 저 많은 파리 떼들은 人肉을 빨아 먹다가 人肉에 배인 불안을 토해내고 있었읍니다. 그런데 아하, 한 개, 두 개, 또 한 개―― 노란 햇빛이 춤을 추는군, 또 그 친구들의 所行이겠지.\\r\\n敎室의 뒷쪽, 窓밖으로는 바로 골목이 있었읍니다. 우리의 神經만큼이나 複雜한 골목이, 軍用 텐트로 지붕을 만든 판자집 바라크, 판자집 사이로 말입니다. 내려다보면 몇 미터, 또 이 친구들입니다, 물론 훨씬 잘 記憶이 나시겠지만. 아가씨들은 낮에는 찾아오는 손님이 적어, 아침 잠을 깨고 나면 세수도 안 하고 늘상 이짓입니다. 破鏡을 당한 女人이 들고 온 거울쪽을 들고 햇빛을 敎室 안으로 굴려 보내는 것이었읍니다. 내려와! 내려와! 공짜로 해 줄께! 靑春을 謳歌하는 노랫소리는 밤새 부지런히 나들던 손님들한테서 배우고 우리에게 가르쳐 준다는 것이었읍니다. 내려와! 내려와!\\r우리는 恍惚한 햇빛의 장난을 보다가 모짤트의 클라리넷을 듣는 기분으로 눈이 빛나고 상쾌해지기 始作했읍니다. 내려와! 내려와! 글쎄, 내려오라니까! 우린 아직도, 편안한 마음으로 저만큼에서, 남들의 이야기를 듣듯이 音樂을 들을수가 없었읍니다.\\r\\n\\x04#& 産科時間은 결국, 잘못 걸린 難産의 姙婦를 어떻게 지켜보면서 要領 있게 새우잠을 잘 수 있는지의 문제를 남겨 놓고 끝이 났읍니다. 産科時間이 끝이 나면서 비가 오기 始作했읍니다. 내 버릇은 무엇이건 끝이 나면 다시 자연스럽게 始作되는 것이지만.\\r물론 그 가을에는 어쭙지않은 단풍 구경도 못 가 보고 말았읍니다. 陰散한 빗소리에 明朗하던 ＜내려와 아가씨＞들은 그들의 꿈의 宮殿으로 들어가 버렸고 저쪽편 窓 밑에서는 心魂을 울리는 노래가 들려오고 있었읍니다. 엇비슷이 서 있는 單層의 病理剖檢室에서였겠지요. 붉은 벽돌담에 두 손을 대고 늙수그레한 朝鮮 토박이 女子와 갓 스무살이나 됐음직한 學生이, 順아, 順아를 부르고 壁을 두드리면서 장단을 맞추고 있었읍니다.\\r그러나 우리는 허구헌 날, 이 第 3 講義室에서 매일 한두차례씩 이런 노래를 들어 왔읍니다. 처음 얼마는 내 목을 메이게 하고, 다음 얼마는 나를 肅然한 思索의 姿勢로 만들어 놓더니, 그것이 지나고는 차차 귀머거리 병신이 되었는가싶게 無心하였지만, 요즈음에 와서는 드디어 귀가 트이어 音樂으로 들리고 있었읍니다. 말하자면 中央 아시아의 曠野에서 듣는 것 같은 音樂으로 말입니다. 그러나 비가 오고, 가을은 흠씬 익어서 나뭇잎마다에 구슬을 다는데, 나는 문득 어린날의 抒情이 물결일고 있음을 느꼈읍니다. 順아, 順아, 너랑나랑 같이 살면 매일매일 웃고 지내자. 우리 말을 떠듬대던 내게는, 온 世上에 꼭 하나 이쁜 順이가 있었읍니다만. 아이고, 아이고, 가엾어라, 順아, ――애엄마의 쉰 목소리는 늙고 힘없었지만 비 젖은 긴 머리채와 광목치마로 울음은 흔들려 나왔었읍니다.\\r順한 아이는 먼저 죽고, 剖檢室에서는 나의 先輩가 剖檢臺 위에 順아를 올리고 가슴을 톱질하여 肺와 心藏을 뜯어내고, 骸骨을 톱질하여 腦를 들어내고 잇었읍니다(나는 항상 腦를 만질 때는 두부로 誤認하고 기분좋은 느낌으로 짜르곤 했읍니다만). 피는 흥건히 괴어 順아가 살아 있던 날을 記憶나게 해 주었읍니다. 도마를 들고 肝을 채쓸러 들어가는 女醫師는 얼마나 高尙한 분인 줄 아십니까? 요즈음은 한창 데이트 하기에 흥이 넘쳐 있었읍니다. 다행히도 비는 세차게 내려, 지친 母子의 울음 소리도 그치고 女醫師님은 레인 코우트를 입고 가을 길을 걸으면서 肝으로 서로 나눌 體溫을 벌써부터 느끼고 있었읍니다. 물론 無料患者였으니까 할 수 없는 노릇이었지요. 法은 틀림없이 모두들 安全하게 지켜 주고 있었읍니다.\\r\\n\\x05#& 講義는 끝이 나고, 나는 가방을 들고 第 3 講義室을 빠져 나가야만 했읍니다. 오늘은 우선 골방에서 도사리고 있는 친구에게 에스 엠을 注射해 주고, 新大陸을 찾아서 떠나는 어릴 적부터의 女子 친구를 만나야 했읍니다. 이 女子 친구는, 내가 더 어릴 때는 어디고 할 것 없이 귀엽고 탐스럽기만 하더니, 몇 년이 지나니까 나보다 훨씬 앞서 가면서 드디어 호화롭게 되었읍니다.\\r나는 주머니를 뒤져 비닐우산을 사야겠다고 했지만 아무래도 이 女子 친구에게는 비닐우산이 미안해할 것 같아 망설이지 않을 수 없었읍니다. 그러나 나는 언제고 이 女子 친구 앞에서는 망설이기만 했기 때문에, 비닐우산은 도리어 내게 어울리겠지 하는 생각이 들었읍니다.\\r문득 輪廻說! 第 3 講義室에는 지금도 애기는 새로 태어나고,＜내려와 아가씨＞들은 밥을 많이 먹고 靑春의 絶頂을 流行歌調로 불러제끼면, 屍體들은 얼마쯤 世上을 비웃는 듯이 表情 짓고 天井을 향해 祈禱를 할 것이고―― 그리고 剖檢室 壁에 아직 기대인 母子는, 죽음과 少女의 휘날레를 언제쯤 그칠 것인지, 그러나 문득 輪廻說!\\r나는 다시 망설이다가 輪廻說보다 우선 칼칼한 배고픔을 느꼈읍니다. 그때는 人工衛星을 띄우던 科學의 時代였으니까요. 나는 가방을 든 채 나만큼 망설이고 있는 비닐우산을 집고 막걸이 집으로 들어갔읍니다. 여기가 나의 講義室인 것처럼…….\\r\\n&#序 二#& 이제 나를 기다리던 골방 속의 친구는 새로 푸르른 젊음을 장만할 것이고, 新大陸을 향한 敬虔한 祈禱는 아주 옛날에 나와 함께 꿈꾸던 少女를 잠깨워 데리고 갈 것입니다. 그래도 무엇인가 아쉬워서 그 다방에서 조금 기다리다가 떠날 것입니다. 결국은 반드시 웃고 떠날 것입니다.\\r참, 오랫동안 기다리셨읍니다. 第 3 講義室에서 뜨겁게 지글지글 곱창을 굽고 있는 학생들이여. 지금 밖에는 길이 무너지게 비가 오고 있읍니다. 길은 마침내 遮斷되어야만 하고 나는 남아서, 남아 있는 막걸리를 마시겠읍니다. 이 비가 개이면 나는 조금 더 成長할 것입니다. 물론 아직도 世上을 무척도 모르고 있읍니다만――. 참 오랫동안 기다리셨읍니다.\\r\\n']"
            ]
          },
          "metadata": {
            "tags": []
          },
          "execution_count": 29
        }
      ]
    },
    {
      "cell_type": "code",
      "metadata": {
        "id": "4x1rIonSA6iB"
      },
      "source": [
        "\n",
        "for i in file_name:\n",
        "  text = uploaded[i].decode(\"EUC-KR\")\n",
        "  for r in text:\n",
        "    pattern = '(?<=: ).+(?=[\\.|\\?|\\!])'\n",
        "    x = re.search(pattern, r)\n",
        "    if x != None:\n",
        "      tmp = x.group()\n",
        "      sent_tok.append(tmp)\n",
        "\n",
        "str = '.\\r'\n",
        "paragraph = str.join(sent_tok)\n",
        "\n",
        "with open(\"example.txt\", \"w\") as text_file:\n",
        "    print(paragraph, file=text_file)\n",
        "\n",
        "files.download('example.txt')"
      ],
      "execution_count": null,
      "outputs": []
    }
  ]
}