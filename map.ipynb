{
  "nbformat": 4,
  "nbformat_minor": 0,
  "metadata": {
    "colab": {
      "provenance": [],
      "authorship_tag": "ABX9TyNXyAAqCRYSB0foLim3INC5",
      "include_colab_link": true
    },
    "kernelspec": {
      "name": "python3",
      "display_name": "Python 3"
    },
    "language_info": {
      "name": "python"
    }
  },
  "cells": [
    {
      "cell_type": "markdown",
      "metadata": {
        "id": "view-in-github",
        "colab_type": "text"
      },
      "source": [
        "<a href=\"https://colab.research.google.com/github/hsnam95/my/blob/main/map.ipynb\" target=\"_parent\"><img src=\"https://colab.research.google.com/assets/colab-badge.svg\" alt=\"Open In Colab\"/></a>"
      ]
    },
    {
      "cell_type": "markdown",
      "source": [
        "folium 임포트하기"
      ],
      "metadata": {
        "id": "dPa7rEx2okIa"
      }
    },
    {
      "cell_type": "code",
      "execution_count": 13,
      "metadata": {
        "colab": {
          "base_uri": "https://localhost:8080/"
        },
        "id": "MHgderElobSC",
        "outputId": "d30c7977-90eb-48b1-b90d-ef61e3ed2b2e"
      },
      "outputs": [
        {
          "output_type": "stream",
          "name": "stdout",
          "text": [
            "Requirement already satisfied: folium in ./opt/anaconda3/lib/python3.9/site-packages (0.13.0)\r\n",
            "Requirement already satisfied: branca>=0.3.0 in ./opt/anaconda3/lib/python3.9/site-packages (from folium) (0.5.0)\r\n",
            "Requirement already satisfied: numpy in ./opt/anaconda3/lib/python3.9/site-packages (from folium) (1.21.5)\r\n",
            "Requirement already satisfied: jinja2>=2.9 in ./opt/anaconda3/lib/python3.9/site-packages (from folium) (2.11.3)\r\n",
            "Requirement already satisfied: requests in ./opt/anaconda3/lib/python3.9/site-packages (from folium) (2.28.1)\r\n",
            "Requirement already satisfied: MarkupSafe>=0.23 in ./opt/anaconda3/lib/python3.9/site-packages (from jinja2>=2.9->folium) (2.0.1)\n",
            "Requirement already satisfied: urllib3<1.27,>=1.21.1 in ./opt/anaconda3/lib/python3.9/site-packages (from requests->folium) (1.26.11)\n",
            "Requirement already satisfied: idna<4,>=2.5 in ./opt/anaconda3/lib/python3.9/site-packages (from requests->folium) (3.3)\n",
            "Requirement already satisfied: charset-normalizer<3,>=2 in ./opt/anaconda3/lib/python3.9/site-packages (from requests->folium) (2.0.4)\n",
            "Requirement already satisfied: certifi>=2017.4.17 in ./opt/anaconda3/lib/python3.9/site-packages (from requests->folium) (2022.9.24)\n",
            "folium Version: 0.13.0\n"
          ]
        }
      ],
      "source": [
        "!pip install folium\n",
        "\n",
        "import folium\n",
        "print(f\"folium Version: {folium.__version__}\")\n",
        "\n",
        "\n",
        "# 위도, 경도\n",
        "lat, lon = 37.504811111562, 127.025492036104\n",
        "# 줌 크기\n",
        "zoom_size = 20"
      ]
    },
    {
      "cell_type": "markdown",
      "source": [
        "네이버 지도를 배경지도로 설정하기\n"
      ],
      "metadata": {
        "id": "unmeONPHoms8"
      }
    },
    {
      "cell_type": "code",
      "source": [
        "# 네이버지도 타일 설정\n",
        "tiles = \"https://map.pstatic.net/nrb/styles/basic/1663918673/{z}/{x}/{y}@2x.png?mt=bg.ol.sw\"\n",
        "# 속성 설정\n",
        "attr = \"Naver\"\n",
        "# 지도 객체 생성\n",
        "m = folium.Map(location = [lat, lon],\n",
        "               zoom_start = zoom_size,\n",
        "               tiles = tiles,\n",
        "               attr = attr)\n",
        "folium.Marker(location = [lat, lon]).add_to(m)\n",
        "m"
      ],
      "metadata": {
        "colab": {
          "base_uri": "https://localhost:8080/",
          "height": 647
        },
        "id": "DsAaT6c_opj7",
        "outputId": "5567cf61-b55e-483c-b98d-5b048d524ea1"
      },
      "execution_count": 14,
      "outputs": [
        {
          "output_type": "execute_result",
          "data": {
            "text/plain": [
              "<folium.folium.Map at 0x7fe6c46398b0>"
            ],
            "text/html": [
              "<div style=\"width:100%;\"><div style=\"position:relative;width:100%;height:0;padding-bottom:60%;\"><span style=\"color:#565656\">Make this Notebook Trusted to load map: File -> Trust Notebook</span><iframe srcdoc=\"&lt;!DOCTYPE html&gt;\n",
              "&lt;head&gt;    \n",
              "    &lt;meta http-equiv=&quot;content-type&quot; content=&quot;text/html; charset=UTF-8&quot; /&gt;\n",
              "    \n",
              "        &lt;script&gt;\n",
              "            L_NO_TOUCH = false;\n",
              "            L_DISABLE_3D = false;\n",
              "        &lt;/script&gt;\n",
              "    \n",
              "    &lt;style&gt;html, body {width: 100%;height: 100%;margin: 0;padding: 0;}&lt;/style&gt;\n",
              "    &lt;style&gt;#map {position:absolute;top:0;bottom:0;right:0;left:0;}&lt;/style&gt;\n",
              "    &lt;script src=&quot;https://cdn.jsdelivr.net/npm/leaflet@1.6.0/dist/leaflet.js&quot;&gt;&lt;/script&gt;\n",
              "    &lt;script src=&quot;https://code.jquery.com/jquery-1.12.4.min.js&quot;&gt;&lt;/script&gt;\n",
              "    &lt;script src=&quot;https://maxcdn.bootstrapcdn.com/bootstrap/3.2.0/js/bootstrap.min.js&quot;&gt;&lt;/script&gt;\n",
              "    &lt;script src=&quot;https://cdnjs.cloudflare.com/ajax/libs/Leaflet.awesome-markers/2.0.2/leaflet.awesome-markers.js&quot;&gt;&lt;/script&gt;\n",
              "    &lt;link rel=&quot;stylesheet&quot; href=&quot;https://cdn.jsdelivr.net/npm/leaflet@1.6.0/dist/leaflet.css&quot;/&gt;\n",
              "    &lt;link rel=&quot;stylesheet&quot; href=&quot;https://maxcdn.bootstrapcdn.com/bootstrap/3.2.0/css/bootstrap.min.css&quot;/&gt;\n",
              "    &lt;link rel=&quot;stylesheet&quot; href=&quot;https://maxcdn.bootstrapcdn.com/bootstrap/3.2.0/css/bootstrap-theme.min.css&quot;/&gt;\n",
              "    &lt;link rel=&quot;stylesheet&quot; href=&quot;https://maxcdn.bootstrapcdn.com/font-awesome/4.6.3/css/font-awesome.min.css&quot;/&gt;\n",
              "    &lt;link rel=&quot;stylesheet&quot; href=&quot;https://cdnjs.cloudflare.com/ajax/libs/Leaflet.awesome-markers/2.0.2/leaflet.awesome-markers.css&quot;/&gt;\n",
              "    &lt;link rel=&quot;stylesheet&quot; href=&quot;https://cdn.jsdelivr.net/gh/python-visualization/folium/folium/templates/leaflet.awesome.rotate.min.css&quot;/&gt;\n",
              "    \n",
              "            &lt;meta name=&quot;viewport&quot; content=&quot;width=device-width,\n",
              "                initial-scale=1.0, maximum-scale=1.0, user-scalable=no&quot; /&gt;\n",
              "            &lt;style&gt;\n",
              "                #map_c7e1ee365e48e89803bade825392135d {\n",
              "                    position: relative;\n",
              "                    width: 100.0%;\n",
              "                    height: 100.0%;\n",
              "                    left: 0.0%;\n",
              "                    top: 0.0%;\n",
              "                }\n",
              "            &lt;/style&gt;\n",
              "        \n",
              "&lt;/head&gt;\n",
              "&lt;body&gt;    \n",
              "    \n",
              "            &lt;div class=&quot;folium-map&quot; id=&quot;map_c7e1ee365e48e89803bade825392135d&quot; &gt;&lt;/div&gt;\n",
              "        \n",
              "&lt;/body&gt;\n",
              "&lt;script&gt;    \n",
              "    \n",
              "            var map_c7e1ee365e48e89803bade825392135d = L.map(\n",
              "                &quot;map_c7e1ee365e48e89803bade825392135d&quot;,\n",
              "                {\n",
              "                    center: [37.504811111562, 127.025492036104],\n",
              "                    crs: L.CRS.EPSG3857,\n",
              "                    zoom: 20,\n",
              "                    zoomControl: true,\n",
              "                    preferCanvas: false,\n",
              "                }\n",
              "            );\n",
              "\n",
              "            \n",
              "\n",
              "        \n",
              "    \n",
              "            var tile_layer_fff06bfb072f3a54da80d5de690875cc = L.tileLayer(\n",
              "                &quot;https://map.pstatic.net/nrb/styles/basic/1663918673/{z}/{x}/{y}@2x.png?mt=bg.ol.sw&quot;,\n",
              "                {&quot;attribution&quot;: &quot;Naver&quot;, &quot;detectRetina&quot;: false, &quot;maxNativeZoom&quot;: 18, &quot;maxZoom&quot;: 18, &quot;minZoom&quot;: 0, &quot;noWrap&quot;: false, &quot;opacity&quot;: 1, &quot;subdomains&quot;: &quot;abc&quot;, &quot;tms&quot;: false}\n",
              "            ).addTo(map_c7e1ee365e48e89803bade825392135d);\n",
              "        \n",
              "    \n",
              "            var marker_221206aa4c5a680aea5efc6b2a7abf01 = L.marker(\n",
              "                [37.504811111562, 127.025492036104],\n",
              "                {}\n",
              "            ).addTo(map_c7e1ee365e48e89803bade825392135d);\n",
              "        \n",
              "&lt;/script&gt;\" style=\"position:absolute;width:100%;height:100%;left:0;top:0;border:none !important;\" allowfullscreen webkitallowfullscreen mozallowfullscreen></iframe></div></div>"
            ]
          },
          "metadata": {},
          "execution_count": 14
        }
      ]
    },
    {
      "cell_type": "markdown",
      "source": [
        "위성지도(satellite)\n"
      ],
      "metadata": {
        "id": "x5ddUkKYpOhC"
      }
    },
    {
      "cell_type": "code",
      "source": [
        "# 네이버지도 타일 설정\n",
        "tiles = \"https://map.pstatic.net/nrb/styles/satellite/1663918673/{z}/{x}/{y}@2x.png?mt=bg.ol.sw\"\n",
        "# 속성 설정\n",
        "attr = \"Naver\"\n",
        "# 지도 객체 생성\n",
        "m = folium.Map(location = [lat, lon],\n",
        "               zoom_start = zoom_size,\n",
        "               tiles = tiles,\n",
        "               attr = attr)\n",
        "folium.Marker(location = [lat, lon]).add_to(m)\n",
        "m"
      ],
      "metadata": {
        "id": "VBrf6kjspOHB"
      },
      "execution_count": null,
      "outputs": []
    },
    {
      "cell_type": "markdown",
      "source": [
        "지형도(terrain)"
      ],
      "metadata": {
        "id": "J7idV2alpTcQ"
      }
    },
    {
      "cell_type": "code",
      "source": [
        "# 네이버지도 타일 설정\n",
        "tiles = \"https://map.pstatic.net/nrb/styles/terrain/1663918673/{z}/{x}/{y}@2x.png?mt=bg.ol.sw\"\n",
        "# 속성 설정\n",
        "attr = \"Naver\"\n",
        "# 지도 객체 생성\n",
        "m = folium.Map(location = [lat, lon],\n",
        "               zoom_start = zoom_size,\n",
        "               tiles = tiles,\n",
        "               attr = attr)\n",
        "folium.Marker(location = [lat, lon]).add_to(m)\n",
        "m\n"
      ],
      "metadata": {
        "colab": {
          "base_uri": "https://localhost:8080/",
          "height": 647
        },
        "id": "6BBcSeaQpV7s",
        "outputId": "9cacd163-6f92-4f3b-9444-206ba3863618"
      },
      "execution_count": 17,
      "outputs": [
        {
          "output_type": "execute_result",
          "data": {
            "text/plain": [
              "<folium.folium.Map at 0x7fe6c46c8190>"
            ],
            "text/html": [
              "<div style=\"width:100%;\"><div style=\"position:relative;width:100%;height:0;padding-bottom:60%;\"><span style=\"color:#565656\">Make this Notebook Trusted to load map: File -> Trust Notebook</span><iframe srcdoc=\"&lt;!DOCTYPE html&gt;\n",
              "&lt;head&gt;    \n",
              "    &lt;meta http-equiv=&quot;content-type&quot; content=&quot;text/html; charset=UTF-8&quot; /&gt;\n",
              "    \n",
              "        &lt;script&gt;\n",
              "            L_NO_TOUCH = false;\n",
              "            L_DISABLE_3D = false;\n",
              "        &lt;/script&gt;\n",
              "    \n",
              "    &lt;style&gt;html, body {width: 100%;height: 100%;margin: 0;padding: 0;}&lt;/style&gt;\n",
              "    &lt;style&gt;#map {position:absolute;top:0;bottom:0;right:0;left:0;}&lt;/style&gt;\n",
              "    &lt;script src=&quot;https://cdn.jsdelivr.net/npm/leaflet@1.6.0/dist/leaflet.js&quot;&gt;&lt;/script&gt;\n",
              "    &lt;script src=&quot;https://code.jquery.com/jquery-1.12.4.min.js&quot;&gt;&lt;/script&gt;\n",
              "    &lt;script src=&quot;https://maxcdn.bootstrapcdn.com/bootstrap/3.2.0/js/bootstrap.min.js&quot;&gt;&lt;/script&gt;\n",
              "    &lt;script src=&quot;https://cdnjs.cloudflare.com/ajax/libs/Leaflet.awesome-markers/2.0.2/leaflet.awesome-markers.js&quot;&gt;&lt;/script&gt;\n",
              "    &lt;link rel=&quot;stylesheet&quot; href=&quot;https://cdn.jsdelivr.net/npm/leaflet@1.6.0/dist/leaflet.css&quot;/&gt;\n",
              "    &lt;link rel=&quot;stylesheet&quot; href=&quot;https://maxcdn.bootstrapcdn.com/bootstrap/3.2.0/css/bootstrap.min.css&quot;/&gt;\n",
              "    &lt;link rel=&quot;stylesheet&quot; href=&quot;https://maxcdn.bootstrapcdn.com/bootstrap/3.2.0/css/bootstrap-theme.min.css&quot;/&gt;\n",
              "    &lt;link rel=&quot;stylesheet&quot; href=&quot;https://maxcdn.bootstrapcdn.com/font-awesome/4.6.3/css/font-awesome.min.css&quot;/&gt;\n",
              "    &lt;link rel=&quot;stylesheet&quot; href=&quot;https://cdnjs.cloudflare.com/ajax/libs/Leaflet.awesome-markers/2.0.2/leaflet.awesome-markers.css&quot;/&gt;\n",
              "    &lt;link rel=&quot;stylesheet&quot; href=&quot;https://cdn.jsdelivr.net/gh/python-visualization/folium/folium/templates/leaflet.awesome.rotate.min.css&quot;/&gt;\n",
              "    \n",
              "            &lt;meta name=&quot;viewport&quot; content=&quot;width=device-width,\n",
              "                initial-scale=1.0, maximum-scale=1.0, user-scalable=no&quot; /&gt;\n",
              "            &lt;style&gt;\n",
              "                #map_33c46c7942822d713a60f371a872947c {\n",
              "                    position: relative;\n",
              "                    width: 100.0%;\n",
              "                    height: 100.0%;\n",
              "                    left: 0.0%;\n",
              "                    top: 0.0%;\n",
              "                }\n",
              "            &lt;/style&gt;\n",
              "        \n",
              "&lt;/head&gt;\n",
              "&lt;body&gt;    \n",
              "    \n",
              "            &lt;div class=&quot;folium-map&quot; id=&quot;map_33c46c7942822d713a60f371a872947c&quot; &gt;&lt;/div&gt;\n",
              "        \n",
              "&lt;/body&gt;\n",
              "&lt;script&gt;    \n",
              "    \n",
              "            var map_33c46c7942822d713a60f371a872947c = L.map(\n",
              "                &quot;map_33c46c7942822d713a60f371a872947c&quot;,\n",
              "                {\n",
              "                    center: [37.504811111562, 127.025492036104],\n",
              "                    crs: L.CRS.EPSG3857,\n",
              "                    zoom: 20,\n",
              "                    zoomControl: true,\n",
              "                    preferCanvas: false,\n",
              "                }\n",
              "            );\n",
              "\n",
              "            \n",
              "\n",
              "        \n",
              "    \n",
              "            var tile_layer_58c19eacd1a4c443889f89e6de744fb8 = L.tileLayer(\n",
              "                &quot;https://map.pstatic.net/nrb/styles/terrain/1663918673/{z}/{x}/{y}@2x.png?mt=bg.ol.sw&quot;,\n",
              "                {&quot;attribution&quot;: &quot;Naver&quot;, &quot;detectRetina&quot;: false, &quot;maxNativeZoom&quot;: 18, &quot;maxZoom&quot;: 18, &quot;minZoom&quot;: 0, &quot;noWrap&quot;: false, &quot;opacity&quot;: 1, &quot;subdomains&quot;: &quot;abc&quot;, &quot;tms&quot;: false}\n",
              "            ).addTo(map_33c46c7942822d713a60f371a872947c);\n",
              "        \n",
              "    \n",
              "            var marker_4c9f01f72321fe791e28a5e124fea619 = L.marker(\n",
              "                [37.504811111562, 127.025492036104],\n",
              "                {}\n",
              "            ).addTo(map_33c46c7942822d713a60f371a872947c);\n",
              "        \n",
              "&lt;/script&gt;\" style=\"position:absolute;width:100%;height:100%;left:0;top:0;border:none !important;\" allowfullscreen webkitallowfullscreen mozallowfullscreen></iframe></div></div>"
            ]
          },
          "metadata": {},
          "execution_count": 17
        }
      ]
    },
    {
      "cell_type": "markdown",
      "source": [
        "지적편집도(cadastral)"
      ],
      "metadata": {
        "id": "6tZyTdRgpYWk"
      }
    },
    {
      "cell_type": "code",
      "source": [
        "# 네이버지도 타일 설정\n",
        "tiles = \"https://map.pstatic.net/nrb/styles/basic/1663918673/{z}/{x}/{y}@2x.png?mt=bg.ol.sw.lp\"\n",
        "# 속성 설정\n",
        "attr = \"Naver\"\n",
        "# 지도 객체 생성\n",
        "m = folium.Map(location = [lat, lon],\n",
        "               zoom_start = zoom_size,\n",
        "               tiles = tiles,\n",
        "               attr = attr)\n",
        "folium.Marker(location = [lat, lon]).add_to(m)\n",
        "m"
      ],
      "metadata": {
        "id": "OzWg-MHypYub"
      },
      "execution_count": null,
      "outputs": []
    },
    {
      "cell_type": "markdown",
      "source": [
        "VWORLD"
      ],
      "metadata": {
        "id": "40Z0xMfxq0HS"
      }
    },
    {
      "cell_type": "code",
      "source": [
        "vworld_key=\"VWORLD 인증키\"\n",
        "mport folium\n",
        "import requests\n",
        "from config import vworld_key\n",
        "\n",
        "print(f\"Folium Version: {folium.__version__}\")"
      ],
      "metadata": {
        "id": "CZlFHLb4q0pj"
      },
      "execution_count": null,
      "outputs": []
    },
    {
      "cell_type": "code",
      "source": [
        "# 지도 중심 경위도 좌표(위도, 경도) 설정하기\n",
        "lat, lon = 37.504811111562, 127.025492036104\n",
        "# 줌 설정하기\n",
        "zoom_size = 18\n",
        "\n",
        "# folium 지도 생성하기\n",
        "m = folium.Map(\n",
        "    location=[lat, lon],\n",
        "    zoom_start=zoom_size\n",
        ")\n",
        "\n",
        "m"
      ],
      "metadata": {
        "id": "QSxuxHRvrt0G"
      },
      "execution_count": null,
      "outputs": []
    },
    {
      "cell_type": "code",
      "source": [
        "def get_data(key, pnuCode):\n",
        "    \"\"\"\n",
        "    연속지적도\n",
        "\n",
        "    종류: 2D 데이터API 2.0\n",
        "    분류: 토지\n",
        "    서비스명: 연속지적도\n",
        "    서비스ID: LP_PA_CBND_BUBUN\n",
        "    제공처: 국토교통부\n",
        "    버전: 1.0\n",
        "    - key: Vworld Open API 인증키\n",
        "    - pnuCode: PNU코드 19자리\n",
        "    \"\"\"\n",
        "    # 엔드포인트\n",
        "    endpoint = \"http://api.vworld.kr/req/data\"\n",
        "\n",
        "    # 요청 파라미터\n",
        "    service = \"data\"\n",
        "    request = \"GetFeature\"\n",
        "    data = \"LP_PA_CBND_BUBUN\"\n",
        "    page = 1\n",
        "    size = 1000\n",
        "    attrFilter = f\"pnu:=:{pnuCode}\"\n",
        "\n",
        "    # 요청 URL\n",
        "    url = f\"{endpoint}?service={service}&request={request}&data={data}&key={key}&attrFilter={attrFilter}&page={page}&size={size}\"\n",
        "    # 요청 결과\n",
        "    res = json.loads(requests.get(url).text)\n",
        "    # GeoJson 생성\n",
        "    featureCollection = res[\"response\"][\"result\"][\"featureCollection\"]\n",
        "\n",
        "    return featureCollection"
      ],
      "metadata": {
        "id": "-KJOAJsxrl3D"
      },
      "execution_count": null,
      "outputs": []
    },
    {
      "cell_type": "code",
      "source": [
        "# PNU코드 설정하기 (신논현역 부근에 있는 808타워의 PNU코드)\n",
        "pnuCode = \"1168010100108080000\"\n",
        "\n",
        "# GeoJson 데이터 생성\n",
        "geo = get_data(vworld_key, pnuCode)\n",
        "geo"
      ],
      "metadata": {
        "id": "C-CFz3ILrsFq"
      },
      "execution_count": null,
      "outputs": []
    },
    {
      "cell_type": "code",
      "source": [
        "# GeoJson 레이어 추가하기\n",
        "folium.GeoJson(data=geo,\n",
        "               name=\"geojson\",\n",
        "               tooltip=folium.GeoJsonTooltip(fields=('pnu', 'addr'),\n",
        "                                             aliases=('PNU코드', '주소'))\n",
        "               ).add_to(m)\n",
        "\n",
        "m"
      ],
      "metadata": {
        "id": "a21kcmNerzIx"
      },
      "execution_count": null,
      "outputs": []
    },
    {
      "cell_type": "markdown",
      "source": [
        "네이버 정적지도"
      ],
      "metadata": {
        "id": "zM6NzgE5r_67"
      }
    },
    {
      "cell_type": "code",
      "source": [
        "from PIL import Image\n",
        "import requests\n",
        "import io\n",
        "\n",
        "# NCP 콘솔에서 복사한 클라이언트ID와 클라이언트Secret 값\n",
        "client_id = \"\"\n",
        "client_secret = \"\"\n",
        "\n",
        "# 좌표 (경도, 위도)\n",
        "endpoint = \"https://naveropenapi.apigw.ntruss.com/map-static/v2/raster\"\n",
        "headers = {\n",
        "    \"X-NCP-APIGW-API-KEY-ID\": client_id,\n",
        "    \"X-NCP-APIGW-API-KEY\": client_secret,\n",
        "}\n",
        "# 중심 좌표\n",
        "lon, lat = \"127.020326886309\", \"37.5164324582415\"\n",
        "_center = f\"{lon},{lat}\"\n",
        "# 줌 레벨 - 0 ~ 20\n",
        "_level = 16\n",
        "# 가로 세로 크기 (픽셀)\n",
        "_w, _h = 500, 300\n",
        "# 지도 유형 - basic, traffic, satellite, satellite_base, terrain\n",
        "_maptype = \"satellite\"\n",
        "# 반환 이미지 형식 - jpg, jpeg, png8, png\n",
        "_format = \"png\"\n",
        "# 고해상도 디스펠레이 지원을 위한 옵션 - 1, 2\n",
        "_scale = 1\n",
        "# 마커\n",
        "_markers = f\"\"\"type:d|size:mid|pos:{lon} {lat}|color:red\"\"\"\n",
        "# 라벨 언어 설정 - ko, en, ja, zh\n",
        "_lang = \"ko\"\n",
        "# 대중교통 정보 노출 - Boolean\n",
        "_public_transit = True\n",
        "# 서비스에서 사용할 데이터 버전 파라미터 전달 CDN 캐시 무효화\n",
        "_dataversion = \"\"\n",
        "\n",
        "# URL\n",
        "url = f\"{endpoint}?center={_center}&level={_level}&w={_w}&h={_h}&maptype={_maptype}&format={_format}&scale={_scale}&markers={_markers}&lang={_lang}&public_transit={_public_transit}&dataversion={_dataversion}\"\n",
        "res = requests.get(url, headers=headers)\n",
        "\n",
        "image_data = io.BytesIO(res.content)\n",
        "image = Image.open(image_data)\n",
        "image"
      ],
      "metadata": {
        "colab": {
          "base_uri": "https://localhost:8080/",
          "height": 347
        },
        "id": "0BQk1Tu0sCOF",
        "outputId": "bc5f4975-0352-4bd1-90be-1ddb7b99af66"
      },
      "execution_count": 1,
      "outputs": [
        {
          "output_type": "error",
          "ename": "UnidentifiedImageError",
          "evalue": "ignored",
          "traceback": [
            "\u001b[0;31m---------------------------------------------------------------------------\u001b[0m",
            "\u001b[0;31mUnidentifiedImageError\u001b[0m                    Traceback (most recent call last)",
            "\u001b[0;32m<ipython-input-1-106983703587>\u001b[0m in \u001b[0;36m<module>\u001b[0;34m\u001b[0m\n\u001b[1;32m     40\u001b[0m \u001b[0;34m\u001b[0m\u001b[0m\n\u001b[1;32m     41\u001b[0m \u001b[0mimage_data\u001b[0m \u001b[0;34m=\u001b[0m \u001b[0mio\u001b[0m\u001b[0;34m.\u001b[0m\u001b[0mBytesIO\u001b[0m\u001b[0;34m(\u001b[0m\u001b[0mres\u001b[0m\u001b[0;34m.\u001b[0m\u001b[0mcontent\u001b[0m\u001b[0;34m)\u001b[0m\u001b[0;34m\u001b[0m\u001b[0;34m\u001b[0m\u001b[0m\n\u001b[0;32m---> 42\u001b[0;31m \u001b[0mimage\u001b[0m \u001b[0;34m=\u001b[0m \u001b[0mImage\u001b[0m\u001b[0;34m.\u001b[0m\u001b[0mopen\u001b[0m\u001b[0;34m(\u001b[0m\u001b[0mimage_data\u001b[0m\u001b[0;34m)\u001b[0m\u001b[0;34m\u001b[0m\u001b[0;34m\u001b[0m\u001b[0m\n\u001b[0m\u001b[1;32m     43\u001b[0m \u001b[0mimage\u001b[0m\u001b[0;34m\u001b[0m\u001b[0;34m\u001b[0m\u001b[0m\n",
            "\u001b[0;32m/usr/local/lib/python3.7/dist-packages/PIL/Image.py\u001b[0m in \u001b[0;36mopen\u001b[0;34m(fp, mode)\u001b[0m\n\u001b[1;32m   2894\u001b[0m         \u001b[0mwarnings\u001b[0m\u001b[0;34m.\u001b[0m\u001b[0mwarn\u001b[0m\u001b[0;34m(\u001b[0m\u001b[0mmessage\u001b[0m\u001b[0;34m)\u001b[0m\u001b[0;34m\u001b[0m\u001b[0;34m\u001b[0m\u001b[0m\n\u001b[1;32m   2895\u001b[0m     raise UnidentifiedImageError(\n\u001b[0;32m-> 2896\u001b[0;31m         \u001b[0;34m\"cannot identify image file %r\"\u001b[0m \u001b[0;34m%\u001b[0m \u001b[0;34m(\u001b[0m\u001b[0mfilename\u001b[0m \u001b[0;32mif\u001b[0m \u001b[0mfilename\u001b[0m \u001b[0;32melse\u001b[0m \u001b[0mfp\u001b[0m\u001b[0;34m)\u001b[0m\u001b[0;34m\u001b[0m\u001b[0;34m\u001b[0m\u001b[0m\n\u001b[0m\u001b[1;32m   2897\u001b[0m     )\n\u001b[1;32m   2898\u001b[0m \u001b[0;34m\u001b[0m\u001b[0m\n",
            "\u001b[0;31mUnidentifiedImageError\u001b[0m: cannot identify image file <_io.BytesIO object at 0x7f75124fb830>"
          ]
        }
      ]
    }
  ]
}